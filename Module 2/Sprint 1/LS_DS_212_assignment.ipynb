{
  "cells": [
    {
      "cell_type": "markdown",
      "metadata": {
        "id": "7Myo351Pwm6_"
      },
      "source": [
        "BloomTech Data Science\n",
        "\n",
        "*Unit 2, Sprint 1, Module 2*\n",
        "\n",
        "---"
      ]
    },
    {
      "cell_type": "code",
      "execution_count": 1,
      "metadata": {
        "id": "vT_5yjFHwm7C"
      },
      "outputs": [],
      "source": [
        "%%capture\n",
        "import sys\n",
        "\n",
        "# If you're on Colab:\n",
        "if 'google.colab' in sys.modules:\n",
        "    DATA_PATH = 'https://raw.githubusercontent.com/LambdaSchool/DS-Unit-2-Applied-Modeling/master/data/'\n",
        "\n",
        "# If you're working locally:\n",
        "else:\n",
        "    DATA_PATH = '../data/'"
      ]
    },
    {
      "cell_type": "markdown",
      "metadata": {
        "id": "JIddHbHjwm7D"
      },
      "source": [
        "# Module Project: Regression II\n",
        "\n",
        "In this project, you'll continue working with the New York City rent dataset you used in the last module project.\n",
        "\n",
        "## Directions\n",
        "\n",
        "The tasks for this project are as follows:\n",
        "\n",
        "- **Task 1:** Import `csv` file using `wrangle` function.\n",
        "- **Task 2:** Conduct exploratory data analysis (EDA), and modify `wrangle` function to engineer two new features.\n",
        "- **Task 3:** Split data into feature matrix `X` and target vector `y`.\n",
        "- **Task 4:** Split feature matrix `X` and target vector `y` into training and test sets.\n",
        "- **Task 5:** Establish the baseline mean absolute error for your dataset.\n",
        "- **Task 6:** Build and train a `Linearregression` model.\n",
        "- **Task 7:** Calculate the training and test mean absolute error for your model.\n",
        "- **Task 8:** Calculate the training and test $R^2$ score for your model.\n",
        "- **Stretch Goal:** Determine the three most important features for your linear regression model.\n",
        "\n",
        "**Note**\n",
        "\n",
        "You should limit yourself to the following libraries for this project:\n",
        "\n",
        "- `matplotlib`\n",
        "- `numpy`\n",
        "- `pandas`\n",
        "- `sklearn`"
      ]
    },
    {
      "cell_type": "markdown",
      "metadata": {
        "id": "Tn1kXC_Twm7E"
      },
      "source": [
        "# I. Wrangle Data"
      ]
    },
    {
      "cell_type": "code",
      "execution_count": 2,
      "metadata": {
        "id": "09Y5wgLhwm7E"
      },
      "outputs": [],
      "source": [
        "import pandas as pd\n",
        "import numpy as np\n",
        "from sklearn.linear_model import LinearRegression \n",
        "import matplotlib.pyplot as plt\n",
        "\n",
        "\n",
        "def wrangle(filepath):\n",
        "    df = pd.read_csv(filepath, index_col='created',parse_dates=['created'])\n",
        "    \n",
        "    # Remove the most extreme 1% prices,\n",
        "    # the most extreme .1% latitudes, &\n",
        "    # the most extreme .1% longitudes\n",
        "    df = df[(df['price'] >= np.percentile(df['price'], 0.5)) & \n",
        "            (df['price'] <= np.percentile(df['price'], 99.5)) & \n",
        "            (df['latitude'] >= np.percentile(df['latitude'], 0.05)) & \n",
        "            (df['latitude'] < np.percentile(df['latitude'], 99.95)) &\n",
        "            (df['longitude'] >= np.percentile(df['longitude'], 0.05)) & \n",
        "            (df['longitude'] <= np.percentile(df['longitude'], 99.95))]\n",
        "    \n",
        "    df.dropna(inplace=True)\n",
        "    df.drop(columns=['description','display_address','interest_level','street_address'],inplace=True)\n",
        "  \n",
        "    return df\n",
        "\n",
        "filepath = DATA_PATH + 'apartments/renthop-nyc.csv'\n",
        "df = wrangle(filepath)\n"
      ]
    },
    {
      "cell_type": "code",
      "source": [
        "df.head()"
      ],
      "metadata": {
        "colab": {
          "base_uri": "https://localhost:8080/",
          "height": 504
        },
        "id": "krWEBvC01_pX",
        "outputId": "ab6d6088-233a-400b-89a0-409ccedf2bf8"
      },
      "execution_count": 3,
      "outputs": [
        {
          "output_type": "execute_result",
          "data": {
            "text/plain": [
              "                     bathrooms  bedrooms  latitude  longitude  price  \\\n",
              "created                                                                \n",
              "2016-06-24 07:54:24        1.5         3   40.7145   -73.9425   3000   \n",
              "2016-06-12 12:19:27        1.0         2   40.7947   -73.9667   5465   \n",
              "2016-04-17 03:26:41        1.0         1   40.7388   -74.0018   2850   \n",
              "2016-04-18 02:22:02        1.0         1   40.7539   -73.9677   3275   \n",
              "2016-04-28 01:32:41        1.0         4   40.8241   -73.9493   3350   \n",
              "\n",
              "                     elevator  cats_allowed  hardwood_floors  dogs_allowed  \\\n",
              "created                                                                      \n",
              "2016-06-24 07:54:24         0             0                0             0   \n",
              "2016-06-12 12:19:27         1             1                0             1   \n",
              "2016-04-17 03:26:41         0             0                1             0   \n",
              "2016-04-18 02:22:02         0             0                1             0   \n",
              "2016-04-28 01:32:41         0             0                0             0   \n",
              "\n",
              "                     doorman  ...  high_speed_internet  balcony  \\\n",
              "created                       ...                                 \n",
              "2016-06-24 07:54:24        0  ...                    0        0   \n",
              "2016-06-12 12:19:27        1  ...                    0        0   \n",
              "2016-04-17 03:26:41        0  ...                    0        0   \n",
              "2016-04-18 02:22:02        0  ...                    0        0   \n",
              "2016-04-28 01:32:41        0  ...                    0        0   \n",
              "\n",
              "                     swimming_pool  new_construction  terrace  exclusive  \\\n",
              "created                                                                    \n",
              "2016-06-24 07:54:24              0                 0        0          0   \n",
              "2016-06-12 12:19:27              0                 0        0          0   \n",
              "2016-04-17 03:26:41              0                 0        0          0   \n",
              "2016-04-18 02:22:02              0                 0        0          0   \n",
              "2016-04-28 01:32:41              0                 0        0          0   \n",
              "\n",
              "                     loft  garden_patio  wheelchair_access  \\\n",
              "created                                                      \n",
              "2016-06-24 07:54:24     0             0                  0   \n",
              "2016-06-12 12:19:27     0             0                  0   \n",
              "2016-04-17 03:26:41     0             0                  0   \n",
              "2016-04-18 02:22:02     0             0                  0   \n",
              "2016-04-28 01:32:41     0             0                  0   \n",
              "\n",
              "                     common_outdoor_space  \n",
              "created                                    \n",
              "2016-06-24 07:54:24                     0  \n",
              "2016-06-12 12:19:27                     0  \n",
              "2016-04-17 03:26:41                     0  \n",
              "2016-04-18 02:22:02                     0  \n",
              "2016-04-28 01:32:41                     0  \n",
              "\n",
              "[5 rows x 29 columns]"
            ],
            "text/html": [
              "\n",
              "  <div id=\"df-f255a55f-203e-4828-a69d-027e1196edbe\">\n",
              "    <div class=\"colab-df-container\">\n",
              "      <div>\n",
              "<style scoped>\n",
              "    .dataframe tbody tr th:only-of-type {\n",
              "        vertical-align: middle;\n",
              "    }\n",
              "\n",
              "    .dataframe tbody tr th {\n",
              "        vertical-align: top;\n",
              "    }\n",
              "\n",
              "    .dataframe thead th {\n",
              "        text-align: right;\n",
              "    }\n",
              "</style>\n",
              "<table border=\"1\" class=\"dataframe\">\n",
              "  <thead>\n",
              "    <tr style=\"text-align: right;\">\n",
              "      <th></th>\n",
              "      <th>bathrooms</th>\n",
              "      <th>bedrooms</th>\n",
              "      <th>latitude</th>\n",
              "      <th>longitude</th>\n",
              "      <th>price</th>\n",
              "      <th>elevator</th>\n",
              "      <th>cats_allowed</th>\n",
              "      <th>hardwood_floors</th>\n",
              "      <th>dogs_allowed</th>\n",
              "      <th>doorman</th>\n",
              "      <th>...</th>\n",
              "      <th>high_speed_internet</th>\n",
              "      <th>balcony</th>\n",
              "      <th>swimming_pool</th>\n",
              "      <th>new_construction</th>\n",
              "      <th>terrace</th>\n",
              "      <th>exclusive</th>\n",
              "      <th>loft</th>\n",
              "      <th>garden_patio</th>\n",
              "      <th>wheelchair_access</th>\n",
              "      <th>common_outdoor_space</th>\n",
              "    </tr>\n",
              "    <tr>\n",
              "      <th>created</th>\n",
              "      <th></th>\n",
              "      <th></th>\n",
              "      <th></th>\n",
              "      <th></th>\n",
              "      <th></th>\n",
              "      <th></th>\n",
              "      <th></th>\n",
              "      <th></th>\n",
              "      <th></th>\n",
              "      <th></th>\n",
              "      <th></th>\n",
              "      <th></th>\n",
              "      <th></th>\n",
              "      <th></th>\n",
              "      <th></th>\n",
              "      <th></th>\n",
              "      <th></th>\n",
              "      <th></th>\n",
              "      <th></th>\n",
              "      <th></th>\n",
              "      <th></th>\n",
              "    </tr>\n",
              "  </thead>\n",
              "  <tbody>\n",
              "    <tr>\n",
              "      <th>2016-06-24 07:54:24</th>\n",
              "      <td>1.5</td>\n",
              "      <td>3</td>\n",
              "      <td>40.7145</td>\n",
              "      <td>-73.9425</td>\n",
              "      <td>3000</td>\n",
              "      <td>0</td>\n",
              "      <td>0</td>\n",
              "      <td>0</td>\n",
              "      <td>0</td>\n",
              "      <td>0</td>\n",
              "      <td>...</td>\n",
              "      <td>0</td>\n",
              "      <td>0</td>\n",
              "      <td>0</td>\n",
              "      <td>0</td>\n",
              "      <td>0</td>\n",
              "      <td>0</td>\n",
              "      <td>0</td>\n",
              "      <td>0</td>\n",
              "      <td>0</td>\n",
              "      <td>0</td>\n",
              "    </tr>\n",
              "    <tr>\n",
              "      <th>2016-06-12 12:19:27</th>\n",
              "      <td>1.0</td>\n",
              "      <td>2</td>\n",
              "      <td>40.7947</td>\n",
              "      <td>-73.9667</td>\n",
              "      <td>5465</td>\n",
              "      <td>1</td>\n",
              "      <td>1</td>\n",
              "      <td>0</td>\n",
              "      <td>1</td>\n",
              "      <td>1</td>\n",
              "      <td>...</td>\n",
              "      <td>0</td>\n",
              "      <td>0</td>\n",
              "      <td>0</td>\n",
              "      <td>0</td>\n",
              "      <td>0</td>\n",
              "      <td>0</td>\n",
              "      <td>0</td>\n",
              "      <td>0</td>\n",
              "      <td>0</td>\n",
              "      <td>0</td>\n",
              "    </tr>\n",
              "    <tr>\n",
              "      <th>2016-04-17 03:26:41</th>\n",
              "      <td>1.0</td>\n",
              "      <td>1</td>\n",
              "      <td>40.7388</td>\n",
              "      <td>-74.0018</td>\n",
              "      <td>2850</td>\n",
              "      <td>0</td>\n",
              "      <td>0</td>\n",
              "      <td>1</td>\n",
              "      <td>0</td>\n",
              "      <td>0</td>\n",
              "      <td>...</td>\n",
              "      <td>0</td>\n",
              "      <td>0</td>\n",
              "      <td>0</td>\n",
              "      <td>0</td>\n",
              "      <td>0</td>\n",
              "      <td>0</td>\n",
              "      <td>0</td>\n",
              "      <td>0</td>\n",
              "      <td>0</td>\n",
              "      <td>0</td>\n",
              "    </tr>\n",
              "    <tr>\n",
              "      <th>2016-04-18 02:22:02</th>\n",
              "      <td>1.0</td>\n",
              "      <td>1</td>\n",
              "      <td>40.7539</td>\n",
              "      <td>-73.9677</td>\n",
              "      <td>3275</td>\n",
              "      <td>0</td>\n",
              "      <td>0</td>\n",
              "      <td>1</td>\n",
              "      <td>0</td>\n",
              "      <td>0</td>\n",
              "      <td>...</td>\n",
              "      <td>0</td>\n",
              "      <td>0</td>\n",
              "      <td>0</td>\n",
              "      <td>0</td>\n",
              "      <td>0</td>\n",
              "      <td>0</td>\n",
              "      <td>0</td>\n",
              "      <td>0</td>\n",
              "      <td>0</td>\n",
              "      <td>0</td>\n",
              "    </tr>\n",
              "    <tr>\n",
              "      <th>2016-04-28 01:32:41</th>\n",
              "      <td>1.0</td>\n",
              "      <td>4</td>\n",
              "      <td>40.8241</td>\n",
              "      <td>-73.9493</td>\n",
              "      <td>3350</td>\n",
              "      <td>0</td>\n",
              "      <td>0</td>\n",
              "      <td>0</td>\n",
              "      <td>0</td>\n",
              "      <td>0</td>\n",
              "      <td>...</td>\n",
              "      <td>0</td>\n",
              "      <td>0</td>\n",
              "      <td>0</td>\n",
              "      <td>0</td>\n",
              "      <td>0</td>\n",
              "      <td>0</td>\n",
              "      <td>0</td>\n",
              "      <td>0</td>\n",
              "      <td>0</td>\n",
              "      <td>0</td>\n",
              "    </tr>\n",
              "  </tbody>\n",
              "</table>\n",
              "<p>5 rows × 29 columns</p>\n",
              "</div>\n",
              "      <button class=\"colab-df-convert\" onclick=\"convertToInteractive('df-f255a55f-203e-4828-a69d-027e1196edbe')\"\n",
              "              title=\"Convert this dataframe to an interactive table.\"\n",
              "              style=\"display:none;\">\n",
              "        \n",
              "  <svg xmlns=\"http://www.w3.org/2000/svg\" height=\"24px\"viewBox=\"0 0 24 24\"\n",
              "       width=\"24px\">\n",
              "    <path d=\"M0 0h24v24H0V0z\" fill=\"none\"/>\n",
              "    <path d=\"M18.56 5.44l.94 2.06.94-2.06 2.06-.94-2.06-.94-.94-2.06-.94 2.06-2.06.94zm-11 1L8.5 8.5l.94-2.06 2.06-.94-2.06-.94L8.5 2.5l-.94 2.06-2.06.94zm10 10l.94 2.06.94-2.06 2.06-.94-2.06-.94-.94-2.06-.94 2.06-2.06.94z\"/><path d=\"M17.41 7.96l-1.37-1.37c-.4-.4-.92-.59-1.43-.59-.52 0-1.04.2-1.43.59L10.3 9.45l-7.72 7.72c-.78.78-.78 2.05 0 2.83L4 21.41c.39.39.9.59 1.41.59.51 0 1.02-.2 1.41-.59l7.78-7.78 2.81-2.81c.8-.78.8-2.07 0-2.86zM5.41 20L4 18.59l7.72-7.72 1.47 1.35L5.41 20z\"/>\n",
              "  </svg>\n",
              "      </button>\n",
              "      \n",
              "  <style>\n",
              "    .colab-df-container {\n",
              "      display:flex;\n",
              "      flex-wrap:wrap;\n",
              "      gap: 12px;\n",
              "    }\n",
              "\n",
              "    .colab-df-convert {\n",
              "      background-color: #E8F0FE;\n",
              "      border: none;\n",
              "      border-radius: 50%;\n",
              "      cursor: pointer;\n",
              "      display: none;\n",
              "      fill: #1967D2;\n",
              "      height: 32px;\n",
              "      padding: 0 0 0 0;\n",
              "      width: 32px;\n",
              "    }\n",
              "\n",
              "    .colab-df-convert:hover {\n",
              "      background-color: #E2EBFA;\n",
              "      box-shadow: 0px 1px 2px rgba(60, 64, 67, 0.3), 0px 1px 3px 1px rgba(60, 64, 67, 0.15);\n",
              "      fill: #174EA6;\n",
              "    }\n",
              "\n",
              "    [theme=dark] .colab-df-convert {\n",
              "      background-color: #3B4455;\n",
              "      fill: #D2E3FC;\n",
              "    }\n",
              "\n",
              "    [theme=dark] .colab-df-convert:hover {\n",
              "      background-color: #434B5C;\n",
              "      box-shadow: 0px 1px 3px 1px rgba(0, 0, 0, 0.15);\n",
              "      filter: drop-shadow(0px 1px 2px rgba(0, 0, 0, 0.3));\n",
              "      fill: #FFFFFF;\n",
              "    }\n",
              "  </style>\n",
              "\n",
              "      <script>\n",
              "        const buttonEl =\n",
              "          document.querySelector('#df-f255a55f-203e-4828-a69d-027e1196edbe button.colab-df-convert');\n",
              "        buttonEl.style.display =\n",
              "          google.colab.kernel.accessAllowed ? 'block' : 'none';\n",
              "\n",
              "        async function convertToInteractive(key) {\n",
              "          const element = document.querySelector('#df-f255a55f-203e-4828-a69d-027e1196edbe');\n",
              "          const dataTable =\n",
              "            await google.colab.kernel.invokeFunction('convertToInteractive',\n",
              "                                                     [key], {});\n",
              "          if (!dataTable) return;\n",
              "\n",
              "          const docLinkHtml = 'Like what you see? Visit the ' +\n",
              "            '<a target=\"_blank\" href=https://colab.research.google.com/notebooks/data_table.ipynb>data table notebook</a>'\n",
              "            + ' to learn more about interactive tables.';\n",
              "          element.innerHTML = '';\n",
              "          dataTable['output_type'] = 'display_data';\n",
              "          await google.colab.output.renderOutput(dataTable, element);\n",
              "          const docLink = document.createElement('div');\n",
              "          docLink.innerHTML = docLinkHtml;\n",
              "          element.appendChild(docLink);\n",
              "        }\n",
              "      </script>\n",
              "    </div>\n",
              "  </div>\n",
              "  "
            ]
          },
          "metadata": {},
          "execution_count": 3
        }
      ]
    },
    {
      "cell_type": "markdown",
      "metadata": {
        "id": "XmhFjmhtwm7F"
      },
      "source": [
        "**Task 1:** Add the following functionality to the above `wrangle` function.\n",
        "\n",
        "- The `'created'` column will parsed as a `DateTime` object and set as the `index` of the DataFrame. \n",
        "- Rows with `NaN` values will be dropped.\n",
        "\n",
        "Then use your modified function to import the `renthop-nyc.csv` file into a DataFrame named `df`."
      ]
    },
    {
      "cell_type": "code",
      "execution_count": 3,
      "metadata": {
        "id": "GDMBQnSdwm7F"
      },
      "outputs": [],
      "source": []
    },
    {
      "cell_type": "markdown",
      "metadata": {
        "id": "HLQwFGbGwm7G"
      },
      "source": [
        "**Task 2:** Using your `pandas` and dataviz skills decide on two features that you want to engineer for your dataset. Next, modify your `wrangle` function to add those features. \n",
        "\n",
        "**Note:** You can learn more about feature engineering [here](https://en.wikipedia.org/wiki/Feature_engineering). Here are some ideas for new features:\n",
        "\n",
        "- Does the apartment have a description?\n",
        "- Length of description.\n",
        "- Total number of perks that apartment has.\n",
        "- Are cats _or_ dogs allowed?\n",
        "- Are cats _and_ dogs allowed?\n",
        "- Total number of rooms (beds + baths)."
      ]
    },
    {
      "cell_type": "code",
      "execution_count": 4,
      "metadata": {
        "colab": {
          "base_uri": "https://localhost:8080/"
        },
        "id": "qZ2dcmliwm7G",
        "outputId": "edf61a58-56be-480d-9ec2-2cf09a2b17be"
      },
      "outputs": [
        {
          "output_type": "stream",
          "name": "stdout",
          "text": [
            "<class 'pandas.core.frame.DataFrame'>\n",
            "DatetimeIndex: 47260 entries, 2016-06-24 07:54:24 to 2016-04-12 02:48:07\n",
            "Data columns (total 29 columns):\n",
            " #   Column                Non-Null Count  Dtype  \n",
            "---  ------                --------------  -----  \n",
            " 0   bathrooms             47260 non-null  float64\n",
            " 1   bedrooms              47260 non-null  int64  \n",
            " 2   latitude              47260 non-null  float64\n",
            " 3   longitude             47260 non-null  float64\n",
            " 4   price                 47260 non-null  int64  \n",
            " 5   elevator              47260 non-null  int64  \n",
            " 6   cats_allowed          47260 non-null  int64  \n",
            " 7   hardwood_floors       47260 non-null  int64  \n",
            " 8   dogs_allowed          47260 non-null  int64  \n",
            " 9   doorman               47260 non-null  int64  \n",
            " 10  dishwasher            47260 non-null  int64  \n",
            " 11  no_fee                47260 non-null  int64  \n",
            " 12  laundry_in_building   47260 non-null  int64  \n",
            " 13  fitness_center        47260 non-null  int64  \n",
            " 14  pre-war               47260 non-null  int64  \n",
            " 15  laundry_in_unit       47260 non-null  int64  \n",
            " 16  roof_deck             47260 non-null  int64  \n",
            " 17  outdoor_space         47260 non-null  int64  \n",
            " 18  dining_room           47260 non-null  int64  \n",
            " 19  high_speed_internet   47260 non-null  int64  \n",
            " 20  balcony               47260 non-null  int64  \n",
            " 21  swimming_pool         47260 non-null  int64  \n",
            " 22  new_construction      47260 non-null  int64  \n",
            " 23  terrace               47260 non-null  int64  \n",
            " 24  exclusive             47260 non-null  int64  \n",
            " 25  loft                  47260 non-null  int64  \n",
            " 26  garden_patio          47260 non-null  int64  \n",
            " 27  wheelchair_access     47260 non-null  int64  \n",
            " 28  common_outdoor_space  47260 non-null  int64  \n",
            "dtypes: float64(3), int64(26)\n",
            "memory usage: 10.8 MB\n"
          ]
        }
      ],
      "source": [
        "# Conduct your exploratory data analysis here, \n",
        "# and then modify the function above.\n",
        "df.info()"
      ]
    },
    {
      "cell_type": "markdown",
      "metadata": {
        "id": "WDhNiu1Fwm7H"
      },
      "source": [
        "# II. Split Data\n",
        "\n",
        "**Task 3:** Split your DataFrame `df` into a feature matrix `X` and the target vector `y`. You want to predict `'price'`.\n",
        "\n",
        "**Note:** In contrast to the last module project, this time you should include _all_ the numerical features in your dataset."
      ]
    },
    {
      "cell_type": "code",
      "execution_count": 5,
      "metadata": {
        "id": "HC45IQBpwm7H"
      },
      "outputs": [],
      "source": [
        "from sklearn.model_selection import train_test_split\n",
        "X = df.drop(columns='price')\n",
        "y = df['price']\n",
        "\n",
        "X_train, X_test, y_train, y_test = train_test_split(X, y, test_size=0.2,random_state=42)"
      ]
    },
    {
      "cell_type": "markdown",
      "metadata": {
        "id": "qUdJyAadwm7H"
      },
      "source": [
        "**Task 4:** Split `X` and `y` into a training set (`X_train`, `y_train`) and a test set (`X_test`, `y_test`).\n",
        "\n",
        "- Your training set should include data from April and May 2016. \n",
        "- Your test set should include data from June 2016."
      ]
    },
    {
      "cell_type": "code",
      "execution_count": 6,
      "metadata": {
        "colab": {
          "base_uri": "https://localhost:8080/"
        },
        "id": "RXXcBk53wm7H",
        "outputId": "4c705908-50af-4db0-f53b-e54006ba750e"
      },
      "outputs": [
        {
          "output_type": "stream",
          "name": "stderr",
          "text": [
            "<ipython-input-6-ff017be0a3bc>:1: FutureWarning: Value based partial slicing on non-monotonic DatetimeIndexes with non-existing keys is deprecated and will raise a KeyError in a future Version.\n",
            "  X1 = X.loc['2016-04-01' :'2016-05-31']\n",
            "<ipython-input-6-ff017be0a3bc>:2: FutureWarning: Value based partial slicing on non-monotonic DatetimeIndexes with non-existing keys is deprecated and will raise a KeyError in a future Version.\n",
            "  X2 = X.loc['2016-06-01' :'2016-06-30']\n"
          ]
        }
      ],
      "source": [
        "X1 = X.loc['2016-04-01' :'2016-05-31']\n",
        "X2 = X.loc['2016-06-01' :'2016-06-30']\n",
        "\n",
        "X_train = X.loc[X1.index]\n",
        "y_train = y.loc[X1.index]\n",
        "\n",
        "X_test = X.loc[X2.index]\n",
        "y_test= y.loc[X2.index]\n"
      ]
    },
    {
      "cell_type": "markdown",
      "metadata": {
        "id": "O1MKglLwwm7I"
      },
      "source": [
        "# III. Establish Baseline"
      ]
    },
    {
      "cell_type": "markdown",
      "metadata": {
        "id": "wj-toa5Awm7I"
      },
      "source": [
        "**Task 5:** Since this is a **regression** problem, you need to calculate the baseline mean absolute error for your model. First, calculate the mean of `y_train`. Next, create a list `y_pred` that has the same length as `y_train` and where every item in the list is the mean. Finally, use `mean_absolute_error` to calculate your baseline."
      ]
    },
    {
      "cell_type": "code",
      "execution_count": 7,
      "metadata": {
        "colab": {
          "base_uri": "https://localhost:8080/"
        },
        "id": "1Ef-_IIIwm7I",
        "outputId": "3ccffe0e-df6b-4de0-eab8-fbf4ad6a153b"
      },
      "outputs": [
        {
          "output_type": "stream",
          "name": "stdout",
          "text": [
            "Baseline MAE: 1201.7499219922447\n"
          ]
        }
      ],
      "source": [
        "from sklearn.metrics import mean_absolute_error,r2_score\n",
        "y_pred = [y_train.mean()] * len(y_train)\n",
        "\n",
        "baseline_mae = mean_absolute_error(y_pred,y_train)\n",
        "print('Baseline MAE:', baseline_mae)"
      ]
    },
    {
      "cell_type": "markdown",
      "metadata": {
        "id": "D5dN9Z-_wm7I"
      },
      "source": [
        "# IV. Build Model\n",
        "\n",
        "**Task 6:** Build and train a `LinearRegression` model named `model` using your feature matrix `X_train` and your target vector `y_train`."
      ]
    },
    {
      "cell_type": "code",
      "execution_count": 8,
      "metadata": {
        "colab": {
          "base_uri": "https://localhost:8080/"
        },
        "id": "CbAASUf4wm7J",
        "outputId": "bd32f49d-bebe-42a9-e81e-7c9ac5b1e6aa"
      },
      "outputs": [
        {
          "output_type": "execute_result",
          "data": {
            "text/plain": [
              "LinearRegression()"
            ]
          },
          "metadata": {},
          "execution_count": 8
        }
      ],
      "source": [
        "# Step 1: Import predictor class\n",
        "from sklearn.linear_model import LinearRegression\n",
        "\n",
        "# Step 2: Instantiate predictor\n",
        "model = LinearRegression()\n",
        "\n",
        "# Step 3: Fit predictor on the (training) data\n",
        "model.fit(X_train,y_train)"
      ]
    },
    {
      "cell_type": "markdown",
      "metadata": {
        "id": "JdeIQN-1wm7J"
      },
      "source": [
        "# V. Check Metrics\n",
        "\n",
        "**Task 7:** Calculate the training and test mean absolute error for your model."
      ]
    },
    {
      "cell_type": "code",
      "execution_count": 9,
      "metadata": {
        "colab": {
          "base_uri": "https://localhost:8080/"
        },
        "id": "LW6xR5jfwm7J",
        "outputId": "7677c5e7-67fd-43e7-de54-8d774a2598cc"
      },
      "outputs": [
        {
          "output_type": "stream",
          "name": "stdout",
          "text": [
            "Training MAE: 692.9344273335511\n",
            "Test MAE: 702.2777145237085\n"
          ]
        }
      ],
      "source": [
        "\n",
        "training_mae = mean_absolute_error(y_train,model.predict(X_train))\n",
        "test_mae = mean_absolute_error(y_test,model.predict(X_test))\n",
        "\n",
        "print('Training MAE:', training_mae)\n",
        "print('Test MAE:', test_mae)"
      ]
    },
    {
      "cell_type": "markdown",
      "metadata": {
        "id": "phggQ3kcwm7J"
      },
      "source": [
        "**Task 8:** Calculate the training and test $R^2$ score for your model."
      ]
    },
    {
      "cell_type": "code",
      "execution_count": 10,
      "metadata": {
        "colab": {
          "base_uri": "https://localhost:8080/"
        },
        "id": "LjJMwCqewm7K",
        "outputId": "7f1735c3-502b-4bca-e194-42098da3ba78"
      },
      "outputs": [
        {
          "output_type": "stream",
          "name": "stdout",
          "text": [
            "Training MAE: 0.6159135526009356\n",
            "Test MAE: 0.6256292346790475\n",
            "[  1760.20630895    476.66972659   1566.01101925 -13476.32161656\n",
            "    133.65952269    -35.93915221   -206.65925574     86.57669526\n",
            "    480.53801844     56.41204297   -164.90422608   -258.52000293\n",
            "    145.93483228    -67.75279146    500.85949888   -163.3700596\n",
            "   -115.01766891    247.33938121   -339.26212703    -49.84422886\n",
            "     64.45461867   -135.13857546    175.17399785    154.40478257\n",
            "    109.4957315     -40.39196444    172.37328051    -78.12220697]\n"
          ]
        }
      ],
      "source": [
        "training_r2 = r2_score(y_train,model.predict(X_train))\n",
        "test_r2 = r2_score(y_test,model.predict(X_test))\n",
        "\n",
        "print('Training MAE:', training_r2)\n",
        "print('Test MAE:', test_r2)\n",
        "print(model.coef_)"
      ]
    },
    {
      "cell_type": "markdown",
      "metadata": {
        "id": "-INQQWftwm7K"
      },
      "source": [
        "# VI. Communicate Results\n",
        "\n",
        "**Stretch Goal:** What are the three most influential coefficients in your linear model? You should consider the _absolute value_ of each coefficient, so that it doesn't matter if it's positive or negative."
      ]
    },
    {
      "cell_type": "markdown",
      "source": [
        "The most influencial coefficients are the number of bathrooms and the latitude/longitude"
      ],
      "metadata": {
        "id": "Oon8_rS9JI33"
      }
    }
  ],
  "metadata": {
    "colab": {
      "name": "LS_DS_212_assignment.ipynb",
      "provenance": []
    },
    "kernelspec": {
      "display_name": "Python 3",
      "language": "python",
      "name": "python3"
    },
    "language_info": {
      "codemirror_mode": {
        "name": "ipython",
        "version": 3
      },
      "file_extension": ".py",
      "mimetype": "text/x-python",
      "name": "python",
      "nbconvert_exporter": "python",
      "pygments_lexer": "ipython3",
      "version": "3.8.5"
    }
  },
  "nbformat": 4,
  "nbformat_minor": 0
}