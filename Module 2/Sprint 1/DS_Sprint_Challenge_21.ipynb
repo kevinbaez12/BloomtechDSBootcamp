{
  "cells": [
    {
      "cell_type": "markdown",
      "metadata": {
        "deletable": false,
        "editable": false,
        "id": "VZf2akBaMjq8",
        "nbgrader": {
          "cell_type": "markdown",
          "checksum": "2e5ac741411858b14b5651883f5f6fcd",
          "grade": false,
          "grade_id": "cell-39039e97c5ca497a",
          "locked": true,
          "schema_version": 3,
          "solution": false,
          "task": false
        }
      },
      "source": [
        "BloomTech Data Science\n",
        "\n",
        "*Unit 2, Sprint 1*\n",
        "\n",
        "---\n",
        "\n",
        "👇 **Do not change the code in this cell.** If you're working in Google Colab, you can run this cell to install `category_encoders`."
      ]
    },
    {
      "cell_type": "code",
      "execution_count": null,
      "metadata": {
        "deletable": false,
        "editable": false,
        "nbgrader": {
          "cell_type": "code",
          "checksum": "53464cc768e269c070c42bd152223bbc",
          "grade": false,
          "grade_id": "cell-99b74e54a46dec38",
          "locked": true,
          "schema_version": 3,
          "solution": false,
          "task": false
        },
        "id": "dLx0RIQElAwt"
      },
      "outputs": [],
      "source": [
        "%%capture\n",
        "# If you're in Colab...\n",
        "import sys\n",
        "if 'google.colab' in sys.modules:\n",
        "    !pip install category_encoders==2.*"
      ]
    },
    {
      "cell_type": "markdown",
      "metadata": {
        "deletable": false,
        "editable": false,
        "nbgrader": {
          "cell_type": "markdown",
          "checksum": "8ffcbfcc12357213a3be26710877c891",
          "grade": false,
          "grade_id": "cell-6c3b25a3a9ca2f0a",
          "locked": true,
          "schema_version": 3,
          "solution": false,
          "task": false
        },
        "id": "0pAiH6CSlAwt"
      },
      "source": [
        " \n",
        "# Sprint Challenge: Predicting Home Prices in Iowa 🏠\n",
        "\n",
        "The goal of this assignment is to build a regression model that can predict the sale price of a house in Aimes, Iowa.\n",
        "\n",
        "# Directions \n",
        "\n",
        "This notebook contains 12 tasks, which cover the material we've learned in this sprint. Here's a summary:\n",
        "\n",
        "- **Task 1:** Import training data.\n",
        "- **Task 2 (`stretch goal`):** Create scatter plot.\n",
        "- **Task 3:** Split data into feature matrix and target vector.\n",
        "- **Task 4:** Split data into training and validation sets.\n",
        "- **Task 5:** Establish baseline mean absolute error.\n",
        "- **Task 6:** Build and train linear regression model.\n",
        "- **Task 7:** Build and train ridge regression model.\n",
        "- **Task 8:** Calculate mean absolute error for training and validation sets.\n",
        "- **Task 9:** Calculate $R^2$ for validation set.\n",
        "- **Task 10:** Make predictions based on test set.\n",
        "- **Task 11 (`stretch goal`):** Get below 18,000 for test set MAE. \n",
        "- **Task 12 (`stretch goal`):** Plot model coefficients.\n",
        "\n",
        "For each task you should do the following:\n",
        "\n",
        "- Read the task instructions.\n",
        "- Write your code in the cell below the task. Delete the `raise NotImplementedError` before your start.\n",
        "- Run the testing cell below the task. If you get an error, read the error message and re-evaluate your code.\n",
        "\n",
        "**You should limit your code to the following libraries:**\n",
        "\n",
        "- `category_encoders`\n",
        "- `numpy`\n",
        "- `matplotlib`\n",
        "- `pandas`\n",
        "- `sklearn` \n",
        "\n",
        "# Tasks\n",
        "\n",
        "## I. Wrangle Data\n",
        "\n",
        "**Task 1:** Since real estate prices fluctuate over time, it's important to index the houses in this dataset using the year in which they were sold. First, load the dataset into a DataFrame named `df` and find the column that states the year sold. Next, modify the code below so that `Yr_Sold` column is parsed as a datetime object and set as the index."
      ]
    },
    {
      "cell_type": "code",
      "execution_count": null,
      "metadata": {
        "colab": {
          "base_uri": "https://localhost:8080/"
        },
        "deletable": false,
        "id": "7ptoRG1lu7H4",
        "nbgrader": {
          "cell_type": "code",
          "checksum": "971bae389cac7fcc8b6b743b55faaa50",
          "grade": false,
          "grade_id": "cell-f40876cb08c183d1",
          "locked": false,
          "schema_version": 3,
          "solution": true,
          "task": false
        },
        "outputId": "59aaf87f-9b2c-4a58-f006-a57d005e2d76"
      },
      "outputs": [
        {
          "output_type": "stream",
          "name": "stdout",
          "text": [
            "Requirement already satisfied: category_encoders==2.* in /usr/local/lib/python3.7/dist-packages (2.3.0)\n",
            "Requirement already satisfied: patsy>=0.5.1 in /usr/local/lib/python3.7/dist-packages (from category_encoders==2.*) (0.5.2)\n",
            "Requirement already satisfied: numpy>=1.14.0 in /usr/local/lib/python3.7/dist-packages (from category_encoders==2.*) (1.19.5)\n",
            "Requirement already satisfied: scipy>=1.0.0 in /usr/local/lib/python3.7/dist-packages (from category_encoders==2.*) (1.4.1)\n",
            "Requirement already satisfied: statsmodels>=0.9.0 in /usr/local/lib/python3.7/dist-packages (from category_encoders==2.*) (0.10.2)\n",
            "Requirement already satisfied: pandas>=0.21.1 in /usr/local/lib/python3.7/dist-packages (from category_encoders==2.*) (1.3.5)\n",
            "Requirement already satisfied: scikit-learn>=0.20.0 in /usr/local/lib/python3.7/dist-packages (from category_encoders==2.*) (1.0.2)\n",
            "Requirement already satisfied: python-dateutil>=2.7.3 in /usr/local/lib/python3.7/dist-packages (from pandas>=0.21.1->category_encoders==2.*) (2.8.2)\n",
            "Requirement already satisfied: pytz>=2017.3 in /usr/local/lib/python3.7/dist-packages (from pandas>=0.21.1->category_encoders==2.*) (2018.9)\n",
            "Requirement already satisfied: six in /usr/local/lib/python3.7/dist-packages (from patsy>=0.5.1->category_encoders==2.*) (1.15.0)\n",
            "Requirement already satisfied: threadpoolctl>=2.0.0 in /usr/local/lib/python3.7/dist-packages (from scikit-learn>=0.20.0->category_encoders==2.*) (3.1.0)\n",
            "Requirement already satisfied: joblib>=0.11 in /usr/local/lib/python3.7/dist-packages (from scikit-learn>=0.20.0->category_encoders==2.*) (1.1.0)\n"
          ]
        }
      ],
      "source": [
        "'''T1: Import data into DataFrame `df`.'''\n",
        "import pandas as pd\n",
        "\n",
        "url_train = 'https://drive.google.com/uc?export=download&id=1tmYLQ1RwIgjI_d66PWnlXU-5D_VxtiQc'\n",
        "df = pd.read_csv(url_train,parse_dates= True, index_col='Yr_Sold')\n",
        "# YOUR CODE HERE\n",
        "df.head()\n",
        "df.isnull().sum()\n",
        "!pip install category_encoders==2.*\n",
        "\n",
        "\n"
      ]
    },
    {
      "cell_type": "markdown",
      "metadata": {
        "deletable": false,
        "editable": false,
        "nbgrader": {
          "cell_type": "markdown",
          "checksum": "57df30990e0ac2245815c1522618652d",
          "grade": false,
          "grade_id": "cell-7681af23bef769bb",
          "locked": true,
          "schema_version": 3,
          "solution": false,
          "task": false
        },
        "id": "kE6P-yFvlAwu"
      },
      "source": [
        "**Task 1 Testing**"
      ]
    },
    {
      "cell_type": "code",
      "execution_count": null,
      "metadata": {
        "deletable": false,
        "editable": false,
        "nbgrader": {
          "cell_type": "code",
          "checksum": "e374e5061d1a751df80d90f197d2b064",
          "grade": true,
          "grade_id": "cell-25880b9c025295c5",
          "locked": true,
          "points": 1,
          "schema_version": 3,
          "solution": false,
          "task": false
        },
        "id": "dPekCFMFlAwu"
      },
      "outputs": [],
      "source": [
        "'''T1 Testing.'''\n",
        "assert isinstance(df, pd.DataFrame), '`df` is not a DataFrame. Did you import the data?'\n",
        "assert len(df) == 2564, 'DataFrame `df` has the wrong number of rows.'\n",
        "assert isinstance(df.index, pd.DatetimeIndex), '`df` does not have a datetime index.'"
      ]
    },
    {
      "cell_type": "markdown",
      "metadata": {
        "deletable": false,
        "editable": false,
        "nbgrader": {
          "cell_type": "markdown",
          "checksum": "0238173d96fa9190e6a2ee242499126a",
          "grade": false,
          "grade_id": "cell-81a7c3a23718bfd1",
          "locked": true,
          "schema_version": 3,
          "solution": false,
          "task": false
        },
        "id": "eQ3DVUYflAwv"
      },
      "source": [
        "**Task 2 (`stretch goal`):** Create a scatter plot that shows `'SalePrice'` as a function of `'Gr_Liv_Area'`. Be sure to label the axes of your plot."
      ]
    },
    {
      "cell_type": "code",
      "execution_count": null,
      "metadata": {
        "deletable": false,
        "nbgrader": {
          "cell_type": "code",
          "checksum": "894e735ac4bb5911d536ee8852c2111f",
          "grade": false,
          "grade_id": "cell-8ee63eed57f965ea",
          "locked": false,
          "schema_version": 3,
          "solution": true,
          "task": false
        },
        "colab": {
          "base_uri": "https://localhost:8080/",
          "height": 515
        },
        "id": "8ZqvUzhQlAwv",
        "outputId": "48b7e3b0-314e-4a36-b8b1-45ca11715ba1"
      },
      "outputs": [
        {
          "output_type": "execute_result",
          "data": {
            "text/plain": [
              "Text(0, 0.5, 'Gr_Liv_Area')"
            ]
          },
          "metadata": {},
          "execution_count": 182
        },
        {
          "output_type": "display_data",
          "data": {
            "image/png": "[encoded data removed]",
            "text/plain": [
              "<Figure size 576x576 with 1 Axes>"
            ]
          },
          "metadata": {
            "needs_background": "light"
          }
        }
      ],
      "source": [
        "import matplotlib.pyplot as plt\n",
        "\n",
        "# YOUR CODE HERE\n",
        "X = df['SalePrice']\n",
        "y = df['Gr_Liv_Area']\n",
        "\n",
        "plt.figure(figsize=(8,8))\n",
        "plt.scatter(X,y)\n",
        "plt.xlabel('SalePrice')\n",
        "plt.ylabel('Gr_Liv_Area')"
      ]
    },
    {
      "cell_type": "markdown",
      "metadata": {
        "deletable": false,
        "editable": false,
        "nbgrader": {
          "cell_type": "markdown",
          "checksum": "8c8dd11e8a0388b018d59e6aca553ab6",
          "grade": false,
          "grade_id": "cell-17226b293bcb9e54",
          "locked": true,
          "schema_version": 3,
          "solution": false,
          "task": false
        },
        "id": "JPiNa5GtlAwv"
      },
      "source": [
        "## II. Split Data\n",
        "\n",
        "**Task 3:** Since you're building a model to predict the price at which a house will be sold, your target is the `'SalePrice'` column. Split the DataFrame `df` into the target vector `y` and the feature matrix `X`. "
      ]
    },
    {
      "cell_type": "code",
      "execution_count": null,
      "metadata": {
        "deletable": false,
        "nbgrader": {
          "cell_type": "code",
          "checksum": "9a2ebca053c8701207fd5db749e36d0a",
          "grade": false,
          "grade_id": "cell-4207f17d2e629cbd",
          "locked": false,
          "schema_version": 3,
          "solution": true,
          "task": false
        },
        "id": "aPzz1nf5lAwv"
      },
      "outputs": [],
      "source": [
        "'''T3: Split `df` into `X` and `y`.'''\n",
        "\n",
        "target = 'SalePrice'\n",
        "# YOUR CODE HERE\n",
        "X = df.drop(target,axis=1)\n",
        "y = df[target]\n"
      ]
    },
    {
      "cell_type": "markdown",
      "metadata": {
        "deletable": false,
        "editable": false,
        "nbgrader": {
          "cell_type": "markdown",
          "checksum": "0eaf400e2a187b0a44d22c5f94573e8a",
          "grade": false,
          "grade_id": "cell-2f0e0292ea6ebc3b",
          "locked": true,
          "schema_version": 3,
          "solution": false,
          "task": false
        },
        "id": "d2FBuQ3VlAwv"
      },
      "source": [
        "**Task 3 Testing**"
      ]
    },
    {
      "cell_type": "code",
      "execution_count": null,
      "metadata": {
        "deletable": false,
        "editable": false,
        "nbgrader": {
          "cell_type": "code",
          "checksum": "37e8cadf75dc3ed7257d278154912f99",
          "grade": true,
          "grade_id": "cell-7e83bdb6a35f2699",
          "locked": true,
          "points": 1,
          "schema_version": 3,
          "solution": false,
          "task": false
        },
        "id": "2ZJH-fy6lAww"
      },
      "outputs": [],
      "source": [
        "'''T3 Tests'''\n",
        "assert y.shape == (2564,), '`y` either has the wrong number of rows, or is two-dimentional.'\n",
        "assert X.shape == (2564, 45), '`X` has the wrong number of columns or rows.'\n",
        "assert 'SalePrice' not in X.columns, 'Target is still part of feature matrix.' "
      ]
    },
    {
      "cell_type": "code",
      "source": [],
      "metadata": {
        "id": "truaEqyBq_xH"
      },
      "execution_count": null,
      "outputs": []
    },
    {
      "cell_type": "markdown",
      "metadata": {
        "deletable": false,
        "editable": false,
        "nbgrader": {
          "cell_type": "markdown",
          "checksum": "94fa1718a8d544efd9740e055eed9dee",
          "grade": false,
          "grade_id": "cell-708c2f8aa9bebfa1",
          "locked": true,
          "schema_version": 3,
          "solution": false,
          "task": false
        },
        "id": "IVSWgezelAww"
      },
      "source": [
        "**Task 4:** Split `X` and `y` into training and validation sets. Since housing prices fluctuate over time, you should use the time-based cutoff method. \n",
        "\n",
        "- Training: Homes sold before 2009\n",
        "- Validation: Homes sold during 2009"
      ]
    },
    {
      "cell_type": "code",
      "source": [
        "\n"
      ],
      "metadata": {
        "id": "tfOsIO5-rsjs"
      },
      "execution_count": null,
      "outputs": []
    },
    {
      "cell_type": "code",
      "execution_count": null,
      "metadata": {
        "deletable": false,
        "nbgrader": {
          "cell_type": "code",
          "checksum": "11d8d6d6ef1622e19b0e405523389c0e",
          "grade": false,
          "grade_id": "cell-2efa29975d55a10c",
          "locked": false,
          "schema_version": 3,
          "solution": true,
          "task": false
        },
        "colab": {
          "base_uri": "https://localhost:8080/"
        },
        "id": "R_0VdYnSlAww",
        "outputId": "e4c97d0f-2de1-40c2-a643-35c39d8df031"
      },
      "outputs": [
        {
          "output_type": "execute_result",
          "data": {
            "text/plain": [
              "DatetimeIndex(['2009-01-01', '2009-01-01', '2009-01-01', '2009-01-01',\n",
              "               '2009-01-01', '2009-01-01', '2009-01-01', '2009-01-01',\n",
              "               '2009-01-01', '2009-01-01',\n",
              "               ...\n",
              "               '2009-01-01', '2009-01-01', '2009-01-01', '2009-01-01',\n",
              "               '2009-01-01', '2009-01-01', '2009-01-01', '2009-01-01',\n",
              "               '2009-01-01', '2009-01-01'],\n",
              "              dtype='datetime64[ns]', name='Yr_Sold', length=644, freq=None)"
            ]
          },
          "metadata": {},
          "execution_count": 185
        }
      ],
      "source": [
        "'''T4: Split `X` and `y` into training, validation, and testing sets.'''\n",
        "from sklearn.model_selection import train_test_split\n",
        "# YOUR CODE HERE\n",
        "\n",
        "df.sort_index(inplace=True)\n",
        "mask = X.index < '2009-01-01'\n",
        "X_train = X.loc[mask]\n",
        "y_train = y.loc[mask]\n",
        "X_val = X.loc[~mask]\n",
        "y_val = y.loc[~mask]\n",
        "y_val.index\n"
      ]
    },
    {
      "cell_type": "markdown",
      "metadata": {
        "deletable": false,
        "editable": false,
        "nbgrader": {
          "cell_type": "markdown",
          "checksum": "47db7906e0f22fc02ec2827ee582f60d",
          "grade": false,
          "grade_id": "cell-bef5af92ef24c478",
          "locked": true,
          "schema_version": 3,
          "solution": false,
          "task": false
        },
        "id": "qvZsgh-XlAww"
      },
      "source": [
        "**Task 4 Testing**"
      ]
    },
    {
      "cell_type": "code",
      "execution_count": null,
      "metadata": {
        "deletable": false,
        "editable": false,
        "nbgrader": {
          "cell_type": "code",
          "checksum": "df87bc0b203410d307eb9773fdbc113d",
          "grade": true,
          "grade_id": "cell-458101f90b6b100b",
          "locked": true,
          "points": 1,
          "schema_version": 3,
          "solution": false,
          "task": false
        },
        "id": "vE_WrVTJlAww"
      },
      "outputs": [],
      "source": [
        "'''T4 Tests'''\n",
        "assert len(X_train) == len(y_train) == 1920, 'Your training set has the wrong number of rows.'\n",
        "assert len(X_val) == len(y_val) == 644, 'Your validation set has the wrong number of rows.'"
      ]
    },
    {
      "cell_type": "markdown",
      "metadata": {
        "deletable": false,
        "editable": false,
        "nbgrader": {
          "cell_type": "markdown",
          "checksum": "d6a8d57a5e0f00b03dcc7127d385fef3",
          "grade": false,
          "grade_id": "cell-63da195f83201124",
          "locked": true,
          "schema_version": 3,
          "solution": false,
          "task": false
        },
        "id": "OG1kchuflAwx"
      },
      "source": [
        "## III. Set Baseline\n",
        "\n",
        "**Task 5:** Before you can create a model to predict sale price, you need to establish a baseline. First, calculate the mean housing price for your training set. Next, calculate the *mean absolute error* for a model that always predicts that mean. Be sure to assign the mean absolute error to a variable named `baseline_mae`."
      ]
    },
    {
      "cell_type": "code",
      "execution_count": null,
      "metadata": {
        "deletable": false,
        "nbgrader": {
          "cell_type": "code",
          "checksum": "6bd6e555eb003bc08b8ff2ef2f8bc087",
          "grade": false,
          "grade_id": "cell-62dc6e7707644a97",
          "locked": false,
          "schema_version": 3,
          "solution": true,
          "task": false
        },
        "colab": {
          "base_uri": "https://localhost:8080/"
        },
        "id": "op0G9tzFlAwx",
        "outputId": "3fabc199-4341-41f0-8760-f28037c3a063"
      },
      "outputs": [
        {
          "output_type": "stream",
          "name": "stdout",
          "text": [
            "Baseline MAE: 58502.9394639757\n",
            "181515.98645833333\n"
          ]
        }
      ],
      "source": [
        "'''T5: Calculate baseline mean absolute error.'''\n",
        "from sklearn.metrics import mean_absolute_error\n",
        "\n",
        "# YOUR CODE HERE\n",
        "y_mean = y_train.mean()\n",
        "y_pred = [y_train.mean()] * len(y_train)\n",
        "baseline_mae = mean_absolute_error(y_train,y_pred)\n",
        "print('Baseline MAE:', baseline_mae)\n",
        "print(y_mean)"
      ]
    },
    {
      "cell_type": "markdown",
      "metadata": {
        "deletable": false,
        "editable": false,
        "nbgrader": {
          "cell_type": "markdown",
          "checksum": "89a1eda38ecc3c38f2f7b5ec42a9be9f",
          "grade": false,
          "grade_id": "cell-c76f1e15a9f7093f",
          "locked": true,
          "schema_version": 3,
          "solution": false,
          "task": false
        },
        "id": "-DRv30mglAwx"
      },
      "source": [
        "**Task 5 Testing**"
      ]
    },
    {
      "cell_type": "code",
      "execution_count": null,
      "metadata": {
        "deletable": false,
        "editable": false,
        "nbgrader": {
          "cell_type": "code",
          "checksum": "cbb7bc74c0aa899f6bc9745f7947d37a",
          "grade": true,
          "grade_id": "cell-cfcf0f63baa004f9",
          "locked": true,
          "points": 1,
          "schema_version": 3,
          "solution": false,
          "task": false
        },
        "id": "h-xUQjsLlAwx"
      },
      "outputs": [],
      "source": [
        "'''T5 Tests'''\n",
        "assert isinstance(baseline_mae, float), '`baseline_mae` is not a `float`. Have you assigned a value to this variable name?'"
      ]
    },
    {
      "cell_type": "markdown",
      "metadata": {
        "deletable": false,
        "editable": false,
        "nbgrader": {
          "cell_type": "markdown",
          "checksum": "07eabd28839601f0c7a2f98893681016",
          "grade": false,
          "grade_id": "cell-63b7627f91c1e767",
          "locked": true,
          "schema_version": 3,
          "solution": false,
          "task": false
        },
        "id": "r1pQ79d6lAwx"
      },
      "source": [
        "## IV. Build Models\n",
        "\n",
        "**Task 6:** Build and train a linear regression model named `model_lr` that predicts home sale price. Your model should have the following components:\n",
        "\n",
        "- A `OneHotEncoder` for categorical features.\n",
        "- A `StandardScaler` so that you can compare your model coefficients after training.\n",
        "- A `pipeline` that combines transformers and predictor.\n",
        "\n",
        "**Tip:** For your `OneHotEncoder`, `use_cat_names` should be set to `True`."
      ]
    },
    {
      "cell_type": "code",
      "source": [
        "df.head()"
      ],
      "metadata": {
        "colab": {
          "base_uri": "https://localhost:8080/",
          "height": 388
        },
        "id": "puc8drZfu6iy",
        "outputId": "6df82016-ef22-430b-97fc-8f80cfd3be89"
      },
      "execution_count": null,
      "outputs": [
        {
          "output_type": "execute_result",
          "data": {
            "text/html": [
              "\n",
              "  <div id=\"df-36476894-7e54-486d-99f8-c4716e901de2\">\n",
              "    <div class=\"colab-df-container\">\n",
              "      <div>\n",
              "<style scoped>\n",
              "    .dataframe tbody tr th:only-of-type {\n",
              "        vertical-align: middle;\n",
              "    }\n",
              "\n",
              "    .dataframe tbody tr th {\n",
              "        vertical-align: top;\n",
              "    }\n",
              "\n",
              "    .dataframe thead th {\n",
              "        text-align: right;\n",
              "    }\n",
              "</style>\n",
              "<table border=\"1\" class=\"dataframe\">\n",
              "  <thead>\n",
              "    <tr style=\"text-align: right;\">\n",
              "      <th></th>\n",
              "      <th>1st_Flr_SF</th>\n",
              "      <th>Bedroom_AbvGr</th>\n",
              "      <th>Bldg_Type</th>\n",
              "      <th>Bsmt_Full_Bath</th>\n",
              "      <th>Bsmt_Half_Bath</th>\n",
              "      <th>Central_Air</th>\n",
              "      <th>Condition_1</th>\n",
              "      <th>Condition_2</th>\n",
              "      <th>Electrical</th>\n",
              "      <th>Exter_Cond</th>\n",
              "      <th>Exter_Qual</th>\n",
              "      <th>Exterior_1st</th>\n",
              "      <th>Exterior_2nd</th>\n",
              "      <th>Foundation</th>\n",
              "      <th>Full_Bath</th>\n",
              "      <th>Functional</th>\n",
              "      <th>Gr_Liv_Area</th>\n",
              "      <th>Half_Bath</th>\n",
              "      <th>Heating</th>\n",
              "      <th>Heating_QC</th>\n",
              "      <th>House_Style</th>\n",
              "      <th>Kitchen_AbvGr</th>\n",
              "      <th>Kitchen_Qual</th>\n",
              "      <th>Land_Contour</th>\n",
              "      <th>Land_Slope</th>\n",
              "      <th>Lot_Area</th>\n",
              "      <th>Lot_Config</th>\n",
              "      <th>Lot_Shape</th>\n",
              "      <th>MS_SubClass</th>\n",
              "      <th>MS_Zoning</th>\n",
              "      <th>Mas_Vnr_Type</th>\n",
              "      <th>Mo_Sold</th>\n",
              "      <th>Neighborhood</th>\n",
              "      <th>Overall_Cond</th>\n",
              "      <th>Overall_Qual</th>\n",
              "      <th>Paved_Drive</th>\n",
              "      <th>Roof_Matl</th>\n",
              "      <th>Roof_Style</th>\n",
              "      <th>SalePrice</th>\n",
              "      <th>Sale_Condition</th>\n",
              "      <th>Sale_Type</th>\n",
              "      <th>Street</th>\n",
              "      <th>TotRms_AbvGrd</th>\n",
              "      <th>Utilities</th>\n",
              "      <th>Year_Built</th>\n",
              "      <th>Year_Remod/Add</th>\n",
              "    </tr>\n",
              "    <tr>\n",
              "      <th>Yr_Sold</th>\n",
              "      <th></th>\n",
              "      <th></th>\n",
              "      <th></th>\n",
              "      <th></th>\n",
              "      <th></th>\n",
              "      <th></th>\n",
              "      <th></th>\n",
              "      <th></th>\n",
              "      <th></th>\n",
              "      <th></th>\n",
              "      <th></th>\n",
              "      <th></th>\n",
              "      <th></th>\n",
              "      <th></th>\n",
              "      <th></th>\n",
              "      <th></th>\n",
              "      <th></th>\n",
              "      <th></th>\n",
              "      <th></th>\n",
              "      <th></th>\n",
              "      <th></th>\n",
              "      <th></th>\n",
              "      <th></th>\n",
              "      <th></th>\n",
              "      <th></th>\n",
              "      <th></th>\n",
              "      <th></th>\n",
              "      <th></th>\n",
              "      <th></th>\n",
              "      <th></th>\n",
              "      <th></th>\n",
              "      <th></th>\n",
              "      <th></th>\n",
              "      <th></th>\n",
              "      <th></th>\n",
              "      <th></th>\n",
              "      <th></th>\n",
              "      <th></th>\n",
              "      <th></th>\n",
              "      <th></th>\n",
              "      <th></th>\n",
              "      <th></th>\n",
              "      <th></th>\n",
              "      <th></th>\n",
              "      <th></th>\n",
              "      <th></th>\n",
              "    </tr>\n",
              "  </thead>\n",
              "  <tbody>\n",
              "    <tr>\n",
              "      <th>2006-01-01</th>\n",
              "      <td>996</td>\n",
              "      <td>3</td>\n",
              "      <td>1Fam</td>\n",
              "      <td>0.0</td>\n",
              "      <td>0.0</td>\n",
              "      <td>Y</td>\n",
              "      <td>Norm</td>\n",
              "      <td>Norm</td>\n",
              "      <td>SBrkr</td>\n",
              "      <td>TA</td>\n",
              "      <td>TA</td>\n",
              "      <td>HdBoard</td>\n",
              "      <td>HdBoard</td>\n",
              "      <td>PConc</td>\n",
              "      <td>2</td>\n",
              "      <td>Typ</td>\n",
              "      <td>2000</td>\n",
              "      <td>1</td>\n",
              "      <td>GasA</td>\n",
              "      <td>Ex</td>\n",
              "      <td>2Story</td>\n",
              "      <td>1</td>\n",
              "      <td>TA</td>\n",
              "      <td>Lvl</td>\n",
              "      <td>Mod</td>\n",
              "      <td>9627</td>\n",
              "      <td>Inside</td>\n",
              "      <td>Reg</td>\n",
              "      <td>60</td>\n",
              "      <td>RL</td>\n",
              "      <td>BrkFace</td>\n",
              "      <td>11</td>\n",
              "      <td>Mitchel</td>\n",
              "      <td>5</td>\n",
              "      <td>7</td>\n",
              "      <td>Y</td>\n",
              "      <td>CompShg</td>\n",
              "      <td>Gable</td>\n",
              "      <td>188000</td>\n",
              "      <td>Normal</td>\n",
              "      <td>WD</td>\n",
              "      <td>Pave</td>\n",
              "      <td>9</td>\n",
              "      <td>AllPub</td>\n",
              "      <td>1993</td>\n",
              "      <td>1994</td>\n",
              "    </tr>\n",
              "    <tr>\n",
              "      <th>2006-01-01</th>\n",
              "      <td>1208</td>\n",
              "      <td>3</td>\n",
              "      <td>1Fam</td>\n",
              "      <td>1.0</td>\n",
              "      <td>0.0</td>\n",
              "      <td>Y</td>\n",
              "      <td>Norm</td>\n",
              "      <td>Norm</td>\n",
              "      <td>SBrkr</td>\n",
              "      <td>TA</td>\n",
              "      <td>Gd</td>\n",
              "      <td>Plywood</td>\n",
              "      <td>Plywood</td>\n",
              "      <td>CBlock</td>\n",
              "      <td>1</td>\n",
              "      <td>Typ</td>\n",
              "      <td>1208</td>\n",
              "      <td>1</td>\n",
              "      <td>GasA</td>\n",
              "      <td>TA</td>\n",
              "      <td>1Story</td>\n",
              "      <td>1</td>\n",
              "      <td>TA</td>\n",
              "      <td>Lvl</td>\n",
              "      <td>Gtl</td>\n",
              "      <td>11250</td>\n",
              "      <td>Inside</td>\n",
              "      <td>IR1</td>\n",
              "      <td>20</td>\n",
              "      <td>RL</td>\n",
              "      <td>None</td>\n",
              "      <td>6</td>\n",
              "      <td>Veenker</td>\n",
              "      <td>6</td>\n",
              "      <td>6</td>\n",
              "      <td>Y</td>\n",
              "      <td>CompShg</td>\n",
              "      <td>Gable</td>\n",
              "      <td>165000</td>\n",
              "      <td>Normal</td>\n",
              "      <td>WD</td>\n",
              "      <td>Pave</td>\n",
              "      <td>6</td>\n",
              "      <td>AllPub</td>\n",
              "      <td>1977</td>\n",
              "      <td>1977</td>\n",
              "    </tr>\n",
              "    <tr>\n",
              "      <th>2006-01-01</th>\n",
              "      <td>1494</td>\n",
              "      <td>2</td>\n",
              "      <td>TwnhsE</td>\n",
              "      <td>1.0</td>\n",
              "      <td>0.0</td>\n",
              "      <td>Y</td>\n",
              "      <td>Norm</td>\n",
              "      <td>Norm</td>\n",
              "      <td>SBrkr</td>\n",
              "      <td>Gd</td>\n",
              "      <td>Gd</td>\n",
              "      <td>BrkFace</td>\n",
              "      <td>BrkFace</td>\n",
              "      <td>PConc</td>\n",
              "      <td>1</td>\n",
              "      <td>Typ</td>\n",
              "      <td>1494</td>\n",
              "      <td>1</td>\n",
              "      <td>GasA</td>\n",
              "      <td>Ex</td>\n",
              "      <td>1Story</td>\n",
              "      <td>1</td>\n",
              "      <td>Ex</td>\n",
              "      <td>Lvl</td>\n",
              "      <td>Gtl</td>\n",
              "      <td>9549</td>\n",
              "      <td>CulDSac</td>\n",
              "      <td>IR1</td>\n",
              "      <td>120</td>\n",
              "      <td>RL</td>\n",
              "      <td>None</td>\n",
              "      <td>4</td>\n",
              "      <td>Veenker</td>\n",
              "      <td>5</td>\n",
              "      <td>8</td>\n",
              "      <td>Y</td>\n",
              "      <td>CompShg</td>\n",
              "      <td>Hip</td>\n",
              "      <td>270000</td>\n",
              "      <td>Normal</td>\n",
              "      <td>WD</td>\n",
              "      <td>Pave</td>\n",
              "      <td>6</td>\n",
              "      <td>AllPub</td>\n",
              "      <td>1995</td>\n",
              "      <td>1996</td>\n",
              "    </tr>\n",
              "    <tr>\n",
              "      <th>2006-01-01</th>\n",
              "      <td>1568</td>\n",
              "      <td>3</td>\n",
              "      <td>1Fam</td>\n",
              "      <td>0.0</td>\n",
              "      <td>0.0</td>\n",
              "      <td>Y</td>\n",
              "      <td>Norm</td>\n",
              "      <td>Norm</td>\n",
              "      <td>SBrkr</td>\n",
              "      <td>TA</td>\n",
              "      <td>Gd</td>\n",
              "      <td>CemntBd</td>\n",
              "      <td>CmentBd</td>\n",
              "      <td>PConc</td>\n",
              "      <td>2</td>\n",
              "      <td>Typ</td>\n",
              "      <td>1568</td>\n",
              "      <td>0</td>\n",
              "      <td>GasA</td>\n",
              "      <td>Ex</td>\n",
              "      <td>1Story</td>\n",
              "      <td>1</td>\n",
              "      <td>Gd</td>\n",
              "      <td>Lvl</td>\n",
              "      <td>Gtl</td>\n",
              "      <td>7180</td>\n",
              "      <td>Inside</td>\n",
              "      <td>IR1</td>\n",
              "      <td>20</td>\n",
              "      <td>FV</td>\n",
              "      <td>None</td>\n",
              "      <td>9</td>\n",
              "      <td>Somerst</td>\n",
              "      <td>5</td>\n",
              "      <td>8</td>\n",
              "      <td>Y</td>\n",
              "      <td>CompShg</td>\n",
              "      <td>Gable</td>\n",
              "      <td>221000</td>\n",
              "      <td>Normal</td>\n",
              "      <td>WD</td>\n",
              "      <td>Pave</td>\n",
              "      <td>6</td>\n",
              "      <td>AllPub</td>\n",
              "      <td>2001</td>\n",
              "      <td>2002</td>\n",
              "    </tr>\n",
              "    <tr>\n",
              "      <th>2006-01-01</th>\n",
              "      <td>854</td>\n",
              "      <td>3</td>\n",
              "      <td>1Fam</td>\n",
              "      <td>0.0</td>\n",
              "      <td>0.0</td>\n",
              "      <td>Y</td>\n",
              "      <td>Norm</td>\n",
              "      <td>Norm</td>\n",
              "      <td>SBrkr</td>\n",
              "      <td>TA</td>\n",
              "      <td>Gd</td>\n",
              "      <td>Wd Sdng</td>\n",
              "      <td>Wd Sdng</td>\n",
              "      <td>PConc</td>\n",
              "      <td>2</td>\n",
              "      <td>Typ</td>\n",
              "      <td>1694</td>\n",
              "      <td>1</td>\n",
              "      <td>GasA</td>\n",
              "      <td>Ex</td>\n",
              "      <td>2Story</td>\n",
              "      <td>1</td>\n",
              "      <td>Gd</td>\n",
              "      <td>Lvl</td>\n",
              "      <td>Gtl</td>\n",
              "      <td>8314</td>\n",
              "      <td>Corner</td>\n",
              "      <td>IR1</td>\n",
              "      <td>60</td>\n",
              "      <td>FV</td>\n",
              "      <td>None</td>\n",
              "      <td>11</td>\n",
              "      <td>Somerst</td>\n",
              "      <td>5</td>\n",
              "      <td>7</td>\n",
              "      <td>Y</td>\n",
              "      <td>CompShg</td>\n",
              "      <td>Hip</td>\n",
              "      <td>200000</td>\n",
              "      <td>Normal</td>\n",
              "      <td>WD</td>\n",
              "      <td>Pave</td>\n",
              "      <td>6</td>\n",
              "      <td>AllPub</td>\n",
              "      <td>1997</td>\n",
              "      <td>1998</td>\n",
              "    </tr>\n",
              "  </tbody>\n",
              "</table>\n",
              "</div>\n",
              "      <button class=\"colab-df-convert\" onclick=\"convertToInteractive('df-36476894-7e54-486d-99f8-c4716e901de2')\"\n",
              "              title=\"Convert this dataframe to an interactive table.\"\n",
              "              style=\"display:none;\">\n",
              "        \n",
              "  <svg xmlns=\"http://www.w3.org/2000/svg\" height=\"24px\"viewBox=\"0 0 24 24\"\n",
              "       width=\"24px\">\n",
              "    <path d=\"M0 0h24v24H0V0z\" fill=\"none\"/>\n",
              "    <path d=\"M18.56 5.44l.94 2.06.94-2.06 2.06-.94-2.06-.94-.94-2.06-.94 2.06-2.06.94zm-11 1L8.5 8.5l.94-2.06 2.06-.94-2.06-.94L8.5 2.5l-.94 2.06-2.06.94zm10 10l.94 2.06.94-2.06 2.06-.94-2.06-.94-.94-2.06-.94 2.06-2.06.94z\"/><path d=\"M17.41 7.96l-1.37-1.37c-.4-.4-.92-.59-1.43-.59-.52 0-1.04.2-1.43.59L10.3 9.45l-7.72 7.72c-.78.78-.78 2.05 0 2.83L4 21.41c.39.39.9.59 1.41.59.51 0 1.02-.2 1.41-.59l7.78-7.78 2.81-2.81c.8-.78.8-2.07 0-2.86zM5.41 20L4 18.59l7.72-7.72 1.47 1.35L5.41 20z\"/>\n",
              "  </svg>\n",
              "      </button>\n",
              "      \n",
              "  <style>\n",
              "    .colab-df-container {\n",
              "      display:flex;\n",
              "      flex-wrap:wrap;\n",
              "      gap: 12px;\n",
              "    }\n",
              "\n",
              "    .colab-df-convert {\n",
              "      background-color: #E8F0FE;\n",
              "      border: none;\n",
              "      border-radius: 50%;\n",
              "      cursor: pointer;\n",
              "      display: none;\n",
              "      fill: #1967D2;\n",
              "      height: 32px;\n",
              "      padding: 0 0 0 0;\n",
              "      width: 32px;\n",
              "    }\n",
              "\n",
              "    .colab-df-convert:hover {\n",
              "      background-color: #E2EBFA;\n",
              "      box-shadow: 0px 1px 2px rgba(60, 64, 67, 0.3), 0px 1px 3px 1px rgba(60, 64, 67, 0.15);\n",
              "      fill: #174EA6;\n",
              "    }\n",
              "\n",
              "    [theme=dark] .colab-df-convert {\n",
              "      background-color: #3B4455;\n",
              "      fill: #D2E3FC;\n",
              "    }\n",
              "\n",
              "    [theme=dark] .colab-df-convert:hover {\n",
              "      background-color: #434B5C;\n",
              "      box-shadow: 0px 1px 3px 1px rgba(0, 0, 0, 0.15);\n",
              "      filter: drop-shadow(0px 1px 2px rgba(0, 0, 0, 0.3));\n",
              "      fill: #FFFFFF;\n",
              "    }\n",
              "  </style>\n",
              "\n",
              "      <script>\n",
              "        const buttonEl =\n",
              "          document.querySelector('#df-36476894-7e54-486d-99f8-c4716e901de2 button.colab-df-convert');\n",
              "        buttonEl.style.display =\n",
              "          google.colab.kernel.accessAllowed ? 'block' : 'none';\n",
              "\n",
              "        async function convertToInteractive(key) {\n",
              "          const element = document.querySelector('#df-36476894-7e54-486d-99f8-c4716e901de2');\n",
              "          const dataTable =\n",
              "            await google.colab.kernel.invokeFunction('convertToInteractive',\n",
              "                                                     [key], {});\n",
              "          if (!dataTable) return;\n",
              "\n",
              "          const docLinkHtml = 'Like what you see? Visit the ' +\n",
              "            '<a target=\"_blank\" href=https://colab.research.google.com/notebooks/data_table.ipynb>data table notebook</a>'\n",
              "            + ' to learn more about interactive tables.';\n",
              "          element.innerHTML = '';\n",
              "          dataTable['output_type'] = 'display_data';\n",
              "          await google.colab.output.renderOutput(dataTable, element);\n",
              "          const docLink = document.createElement('div');\n",
              "          docLink.innerHTML = docLinkHtml;\n",
              "          element.appendChild(docLink);\n",
              "        }\n",
              "      </script>\n",
              "    </div>\n",
              "  </div>\n",
              "  "
            ],
            "text/plain": [
              "            1st_Flr_SF  Bedroom_AbvGr  ... Year_Built  Year_Remod/Add\n",
              "Yr_Sold                                ...                           \n",
              "2006-01-01         996              3  ...       1993            1994\n",
              "2006-01-01        1208              3  ...       1977            1977\n",
              "2006-01-01        1494              2  ...       1995            1996\n",
              "2006-01-01        1568              3  ...       2001            2002\n",
              "2006-01-01         854              3  ...       1997            1998\n",
              "\n",
              "[5 rows x 46 columns]"
            ]
          },
          "metadata": {},
          "execution_count": 189
        }
      ]
    },
    {
      "cell_type": "code",
      "execution_count": null,
      "metadata": {
        "deletable": false,
        "nbgrader": {
          "cell_type": "code",
          "checksum": "3236c609a2729c303682be55af187cb2",
          "grade": false,
          "grade_id": "cell-b80a918d2acd5e24",
          "locked": false,
          "schema_version": 3,
          "solution": true,
          "task": false
        },
        "id": "c-Xlks02lAwx"
      },
      "outputs": [],
      "source": [
        "'''T6: Build and train LinearRegression model.'''\n",
        "from sklearn.pipeline import make_pipeline\n",
        "from sklearn.linear_model import LinearRegression\n",
        "from category_encoders import OneHotEncoder\n",
        "from sklearn.preprocessing import StandardScaler\n",
        "\n",
        "# YOUR CODE HERE\n",
        "#categorical_features = df['Bldg_Type',\t'Central_Air',\t'Condition_1',\t'Condition_2',\t'Electrical',\t'Exter_Cond',\t'Exter_Qual',\t'Exterior_1st',\t'Exterior_2nd',\t'Foundation',\t'\tFunctional',\t\t'Heating',\t'Heating_QC',\t'House_Style',\t\t'Kitchen_Qual',\t'Land_Contour',\t'Land_Slope',\t\t'Lot_Config',\t'Lot_Shape',\t'MS_SubClass',\t'MS_Zoning',\t'Mas_Vnr_Type',\t\t'Neighborhood', 'Paved_Drive',\t'Roof_Matl',\t'Roof_Style','Sale_Condition',\t'Sale_Type',\t'Street','Utilities']\n",
        "model_lr = make_pipeline(\n",
        "    OneHotEncoder(use_cat_names=True),\n",
        "    StandardScaler(),\n",
        "    LinearRegression()\n",
        ")\n",
        "\n",
        "\n",
        "model_lr.fit(X_train, y_train);"
      ]
    },
    {
      "cell_type": "markdown",
      "metadata": {
        "deletable": false,
        "editable": false,
        "nbgrader": {
          "cell_type": "markdown",
          "checksum": "338030033710797cd30babb94a6754df",
          "grade": false,
          "grade_id": "cell-b11e913f60dd1a4f",
          "locked": true,
          "schema_version": 3,
          "solution": false,
          "task": false
        },
        "id": "9RrKEh96lAwy"
      },
      "source": [
        "**Task 6 Testing**"
      ]
    },
    {
      "cell_type": "code",
      "execution_count": null,
      "metadata": {
        "deletable": false,
        "editable": false,
        "nbgrader": {
          "cell_type": "code",
          "checksum": "468f711478be292802bc195e53341b4e",
          "grade": true,
          "grade_id": "cell-066938e1bd64a34c",
          "locked": true,
          "points": 1,
          "schema_version": 3,
          "solution": false,
          "task": false
        },
        "id": "-FwJbrfmlAwy"
      },
      "outputs": [],
      "source": [
        "'''T6 Tests'''\n",
        "from sklearn.pipeline import Pipeline\n",
        "assert isinstance(model_lr, Pipeline), '`model_lr` is not a pipeline.'\n",
        "assert len(model_lr.named_steps) > 1, 'Your `model_lr` pipeline is missing components.'"
      ]
    },
    {
      "cell_type": "code",
      "source": [],
      "metadata": {
        "id": "FNNwFD_FzBrE"
      },
      "execution_count": null,
      "outputs": []
    },
    {
      "cell_type": "markdown",
      "metadata": {
        "deletable": false,
        "editable": false,
        "nbgrader": {
          "cell_type": "markdown",
          "checksum": "7a6a411b3833aaf17296afc3f2c6f29c",
          "grade": false,
          "grade_id": "cell-6a4782a94cdea347",
          "locked": true,
          "schema_version": 3,
          "solution": false,
          "task": false
        },
        "id": "0MP95PbAlAwy"
      },
      "source": [
        "**Task 7:** Build and train a ridge regression model named `model_r` that predicts home sales price. Your model should include the following components:\n",
        "\n",
        "- A `OneHotEncoder` for categorical features.\n",
        "- A `StandardScaler` so that you can compare your model coefficients after training.\n",
        "- A `pipeline` that combines transformers and predictor.\n",
        "\n",
        "**Tip:** If you combine a `StandardScaler` transformer with a `Ridge` predictor, you should set the `normalize` argument for the latter to `False`."
      ]
    },
    {
      "cell_type": "code",
      "execution_count": null,
      "metadata": {
        "deletable": false,
        "nbgrader": {
          "cell_type": "code",
          "checksum": "46bcd5b6c64f4a1ae928ef1acd3b9de9",
          "grade": false,
          "grade_id": "cell-02455b6368014e2e",
          "locked": false,
          "schema_version": 3,
          "solution": true,
          "task": false
        },
        "colab": {
          "base_uri": "https://localhost:8080/"
        },
        "id": "S_H1XZFflAwy",
        "outputId": "2b14ab55-0238-491d-99b0-10cb5253e620"
      },
      "outputs": [
        {
          "output_type": "stream",
          "name": "stderr",
          "text": [
            "/usr/local/lib/python3.7/dist-packages/sklearn/linear_model/_base.py:155: FutureWarning: 'normalize' was deprecated in version 1.0 and will be removed in 1.2. Please leave the normalize parameter to its default value to silence this warning. The default behavior of this estimator is to not do any normalization. If normalization is needed please use sklearn.preprocessing.StandardScaler instead.\n",
            "  FutureWarning,\n"
          ]
        }
      ],
      "source": [
        "'''T7. Build and train Ridge model.'''\n",
        "from sklearn.linear_model import Ridge\n",
        "\n",
        "# YOUR CODE HERE\n",
        "model_r = make_pipeline(\n",
        "    OneHotEncoder(use_cat_names=True),\n",
        "    StandardScaler(),\n",
        "    Ridge(normalize=False,alpha=20)\n",
        ")\n",
        "model_r.fit(X_train, y_train);"
      ]
    },
    {
      "cell_type": "markdown",
      "metadata": {
        "deletable": false,
        "editable": false,
        "nbgrader": {
          "cell_type": "markdown",
          "checksum": "90aa367eafd0e03865b2cc63362e514b",
          "grade": false,
          "grade_id": "cell-2aa05e9d2072aafc",
          "locked": true,
          "schema_version": 3,
          "solution": false,
          "task": false
        },
        "id": "vvSjsBH4lAwy"
      },
      "source": [
        "**Task 7 Testing**"
      ]
    },
    {
      "cell_type": "code",
      "execution_count": null,
      "metadata": {
        "deletable": false,
        "editable": false,
        "nbgrader": {
          "cell_type": "code",
          "checksum": "494444724b003384b1d52268e65b1de5",
          "grade": true,
          "grade_id": "cell-587e7ab699c005cb",
          "locked": true,
          "points": 1,
          "schema_version": 3,
          "solution": false,
          "task": false
        },
        "id": "SAhyoUyMlAwy"
      },
      "outputs": [],
      "source": [
        "assert isinstance(model_r, Pipeline), '`model_r` is not a pipeline.'\n",
        "assert len(model_r.named_steps) > 1, 'Your `model_r` pipeline is missing components.'"
      ]
    },
    {
      "cell_type": "markdown",
      "metadata": {
        "deletable": false,
        "editable": false,
        "nbgrader": {
          "cell_type": "markdown",
          "checksum": "4d39f90747ab640c15dba634dc5ddfb0",
          "grade": false,
          "grade_id": "cell-cb2403e89e718a6d",
          "locked": true,
          "schema_version": 3,
          "solution": false,
          "task": false
        },
        "id": "RG9NMVKUlAwy"
      },
      "source": [
        "## V. Check Metrics\n",
        "\n",
        "**Task 8:** Compare your models by calculating their mean absolute error for the training and validation sets. You should assign these to the variables `model_lr_training_mae`, `model_lr_validation_mae`, `model_r_training_mae`, and `model_r_validation_mae`, respectively. The validation MAE for your Ridge model should be lower than your `baseline_mae`."
      ]
    },
    {
      "cell_type": "code",
      "execution_count": null,
      "metadata": {
        "deletable": false,
        "nbgrader": {
          "cell_type": "code",
          "checksum": "0c2faccf61831b14df7ab3c03e64a33b",
          "grade": false,
          "grade_id": "cell-10ea192c7e6ee9de",
          "locked": false,
          "schema_version": 3,
          "solution": true,
          "task": false
        },
        "colab": {
          "base_uri": "https://localhost:8080/"
        },
        "id": "oSNdKAPtlAwz",
        "outputId": "a32e0d4f-65ab-48e5-f1fd-c1e0f69f7f3e"
      },
      "outputs": [
        {
          "output_type": "stream",
          "name": "stdout",
          "text": [
            "Linear Regression Model\n",
            "Training MAE: 16252.725113683535\n",
            "Validation MAE: 1.0835239882409026e+16\n",
            "\n",
            "Ridge Regression Model\n",
            "Training MAE: 16064.40002233802\n",
            "Validation MAE: 17846.892111134628\n"
          ]
        }
      ],
      "source": [
        "'''T8: Compare model metrics, MAE.'''\n",
        "# YOUR CODE HERE\n",
        "model_lr_training_mae = mean_absolute_error(y_train,model_lr.predict(X_train))\n",
        "model_lr_validation_mae = mean_absolute_error(y_val,model_lr.predict(X_val))\n",
        "model_r_training_mae = mean_absolute_error(y_train,model_r.predict(X_train))\n",
        "model_r_validation_mae = mean_absolute_error(y_val,model_r.predict(X_val))\n",
        "print('Linear Regression Model')\n",
        "print('Training MAE:', model_lr_training_mae)\n",
        "print('Validation MAE:', model_lr_validation_mae)\n",
        "print()\n",
        "print('Ridge Regression Model')\n",
        "print('Training MAE:', model_r_training_mae)\n",
        "print('Validation MAE:', model_r_validation_mae)"
      ]
    },
    {
      "cell_type": "markdown",
      "metadata": {
        "deletable": false,
        "editable": false,
        "nbgrader": {
          "cell_type": "markdown",
          "checksum": "0d253121492c2cdb1eced8eed2776b35",
          "grade": false,
          "grade_id": "cell-2ec63ac76b9a8d09",
          "locked": true,
          "schema_version": 3,
          "solution": false,
          "task": false
        },
        "id": "AGuchg_qlAwz"
      },
      "source": [
        "**Task 8 Testing**"
      ]
    },
    {
      "cell_type": "code",
      "execution_count": null,
      "metadata": {
        "deletable": false,
        "editable": false,
        "nbgrader": {
          "cell_type": "code",
          "checksum": "865bfca633e9cfd2c5dd0adac5b5a183",
          "grade": true,
          "grade_id": "cell-e467cc19a51d9a41",
          "locked": true,
          "points": 1,
          "schema_version": 3,
          "solution": false,
          "task": false
        },
        "id": "5EAsG5iRlAwz"
      },
      "outputs": [],
      "source": [
        "'''T8 Tests'''\n",
        "assert isinstance(model_lr_training_mae, float), '`model_lr_training_mae` is not a float. Did you assign a value to this variable?'\n",
        "assert isinstance(model_lr_validation_mae, float), '`model_lr_validation_mae` is not a float. Did you assign a value to this variable?'\n",
        "assert isinstance(model_r_training_mae, float), '`model_r_training_mae` is not a float. Did you assign a value to this variable?'\n",
        "assert isinstance(model_r_validation_mae, float), '`model_r_validation_mae` is not a float. Did you assign a value to this variable?'"
      ]
    },
    {
      "cell_type": "markdown",
      "metadata": {
        "deletable": false,
        "editable": false,
        "nbgrader": {
          "cell_type": "markdown",
          "checksum": "cfd848fa6845b865766fdacba122f739",
          "grade": false,
          "grade_id": "cell-0299e563a01e1b52",
          "locked": true,
          "schema_version": 3,
          "solution": false,
          "task": false
        },
        "id": "GZ8nVHKKlAwz"
      },
      "source": [
        "**Task 9:** Compare your two models by calculating their $R^2$ score for the **validation data**."
      ]
    },
    {
      "cell_type": "code",
      "execution_count": null,
      "metadata": {
        "deletable": false,
        "nbgrader": {
          "cell_type": "code",
          "checksum": "194fd47bb0c692386205a20dce6d0ebd",
          "grade": false,
          "grade_id": "cell-92d55f4de3bb7f31",
          "locked": false,
          "schema_version": 3,
          "solution": true,
          "task": false
        },
        "colab": {
          "base_uri": "https://localhost:8080/"
        },
        "id": "RKou7cv3lAwz",
        "outputId": "ad9c40cb-e03e-44f8-ce56-dfdd01b1df18"
      },
      "outputs": [
        {
          "output_type": "stream",
          "name": "stdout",
          "text": [
            "Linear Regression R^2: 0.8996059603066628\n",
            "Ridge Regression R^2: 0.8902104605327732\n"
          ]
        }
      ],
      "source": [
        "'''T9: Compare model metrics, R^2.'''\n",
        "# YOUR CODE HERE\n",
        "from sklearn.metrics import r2_score\n",
        "model_lr_r2_score = r2_score(y_train,model_lr.predict(X_train))\n",
        "model_r_r2_score= r2_score(y_val,model_r.predict(X_val))\n",
        "print('Linear Regression R^2:', model_lr_r2_score)\n",
        "print('Ridge Regression R^2:', model_r_r2_score)"
      ]
    },
    {
      "cell_type": "markdown",
      "metadata": {
        "deletable": false,
        "editable": false,
        "nbgrader": {
          "cell_type": "markdown",
          "checksum": "cdab1c4db0fa73faa3accb9a7f45c538",
          "grade": false,
          "grade_id": "cell-3b4914d6284ec6da",
          "locked": true,
          "schema_version": 3,
          "solution": false,
          "task": false
        },
        "id": "sXwnXZ-rlAwz"
      },
      "source": [
        "**Task 9 Testing**"
      ]
    },
    {
      "cell_type": "code",
      "execution_count": null,
      "metadata": {
        "deletable": false,
        "editable": false,
        "nbgrader": {
          "cell_type": "code",
          "checksum": "9f96edc1cb343a3135e61e9657a73a32",
          "grade": true,
          "grade_id": "cell-7b79f2550b912074",
          "locked": true,
          "points": 1,
          "schema_version": 3,
          "solution": false,
          "task": false
        },
        "id": "L8fnu4TNlAwz"
      },
      "outputs": [],
      "source": [
        "'''T9 Tests'''\n",
        "assert isinstance(model_lr_r2_score, float), '`model_lr_r2_score` is not a float. Did you assign a value to this variable?'\n",
        "assert isinstance(model_r_r2_score, float), '`model_r_r2_score` is not a float. Did you assign a value to this variable?'\n",
        "assert model_lr_r2_score <= 1, 'The maximum value for an R^2 score is 1.'\n",
        "assert model_r_r2_score <= 1, 'The maximum value for an R^2 score is 1.'"
      ]
    },
    {
      "cell_type": "markdown",
      "metadata": {
        "id": "zsS9MMftlAwz"
      },
      "source": [
        "**Task 10:** Based on the metrics above, choose the best of your two models and generate an array of predictions `y_pred` using the test set below.\n",
        "\n",
        "**Note:** Make sure that you import and clean the test set *exactly the same way* you did with the training set at the start of this notebook."
      ]
    },
    {
      "cell_type": "code",
      "execution_count": null,
      "metadata": {
        "deletable": false,
        "nbgrader": {
          "cell_type": "code",
          "checksum": "e72becd77504ec4f4855ef07c4b7edfb",
          "grade": false,
          "grade_id": "cell-87695ab01935fdd9",
          "locked": false,
          "schema_version": 3,
          "solution": true,
          "task": false
        },
        "colab": {
          "base_uri": "https://localhost:8080/"
        },
        "id": "IhBvUr6zlAw0",
        "outputId": "eaf2ee63-47ed-412d-ff77-ee0c1c916ac9"
      },
      "outputs": [
        {
          "output_type": "stream",
          "name": "stdout",
          "text": [
            "My predictions: [218292.71589794 104381.71343037 160457.53751543]\n"
          ]
        }
      ],
      "source": [
        "url_test = 'https://drive.google.com/uc?export=download&id=1y9u8cOWprTjruw8E-ct1c7YaEytToqd_'\n",
        "X_test = pd.read_csv(url_test,parse_dates= True, index_col='Yr_Sold')\n",
        "X_test.sort_index(inplace=True)\n",
        "y_pred = model_r.predict(X_test)\n",
        "# YOUR CODE HERE\n",
        "\n",
        "print('My predictions:', y_pred[:3])"
      ]
    },
    {
      "cell_type": "markdown",
      "metadata": {
        "deletable": false,
        "editable": false,
        "nbgrader": {
          "cell_type": "markdown",
          "checksum": "a80a31eaf092ba24ab86f6d5e1ec9494",
          "grade": false,
          "grade_id": "cell-94a472804463b225",
          "locked": true,
          "schema_version": 3,
          "solution": false,
          "task": false
        },
        "id": "HL8yWjMNlAw0"
      },
      "source": [
        "**Task 10 Testing:** There is a hidden test in the cell below. When you submit your notebook to Canvas, your test MAE will be calculated. In order to get the point for this task, your test MAE must be below 58,000.\n",
        "\n",
        "**Tip:** Use your validation MAE to estimate what your test MAE will be."
      ]
    },
    {
      "cell_type": "code",
      "execution_count": null,
      "metadata": {
        "deletable": false,
        "editable": false,
        "nbgrader": {
          "cell_type": "code",
          "checksum": "8db84fc1232302dcfbccf4dba2c3221e",
          "grade": true,
          "grade_id": "cell-c3c94d263dabfe02",
          "locked": true,
          "points": 1,
          "schema_version": 3,
          "solution": false,
          "task": false
        },
        "colab": {
          "base_uri": "https://localhost:8080/"
        },
        "id": "Be5Y7bEnlAw0",
        "outputId": "6f0eaf1e-86db-440e-df05-2cba19ef23b9"
      },
      "outputs": [
        {
          "output_type": "stream",
          "name": "stdout",
          "text": [
            "Test MAE: 17956.377026717106\n"
          ]
        }
      ],
      "source": [
        "import numpy as np\n",
        "assert isinstance(y_pred, np.ndarray), '`y_pred` should be type `ndarray`.'\n",
        "assert y_pred.shape == (340,), '`y_pred` should be a 1-dimentional array with 340 predictions.'\n",
        "# Your test MAE will be printed out below when you submit your assignment.\n"
      ]
    },
    {
      "cell_type": "markdown",
      "metadata": {
        "deletable": false,
        "editable": false,
        "nbgrader": {
          "cell_type": "markdown",
          "checksum": "c07fa550b9f9172838d15922e90af360",
          "grade": false,
          "grade_id": "cell-281a86aa67d353e9",
          "locked": true,
          "schema_version": 3,
          "solution": false,
          "task": false
        },
        "id": "4reyWegxlAw0"
      },
      "source": [
        "**Task 11 (`stretch goal`):** There's no code to write for this task. Below is another testing cell that will calculate the MAE for your test set. In order to get the point for this task, your test MAE must be below 18,000.\n",
        "\n",
        "**Tip:** Are there any **hyperparameters** in your model that you could adjust to improve performance? "
      ]
    },
    {
      "cell_type": "code",
      "execution_count": null,
      "metadata": {
        "deletable": false,
        "editable": false,
        "nbgrader": {
          "cell_type": "code",
          "checksum": "a1d7e19ba4855a945493c2d442e931e8",
          "grade": true,
          "grade_id": "cell-40815d96e2a2adf9",
          "locked": true,
          "points": 1,
          "schema_version": 3,
          "solution": false,
          "task": false
        },
        "id": "4W9jV5GDlAw0"
      },
      "outputs": [],
      "source": [
        "assert isinstance(y_pred, np.ndarray), '`y_pred` should be type `ndarray`.'\n",
        "assert y_pred.shape == (340,), '`y_pred` should be a 1-dimentional array with 340 predictions.'\n",
        "# Your test MAE will be printed out below when you submit your assignment.\n"
      ]
    },
    {
      "cell_type": "markdown",
      "metadata": {
        "deletable": false,
        "editable": false,
        "nbgrader": {
          "cell_type": "markdown",
          "checksum": "be6e79e32e8e72ffb454996bc15a4708",
          "grade": false,
          "grade_id": "cell-e724aba3fc221134",
          "locked": true,
          "schema_version": 3,
          "solution": false,
          "task": false
        },
        "id": "QUr13_HXlAw0"
      },
      "source": [
        "## VI. Explain Model\n",
        "\n",
        "**Task 12 (`stretch goal`):** Create a horizontal barchart for your best performing model that shows the ten most important features for the model's predictions. Don't forget to label your axes!"
      ]
    },
    {
      "cell_type": "code",
      "execution_count": null,
      "metadata": {
        "deletable": false,
        "nbgrader": {
          "cell_type": "code",
          "checksum": "22360b5fca505bd10654fae809bf2797",
          "grade": false,
          "grade_id": "cell-ebd0b1ea2eab31c6",
          "locked": false,
          "schema_version": 3,
          "solution": true,
          "task": false
        },
        "colab": {
          "base_uri": "https://localhost:8080/",
          "height": 297
        },
        "id": "AdVi02EtlAw0",
        "outputId": "ffa3386e-b368-4a97-b851-7f7858880b20"
      },
      "outputs": [
        {
          "output_type": "execute_result",
          "data": {
            "text/plain": [
              "Text(0, 0.5, 'Feature')"
            ]
          },
          "metadata": {},
          "execution_count": 201
        },
        {
          "output_type": "display_data",
          "data": {
            "image/png": "[encoded data removed]",
            "text/plain": [
              "<Figure size 432x288 with 1 Axes>"
            ]
          },
          "metadata": {
            "needs_background": "light"
          }
        }
      ],
      "source": [
        "# YOUR CODE HERE\n",
        "coefficients = model_r.named_steps['ridge'].coef_\n",
        "features = model_r.named_steps['onehotencoder'].get_feature_names()\n",
        "feat_imp = pd.Series(coefficients, index=features).sort_values(key=abs)\n",
        "feat_imp.tail(10).plot(kind='barh')\n",
        "plt.xlabel('SalePrice')\n",
        "plt.ylabel('Feature')"
      ]
    }
  ],
  "metadata": {
    "colab": {
      "name": "DS_Sprint_Challenge_21.ipynb",
      "provenance": []
    },
    "kernelspec": {
      "display_name": "Python 3",
      "language": "python",
      "name": "python3"
    },
    "language_info": {
      "codemirror_mode": {
        "name": "ipython",
        "version": 3
      },
      "file_extension": ".py",
      "mimetype": "text/x-python",
      "name": "python",
      "nbconvert_exporter": "python",
      "pygments_lexer": "ipython3",
      "version": "3.8.8"
    }
  },
  "nbformat": 4,
  "nbformat_minor": 0
}