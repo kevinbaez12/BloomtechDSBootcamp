{
  "cells": [
    {
      "cell_type": "markdown",
      "metadata": {
        "id": "RQw2GTc8oDRw"
      },
      "source": [
        "Unit 1, Sprint 2, Module 4\n",
        "\n",
        "###Learning Objectives:\n",
        "- Create a scatterplot\n",
        "- Identify the independent and dependent variables in a relationship (also known as features and target, or explanatory and response variables)\n",
        "- Identify linear and nonlinear relationships from a scatterplot\n",
        "- Calculate and interpret linear correlation\n",
        "- Calculate and interpret the slope and intercept of a simple linear regression model\n",
        "- Predict a response from a simple linear regression model\n",
        "- Calculate and interpret a residual"
      ]
    },
    {
      "cell_type": "markdown",
      "metadata": {
        "id": "CWB9BpTwAzmt"
      },
      "source": [
        "#Objective - Create a scatterplot"
      ]
    },
    {
      "cell_type": "markdown",
      "metadata": {
        "id": "uhmdnOzupL1N"
      },
      "source": [
        "### Let's start with an example:\n",
        "\n"
      ]
    },
    {
      "cell_type": "markdown",
      "metadata": {
        "id": "K1ExqvbepUkB"
      },
      "source": [
        "Anyone who is a fan of detective TV shows has watched a scene where human remains are discovered and some sort of expert is called in to determine when the person died. But is this science fiction or science fact? Is it possible to use evidence from skeletal remains to determine how long a body has been buried (a decent approximation of how long the person has been dead)? \n",
        "\n",
        "\n"
      ]
    },
    {
      "cell_type": "markdown",
      "metadata": {
        "id": "OypdMHJop6bQ"
      },
      "source": [
        "Researchers sampled long bone material from bodies exhumed from coffin burials in two cemeteries in England. In each case, date of death and burial (and therefore interment time) was known. This data is given in the Longbones.csv dataset. "
      ]
    },
    {
      "cell_type": "markdown",
      "metadata": {
        "id": "lM5t4Yajp8mH"
      },
      "source": [
        "**We wish to determine if there is a relationship between the nitrogen composition of the long bones of the skeleton and the length of time the body was interred.**\n",
        "\n",
        "Source: D.R. Jarvis (1997). \"Nitrogen Levels in Long Bones from Coffin Burials Interred for Periods of 26-90 Years,\" Forensic Science International, Vol85, pp199-208"
      ]
    },
    {
      "cell_type": "code",
      "execution_count": null,
      "metadata": {
        "id": "sJegaDmRn0a6",
        "colab": {
          "base_uri": "https://localhost:8080/",
          "height": 35
        },
        "outputId": "0fe036fe-a275-47f2-9132-fb44a6907d7b"
      },
      "outputs": [
        {
          "output_type": "execute_result",
          "data": {
            "application/vnd.google.colaboratory.intrinsic+json": {
              "type": "string"
            },
            "text/plain": [
              "'Shape of dataframe: (42, 7).'"
            ]
          },
          "metadata": {},
          "execution_count": 4
        }
      ],
      "source": [
        "#Import the Longbones.csv dataset from a URL and print the first few rows\n",
        "\n",
        "import pandas as pd\n",
        "import numpy as np\n",
        "\n",
        "\n",
        "data_url = 'https://raw.githubusercontent.com/LambdaSchool/data-science-practice-datasets/main/unit_1/Longbones/Longbones.csv'\n",
        "\n",
        "df = pd.read_csv(data_url, skipinitialspace=True, header=0)\n",
        "\n",
        "df.head()\n",
        "\n",
        "f'Shape of dataframe: {df.shape}.'"
      ]
    },
    {
      "cell_type": "markdown",
      "metadata": {
        "id": "UygPGJ5Iq4zZ"
      },
      "source": [
        "The two variables we are interested in - for now - are \n",
        "\n",
        "- Nitro, the amount of nitrogren present in the long bones of the skeleton measured in g/100g of bone\n",
        "- Time, the interment time of the body"
      ]
    },
    {
      "cell_type": "markdown",
      "metadata": {
        "id": "q5ese6fvrSBQ"
      },
      "source": [
        "Simple linear regression and correlation measure the *linear* relationship between two quantitative variables."
      ]
    },
    {
      "cell_type": "markdown",
      "metadata": {
        "id": "i2YWNjqzA36e"
      },
      "source": [
        "#Objective - Identify the independent and dependent variables in a relationship"
      ]
    },
    {
      "cell_type": "markdown",
      "metadata": {
        "id": "n2D0DmCwru_g"
      },
      "source": [
        "Each of the two variables has a unique role in the relationship.\n",
        "- The dependent (also known as the target, response or y variable) is the focus of our research question or experiment.  It is the variable we expect to change in response to the independent variable.\n",
        "- The independent (also known as a feature, explanatory or x variable) is used to explain or predict in the dependent variable."
      ]
    },
    {
      "cell_type": "markdown",
      "metadata": {
        "id": "s5AsLaQitiEX"
      },
      "source": [
        "In this case, because we want to try to use the nitrogen composition of the long bones of the skeleton to predict the amount of time the body has been buried, **nitrogen is the independent variable and interment time is the dependent variable**. "
      ]
    },
    {
      "cell_type": "markdown",
      "metadata": {
        "id": "p-dC58hMvRYt"
      },
      "source": [
        "The classic visualization to show the relationship between two quantitative variables is called a _____scatterplot_____.\n",
        "\n",
        "In a scatterplot, we plot the value of the indepdendent variable and the value of the dependent variable as an (x,y) pair.  \n",
        "\n",
        "For example, the first observation would be plotted by moving right on the x-axis to 3.88 and up along the y-axis direction to 88.5."
      ]
    },
    {
      "cell_type": "code",
      "execution_count": null,
      "metadata": {
        "id": "sVZOz0j8xLb4",
        "colab": {
          "base_uri": "https://localhost:8080/",
          "height": 296
        },
        "outputId": "b9ddd967-ccbc-43fa-ec0e-65c7a767d3b8"
      },
      "outputs": [
        {
          "output_type": "execute_result",
          "data": {
            "text/plain": [
              "<matplotlib.axes._subplots.AxesSubplot at 0x7f9a95694e90>"
            ]
          },
          "metadata": {},
          "execution_count": 15
        },
        {
          "output_type": "display_data",
          "data": {
            "image/png": "[encoded data removed]",
            "text/plain": [
              "<Figure size 432x288 with 1 Axes>"
            ]
          },
          "metadata": {
            "needs_background": "light"
          }
        }
      ],
      "source": [
        "import matplotlib.pyplot as plt\n",
        "import seaborn as sns\n",
        "\n",
        "sns.scatterplot(x= 'Nitro', y = 'Time', data=df)"
      ]
    },
    {
      "cell_type": "markdown",
      "metadata": {
        "id": "4eJsXuRLxKrz"
      },
      "source": [
        "From the scatterplot we can see that there is - maybe - a linear relationship between the amount of nitrogen still remaining in the long bones of the skeleton and the length of time the skeleton has been buried."
      ]
    },
    {
      "cell_type": "markdown",
      "metadata": {
        "id": "9VLKDiESxJSR"
      },
      "source": [
        "Before we get too much farther, let's take a look at the data and see if we need to do any additional data cleaning"
      ]
    },
    {
      "cell_type": "code",
      "execution_count": null,
      "metadata": {
        "id": "jagDF8wF0aaZ",
        "colab": {
          "base_uri": "https://localhost:8080/",
          "height": 283
        },
        "outputId": "339ff4b8-86f4-49d3-ca2a-84d3710602d1"
      },
      "outputs": [
        {
          "output_type": "execute_result",
          "data": {
            "text/plain": [
              "<matplotlib.axes._subplots.AxesSubplot at 0x7f9a955ffe50>"
            ]
          },
          "metadata": {},
          "execution_count": 16
        },
        {
          "output_type": "display_data",
          "data": {
            "image/png": "[encoded data removed]",
            "text/plain": [
              "<Figure size 432x288 with 1 Axes>"
            ]
          },
          "metadata": {
            "needs_background": "light"
          }
        }
      ],
      "source": [
        "#This is a short dataset so we can just print it out look for missing data.\n",
        "df.shape\n",
        "df.head()\n",
        "df['Age'].isnull().sum()\n",
        "df.isnull().sum().sum()\n",
        "df['Age'].hist()"
      ]
    },
    {
      "cell_type": "markdown",
      "metadata": {
        "id": "82l60bgp0vR5"
      },
      "source": [
        "First, the age of the individual at the time of death was unknown in several cases.  "
      ]
    },
    {
      "cell_type": "markdown",
      "metadata": {
        "id": "ZTnN18NN1H-c"
      },
      "source": [
        "It is good practice to eliminate (or impute - but we'll save that for later) missing data before building a regression model.  Even though all of the records for nitgrogen composition and interment time are complete, later we will want to be able to include age as an independent predictor, and it is missing for some records."
      ]
    },
    {
      "cell_type": "markdown",
      "metadata": {
        "id": "12WjHAT91iBl"
      },
      "source": [
        "When we build a regression model, it is always important to build it using the same individuals every time.  It's not fair to compare the fit of a model with fewer variables and more observations to a model with more variables and fewer observations (because some of those other variables include missing data)."
      ]
    },
    {
      "cell_type": "markdown",
      "metadata": {
        "id": "G4oNjo6t2BAs"
      },
      "source": [
        "There is also a variable called Oil that indicates if the burial site was contaminated with fuel oil.  The study authors decided to remove those observations from their analysis because they were concerned that the oil contamination would change the natural relationship between nitrogen composition and interment time."
      ]
    },
    {
      "cell_type": "markdown",
      "metadata": {
        "id": "wMQY1jX04Njg"
      },
      "source": [
        "We can print these observations in a different color on our scatterplot to see if they fall in the general pattern of - or away from the pattern of - the overall relationship between long bone nitrogen compostion and interment time."
      ]
    },
    {
      "cell_type": "code",
      "execution_count": null,
      "metadata": {
        "id": "IEzlwaXX4By5",
        "colab": {
          "base_uri": "https://localhost:8080/",
          "height": 296
        },
        "outputId": "89a3343b-5f2b-4f58-8103-449fbaa4bdcc"
      },
      "outputs": [
        {
          "output_type": "execute_result",
          "data": {
            "text/plain": [
              "<matplotlib.axes._subplots.AxesSubplot at 0x7f9a95594990>"
            ]
          },
          "metadata": {},
          "execution_count": 17
        },
        {
          "output_type": "display_data",
          "data": {
            "image/png": "[encoded data removed]",
            "text/plain": [
              "<Figure size 432x288 with 1 Axes>"
            ]
          },
          "metadata": {
            "needs_background": "light"
          }
        }
      ],
      "source": [
        "sns.scatterplot(x= 'Nitro', y = 'Time', data= df, hue= 'Oil')"
      ]
    },
    {
      "cell_type": "code",
      "source": [
        "df['Oil'].value_counts()"
      ],
      "metadata": {
        "colab": {
          "base_uri": "https://localhost:8080/"
        },
        "id": "TBD21zp8hsIn",
        "outputId": "87e37064-8f98-495b-c136-3eae4ab0fbdd"
      },
      "execution_count": null,
      "outputs": [
        {
          "output_type": "execute_result",
          "data": {
            "text/plain": [
              "0    39\n",
              "1     3\n",
              "Name: Oil, dtype: int64"
            ]
          },
          "metadata": {},
          "execution_count": 18
        }
      ]
    },
    {
      "cell_type": "markdown",
      "metadata": {
        "id": "B1O2nuW_3ixr"
      },
      "source": [
        "Because there is a biological reason that oil contamination might obscure the true relationship between long bone nitrogen composition and interment time, we will remove those observations from our dataset before we begin our analysis."
      ]
    },
    {
      "cell_type": "code",
      "execution_count": null,
      "metadata": {
        "id": "Nin65unm6g_B"
      },
      "outputs": [],
      "source": [
        "df.drop(df[df['Oil'] == 1].index, inplace =True)"
      ]
    },
    {
      "cell_type": "code",
      "source": [
        "df.isnull().sum()"
      ],
      "metadata": {
        "colab": {
          "base_uri": "https://localhost:8080/"
        },
        "id": "AVrakd4hm-OP",
        "outputId": "ea9dff29-fc16-4cfa-9d74-438d6a396640"
      },
      "execution_count": null,
      "outputs": [
        {
          "output_type": "execute_result",
          "data": {
            "text/plain": [
              "Site     0\n",
              "Time     0\n",
              "Depth    0\n",
              "Lime     0\n",
              "Age      4\n",
              "Nitro    0\n",
              "Oil      0\n",
              "dtype: int64"
            ]
          },
          "metadata": {},
          "execution_count": 42
        }
      ]
    },
    {
      "cell_type": "code",
      "source": [
        "df.fillna(df['Age'].mean(), inplace =True)"
      ],
      "metadata": {
        "id": "opkMz40mnFFV"
      },
      "execution_count": null,
      "outputs": []
    },
    {
      "cell_type": "markdown",
      "metadata": {
        "id": "4UiE90w06bju"
      },
      "source": [
        "Note that the three oil contaminated gravesites will be removed from the data when we remove the observations with a missing age or burial depth.\n",
        "\n",
        "Something to point out here - data cleaning isn't only about removing missing data.  Sometimes we don't want to remove records with missing data because they are communicating important information (more on that in Unit 2), and sometimes we want to remove other records for reasons related to the subject matter - as in the case with removing the observations that were contaminated with fuel oil."
      ]
    },
    {
      "cell_type": "code",
      "execution_count": null,
      "metadata": {
        "id": "McjJGlT66tXO"
      },
      "outputs": [],
      "source": [
        "#Drop records with NAs and rename the dataset longbones\n",
        "df = df.dropna()"
      ]
    },
    {
      "cell_type": "code",
      "execution_count": null,
      "metadata": {
        "id": "J8UCpYvu8Z4H",
        "colab": {
          "base_uri": "https://localhost:8080/",
          "height": 731
        },
        "outputId": "ebb0daa3-415a-4890-8940-a60fcbcf1c84"
      },
      "outputs": [
        {
          "output_type": "execute_result",
          "data": {
            "text/plain": [
              "<matplotlib.axes._subplots.AxesSubplot at 0x7f9a8c453710>"
            ]
          },
          "metadata": {},
          "execution_count": 41
        },
        {
          "output_type": "display_data",
          "data": {
            "image/png": "[encoded data removed]",
            "text/plain": [
              "<Figure size 864x864 with 1 Axes>"
            ]
          },
          "metadata": {
            "needs_background": "light"
          }
        }
      ],
      "source": [
        "#Let's look at the scatterplot with the cleaned data.\n",
        "import matplotlib.pyplot as plt\n",
        "plt.figure(figsize= (12,12))\n",
        "sns.scatterplot(x= 'Nitro', y = 'Time', data= df)"
      ]
    },
    {
      "cell_type": "markdown",
      "metadata": {
        "id": "FAOJxCYS-iE1"
      },
      "source": [
        "There appears to be a negative association between long bone nitrogen compostiion and interment time. More long bone nitrogen composition = less interment time and vice versa."
      ]
    },
    {
      "cell_type": "markdown",
      "metadata": {
        "id": "dvVJB2Zy--jP"
      },
      "source": [
        "But is there a relationship between these two variables?  If so, how strong it is?"
      ]
    },
    {
      "cell_type": "markdown",
      "metadata": {
        "id": "vnpywxabBErE"
      },
      "source": [
        "#Objective - Calculate and interpret linear correlation"
      ]
    },
    {
      "cell_type": "markdown",
      "metadata": {
        "id": "gK6BZeBV_Hwb"
      },
      "source": [
        "The linear correlation coefficient measures the strength and the direction of the linear relationship between two quantitative variables.\n",
        "\n",
        "\n",
        "- Correlation is measured on a scale of -1 to 1.  -1 = perfect negative correlation, 1 = perfect positive correlation, 0 = no correlation\n",
        "- Correlation has units.\n",
        "- The correlation of  X with y is equal to the correlation of y with X. \n",
        "- A correlation |r| > 0.80 is considered strong and a correlation |r| < 0.20 is considered weak.\n",
        "\n",
        "\n",
        "\n"
      ]
    },
    {
      "cell_type": "markdown",
      "metadata": {
        "id": "5ZeOv8ELAy8u"
      },
      "source": [
        "The formula to calculate correlation is messy and doesn't convey a lot of information on its own.  Instead we'll use the built-in .corrcoef() function in numpy to calculate the correlation between Nitro and Time in our data.  We'll use two methods - one from scipy.stats and one from numpy."
      ]
    },
    {
      "cell_type": "code",
      "execution_count": null,
      "metadata": {
        "id": "GyoPNwziBm-5",
        "colab": {
          "base_uri": "https://localhost:8080/"
        },
        "outputId": "3819e893-03c6-44ce-e0c0-92a160655d11"
      },
      "outputs": [
        {
          "output_type": "stream",
          "name": "stdout",
          "text": [
            "(-0.6705376062281427, 1.0466222859586741e-05)\n"
          ]
        },
        {
          "output_type": "execute_result",
          "data": {
            "text/plain": [
              "array([[ 1.        , -0.67053761],\n",
              "       [-0.67053761,  1.        ]])"
            ]
          },
          "metadata": {},
          "execution_count": 34
        }
      ],
      "source": [
        "import scipy.stats as st \n",
        "\n",
        "print(st.pearsonr(df['Nitro'], df['Time']))\n",
        "\n",
        "import numpy as np\n",
        "\n",
        "np.corrcoef(df['Nitro'], df['Time'])"
      ]
    },
    {
      "cell_type": "markdown",
      "metadata": {
        "id": "XK5-ZKk_DFLh"
      },
      "source": [
        "np.corrcoef gives us more information than we actually need *for now*.  Right now, it's telling us that the correlation between x and x is 1, and between y and y is 1 (those are the numbers on the diagonal).  The correlation between x and y is -0.67 and the correlation between y and x is -0.67\n",
        "\n",
        "Later on we'll calculate the correlation between multiple variables simultaneously, and this matrix-type output will make more sense."
      ]
    },
    {
      "cell_type": "markdown",
      "metadata": {
        "id": "yTZr0gz8FSnV"
      },
      "source": [
        "Suffice it to say that the linear correlation between nitrogen composition and interment time is -0.67.  This doesn't quite qualify as a strong correlation |r| > 0.80 but it's not weak either |r| < 0.20.  We'll say it's moderate!"
      ]
    },
    {
      "cell_type": "markdown",
      "metadata": {
        "id": "uSLF6Bk6A-5B"
      },
      "source": [
        "#Objective - Identify linear and nonlinear relationships from a scatterplot"
      ]
    },
    {
      "cell_type": "markdown",
      "metadata": {
        "id": "IteB9LnHSsw5"
      },
      "source": [
        "Let's look at some other scatterplot patterns and values of correlation for comparison."
      ]
    },
    {
      "cell_type": "markdown",
      "metadata": {
        "id": "GhpFtHP_S9lw"
      },
      "source": [
        "![Correlations.jpg](data:image/jpeg;base64,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)"
      ]
    },
    {
      "cell_type": "markdown",
      "metadata": {
        "id": "AzdWVytNTTib"
      },
      "source": [
        "Note that in example f) there does appear to be a relationship between the two variables, it's just not a *linear* relationship, which is why the correlation is 0."
      ]
    },
    {
      "cell_type": "markdown",
      "metadata": {
        "id": "N1DwNk3MrIp3"
      },
      "source": [
        "Correlation gives us a measure of how related two quantitative variables are. However, we'd like to go one step further and see if we can use a skeleton's long bone nitrogen composition to estimate how long the body has been buried.\n",
        "\n",
        "We are going to do this by calculating the least squares regression line (also known as the line of best fit) for the data.\n",
        "\n"
      ]
    },
    {
      "cell_type": "markdown",
      "metadata": {
        "id": "xdaxrfNdsmga"
      },
      "source": [
        "When dealing with real data (as opposed to working with graphs in algebra), the points in a scatterplot will never line up perfectly.  The best model of the relationship between the two variables is the straight line that comes closest to passing through all the points (knowing that it won't actually hit all of them)."
      ]
    },
    {
      "cell_type": "markdown",
      "metadata": {
        "id": "CifWmZg3tySq"
      },
      "source": [
        "The least squares regression line is the line that minimizes the squared distances from every observed point to the regression line.  That fact can be proven mathematically, though we won't do it here."
      ]
    },
    {
      "cell_type": "code",
      "source": [
        "ans"
      ],
      "metadata": {
        "colab": {
          "base_uri": "https://localhost:8080/",
          "height": 1000
        },
        "id": "5G8aF4KLnlLB",
        "outputId": "11e2f542-334d-4909-b90a-a796fd090360"
      },
      "execution_count": null,
      "outputs": [
        {
          "output_type": "execute_result",
          "data": {
            "text/html": [
              "\n",
              "  <div id=\"df-8058cd84-1e79-484f-a98c-e99a86a92736\">\n",
              "    <div class=\"colab-df-container\">\n",
              "      <div>\n",
              "<style scoped>\n",
              "    .dataframe tbody tr th:only-of-type {\n",
              "        vertical-align: middle;\n",
              "    }\n",
              "\n",
              "    .dataframe tbody tr th {\n",
              "        vertical-align: top;\n",
              "    }\n",
              "\n",
              "    .dataframe thead th {\n",
              "        text-align: right;\n",
              "    }\n",
              "</style>\n",
              "<table border=\"1\" class=\"dataframe\">\n",
              "  <thead>\n",
              "    <tr style=\"text-align: right;\">\n",
              "      <th></th>\n",
              "      <th>dataset</th>\n",
              "      <th>x</th>\n",
              "      <th>y</th>\n",
              "    </tr>\n",
              "  </thead>\n",
              "  <tbody>\n",
              "    <tr>\n",
              "      <th>0</th>\n",
              "      <td>I</td>\n",
              "      <td>10.0</td>\n",
              "      <td>8.04</td>\n",
              "    </tr>\n",
              "    <tr>\n",
              "      <th>1</th>\n",
              "      <td>I</td>\n",
              "      <td>8.0</td>\n",
              "      <td>6.95</td>\n",
              "    </tr>\n",
              "    <tr>\n",
              "      <th>2</th>\n",
              "      <td>I</td>\n",
              "      <td>13.0</td>\n",
              "      <td>7.58</td>\n",
              "    </tr>\n",
              "    <tr>\n",
              "      <th>3</th>\n",
              "      <td>I</td>\n",
              "      <td>9.0</td>\n",
              "      <td>8.81</td>\n",
              "    </tr>\n",
              "    <tr>\n",
              "      <th>4</th>\n",
              "      <td>I</td>\n",
              "      <td>11.0</td>\n",
              "      <td>8.33</td>\n",
              "    </tr>\n",
              "    <tr>\n",
              "      <th>5</th>\n",
              "      <td>I</td>\n",
              "      <td>14.0</td>\n",
              "      <td>9.96</td>\n",
              "    </tr>\n",
              "    <tr>\n",
              "      <th>6</th>\n",
              "      <td>I</td>\n",
              "      <td>6.0</td>\n",
              "      <td>7.24</td>\n",
              "    </tr>\n",
              "    <tr>\n",
              "      <th>7</th>\n",
              "      <td>I</td>\n",
              "      <td>4.0</td>\n",
              "      <td>4.26</td>\n",
              "    </tr>\n",
              "    <tr>\n",
              "      <th>8</th>\n",
              "      <td>I</td>\n",
              "      <td>12.0</td>\n",
              "      <td>10.84</td>\n",
              "    </tr>\n",
              "    <tr>\n",
              "      <th>9</th>\n",
              "      <td>I</td>\n",
              "      <td>7.0</td>\n",
              "      <td>4.82</td>\n",
              "    </tr>\n",
              "    <tr>\n",
              "      <th>10</th>\n",
              "      <td>I</td>\n",
              "      <td>5.0</td>\n",
              "      <td>5.68</td>\n",
              "    </tr>\n",
              "    <tr>\n",
              "      <th>11</th>\n",
              "      <td>II</td>\n",
              "      <td>10.0</td>\n",
              "      <td>9.14</td>\n",
              "    </tr>\n",
              "    <tr>\n",
              "      <th>12</th>\n",
              "      <td>II</td>\n",
              "      <td>8.0</td>\n",
              "      <td>8.14</td>\n",
              "    </tr>\n",
              "    <tr>\n",
              "      <th>13</th>\n",
              "      <td>II</td>\n",
              "      <td>13.0</td>\n",
              "      <td>8.74</td>\n",
              "    </tr>\n",
              "    <tr>\n",
              "      <th>14</th>\n",
              "      <td>II</td>\n",
              "      <td>9.0</td>\n",
              "      <td>8.77</td>\n",
              "    </tr>\n",
              "    <tr>\n",
              "      <th>15</th>\n",
              "      <td>II</td>\n",
              "      <td>11.0</td>\n",
              "      <td>9.26</td>\n",
              "    </tr>\n",
              "    <tr>\n",
              "      <th>16</th>\n",
              "      <td>II</td>\n",
              "      <td>14.0</td>\n",
              "      <td>8.10</td>\n",
              "    </tr>\n",
              "    <tr>\n",
              "      <th>17</th>\n",
              "      <td>II</td>\n",
              "      <td>6.0</td>\n",
              "      <td>6.13</td>\n",
              "    </tr>\n",
              "    <tr>\n",
              "      <th>18</th>\n",
              "      <td>II</td>\n",
              "      <td>4.0</td>\n",
              "      <td>3.10</td>\n",
              "    </tr>\n",
              "    <tr>\n",
              "      <th>19</th>\n",
              "      <td>II</td>\n",
              "      <td>12.0</td>\n",
              "      <td>9.13</td>\n",
              "    </tr>\n",
              "    <tr>\n",
              "      <th>20</th>\n",
              "      <td>II</td>\n",
              "      <td>7.0</td>\n",
              "      <td>7.26</td>\n",
              "    </tr>\n",
              "    <tr>\n",
              "      <th>21</th>\n",
              "      <td>II</td>\n",
              "      <td>5.0</td>\n",
              "      <td>4.74</td>\n",
              "    </tr>\n",
              "    <tr>\n",
              "      <th>22</th>\n",
              "      <td>III</td>\n",
              "      <td>10.0</td>\n",
              "      <td>7.46</td>\n",
              "    </tr>\n",
              "    <tr>\n",
              "      <th>23</th>\n",
              "      <td>III</td>\n",
              "      <td>8.0</td>\n",
              "      <td>6.77</td>\n",
              "    </tr>\n",
              "    <tr>\n",
              "      <th>24</th>\n",
              "      <td>III</td>\n",
              "      <td>13.0</td>\n",
              "      <td>12.74</td>\n",
              "    </tr>\n",
              "    <tr>\n",
              "      <th>25</th>\n",
              "      <td>III</td>\n",
              "      <td>9.0</td>\n",
              "      <td>7.11</td>\n",
              "    </tr>\n",
              "    <tr>\n",
              "      <th>26</th>\n",
              "      <td>III</td>\n",
              "      <td>11.0</td>\n",
              "      <td>7.81</td>\n",
              "    </tr>\n",
              "    <tr>\n",
              "      <th>27</th>\n",
              "      <td>III</td>\n",
              "      <td>14.0</td>\n",
              "      <td>8.84</td>\n",
              "    </tr>\n",
              "    <tr>\n",
              "      <th>28</th>\n",
              "      <td>III</td>\n",
              "      <td>6.0</td>\n",
              "      <td>6.08</td>\n",
              "    </tr>\n",
              "    <tr>\n",
              "      <th>29</th>\n",
              "      <td>III</td>\n",
              "      <td>4.0</td>\n",
              "      <td>5.39</td>\n",
              "    </tr>\n",
              "    <tr>\n",
              "      <th>30</th>\n",
              "      <td>III</td>\n",
              "      <td>12.0</td>\n",
              "      <td>8.15</td>\n",
              "    </tr>\n",
              "    <tr>\n",
              "      <th>31</th>\n",
              "      <td>III</td>\n",
              "      <td>7.0</td>\n",
              "      <td>6.42</td>\n",
              "    </tr>\n",
              "    <tr>\n",
              "      <th>32</th>\n",
              "      <td>III</td>\n",
              "      <td>5.0</td>\n",
              "      <td>5.73</td>\n",
              "    </tr>\n",
              "    <tr>\n",
              "      <th>33</th>\n",
              "      <td>IV</td>\n",
              "      <td>8.0</td>\n",
              "      <td>6.58</td>\n",
              "    </tr>\n",
              "    <tr>\n",
              "      <th>34</th>\n",
              "      <td>IV</td>\n",
              "      <td>8.0</td>\n",
              "      <td>5.76</td>\n",
              "    </tr>\n",
              "    <tr>\n",
              "      <th>35</th>\n",
              "      <td>IV</td>\n",
              "      <td>8.0</td>\n",
              "      <td>7.71</td>\n",
              "    </tr>\n",
              "    <tr>\n",
              "      <th>36</th>\n",
              "      <td>IV</td>\n",
              "      <td>8.0</td>\n",
              "      <td>8.84</td>\n",
              "    </tr>\n",
              "    <tr>\n",
              "      <th>37</th>\n",
              "      <td>IV</td>\n",
              "      <td>8.0</td>\n",
              "      <td>8.47</td>\n",
              "    </tr>\n",
              "    <tr>\n",
              "      <th>38</th>\n",
              "      <td>IV</td>\n",
              "      <td>8.0</td>\n",
              "      <td>7.04</td>\n",
              "    </tr>\n",
              "    <tr>\n",
              "      <th>39</th>\n",
              "      <td>IV</td>\n",
              "      <td>8.0</td>\n",
              "      <td>5.25</td>\n",
              "    </tr>\n",
              "    <tr>\n",
              "      <th>40</th>\n",
              "      <td>IV</td>\n",
              "      <td>19.0</td>\n",
              "      <td>12.50</td>\n",
              "    </tr>\n",
              "    <tr>\n",
              "      <th>41</th>\n",
              "      <td>IV</td>\n",
              "      <td>8.0</td>\n",
              "      <td>5.56</td>\n",
              "    </tr>\n",
              "    <tr>\n",
              "      <th>42</th>\n",
              "      <td>IV</td>\n",
              "      <td>8.0</td>\n",
              "      <td>7.91</td>\n",
              "    </tr>\n",
              "    <tr>\n",
              "      <th>43</th>\n",
              "      <td>IV</td>\n",
              "      <td>8.0</td>\n",
              "      <td>6.89</td>\n",
              "    </tr>\n",
              "  </tbody>\n",
              "</table>\n",
              "</div>\n",
              "      <button class=\"colab-df-convert\" onclick=\"convertToInteractive('df-8058cd84-1e79-484f-a98c-e99a86a92736')\"\n",
              "              title=\"Convert this dataframe to an interactive table.\"\n",
              "              style=\"display:none;\">\n",
              "        \n",
              "  <svg xmlns=\"http://www.w3.org/2000/svg\" height=\"24px\"viewBox=\"0 0 24 24\"\n",
              "       width=\"24px\">\n",
              "    <path d=\"M0 0h24v24H0V0z\" fill=\"none\"/>\n",
              "    <path d=\"M18.56 5.44l.94 2.06.94-2.06 2.06-.94-2.06-.94-.94-2.06-.94 2.06-2.06.94zm-11 1L8.5 8.5l.94-2.06 2.06-.94-2.06-.94L8.5 2.5l-.94 2.06-2.06.94zm10 10l.94 2.06.94-2.06 2.06-.94-2.06-.94-.94-2.06-.94 2.06-2.06.94z\"/><path d=\"M17.41 7.96l-1.37-1.37c-.4-.4-.92-.59-1.43-.59-.52 0-1.04.2-1.43.59L10.3 9.45l-7.72 7.72c-.78.78-.78 2.05 0 2.83L4 21.41c.39.39.9.59 1.41.59.51 0 1.02-.2 1.41-.59l7.78-7.78 2.81-2.81c.8-.78.8-2.07 0-2.86zM5.41 20L4 18.59l7.72-7.72 1.47 1.35L5.41 20z\"/>\n",
              "  </svg>\n",
              "      </button>\n",
              "      \n",
              "  <style>\n",
              "    .colab-df-container {\n",
              "      display:flex;\n",
              "      flex-wrap:wrap;\n",
              "      gap: 12px;\n",
              "    }\n",
              "\n",
              "    .colab-df-convert {\n",
              "      background-color: #E8F0FE;\n",
              "      border: none;\n",
              "      border-radius: 50%;\n",
              "      cursor: pointer;\n",
              "      display: none;\n",
              "      fill: #1967D2;\n",
              "      height: 32px;\n",
              "      padding: 0 0 0 0;\n",
              "      width: 32px;\n",
              "    }\n",
              "\n",
              "    .colab-df-convert:hover {\n",
              "      background-color: #E2EBFA;\n",
              "      box-shadow: 0px 1px 2px rgba(60, 64, 67, 0.3), 0px 1px 3px 1px rgba(60, 64, 67, 0.15);\n",
              "      fill: #174EA6;\n",
              "    }\n",
              "\n",
              "    [theme=dark] .colab-df-convert {\n",
              "      background-color: #3B4455;\n",
              "      fill: #D2E3FC;\n",
              "    }\n",
              "\n",
              "    [theme=dark] .colab-df-convert:hover {\n",
              "      background-color: #434B5C;\n",
              "      box-shadow: 0px 1px 3px 1px rgba(0, 0, 0, 0.15);\n",
              "      filter: drop-shadow(0px 1px 2px rgba(0, 0, 0, 0.3));\n",
              "      fill: #FFFFFF;\n",
              "    }\n",
              "  </style>\n",
              "\n",
              "      <script>\n",
              "        const buttonEl =\n",
              "          document.querySelector('#df-8058cd84-1e79-484f-a98c-e99a86a92736 button.colab-df-convert');\n",
              "        buttonEl.style.display =\n",
              "          google.colab.kernel.accessAllowed ? 'block' : 'none';\n",
              "\n",
              "        async function convertToInteractive(key) {\n",
              "          const element = document.querySelector('#df-8058cd84-1e79-484f-a98c-e99a86a92736');\n",
              "          const dataTable =\n",
              "            await google.colab.kernel.invokeFunction('convertToInteractive',\n",
              "                                                     [key], {});\n",
              "          if (!dataTable) return;\n",
              "\n",
              "          const docLinkHtml = 'Like what you see? Visit the ' +\n",
              "            '<a target=\"_blank\" href=https://colab.research.google.com/notebooks/data_table.ipynb>data table notebook</a>'\n",
              "            + ' to learn more about interactive tables.';\n",
              "          element.innerHTML = '';\n",
              "          dataTable['output_type'] = 'display_data';\n",
              "          await google.colab.output.renderOutput(dataTable, element);\n",
              "          const docLink = document.createElement('div');\n",
              "          docLink.innerHTML = docLinkHtml;\n",
              "          element.appendChild(docLink);\n",
              "        }\n",
              "      </script>\n",
              "    </div>\n",
              "  </div>\n",
              "  "
            ],
            "text/plain": [
              "   dataset     x      y\n",
              "0        I  10.0   8.04\n",
              "1        I   8.0   6.95\n",
              "2        I  13.0   7.58\n",
              "3        I   9.0   8.81\n",
              "4        I  11.0   8.33\n",
              "5        I  14.0   9.96\n",
              "6        I   6.0   7.24\n",
              "7        I   4.0   4.26\n",
              "8        I  12.0  10.84\n",
              "9        I   7.0   4.82\n",
              "10       I   5.0   5.68\n",
              "11      II  10.0   9.14\n",
              "12      II   8.0   8.14\n",
              "13      II  13.0   8.74\n",
              "14      II   9.0   8.77\n",
              "15      II  11.0   9.26\n",
              "16      II  14.0   8.10\n",
              "17      II   6.0   6.13\n",
              "18      II   4.0   3.10\n",
              "19      II  12.0   9.13\n",
              "20      II   7.0   7.26\n",
              "21      II   5.0   4.74\n",
              "22     III  10.0   7.46\n",
              "23     III   8.0   6.77\n",
              "24     III  13.0  12.74\n",
              "25     III   9.0   7.11\n",
              "26     III  11.0   7.81\n",
              "27     III  14.0   8.84\n",
              "28     III   6.0   6.08\n",
              "29     III   4.0   5.39\n",
              "30     III  12.0   8.15\n",
              "31     III   7.0   6.42\n",
              "32     III   5.0   5.73\n",
              "33      IV   8.0   6.58\n",
              "34      IV   8.0   5.76\n",
              "35      IV   8.0   7.71\n",
              "36      IV   8.0   8.84\n",
              "37      IV   8.0   8.47\n",
              "38      IV   8.0   7.04\n",
              "39      IV   8.0   5.25\n",
              "40      IV  19.0  12.50\n",
              "41      IV   8.0   5.56\n",
              "42      IV   8.0   7.91\n",
              "43      IV   8.0   6.89"
            ]
          },
          "metadata": {},
          "execution_count": 38
        }
      ]
    },
    {
      "cell_type": "code",
      "source": [
        "ans = sns.load_dataset('anscombe')\n",
        "\n",
        "for i in ans['dataset'].unique():\n",
        "  display(ans[ans['dataset']== i].describe())\n",
        "\n",
        "\n",
        "sns.lmplot(x= 'x', y='y', data=ans, col= 'dataset', hue='dataset')"
      ],
      "metadata": {
        "colab": {
          "base_uri": "https://localhost:8080/",
          "height": 1000
        },
        "id": "mJLYEfwFnBJF",
        "outputId": "431124ea-b952-447c-ce2e-c2a1129afdfb"
      },
      "execution_count": null,
      "outputs": [
        {
          "output_type": "display_data",
          "data": {
            "text/html": [
              "\n",
              "  <div id=\"df-89a4ade1-efbe-429c-9449-7dd3e05a0453\">\n",
              "    <div class=\"colab-df-container\">\n",
              "      <div>\n",
              "<style scoped>\n",
              "    .dataframe tbody tr th:only-of-type {\n",
              "        vertical-align: middle;\n",
              "    }\n",
              "\n",
              "    .dataframe tbody tr th {\n",
              "        vertical-align: top;\n",
              "    }\n",
              "\n",
              "    .dataframe thead th {\n",
              "        text-align: right;\n",
              "    }\n",
              "</style>\n",
              "<table border=\"1\" class=\"dataframe\">\n",
              "  <thead>\n",
              "    <tr style=\"text-align: right;\">\n",
              "      <th></th>\n",
              "      <th>x</th>\n",
              "      <th>y</th>\n",
              "    </tr>\n",
              "  </thead>\n",
              "  <tbody>\n",
              "    <tr>\n",
              "      <th>count</th>\n",
              "      <td>11.000000</td>\n",
              "      <td>11.000000</td>\n",
              "    </tr>\n",
              "    <tr>\n",
              "      <th>mean</th>\n",
              "      <td>9.000000</td>\n",
              "      <td>7.500909</td>\n",
              "    </tr>\n",
              "    <tr>\n",
              "      <th>std</th>\n",
              "      <td>3.316625</td>\n",
              "      <td>2.031568</td>\n",
              "    </tr>\n",
              "    <tr>\n",
              "      <th>min</th>\n",
              "      <td>4.000000</td>\n",
              "      <td>4.260000</td>\n",
              "    </tr>\n",
              "    <tr>\n",
              "      <th>25%</th>\n",
              "      <td>6.500000</td>\n",
              "      <td>6.315000</td>\n",
              "    </tr>\n",
              "    <tr>\n",
              "      <th>50%</th>\n",
              "      <td>9.000000</td>\n",
              "      <td>7.580000</td>\n",
              "    </tr>\n",
              "    <tr>\n",
              "      <th>75%</th>\n",
              "      <td>11.500000</td>\n",
              "      <td>8.570000</td>\n",
              "    </tr>\n",
              "    <tr>\n",
              "      <th>max</th>\n",
              "      <td>14.000000</td>\n",
              "      <td>10.840000</td>\n",
              "    </tr>\n",
              "  </tbody>\n",
              "</table>\n",
              "</div>\n",
              "      <button class=\"colab-df-convert\" onclick=\"convertToInteractive('df-89a4ade1-efbe-429c-9449-7dd3e05a0453')\"\n",
              "              title=\"Convert this dataframe to an interactive table.\"\n",
              "              style=\"display:none;\">\n",
              "        \n",
              "  <svg xmlns=\"http://www.w3.org/2000/svg\" height=\"24px\"viewBox=\"0 0 24 24\"\n",
              "       width=\"24px\">\n",
              "    <path d=\"M0 0h24v24H0V0z\" fill=\"none\"/>\n",
              "    <path d=\"M18.56 5.44l.94 2.06.94-2.06 2.06-.94-2.06-.94-.94-2.06-.94 2.06-2.06.94zm-11 1L8.5 8.5l.94-2.06 2.06-.94-2.06-.94L8.5 2.5l-.94 2.06-2.06.94zm10 10l.94 2.06.94-2.06 2.06-.94-2.06-.94-.94-2.06-.94 2.06-2.06.94z\"/><path d=\"M17.41 7.96l-1.37-1.37c-.4-.4-.92-.59-1.43-.59-.52 0-1.04.2-1.43.59L10.3 9.45l-7.72 7.72c-.78.78-.78 2.05 0 2.83L4 21.41c.39.39.9.59 1.41.59.51 0 1.02-.2 1.41-.59l7.78-7.78 2.81-2.81c.8-.78.8-2.07 0-2.86zM5.41 20L4 18.59l7.72-7.72 1.47 1.35L5.41 20z\"/>\n",
              "  </svg>\n",
              "      </button>\n",
              "      \n",
              "  <style>\n",
              "    .colab-df-container {\n",
              "      display:flex;\n",
              "      flex-wrap:wrap;\n",
              "      gap: 12px;\n",
              "    }\n",
              "\n",
              "    .colab-df-convert {\n",
              "      background-color: #E8F0FE;\n",
              "      border: none;\n",
              "      border-radius: 50%;\n",
              "      cursor: pointer;\n",
              "      display: none;\n",
              "      fill: #1967D2;\n",
              "      height: 32px;\n",
              "      padding: 0 0 0 0;\n",
              "      width: 32px;\n",
              "    }\n",
              "\n",
              "    .colab-df-convert:hover {\n",
              "      background-color: #E2EBFA;\n",
              "      box-shadow: 0px 1px 2px rgba(60, 64, 67, 0.3), 0px 1px 3px 1px rgba(60, 64, 67, 0.15);\n",
              "      fill: #174EA6;\n",
              "    }\n",
              "\n",
              "    [theme=dark] .colab-df-convert {\n",
              "      background-color: #3B4455;\n",
              "      fill: #D2E3FC;\n",
              "    }\n",
              "\n",
              "    [theme=dark] .colab-df-convert:hover {\n",
              "      background-color: #434B5C;\n",
              "      box-shadow: 0px 1px 3px 1px rgba(0, 0, 0, 0.15);\n",
              "      filter: drop-shadow(0px 1px 2px rgba(0, 0, 0, 0.3));\n",
              "      fill: #FFFFFF;\n",
              "    }\n",
              "  </style>\n",
              "\n",
              "      <script>\n",
              "        const buttonEl =\n",
              "          document.querySelector('#df-89a4ade1-efbe-429c-9449-7dd3e05a0453 button.colab-df-convert');\n",
              "        buttonEl.style.display =\n",
              "          google.colab.kernel.accessAllowed ? 'block' : 'none';\n",
              "\n",
              "        async function convertToInteractive(key) {\n",
              "          const element = document.querySelector('#df-89a4ade1-efbe-429c-9449-7dd3e05a0453');\n",
              "          const dataTable =\n",
              "            await google.colab.kernel.invokeFunction('convertToInteractive',\n",
              "                                                     [key], {});\n",
              "          if (!dataTable) return;\n",
              "\n",
              "          const docLinkHtml = 'Like what you see? Visit the ' +\n",
              "            '<a target=\"_blank\" href=https://colab.research.google.com/notebooks/data_table.ipynb>data table notebook</a>'\n",
              "            + ' to learn more about interactive tables.';\n",
              "          element.innerHTML = '';\n",
              "          dataTable['output_type'] = 'display_data';\n",
              "          await google.colab.output.renderOutput(dataTable, element);\n",
              "          const docLink = document.createElement('div');\n",
              "          docLink.innerHTML = docLinkHtml;\n",
              "          element.appendChild(docLink);\n",
              "        }\n",
              "      </script>\n",
              "    </div>\n",
              "  </div>\n",
              "  "
            ],
            "text/plain": [
              "               x          y\n",
              "count  11.000000  11.000000\n",
              "mean    9.000000   7.500909\n",
              "std     3.316625   2.031568\n",
              "min     4.000000   4.260000\n",
              "25%     6.500000   6.315000\n",
              "50%     9.000000   7.580000\n",
              "75%    11.500000   8.570000\n",
              "max    14.000000  10.840000"
            ]
          },
          "metadata": {}
        },
        {
          "output_type": "display_data",
          "data": {
            "text/html": [
              "\n",
              "  <div id=\"df-38d07d6f-37b2-4aed-911c-76260061d10a\">\n",
              "    <div class=\"colab-df-container\">\n",
              "      <div>\n",
              "<style scoped>\n",
              "    .dataframe tbody tr th:only-of-type {\n",
              "        vertical-align: middle;\n",
              "    }\n",
              "\n",
              "    .dataframe tbody tr th {\n",
              "        vertical-align: top;\n",
              "    }\n",
              "\n",
              "    .dataframe thead th {\n",
              "        text-align: right;\n",
              "    }\n",
              "</style>\n",
              "<table border=\"1\" class=\"dataframe\">\n",
              "  <thead>\n",
              "    <tr style=\"text-align: right;\">\n",
              "      <th></th>\n",
              "      <th>x</th>\n",
              "      <th>y</th>\n",
              "    </tr>\n",
              "  </thead>\n",
              "  <tbody>\n",
              "    <tr>\n",
              "      <th>count</th>\n",
              "      <td>11.000000</td>\n",
              "      <td>11.000000</td>\n",
              "    </tr>\n",
              "    <tr>\n",
              "      <th>mean</th>\n",
              "      <td>9.000000</td>\n",
              "      <td>7.500909</td>\n",
              "    </tr>\n",
              "    <tr>\n",
              "      <th>std</th>\n",
              "      <td>3.316625</td>\n",
              "      <td>2.031657</td>\n",
              "    </tr>\n",
              "    <tr>\n",
              "      <th>min</th>\n",
              "      <td>4.000000</td>\n",
              "      <td>3.100000</td>\n",
              "    </tr>\n",
              "    <tr>\n",
              "      <th>25%</th>\n",
              "      <td>6.500000</td>\n",
              "      <td>6.695000</td>\n",
              "    </tr>\n",
              "    <tr>\n",
              "      <th>50%</th>\n",
              "      <td>9.000000</td>\n",
              "      <td>8.140000</td>\n",
              "    </tr>\n",
              "    <tr>\n",
              "      <th>75%</th>\n",
              "      <td>11.500000</td>\n",
              "      <td>8.950000</td>\n",
              "    </tr>\n",
              "    <tr>\n",
              "      <th>max</th>\n",
              "      <td>14.000000</td>\n",
              "      <td>9.260000</td>\n",
              "    </tr>\n",
              "  </tbody>\n",
              "</table>\n",
              "</div>\n",
              "      <button class=\"colab-df-convert\" onclick=\"convertToInteractive('df-38d07d6f-37b2-4aed-911c-76260061d10a')\"\n",
              "              title=\"Convert this dataframe to an interactive table.\"\n",
              "              style=\"display:none;\">\n",
              "        \n",
              "  <svg xmlns=\"http://www.w3.org/2000/svg\" height=\"24px\"viewBox=\"0 0 24 24\"\n",
              "       width=\"24px\">\n",
              "    <path d=\"M0 0h24v24H0V0z\" fill=\"none\"/>\n",
              "    <path d=\"M18.56 5.44l.94 2.06.94-2.06 2.06-.94-2.06-.94-.94-2.06-.94 2.06-2.06.94zm-11 1L8.5 8.5l.94-2.06 2.06-.94-2.06-.94L8.5 2.5l-.94 2.06-2.06.94zm10 10l.94 2.06.94-2.06 2.06-.94-2.06-.94-.94-2.06-.94 2.06-2.06.94z\"/><path d=\"M17.41 7.96l-1.37-1.37c-.4-.4-.92-.59-1.43-.59-.52 0-1.04.2-1.43.59L10.3 9.45l-7.72 7.72c-.78.78-.78 2.05 0 2.83L4 21.41c.39.39.9.59 1.41.59.51 0 1.02-.2 1.41-.59l7.78-7.78 2.81-2.81c.8-.78.8-2.07 0-2.86zM5.41 20L4 18.59l7.72-7.72 1.47 1.35L5.41 20z\"/>\n",
              "  </svg>\n",
              "      </button>\n",
              "      \n",
              "  <style>\n",
              "    .colab-df-container {\n",
              "      display:flex;\n",
              "      flex-wrap:wrap;\n",
              "      gap: 12px;\n",
              "    }\n",
              "\n",
              "    .colab-df-convert {\n",
              "      background-color: #E8F0FE;\n",
              "      border: none;\n",
              "      border-radius: 50%;\n",
              "      cursor: pointer;\n",
              "      display: none;\n",
              "      fill: #1967D2;\n",
              "      height: 32px;\n",
              "      padding: 0 0 0 0;\n",
              "      width: 32px;\n",
              "    }\n",
              "\n",
              "    .colab-df-convert:hover {\n",
              "      background-color: #E2EBFA;\n",
              "      box-shadow: 0px 1px 2px rgba(60, 64, 67, 0.3), 0px 1px 3px 1px rgba(60, 64, 67, 0.15);\n",
              "      fill: #174EA6;\n",
              "    }\n",
              "\n",
              "    [theme=dark] .colab-df-convert {\n",
              "      background-color: #3B4455;\n",
              "      fill: #D2E3FC;\n",
              "    }\n",
              "\n",
              "    [theme=dark] .colab-df-convert:hover {\n",
              "      background-color: #434B5C;\n",
              "      box-shadow: 0px 1px 3px 1px rgba(0, 0, 0, 0.15);\n",
              "      filter: drop-shadow(0px 1px 2px rgba(0, 0, 0, 0.3));\n",
              "      fill: #FFFFFF;\n",
              "    }\n",
              "  </style>\n",
              "\n",
              "      <script>\n",
              "        const buttonEl =\n",
              "          document.querySelector('#df-38d07d6f-37b2-4aed-911c-76260061d10a button.colab-df-convert');\n",
              "        buttonEl.style.display =\n",
              "          google.colab.kernel.accessAllowed ? 'block' : 'none';\n",
              "\n",
              "        async function convertToInteractive(key) {\n",
              "          const element = document.querySelector('#df-38d07d6f-37b2-4aed-911c-76260061d10a');\n",
              "          const dataTable =\n",
              "            await google.colab.kernel.invokeFunction('convertToInteractive',\n",
              "                                                     [key], {});\n",
              "          if (!dataTable) return;\n",
              "\n",
              "          const docLinkHtml = 'Like what you see? Visit the ' +\n",
              "            '<a target=\"_blank\" href=https://colab.research.google.com/notebooks/data_table.ipynb>data table notebook</a>'\n",
              "            + ' to learn more about interactive tables.';\n",
              "          element.innerHTML = '';\n",
              "          dataTable['output_type'] = 'display_data';\n",
              "          await google.colab.output.renderOutput(dataTable, element);\n",
              "          const docLink = document.createElement('div');\n",
              "          docLink.innerHTML = docLinkHtml;\n",
              "          element.appendChild(docLink);\n",
              "        }\n",
              "      </script>\n",
              "    </div>\n",
              "  </div>\n",
              "  "
            ],
            "text/plain": [
              "               x          y\n",
              "count  11.000000  11.000000\n",
              "mean    9.000000   7.500909\n",
              "std     3.316625   2.031657\n",
              "min     4.000000   3.100000\n",
              "25%     6.500000   6.695000\n",
              "50%     9.000000   8.140000\n",
              "75%    11.500000   8.950000\n",
              "max    14.000000   9.260000"
            ]
          },
          "metadata": {}
        },
        {
          "output_type": "display_data",
          "data": {
            "text/html": [
              "\n",
              "  <div id=\"df-d3ab708a-9f9a-4778-893a-58e32fd26f01\">\n",
              "    <div class=\"colab-df-container\">\n",
              "      <div>\n",
              "<style scoped>\n",
              "    .dataframe tbody tr th:only-of-type {\n",
              "        vertical-align: middle;\n",
              "    }\n",
              "\n",
              "    .dataframe tbody tr th {\n",
              "        vertical-align: top;\n",
              "    }\n",
              "\n",
              "    .dataframe thead th {\n",
              "        text-align: right;\n",
              "    }\n",
              "</style>\n",
              "<table border=\"1\" class=\"dataframe\">\n",
              "  <thead>\n",
              "    <tr style=\"text-align: right;\">\n",
              "      <th></th>\n",
              "      <th>x</th>\n",
              "      <th>y</th>\n",
              "    </tr>\n",
              "  </thead>\n",
              "  <tbody>\n",
              "    <tr>\n",
              "      <th>count</th>\n",
              "      <td>11.000000</td>\n",
              "      <td>11.000000</td>\n",
              "    </tr>\n",
              "    <tr>\n",
              "      <th>mean</th>\n",
              "      <td>9.000000</td>\n",
              "      <td>7.500000</td>\n",
              "    </tr>\n",
              "    <tr>\n",
              "      <th>std</th>\n",
              "      <td>3.316625</td>\n",
              "      <td>2.030424</td>\n",
              "    </tr>\n",
              "    <tr>\n",
              "      <th>min</th>\n",
              "      <td>4.000000</td>\n",
              "      <td>5.390000</td>\n",
              "    </tr>\n",
              "    <tr>\n",
              "      <th>25%</th>\n",
              "      <td>6.500000</td>\n",
              "      <td>6.250000</td>\n",
              "    </tr>\n",
              "    <tr>\n",
              "      <th>50%</th>\n",
              "      <td>9.000000</td>\n",
              "      <td>7.110000</td>\n",
              "    </tr>\n",
              "    <tr>\n",
              "      <th>75%</th>\n",
              "      <td>11.500000</td>\n",
              "      <td>7.980000</td>\n",
              "    </tr>\n",
              "    <tr>\n",
              "      <th>max</th>\n",
              "      <td>14.000000</td>\n",
              "      <td>12.740000</td>\n",
              "    </tr>\n",
              "  </tbody>\n",
              "</table>\n",
              "</div>\n",
              "      <button class=\"colab-df-convert\" onclick=\"convertToInteractive('df-d3ab708a-9f9a-4778-893a-58e32fd26f01')\"\n",
              "              title=\"Convert this dataframe to an interactive table.\"\n",
              "              style=\"display:none;\">\n",
              "        \n",
              "  <svg xmlns=\"http://www.w3.org/2000/svg\" height=\"24px\"viewBox=\"0 0 24 24\"\n",
              "       width=\"24px\">\n",
              "    <path d=\"M0 0h24v24H0V0z\" fill=\"none\"/>\n",
              "    <path d=\"M18.56 5.44l.94 2.06.94-2.06 2.06-.94-2.06-.94-.94-2.06-.94 2.06-2.06.94zm-11 1L8.5 8.5l.94-2.06 2.06-.94-2.06-.94L8.5 2.5l-.94 2.06-2.06.94zm10 10l.94 2.06.94-2.06 2.06-.94-2.06-.94-.94-2.06-.94 2.06-2.06.94z\"/><path d=\"M17.41 7.96l-1.37-1.37c-.4-.4-.92-.59-1.43-.59-.52 0-1.04.2-1.43.59L10.3 9.45l-7.72 7.72c-.78.78-.78 2.05 0 2.83L4 21.41c.39.39.9.59 1.41.59.51 0 1.02-.2 1.41-.59l7.78-7.78 2.81-2.81c.8-.78.8-2.07 0-2.86zM5.41 20L4 18.59l7.72-7.72 1.47 1.35L5.41 20z\"/>\n",
              "  </svg>\n",
              "      </button>\n",
              "      \n",
              "  <style>\n",
              "    .colab-df-container {\n",
              "      display:flex;\n",
              "      flex-wrap:wrap;\n",
              "      gap: 12px;\n",
              "    }\n",
              "\n",
              "    .colab-df-convert {\n",
              "      background-color: #E8F0FE;\n",
              "      border: none;\n",
              "      border-radius: 50%;\n",
              "      cursor: pointer;\n",
              "      display: none;\n",
              "      fill: #1967D2;\n",
              "      height: 32px;\n",
              "      padding: 0 0 0 0;\n",
              "      width: 32px;\n",
              "    }\n",
              "\n",
              "    .colab-df-convert:hover {\n",
              "      background-color: #E2EBFA;\n",
              "      box-shadow: 0px 1px 2px rgba(60, 64, 67, 0.3), 0px 1px 3px 1px rgba(60, 64, 67, 0.15);\n",
              "      fill: #174EA6;\n",
              "    }\n",
              "\n",
              "    [theme=dark] .colab-df-convert {\n",
              "      background-color: #3B4455;\n",
              "      fill: #D2E3FC;\n",
              "    }\n",
              "\n",
              "    [theme=dark] .colab-df-convert:hover {\n",
              "      background-color: #434B5C;\n",
              "      box-shadow: 0px 1px 3px 1px rgba(0, 0, 0, 0.15);\n",
              "      filter: drop-shadow(0px 1px 2px rgba(0, 0, 0, 0.3));\n",
              "      fill: #FFFFFF;\n",
              "    }\n",
              "  </style>\n",
              "\n",
              "      <script>\n",
              "        const buttonEl =\n",
              "          document.querySelector('#df-d3ab708a-9f9a-4778-893a-58e32fd26f01 button.colab-df-convert');\n",
              "        buttonEl.style.display =\n",
              "          google.colab.kernel.accessAllowed ? 'block' : 'none';\n",
              "\n",
              "        async function convertToInteractive(key) {\n",
              "          const element = document.querySelector('#df-d3ab708a-9f9a-4778-893a-58e32fd26f01');\n",
              "          const dataTable =\n",
              "            await google.colab.kernel.invokeFunction('convertToInteractive',\n",
              "                                                     [key], {});\n",
              "          if (!dataTable) return;\n",
              "\n",
              "          const docLinkHtml = 'Like what you see? Visit the ' +\n",
              "            '<a target=\"_blank\" href=https://colab.research.google.com/notebooks/data_table.ipynb>data table notebook</a>'\n",
              "            + ' to learn more about interactive tables.';\n",
              "          element.innerHTML = '';\n",
              "          dataTable['output_type'] = 'display_data';\n",
              "          await google.colab.output.renderOutput(dataTable, element);\n",
              "          const docLink = document.createElement('div');\n",
              "          docLink.innerHTML = docLinkHtml;\n",
              "          element.appendChild(docLink);\n",
              "        }\n",
              "      </script>\n",
              "    </div>\n",
              "  </div>\n",
              "  "
            ],
            "text/plain": [
              "               x          y\n",
              "count  11.000000  11.000000\n",
              "mean    9.000000   7.500000\n",
              "std     3.316625   2.030424\n",
              "min     4.000000   5.390000\n",
              "25%     6.500000   6.250000\n",
              "50%     9.000000   7.110000\n",
              "75%    11.500000   7.980000\n",
              "max    14.000000  12.740000"
            ]
          },
          "metadata": {}
        },
        {
          "output_type": "display_data",
          "data": {
            "text/html": [
              "\n",
              "  <div id=\"df-22fae33c-29a8-423f-a530-cfcc834ea21b\">\n",
              "    <div class=\"colab-df-container\">\n",
              "      <div>\n",
              "<style scoped>\n",
              "    .dataframe tbody tr th:only-of-type {\n",
              "        vertical-align: middle;\n",
              "    }\n",
              "\n",
              "    .dataframe tbody tr th {\n",
              "        vertical-align: top;\n",
              "    }\n",
              "\n",
              "    .dataframe thead th {\n",
              "        text-align: right;\n",
              "    }\n",
              "</style>\n",
              "<table border=\"1\" class=\"dataframe\">\n",
              "  <thead>\n",
              "    <tr style=\"text-align: right;\">\n",
              "      <th></th>\n",
              "      <th>x</th>\n",
              "      <th>y</th>\n",
              "    </tr>\n",
              "  </thead>\n",
              "  <tbody>\n",
              "    <tr>\n",
              "      <th>count</th>\n",
              "      <td>11.000000</td>\n",
              "      <td>11.000000</td>\n",
              "    </tr>\n",
              "    <tr>\n",
              "      <th>mean</th>\n",
              "      <td>9.000000</td>\n",
              "      <td>7.500909</td>\n",
              "    </tr>\n",
              "    <tr>\n",
              "      <th>std</th>\n",
              "      <td>3.316625</td>\n",
              "      <td>2.030579</td>\n",
              "    </tr>\n",
              "    <tr>\n",
              "      <th>min</th>\n",
              "      <td>8.000000</td>\n",
              "      <td>5.250000</td>\n",
              "    </tr>\n",
              "    <tr>\n",
              "      <th>25%</th>\n",
              "      <td>8.000000</td>\n",
              "      <td>6.170000</td>\n",
              "    </tr>\n",
              "    <tr>\n",
              "      <th>50%</th>\n",
              "      <td>8.000000</td>\n",
              "      <td>7.040000</td>\n",
              "    </tr>\n",
              "    <tr>\n",
              "      <th>75%</th>\n",
              "      <td>8.000000</td>\n",
              "      <td>8.190000</td>\n",
              "    </tr>\n",
              "    <tr>\n",
              "      <th>max</th>\n",
              "      <td>19.000000</td>\n",
              "      <td>12.500000</td>\n",
              "    </tr>\n",
              "  </tbody>\n",
              "</table>\n",
              "</div>\n",
              "      <button class=\"colab-df-convert\" onclick=\"convertToInteractive('df-22fae33c-29a8-423f-a530-cfcc834ea21b')\"\n",
              "              title=\"Convert this dataframe to an interactive table.\"\n",
              "              style=\"display:none;\">\n",
              "        \n",
              "  <svg xmlns=\"http://www.w3.org/2000/svg\" height=\"24px\"viewBox=\"0 0 24 24\"\n",
              "       width=\"24px\">\n",
              "    <path d=\"M0 0h24v24H0V0z\" fill=\"none\"/>\n",
              "    <path d=\"M18.56 5.44l.94 2.06.94-2.06 2.06-.94-2.06-.94-.94-2.06-.94 2.06-2.06.94zm-11 1L8.5 8.5l.94-2.06 2.06-.94-2.06-.94L8.5 2.5l-.94 2.06-2.06.94zm10 10l.94 2.06.94-2.06 2.06-.94-2.06-.94-.94-2.06-.94 2.06-2.06.94z\"/><path d=\"M17.41 7.96l-1.37-1.37c-.4-.4-.92-.59-1.43-.59-.52 0-1.04.2-1.43.59L10.3 9.45l-7.72 7.72c-.78.78-.78 2.05 0 2.83L4 21.41c.39.39.9.59 1.41.59.51 0 1.02-.2 1.41-.59l7.78-7.78 2.81-2.81c.8-.78.8-2.07 0-2.86zM5.41 20L4 18.59l7.72-7.72 1.47 1.35L5.41 20z\"/>\n",
              "  </svg>\n",
              "      </button>\n",
              "      \n",
              "  <style>\n",
              "    .colab-df-container {\n",
              "      display:flex;\n",
              "      flex-wrap:wrap;\n",
              "      gap: 12px;\n",
              "    }\n",
              "\n",
              "    .colab-df-convert {\n",
              "      background-color: #E8F0FE;\n",
              "      border: none;\n",
              "      border-radius: 50%;\n",
              "      cursor: pointer;\n",
              "      display: none;\n",
              "      fill: #1967D2;\n",
              "      height: 32px;\n",
              "      padding: 0 0 0 0;\n",
              "      width: 32px;\n",
              "    }\n",
              "\n",
              "    .colab-df-convert:hover {\n",
              "      background-color: #E2EBFA;\n",
              "      box-shadow: 0px 1px 2px rgba(60, 64, 67, 0.3), 0px 1px 3px 1px rgba(60, 64, 67, 0.15);\n",
              "      fill: #174EA6;\n",
              "    }\n",
              "\n",
              "    [theme=dark] .colab-df-convert {\n",
              "      background-color: #3B4455;\n",
              "      fill: #D2E3FC;\n",
              "    }\n",
              "\n",
              "    [theme=dark] .colab-df-convert:hover {\n",
              "      background-color: #434B5C;\n",
              "      box-shadow: 0px 1px 3px 1px rgba(0, 0, 0, 0.15);\n",
              "      filter: drop-shadow(0px 1px 2px rgba(0, 0, 0, 0.3));\n",
              "      fill: #FFFFFF;\n",
              "    }\n",
              "  </style>\n",
              "\n",
              "      <script>\n",
              "        const buttonEl =\n",
              "          document.querySelector('#df-22fae33c-29a8-423f-a530-cfcc834ea21b button.colab-df-convert');\n",
              "        buttonEl.style.display =\n",
              "          google.colab.kernel.accessAllowed ? 'block' : 'none';\n",
              "\n",
              "        async function convertToInteractive(key) {\n",
              "          const element = document.querySelector('#df-22fae33c-29a8-423f-a530-cfcc834ea21b');\n",
              "          const dataTable =\n",
              "            await google.colab.kernel.invokeFunction('convertToInteractive',\n",
              "                                                     [key], {});\n",
              "          if (!dataTable) return;\n",
              "\n",
              "          const docLinkHtml = 'Like what you see? Visit the ' +\n",
              "            '<a target=\"_blank\" href=https://colab.research.google.com/notebooks/data_table.ipynb>data table notebook</a>'\n",
              "            + ' to learn more about interactive tables.';\n",
              "          element.innerHTML = '';\n",
              "          dataTable['output_type'] = 'display_data';\n",
              "          await google.colab.output.renderOutput(dataTable, element);\n",
              "          const docLink = document.createElement('div');\n",
              "          docLink.innerHTML = docLinkHtml;\n",
              "          element.appendChild(docLink);\n",
              "        }\n",
              "      </script>\n",
              "    </div>\n",
              "  </div>\n",
              "  "
            ],
            "text/plain": [
              "               x          y\n",
              "count  11.000000  11.000000\n",
              "mean    9.000000   7.500909\n",
              "std     3.316625   2.030579\n",
              "min     8.000000   5.250000\n",
              "25%     8.000000   6.170000\n",
              "50%     8.000000   7.040000\n",
              "75%     8.000000   8.190000\n",
              "max    19.000000  12.500000"
            ]
          },
          "metadata": {}
        },
        {
          "output_type": "execute_result",
          "data": {
            "text/plain": [
              "<seaborn.axisgrid.FacetGrid at 0x7f9a95117790>"
            ]
          },
          "metadata": {},
          "execution_count": 40
        },
        {
          "output_type": "display_data",
          "data": {
            "image/png": "[encoded data removed]",
            "text/plain": [
              "<Figure size 1440x360 with 4 Axes>"
            ]
          },
          "metadata": {
            "needs_background": "light"
          }
        }
      ]
    },
    {
      "cell_type": "markdown",
      "metadata": {
        "id": "05Kj8dWzu-Li"
      },
      "source": [
        "![fig-lin-reg.webp](data:image/webp;base64,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)"
      ]
    },
    {
      "cell_type": "markdown",
      "metadata": {
        "id": "pqORbrm_vTew"
      },
      "source": [
        "The simple linear regression equation has the form:\n",
        "\n",
        "\\begin{equation}\n",
        "\\hat{Y} = b_0 + b_1 X\n",
        "\\end{equation}\n",
        "\n",
        "This should look reminiscent of the point-slope form of the equation of a line that you learned way back in algebra.  In that case, you wrote the equation of a line as \n",
        "\n",
        "\\begin{equation}\n",
        "y = mx + b\n",
        "\\end{equation}\n",
        "\n",
        "where m was the slope of the line and b was the y-intercept (the place where the line crosses the y-axis).\n",
        "\n"
      ]
    },
    {
      "cell_type": "markdown",
      "metadata": {
        "id": "7Gkj5XbQwtDM"
      },
      "source": [
        "The simple linear regression model equation also has a slope and an intercept, we've just flipped the order: $b_0$ is the intercept and it appears first in the model and $b_1$ is the slope and it appears second."
      ]
    },
    {
      "cell_type": "markdown",
      "metadata": {
        "id": "UQ6NvJwQxANY"
      },
      "source": [
        "It is possible to calculate the slope and intercept by hand; however, we will always focus on doing the calculations using Python functions."
      ]
    },
    {
      "cell_type": "markdown",
      "metadata": {
        "id": "fQPajmu2BKZa"
      },
      "source": [
        "#Objective - Calculate and interpret the slope and intercept of a simple linear regression model"
      ]
    },
    {
      "cell_type": "markdown",
      "metadata": {
        "id": "RFa5JXjmxive"
      },
      "source": [
        "To calculate the linear regression model, we need to import a new package and get the data into the correct format."
      ]
    },
    {
      "cell_type": "code",
      "execution_count": null,
      "metadata": {
        "id": "dWWiUtwTyHp2",
        "colab": {
          "base_uri": "https://localhost:8080/"
        },
        "outputId": "7e1433d4-bad0-4fea-f803-c84cad926d46"
      },
      "outputs": [
        {
          "output_type": "execute_result",
          "data": {
            "text/plain": [
              "Intercept    316.805323\n",
              "Nitro        -69.242709\n",
              "dtype: float64"
            ]
          },
          "metadata": {},
          "execution_count": 45
        }
      ],
      "source": [
        "from statsmodels.formula.api import ols\n",
        "\n",
        "model = ols(\"Time ~ Nitro\", data = df).fit()\n",
        "\n",
        "model.params"
      ]
    },
    {
      "cell_type": "code",
      "source": [
        "import scipy"
      ],
      "metadata": {
        "id": "sMTogpmxuUaa"
      },
      "execution_count": null,
      "outputs": []
    },
    {
      "cell_type": "code",
      "source": [
        "scipy.stats.chi2_contingency()"
      ],
      "metadata": {
        "id": "DDmonqd8uVuj"
      },
      "execution_count": null,
      "outputs": []
    },
    {
      "cell_type": "markdown",
      "metadata": {
        "id": "aAAlveuK050b"
      },
      "source": [
        "We can write the linear regression model for the relationship between long bone nitrogen composition and length of interment as \n",
        "\n",
        "$\\hat{Y} = 316.8 - 69.24 X$\n",
        "\n"
      ]
    },
    {
      "cell_type": "markdown",
      "metadata": {
        "id": "_KlS62UB1UAi"
      },
      "source": [
        "What do these numbers mean, exactly?  \n",
        "\n",
        "- The **slope** tells us the change in y for 1 unit change in x.\n",
        "- The **intercept** tells us the expected value of y when x is equal to 0."
      ]
    },
    {
      "cell_type": "markdown",
      "metadata": {
        "id": "DW4aHn_t1saW"
      },
      "source": [
        "In this case, we expect interment time to be about 69 years less for every additional gram of nitrogen per 100g of bone remaining in the long bones of the skeleton.\n",
        "\n",
        "For example, we would expect a skeleton with 3g of nitrogen per 100g of bone to have been buried about 69.24 years longer than a skeleton with 4g of nitrogen per 100g of bone."
      ]
    },
    {
      "cell_type": "markdown",
      "metadata": {
        "id": "BXsUc9n02Th0"
      },
      "source": [
        "We need the intercept to make the regression equation work mathematically, but we don't often interpret it.  It *only* makes sense to interpret the intercept if 0 is an x-value in your dataset.\n",
        "\n",
        "In this case, 0 was not an x-value in the dataset, so it does not make sense to interpret the intercept."
      ]
    },
    {
      "cell_type": "markdown",
      "metadata": {
        "id": "f0NjkceYb2sY"
      },
      "source": [
        "We can overlay the regression line on top of our scatterplot to get a sense of how the obseved data points vary around it."
      ]
    },
    {
      "cell_type": "code",
      "execution_count": null,
      "metadata": {
        "id": "dKxmzQLYabfm",
        "colab": {
          "base_uri": "https://localhost:8080/",
          "height": 386
        },
        "outputId": "4afd67d2-445b-4fd7-ce88-b446f7def5f1"
      },
      "outputs": [
        {
          "output_type": "execute_result",
          "data": {
            "text/plain": [
              "<seaborn.axisgrid.FacetGrid at 0x7f9a81113e50>"
            ]
          },
          "metadata": {},
          "execution_count": 54
        },
        {
          "output_type": "display_data",
          "data": {
            "image/png": "[encoded data removed]",
            "text/plain": [
              "<Figure size 360x360 with 1 Axes>"
            ]
          },
          "metadata": {
            "needs_background": "light"
          }
        }
      ],
      "source": [
        "\n",
        "sns.lmplot(x= \"Nitro\", y = \"Time\", data= df, ci=None)"
      ]
    },
    {
      "cell_type": "markdown",
      "metadata": {
        "id": "T5mbvS5OBPkB"
      },
      "source": [
        "#Objective - Predict a response from a simple linear regression model"
      ]
    },
    {
      "cell_type": "markdown",
      "metadata": {
        "id": "7dySccNE3pX7"
      },
      "source": [
        "A body is discovered buried in a field.  The medical examiner's report indicates the long bones of the skeleton contain 3.65 g of nitrogen per 100g of bone.  Estimate how long the body has been buried."
      ]
    },
    {
      "cell_type": "code",
      "execution_count": null,
      "metadata": {
        "id": "BNV0bbzH4NFX"
      },
      "outputs": [],
      "source": [
        "x = 3.65\n",
        "\n",
        "intercept, slope = model.params"
      ]
    },
    {
      "cell_type": "code",
      "source": [
        "prediction = intercept + (slope*x)\n",
        "prediction"
      ],
      "metadata": {
        "colab": {
          "base_uri": "https://localhost:8080/"
        },
        "id": "kghfCYWQwOp5",
        "outputId": "f44a5d4c-04f3-430e-e16f-2fc591d8c2b3"
      },
      "execution_count": null,
      "outputs": [
        {
          "output_type": "execute_result",
          "data": {
            "text/plain": [
              "64.0694355101009"
            ]
          },
          "metadata": {},
          "execution_count": 52
        }
      ]
    },
    {
      "cell_type": "markdown",
      "metadata": {
        "id": "OnGU23JI6C1r"
      },
      "source": [
        "If a skeleton is found with 3.65g of nitrogen per 100g of long bone remaining, we believe that it has been buried for about 64 years."
      ]
    },
    {
      "cell_type": "markdown",
      "metadata": {
        "id": "V5C4XrvKBW33"
      },
      "source": [
        "#Objective - Calculate and interpret a residual"
      ]
    },
    {
      "cell_type": "markdown",
      "metadata": {
        "id": "rogizl36Bape"
      },
      "source": [
        "A model **residual** is the difference between the observed and predicted values for a particular data point.\n",
        "\n",
        "Let's calculate the model residual for for the first observation in the dataset."
      ]
    },
    {
      "cell_type": "code",
      "execution_count": null,
      "metadata": {
        "id": "L9_qbtRtBnvr",
        "colab": {
          "base_uri": "https://localhost:8080/",
          "height": 206
        },
        "outputId": "c0180b8e-0b6f-493b-8c0d-3f70bb5c121e"
      },
      "outputs": [
        {
          "output_type": "execute_result",
          "data": {
            "text/html": [
              "\n",
              "  <div id=\"df-e3b66a0a-f4c9-4fde-8048-a04598552e35\">\n",
              "    <div class=\"colab-df-container\">\n",
              "      <div>\n",
              "<style scoped>\n",
              "    .dataframe tbody tr th:only-of-type {\n",
              "        vertical-align: middle;\n",
              "    }\n",
              "\n",
              "    .dataframe tbody tr th {\n",
              "        vertical-align: top;\n",
              "    }\n",
              "\n",
              "    .dataframe thead th {\n",
              "        text-align: right;\n",
              "    }\n",
              "</style>\n",
              "<table border=\"1\" class=\"dataframe\">\n",
              "  <thead>\n",
              "    <tr style=\"text-align: right;\">\n",
              "      <th></th>\n",
              "      <th>Site</th>\n",
              "      <th>Time</th>\n",
              "      <th>Depth</th>\n",
              "      <th>Lime</th>\n",
              "      <th>Age</th>\n",
              "      <th>Nitro</th>\n",
              "      <th>Oil</th>\n",
              "    </tr>\n",
              "  </thead>\n",
              "  <tbody>\n",
              "    <tr>\n",
              "      <th>3</th>\n",
              "      <td>1</td>\n",
              "      <td>71.8</td>\n",
              "      <td>7.6</td>\n",
              "      <td>1</td>\n",
              "      <td>65.0</td>\n",
              "      <td>3.88</td>\n",
              "      <td>0</td>\n",
              "    </tr>\n",
              "    <tr>\n",
              "      <th>4</th>\n",
              "      <td>1</td>\n",
              "      <td>70.6</td>\n",
              "      <td>7.5</td>\n",
              "      <td>1</td>\n",
              "      <td>42.0</td>\n",
              "      <td>3.53</td>\n",
              "      <td>0</td>\n",
              "    </tr>\n",
              "    <tr>\n",
              "      <th>5</th>\n",
              "      <td>1</td>\n",
              "      <td>68.0</td>\n",
              "      <td>7.0</td>\n",
              "      <td>1</td>\n",
              "      <td>28.0</td>\n",
              "      <td>3.93</td>\n",
              "      <td>0</td>\n",
              "    </tr>\n",
              "    <tr>\n",
              "      <th>6</th>\n",
              "      <td>1</td>\n",
              "      <td>71.6</td>\n",
              "      <td>8.0</td>\n",
              "      <td>1</td>\n",
              "      <td>35.0</td>\n",
              "      <td>3.88</td>\n",
              "      <td>0</td>\n",
              "    </tr>\n",
              "    <tr>\n",
              "      <th>7</th>\n",
              "      <td>1</td>\n",
              "      <td>70.2</td>\n",
              "      <td>6.0</td>\n",
              "      <td>1</td>\n",
              "      <td>44.0</td>\n",
              "      <td>3.64</td>\n",
              "      <td>0</td>\n",
              "    </tr>\n",
              "  </tbody>\n",
              "</table>\n",
              "</div>\n",
              "      <button class=\"colab-df-convert\" onclick=\"convertToInteractive('df-e3b66a0a-f4c9-4fde-8048-a04598552e35')\"\n",
              "              title=\"Convert this dataframe to an interactive table.\"\n",
              "              style=\"display:none;\">\n",
              "        \n",
              "  <svg xmlns=\"http://www.w3.org/2000/svg\" height=\"24px\"viewBox=\"0 0 24 24\"\n",
              "       width=\"24px\">\n",
              "    <path d=\"M0 0h24v24H0V0z\" fill=\"none\"/>\n",
              "    <path d=\"M18.56 5.44l.94 2.06.94-2.06 2.06-.94-2.06-.94-.94-2.06-.94 2.06-2.06.94zm-11 1L8.5 8.5l.94-2.06 2.06-.94-2.06-.94L8.5 2.5l-.94 2.06-2.06.94zm10 10l.94 2.06.94-2.06 2.06-.94-2.06-.94-.94-2.06-.94 2.06-2.06.94z\"/><path d=\"M17.41 7.96l-1.37-1.37c-.4-.4-.92-.59-1.43-.59-.52 0-1.04.2-1.43.59L10.3 9.45l-7.72 7.72c-.78.78-.78 2.05 0 2.83L4 21.41c.39.39.9.59 1.41.59.51 0 1.02-.2 1.41-.59l7.78-7.78 2.81-2.81c.8-.78.8-2.07 0-2.86zM5.41 20L4 18.59l7.72-7.72 1.47 1.35L5.41 20z\"/>\n",
              "  </svg>\n",
              "      </button>\n",
              "      \n",
              "  <style>\n",
              "    .colab-df-container {\n",
              "      display:flex;\n",
              "      flex-wrap:wrap;\n",
              "      gap: 12px;\n",
              "    }\n",
              "\n",
              "    .colab-df-convert {\n",
              "      background-color: #E8F0FE;\n",
              "      border: none;\n",
              "      border-radius: 50%;\n",
              "      cursor: pointer;\n",
              "      display: none;\n",
              "      fill: #1967D2;\n",
              "      height: 32px;\n",
              "      padding: 0 0 0 0;\n",
              "      width: 32px;\n",
              "    }\n",
              "\n",
              "    .colab-df-convert:hover {\n",
              "      background-color: #E2EBFA;\n",
              "      box-shadow: 0px 1px 2px rgba(60, 64, 67, 0.3), 0px 1px 3px 1px rgba(60, 64, 67, 0.15);\n",
              "      fill: #174EA6;\n",
              "    }\n",
              "\n",
              "    [theme=dark] .colab-df-convert {\n",
              "      background-color: #3B4455;\n",
              "      fill: #D2E3FC;\n",
              "    }\n",
              "\n",
              "    [theme=dark] .colab-df-convert:hover {\n",
              "      background-color: #434B5C;\n",
              "      box-shadow: 0px 1px 3px 1px rgba(0, 0, 0, 0.15);\n",
              "      filter: drop-shadow(0px 1px 2px rgba(0, 0, 0, 0.3));\n",
              "      fill: #FFFFFF;\n",
              "    }\n",
              "  </style>\n",
              "\n",
              "      <script>\n",
              "        const buttonEl =\n",
              "          document.querySelector('#df-e3b66a0a-f4c9-4fde-8048-a04598552e35 button.colab-df-convert');\n",
              "        buttonEl.style.display =\n",
              "          google.colab.kernel.accessAllowed ? 'block' : 'none';\n",
              "\n",
              "        async function convertToInteractive(key) {\n",
              "          const element = document.querySelector('#df-e3b66a0a-f4c9-4fde-8048-a04598552e35');\n",
              "          const dataTable =\n",
              "            await google.colab.kernel.invokeFunction('convertToInteractive',\n",
              "                                                     [key], {});\n",
              "          if (!dataTable) return;\n",
              "\n",
              "          const docLinkHtml = 'Like what you see? Visit the ' +\n",
              "            '<a target=\"_blank\" href=https://colab.research.google.com/notebooks/data_table.ipynb>data table notebook</a>'\n",
              "            + ' to learn more about interactive tables.';\n",
              "          element.innerHTML = '';\n",
              "          dataTable['output_type'] = 'display_data';\n",
              "          await google.colab.output.renderOutput(dataTable, element);\n",
              "          const docLink = document.createElement('div');\n",
              "          docLink.innerHTML = docLinkHtml;\n",
              "          element.appendChild(docLink);\n",
              "        }\n",
              "      </script>\n",
              "    </div>\n",
              "  </div>\n",
              "  "
            ],
            "text/plain": [
              "   Site  Time  Depth  Lime   Age  Nitro  Oil\n",
              "3     1  71.8    7.6     1  65.0   3.88    0\n",
              "4     1  70.6    7.5     1  42.0   3.53    0\n",
              "5     1  68.0    7.0     1  28.0   3.93    0\n",
              "6     1  71.6    8.0     1  35.0   3.88    0\n",
              "7     1  70.2    6.0     1  44.0   3.64    0"
            ]
          },
          "metadata": {},
          "execution_count": 55
        }
      ],
      "source": [
        "df.head()"
      ]
    },
    {
      "cell_type": "code",
      "execution_count": null,
      "metadata": {
        "id": "d8hURY1HBq6v",
        "colab": {
          "base_uri": "https://localhost:8080/"
        },
        "outputId": "bebe69ae-ff89-4976-e19a-a6817df87408"
      },
      "outputs": [
        {
          "output_type": "stream",
          "name": "stdout",
          "text": [
            "Prediction: 48.14361244624348\n",
            "Residual: 23.656387553756517\n"
          ]
        }
      ],
      "source": [
        "#first row value for time\n",
        "observed = 71.8\n",
        "\n",
        "#predict\n",
        "x= 3.88\n",
        "\n",
        "prediction = intercept + (slope*x)\n",
        "print(\"Prediction:\", prediction)\n",
        "\n",
        "residual = observed - prediction\n",
        "print(\"Residual:\", residual)"
      ]
    },
    {
      "cell_type": "markdown",
      "metadata": {
        "id": "75sfaALjCB4f"
      },
      "source": [
        "We can see that our model *underestimated* the true interment time for that skeleton by about 23.65 years.\n",
        "\n",
        "Some model residuals will be smaller and some larger than others."
      ]
    },
    {
      "cell_type": "markdown",
      "metadata": {
        "id": "grosIxlcDHWu"
      },
      "source": [
        "Which leads us to..."
      ]
    },
    {
      "cell_type": "markdown",
      "metadata": {
        "id": "4xVxmIrrCiZa"
      },
      "source": [
        "\n",
        "![models are wrong.jpg](data:image/jpeg;base64,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)"
      ]
    },
    {
      "cell_type": "markdown",
      "metadata": {
        "id": "LSVXvBZGcF48"
      },
      "source": [
        "Keep in mind that our goal is to build the best, most useful model that we can - not to make perfect predictions"
      ]
    },
    {
      "cell_type": "markdown",
      "metadata": {
        "id": "nN5H1fsLtZtU"
      },
      "source": [
        "#Let's look at another example."
      ]
    },
    {
      "cell_type": "markdown",
      "metadata": {
        "id": "T1TDNIibteov"
      },
      "source": [
        "Import the Sleep.csv dataset from a URL and print the first few rows\n",
        "\n",
        "Researchers recorded data on sleep duration as well as a set of ecological and constitutional variables  for a selection of mammal species. This data appears in the Sleep.csv dataset. \n",
        "\n",
        "\n",
        "Source: Allison, T. and Cicchetti, D. (1976), \"Sleep in Mammals: Ecological and Constitutional Correlates\",  Science, November 12, vol. 194, pp. 732-734.\n",
        "\n",
        "\n",
        "\n",
        "Data Dictionary:\n",
        "\n",
        "| Variable Name |            Description           |                                                                 Details                                                                 |              |   |\n",
        "|:-------------:|:--------------------------------:|:---------------------------------------------------------------------------------------------------------------------------------------:|--------------|---|\n",
        "| Animal        |            Animal name           |                                                            Character [string]                                                           |    |   |\n",
        "| Body          |            Body weight           |                                                               Numeric [kg]                                                              |       |   |\n",
        "| Brain         |           Brain weight           |                                                               Numeric [g]                                                               |  |   |\n",
        "| SWsleep       | Slow wave (“non-dreaming”) sleep | Numeric [hours]                                                                                                                         |              |   |\n",
        "| Parasleep     | Paradoxical (“dreaming”) sleep   | Numeric [hours]                                                                                                                         |              |   |\n",
        "| Totsleep      | Total sleep                      | Numeric [hours]                                                                                                                         |              |   |\n",
        "| Life          | Maximum life expectancy          | Numeric [years]                                                                                                                         |              |   |\n",
        "| Gest          | Gestation time                   | Numeric [days]                                                                                                                          |              |   |\n",
        "| Pred          | Predation index                  | Numeric [1 – 5] 1 = least likely to be preyed upon, 5 = most likely to be preyed upon                                                   |              |   |\n",
        "| Exposure      | Sleep exposure index             | Numeric [1 – 5] 1 = least amount of exposure during sleep (mammal sleeps indoors or in a den), 5 = most amount of exposure during sleep |              |   |\n",
        "| Danger        | Overall danger index             | Numeric [ 1 – 5] 1 = least amount of danger from other animals, 5 = most amount of danger from other animals                            |              |   |\n",
        "\n"
      ]
    },
    {
      "cell_type": "code",
      "execution_count": null,
      "metadata": {
        "id": "lAGRV2LkuKyw",
        "colab": {
          "base_uri": "https://localhost:8080/",
          "height": 206
        },
        "outputId": "e222403d-d398-45fb-a08f-562fab77e096"
      },
      "outputs": [
        {
          "output_type": "execute_result",
          "data": {
            "text/html": [
              "\n",
              "  <div id=\"df-e36dfd39-52e4-4afb-b115-9cb3139c72b4\">\n",
              "    <div class=\"colab-df-container\">\n",
              "      <div>\n",
              "<style scoped>\n",
              "    .dataframe tbody tr th:only-of-type {\n",
              "        vertical-align: middle;\n",
              "    }\n",
              "\n",
              "    .dataframe tbody tr th {\n",
              "        vertical-align: top;\n",
              "    }\n",
              "\n",
              "    .dataframe thead th {\n",
              "        text-align: right;\n",
              "    }\n",
              "</style>\n",
              "<table border=\"1\" class=\"dataframe\">\n",
              "  <thead>\n",
              "    <tr style=\"text-align: right;\">\n",
              "      <th></th>\n",
              "      <th>Animal</th>\n",
              "      <th>Body</th>\n",
              "      <th>Brain</th>\n",
              "      <th>SWsleep</th>\n",
              "      <th>Parasleep</th>\n",
              "      <th>Totsleep</th>\n",
              "      <th>Life</th>\n",
              "      <th>Gest</th>\n",
              "      <th>Pred</th>\n",
              "      <th>Exposure</th>\n",
              "      <th>Danger</th>\n",
              "    </tr>\n",
              "  </thead>\n",
              "  <tbody>\n",
              "    <tr>\n",
              "      <th>0</th>\n",
              "      <td>African_giant_pouched_rat</td>\n",
              "      <td>1.000</td>\n",
              "      <td>6.6</td>\n",
              "      <td>6.3</td>\n",
              "      <td>2.0</td>\n",
              "      <td>8.3</td>\n",
              "      <td>4.5</td>\n",
              "      <td>42.0</td>\n",
              "      <td>3</td>\n",
              "      <td>1</td>\n",
              "      <td>3</td>\n",
              "    </tr>\n",
              "    <tr>\n",
              "      <th>1</th>\n",
              "      <td>Asian_elephant</td>\n",
              "      <td>2547.000</td>\n",
              "      <td>4603.0</td>\n",
              "      <td>2.1</td>\n",
              "      <td>1.8</td>\n",
              "      <td>3.9</td>\n",
              "      <td>69.0</td>\n",
              "      <td>624.0</td>\n",
              "      <td>3</td>\n",
              "      <td>5</td>\n",
              "      <td>4</td>\n",
              "    </tr>\n",
              "    <tr>\n",
              "      <th>2</th>\n",
              "      <td>Baboon</td>\n",
              "      <td>10.550</td>\n",
              "      <td>179.5</td>\n",
              "      <td>9.1</td>\n",
              "      <td>0.7</td>\n",
              "      <td>9.8</td>\n",
              "      <td>27.0</td>\n",
              "      <td>180.0</td>\n",
              "      <td>4</td>\n",
              "      <td>4</td>\n",
              "      <td>4</td>\n",
              "    </tr>\n",
              "    <tr>\n",
              "      <th>3</th>\n",
              "      <td>Big_brown_bat</td>\n",
              "      <td>0.023</td>\n",
              "      <td>0.3</td>\n",
              "      <td>15.8</td>\n",
              "      <td>3.9</td>\n",
              "      <td>19.7</td>\n",
              "      <td>19.0</td>\n",
              "      <td>35.0</td>\n",
              "      <td>1</td>\n",
              "      <td>1</td>\n",
              "      <td>1</td>\n",
              "    </tr>\n",
              "    <tr>\n",
              "      <th>4</th>\n",
              "      <td>Brazilian_tapir</td>\n",
              "      <td>160.000</td>\n",
              "      <td>169.0</td>\n",
              "      <td>5.2</td>\n",
              "      <td>1.0</td>\n",
              "      <td>6.2</td>\n",
              "      <td>30.4</td>\n",
              "      <td>392.0</td>\n",
              "      <td>4</td>\n",
              "      <td>5</td>\n",
              "      <td>4</td>\n",
              "    </tr>\n",
              "  </tbody>\n",
              "</table>\n",
              "</div>\n",
              "      <button class=\"colab-df-convert\" onclick=\"convertToInteractive('df-e36dfd39-52e4-4afb-b115-9cb3139c72b4')\"\n",
              "              title=\"Convert this dataframe to an interactive table.\"\n",
              "              style=\"display:none;\">\n",
              "        \n",
              "  <svg xmlns=\"http://www.w3.org/2000/svg\" height=\"24px\"viewBox=\"0 0 24 24\"\n",
              "       width=\"24px\">\n",
              "    <path d=\"M0 0h24v24H0V0z\" fill=\"none\"/>\n",
              "    <path d=\"M18.56 5.44l.94 2.06.94-2.06 2.06-.94-2.06-.94-.94-2.06-.94 2.06-2.06.94zm-11 1L8.5 8.5l.94-2.06 2.06-.94-2.06-.94L8.5 2.5l-.94 2.06-2.06.94zm10 10l.94 2.06.94-2.06 2.06-.94-2.06-.94-.94-2.06-.94 2.06-2.06.94z\"/><path d=\"M17.41 7.96l-1.37-1.37c-.4-.4-.92-.59-1.43-.59-.52 0-1.04.2-1.43.59L10.3 9.45l-7.72 7.72c-.78.78-.78 2.05 0 2.83L4 21.41c.39.39.9.59 1.41.59.51 0 1.02-.2 1.41-.59l7.78-7.78 2.81-2.81c.8-.78.8-2.07 0-2.86zM5.41 20L4 18.59l7.72-7.72 1.47 1.35L5.41 20z\"/>\n",
              "  </svg>\n",
              "      </button>\n",
              "      \n",
              "  <style>\n",
              "    .colab-df-container {\n",
              "      display:flex;\n",
              "      flex-wrap:wrap;\n",
              "      gap: 12px;\n",
              "    }\n",
              "\n",
              "    .colab-df-convert {\n",
              "      background-color: #E8F0FE;\n",
              "      border: none;\n",
              "      border-radius: 50%;\n",
              "      cursor: pointer;\n",
              "      display: none;\n",
              "      fill: #1967D2;\n",
              "      height: 32px;\n",
              "      padding: 0 0 0 0;\n",
              "      width: 32px;\n",
              "    }\n",
              "\n",
              "    .colab-df-convert:hover {\n",
              "      background-color: #E2EBFA;\n",
              "      box-shadow: 0px 1px 2px rgba(60, 64, 67, 0.3), 0px 1px 3px 1px rgba(60, 64, 67, 0.15);\n",
              "      fill: #174EA6;\n",
              "    }\n",
              "\n",
              "    [theme=dark] .colab-df-convert {\n",
              "      background-color: #3B4455;\n",
              "      fill: #D2E3FC;\n",
              "    }\n",
              "\n",
              "    [theme=dark] .colab-df-convert:hover {\n",
              "      background-color: #434B5C;\n",
              "      box-shadow: 0px 1px 3px 1px rgba(0, 0, 0, 0.15);\n",
              "      filter: drop-shadow(0px 1px 2px rgba(0, 0, 0, 0.3));\n",
              "      fill: #FFFFFF;\n",
              "    }\n",
              "  </style>\n",
              "\n",
              "      <script>\n",
              "        const buttonEl =\n",
              "          document.querySelector('#df-e36dfd39-52e4-4afb-b115-9cb3139c72b4 button.colab-df-convert');\n",
              "        buttonEl.style.display =\n",
              "          google.colab.kernel.accessAllowed ? 'block' : 'none';\n",
              "\n",
              "        async function convertToInteractive(key) {\n",
              "          const element = document.querySelector('#df-e36dfd39-52e4-4afb-b115-9cb3139c72b4');\n",
              "          const dataTable =\n",
              "            await google.colab.kernel.invokeFunction('convertToInteractive',\n",
              "                                                     [key], {});\n",
              "          if (!dataTable) return;\n",
              "\n",
              "          const docLinkHtml = 'Like what you see? Visit the ' +\n",
              "            '<a target=\"_blank\" href=https://colab.research.google.com/notebooks/data_table.ipynb>data table notebook</a>'\n",
              "            + ' to learn more about interactive tables.';\n",
              "          element.innerHTML = '';\n",
              "          dataTable['output_type'] = 'display_data';\n",
              "          await google.colab.output.renderOutput(dataTable, element);\n",
              "          const docLink = document.createElement('div');\n",
              "          docLink.innerHTML = docLinkHtml;\n",
              "          element.appendChild(docLink);\n",
              "        }\n",
              "      </script>\n",
              "    </div>\n",
              "  </div>\n",
              "  "
            ],
            "text/plain": [
              "                      Animal      Body   Brain  ...  Pred  Exposure  Danger\n",
              "0  African_giant_pouched_rat     1.000     6.6  ...     3         1       3\n",
              "1             Asian_elephant  2547.000  4603.0  ...     3         5       4\n",
              "2                     Baboon    10.550   179.5  ...     4         4       4\n",
              "3              Big_brown_bat     0.023     0.3  ...     1         1       1\n",
              "4            Brazilian_tapir   160.000   169.0  ...     4         5       4\n",
              "\n",
              "[5 rows x 11 columns]"
            ]
          },
          "metadata": {},
          "execution_count": 24
        }
      ],
      "source": [
        "import pandas as pd \n",
        "import seaborn as sns\n",
        "import matplotlib.pyplot as plt\n",
        "from statsmodels.formula.api import ols\n",
        "\n",
        "data_url = 'https://raw.githubusercontent.com/LambdaSchool/data-science-practice-datasets/main/unit_1/Sleep/Sleep.csv'\n",
        "\n",
        "sleep = pd.read_csv(data_url, skipinitialspace=True, header=0)\n",
        "\n",
        "sleep.head()"
      ]
    },
    {
      "cell_type": "markdown",
      "metadata": {
        "id": "WdhfGKqpvunG"
      },
      "source": [
        "How is time spent in dreaming and non-dreaming sleep related?  Do both increase together (i.e. Do mammals that sleep more get both more dreaming and non-dreaming sleep?)?  Or does a mammal that spends more time in dreaming sleep experience less non-dreaming sleep and vice versa.\n",
        "\n",
        "Let's begin by plotting dreaming and non-dreaming sleep.  We could choose either to be the explanatiory variable, but we'll go with using non-dreaming sleep time to predict dreaming sleep time."
      ]
    },
    {
      "cell_type": "code",
      "execution_count": null,
      "metadata": {
        "id": "HbnlS5irwOH6",
        "colab": {
          "base_uri": "https://localhost:8080/",
          "height": 385
        },
        "outputId": "13eae78c-8e49-45bf-abae-d70c664b8707"
      },
      "outputs": [
        {
          "output_type": "display_data",
          "data": {
            "image/png": "[encoded data removed]",
            "text/plain": [
              "<Figure size 360x360 with 1 Axes>"
            ]
          },
          "metadata": {
            "needs_background": "light"
          }
        }
      ],
      "source": [
        "sns.lmplot(x='SWsleep', y = 'Parasleep', data= sleep, ci = None)\n",
        "\n",
        "plt.title('Relationship of Time Spent in Non-Dreaming and Dreaming Sleep in Mammals')\n",
        "plt.xlabel('Hours spent in non-dreaming sleep')\n",
        "plt.ylabel('Hours spent in dreaming sleep')\n",
        "\n",
        "\n",
        "plt.show()"
      ]
    },
    {
      "cell_type": "markdown",
      "metadata": {
        "id": "yE7cw1BLx-fJ"
      },
      "source": [
        "Looks like there is a positive, possibly linear relationship between the two.  Both dreaming and non-dreaming sleep rise together."
      ]
    },
    {
      "cell_type": "markdown",
      "metadata": {
        "id": "L3PoDI-E6QdA"
      },
      "source": [
        "Let's calculate the correlation between the two."
      ]
    },
    {
      "cell_type": "code",
      "execution_count": null,
      "metadata": {
        "id": "TBLOQG-iyMhx",
        "colab": {
          "base_uri": "https://localhost:8080/"
        },
        "outputId": "f4db6310-3636-43cd-d6c1-1205e359e8dd"
      },
      "outputs": [
        {
          "output_type": "execute_result",
          "data": {
            "text/plain": [
              "(0.5182428682301412, 0.00043883313686808557)"
            ]
          },
          "metadata": {},
          "execution_count": 26
        }
      ],
      "source": [
        "st.pearsonr(sleep['SWsleep'], sleep['Parasleep'])"
      ]
    },
    {
      "cell_type": "markdown",
      "metadata": {
        "id": "Ow3jdysC6rwF"
      },
      "source": [
        "Calculate the LS regression coefficients"
      ]
    },
    {
      "cell_type": "code",
      "execution_count": null,
      "metadata": {
        "id": "Jv9RjYNE6qRo",
        "colab": {
          "base_uri": "https://localhost:8080/"
        },
        "outputId": "719b0dac-7efa-4152-e5be-0d0497436e91"
      },
      "outputs": [
        {
          "output_type": "execute_result",
          "data": {
            "text/plain": [
              "Intercept    0.260215\n",
              "SWsleep      0.187557\n",
              "dtype: float64"
            ]
          },
          "metadata": {},
          "execution_count": 27
        }
      ],
      "source": [
        "model = ols('Parasleep ~ SWsleep', data= sleep).fit()\n",
        "\n",
        "model.params"
      ]
    },
    {
      "cell_type": "markdown",
      "metadata": {
        "id": "WYyRxAvW6qRz"
      },
      "source": [
        "We can write the linear regression model for the relationship between long bone nitrogen composition and length of interment as \n",
        "\n",
        "$\\hat{Y} = .26 + .18x$\n"
      ]
    },
    {
      "cell_type": "markdown",
      "metadata": {
        "id": "ogOsndTwChMr"
      },
      "source": [
        "We can overlay the regression line on top of our scatterplot to get a sense of how the observed data points vary around it."
      ]
    },
    {
      "cell_type": "code",
      "execution_count": null,
      "metadata": {
        "id": "Joj5exSbChM3",
        "colab": {
          "base_uri": "https://localhost:8080/",
          "height": 385
        },
        "outputId": "28cbeed6-173b-4fbe-b8aa-f99b56edab86"
      },
      "outputs": [
        {
          "output_type": "display_data",
          "data": {
            "image/png": "[encoded data removed]",
            "text/plain": [
              "<Figure size 360x360 with 1 Axes>"
            ]
          },
          "metadata": {
            "needs_background": "light"
          }
        }
      ],
      "source": [
        "sns.lmplot(x='SWsleep', y = 'Parasleep', data= sleep, ci = None)\n",
        "\n",
        "plt.title('Relationship of Time Spent in Non-Dreaming and Dreaming Sleep in Mammals')\n",
        "plt.xlabel('Hours spent in non-dreaming sleep')\n",
        "plt.ylabel('Hours spent in dreaming sleep')\n",
        "\n",
        "\n",
        "plt.show()\n",
        "\n"
      ]
    },
    {
      "cell_type": "markdown",
      "metadata": {
        "id": "4xPgxlOoChM4"
      },
      "source": [
        "\n",
        "\n",
        "---\n",
        "\n"
      ]
    },
    {
      "cell_type": "markdown",
      "metadata": {
        "id": "UYTB-LcnChM5"
      },
      "source": [
        "Humans spend about 6 hours per night in non-dreaming sleep and 2 hours in dreaming sleep.  According to this model, how many hours of dreaming sleep do we get?  What is the residual?"
      ]
    },
    {
      "cell_type": "code",
      "execution_count": null,
      "metadata": {
        "id": "lK0huQRYChM5",
        "colab": {
          "base_uri": "https://localhost:8080/"
        },
        "outputId": "ea10510e-8bcb-40cd-c0d3-642123b175fd"
      },
      "outputs": [
        {
          "output_type": "stream",
          "name": "stdout",
          "text": [
            "1.3855577166058581\n",
            "0.6144422833941419\n"
          ]
        }
      ],
      "source": [
        "#Specify the value of x we'd like to predict\n",
        "x= 6\n",
        "\n",
        "#Extract the slope and intercept values from the model paramters\n",
        "intercept = model.params[0]\n",
        "slope = model.params[1]\n",
        "\n",
        "#Use the model coefficients and plug the new value of x into the regression equation\n",
        "predict = intercept + slope*x\n",
        "\n",
        "print(predict)\n",
        "\n",
        "#Specify the actual value of y\n",
        "y = 2\n",
        "\n",
        "#Calculate the residual y - y-hat\n",
        "residual = y - predict\n",
        "print(residual)"
      ]
    },
    {
      "cell_type": "markdown",
      "source": [
        "SKLearn "
      ],
      "metadata": {
        "id": "1BkIjJQj1DfD"
      }
    },
    {
      "cell_type": "code",
      "source": [
        "from sklearn.linear_model import LinearRegression"
      ],
      "metadata": {
        "id": "_VWyy6NU1Mjr"
      },
      "execution_count": null,
      "outputs": []
    },
    {
      "cell_type": "code",
      "source": [
        "lr = LinearRegression()\n",
        "\n",
        "X = sleep[['SWsleep']]\n",
        "y = sleep['Parasleep']\n",
        "\n",
        "lr.fit(X.values, y)"
      ],
      "metadata": {
        "colab": {
          "base_uri": "https://localhost:8080/"
        },
        "id": "pcnTpWFB1jVH",
        "outputId": "12417721-0a92-49f5-8871-785e8c0cea68"
      },
      "execution_count": null,
      "outputs": [
        {
          "output_type": "execute_result",
          "data": {
            "text/plain": [
              "LinearRegression()"
            ]
          },
          "metadata": {},
          "execution_count": 90
        }
      ]
    },
    {
      "cell_type": "code",
      "source": [
        "lr.predict([[6]])"
      ],
      "metadata": {
        "colab": {
          "base_uri": "https://localhost:8080/"
        },
        "id": "n-Yd4JUm2ifm",
        "outputId": "f97d3ae3-7288-49d4-b924-f458ed36ac04"
      },
      "execution_count": null,
      "outputs": [
        {
          "output_type": "execute_result",
          "data": {
            "text/plain": [
              "array([1.38555772])"
            ]
          },
          "metadata": {},
          "execution_count": 91
        }
      ]
    },
    {
      "cell_type": "code",
      "source": [
        "sleep.head()"
      ],
      "metadata": {
        "colab": {
          "base_uri": "https://localhost:8080/",
          "height": 206
        },
        "id": "rA--OIDq2qry",
        "outputId": "6cce56a0-1287-456e-8c86-ca5b96203a95"
      },
      "execution_count": null,
      "outputs": [
        {
          "output_type": "execute_result",
          "data": {
            "text/html": [
              "\n",
              "  <div id=\"df-ee91e48a-74e5-41b5-ad80-1f3ee6c154a9\">\n",
              "    <div class=\"colab-df-container\">\n",
              "      <div>\n",
              "<style scoped>\n",
              "    .dataframe tbody tr th:only-of-type {\n",
              "        vertical-align: middle;\n",
              "    }\n",
              "\n",
              "    .dataframe tbody tr th {\n",
              "        vertical-align: top;\n",
              "    }\n",
              "\n",
              "    .dataframe thead th {\n",
              "        text-align: right;\n",
              "    }\n",
              "</style>\n",
              "<table border=\"1\" class=\"dataframe\">\n",
              "  <thead>\n",
              "    <tr style=\"text-align: right;\">\n",
              "      <th></th>\n",
              "      <th>Animal</th>\n",
              "      <th>Body</th>\n",
              "      <th>Brain</th>\n",
              "      <th>SWsleep</th>\n",
              "      <th>Parasleep</th>\n",
              "      <th>Totsleep</th>\n",
              "      <th>Life</th>\n",
              "      <th>Gest</th>\n",
              "      <th>Pred</th>\n",
              "      <th>Exposure</th>\n",
              "      <th>Danger</th>\n",
              "      <th>predictions</th>\n",
              "      <th>residuals</th>\n",
              "    </tr>\n",
              "  </thead>\n",
              "  <tbody>\n",
              "    <tr>\n",
              "      <th>0</th>\n",
              "      <td>African_giant_pouched_rat</td>\n",
              "      <td>1.000</td>\n",
              "      <td>6.6</td>\n",
              "      <td>6.3</td>\n",
              "      <td>2.0</td>\n",
              "      <td>8.3</td>\n",
              "      <td>4.5</td>\n",
              "      <td>42.0</td>\n",
              "      <td>3</td>\n",
              "      <td>1</td>\n",
              "      <td>3</td>\n",
              "      <td>1.441825</td>\n",
              "      <td>0.558175</td>\n",
              "    </tr>\n",
              "    <tr>\n",
              "      <th>1</th>\n",
              "      <td>Asian_elephant</td>\n",
              "      <td>2547.000</td>\n",
              "      <td>4603.0</td>\n",
              "      <td>2.1</td>\n",
              "      <td>1.8</td>\n",
              "      <td>3.9</td>\n",
              "      <td>69.0</td>\n",
              "      <td>624.0</td>\n",
              "      <td>3</td>\n",
              "      <td>5</td>\n",
              "      <td>4</td>\n",
              "      <td>0.654085</td>\n",
              "      <td>1.145915</td>\n",
              "    </tr>\n",
              "    <tr>\n",
              "      <th>2</th>\n",
              "      <td>Baboon</td>\n",
              "      <td>10.550</td>\n",
              "      <td>179.5</td>\n",
              "      <td>9.1</td>\n",
              "      <td>0.7</td>\n",
              "      <td>9.8</td>\n",
              "      <td>27.0</td>\n",
              "      <td>180.0</td>\n",
              "      <td>4</td>\n",
              "      <td>4</td>\n",
              "      <td>4</td>\n",
              "      <td>1.966985</td>\n",
              "      <td>-1.266985</td>\n",
              "    </tr>\n",
              "    <tr>\n",
              "      <th>3</th>\n",
              "      <td>Big_brown_bat</td>\n",
              "      <td>0.023</td>\n",
              "      <td>0.3</td>\n",
              "      <td>15.8</td>\n",
              "      <td>3.9</td>\n",
              "      <td>19.7</td>\n",
              "      <td>19.0</td>\n",
              "      <td>35.0</td>\n",
              "      <td>1</td>\n",
              "      <td>1</td>\n",
              "      <td>1</td>\n",
              "      <td>3.223617</td>\n",
              "      <td>0.676383</td>\n",
              "    </tr>\n",
              "    <tr>\n",
              "      <th>4</th>\n",
              "      <td>Brazilian_tapir</td>\n",
              "      <td>160.000</td>\n",
              "      <td>169.0</td>\n",
              "      <td>5.2</td>\n",
              "      <td>1.0</td>\n",
              "      <td>6.2</td>\n",
              "      <td>30.4</td>\n",
              "      <td>392.0</td>\n",
              "      <td>4</td>\n",
              "      <td>5</td>\n",
              "      <td>4</td>\n",
              "      <td>1.235512</td>\n",
              "      <td>-0.235512</td>\n",
              "    </tr>\n",
              "  </tbody>\n",
              "</table>\n",
              "</div>\n",
              "      <button class=\"colab-df-convert\" onclick=\"convertToInteractive('df-ee91e48a-74e5-41b5-ad80-1f3ee6c154a9')\"\n",
              "              title=\"Convert this dataframe to an interactive table.\"\n",
              "              style=\"display:none;\">\n",
              "        \n",
              "  <svg xmlns=\"http://www.w3.org/2000/svg\" height=\"24px\"viewBox=\"0 0 24 24\"\n",
              "       width=\"24px\">\n",
              "    <path d=\"M0 0h24v24H0V0z\" fill=\"none\"/>\n",
              "    <path d=\"M18.56 5.44l.94 2.06.94-2.06 2.06-.94-2.06-.94-.94-2.06-.94 2.06-2.06.94zm-11 1L8.5 8.5l.94-2.06 2.06-.94-2.06-.94L8.5 2.5l-.94 2.06-2.06.94zm10 10l.94 2.06.94-2.06 2.06-.94-2.06-.94-.94-2.06-.94 2.06-2.06.94z\"/><path d=\"M17.41 7.96l-1.37-1.37c-.4-.4-.92-.59-1.43-.59-.52 0-1.04.2-1.43.59L10.3 9.45l-7.72 7.72c-.78.78-.78 2.05 0 2.83L4 21.41c.39.39.9.59 1.41.59.51 0 1.02-.2 1.41-.59l7.78-7.78 2.81-2.81c.8-.78.8-2.07 0-2.86zM5.41 20L4 18.59l7.72-7.72 1.47 1.35L5.41 20z\"/>\n",
              "  </svg>\n",
              "      </button>\n",
              "      \n",
              "  <style>\n",
              "    .colab-df-container {\n",
              "      display:flex;\n",
              "      flex-wrap:wrap;\n",
              "      gap: 12px;\n",
              "    }\n",
              "\n",
              "    .colab-df-convert {\n",
              "      background-color: #E8F0FE;\n",
              "      border: none;\n",
              "      border-radius: 50%;\n",
              "      cursor: pointer;\n",
              "      display: none;\n",
              "      fill: #1967D2;\n",
              "      height: 32px;\n",
              "      padding: 0 0 0 0;\n",
              "      width: 32px;\n",
              "    }\n",
              "\n",
              "    .colab-df-convert:hover {\n",
              "      background-color: #E2EBFA;\n",
              "      box-shadow: 0px 1px 2px rgba(60, 64, 67, 0.3), 0px 1px 3px 1px rgba(60, 64, 67, 0.15);\n",
              "      fill: #174EA6;\n",
              "    }\n",
              "\n",
              "    [theme=dark] .colab-df-convert {\n",
              "      background-color: #3B4455;\n",
              "      fill: #D2E3FC;\n",
              "    }\n",
              "\n",
              "    [theme=dark] .colab-df-convert:hover {\n",
              "      background-color: #434B5C;\n",
              "      box-shadow: 0px 1px 3px 1px rgba(0, 0, 0, 0.15);\n",
              "      filter: drop-shadow(0px 1px 2px rgba(0, 0, 0, 0.3));\n",
              "      fill: #FFFFFF;\n",
              "    }\n",
              "  </style>\n",
              "\n",
              "      <script>\n",
              "        const buttonEl =\n",
              "          document.querySelector('#df-ee91e48a-74e5-41b5-ad80-1f3ee6c154a9 button.colab-df-convert');\n",
              "        buttonEl.style.display =\n",
              "          google.colab.kernel.accessAllowed ? 'block' : 'none';\n",
              "\n",
              "        async function convertToInteractive(key) {\n",
              "          const element = document.querySelector('#df-ee91e48a-74e5-41b5-ad80-1f3ee6c154a9');\n",
              "          const dataTable =\n",
              "            await google.colab.kernel.invokeFunction('convertToInteractive',\n",
              "                                                     [key], {});\n",
              "          if (!dataTable) return;\n",
              "\n",
              "          const docLinkHtml = 'Like what you see? Visit the ' +\n",
              "            '<a target=\"_blank\" href=https://colab.research.google.com/notebooks/data_table.ipynb>data table notebook</a>'\n",
              "            + ' to learn more about interactive tables.';\n",
              "          element.innerHTML = '';\n",
              "          dataTable['output_type'] = 'display_data';\n",
              "          await google.colab.output.renderOutput(dataTable, element);\n",
              "          const docLink = document.createElement('div');\n",
              "          docLink.innerHTML = docLinkHtml;\n",
              "          element.appendChild(docLink);\n",
              "        }\n",
              "      </script>\n",
              "    </div>\n",
              "  </div>\n",
              "  "
            ],
            "text/plain": [
              "                      Animal      Body   Brain  ...  Danger  predictions  residuals\n",
              "0  African_giant_pouched_rat     1.000     6.6  ...       3     1.441825   0.558175\n",
              "1             Asian_elephant  2547.000  4603.0  ...       4     0.654085   1.145915\n",
              "2                     Baboon    10.550   179.5  ...       4     1.966985  -1.266985\n",
              "3              Big_brown_bat     0.023     0.3  ...       1     3.223617   0.676383\n",
              "4            Brazilian_tapir   160.000   169.0  ...       4     1.235512  -0.235512\n",
              "\n",
              "[5 rows x 13 columns]"
            ]
          },
          "metadata": {},
          "execution_count": 92
        }
      ]
    },
    {
      "cell_type": "code",
      "source": [
        "sleep['predictions'] = lr.predict(sleep[['SWsleep']])"
      ],
      "metadata": {
        "colab": {
          "base_uri": "https://localhost:8080/"
        },
        "id": "KDG0g8Uu29aH",
        "outputId": "2f5f5cdb-5d85-48ca-bf14-4a240044a823"
      },
      "execution_count": null,
      "outputs": [
        {
          "output_type": "stream",
          "name": "stderr",
          "text": [
            "/usr/local/lib/python3.7/dist-packages/sklearn/base.py:444: UserWarning: X has feature names, but LinearRegression was fitted without feature names\n",
            "  f\"X has feature names, but {self.__class__.__name__} was fitted without\"\n"
          ]
        }
      ]
    },
    {
      "cell_type": "code",
      "source": [
        "sleep.head()\n",
        "sleep['residuals'] = sleep['Parasleep'] - sleep['predictions']\n",
        "\n",
        "sleep[['SWsleep', 'Parasleep', 'predictions', 'residuals']].head()"
      ],
      "metadata": {
        "colab": {
          "base_uri": "https://localhost:8080/",
          "height": 206
        },
        "id": "cUyVAXIr3IOY",
        "outputId": "03fafe75-93db-49e6-b3e4-2d6eb38b10f9"
      },
      "execution_count": null,
      "outputs": [
        {
          "output_type": "execute_result",
          "data": {
            "text/html": [
              "\n",
              "  <div id=\"df-560ad30c-87c9-4420-b1ea-153d55aeebba\">\n",
              "    <div class=\"colab-df-container\">\n",
              "      <div>\n",
              "<style scoped>\n",
              "    .dataframe tbody tr th:only-of-type {\n",
              "        vertical-align: middle;\n",
              "    }\n",
              "\n",
              "    .dataframe tbody tr th {\n",
              "        vertical-align: top;\n",
              "    }\n",
              "\n",
              "    .dataframe thead th {\n",
              "        text-align: right;\n",
              "    }\n",
              "</style>\n",
              "<table border=\"1\" class=\"dataframe\">\n",
              "  <thead>\n",
              "    <tr style=\"text-align: right;\">\n",
              "      <th></th>\n",
              "      <th>SWsleep</th>\n",
              "      <th>Parasleep</th>\n",
              "      <th>predictions</th>\n",
              "      <th>residuals</th>\n",
              "    </tr>\n",
              "  </thead>\n",
              "  <tbody>\n",
              "    <tr>\n",
              "      <th>0</th>\n",
              "      <td>6.3</td>\n",
              "      <td>2.0</td>\n",
              "      <td>1.441825</td>\n",
              "      <td>0.558175</td>\n",
              "    </tr>\n",
              "    <tr>\n",
              "      <th>1</th>\n",
              "      <td>2.1</td>\n",
              "      <td>1.8</td>\n",
              "      <td>0.654085</td>\n",
              "      <td>1.145915</td>\n",
              "    </tr>\n",
              "    <tr>\n",
              "      <th>2</th>\n",
              "      <td>9.1</td>\n",
              "      <td>0.7</td>\n",
              "      <td>1.966985</td>\n",
              "      <td>-1.266985</td>\n",
              "    </tr>\n",
              "    <tr>\n",
              "      <th>3</th>\n",
              "      <td>15.8</td>\n",
              "      <td>3.9</td>\n",
              "      <td>3.223617</td>\n",
              "      <td>0.676383</td>\n",
              "    </tr>\n",
              "    <tr>\n",
              "      <th>4</th>\n",
              "      <td>5.2</td>\n",
              "      <td>1.0</td>\n",
              "      <td>1.235512</td>\n",
              "      <td>-0.235512</td>\n",
              "    </tr>\n",
              "  </tbody>\n",
              "</table>\n",
              "</div>\n",
              "      <button class=\"colab-df-convert\" onclick=\"convertToInteractive('df-560ad30c-87c9-4420-b1ea-153d55aeebba')\"\n",
              "              title=\"Convert this dataframe to an interactive table.\"\n",
              "              style=\"display:none;\">\n",
              "        \n",
              "  <svg xmlns=\"http://www.w3.org/2000/svg\" height=\"24px\"viewBox=\"0 0 24 24\"\n",
              "       width=\"24px\">\n",
              "    <path d=\"M0 0h24v24H0V0z\" fill=\"none\"/>\n",
              "    <path d=\"M18.56 5.44l.94 2.06.94-2.06 2.06-.94-2.06-.94-.94-2.06-.94 2.06-2.06.94zm-11 1L8.5 8.5l.94-2.06 2.06-.94-2.06-.94L8.5 2.5l-.94 2.06-2.06.94zm10 10l.94 2.06.94-2.06 2.06-.94-2.06-.94-.94-2.06-.94 2.06-2.06.94z\"/><path d=\"M17.41 7.96l-1.37-1.37c-.4-.4-.92-.59-1.43-.59-.52 0-1.04.2-1.43.59L10.3 9.45l-7.72 7.72c-.78.78-.78 2.05 0 2.83L4 21.41c.39.39.9.59 1.41.59.51 0 1.02-.2 1.41-.59l7.78-7.78 2.81-2.81c.8-.78.8-2.07 0-2.86zM5.41 20L4 18.59l7.72-7.72 1.47 1.35L5.41 20z\"/>\n",
              "  </svg>\n",
              "      </button>\n",
              "      \n",
              "  <style>\n",
              "    .colab-df-container {\n",
              "      display:flex;\n",
              "      flex-wrap:wrap;\n",
              "      gap: 12px;\n",
              "    }\n",
              "\n",
              "    .colab-df-convert {\n",
              "      background-color: #E8F0FE;\n",
              "      border: none;\n",
              "      border-radius: 50%;\n",
              "      cursor: pointer;\n",
              "      display: none;\n",
              "      fill: #1967D2;\n",
              "      height: 32px;\n",
              "      padding: 0 0 0 0;\n",
              "      width: 32px;\n",
              "    }\n",
              "\n",
              "    .colab-df-convert:hover {\n",
              "      background-color: #E2EBFA;\n",
              "      box-shadow: 0px 1px 2px rgba(60, 64, 67, 0.3), 0px 1px 3px 1px rgba(60, 64, 67, 0.15);\n",
              "      fill: #174EA6;\n",
              "    }\n",
              "\n",
              "    [theme=dark] .colab-df-convert {\n",
              "      background-color: #3B4455;\n",
              "      fill: #D2E3FC;\n",
              "    }\n",
              "\n",
              "    [theme=dark] .colab-df-convert:hover {\n",
              "      background-color: #434B5C;\n",
              "      box-shadow: 0px 1px 3px 1px rgba(0, 0, 0, 0.15);\n",
              "      filter: drop-shadow(0px 1px 2px rgba(0, 0, 0, 0.3));\n",
              "      fill: #FFFFFF;\n",
              "    }\n",
              "  </style>\n",
              "\n",
              "      <script>\n",
              "        const buttonEl =\n",
              "          document.querySelector('#df-560ad30c-87c9-4420-b1ea-153d55aeebba button.colab-df-convert');\n",
              "        buttonEl.style.display =\n",
              "          google.colab.kernel.accessAllowed ? 'block' : 'none';\n",
              "\n",
              "        async function convertToInteractive(key) {\n",
              "          const element = document.querySelector('#df-560ad30c-87c9-4420-b1ea-153d55aeebba');\n",
              "          const dataTable =\n",
              "            await google.colab.kernel.invokeFunction('convertToInteractive',\n",
              "                                                     [key], {});\n",
              "          if (!dataTable) return;\n",
              "\n",
              "          const docLinkHtml = 'Like what you see? Visit the ' +\n",
              "            '<a target=\"_blank\" href=https://colab.research.google.com/notebooks/data_table.ipynb>data table notebook</a>'\n",
              "            + ' to learn more about interactive tables.';\n",
              "          element.innerHTML = '';\n",
              "          dataTable['output_type'] = 'display_data';\n",
              "          await google.colab.output.renderOutput(dataTable, element);\n",
              "          const docLink = document.createElement('div');\n",
              "          docLink.innerHTML = docLinkHtml;\n",
              "          element.appendChild(docLink);\n",
              "        }\n",
              "      </script>\n",
              "    </div>\n",
              "  </div>\n",
              "  "
            ],
            "text/plain": [
              "   SWsleep  Parasleep  predictions  residuals\n",
              "0      6.3        2.0     1.441825   0.558175\n",
              "1      2.1        1.8     0.654085   1.145915\n",
              "2      9.1        0.7     1.966985  -1.266985\n",
              "3     15.8        3.9     3.223617   0.676383\n",
              "4      5.2        1.0     1.235512  -0.235512"
            ]
          },
          "metadata": {},
          "execution_count": 97
        }
      ]
    },
    {
      "cell_type": "code",
      "source": [
        "lr.predict([[1000]])"
      ],
      "metadata": {
        "colab": {
          "base_uri": "https://localhost:8080/"
        },
        "id": "_q1jO23-3NSR",
        "outputId": "94ce64b7-f421-4f6d-c14c-ee1d934c323c"
      },
      "execution_count": null,
      "outputs": [
        {
          "output_type": "execute_result",
          "data": {
            "text/plain": [
              "array([187.81729771])"
            ]
          },
          "metadata": {},
          "execution_count": 98
        }
      ]
    },
    {
      "cell_type": "code",
      "source": [
        "\n",
        "model.params"
      ],
      "metadata": {
        "colab": {
          "base_uri": "https://localhost:8080/"
        },
        "id": "ECylRTX6br3c",
        "outputId": "d08fa31c-4bd3-49cf-c22f-6f5a543e4091"
      },
      "execution_count": null,
      "outputs": [
        {
          "output_type": "execute_result",
          "data": {
            "text/plain": [
              "Intercept    0.260215\n",
              "SWsleep      0.187557\n",
              "dtype: float64"
            ]
          },
          "metadata": {},
          "execution_count": 108
        }
      ]
    },
    {
      "cell_type": "code",
      "source": [
        "#Task 15\n",
        "#the most effective method\n",
        "df_sleep['Animal'].str.replace('_', \" \")\n",
        "\n",
        "\n",
        "def name_nospace(name):\n",
        "    return name.replace(\"_\", \" \")\n",
        "\n",
        "#will work \n",
        "name_nospace('Big_brown_bat')\n",
        "\n",
        "\n",
        "#will not work\n",
        "name_nospace(df_sleep['Animal'])\n",
        "\n",
        "#will work\n",
        "df_sleep['Animal_name'] = df_sleep['Animal'].apply(name_nospace)"
      ],
      "metadata": {
        "id": "Fv2BbTMHa8-a"
      },
      "execution_count": null,
      "outputs": []
    },
    {
      "cell_type": "code",
      "source": [],
      "metadata": {
        "id": "i7dkFmy2lCt9"
      },
      "execution_count": null,
      "outputs": []
    },
    {
      "cell_type": "markdown",
      "source": [
        "Office Hours"
      ],
      "metadata": {
        "id": "OfLR55hRlDOr"
      }
    },
    {
      "cell_type": "code",
      "source": [
        "from sklearn.linear_model import LinearRegression"
      ],
      "metadata": {
        "id": "dGlqVwFYlD87"
      },
      "execution_count": null,
      "outputs": []
    },
    {
      "cell_type": "code",
      "source": [
        "lr = LinearRegression()"
      ],
      "metadata": {
        "id": "9DAIhwjolOTJ"
      },
      "execution_count": null,
      "outputs": []
    },
    {
      "cell_type": "code",
      "source": [
        "sleep.head()"
      ],
      "metadata": {
        "colab": {
          "base_uri": "https://localhost:8080/",
          "height": 206
        },
        "id": "Io6Md0zSlVYZ",
        "outputId": "4515ead3-e64a-4b6c-bd32-c50c51cafde5"
      },
      "execution_count": null,
      "outputs": [
        {
          "output_type": "execute_result",
          "data": {
            "text/html": [
              "\n",
              "  <div id=\"df-df2b3080-47a3-4ed6-ba00-f53b8d4a11fd\">\n",
              "    <div class=\"colab-df-container\">\n",
              "      <div>\n",
              "<style scoped>\n",
              "    .dataframe tbody tr th:only-of-type {\n",
              "        vertical-align: middle;\n",
              "    }\n",
              "\n",
              "    .dataframe tbody tr th {\n",
              "        vertical-align: top;\n",
              "    }\n",
              "\n",
              "    .dataframe thead th {\n",
              "        text-align: right;\n",
              "    }\n",
              "</style>\n",
              "<table border=\"1\" class=\"dataframe\">\n",
              "  <thead>\n",
              "    <tr style=\"text-align: right;\">\n",
              "      <th></th>\n",
              "      <th>Animal</th>\n",
              "      <th>Body</th>\n",
              "      <th>Brain</th>\n",
              "      <th>SWsleep</th>\n",
              "      <th>Parasleep</th>\n",
              "      <th>Totsleep</th>\n",
              "      <th>Life</th>\n",
              "      <th>Gest</th>\n",
              "      <th>Pred</th>\n",
              "      <th>Exposure</th>\n",
              "      <th>Danger</th>\n",
              "      <th>predictions</th>\n",
              "      <th>residuals</th>\n",
              "    </tr>\n",
              "  </thead>\n",
              "  <tbody>\n",
              "    <tr>\n",
              "      <th>0</th>\n",
              "      <td>African_giant_pouched_rat</td>\n",
              "      <td>1.000</td>\n",
              "      <td>6.6</td>\n",
              "      <td>6.3</td>\n",
              "      <td>2.0</td>\n",
              "      <td>8.3</td>\n",
              "      <td>4.5</td>\n",
              "      <td>42.0</td>\n",
              "      <td>3</td>\n",
              "      <td>1</td>\n",
              "      <td>3</td>\n",
              "      <td>1.441825</td>\n",
              "      <td>0.558175</td>\n",
              "    </tr>\n",
              "    <tr>\n",
              "      <th>1</th>\n",
              "      <td>Asian_elephant</td>\n",
              "      <td>2547.000</td>\n",
              "      <td>4603.0</td>\n",
              "      <td>2.1</td>\n",
              "      <td>1.8</td>\n",
              "      <td>3.9</td>\n",
              "      <td>69.0</td>\n",
              "      <td>624.0</td>\n",
              "      <td>3</td>\n",
              "      <td>5</td>\n",
              "      <td>4</td>\n",
              "      <td>0.654085</td>\n",
              "      <td>1.145915</td>\n",
              "    </tr>\n",
              "    <tr>\n",
              "      <th>2</th>\n",
              "      <td>Baboon</td>\n",
              "      <td>10.550</td>\n",
              "      <td>179.5</td>\n",
              "      <td>9.1</td>\n",
              "      <td>0.7</td>\n",
              "      <td>9.8</td>\n",
              "      <td>27.0</td>\n",
              "      <td>180.0</td>\n",
              "      <td>4</td>\n",
              "      <td>4</td>\n",
              "      <td>4</td>\n",
              "      <td>1.966985</td>\n",
              "      <td>-1.266985</td>\n",
              "    </tr>\n",
              "    <tr>\n",
              "      <th>3</th>\n",
              "      <td>Big_brown_bat</td>\n",
              "      <td>0.023</td>\n",
              "      <td>0.3</td>\n",
              "      <td>15.8</td>\n",
              "      <td>3.9</td>\n",
              "      <td>19.7</td>\n",
              "      <td>19.0</td>\n",
              "      <td>35.0</td>\n",
              "      <td>1</td>\n",
              "      <td>1</td>\n",
              "      <td>1</td>\n",
              "      <td>3.223617</td>\n",
              "      <td>0.676383</td>\n",
              "    </tr>\n",
              "    <tr>\n",
              "      <th>4</th>\n",
              "      <td>Brazilian_tapir</td>\n",
              "      <td>160.000</td>\n",
              "      <td>169.0</td>\n",
              "      <td>5.2</td>\n",
              "      <td>1.0</td>\n",
              "      <td>6.2</td>\n",
              "      <td>30.4</td>\n",
              "      <td>392.0</td>\n",
              "      <td>4</td>\n",
              "      <td>5</td>\n",
              "      <td>4</td>\n",
              "      <td>1.235512</td>\n",
              "      <td>-0.235512</td>\n",
              "    </tr>\n",
              "  </tbody>\n",
              "</table>\n",
              "</div>\n",
              "      <button class=\"colab-df-convert\" onclick=\"convertToInteractive('df-df2b3080-47a3-4ed6-ba00-f53b8d4a11fd')\"\n",
              "              title=\"Convert this dataframe to an interactive table.\"\n",
              "              style=\"display:none;\">\n",
              "        \n",
              "  <svg xmlns=\"http://www.w3.org/2000/svg\" height=\"24px\"viewBox=\"0 0 24 24\"\n",
              "       width=\"24px\">\n",
              "    <path d=\"M0 0h24v24H0V0z\" fill=\"none\"/>\n",
              "    <path d=\"M18.56 5.44l.94 2.06.94-2.06 2.06-.94-2.06-.94-.94-2.06-.94 2.06-2.06.94zm-11 1L8.5 8.5l.94-2.06 2.06-.94-2.06-.94L8.5 2.5l-.94 2.06-2.06.94zm10 10l.94 2.06.94-2.06 2.06-.94-2.06-.94-.94-2.06-.94 2.06-2.06.94z\"/><path d=\"M17.41 7.96l-1.37-1.37c-.4-.4-.92-.59-1.43-.59-.52 0-1.04.2-1.43.59L10.3 9.45l-7.72 7.72c-.78.78-.78 2.05 0 2.83L4 21.41c.39.39.9.59 1.41.59.51 0 1.02-.2 1.41-.59l7.78-7.78 2.81-2.81c.8-.78.8-2.07 0-2.86zM5.41 20L4 18.59l7.72-7.72 1.47 1.35L5.41 20z\"/>\n",
              "  </svg>\n",
              "      </button>\n",
              "      \n",
              "  <style>\n",
              "    .colab-df-container {\n",
              "      display:flex;\n",
              "      flex-wrap:wrap;\n",
              "      gap: 12px;\n",
              "    }\n",
              "\n",
              "    .colab-df-convert {\n",
              "      background-color: #E8F0FE;\n",
              "      border: none;\n",
              "      border-radius: 50%;\n",
              "      cursor: pointer;\n",
              "      display: none;\n",
              "      fill: #1967D2;\n",
              "      height: 32px;\n",
              "      padding: 0 0 0 0;\n",
              "      width: 32px;\n",
              "    }\n",
              "\n",
              "    .colab-df-convert:hover {\n",
              "      background-color: #E2EBFA;\n",
              "      box-shadow: 0px 1px 2px rgba(60, 64, 67, 0.3), 0px 1px 3px 1px rgba(60, 64, 67, 0.15);\n",
              "      fill: #174EA6;\n",
              "    }\n",
              "\n",
              "    [theme=dark] .colab-df-convert {\n",
              "      background-color: #3B4455;\n",
              "      fill: #D2E3FC;\n",
              "    }\n",
              "\n",
              "    [theme=dark] .colab-df-convert:hover {\n",
              "      background-color: #434B5C;\n",
              "      box-shadow: 0px 1px 3px 1px rgba(0, 0, 0, 0.15);\n",
              "      filter: drop-shadow(0px 1px 2px rgba(0, 0, 0, 0.3));\n",
              "      fill: #FFFFFF;\n",
              "    }\n",
              "  </style>\n",
              "\n",
              "      <script>\n",
              "        const buttonEl =\n",
              "          document.querySelector('#df-df2b3080-47a3-4ed6-ba00-f53b8d4a11fd button.colab-df-convert');\n",
              "        buttonEl.style.display =\n",
              "          google.colab.kernel.accessAllowed ? 'block' : 'none';\n",
              "\n",
              "        async function convertToInteractive(key) {\n",
              "          const element = document.querySelector('#df-df2b3080-47a3-4ed6-ba00-f53b8d4a11fd');\n",
              "          const dataTable =\n",
              "            await google.colab.kernel.invokeFunction('convertToInteractive',\n",
              "                                                     [key], {});\n",
              "          if (!dataTable) return;\n",
              "\n",
              "          const docLinkHtml = 'Like what you see? Visit the ' +\n",
              "            '<a target=\"_blank\" href=https://colab.research.google.com/notebooks/data_table.ipynb>data table notebook</a>'\n",
              "            + ' to learn more about interactive tables.';\n",
              "          element.innerHTML = '';\n",
              "          dataTable['output_type'] = 'display_data';\n",
              "          await google.colab.output.renderOutput(dataTable, element);\n",
              "          const docLink = document.createElement('div');\n",
              "          docLink.innerHTML = docLinkHtml;\n",
              "          element.appendChild(docLink);\n",
              "        }\n",
              "      </script>\n",
              "    </div>\n",
              "  </div>\n",
              "  "
            ],
            "text/plain": [
              "                      Animal      Body   Brain  ...  Danger  predictions  residuals\n",
              "0  African_giant_pouched_rat     1.000     6.6  ...       3     1.441825   0.558175\n",
              "1             Asian_elephant  2547.000  4603.0  ...       4     0.654085   1.145915\n",
              "2                     Baboon    10.550   179.5  ...       4     1.966985  -1.266985\n",
              "3              Big_brown_bat     0.023     0.3  ...       1     3.223617   0.676383\n",
              "4            Brazilian_tapir   160.000   169.0  ...       4     1.235512  -0.235512\n",
              "\n",
              "[5 rows x 13 columns]"
            ]
          },
          "metadata": {},
          "execution_count": 113
        }
      ]
    },
    {
      "cell_type": "code",
      "source": [
        "X = sleep[['SWsleep']]\n",
        "y = sleep['Parasleep']"
      ],
      "metadata": {
        "id": "tl_AQaewljq6"
      },
      "execution_count": null,
      "outputs": []
    },
    {
      "cell_type": "code",
      "source": [
        "lr.fit(X, y)"
      ],
      "metadata": {
        "colab": {
          "base_uri": "https://localhost:8080/"
        },
        "id": "vee2Rvgvlvo8",
        "outputId": "4287d820-93e5-45e7-82f5-e299a3c5c35f"
      },
      "execution_count": null,
      "outputs": [
        {
          "output_type": "execute_result",
          "data": {
            "text/plain": [
              "LinearRegression()"
            ]
          },
          "metadata": {},
          "execution_count": 128
        }
      ]
    },
    {
      "cell_type": "code",
      "source": [
        "lr.fit(X, y)\n"
      ],
      "metadata": {
        "colab": {
          "base_uri": "https://localhost:8080/"
        },
        "id": "DwZBWQTemPZp",
        "outputId": "510a0345-d648-4c62-9ded-9b5beed4198d"
      },
      "execution_count": null,
      "outputs": [
        {
          "output_type": "execute_result",
          "data": {
            "text/plain": [
              "LinearRegression()"
            ]
          },
          "metadata": {},
          "execution_count": 129
        }
      ]
    },
    {
      "cell_type": "code",
      "source": [
        "lr.score(X,y)\n",
        "\n"
      ],
      "metadata": {
        "colab": {
          "base_uri": "https://localhost:8080/"
        },
        "id": "p0I6SpPKm0WA",
        "outputId": "9c123ab8-6cf7-44d7-f98e-83d3574ff0e2"
      },
      "execution_count": null,
      "outputs": [
        {
          "output_type": "execute_result",
          "data": {
            "text/plain": [
              "0.2685756704714035"
            ]
          },
          "metadata": {},
          "execution_count": 130
        }
      ]
    },
    {
      "cell_type": "code",
      "source": [
        "model = ols(\"Parasleep ~ SWsleep\", data= sleep).fit()\n",
        "\n",
        "model.params"
      ],
      "metadata": {
        "colab": {
          "base_uri": "https://localhost:8080/"
        },
        "id": "7dJvt36hm1-q",
        "outputId": "76b8385d-19f8-44f2-eea4-a4740f0ffa29"
      },
      "execution_count": null,
      "outputs": [
        {
          "output_type": "execute_result",
          "data": {
            "text/plain": [
              "Intercept    0.260215\n",
              "SWsleep      0.187557\n",
              "dtype: float64"
            ]
          },
          "metadata": {},
          "execution_count": 133
        }
      ]
    },
    {
      "cell_type": "code",
      "source": [
        "print(model.summary())"
      ],
      "metadata": {
        "colab": {
          "base_uri": "https://localhost:8080/"
        },
        "id": "Bp9vs5p6nWyF",
        "outputId": "6b17d1cc-54bb-417a-b8fc-02720f91fed4"
      },
      "execution_count": null,
      "outputs": [
        {
          "output_type": "stream",
          "name": "stdout",
          "text": [
            "                            OLS Regression Results                            \n",
            "==============================================================================\n",
            "Dep. Variable:              Parasleep   R-squared:                       0.269\n",
            "Model:                            OLS   Adj. R-squared:                  0.250\n",
            "Method:                 Least Squares   F-statistic:                     14.69\n",
            "Date:                Thu, 20 Jan 2022   Prob (F-statistic):           0.000439\n",
            "Time:                        22:33:08   Log-Likelihood:                -66.316\n",
            "No. Observations:                  42   AIC:                             136.6\n",
            "Df Residuals:                      40   BIC:                             140.1\n",
            "Df Model:                           1                                         \n",
            "Covariance Type:            nonrobust                                         \n",
            "==============================================================================\n",
            "                 coef    std err          t      P>|t|      [0.025      0.975]\n",
            "------------------------------------------------------------------------------\n",
            "Intercept      0.2602      0.466      0.558      0.580      -0.682       1.203\n",
            "SWsleep        0.1876      0.049      3.832      0.000       0.089       0.286\n",
            "==============================================================================\n",
            "Omnibus:                       14.597   Durbin-Watson:                   2.265\n",
            "Prob(Omnibus):                  0.001   Jarque-Bera (JB):               16.454\n",
            "Skew:                           1.208   Prob(JB):                     0.000267\n",
            "Kurtosis:                       4.887   Cond. No.                         24.2\n",
            "==============================================================================\n",
            "\n",
            "Warnings:\n",
            "[1] Standard Errors assume that the covariance matrix of the errors is correctly specified.\n"
          ]
        }
      ]
    },
    {
      "cell_type": "code",
      "source": [],
      "metadata": {
        "id": "x-kmyl5Bn0db"
      },
      "execution_count": null,
      "outputs": []
    },
    {
      "cell_type": "markdown",
      "source": [
        "Graphing"
      ],
      "metadata": {
        "id": "bcacfNZ1prro"
      }
    },
    {
      "cell_type": "code",
      "source": [
        "sns.lmplot(x='SWsleep', y = 'Parasleep', data= sleep, ci = 90)"
      ],
      "metadata": {
        "colab": {
          "base_uri": "https://localhost:8080/",
          "height": 386
        },
        "id": "z6ZxFYfVpthU",
        "outputId": "30af56d0-cabc-49c4-847f-242cb8db85f0"
      },
      "execution_count": null,
      "outputs": [
        {
          "output_type": "execute_result",
          "data": {
            "text/plain": [
              "<seaborn.axisgrid.FacetGrid at 0x7f9a7bd6dfd0>"
            ]
          },
          "metadata": {},
          "execution_count": 141
        },
        {
          "output_type": "display_data",
          "data": {
            "image/png": "[encoded data removed]",
            "text/plain": [
              "<Figure size 360x360 with 1 Axes>"
            ]
          },
          "metadata": {
            "needs_background": "light"
          }
        }
      ]
    },
    {
      "cell_type": "code",
      "source": [
        "i, s = model.params"
      ],
      "metadata": {
        "id": "mW4x02QLrsD3"
      },
      "execution_count": null,
      "outputs": []
    },
    {
      "cell_type": "code",
      "source": [
        "plt.scatter(sleep['SWsleep'], sleep['Parasleep'])\n",
        "\n",
        "\n",
        "plt.plot(sleep['SWsleep'], s*sleep['SWsleep'] + i, color= 'r')"
      ],
      "metadata": {
        "colab": {
          "base_uri": "https://localhost:8080/",
          "height": 218
        },
        "id": "EFxRhuHyp0gr",
        "outputId": "66e6cbca-d6b2-4903-eb42-8c38875a2074"
      },
      "execution_count": null,
      "outputs": [
        {
          "output_type": "error",
          "ename": "NameError",
          "evalue": "ignored",
          "traceback": [
            "\u001b[0;31m---------------------------------------------------------------------------\u001b[0m",
            "\u001b[0;31mNameError\u001b[0m                                 Traceback (most recent call last)",
            "\u001b[0;32m<ipython-input-1-88eaed591f18>\u001b[0m in \u001b[0;36m<module>\u001b[0;34m()\u001b[0m\n\u001b[0;32m----> 1\u001b[0;31m \u001b[0mplt\u001b[0m\u001b[0;34m.\u001b[0m\u001b[0mscatter\u001b[0m\u001b[0;34m(\u001b[0m\u001b[0msleep\u001b[0m\u001b[0;34m[\u001b[0m\u001b[0;34m'SWsleep'\u001b[0m\u001b[0;34m]\u001b[0m\u001b[0;34m,\u001b[0m \u001b[0msleep\u001b[0m\u001b[0;34m[\u001b[0m\u001b[0;34m'Parasleep'\u001b[0m\u001b[0;34m]\u001b[0m\u001b[0;34m)\u001b[0m\u001b[0;34m\u001b[0m\u001b[0;34m\u001b[0m\u001b[0m\n\u001b[0m\u001b[1;32m      2\u001b[0m \u001b[0;34m\u001b[0m\u001b[0m\n\u001b[1;32m      3\u001b[0m \u001b[0;34m\u001b[0m\u001b[0m\n\u001b[1;32m      4\u001b[0m \u001b[0mplt\u001b[0m\u001b[0;34m.\u001b[0m\u001b[0mplot\u001b[0m\u001b[0;34m(\u001b[0m\u001b[0msleep\u001b[0m\u001b[0;34m[\u001b[0m\u001b[0;34m'SWsleep'\u001b[0m\u001b[0;34m]\u001b[0m\u001b[0;34m,\u001b[0m \u001b[0ms\u001b[0m\u001b[0;34m*\u001b[0m\u001b[0msleep\u001b[0m\u001b[0;34m[\u001b[0m\u001b[0;34m'SWsleep'\u001b[0m\u001b[0;34m]\u001b[0m \u001b[0;34m+\u001b[0m \u001b[0mi\u001b[0m\u001b[0;34m,\u001b[0m \u001b[0mcolor\u001b[0m\u001b[0;34m=\u001b[0m \u001b[0;34m'r'\u001b[0m\u001b[0;34m)\u001b[0m\u001b[0;34m\u001b[0m\u001b[0;34m\u001b[0m\u001b[0m\n",
            "\u001b[0;31mNameError\u001b[0m: name 'plt' is not defined"
          ]
        }
      ]
    },
    {
      "cell_type": "code",
      "source": [],
      "metadata": {
        "id": "ql5pndUbroQx"
      },
      "execution_count": null,
      "outputs": []
    }
  ],
  "metadata": {
    "colab": {
      "provenance": []
    },
    "kernelspec": {
      "display_name": "Python 3",
      "language": "python",
      "name": "python3"
    },
    "language_info": {
      "codemirror_mode": {
        "name": "ipython",
        "version": 3
      },
      "file_extension": ".py",
      "mimetype": "text/x-python",
      "name": "python",
      "nbconvert_exporter": "python",
      "pygments_lexer": "ipython3",
      "version": "3.8.8"
    }
  },
  "nbformat": 4,
  "nbformat_minor": 0
}