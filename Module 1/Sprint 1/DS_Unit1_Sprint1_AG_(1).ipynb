{
  "cells": [
    {
      "cell_type": "markdown",
      "metadata": {
        "deletable": false,
        "editable": false,
        "id": "j4EFYnn4MixR",
        "nbgrader": {
          "cell_type": "markdown",
          "checksum": "2dee446e1f8055f6ba536709ccbcb62c",
          "grade": false,
          "grade_id": "cell-2e05cbe003d95447",
          "locked": true,
          "schema_version": 3,
          "solution": false,
          "task": false
        }
      },
      "source": [
        "## Sprint Challenge: Data Wrangling and Storytelling\n",
        "### Notebook points total: 14\n"
      ]
    },
    {
      "cell_type": "markdown",
      "metadata": {
        "deletable": false,
        "editable": false,
        "nbgrader": {
          "cell_type": "markdown",
          "checksum": "09ff81547a7ea5678875118ce6caa95d",
          "grade": false,
          "grade_id": "cell-5821095ecfb57ce4",
          "locked": true,
          "schema_version": 3,
          "solution": false,
          "task": false
        },
        "id": "xXqWw0uqVm7Q"
      },
      "source": [
        "## Python Fundamentals"
      ]
    },
    {
      "cell_type": "markdown",
      "metadata": {
        "deletable": false,
        "editable": false,
        "nbgrader": {
          "cell_type": "markdown",
          "checksum": "dc8877d44d9b265b9d66a579582b88cd",
          "grade": false,
          "grade_id": "cell-b5f9b60ba324a5b0",
          "locked": true,
          "schema_version": 3,
          "solution": false,
          "task": false
        },
        "id": "8W2K1AXBVm7Q"
      },
      "source": [
        "**Task 1** - Python Objects\n",
        "* Create a list object called `list_practice` using the following three strings: `bloom`, `data`, `python` "
      ]
    },
    {
      "cell_type": "code",
      "execution_count": null,
      "metadata": {
        "deletable": false,
        "nbgrader": {
          "cell_type": "code",
          "checksum": "2c2a3c1d8e5f4ea0a783bfa9d00218e7",
          "grade": false,
          "grade_id": "cell-6ee0685279505899",
          "locked": false,
          "schema_version": 3,
          "solution": true,
          "task": false
        },
        "id": "SPCzq_1IVm7R"
      },
      "outputs": [],
      "source": [
        "# YOUR CODE HERE\n",
        "list_practice= ['bloom', 'data', 'python']"
      ]
    },
    {
      "cell_type": "markdown",
      "metadata": {
        "deletable": false,
        "editable": false,
        "nbgrader": {
          "cell_type": "markdown",
          "checksum": "6e15fd8ad40d40895af5017592188d86",
          "grade": false,
          "grade_id": "cell-254c30333f63dc0e",
          "locked": true,
          "schema_version": 3,
          "solution": false,
          "task": false
        },
        "id": "IpKPbanqVm7R"
      },
      "source": [
        "**Task 1 Test**"
      ]
    },
    {
      "cell_type": "code",
      "execution_count": null,
      "metadata": {
        "deletable": false,
        "editable": false,
        "nbgrader": {
          "cell_type": "code",
          "checksum": "248c1e6a40bea014a9f130cee72c1a46",
          "grade": true,
          "grade_id": "cell-7f5ed8ccc5b15f71",
          "locked": true,
          "points": 1,
          "schema_version": 3,
          "solution": false,
          "task": false
        },
        "id": "71DI2OOoVm7R"
      },
      "outputs": [],
      "source": [
        "#Task 1 - Test\n",
        "assert isinstance(list_practice, list), \"Make sure you created a list object\"\n"
      ]
    },
    {
      "cell_type": "markdown",
      "metadata": {
        "deletable": false,
        "editable": false,
        "nbgrader": {
          "cell_type": "markdown",
          "checksum": "30d91f27e533bf95f3afd44e8d9cda1b",
          "grade": false,
          "grade_id": "cell-bd07e140b06f24b6",
          "locked": true,
          "schema_version": 3,
          "solution": false,
          "task": false
        },
        "id": "aCQJigYyVm7S"
      },
      "source": [
        "\n",
        "**Task 2** - Dictionaries\n",
        "* Create a dictionary object called `diction_practice`. \n",
        "* Assign the following values to their respective keys listed above: `tech`,  `science`, `language`\n",
        "\n",
        "*Hint:* There are multiple ways you can accomplish this task. You can either write out the key:values pairs manually, or iteratively combine two lists using the [`zip` function](https://docs.python.org/3/library/functions.html)."
      ]
    },
    {
      "cell_type": "code",
      "execution_count": null,
      "metadata": {
        "deletable": false,
        "nbgrader": {
          "cell_type": "code",
          "checksum": "f9948f7da71e452ccc2cb3fd5550ac09",
          "grade": false,
          "grade_id": "cell-d2aac83e74b8fb89",
          "locked": false,
          "schema_version": 3,
          "solution": true,
          "task": false
        },
        "colab": {
          "base_uri": "https://localhost:8080/"
        },
        "id": "a-n2TNMqVm7S",
        "outputId": "8bc4e318-fb43-4515-e1f2-c37417aa6695"
      },
      "outputs": [
        {
          "output_type": "stream",
          "name": "stdout",
          "text": [
            "{'bloom': 'tech', 'data': 'science', 'python': 'language'}\n"
          ]
        }
      ],
      "source": [
        "# YOUR CODE HERE\n",
        "temp_list = ['tech','science','language']\n",
        "zip_iter = zip(list_practice,temp_list)\n",
        "diction_practice = dict(zip_iter)\n",
        "print(diction_practice)"
      ]
    },
    {
      "cell_type": "markdown",
      "metadata": {
        "deletable": false,
        "editable": false,
        "nbgrader": {
          "cell_type": "markdown",
          "checksum": "89adce679550e000e75a3cd0351721b1",
          "grade": false,
          "grade_id": "cell-95f85a283f98ef20",
          "locked": true,
          "schema_version": 3,
          "solution": false,
          "task": false
        },
        "id": "gngaQGq4Vm7S"
      },
      "source": [
        "**Task 2 - Test**"
      ]
    },
    {
      "cell_type": "code",
      "execution_count": null,
      "metadata": {
        "deletable": false,
        "editable": false,
        "nbgrader": {
          "cell_type": "code",
          "checksum": "eb3d302695cce47d57ee41774cb9aa05",
          "grade": true,
          "grade_id": "cell-6f3011fa357d270f",
          "locked": true,
          "points": 1,
          "schema_version": 3,
          "solution": false,
          "task": false
        },
        "id": "TBR5ytesVm7S"
      },
      "outputs": [],
      "source": [
        "#Task 2 - Test\n",
        "\n",
        "assert isinstance(diction_practice, dict), \"Did you use the correct syntax?\"\n"
      ]
    },
    {
      "cell_type": "markdown",
      "metadata": {
        "deletable": false,
        "editable": false,
        "nbgrader": {
          "cell_type": "markdown",
          "checksum": "500b06dc305643e357cca230f16dce04",
          "grade": false,
          "grade_id": "cell-4a31ee084e18453a",
          "locked": true,
          "schema_version": 3,
          "solution": false,
          "task": false
        },
        "id": "U__cLaAuVm7S"
      },
      "source": [
        "\n",
        "**Task 3** - Dictionaries\n",
        "* Reassign the value of the `python` key in your dictionary to `'programming_language'`"
      ]
    },
    {
      "cell_type": "code",
      "execution_count": null,
      "metadata": {
        "deletable": false,
        "nbgrader": {
          "cell_type": "code",
          "checksum": "968e8893d06b1276dac72f7a0db78d95",
          "grade": false,
          "grade_id": "cell-59c6653a1a1faae6",
          "locked": false,
          "schema_version": 3,
          "solution": true,
          "task": false
        },
        "colab": {
          "base_uri": "https://localhost:8080/"
        },
        "id": "vZ-uRf6jVm7T",
        "outputId": "ff92b390-6e6f-4de0-c1b2-d96129600bd9"
      },
      "outputs": [
        {
          "output_type": "execute_result",
          "data": {
            "text/plain": [
              "{'bloom': 'tech', 'data': 'science', 'python': 'programming_language'}"
            ]
          },
          "metadata": {},
          "execution_count": 128
        }
      ],
      "source": [
        "# YOUR CODE HERE\n",
        "diction_practice['python'] = 'programming_language'\n",
        "diction_practice"
      ]
    },
    {
      "cell_type": "markdown",
      "metadata": {
        "deletable": false,
        "editable": false,
        "nbgrader": {
          "cell_type": "markdown",
          "checksum": "b3c824a5462497e6fc4d903f762303c9",
          "grade": false,
          "grade_id": "cell-b0a297189d9a7dd3",
          "locked": true,
          "schema_version": 3,
          "solution": false,
          "task": false
        },
        "id": "VOT1-9hlVm7T"
      },
      "source": [
        "**Task 3 Tests**"
      ]
    },
    {
      "cell_type": "code",
      "execution_count": null,
      "metadata": {
        "deletable": false,
        "editable": false,
        "nbgrader": {
          "cell_type": "code",
          "checksum": "8fc04dbb280a746dbac3ef75ee9de31b",
          "grade": true,
          "grade_id": "cell-94bd4331d6cb29c9",
          "locked": true,
          "points": 1,
          "schema_version": 3,
          "solution": false,
          "task": false
        },
        "id": "n4efwrqBVm7T"
      },
      "outputs": [],
      "source": [
        "#Task 3 Tests\n",
        "\n",
        "assert diction_practice['data'] == 'science', \"Make sure your values are assigned to their correct keys\"\n"
      ]
    },
    {
      "cell_type": "markdown",
      "metadata": {
        "deletable": false,
        "editable": false,
        "id": "qSvL3CeTFk9F",
        "nbgrader": {
          "cell_type": "markdown",
          "checksum": "71b4d138b7b263261d663d1b41d6add4",
          "grade": false,
          "grade_id": "cell-40090434cb0736b0",
          "locked": true,
          "schema_version": 3,
          "solution": false,
          "task": false
        }
      },
      "source": [
        "## Use the following information to complete Tasks \n",
        "\n",
        "\n",
        "\n",
        "In this Sprint Challenge you will first \"wrangle\" some data from [Gapminder](https://www.gapminder.org/about-gapminder/), a Swedish non-profit co-founded by Hans Rosling. \"Gapminder produces free teaching resources making the world understandable based on reliable statistics.\"\n",
        "- [Cell phones (total), by country and year](https://raw.githubusercontent.com/open-numbers/ddf--gapminder--systema_globalis/master/countries-etc-datapoints/ddf--datapoints--cell_phones_total--by--geo--time.csv)\n",
        "- [Population (total), by country and year](https://raw.githubusercontent.com/open-numbers/ddf--gapminder--systema_globalis/master/countries-etc-datapoints/ddf--datapoints--population_total--by--geo--time.csv)\n",
        "- [Geo country codes](https://github.com/open-numbers/ddf--gapminder--systema_globalis/blob/master/ddf--entities--geo--country.csv)\n",
        "\n",
        "These two links have everything you need to successfully complete the first part of this sprint challenge.\n",
        "- [Pandas documentation: Working with Text Data](https://pandas.pydata.org/pandas-docs/stable/text.html) (one question)\n",
        "- [Pandas Cheat Sheet](https://github.com/pandas-dev/pandas/blob/master/doc/cheatsheet/Pandas_Cheat_Sheet.pdf) (everything else)\n"
      ]
    },
    {
      "cell_type": "markdown",
      "metadata": {
        "deletable": false,
        "editable": false,
        "id": "0ZklksziMixS",
        "nbgrader": {
          "cell_type": "markdown",
          "checksum": "235860cb511ea847389f2096adf6cc6e",
          "grade": false,
          "grade_id": "cell-ae2312e461921817",
          "locked": true,
          "schema_version": 3,
          "solution": false,
          "task": false
        }
      },
      "source": [
        "**Task 4** - Load and print the cell phone data.  Pandas and numpy import statements have been included for you.\n",
        "\n",
        "* Load your CSV file found at `cell_phones_url` into a DataFrame object named `cell_phones`\n"
      ]
    },
    {
      "cell_type": "code",
      "execution_count": null,
      "metadata": {
        "deletable": false,
        "id": "FFO8QNJ7MixS",
        "nbgrader": {
          "cell_type": "code",
          "checksum": "00a4d0ae036a27684582415fcf1b9a29",
          "grade": false,
          "grade_id": "cell-6f16afb9d271f949",
          "locked": false,
          "schema_version": 3,
          "solution": true,
          "task": false
        }
      },
      "outputs": [],
      "source": [
        "# Task 4\n",
        "\n",
        "# Imports \n",
        "import pandas as pd\n",
        "import numpy as np\n",
        "\n",
        "cell_phones_url = 'https://raw.githubusercontent.com/LambdaSchool/data-science-practice-datasets/main/unit_1/Cell__Phones/cell_phones.csv'\n",
        "\n",
        "# Load the dataframe and print the top 5 rows\n",
        "\n",
        "# YOUR CODE HERE\n",
        "cell_phones = pd.read_csv(cell_phones_url)\n"
      ]
    },
    {
      "cell_type": "markdown",
      "metadata": {
        "id": "ymCLkZMJMixT"
      },
      "source": [
        "**Task 4 Test**"
      ]
    },
    {
      "cell_type": "code",
      "execution_count": null,
      "metadata": {
        "deletable": false,
        "editable": false,
        "id": "btcEJXxCMixT",
        "nbgrader": {
          "cell_type": "code",
          "checksum": "597bda1cfbeb2d3def97e7c47f6971c7",
          "grade": true,
          "grade_id": "cell-226f7bf8e9ea24f9",
          "locked": true,
          "points": 1,
          "schema_version": 3,
          "solution": false,
          "task": false
        }
      },
      "outputs": [],
      "source": [
        "# Task 4 - Test\n",
        "\n",
        "assert isinstance(cell_phones, pd.DataFrame), 'Have you created a DataFrame named `cell_phones`?'\n",
        "assert len(cell_phones) == 9574\n"
      ]
    },
    {
      "cell_type": "markdown",
      "metadata": {
        "deletable": false,
        "editable": false,
        "id": "9YPW16tmT2J_",
        "nbgrader": {
          "cell_type": "markdown",
          "checksum": "26b84eb6f8694fc80894fec62cb92e2f",
          "grade": false,
          "grade_id": "cell-905dd5d05e5cebb7",
          "locked": true,
          "schema_version": 3,
          "solution": false,
          "task": false
        }
      },
      "source": [
        "**Task 5** - Load and print the population data.  \n",
        "\n",
        "* Load the CSV file found at `population_url` into a DataFrame named `population`\n",
        "\n"
      ]
    },
    {
      "cell_type": "code",
      "execution_count": null,
      "metadata": {
        "deletable": false,
        "id": "SNWpDAvyUYa2",
        "nbgrader": {
          "cell_type": "code",
          "checksum": "99569cb3a28b9d979d491068bca74f8b",
          "grade": false,
          "grade_id": "cell-561c2d59728188a9",
          "locked": false,
          "schema_version": 3,
          "solution": true,
          "task": false
        }
      },
      "outputs": [],
      "source": [
        "# Task 5\n",
        "\n",
        "population_url = 'https://raw.githubusercontent.com/LambdaSchool/data-science-practice-datasets/main/unit_1/Population/population.csv'\n",
        "\n",
        "# Load the dataframe and print the first 5 records\n",
        "\n",
        "# YOUR CODE HERE\n",
        "population = pd.read_csv(population_url)"
      ]
    },
    {
      "cell_type": "markdown",
      "metadata": {
        "id": "RDOcC0FdVjIz"
      },
      "source": [
        "**Task 5 Test**"
      ]
    },
    {
      "cell_type": "code",
      "execution_count": null,
      "metadata": {
        "deletable": false,
        "editable": false,
        "id": "jcaZ5W5cVjI_",
        "nbgrader": {
          "cell_type": "code",
          "checksum": "01d084b75b701322c49f0aecda45802a",
          "grade": true,
          "grade_id": "cell-59d01cd695becd74",
          "locked": true,
          "points": 1,
          "schema_version": 3,
          "solution": false,
          "task": false
        }
      },
      "outputs": [],
      "source": [
        "# Task 5 - Test\n",
        "\n",
        "assert isinstance(population, pd.DataFrame), 'Have you created a DataFrame named `population`?'\n",
        "assert len(population) == 59297\n"
      ]
    },
    {
      "cell_type": "markdown",
      "metadata": {
        "id": "9acXXTiEV5uJ"
      },
      "source": [
        "**Task 6** - Load and print the geo country codes data.  \n",
        "\n",
        "* Load the CSV file found at `geo_codes_url` into a DataFrame named `geo_codes`\n"
      ]
    },
    {
      "cell_type": "code",
      "execution_count": null,
      "metadata": {
        "deletable": false,
        "id": "Obm4p8WXV5uJ",
        "nbgrader": {
          "cell_type": "code",
          "checksum": "0d6a6d294178e8df827ef3a8a526e97b",
          "grade": false,
          "grade_id": "cell-eb4d290384535503",
          "locked": false,
          "schema_version": 3,
          "solution": true,
          "task": false
        }
      },
      "outputs": [],
      "source": [
        "# Task 6\n",
        "\n",
        "geo_codes_url = 'https://raw.githubusercontent.com/LambdaSchool/data-science-practice-datasets/main/unit_1/GEO_codes/geo_country_codes.csv'\n",
        "\n",
        "# Load the dataframe and print out the first 5 records\n",
        "\n",
        "# YOUR CODE HERE\n",
        "geo_codes = pd.read_csv(geo_codes_url)"
      ]
    },
    {
      "cell_type": "markdown",
      "metadata": {
        "deletable": false,
        "editable": false,
        "id": "_WR-4MbmV5uK",
        "nbgrader": {
          "cell_type": "markdown",
          "checksum": "a88bbf49e8714b89d0e0fa46c06f2217",
          "grade": false,
          "grade_id": "cell-4a0f7ebd4c9931a7",
          "locked": true,
          "schema_version": 3,
          "solution": false,
          "task": false
        }
      },
      "source": [
        "**Task 6 Test**"
      ]
    },
    {
      "cell_type": "code",
      "execution_count": null,
      "metadata": {
        "deletable": false,
        "editable": false,
        "id": "Z3Tza5NWV5uK",
        "nbgrader": {
          "cell_type": "code",
          "checksum": "6bf7335d2dd565fbef6619579e0ddf59",
          "grade": true,
          "grade_id": "cell-39240405659c0c19",
          "locked": true,
          "points": 1,
          "schema_version": 3,
          "solution": false,
          "task": false
        }
      },
      "outputs": [],
      "source": [
        "# Task 6 - Test\n",
        "\n",
        "assert geo_codes is not None, 'Have you created a DataFrame named `geo_codes`?'\n",
        "assert len(geo_codes) == 273\n"
      ]
    },
    {
      "cell_type": "markdown",
      "metadata": {
        "deletable": false,
        "editable": false,
        "id": "5DbACESjYxpV",
        "nbgrader": {
          "cell_type": "markdown",
          "checksum": "fbbb18f1bcf72e28cfd967ddb3d36732",
          "grade": false,
          "grade_id": "cell-817781e1dc5827c6",
          "locked": true,
          "schema_version": 3,
          "solution": false,
          "task": false
        }
      },
      "source": [
        "**Task 7** - Check for missing values\n",
        "\n",
        "Let's check for missing values in each of these DataFrames: `cell_phones`, `population` and `geo_codes`\n",
        "\n",
        "* Check for missing values in the following DataFrames:\n",
        "    * Assign the total number of missing values in `cell_phones` to the variable `cell_phones_missing`\n",
        "    * Assign the total number of missing values in `population` to the variable `population_missing`\n",
        "    * Assign the total number of missing values in `geo_codes` to the variable `geo_codes_missing` \n",
        "        * Hint: you will need to do a sum of a sum for this last task."
      ]
    },
    {
      "cell_type": "code",
      "execution_count": null,
      "metadata": {
        "deletable": false,
        "id": "SwmSvUySJjXc",
        "nbgrader": {
          "cell_type": "code",
          "checksum": "462f481fe420ad2c37fe5a262dec6816",
          "grade": false,
          "grade_id": "cell-9426cd5765574e07",
          "locked": false,
          "schema_version": 3,
          "solution": true,
          "task": false
        },
        "colab": {
          "base_uri": "https://localhost:8080/"
        },
        "outputId": "bae65f75-9651-4c3a-c657-3a8ba7b01094"
      },
      "outputs": [
        {
          "output_type": "execute_result",
          "data": {
            "text/plain": [
              "781"
            ]
          },
          "metadata": {},
          "execution_count": 33
        }
      ],
      "source": [
        "# Task 7\n",
        "\n",
        "# Check for missing data in each of the DataFrames\n",
        "\n",
        "# YOUR CODE HERE\n",
        "cell_phones_missing = cell_phones.isnull().sum().sum()\n",
        "population_missing = population.isnull().sum().sum()\n",
        "geo_codes_missing = geo_codes.isnull().sum().sum()\n"
      ]
    },
    {
      "cell_type": "markdown",
      "metadata": {
        "deletable": false,
        "editable": false,
        "id": "cREZV7g0aLGC",
        "nbgrader": {
          "cell_type": "markdown",
          "checksum": "24b8d3d5ff21f6c4cfa3e634f00113aa",
          "grade": false,
          "grade_id": "cell-47ee1692d471f9ea",
          "locked": true,
          "schema_version": 3,
          "solution": false,
          "task": false
        }
      },
      "source": [
        "**Task 7 Test**"
      ]
    },
    {
      "cell_type": "code",
      "execution_count": null,
      "metadata": {
        "deletable": false,
        "editable": false,
        "id": "eaQwM15IaLGD",
        "nbgrader": {
          "cell_type": "code",
          "checksum": "da0a8c532d46ac776b2609e8f439f601",
          "grade": true,
          "grade_id": "cell-cf6ab3b4b1e8afc1",
          "locked": true,
          "points": 1,
          "schema_version": 3,
          "solution": false,
          "task": false
        }
      },
      "outputs": [],
      "source": [
        "# Task 7 - Test\n",
        "\n",
        "if geo_codes_missing == 21: print('ERROR: Make sure to use a sum of a sum for the missing geo codes!')  \n",
        "\n",
        "# Hidden tests - you will see the results when you submit to Canvas"
      ]
    },
    {
      "cell_type": "markdown",
      "metadata": {
        "deletable": false,
        "editable": false,
        "id": "P54itLGveF5p",
        "nbgrader": {
          "cell_type": "markdown",
          "checksum": "c6054c87e1ff95c1767b855e2149568c",
          "grade": false,
          "grade_id": "cell-aad431149f1868a7",
          "locked": true,
          "schema_version": 3,
          "solution": false,
          "task": false
        }
      },
      "source": [
        "**Task 8** - Merge the `cell_phones` and `population` DataFrames.\n",
        "\n",
        "* Merge the `cell_phones` and `population` dataframes with an **inner** merge on both the `geo` and `time` columns.\n",
        "* Call the resulting dataframe `cell_phone_population`"
      ]
    },
    {
      "cell_type": "code",
      "execution_count": null,
      "metadata": {
        "deletable": false,
        "id": "KL_NCL7heF51",
        "nbgrader": {
          "cell_type": "code",
          "checksum": "1ee15cfe45ac7986f9cb323dd1d52fbb",
          "grade": false,
          "grade_id": "cell-decaebaa844aa3a5",
          "locked": false,
          "schema_version": 3,
          "solution": true,
          "task": false
        }
      },
      "outputs": [],
      "source": [
        "# Task 8\n",
        "\n",
        "# Merge the cell_phones and population dataframes\n",
        "\n",
        "# YOUR CODE HERE\n",
        "cell_phone_population = cell_phones.merge(population, on=['geo','time'])\n"
      ]
    },
    {
      "cell_type": "markdown",
      "metadata": {
        "deletable": false,
        "editable": false,
        "id": "9vFSumbkfqr_",
        "nbgrader": {
          "cell_type": "markdown",
          "checksum": "9daf332b99212b89d3e248fef54079ac",
          "grade": false,
          "grade_id": "cell-00202b83d4d54973",
          "locked": true,
          "schema_version": 3,
          "solution": false,
          "task": false
        }
      },
      "source": [
        "**Task 8 Test**"
      ]
    },
    {
      "cell_type": "code",
      "execution_count": null,
      "metadata": {
        "deletable": false,
        "editable": false,
        "id": "85-p_0UGfkZJ",
        "nbgrader": {
          "cell_type": "code",
          "checksum": "9bd0a79e9049acd8ced9d23b68d54d9a",
          "grade": true,
          "grade_id": "cell-dd2473ea91f15f30",
          "locked": true,
          "points": 1,
          "schema_version": 3,
          "solution": false,
          "task": false
        }
      },
      "outputs": [],
      "source": [
        "# Task 8 - Test\n",
        "\n",
        "assert cell_phone_population is not None, 'Have you merged created a DataFrame named cell_phone_population?'\n",
        "assert len(cell_phone_population) == 8930\n"
      ]
    },
    {
      "cell_type": "markdown",
      "metadata": {
        "deletable": false,
        "editable": false,
        "id": "oByYSkC7hB05",
        "nbgrader": {
          "cell_type": "markdown",
          "checksum": "49df153f02f79995801f03a60b34c838",
          "grade": false,
          "grade_id": "cell-01ad09608fc02d0c",
          "locked": true,
          "schema_version": 3,
          "solution": false,
          "task": false
        }
      },
      "source": [
        "**Task 9** - Merge the `cell_phone_population` and `geo_codes` DataFrames\n",
        "\n",
        "* Merge the `cell_phone_population` and `geo_codes` DataFrames with an inner merge using the `geo` column.\n",
        "* **Only merge the `country` and `geo` columns from the `geo_codes` dataframe.** \n",
        "* Call the resulting DataFrame `geo_cell_phone_population`\n"
      ]
    },
    {
      "cell_type": "code",
      "execution_count": null,
      "metadata": {
        "deletable": false,
        "id": "NcO8-JpQhB1F",
        "nbgrader": {
          "cell_type": "code",
          "checksum": "3450df7dea31e4dee7ceb126a2d07f6a",
          "grade": false,
          "grade_id": "cell-1ce5a2360ee6fd20",
          "locked": false,
          "schema_version": 3,
          "solution": true,
          "task": false
        },
        "colab": {
          "base_uri": "https://localhost:8080/",
          "height": 424
        },
        "outputId": "8762cba1-92a6-4d1e-8d3f-165c79724f49"
      },
      "outputs": [
        {
          "output_type": "execute_result",
          "data": {
            "text/html": [
              "\n",
              "  <div id=\"df-9ed62c5d-d648-4fcf-859e-991d167d0fef\">\n",
              "    <div class=\"colab-df-container\">\n",
              "      <div>\n",
              "<style scoped>\n",
              "    .dataframe tbody tr th:only-of-type {\n",
              "        vertical-align: middle;\n",
              "    }\n",
              "\n",
              "    .dataframe tbody tr th {\n",
              "        vertical-align: top;\n",
              "    }\n",
              "\n",
              "    .dataframe thead th {\n",
              "        text-align: right;\n",
              "    }\n",
              "</style>\n",
              "<table border=\"1\" class=\"dataframe\">\n",
              "  <thead>\n",
              "    <tr style=\"text-align: right;\">\n",
              "      <th></th>\n",
              "      <th>geo</th>\n",
              "      <th>time</th>\n",
              "      <th>cell_phones_total</th>\n",
              "      <th>population_total</th>\n",
              "      <th>country</th>\n",
              "    </tr>\n",
              "  </thead>\n",
              "  <tbody>\n",
              "    <tr>\n",
              "      <th>0</th>\n",
              "      <td>afg</td>\n",
              "      <td>1960</td>\n",
              "      <td>0.0</td>\n",
              "      <td>8996967</td>\n",
              "      <td>Afghanistan</td>\n",
              "    </tr>\n",
              "    <tr>\n",
              "      <th>1</th>\n",
              "      <td>afg</td>\n",
              "      <td>1965</td>\n",
              "      <td>0.0</td>\n",
              "      <td>9956318</td>\n",
              "      <td>Afghanistan</td>\n",
              "    </tr>\n",
              "    <tr>\n",
              "      <th>2</th>\n",
              "      <td>afg</td>\n",
              "      <td>1970</td>\n",
              "      <td>0.0</td>\n",
              "      <td>11173654</td>\n",
              "      <td>Afghanistan</td>\n",
              "    </tr>\n",
              "    <tr>\n",
              "      <th>3</th>\n",
              "      <td>afg</td>\n",
              "      <td>1975</td>\n",
              "      <td>0.0</td>\n",
              "      <td>12689164</td>\n",
              "      <td>Afghanistan</td>\n",
              "    </tr>\n",
              "    <tr>\n",
              "      <th>4</th>\n",
              "      <td>afg</td>\n",
              "      <td>1976</td>\n",
              "      <td>0.0</td>\n",
              "      <td>12943093</td>\n",
              "      <td>Afghanistan</td>\n",
              "    </tr>\n",
              "    <tr>\n",
              "      <th>...</th>\n",
              "      <td>...</td>\n",
              "      <td>...</td>\n",
              "      <td>...</td>\n",
              "      <td>...</td>\n",
              "      <td>...</td>\n",
              "    </tr>\n",
              "    <tr>\n",
              "      <th>8925</th>\n",
              "      <td>zwe</td>\n",
              "      <td>2015</td>\n",
              "      <td>12757410.0</td>\n",
              "      <td>13814642</td>\n",
              "      <td>Zimbabwe</td>\n",
              "    </tr>\n",
              "    <tr>\n",
              "      <th>8926</th>\n",
              "      <td>zwe</td>\n",
              "      <td>2016</td>\n",
              "      <td>12878926.0</td>\n",
              "      <td>14030338</td>\n",
              "      <td>Zimbabwe</td>\n",
              "    </tr>\n",
              "    <tr>\n",
              "      <th>8927</th>\n",
              "      <td>zwe</td>\n",
              "      <td>2017</td>\n",
              "      <td>14092104.0</td>\n",
              "      <td>14236599</td>\n",
              "      <td>Zimbabwe</td>\n",
              "    </tr>\n",
              "    <tr>\n",
              "      <th>8928</th>\n",
              "      <td>zwe</td>\n",
              "      <td>2018</td>\n",
              "      <td>12908992.0</td>\n",
              "      <td>14438812</td>\n",
              "      <td>Zimbabwe</td>\n",
              "    </tr>\n",
              "    <tr>\n",
              "      <th>8929</th>\n",
              "      <td>zwe</td>\n",
              "      <td>2019</td>\n",
              "      <td>13195902.0</td>\n",
              "      <td>14645473</td>\n",
              "      <td>Zimbabwe</td>\n",
              "    </tr>\n",
              "  </tbody>\n",
              "</table>\n",
              "<p>8930 rows × 5 columns</p>\n",
              "</div>\n",
              "      <button class=\"colab-df-convert\" onclick=\"convertToInteractive('df-9ed62c5d-d648-4fcf-859e-991d167d0fef')\"\n",
              "              title=\"Convert this dataframe to an interactive table.\"\n",
              "              style=\"display:none;\">\n",
              "        \n",
              "  <svg xmlns=\"http://www.w3.org/2000/svg\" height=\"24px\"viewBox=\"0 0 24 24\"\n",
              "       width=\"24px\">\n",
              "    <path d=\"M0 0h24v24H0V0z\" fill=\"none\"/>\n",
              "    <path d=\"M18.56 5.44l.94 2.06.94-2.06 2.06-.94-2.06-.94-.94-2.06-.94 2.06-2.06.94zm-11 1L8.5 8.5l.94-2.06 2.06-.94-2.06-.94L8.5 2.5l-.94 2.06-2.06.94zm10 10l.94 2.06.94-2.06 2.06-.94-2.06-.94-.94-2.06-.94 2.06-2.06.94z\"/><path d=\"M17.41 7.96l-1.37-1.37c-.4-.4-.92-.59-1.43-.59-.52 0-1.04.2-1.43.59L10.3 9.45l-7.72 7.72c-.78.78-.78 2.05 0 2.83L4 21.41c.39.39.9.59 1.41.59.51 0 1.02-.2 1.41-.59l7.78-7.78 2.81-2.81c.8-.78.8-2.07 0-2.86zM5.41 20L4 18.59l7.72-7.72 1.47 1.35L5.41 20z\"/>\n",
              "  </svg>\n",
              "      </button>\n",
              "      \n",
              "  <style>\n",
              "    .colab-df-container {\n",
              "      display:flex;\n",
              "      flex-wrap:wrap;\n",
              "      gap: 12px;\n",
              "    }\n",
              "\n",
              "    .colab-df-convert {\n",
              "      background-color: #E8F0FE;\n",
              "      border: none;\n",
              "      border-radius: 50%;\n",
              "      cursor: pointer;\n",
              "      display: none;\n",
              "      fill: #1967D2;\n",
              "      height: 32px;\n",
              "      padding: 0 0 0 0;\n",
              "      width: 32px;\n",
              "    }\n",
              "\n",
              "    .colab-df-convert:hover {\n",
              "      background-color: #E2EBFA;\n",
              "      box-shadow: 0px 1px 2px rgba(60, 64, 67, 0.3), 0px 1px 3px 1px rgba(60, 64, 67, 0.15);\n",
              "      fill: #174EA6;\n",
              "    }\n",
              "\n",
              "    [theme=dark] .colab-df-convert {\n",
              "      background-color: #3B4455;\n",
              "      fill: #D2E3FC;\n",
              "    }\n",
              "\n",
              "    [theme=dark] .colab-df-convert:hover {\n",
              "      background-color: #434B5C;\n",
              "      box-shadow: 0px 1px 3px 1px rgba(0, 0, 0, 0.15);\n",
              "      filter: drop-shadow(0px 1px 2px rgba(0, 0, 0, 0.3));\n",
              "      fill: #FFFFFF;\n",
              "    }\n",
              "  </style>\n",
              "\n",
              "      <script>\n",
              "        const buttonEl =\n",
              "          document.querySelector('#df-9ed62c5d-d648-4fcf-859e-991d167d0fef button.colab-df-convert');\n",
              "        buttonEl.style.display =\n",
              "          google.colab.kernel.accessAllowed ? 'block' : 'none';\n",
              "\n",
              "        async function convertToInteractive(key) {\n",
              "          const element = document.querySelector('#df-9ed62c5d-d648-4fcf-859e-991d167d0fef');\n",
              "          const dataTable =\n",
              "            await google.colab.kernel.invokeFunction('convertToInteractive',\n",
              "                                                     [key], {});\n",
              "          if (!dataTable) return;\n",
              "\n",
              "          const docLinkHtml = 'Like what you see? Visit the ' +\n",
              "            '<a target=\"_blank\" href=https://colab.research.google.com/notebooks/data_table.ipynb>data table notebook</a>'\n",
              "            + ' to learn more about interactive tables.';\n",
              "          element.innerHTML = '';\n",
              "          dataTable['output_type'] = 'display_data';\n",
              "          await google.colab.output.renderOutput(dataTable, element);\n",
              "          const docLink = document.createElement('div');\n",
              "          docLink.innerHTML = docLinkHtml;\n",
              "          element.appendChild(docLink);\n",
              "        }\n",
              "      </script>\n",
              "    </div>\n",
              "  </div>\n",
              "  "
            ],
            "text/plain": [
              "      geo  time  cell_phones_total  population_total      country\n",
              "0     afg  1960                0.0           8996967  Afghanistan\n",
              "1     afg  1965                0.0           9956318  Afghanistan\n",
              "2     afg  1970                0.0          11173654  Afghanistan\n",
              "3     afg  1975                0.0          12689164  Afghanistan\n",
              "4     afg  1976                0.0          12943093  Afghanistan\n",
              "...   ...   ...                ...               ...          ...\n",
              "8925  zwe  2015         12757410.0          13814642     Zimbabwe\n",
              "8926  zwe  2016         12878926.0          14030338     Zimbabwe\n",
              "8927  zwe  2017         14092104.0          14236599     Zimbabwe\n",
              "8928  zwe  2018         12908992.0          14438812     Zimbabwe\n",
              "8929  zwe  2019         13195902.0          14645473     Zimbabwe\n",
              "\n",
              "[8930 rows x 5 columns]"
            ]
          },
          "metadata": {},
          "execution_count": 131
        }
      ],
      "source": [
        "# Task 9\n",
        "\n",
        "# Merge the cell_phone_population and geo_codes dataframes\n",
        "# Only include the country and geo columns from geo_codes\n",
        "\n",
        "# YOUR CODE HERE\n",
        "geo_cell_phone_population = cell_phone_population.merge(geo_codes[['country','geo']], on='geo')\n",
        "geo_cell_phone_population"
      ]
    },
    {
      "cell_type": "markdown",
      "metadata": {
        "deletable": false,
        "editable": false,
        "id": "zAKDLSV-hB1G",
        "nbgrader": {
          "cell_type": "markdown",
          "checksum": "a5634357f45ca81f6651395a42cc6341",
          "grade": false,
          "grade_id": "cell-935fc7dc053d368e",
          "locked": true,
          "schema_version": 3,
          "solution": false,
          "task": false
        }
      },
      "source": [
        "**Task 9 Test**"
      ]
    },
    {
      "cell_type": "code",
      "execution_count": null,
      "metadata": {
        "deletable": false,
        "editable": false,
        "id": "eQgHSsLihB1G",
        "nbgrader": {
          "cell_type": "code",
          "checksum": "7005259d49844adab8beb565aaf5eed5",
          "grade": true,
          "grade_id": "cell-764d5b72ae382339",
          "locked": true,
          "points": 1,
          "schema_version": 3,
          "solution": false,
          "task": false
        }
      },
      "outputs": [],
      "source": [
        "# Task 9 - Test\n",
        "assert len(geo_cell_phone_population) == 8930\n",
        "assert type(geo_cell_phone_population) == pd.DataFrame\n"
      ]
    },
    {
      "cell_type": "markdown",
      "metadata": {
        "deletable": false,
        "editable": false,
        "id": "-CZF39BWivc2",
        "nbgrader": {
          "cell_type": "markdown",
          "checksum": "81ade9615be308efe3fd71a867735c5e",
          "grade": false,
          "grade_id": "cell-bbacb1043d1c0990",
          "locked": true,
          "schema_version": 3,
          "solution": false,
          "task": false
        }
      },
      "source": [
        "**Task 10** - Calculate the number of cell phones per person.\n",
        "\n",
        "* Use the `cell_phones_total` and `population_total` columns to calculate the number of cell phones per person for every year. (In other words, for every row). \n",
        "* Call this new feature (column) `phones_per_person` and add it to the `geo_cell_phone_population` DataFrame (you'll be adding the column to the DataFrame).\n"
      ]
    },
    {
      "cell_type": "code",
      "execution_count": null,
      "metadata": {
        "deletable": false,
        "id": "vBeXa3LTivdC",
        "nbgrader": {
          "cell_type": "code",
          "checksum": "ca0c58c434dc1be273c34f79f9cdc4db",
          "grade": false,
          "grade_id": "cell-bd0bce2920604643",
          "locked": false,
          "schema_version": 3,
          "solution": true,
          "task": false
        },
        "colab": {
          "base_uri": "https://localhost:8080/",
          "height": 424
        },
        "outputId": "b4363ea5-ccb1-42fc-9795-aaaf4f76490d"
      },
      "outputs": [
        {
          "output_type": "execute_result",
          "data": {
            "text/html": [
              "\n",
              "  <div id=\"df-56ebb6c6-c23f-4900-9767-764f5500cf55\">\n",
              "    <div class=\"colab-df-container\">\n",
              "      <div>\n",
              "<style scoped>\n",
              "    .dataframe tbody tr th:only-of-type {\n",
              "        vertical-align: middle;\n",
              "    }\n",
              "\n",
              "    .dataframe tbody tr th {\n",
              "        vertical-align: top;\n",
              "    }\n",
              "\n",
              "    .dataframe thead th {\n",
              "        text-align: right;\n",
              "    }\n",
              "</style>\n",
              "<table border=\"1\" class=\"dataframe\">\n",
              "  <thead>\n",
              "    <tr style=\"text-align: right;\">\n",
              "      <th></th>\n",
              "      <th>geo</th>\n",
              "      <th>time</th>\n",
              "      <th>cell_phones_total</th>\n",
              "      <th>population_total</th>\n",
              "      <th>country</th>\n",
              "      <th>phones_per_person</th>\n",
              "    </tr>\n",
              "  </thead>\n",
              "  <tbody>\n",
              "    <tr>\n",
              "      <th>0</th>\n",
              "      <td>afg</td>\n",
              "      <td>1960</td>\n",
              "      <td>0.0</td>\n",
              "      <td>8996967</td>\n",
              "      <td>Afghanistan</td>\n",
              "      <td>0.000000</td>\n",
              "    </tr>\n",
              "    <tr>\n",
              "      <th>1</th>\n",
              "      <td>afg</td>\n",
              "      <td>1965</td>\n",
              "      <td>0.0</td>\n",
              "      <td>9956318</td>\n",
              "      <td>Afghanistan</td>\n",
              "      <td>0.000000</td>\n",
              "    </tr>\n",
              "    <tr>\n",
              "      <th>2</th>\n",
              "      <td>afg</td>\n",
              "      <td>1970</td>\n",
              "      <td>0.0</td>\n",
              "      <td>11173654</td>\n",
              "      <td>Afghanistan</td>\n",
              "      <td>0.000000</td>\n",
              "    </tr>\n",
              "    <tr>\n",
              "      <th>3</th>\n",
              "      <td>afg</td>\n",
              "      <td>1975</td>\n",
              "      <td>0.0</td>\n",
              "      <td>12689164</td>\n",
              "      <td>Afghanistan</td>\n",
              "      <td>0.000000</td>\n",
              "    </tr>\n",
              "    <tr>\n",
              "      <th>4</th>\n",
              "      <td>afg</td>\n",
              "      <td>1976</td>\n",
              "      <td>0.0</td>\n",
              "      <td>12943093</td>\n",
              "      <td>Afghanistan</td>\n",
              "      <td>0.000000</td>\n",
              "    </tr>\n",
              "    <tr>\n",
              "      <th>...</th>\n",
              "      <td>...</td>\n",
              "      <td>...</td>\n",
              "      <td>...</td>\n",
              "      <td>...</td>\n",
              "      <td>...</td>\n",
              "      <td>...</td>\n",
              "    </tr>\n",
              "    <tr>\n",
              "      <th>8925</th>\n",
              "      <td>zwe</td>\n",
              "      <td>2015</td>\n",
              "      <td>12757410.0</td>\n",
              "      <td>13814642</td>\n",
              "      <td>Zimbabwe</td>\n",
              "      <td>0.923470</td>\n",
              "    </tr>\n",
              "    <tr>\n",
              "      <th>8926</th>\n",
              "      <td>zwe</td>\n",
              "      <td>2016</td>\n",
              "      <td>12878926.0</td>\n",
              "      <td>14030338</td>\n",
              "      <td>Zimbabwe</td>\n",
              "      <td>0.917934</td>\n",
              "    </tr>\n",
              "    <tr>\n",
              "      <th>8927</th>\n",
              "      <td>zwe</td>\n",
              "      <td>2017</td>\n",
              "      <td>14092104.0</td>\n",
              "      <td>14236599</td>\n",
              "      <td>Zimbabwe</td>\n",
              "      <td>0.989850</td>\n",
              "    </tr>\n",
              "    <tr>\n",
              "      <th>8928</th>\n",
              "      <td>zwe</td>\n",
              "      <td>2018</td>\n",
              "      <td>12908992.0</td>\n",
              "      <td>14438812</td>\n",
              "      <td>Zimbabwe</td>\n",
              "      <td>0.894048</td>\n",
              "    </tr>\n",
              "    <tr>\n",
              "      <th>8929</th>\n",
              "      <td>zwe</td>\n",
              "      <td>2019</td>\n",
              "      <td>13195902.0</td>\n",
              "      <td>14645473</td>\n",
              "      <td>Zimbabwe</td>\n",
              "      <td>0.901023</td>\n",
              "    </tr>\n",
              "  </tbody>\n",
              "</table>\n",
              "<p>8930 rows × 6 columns</p>\n",
              "</div>\n",
              "      <button class=\"colab-df-convert\" onclick=\"convertToInteractive('df-56ebb6c6-c23f-4900-9767-764f5500cf55')\"\n",
              "              title=\"Convert this dataframe to an interactive table.\"\n",
              "              style=\"display:none;\">\n",
              "        \n",
              "  <svg xmlns=\"http://www.w3.org/2000/svg\" height=\"24px\"viewBox=\"0 0 24 24\"\n",
              "       width=\"24px\">\n",
              "    <path d=\"M0 0h24v24H0V0z\" fill=\"none\"/>\n",
              "    <path d=\"M18.56 5.44l.94 2.06.94-2.06 2.06-.94-2.06-.94-.94-2.06-.94 2.06-2.06.94zm-11 1L8.5 8.5l.94-2.06 2.06-.94-2.06-.94L8.5 2.5l-.94 2.06-2.06.94zm10 10l.94 2.06.94-2.06 2.06-.94-2.06-.94-.94-2.06-.94 2.06-2.06.94z\"/><path d=\"M17.41 7.96l-1.37-1.37c-.4-.4-.92-.59-1.43-.59-.52 0-1.04.2-1.43.59L10.3 9.45l-7.72 7.72c-.78.78-.78 2.05 0 2.83L4 21.41c.39.39.9.59 1.41.59.51 0 1.02-.2 1.41-.59l7.78-7.78 2.81-2.81c.8-.78.8-2.07 0-2.86zM5.41 20L4 18.59l7.72-7.72 1.47 1.35L5.41 20z\"/>\n",
              "  </svg>\n",
              "      </button>\n",
              "      \n",
              "  <style>\n",
              "    .colab-df-container {\n",
              "      display:flex;\n",
              "      flex-wrap:wrap;\n",
              "      gap: 12px;\n",
              "    }\n",
              "\n",
              "    .colab-df-convert {\n",
              "      background-color: #E8F0FE;\n",
              "      border: none;\n",
              "      border-radius: 50%;\n",
              "      cursor: pointer;\n",
              "      display: none;\n",
              "      fill: #1967D2;\n",
              "      height: 32px;\n",
              "      padding: 0 0 0 0;\n",
              "      width: 32px;\n",
              "    }\n",
              "\n",
              "    .colab-df-convert:hover {\n",
              "      background-color: #E2EBFA;\n",
              "      box-shadow: 0px 1px 2px rgba(60, 64, 67, 0.3), 0px 1px 3px 1px rgba(60, 64, 67, 0.15);\n",
              "      fill: #174EA6;\n",
              "    }\n",
              "\n",
              "    [theme=dark] .colab-df-convert {\n",
              "      background-color: #3B4455;\n",
              "      fill: #D2E3FC;\n",
              "    }\n",
              "\n",
              "    [theme=dark] .colab-df-convert:hover {\n",
              "      background-color: #434B5C;\n",
              "      box-shadow: 0px 1px 3px 1px rgba(0, 0, 0, 0.15);\n",
              "      filter: drop-shadow(0px 1px 2px rgba(0, 0, 0, 0.3));\n",
              "      fill: #FFFFFF;\n",
              "    }\n",
              "  </style>\n",
              "\n",
              "      <script>\n",
              "        const buttonEl =\n",
              "          document.querySelector('#df-56ebb6c6-c23f-4900-9767-764f5500cf55 button.colab-df-convert');\n",
              "        buttonEl.style.display =\n",
              "          google.colab.kernel.accessAllowed ? 'block' : 'none';\n",
              "\n",
              "        async function convertToInteractive(key) {\n",
              "          const element = document.querySelector('#df-56ebb6c6-c23f-4900-9767-764f5500cf55');\n",
              "          const dataTable =\n",
              "            await google.colab.kernel.invokeFunction('convertToInteractive',\n",
              "                                                     [key], {});\n",
              "          if (!dataTable) return;\n",
              "\n",
              "          const docLinkHtml = 'Like what you see? Visit the ' +\n",
              "            '<a target=\"_blank\" href=https://colab.research.google.com/notebooks/data_table.ipynb>data table notebook</a>'\n",
              "            + ' to learn more about interactive tables.';\n",
              "          element.innerHTML = '';\n",
              "          dataTable['output_type'] = 'display_data';\n",
              "          await google.colab.output.renderOutput(dataTable, element);\n",
              "          const docLink = document.createElement('div');\n",
              "          docLink.innerHTML = docLinkHtml;\n",
              "          element.appendChild(docLink);\n",
              "        }\n",
              "      </script>\n",
              "    </div>\n",
              "  </div>\n",
              "  "
            ],
            "text/plain": [
              "      geo  time  ...      country  phones_per_person\n",
              "0     afg  1960  ...  Afghanistan           0.000000\n",
              "1     afg  1965  ...  Afghanistan           0.000000\n",
              "2     afg  1970  ...  Afghanistan           0.000000\n",
              "3     afg  1975  ...  Afghanistan           0.000000\n",
              "4     afg  1976  ...  Afghanistan           0.000000\n",
              "...   ...   ...  ...          ...                ...\n",
              "8925  zwe  2015  ...     Zimbabwe           0.923470\n",
              "8926  zwe  2016  ...     Zimbabwe           0.917934\n",
              "8927  zwe  2017  ...     Zimbabwe           0.989850\n",
              "8928  zwe  2018  ...     Zimbabwe           0.894048\n",
              "8929  zwe  2019  ...     Zimbabwe           0.901023\n",
              "\n",
              "[8930 rows x 6 columns]"
            ]
          },
          "metadata": {},
          "execution_count": 132
        }
      ],
      "source": [
        "# Task 10\n",
        "\n",
        "# YOUR CODE HERE\n",
        "geo_cell_phone_population['phones_per_person']= geo_cell_phone_population['cell_phones_total'] / geo_cell_phone_population['population_total']\n",
        "geo_cell_phone_population"
      ]
    },
    {
      "cell_type": "markdown",
      "metadata": {
        "id": "4IiDB6f6ivdD"
      },
      "source": [
        "**Task 10 Test**"
      ]
    },
    {
      "cell_type": "code",
      "execution_count": null,
      "metadata": {
        "deletable": false,
        "editable": false,
        "id": "L3UgjCfFivdD",
        "nbgrader": {
          "cell_type": "code",
          "checksum": "2c7a7142a39c84e1d18daa6c160cae60",
          "grade": true,
          "grade_id": "cell-45c955c43e471400",
          "locked": true,
          "points": 1,
          "schema_version": 3,
          "solution": false,
          "task": false
        }
      },
      "outputs": [],
      "source": [
        "# Task 10 - Test\n",
        "\n",
        "# Hidden tests - you will see the results when you submit to Canvas"
      ]
    },
    {
      "cell_type": "markdown",
      "metadata": {
        "id": "b_CZNPZAlw71"
      },
      "source": [
        "**Task 11** - Identify the number of cell phones per person in the US in 2017\n",
        "\n",
        "* Create a one-row subset of `geo_cell_phone_population` with data on cell phone ownership in the United States for the year 2017.\n",
        "* Call this subset DataFrame `US_2017`.\n",
        "* Print `US_2017`."
      ]
    },
    {
      "cell_type": "code",
      "execution_count": null,
      "metadata": {
        "deletable": false,
        "id": "Y0hRRvc1lw8B",
        "nbgrader": {
          "cell_type": "code",
          "checksum": "a0c775ef5f419d97070af229fe40c354",
          "grade": false,
          "grade_id": "cell-665e83d11e594d90",
          "locked": false,
          "schema_version": 3,
          "solution": true,
          "task": false
        },
        "colab": {
          "base_uri": "https://localhost:8080/",
          "height": 81
        },
        "outputId": "21b433c5-a11a-4680-e04f-405889f0ff4d"
      },
      "outputs": [
        {
          "output_type": "execute_result",
          "data": {
            "text/html": [
              "\n",
              "  <div id=\"df-409498f2-aee1-463a-8e83-267720a1e3ba\">\n",
              "    <div class=\"colab-df-container\">\n",
              "      <div>\n",
              "<style scoped>\n",
              "    .dataframe tbody tr th:only-of-type {\n",
              "        vertical-align: middle;\n",
              "    }\n",
              "\n",
              "    .dataframe tbody tr th {\n",
              "        vertical-align: top;\n",
              "    }\n",
              "\n",
              "    .dataframe thead th {\n",
              "        text-align: right;\n",
              "    }\n",
              "</style>\n",
              "<table border=\"1\" class=\"dataframe\">\n",
              "  <thead>\n",
              "    <tr style=\"text-align: right;\">\n",
              "      <th></th>\n",
              "      <th>geo</th>\n",
              "      <th>time</th>\n",
              "      <th>cell_phones_total</th>\n",
              "      <th>population_total</th>\n",
              "      <th>country</th>\n",
              "      <th>phones_per_person</th>\n",
              "    </tr>\n",
              "  </thead>\n",
              "  <tbody>\n",
              "    <tr>\n",
              "      <th>8455</th>\n",
              "      <td>usa</td>\n",
              "      <td>2017</td>\n",
              "      <td>400000000.0</td>\n",
              "      <td>325084758</td>\n",
              "      <td>United States</td>\n",
              "      <td>1.230448</td>\n",
              "    </tr>\n",
              "  </tbody>\n",
              "</table>\n",
              "</div>\n",
              "      <button class=\"colab-df-convert\" onclick=\"convertToInteractive('df-409498f2-aee1-463a-8e83-267720a1e3ba')\"\n",
              "              title=\"Convert this dataframe to an interactive table.\"\n",
              "              style=\"display:none;\">\n",
              "        \n",
              "  <svg xmlns=\"http://www.w3.org/2000/svg\" height=\"24px\"viewBox=\"0 0 24 24\"\n",
              "       width=\"24px\">\n",
              "    <path d=\"M0 0h24v24H0V0z\" fill=\"none\"/>\n",
              "    <path d=\"M18.56 5.44l.94 2.06.94-2.06 2.06-.94-2.06-.94-.94-2.06-.94 2.06-2.06.94zm-11 1L8.5 8.5l.94-2.06 2.06-.94-2.06-.94L8.5 2.5l-.94 2.06-2.06.94zm10 10l.94 2.06.94-2.06 2.06-.94-2.06-.94-.94-2.06-.94 2.06-2.06.94z\"/><path d=\"M17.41 7.96l-1.37-1.37c-.4-.4-.92-.59-1.43-.59-.52 0-1.04.2-1.43.59L10.3 9.45l-7.72 7.72c-.78.78-.78 2.05 0 2.83L4 21.41c.39.39.9.59 1.41.59.51 0 1.02-.2 1.41-.59l7.78-7.78 2.81-2.81c.8-.78.8-2.07 0-2.86zM5.41 20L4 18.59l7.72-7.72 1.47 1.35L5.41 20z\"/>\n",
              "  </svg>\n",
              "      </button>\n",
              "      \n",
              "  <style>\n",
              "    .colab-df-container {\n",
              "      display:flex;\n",
              "      flex-wrap:wrap;\n",
              "      gap: 12px;\n",
              "    }\n",
              "\n",
              "    .colab-df-convert {\n",
              "      background-color: #E8F0FE;\n",
              "      border: none;\n",
              "      border-radius: 50%;\n",
              "      cursor: pointer;\n",
              "      display: none;\n",
              "      fill: #1967D2;\n",
              "      height: 32px;\n",
              "      padding: 0 0 0 0;\n",
              "      width: 32px;\n",
              "    }\n",
              "\n",
              "    .colab-df-convert:hover {\n",
              "      background-color: #E2EBFA;\n",
              "      box-shadow: 0px 1px 2px rgba(60, 64, 67, 0.3), 0px 1px 3px 1px rgba(60, 64, 67, 0.15);\n",
              "      fill: #174EA6;\n",
              "    }\n",
              "\n",
              "    [theme=dark] .colab-df-convert {\n",
              "      background-color: #3B4455;\n",
              "      fill: #D2E3FC;\n",
              "    }\n",
              "\n",
              "    [theme=dark] .colab-df-convert:hover {\n",
              "      background-color: #434B5C;\n",
              "      box-shadow: 0px 1px 3px 1px rgba(0, 0, 0, 0.15);\n",
              "      filter: drop-shadow(0px 1px 2px rgba(0, 0, 0, 0.3));\n",
              "      fill: #FFFFFF;\n",
              "    }\n",
              "  </style>\n",
              "\n",
              "      <script>\n",
              "        const buttonEl =\n",
              "          document.querySelector('#df-409498f2-aee1-463a-8e83-267720a1e3ba button.colab-df-convert');\n",
              "        buttonEl.style.display =\n",
              "          google.colab.kernel.accessAllowed ? 'block' : 'none';\n",
              "\n",
              "        async function convertToInteractive(key) {\n",
              "          const element = document.querySelector('#df-409498f2-aee1-463a-8e83-267720a1e3ba');\n",
              "          const dataTable =\n",
              "            await google.colab.kernel.invokeFunction('convertToInteractive',\n",
              "                                                     [key], {});\n",
              "          if (!dataTable) return;\n",
              "\n",
              "          const docLinkHtml = 'Like what you see? Visit the ' +\n",
              "            '<a target=\"_blank\" href=https://colab.research.google.com/notebooks/data_table.ipynb>data table notebook</a>'\n",
              "            + ' to learn more about interactive tables.';\n",
              "          element.innerHTML = '';\n",
              "          dataTable['output_type'] = 'display_data';\n",
              "          await google.colab.output.renderOutput(dataTable, element);\n",
              "          const docLink = document.createElement('div');\n",
              "          docLink.innerHTML = docLinkHtml;\n",
              "          element.appendChild(docLink);\n",
              "        }\n",
              "      </script>\n",
              "    </div>\n",
              "  </div>\n",
              "  "
            ],
            "text/plain": [
              "      geo  time  ...        country  phones_per_person\n",
              "8455  usa  2017  ...  United States           1.230448\n",
              "\n",
              "[1 rows x 6 columns]"
            ]
          },
          "metadata": {},
          "execution_count": 110
        }
      ],
      "source": [
        "# Task 11\n",
        "\n",
        "# Determine the number of cell phones per person in the US in 2017\n",
        "\n",
        "# YOUR CODE HERE\n",
        "tempframe = geo_cell_phone_population.loc[geo_cell_phone_population['geo']=='usa']\n",
        "US_2017 = tempframe.loc[tempframe['time']==2017]\n",
        "US_2017\n",
        "# View the DataFrame\n"
      ]
    },
    {
      "cell_type": "markdown",
      "metadata": {
        "id": "mIDryQfKlw8C"
      },
      "source": [
        "**Task 11 Test**"
      ]
    },
    {
      "cell_type": "code",
      "execution_count": null,
      "metadata": {
        "deletable": false,
        "editable": false,
        "id": "wL0MypzFlw8C",
        "nbgrader": {
          "cell_type": "code",
          "checksum": "912e932a02c4192868d095b526a831e4",
          "grade": true,
          "grade_id": "cell-ea08fdda80cf9731",
          "locked": true,
          "points": 1,
          "schema_version": 3,
          "solution": false,
          "task": false
        }
      },
      "outputs": [],
      "source": [
        "# Task 11 - Test\n",
        "\n",
        "# Hidden tests - you will see the results when you submit to Canvas"
      ]
    },
    {
      "cell_type": "markdown",
      "metadata": {
        "deletable": false,
        "editable": false,
        "id": "HTl_zamAtfJa",
        "nbgrader": {
          "cell_type": "markdown",
          "checksum": "815cb8dd3b19d79fd553f23d9a773b03",
          "grade": false,
          "grade_id": "cell-4acad6efd0ae146c",
          "locked": true,
          "schema_version": 3,
          "solution": false,
          "task": false
        }
      },
      "source": [
        "**Task 12** - Describe the numeric variables in `geo_cell_phone_population`\n",
        "\n",
        "* Calculate the summary statistics for the quantitative variables in `geo_cell_phone_population` using `.describe()`.\n",
        "* Find the mean value for `phones_per_person` and assign it to the variable `mean_phones`. Define your value out to two decimal points.\n"
      ]
    },
    {
      "cell_type": "code",
      "execution_count": null,
      "metadata": {
        "deletable": false,
        "id": "HGKKIqAktfJn",
        "nbgrader": {
          "cell_type": "code",
          "checksum": "8773b60013ce17644af742cd4c6a356d",
          "grade": false,
          "grade_id": "cell-181c9805c52dfda8",
          "locked": false,
          "schema_version": 3,
          "solution": true,
          "task": false
        }
      },
      "outputs": [],
      "source": [
        "# Task 12\n",
        "\n",
        "# YOUR CODE HERE\n",
        "geo_cell_phone_population.describe()\n",
        "mean_phones = geo_cell_phone_population['phones_per_person'].mean()\n"
      ]
    },
    {
      "cell_type": "markdown",
      "metadata": {
        "id": "4Nh0qP1ptfJn"
      },
      "source": [
        "**Task 12 Test**"
      ]
    },
    {
      "cell_type": "code",
      "execution_count": null,
      "metadata": {
        "deletable": false,
        "editable": false,
        "id": "cBZg6p1VtfJo",
        "nbgrader": {
          "cell_type": "code",
          "checksum": "012a6f5c818c64f8ed1570906eea15b3",
          "grade": true,
          "grade_id": "cell-0a0cfb1ac7acc279",
          "locked": true,
          "points": 1,
          "schema_version": 3,
          "solution": false,
          "task": false
        }
      },
      "outputs": [],
      "source": [
        "# Task 12 - Test\n",
        "\n",
        "# Hidden tests - you will see the results when you submit to Canvas"
      ]
    },
    {
      "cell_type": "markdown",
      "metadata": {
        "id": "wBQCMGrkw69w"
      },
      "source": [
        "**Task 13** - Subset the DataFrame for 2017\n",
        "\n",
        "* Create a new dataframe called `df2017` that includes **only** records from `geo_cell_phone_population` that ocurred in 2017."
      ]
    },
    {
      "cell_type": "code",
      "execution_count": null,
      "metadata": {
        "deletable": false,
        "id": "_EKPYqW-w698",
        "nbgrader": {
          "cell_type": "code",
          "checksum": "50dd62f311ea30c217ec74206b8b42b9",
          "grade": false,
          "grade_id": "cell-f3fa17e15b5174ac",
          "locked": false,
          "schema_version": 3,
          "solution": true,
          "task": false
        },
        "colab": {
          "base_uri": "https://localhost:8080/",
          "height": 424
        },
        "outputId": "d33fbb03-b3ba-41fc-80eb-b9bc006dd6b8"
      },
      "outputs": [
        {
          "output_type": "execute_result",
          "data": {
            "text/html": [
              "\n",
              "  <div id=\"df-e34652b5-8354-4c48-ae62-1071d8b5e95a\">\n",
              "    <div class=\"colab-df-container\">\n",
              "      <div>\n",
              "<style scoped>\n",
              "    .dataframe tbody tr th:only-of-type {\n",
              "        vertical-align: middle;\n",
              "    }\n",
              "\n",
              "    .dataframe tbody tr th {\n",
              "        vertical-align: top;\n",
              "    }\n",
              "\n",
              "    .dataframe thead th {\n",
              "        text-align: right;\n",
              "    }\n",
              "</style>\n",
              "<table border=\"1\" class=\"dataframe\">\n",
              "  <thead>\n",
              "    <tr style=\"text-align: right;\">\n",
              "      <th></th>\n",
              "      <th>geo</th>\n",
              "      <th>time</th>\n",
              "      <th>cell_phones_total</th>\n",
              "      <th>population_total</th>\n",
              "      <th>country</th>\n",
              "      <th>phones_per_person</th>\n",
              "    </tr>\n",
              "  </thead>\n",
              "  <tbody>\n",
              "    <tr>\n",
              "      <th>45</th>\n",
              "      <td>afg</td>\n",
              "      <td>2017</td>\n",
              "      <td>23929713.0</td>\n",
              "      <td>36296111</td>\n",
              "      <td>Afghanistan</td>\n",
              "      <td>0.659291</td>\n",
              "    </tr>\n",
              "    <tr>\n",
              "      <th>93</th>\n",
              "      <td>ago</td>\n",
              "      <td>2017</td>\n",
              "      <td>13323952.0</td>\n",
              "      <td>29816769</td>\n",
              "      <td>Angola</td>\n",
              "      <td>0.446861</td>\n",
              "    </tr>\n",
              "    <tr>\n",
              "      <th>141</th>\n",
              "      <td>alb</td>\n",
              "      <td>2017</td>\n",
              "      <td>3625699.0</td>\n",
              "      <td>2884169</td>\n",
              "      <td>Albania</td>\n",
              "      <td>1.257104</td>\n",
              "    </tr>\n",
              "    <tr>\n",
              "      <th>189</th>\n",
              "      <td>and</td>\n",
              "      <td>2017</td>\n",
              "      <td>80337.0</td>\n",
              "      <td>76997</td>\n",
              "      <td>Andorra</td>\n",
              "      <td>1.043378</td>\n",
              "    </tr>\n",
              "    <tr>\n",
              "      <th>227</th>\n",
              "      <td>are</td>\n",
              "      <td>2017</td>\n",
              "      <td>19826224.0</td>\n",
              "      <td>9487206</td>\n",
              "      <td>United Arab Emirates</td>\n",
              "      <td>2.089785</td>\n",
              "    </tr>\n",
              "    <tr>\n",
              "      <th>...</th>\n",
              "      <td>...</td>\n",
              "      <td>...</td>\n",
              "      <td>...</td>\n",
              "      <td>...</td>\n",
              "      <td>...</td>\n",
              "      <td>...</td>\n",
              "    </tr>\n",
              "    <tr>\n",
              "      <th>8738</th>\n",
              "      <td>wsm</td>\n",
              "      <td>2017</td>\n",
              "      <td>124211.0</td>\n",
              "      <td>195358</td>\n",
              "      <td>Samoa</td>\n",
              "      <td>0.635812</td>\n",
              "    </tr>\n",
              "    <tr>\n",
              "      <th>8784</th>\n",
              "      <td>yem</td>\n",
              "      <td>2017</td>\n",
              "      <td>15357868.0</td>\n",
              "      <td>27834811</td>\n",
              "      <td>Yemen</td>\n",
              "      <td>0.551750</td>\n",
              "    </tr>\n",
              "    <tr>\n",
              "      <th>8831</th>\n",
              "      <td>zaf</td>\n",
              "      <td>2017</td>\n",
              "      <td>88497610.0</td>\n",
              "      <td>57009751</td>\n",
              "      <td>South Africa</td>\n",
              "      <td>1.552324</td>\n",
              "    </tr>\n",
              "    <tr>\n",
              "      <th>8879</th>\n",
              "      <td>zmb</td>\n",
              "      <td>2017</td>\n",
              "      <td>13438539.0</td>\n",
              "      <td>16853608</td>\n",
              "      <td>Zambia</td>\n",
              "      <td>0.797369</td>\n",
              "    </tr>\n",
              "    <tr>\n",
              "      <th>8927</th>\n",
              "      <td>zwe</td>\n",
              "      <td>2017</td>\n",
              "      <td>14092104.0</td>\n",
              "      <td>14236599</td>\n",
              "      <td>Zimbabwe</td>\n",
              "      <td>0.989850</td>\n",
              "    </tr>\n",
              "  </tbody>\n",
              "</table>\n",
              "<p>194 rows × 6 columns</p>\n",
              "</div>\n",
              "      <button class=\"colab-df-convert\" onclick=\"convertToInteractive('df-e34652b5-8354-4c48-ae62-1071d8b5e95a')\"\n",
              "              title=\"Convert this dataframe to an interactive table.\"\n",
              "              style=\"display:none;\">\n",
              "        \n",
              "  <svg xmlns=\"http://www.w3.org/2000/svg\" height=\"24px\"viewBox=\"0 0 24 24\"\n",
              "       width=\"24px\">\n",
              "    <path d=\"M0 0h24v24H0V0z\" fill=\"none\"/>\n",
              "    <path d=\"M18.56 5.44l.94 2.06.94-2.06 2.06-.94-2.06-.94-.94-2.06-.94 2.06-2.06.94zm-11 1L8.5 8.5l.94-2.06 2.06-.94-2.06-.94L8.5 2.5l-.94 2.06-2.06.94zm10 10l.94 2.06.94-2.06 2.06-.94-2.06-.94-.94-2.06-.94 2.06-2.06.94z\"/><path d=\"M17.41 7.96l-1.37-1.37c-.4-.4-.92-.59-1.43-.59-.52 0-1.04.2-1.43.59L10.3 9.45l-7.72 7.72c-.78.78-.78 2.05 0 2.83L4 21.41c.39.39.9.59 1.41.59.51 0 1.02-.2 1.41-.59l7.78-7.78 2.81-2.81c.8-.78.8-2.07 0-2.86zM5.41 20L4 18.59l7.72-7.72 1.47 1.35L5.41 20z\"/>\n",
              "  </svg>\n",
              "      </button>\n",
              "      \n",
              "  <style>\n",
              "    .colab-df-container {\n",
              "      display:flex;\n",
              "      flex-wrap:wrap;\n",
              "      gap: 12px;\n",
              "    }\n",
              "\n",
              "    .colab-df-convert {\n",
              "      background-color: #E8F0FE;\n",
              "      border: none;\n",
              "      border-radius: 50%;\n",
              "      cursor: pointer;\n",
              "      display: none;\n",
              "      fill: #1967D2;\n",
              "      height: 32px;\n",
              "      padding: 0 0 0 0;\n",
              "      width: 32px;\n",
              "    }\n",
              "\n",
              "    .colab-df-convert:hover {\n",
              "      background-color: #E2EBFA;\n",
              "      box-shadow: 0px 1px 2px rgba(60, 64, 67, 0.3), 0px 1px 3px 1px rgba(60, 64, 67, 0.15);\n",
              "      fill: #174EA6;\n",
              "    }\n",
              "\n",
              "    [theme=dark] .colab-df-convert {\n",
              "      background-color: #3B4455;\n",
              "      fill: #D2E3FC;\n",
              "    }\n",
              "\n",
              "    [theme=dark] .colab-df-convert:hover {\n",
              "      background-color: #434B5C;\n",
              "      box-shadow: 0px 1px 3px 1px rgba(0, 0, 0, 0.15);\n",
              "      filter: drop-shadow(0px 1px 2px rgba(0, 0, 0, 0.3));\n",
              "      fill: #FFFFFF;\n",
              "    }\n",
              "  </style>\n",
              "\n",
              "      <script>\n",
              "        const buttonEl =\n",
              "          document.querySelector('#df-e34652b5-8354-4c48-ae62-1071d8b5e95a button.colab-df-convert');\n",
              "        buttonEl.style.display =\n",
              "          google.colab.kernel.accessAllowed ? 'block' : 'none';\n",
              "\n",
              "        async function convertToInteractive(key) {\n",
              "          const element = document.querySelector('#df-e34652b5-8354-4c48-ae62-1071d8b5e95a');\n",
              "          const dataTable =\n",
              "            await google.colab.kernel.invokeFunction('convertToInteractive',\n",
              "                                                     [key], {});\n",
              "          if (!dataTable) return;\n",
              "\n",
              "          const docLinkHtml = 'Like what you see? Visit the ' +\n",
              "            '<a target=\"_blank\" href=https://colab.research.google.com/notebooks/data_table.ipynb>data table notebook</a>'\n",
              "            + ' to learn more about interactive tables.';\n",
              "          element.innerHTML = '';\n",
              "          dataTable['output_type'] = 'display_data';\n",
              "          await google.colab.output.renderOutput(dataTable, element);\n",
              "          const docLink = document.createElement('div');\n",
              "          docLink.innerHTML = docLinkHtml;\n",
              "          element.appendChild(docLink);\n",
              "        }\n",
              "      </script>\n",
              "    </div>\n",
              "  </div>\n",
              "  "
            ],
            "text/plain": [
              "      geo  time  ...               country  phones_per_person\n",
              "45    afg  2017  ...           Afghanistan           0.659291\n",
              "93    ago  2017  ...                Angola           0.446861\n",
              "141   alb  2017  ...               Albania           1.257104\n",
              "189   and  2017  ...               Andorra           1.043378\n",
              "227   are  2017  ...  United Arab Emirates           2.089785\n",
              "...   ...   ...  ...                   ...                ...\n",
              "8738  wsm  2017  ...                 Samoa           0.635812\n",
              "8784  yem  2017  ...                 Yemen           0.551750\n",
              "8831  zaf  2017  ...          South Africa           1.552324\n",
              "8879  zmb  2017  ...                Zambia           0.797369\n",
              "8927  zwe  2017  ...              Zimbabwe           0.989850\n",
              "\n",
              "[194 rows x 6 columns]"
            ]
          },
          "metadata": {},
          "execution_count": 121
        }
      ],
      "source": [
        "# Task 13\n",
        "\n",
        "# Create a new dataframe called df2017 that includes only records from geo_cell_phone_population that ocurred in 2017.\n",
        "\n",
        "# YOUR CODE HERE\n",
        "df2017 = geo_cell_phone_population[geo_cell_phone_population['time'] == 2017]\n",
        "df2017"
      ]
    },
    {
      "cell_type": "markdown",
      "metadata": {
        "id": "QuLy4qwrw698"
      },
      "source": [
        "**Task 13 Test**"
      ]
    },
    {
      "cell_type": "code",
      "execution_count": null,
      "metadata": {
        "deletable": false,
        "editable": false,
        "id": "S0rU2pGWw698",
        "nbgrader": {
          "cell_type": "code",
          "checksum": "3ec1b21a811f55002c03f4f9f54fcf3e",
          "grade": true,
          "grade_id": "cell-b19a6956b5dddadb",
          "locked": true,
          "points": 1,
          "schema_version": 3,
          "solution": false,
          "task": false
        }
      },
      "outputs": [],
      "source": [
        "# Task 13 - Test\n",
        "\n",
        "# Hidden tests - you will see the results when you submit to Canvas"
      ]
    },
    {
      "cell_type": "markdown",
      "metadata": {
        "id": "Rww_2EpHyd4K"
      },
      "source": [
        "**Task 14** - Identify the five countries with the most cell phones per person in 2017\n",
        "\n",
        "* Sort the `df2017` DataFrame by `phones_per_person` in descending order and assign the result to `df2017_top`. Your new DataFrame should only have **five** rows (Hint: use `.head()` to return only five rows).\n",
        "* Print the first 5 records of `df2017_top`."
      ]
    },
    {
      "cell_type": "code",
      "execution_count": null,
      "metadata": {
        "deletable": false,
        "id": "h6ym9Dwhyd4V",
        "nbgrader": {
          "cell_type": "code",
          "checksum": "7a116d8d8ab46d5494cec232cfc25c12",
          "grade": false,
          "grade_id": "cell-c9b701bfe897edf5",
          "locked": false,
          "schema_version": 3,
          "solution": true,
          "task": false
        },
        "colab": {
          "base_uri": "https://localhost:8080/",
          "height": 206
        },
        "outputId": "39d37141-7906-461b-f841-1bdbb08965d3"
      },
      "outputs": [
        {
          "output_type": "execute_result",
          "data": {
            "text/html": [
              "\n",
              "  <div id=\"df-5cff36ee-1ed4-40de-8aab-ab4d8536d6db\">\n",
              "    <div class=\"colab-df-container\">\n",
              "      <div>\n",
              "<style scoped>\n",
              "    .dataframe tbody tr th:only-of-type {\n",
              "        vertical-align: middle;\n",
              "    }\n",
              "\n",
              "    .dataframe tbody tr th {\n",
              "        vertical-align: top;\n",
              "    }\n",
              "\n",
              "    .dataframe thead th {\n",
              "        text-align: right;\n",
              "    }\n",
              "</style>\n",
              "<table border=\"1\" class=\"dataframe\">\n",
              "  <thead>\n",
              "    <tr style=\"text-align: right;\">\n",
              "      <th></th>\n",
              "      <th>geo</th>\n",
              "      <th>time</th>\n",
              "      <th>cell_phones_total</th>\n",
              "      <th>population_total</th>\n",
              "      <th>country</th>\n",
              "      <th>phones_per_person</th>\n",
              "    </tr>\n",
              "  </thead>\n",
              "  <tbody>\n",
              "    <tr>\n",
              "      <th>3448</th>\n",
              "      <td>hkg</td>\n",
              "      <td>2017</td>\n",
              "      <td>18394762.0</td>\n",
              "      <td>7306315</td>\n",
              "      <td>Hong Kong, China</td>\n",
              "      <td>2.517652</td>\n",
              "    </tr>\n",
              "    <tr>\n",
              "      <th>227</th>\n",
              "      <td>are</td>\n",
              "      <td>2017</td>\n",
              "      <td>19826224.0</td>\n",
              "      <td>9487206</td>\n",
              "      <td>United Arab Emirates</td>\n",
              "      <td>2.089785</td>\n",
              "    </tr>\n",
              "    <tr>\n",
              "      <th>365</th>\n",
              "      <td>atg</td>\n",
              "      <td>2017</td>\n",
              "      <td>184000.0</td>\n",
              "      <td>95425</td>\n",
              "      <td>Antigua and Barbuda</td>\n",
              "      <td>1.928216</td>\n",
              "    </tr>\n",
              "    <tr>\n",
              "      <th>5253</th>\n",
              "      <td>mdv</td>\n",
              "      <td>2017</td>\n",
              "      <td>900120.0</td>\n",
              "      <td>496398</td>\n",
              "      <td>Maldives</td>\n",
              "      <td>1.813303</td>\n",
              "    </tr>\n",
              "    <tr>\n",
              "      <th>1937</th>\n",
              "      <td>cri</td>\n",
              "      <td>2017</td>\n",
              "      <td>8840342.0</td>\n",
              "      <td>4949955</td>\n",
              "      <td>Costa Rica</td>\n",
              "      <td>1.785944</td>\n",
              "    </tr>\n",
              "  </tbody>\n",
              "</table>\n",
              "</div>\n",
              "      <button class=\"colab-df-convert\" onclick=\"convertToInteractive('df-5cff36ee-1ed4-40de-8aab-ab4d8536d6db')\"\n",
              "              title=\"Convert this dataframe to an interactive table.\"\n",
              "              style=\"display:none;\">\n",
              "        \n",
              "  <svg xmlns=\"http://www.w3.org/2000/svg\" height=\"24px\"viewBox=\"0 0 24 24\"\n",
              "       width=\"24px\">\n",
              "    <path d=\"M0 0h24v24H0V0z\" fill=\"none\"/>\n",
              "    <path d=\"M18.56 5.44l.94 2.06.94-2.06 2.06-.94-2.06-.94-.94-2.06-.94 2.06-2.06.94zm-11 1L8.5 8.5l.94-2.06 2.06-.94-2.06-.94L8.5 2.5l-.94 2.06-2.06.94zm10 10l.94 2.06.94-2.06 2.06-.94-2.06-.94-.94-2.06-.94 2.06-2.06.94z\"/><path d=\"M17.41 7.96l-1.37-1.37c-.4-.4-.92-.59-1.43-.59-.52 0-1.04.2-1.43.59L10.3 9.45l-7.72 7.72c-.78.78-.78 2.05 0 2.83L4 21.41c.39.39.9.59 1.41.59.51 0 1.02-.2 1.41-.59l7.78-7.78 2.81-2.81c.8-.78.8-2.07 0-2.86zM5.41 20L4 18.59l7.72-7.72 1.47 1.35L5.41 20z\"/>\n",
              "  </svg>\n",
              "      </button>\n",
              "      \n",
              "  <style>\n",
              "    .colab-df-container {\n",
              "      display:flex;\n",
              "      flex-wrap:wrap;\n",
              "      gap: 12px;\n",
              "    }\n",
              "\n",
              "    .colab-df-convert {\n",
              "      background-color: #E8F0FE;\n",
              "      border: none;\n",
              "      border-radius: 50%;\n",
              "      cursor: pointer;\n",
              "      display: none;\n",
              "      fill: #1967D2;\n",
              "      height: 32px;\n",
              "      padding: 0 0 0 0;\n",
              "      width: 32px;\n",
              "    }\n",
              "\n",
              "    .colab-df-convert:hover {\n",
              "      background-color: #E2EBFA;\n",
              "      box-shadow: 0px 1px 2px rgba(60, 64, 67, 0.3), 0px 1px 3px 1px rgba(60, 64, 67, 0.15);\n",
              "      fill: #174EA6;\n",
              "    }\n",
              "\n",
              "    [theme=dark] .colab-df-convert {\n",
              "      background-color: #3B4455;\n",
              "      fill: #D2E3FC;\n",
              "    }\n",
              "\n",
              "    [theme=dark] .colab-df-convert:hover {\n",
              "      background-color: #434B5C;\n",
              "      box-shadow: 0px 1px 3px 1px rgba(0, 0, 0, 0.15);\n",
              "      filter: drop-shadow(0px 1px 2px rgba(0, 0, 0, 0.3));\n",
              "      fill: #FFFFFF;\n",
              "    }\n",
              "  </style>\n",
              "\n",
              "      <script>\n",
              "        const buttonEl =\n",
              "          document.querySelector('#df-5cff36ee-1ed4-40de-8aab-ab4d8536d6db button.colab-df-convert');\n",
              "        buttonEl.style.display =\n",
              "          google.colab.kernel.accessAllowed ? 'block' : 'none';\n",
              "\n",
              "        async function convertToInteractive(key) {\n",
              "          const element = document.querySelector('#df-5cff36ee-1ed4-40de-8aab-ab4d8536d6db');\n",
              "          const dataTable =\n",
              "            await google.colab.kernel.invokeFunction('convertToInteractive',\n",
              "                                                     [key], {});\n",
              "          if (!dataTable) return;\n",
              "\n",
              "          const docLinkHtml = 'Like what you see? Visit the ' +\n",
              "            '<a target=\"_blank\" href=https://colab.research.google.com/notebooks/data_table.ipynb>data table notebook</a>'\n",
              "            + ' to learn more about interactive tables.';\n",
              "          element.innerHTML = '';\n",
              "          dataTable['output_type'] = 'display_data';\n",
              "          await google.colab.output.renderOutput(dataTable, element);\n",
              "          const docLink = document.createElement('div');\n",
              "          docLink.innerHTML = docLinkHtml;\n",
              "          element.appendChild(docLink);\n",
              "        }\n",
              "      </script>\n",
              "    </div>\n",
              "  </div>\n",
              "  "
            ],
            "text/plain": [
              "      geo  time  ...               country  phones_per_person\n",
              "3448  hkg  2017  ...      Hong Kong, China           2.517652\n",
              "227   are  2017  ...  United Arab Emirates           2.089785\n",
              "365   atg  2017  ...   Antigua and Barbuda           1.928216\n",
              "5253  mdv  2017  ...              Maldives           1.813303\n",
              "1937  cri  2017  ...            Costa Rica           1.785944\n",
              "\n",
              "[5 rows x 6 columns]"
            ]
          },
          "metadata": {},
          "execution_count": 124
        }
      ],
      "source": [
        "# Task 14\n",
        "\n",
        "# Sort the df2017 dataframe by phones_per_person in descending order\n",
        "# Return only five (5) rows\n",
        "\n",
        "# YOUR CODE HERE\n",
        "df2017_top = df2017.sort_values('phones_per_person', ascending=False).head()\n",
        "\n",
        "# View the df2017_top DataFrame\n",
        "df2017_top"
      ]
    },
    {
      "cell_type": "markdown",
      "metadata": {
        "id": "7WBox_Axyd4W"
      },
      "source": [
        "**Task 14 Test**"
      ]
    },
    {
      "cell_type": "code",
      "execution_count": null,
      "metadata": {
        "deletable": false,
        "editable": false,
        "id": "ePj-a6rLyd4W",
        "nbgrader": {
          "cell_type": "code",
          "checksum": "7baa090a5b1136f9576ed19a1424a180",
          "grade": true,
          "grade_id": "cell-5f6fffc9db1b9492",
          "locked": true,
          "points": 1,
          "schema_version": 3,
          "solution": false,
          "task": false
        }
      },
      "outputs": [],
      "source": [
        "# Task 14 - Test\n",
        "\n",
        "assert df2017_top.shape == (5,6), 'Make sure you return only five rows'\n"
      ]
    },
    {
      "cell_type": "code",
      "execution_count": null,
      "metadata": {
        "id": "_a17YlRtVm7Z"
      },
      "outputs": [],
      "source": []
    }
  ],
  "metadata": {
    "colab": {
      "name": "DS_Unit1_Sprint1_AG (1).ipynb",
      "provenance": []
    },
    "kernelspec": {
      "display_name": "Python 3",
      "language": "python",
      "name": "python3"
    },
    "language_info": {
      "codemirror_mode": {
        "name": "ipython",
        "version": 3
      },
      "file_extension": ".py",
      "mimetype": "text/x-python",
      "name": "python",
      "nbconvert_exporter": "python",
      "pygments_lexer": "ipython3",
      "version": "3.8.8"
    }
  },
  "nbformat": 4,
  "nbformat_minor": 0
}