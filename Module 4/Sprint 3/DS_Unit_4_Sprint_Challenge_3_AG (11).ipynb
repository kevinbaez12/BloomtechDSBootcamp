{
  "cells": [
    {
      "cell_type": "markdown",
      "metadata": {
        "id": "wqrN-NZrebzS",
        "nbgrader": {
          "grade": false,
          "grade_id": "cell-1457b7bd4eaf95c6",
          "locked": true,
          "schema_version": 3,
          "solution": false,
          "task": false
        }
      },
      "source": [
        "# Major Neural Network Architectures Challenge\n",
        "## *Data Science Unit 4 Sprint 3 Challenge*\n",
        "\n",
        "In this sprint challenge, you'll explore some of the cutting edge of Deep Learning. This week we studied several famous neural network architectures: \n",
        "recurrent neural networks (RNNs), long short-term memory (LSTMs), convolutional neural networks (CNNs), and Autoencoders. In this sprint challenge, you will revisit these models. Remember, we are testing your knowledge of these architectures not your ability to fit a model with high accuracy. \n",
        "\n",
        "__*Caution:*__  these approaches can be pretty heavy computationally. All problems were designed so that you should be able to achieve results within at most 5-10 minutes of runtime locally, on AWS SageMaker, on Colab or on a comparable environment. If something is running longer, double check your approach!\n",
        "\n",
        "__*GridSearch:*__ CodeGrade will likely break if it is asked to run a gridsearch for a deep learning model (CodeGrade instances run on a single processor). So while you may choose to run a gridsearch locally to find the optimum hyper-parameter values for your model, **please delete (or comment out) the gridsearch code and simply instantiate a model with the optimum parameter values to get the performance that you want out of your model prior to submission.** \n",
        "\n",
        "\n",
        "## Challenge Objectives\n",
        "*You should be able to:*\n",
        "* <a href=\"#p1\">Part 1</a>: Train a LSTM classification model\n",
        "* <a href=\"#p2\">Part 2</a>: Utilize a pre-trained CNN for object detection\n",
        "\n",
        "____\n",
        "\n",
        "# (CodeGrade) Before you submit your notebook you must first\n",
        "\n",
        "1) Restart your notebook's Kernel\n",
        "\n",
        "2) Run all cells sequentially, from top to bottom, so that cell numbers are sequential numbers (i.e. 1,2,3,4,5...)\n",
        "- Easiest way to do this is to click on the **Cell** tab at the top of your notebook and select **Run All** from the drop down menu. \n",
        "\n",
        "3) If you have gridsearch code, now is when you either delete it or comment out that code so CodeGrade doesn't run it and crash. \n",
        "\n",
        "4) Read the directions in **Part 2** of this notebook for specific instructions on how to prep that section for CodeGrade.\n",
        "\n",
        "____"
      ]
    },
    {
      "cell_type": "markdown",
      "metadata": {
        "id": "-5UwGRnJOmD4",
        "nbgrader": {
          "grade": false,
          "grade_id": "cell-5045e73a00a3f6af",
          "locked": true,
          "schema_version": 3,
          "solution": false,
          "task": false
        }
      },
      "source": [
        "<a id=\"p1\"></a>\n",
        "## Part 1 - LSTMs\n",
        "\n",
        "Use a LSTM to fit a multi-class classification model on Reuters news articles to distinguish topics of articles. The data is already encoded properly for use in a LSTM model. \n",
        "\n",
        "Your Tasks: \n",
        "- Use Keras to fit a predictive model, classifying news articles into topics. \n",
        "- Name your model as `model`\n",
        "- Use a `single hidden layer`\n",
        "- Use `sparse_categorical_crossentropy` as your loss function\n",
        "- Use `accuracy` as your metric\n",
        "- Report your overall score and accuracy\n",
        "- Due to resource concerns on CodeGrade, `set your model's epochs=1`\n",
        "\n",
        "For reference, the LSTM code we used in class will be useful. \n",
        "\n",
        "__*Note:*__  Focus on getting a running model, not on maxing accuracy with extreme data size or epoch numbers. Only revisit and push accuracy if you get everything else done! "
      ]
    },
    {
      "cell_type": "code",
      "execution_count": null,
      "metadata": {
        "id": "DS-9ksWjoJit",
        "nbgrader": {
          "grade": false,
          "grade_id": "cell-2c38f6b2487615f9",
          "locked": true,
          "schema_version": 3,
          "solution": false,
          "task": false
        }
      },
      "outputs": [],
      "source": [
        "# Import data (don't alter the code in this cell)\n",
        "from tensorflow.keras.datasets import reuters\n",
        "\n",
        "# Suppress some warnings from deprecated reuters.load_data\n",
        "import warnings\n",
        "warnings.filterwarnings('ignore')\n",
        "\n",
        "# Load data\n",
        "(X_train, y_train), (X_test, y_test) = reuters.load_data(num_words=None,\n",
        "                                                         skip_top=0,\n",
        "                                                         maxlen=None,\n",
        "                                                         test_split=0.2,\n",
        "                                                         seed=723812,\n",
        "                                                         start_char=1,\n",
        "                                                         oov_char=2,\n",
        "                                                         index_from=3)\n",
        "\n",
        "# Due to limited computational resources on CodeGrade, take the following subsample \n",
        "train_size = 1000\n",
        "X_train = X_train[:train_size]\n",
        "y_train = y_train[:train_size]"
      ]
    },
    {
      "cell_type": "code",
      "execution_count": null,
      "metadata": {
        "colab": {
          "base_uri": "https://localhost:8080/",
          "height": 34
        },
        "id": "fLKqFh8DovaN",
        "nbgrader": {
          "grade": false,
          "grade_id": "cell-a3b0ae21d15e41bc",
          "locked": true,
          "schema_version": 3,
          "solution": false,
          "task": false
        },
        "outputId": "64b0d621-7e74-4181-9116-406e8c518465"
      },
      "outputs": [
        {
          "name": "stdout",
          "output_type": "stream",
          "text": [
            "Iran is encoded as 779 in the data\n",
            "London is encoded as 544 in the data\n",
            "Words are encoded as numbers in our dataset.\n"
          ]
        }
      ],
      "source": [
        "# Demo of encoding\n",
        "word_index = reuters.get_word_index(path=\"reuters_word_index.json\")\n",
        "\n",
        "print(f\"Iran is encoded as {word_index['iran']} in the data\")\n",
        "print(f\"London is encoded as {word_index['london']} in the data\")\n",
        "print(\"Words are encoded as numbers in our dataset.\")"
      ]
    },
    {
      "cell_type": "code",
      "execution_count": null,
      "metadata": {
        "id": "E-JkXD2pebzX",
        "nbgrader": {
          "grade": false,
          "grade_id": "cell-47e43dd2812682c7",
          "locked": true,
          "schema_version": 3,
          "solution": false,
          "task": false
        }
      },
      "outputs": [],
      "source": [
        "# Imports (don't alter this code)\n",
        "from tensorflow.keras.preprocessing import sequence\n",
        "from tensorflow.keras.preprocessing.sequence import pad_sequences\n",
        "from tensorflow.keras.models import Sequential\n",
        "from tensorflow.keras.layers import Dense, Embedding, LSTM\n",
        "\n",
        "# DO NOT CHANGE THESE VALUES \n",
        "# Keras docs say that the + 1 is needed: https://keras.io/api/layers/core_layers/embedding/\n",
        "MAX_FEATURES = len(word_index.values()) + 1\n",
        "\n",
        "# maxlen is the length of each sequence (i.e. document length)\n",
        "MAXLEN = 200"
      ]
    },
    {
      "cell_type": "code",
      "execution_count": null,
      "metadata": {
        "id": "dvQxPXJeebzX",
        "nbgrader": {
          "grade": false,
          "grade_id": "cell-471d7f5819bebff6",
          "locked": false,
          "schema_version": 3,
          "solution": true,
          "task": false
        }
      },
      "outputs": [],
      "source": [
        "# Pre-process your data by creating sequences \n",
        "# Save your transformed data to the same variable name:\n",
        "# example: X_train = some_transformation(X_train)\n",
        "\n",
        "# YOUR CODE HERE\n",
        "\n",
        "X_train = pad_sequences(X_train, maxlen=200)\n",
        "X_test = pad_sequences(X_test, maxlen=200)\n",
        "\n"
      ]
    },
    {
      "cell_type": "code",
      "execution_count": null,
      "metadata": {
        "id": "i9tNpxwjlRel",
        "outputId": "1576ad35-413c-41ec-ca85-837660793726"
      },
      "outputs": [
        {
          "data": {
            "text/plain": [
              "(2246, 200)"
            ]
          },
          "execution_count": 5,
          "metadata": {},
          "output_type": "execute_result"
        }
      ],
      "source": [
        "X_test.shape"
      ]
    },
    {
      "cell_type": "code",
      "execution_count": null,
      "metadata": {
        "id": "kNrFB-dpebzY",
        "nbgrader": {
          "grade": true,
          "grade_id": "cell-b46c98c26266363a",
          "locked": true,
          "points": 1,
          "schema_version": 3,
          "solution": false,
          "task": false
        }
      },
      "outputs": [],
      "source": [
        "# Visible tests\n",
        "assert X_train.shape[1] == MAXLEN, \"Your train input sequences are the wrong length. Did you use the sequence import?\"\n",
        "assert X_test.shape[1] == MAXLEN, \"Your test input sequences are the wrong length. Did you use the sequence import?\""
      ]
    },
    {
      "cell_type": "markdown",
      "metadata": {
        "id": "2yjb-FFpebzY"
      },
      "source": [
        "### Create your model\n",
        "\n",
        "Make sure to follow these instructions (also listed above):\n",
        "- Name your model as `model`\n",
        "- Use a `single hidden layer`\n",
        "- Use `sparse_categorical_crossentropy` as your loss function\n",
        "- Use `accuracy` as your metric\n",
        "\n",
        "**Additional considerations**\n",
        "\n",
        "The number of nodes in your output layer should be equal to the number of **unique** values in the sequences you are training and testing on. For this text, that value is equal to 46.\n",
        "\n",
        "- Set the number of nodes in your output layer equal to 46"
      ]
    },
    {
      "cell_type": "code",
      "execution_count": null,
      "metadata": {
        "id": "ULtJIYvNebzZ",
        "nbgrader": {
          "grade": false,
          "grade_id": "cell-5e7ea9089f827793",
          "locked": false,
          "schema_version": 3,
          "solution": true,
          "task": false
        }
      },
      "outputs": [],
      "source": [
        "# Build and complie your model here\n",
        "\n",
        "# YOUR CODE HERE\n",
        "model = Sequential()\n",
        "model.add(Embedding(input_dim=MAX_FEATURES,output_dim=64))\n",
        "model.add(LSTM(64,return_sequences=False))\n",
        "model.add(Dense(46,activation='softmax'))\n",
        "model.compile(loss='sparse_categorical_crossentropy',metrics=['accuracy'],optimizer='adam')"
      ]
    },
    {
      "cell_type": "code",
      "execution_count": null,
      "metadata": {
        "id": "mRHjF5nEebzZ",
        "nbgrader": {
          "grade": true,
          "grade_id": "cell-54f4676c642d2c94",
          "locked": true,
          "points": 1,
          "schema_version": 3,
          "solution": false,
          "task": false
        }
      },
      "outputs": [],
      "source": [
        "# Visible Test\n",
        "assert model.get_config()[\"layers\"][1][\"class_name\"] == \"Embedding\", \"Layer 1 should be an Embedding layer.\""
      ]
    },
    {
      "cell_type": "code",
      "execution_count": null,
      "metadata": {
        "id": "vPe5IqcFebzZ",
        "nbgrader": {
          "grade": true,
          "grade_id": "cell-974465c65fe51083",
          "locked": true,
          "points": 1,
          "schema_version": 3,
          "solution": false,
          "task": false
        }
      },
      "outputs": [],
      "source": [
        "# Hidden Test"
      ]
    },
    {
      "cell_type": "markdown",
      "metadata": {
        "id": "fdmQg6Zoebza",
        "nbgrader": {
          "grade": false,
          "grade_id": "cell-e3244fecc74e1964",
          "locked": true,
          "schema_version": 3,
          "solution": false,
          "task": false
        }
      },
      "source": [
        "### Fit your model\n",
        "\n",
        "Now, fit the model that you built and compiled in the previous cells. Remember to set your `epochs=1`! "
      ]
    },
    {
      "cell_type": "code",
      "execution_count": null,
      "metadata": {
        "id": "_QVSlFEAqWJM",
        "nbgrader": {
          "grade": false,
          "grade_id": "cell-10c20c87933d059c",
          "locked": false,
          "schema_version": 3,
          "solution": true,
          "task": false
        },
        "outputId": "2d5bd71b-6be6-4821-e90b-fcf94608c013"
      },
      "outputs": [
        {
          "name": "stdout",
          "output_type": "stream",
          "text": [
            "2/2 [==============================] - 2s 317ms/step - loss: 3.8249 - accuracy: 0.0720\n"
          ]
        },
        {
          "data": {
            "text/plain": [
              "<keras.callbacks.History at 0x17fc50a3fa0>"
            ]
          },
          "execution_count": 10,
          "metadata": {},
          "output_type": "execute_result"
        }
      ],
      "source": [
        "# Fit your model here\n",
        "# REMEMBER to set epochs=1\n",
        "\n",
        "# YOUR CODE HERE\n",
        "model.fit(X_train,y_train,batch_size=512,epochs=1)"
      ]
    },
    {
      "cell_type": "code",
      "execution_count": null,
      "metadata": {
        "id": "PAhaAgdilRen",
        "outputId": "654dd798-f7b4-44e3-ab55-c0f87441a627"
      },
      "outputs": [
        {
          "name": "stdout",
          "output_type": "stream",
          "text": [
            "46\n"
          ]
        }
      ],
      "source": [
        "print(len(set(y_test)))"
      ]
    },
    {
      "cell_type": "code",
      "execution_count": null,
      "metadata": {
        "id": "0rXL2Rrcebza",
        "nbgrader": {
          "grade": true,
          "grade_id": "cell-277a7dc0b08b9a29",
          "locked": true,
          "points": 1,
          "schema_version": 3,
          "solution": false,
          "task": false
        }
      },
      "outputs": [],
      "source": [
        "# Visible Test \n",
        "n_epochs = len(model.history.history[\"loss\"])\n",
        "assert n_epochs == 1, \"Verify that you set epochs to 1.\""
      ]
    },
    {
      "cell_type": "markdown",
      "metadata": {
        "id": "yz0LCZd_O4IG",
        "nbgrader": {
          "grade": false,
          "grade_id": "cell-32608feb8bec11a2",
          "locked": true,
          "schema_version": 3,
          "solution": false,
          "task": false
        }
      },
      "source": [
        "<a id=\"p2\"></a>\n",
        "## Part 2- CNNs\n",
        "\n",
        "### Find the Frog\n",
        "\n",
        "Time to play \"find the frog!\" Use Keras and [ResNet50v2](https://www.tensorflow.org/api_docs/python/tf/keras/applications/resnet_v2) (pre-trained) to detect which of the images with the `frog_images` subdirectory has a frog in it.\n",
        "\n",
        "<img align=\"left\" src=\"https://d3i6fh83elv35t.cloudfront.net/newshour/app/uploads/2017/03/GettyImages-654745934-1024x687.jpg\" width=400>"
      ]
    },
    {
      "cell_type": "markdown",
      "metadata": {
        "id": "HkRkH6cvebzb",
        "nbgrader": {
          "grade": false,
          "grade_id": "cell-f6185918d40cdcbe",
          "locked": true,
          "schema_version": 3,
          "solution": false,
          "task": false
        }
      },
      "source": [
        "The skimage function below will help you read in all the frog images into memory at once. You should use the preprocessing functions that come with ResnetV2, and you should also resize the images using scikit-image.\n",
        "\n",
        "### Reading in the images\n",
        "\n",
        "The code in the following cell will download the images to your notebook (either in your local Jupyter notebook or in Google colab).\n",
        "\n",
        "**Note**: In order to properly run this notebook in Codegrade, you must comment out\n",
        "\n",
        "`data = urllib.request.urlopen(text_file)` \n",
        "\n",
        "after running the cell in your environment. "
      ]
    },
    {
      "cell_type": "code",
      "execution_count": null,
      "metadata": {
        "id": "oHR2AKnbebzb"
      },
      "outputs": [],
      "source": [
        "# Prep to import images (don't alter the code in this cell)\n",
        "import urllib.request\n",
        "\n",
        "# Text file of image URLs\n",
        "text_file = \"https://raw.githubusercontent.com/bloominstituteoftechnology/data-science-canvas-images/main/unit_4/sprint_challenge_files/frog_image_url.txt\"\n",
        "#data = urllib.request.urlopen(text_file)\n",
        "\n",
        "# Create list of image URLs\n",
        "url_list = [] \n",
        "for line in data:\n",
        "    url_list.append(line.decode('utf-8'))"
      ]
    },
    {
      "cell_type": "code",
      "execution_count": null,
      "metadata": {
        "colab": {
          "base_uri": "https://localhost:8080/",
          "height": 245
        },
        "id": "whIqEWR236Af",
        "nbgrader": {
          "grade": false,
          "grade_id": "cell-414c383e7513e396",
          "locked": true,
          "schema_version": 3,
          "solution": false,
          "task": false
        },
        "outputId": "7a74e30d-310d-4a3a-9ae4-5bf52d137bda"
      },
      "outputs": [
        {
          "name": "stdout",
          "output_type": "stream",
          "text": [
            "<class 'numpy.ndarray'>\n",
            "\n",
            "Each of the Images is a Different Size\n",
            "(2137, 1710, 3)\n",
            "(3810, 2856, 3)\n"
          ]
        }
      ],
      "source": [
        "# Import images (don't alter the code in this cell)\n",
        "\n",
        "from skimage.io import imread\n",
        "from skimage.transform import resize \n",
        "\n",
        "# instantiate list to hold images\n",
        "image_list = []\n",
        "\n",
        "### UNCOMMENT THE FOLLOWING CODE TO LOAD YOUR IMAGES\n",
        "\n",
        "#loop through URLs and load each image\n",
        "for url in url_list:\n",
        "    image_list.append(imread(url))\n",
        "\n",
        "## UNCOMMENT THE FOLLOWING CODE TO VIEW AN EXAMPLE IMAGE SIZE\n",
        "#What is an \"image\"?\n",
        "print(type(image_list[0]), end=\"\\n\\n\")\n",
        "\n",
        "print(\"Each of the Images is a Different Size\")\n",
        "print(image_list[0].shape)\n",
        "print(image_list[1].shape)"
      ]
    },
    {
      "cell_type": "markdown",
      "metadata": {
        "id": "si5YfNqS50QU",
        "nbgrader": {
          "grade": false,
          "grade_id": "cell-787daf333f1fcb39",
          "locked": true,
          "schema_version": 3,
          "solution": false,
          "task": false
        }
      },
      "source": [
        "### Run ResNet50v2\n",
        "\n",
        "Your goal is to validly run ResNet50v2 on the input images - don't worry about tuning or improving the model. You can print out or view the predictions in any way you see fit. In order to receive credit, you need to have made predictions at some point in the following cells.\n",
        "\n",
        "*Hint* - ResNet 50v2 doesn't just return \"frog\". The three labels it has for frogs are: `bullfrog, tree frog, tailed frog`\n",
        "\n",
        "**Autograded tasks**\n",
        "\n",
        "* Instantiate your ResNet 50v2 and save to a variable named `resnet_model`\n",
        "\n",
        "**Other tasks**\n",
        "* Re-size your images\n",
        "* Use `resnet_model` to predict if each image contains a frog\n",
        "* Decode your predictions\n",
        "* Hint: the lesson on CNNs will have some helpful code\n",
        "\n",
        "**Stretch goals***\n",
        "* Check for other things such as fish\n",
        "* Print out the image with its predicted label\n",
        "* Wrap everything nicely in well documented functions\n",
        "\n",
        "## Important note!\n",
        "\n",
        "To increase the chances that your notebook will run in CodeGrade, when you **submit** your notebook:\n",
        "\n",
        "* comment out the code where you load the images\n",
        "* comment out the code where you make the predictions\n",
        "* comment out any plots or image displays you create\n",
        "\n",
        "**MAKE SURE YOUR NOTEBOOK RUNS COMPLETELY BEFORE YOU SUBMIT!**"
      ]
    },
    {
      "cell_type": "code",
      "execution_count": null,
      "metadata": {
        "id": "FaT07ddW3nHz",
        "nbgrader": {
          "grade": false,
          "grade_id": "cell-a2c1648668f631bb",
          "locked": true,
          "schema_version": 3,
          "solution": false,
          "task": false
        }
      },
      "outputs": [],
      "source": [
        "# Imports\n",
        "import numpy as np\n",
        "import matplotlib.pyplot as plt\n",
        "\n",
        "from tensorflow.keras.applications.resnet_v2 import ResNet50V2 # <-- pre-trained model \n",
        "from tensorflow.keras.preprocessing import image\n",
        "from tensorflow.keras.applications.resnet_v2 import preprocess_input, decode_predictions"
      ]
    },
    {
      "cell_type": "code",
      "execution_count": null,
      "metadata": {
        "id": "25ToVECZebzc",
        "nbgrader": {
          "grade": false,
          "grade_id": "cell-2715a95f2bcdf3f8",
          "locked": false,
          "schema_version": 3,
          "solution": true,
          "task": false
        }
      },
      "outputs": [],
      "source": [
        "# Code from the CNN lecture might come in handy here! \n",
        "\n",
        "# YOUR CODE HERE\n",
        "resnet_model = ResNet50V2(weights='imagenet')\n",
        "\n",
        "def img_contains_frog(img):\n",
        "    \"\"\"\n",
        "    Imputs image into resnet50 pre-trained model and returns the top 3 likely labels for the image (ranked by largest probability)\n",
        "    \"\"\"\n",
        "    # preprocess image\n",
        "    resized = resize(img[0],(224,224,3))\n",
        "    x = image.img_to_array(resized)\n",
        "    x = np.expand_dims(x, axis=0)\n",
        "    x = preprocess_input(x)\n",
        "    print('x.shape after preprocess_input ',x.shape)\n",
        "    \n",
        "    # get classification of image\n",
        "    features = resnet_model.predict(x)\n",
        "    print('shape of predictions ',features.shape)\n",
        "    \n",
        "    # docs: https://www.tensorflow.org/api_docs/python/tf/keras/applications/imagenet_utils/decode_predictions\n",
        "    results = decode_predictions(features, top=3)[0]\n",
        " \n",
        "    # return True if 'banana' is among the top 3 predictions\n",
        "    detected_frog = False\n",
        "    for entry in results:\n",
        "        print(entry)\n",
        "        if entry[1] == 'bullfrog':\n",
        "            detected_frog = True\n",
        "    return detected_frog\n",
        "\n"
      ]
    },
    {
      "cell_type": "code",
      "execution_count": null,
      "metadata": {
        "id": "U2yKcChGlReo",
        "outputId": "e0daea55-cf5e-4c9f-e6d0-f89d7cab9298"
      },
      "outputs": [
        {
          "name": "stdout",
          "output_type": "stream",
          "text": [
            "x.shape after preprocess_input  (1, 224, 224, 3)\n",
            "shape of predictions  (1, 1000)\n",
            "('n06359193', 'web_site', 0.054126244)\n",
            "('n03729826', 'matchstick', 0.038744807)\n",
            "('n01930112', 'nematode', 0.036065187)\n",
            "x.shape after preprocess_input  (1, 224, 224, 3)\n",
            "shape of predictions  (1, 1000)\n",
            "('n06359193', 'web_site', 0.06958157)\n",
            "('n03729826', 'matchstick', 0.048928484)\n",
            "('n01930112', 'nematode', 0.041876882)\n",
            "x.shape after preprocess_input  (1, 224, 224, 3)\n",
            "shape of predictions  (1, 1000)\n",
            "('n06359193', 'web_site', 0.061881095)\n",
            "('n03729826', 'matchstick', 0.04671605)\n",
            "('n01930112', 'nematode', 0.042660467)\n",
            "x.shape after preprocess_input  (1, 224, 224, 3)\n",
            "shape of predictions  (1, 1000)\n",
            "('n06359193', 'web_site', 0.051514246)\n",
            "('n03729826', 'matchstick', 0.04004304)\n",
            "('n01930112', 'nematode', 0.033158906)\n",
            "x.shape after preprocess_input  (1, 224, 224, 3)\n",
            "shape of predictions  (1, 1000)\n",
            "('n06359193', 'web_site', 0.045210443)\n",
            "('n03729826', 'matchstick', 0.038269036)\n",
            "('n01930112', 'nematode', 0.035878967)\n",
            "x.shape after preprocess_input  (1, 224, 224, 3)\n",
            "shape of predictions  (1, 1000)\n",
            "('n06359193', 'web_site', 0.049784884)\n",
            "('n03729826', 'matchstick', 0.045064528)\n",
            "('n01930112', 'nematode', 0.034023643)\n",
            "x.shape after preprocess_input  (1, 224, 224, 3)\n",
            "shape of predictions  (1, 1000)\n",
            "('n06359193', 'web_site', 0.057204295)\n",
            "('n03729826', 'matchstick', 0.04931123)\n",
            "('n01930112', 'nematode', 0.03925421)\n",
            "x.shape after preprocess_input  (1, 224, 224, 3)\n",
            "shape of predictions  (1, 1000)\n",
            "('n06359193', 'web_site', 0.04977092)\n",
            "('n03729826', 'matchstick', 0.04349167)\n",
            "('n01930112', 'nematode', 0.037077386)\n",
            "x.shape after preprocess_input  (1, 224, 224, 3)\n",
            "shape of predictions  (1, 1000)\n",
            "('n06359193', 'web_site', 0.07728687)\n",
            "('n03729826', 'matchstick', 0.05326303)\n",
            "('n01930112', 'nematode', 0.04264376)\n",
            "x.shape after preprocess_input  (1, 224, 224, 3)\n",
            "shape of predictions  (1, 1000)\n",
            "('n06359193', 'web_site', 0.047896814)\n",
            "('n03729826', 'matchstick', 0.04274082)\n",
            "('n01930112', 'nematode', 0.03403591)\n",
            "x.shape after preprocess_input  (1, 224, 224, 3)\n",
            "shape of predictions  (1, 1000)\n",
            "('n06359193', 'web_site', 0.049954217)\n",
            "('n03729826', 'matchstick', 0.04461635)\n",
            "('n01930112', 'nematode', 0.035435684)\n",
            "x.shape after preprocess_input  (1, 224, 224, 3)\n",
            "shape of predictions  (1, 1000)\n",
            "('n06359193', 'web_site', 0.043555696)\n",
            "('n03729826', 'matchstick', 0.037560716)\n",
            "('n01930112', 'nematode', 0.03279561)\n",
            "x.shape after preprocess_input  (1, 224, 224, 3)\n",
            "shape of predictions  (1, 1000)\n",
            "('n06359193', 'web_site', 0.053595323)\n",
            "('n03729826', 'matchstick', 0.03874997)\n",
            "('n01930112', 'nematode', 0.0335878)\n",
            "x.shape after preprocess_input  (1, 224, 224, 3)\n",
            "shape of predictions  (1, 1000)\n",
            "('n06359193', 'web_site', 0.059877973)\n",
            "('n03729826', 'matchstick', 0.04977759)\n",
            "('n01930112', 'nematode', 0.039865024)\n",
            "x.shape after preprocess_input  (1, 224, 224, 3)\n",
            "shape of predictions  (1, 1000)\n",
            "('n06359193', 'web_site', 0.05848255)\n",
            "('n03729826', 'matchstick', 0.04165308)\n",
            "('n01930112', 'nematode', 0.037182387)\n"
          ]
        },
        {
          "data": {
            "text/plain": [
              "[False,\n",
              " False,\n",
              " False,\n",
              " False,\n",
              " False,\n",
              " False,\n",
              " False,\n",
              " False,\n",
              " False,\n",
              " False,\n",
              " False,\n",
              " False,\n",
              " False,\n",
              " False,\n",
              " False]"
            ]
          },
          "execution_count": 25,
          "metadata": {},
          "output_type": "execute_result"
        }
      ],
      "source": [
        "image_results = [img_contains_frog(image) for image in image_list]\n",
        "image_results"
      ]
    },
    {
      "cell_type": "code",
      "execution_count": null,
      "metadata": {
        "id": "6zd0SQNvebzd",
        "nbgrader": {
          "grade": true,
          "grade_id": "cell-6e0982cb9f7775ef",
          "locked": true,
          "points": 1,
          "schema_version": 3,
          "solution": false,
          "task": false
        }
      },
      "outputs": [],
      "source": [
        "### HIDDEN TESTS\n",
        "assert resnet_model.get_config()[\"name\"] == \"resnet50v2\", \"Did you instantiate the resnet model?\"\n",
        "### END HIDDEN TESTS"
      ]
    },
    {
      "cell_type": "markdown",
      "metadata": {
        "id": "_Hoqe3mM_Mtc",
        "nbgrader": {
          "grade": false,
          "grade_id": "cell-cab247d3a860b0e4",
          "locked": true,
          "schema_version": 3,
          "solution": false,
          "task": false
        }
      },
      "source": [
        "## Congratulations! \n",
        "\n",
        "Thank you for your hard work, and [congratulations](https://giphy.com/embed/26xivLqkv86uJzqWk)!!! You've learned a lot, and you should proudly call yourself a Data Scientist.\n"
      ]
    }
  ],
  "metadata": {
    "accelerator": "GPU",
    "celltoolbar": "Create Assignment",
    "colab": {
      "name": "DS_Unit_4_Sprint_Challenge_3_AG.ipynb",
      "provenance": []
    },
    "kernel_info": {
      "name": "u4-s3-dnn"
    },
    "kernelspec": {
      "display_name": "Python 3",
      "language": "python",
      "name": "python3"
    },
    "language_info": {
      "codemirror_mode": {
        "name": "ipython",
        "version": 3
      },
      "file_extension": ".py",
      "mimetype": "text/x-python",
      "name": "python",
      "nbconvert_exporter": "python",
      "pygments_lexer": "ipython3",
      "version": "3.10.2"
    },
    "nteract": {
      "version": "0.22.4"
    }
  },
  "nbformat": 4,
  "nbformat_minor": 0
}