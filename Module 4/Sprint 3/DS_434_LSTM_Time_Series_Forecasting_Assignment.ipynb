{
  "nbformat": 4,
  "nbformat_minor": 0,
  "metadata": {
    "kernelspec": {
      "display_name": "Python 3",
      "language": "python",
      "name": "python3"
    },
    "language_info": {
      "codemirror_mode": {
        "name": "ipython",
        "version": 3
      },
      "file_extension": ".py",
      "mimetype": "text/x-python",
      "name": "python",
      "nbconvert_exporter": "python",
      "pygments_lexer": "ipython3",
      "version": "3.8.5"
    },
    "colab": {
      "name": "DS_434_LSTM_Time_Series_Forecasting_Assignment.ipynb",
      "provenance": []
    },
    "accelerator": "GPU"
  },
  "cells": [
    {
      "cell_type": "markdown",
      "metadata": {
        "id": "escja7w8f-fb"
      },
      "source": [
        "# Time Series Forecasting Assignment \n",
        "For Part 1, Choose _either_ Option A or Option B <br>\n",
        "For Part 2, Find a time series (either univariate, or multivariate) and apply the time series methods from Part 1 to analyze it. \n"
      ]
    },
    {
      "cell_type": "markdown",
      "metadata": {
        "id": "pNCV46z7ze_-"
      },
      "source": [
        "## Part 1, Option A: Software Engineering (1.5 to 2 hours max)\n",
        "Write a `ForecastingToolkit` class \n",
        "that packages up the workflow of time series forecasting, that we learned from today's Lecture Notebook. Add any desired \"bells and whistles\" to make it even better!\n"
      ]
    },
    {
      "cell_type": "code",
      "metadata": {
        "id": "D-TiyUuxf-fe"
      },
      "source": [
        "import numpy as np\n",
        "import matplotlib.pyplot as plt\n",
        "import seaborn as sns\n",
        "import pandas as pd\n",
        "from pandas import read_csv\n",
        "import math\n",
        "from keras.models import Sequential\n",
        "from keras.layers import Dense\n",
        "from keras.layers import LSTM\n",
        "from sklearn.preprocessing import MinMaxScaler\n",
        "from sklearn.metrics import mean_squared_error\n",
        "from keras.layers.core import Dense, Activation, Dropout\n",
        "import time #helper libraries\n",
        "from tensorflow.keras import regularizers\n",
        "\n",
        "class ForecastingToolkit(object):\n",
        "    def __init__(self, df = None, model = None):\n",
        "        \"\"\"\n",
        "        Variables that we passed into our functions should now be defined \n",
        "        as class attributes, i.e. class variables. \n",
        "        \"\"\"\n",
        "        # here are a few to get you started \n",
        "        \n",
        "        # store data here\n",
        "        self.df = df\n",
        "        \n",
        "        # store your forecasting model here\n",
        "        self.model = model\n",
        "        \n",
        "        # store feature scalers here\n",
        "        self.scaler_dict = None\n",
        "        \n",
        "        # store the training results of your model here\n",
        "        self.history = None\n",
        "    \n",
        "    def load_transform_data(self):\n",
        "        pass\n",
        "    \n",
        "    def scale_data(self):\n",
        "        pass\n",
        "    \n",
        "    def invert_scaling(self):\n",
        "        pass\n",
        "    \n",
        "    def create_dataset(self):\n",
        "        pass\n",
        "    \n",
        "    def create_train_test_split(self,):\n",
        "        pass\n",
        "    \n",
        "    def build_model(self):\n",
        "        pass\n",
        "    \n",
        "    def fit_model(self):\n",
        "        pass\n",
        "    \n",
        "    def predict(self):\n",
        "        pass\n",
        "    \n",
        "    def plot_model_loss_metrics(self):\n",
        "        pass\n",
        "    "
      ],
      "execution_count": null,
      "outputs": []
    },
    {
      "cell_type": "markdown",
      "metadata": {
        "id": "u1JmDnpsf-fg"
      },
      "source": [
        "----"
      ]
    },
    {
      "cell_type": "code",
      "metadata": {
        "id": "PNwtm_gif-fh"
      },
      "source": [
        "# once you've completed your class, you'll be able to perform a many operations with just a few lines of code!\n",
        "tstk = ForecastingToolkit()\n",
        "tstk.load_transform_data()\n",
        "tstk.scale_data()\n",
        "tstk.build_model()\n",
        "tstk.fit_model()\n",
        "tstk.plot_model_loss_metrics()"
      ],
      "execution_count": null,
      "outputs": []
    },
    {
      "cell_type": "markdown",
      "metadata": {
        "id": "xTSBKEeO1OUj"
      },
      "source": [
        "## Part 1, Option B: A Deeper Dive in Time-Series Forecasting (1.5 to 2 hours max)"
      ]
    },
    {
      "cell_type": "markdown",
      "metadata": {
        "id": "K1DzfWdH1db7"
      },
      "source": [
        "Work through this notebook [time_series_forecasting](https://drive.google.com/file/d/1RgyaO9zuZ90vWEzQWo1iVip1Me7oiHiO/view?usp=sharing), which compares a number of forecasting methods and in the end finds that 1 Dimensional Convolutional Neural Networks is even better than LSTMs!"
      ]
    },
    {
      "cell_type": "markdown",
      "metadata": {
        "id": "NPDmGGop7pex"
      },
      "source": [
        "## Part 2 Time series forecasting on a real data set (2 hours max)\n",
        "Use one or more time series forecasting methods (from either Part 1A or Part 1B) to make forecasts on a real time series data set.<br> If time permits, perform hyperparameter tuning to make the forecasts as good as possible. <br>Report the MAE (mean absolute error) of your forecast, and compare to a naive baseline model. <br>Are you getting good forecasts? Why or why not? "
      ]
    },
    {
      "cell_type": "markdown",
      "metadata": {
        "id": "58Inlb9IBwnK"
      },
      "source": [
        "## Time Series Data Sets"
      ]
    },
    {
      "cell_type": "markdown",
      "metadata": {
        "id": "PoMXVtK3_a7b"
      },
      "source": [
        "Here are a half-dozen or so datasets you could choose from: [7 Time Series Datasets for Machine Learning](https://machinelearningmastery.com/time-series-datasets-for-machine-learning/)<br>\n",
        "\n",
        "OR: Freely available time series data is plentiful on the WWW. \n",
        "Feel free to choose any time series data set of interest!"
      ]
    },
    {
      "cell_type": "markdown",
      "metadata": {
        "id": "DjCU5qQDmCVf"
      },
      "source": [
        "## Your Time Series Forecasting Code\n",
        "Describe the time series forecasting problem you will solve, and which method you will use."
      ]
    },
    {
      "cell_type": "code",
      "metadata": {
        "id": "pHFjtQ8QmFvm"
      },
      "source": [
        "## YOUR CODE HERE"
      ],
      "execution_count": null,
      "outputs": []
    }
  ]
}