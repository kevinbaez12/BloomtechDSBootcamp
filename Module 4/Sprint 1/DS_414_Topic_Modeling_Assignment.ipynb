{
  "nbformat": 4,
  "nbformat_minor": 0,
  "metadata": {
    "kernelspec": {
      "name": "python3",
      "display_name": "Python 3"
    },
    "colab": {
      "name": "DS_414_Topic_Modeling_Assignment.ipynb",
      "provenance": []
    },
    "language_info": {
      "name": "python"
    },
    "accelerator": "GPU"
  },
  "cells": [
    {
      "cell_type": "markdown",
      "metadata": {
        "id": "5utTU63WzGd3"
      },
      "source": [
        "# Topic Modeling\n",
        "## *Data Science Unit 4 Sprint 1 Assignment 4*\n",
        "\n",
        "\n",
        "![](https://drive.google.com/uc?export=view&id=1Aze8Xe_ZZpV22IwFNUH09T2howHmF1AK)\n",
        "\n",
        "[Image Credit: slides from Ben Mabey](https://speakerdeck.com/bmabey/visualizing-topic-models)\n",
        "\n",
        "Apply Topic Modeling to Analyze a corpus of Amazon reviews\n",
        "\n",
        "- Load in the Amazon Review dataset\n",
        "- Clean the dataset \n",
        "- Vectorize the dataset \n",
        "- Fit a Gensim LDA topic model on Amazon Reviews\n",
        "- Select appropriate number of topics\n",
        "- Create some dope visualization of the topics\n",
        "- Write a few bullets on your findings in markdown at the end"
      ]
    },
    {
      "cell_type": "code",
      "metadata": {
        "colab": {
          "base_uri": "https://localhost:8080/"
        },
        "id": "X0x7DXmr8zYE",
        "outputId": "7da7eb13-5ade-403a-827e-cac2990a4fad"
      },
      "source": [
        "!pip install pyLDAvis==3.3.1"
      ],
      "execution_count": null,
      "outputs": [
        {
          "output_type": "stream",
          "name": "stdout",
          "text": [
            "Requirement already satisfied: pyLDAvis==3.3.1 in /usr/local/lib/python3.7/dist-packages (3.3.1)\n",
            "Requirement already satisfied: sklearn in /usr/local/lib/python3.7/dist-packages (from pyLDAvis==3.3.1) (0.0)\n",
            "Requirement already satisfied: numpy>=1.20.0 in /usr/local/lib/python3.7/dist-packages (from pyLDAvis==3.3.1) (1.21.5)\n",
            "Requirement already satisfied: setuptools in /usr/local/lib/python3.7/dist-packages (from pyLDAvis==3.3.1) (57.4.0)\n",
            "Requirement already satisfied: pandas>=1.2.0 in /usr/local/lib/python3.7/dist-packages (from pyLDAvis==3.3.1) (1.3.5)\n",
            "Requirement already satisfied: scikit-learn in /usr/local/lib/python3.7/dist-packages (from pyLDAvis==3.3.1) (1.0.2)\n",
            "Requirement already satisfied: future in /usr/local/lib/python3.7/dist-packages (from pyLDAvis==3.3.1) (0.16.0)\n",
            "Requirement already satisfied: funcy in /usr/local/lib/python3.7/dist-packages (from pyLDAvis==3.3.1) (1.17)\n",
            "Requirement already satisfied: numexpr in /usr/local/lib/python3.7/dist-packages (from pyLDAvis==3.3.1) (2.8.1)\n",
            "Requirement already satisfied: gensim in /usr/local/lib/python3.7/dist-packages (from pyLDAvis==3.3.1) (3.6.0)\n",
            "Requirement already satisfied: joblib in /usr/local/lib/python3.7/dist-packages (from pyLDAvis==3.3.1) (1.1.0)\n",
            "Requirement already satisfied: jinja2 in /usr/local/lib/python3.7/dist-packages (from pyLDAvis==3.3.1) (2.11.3)\n",
            "Requirement already satisfied: scipy in /usr/local/lib/python3.7/dist-packages (from pyLDAvis==3.3.1) (1.4.1)\n",
            "Requirement already satisfied: python-dateutil>=2.7.3 in /usr/local/lib/python3.7/dist-packages (from pandas>=1.2.0->pyLDAvis==3.3.1) (2.8.2)\n",
            "Requirement already satisfied: pytz>=2017.3 in /usr/local/lib/python3.7/dist-packages (from pandas>=1.2.0->pyLDAvis==3.3.1) (2018.9)\n",
            "Requirement already satisfied: six>=1.5 in /usr/local/lib/python3.7/dist-packages (from python-dateutil>=2.7.3->pandas>=1.2.0->pyLDAvis==3.3.1) (1.15.0)\n",
            "Requirement already satisfied: smart-open>=1.2.1 in /usr/local/lib/python3.7/dist-packages (from gensim->pyLDAvis==3.3.1) (5.2.1)\n",
            "Requirement already satisfied: MarkupSafe>=0.23 in /usr/local/lib/python3.7/dist-packages (from jinja2->pyLDAvis==3.3.1) (2.0.1)\n",
            "Requirement already satisfied: packaging in /usr/local/lib/python3.7/dist-packages (from numexpr->pyLDAvis==3.3.1) (21.3)\n",
            "Requirement already satisfied: pyparsing!=3.0.5,>=2.0.2 in /usr/local/lib/python3.7/dist-packages (from packaging->numexpr->pyLDAvis==3.3.1) (3.0.8)\n",
            "Requirement already satisfied: threadpoolctl>=2.0.0 in /usr/local/lib/python3.7/dist-packages (from scikit-learn->pyLDAvis==3.3.1) (3.1.0)\n"
          ]
        }
      ]
    },
    {
      "cell_type": "code",
      "metadata": {
        "colab": {
          "base_uri": "https://localhost:8080/"
        },
        "id": "uQGwb9xbFKIr",
        "outputId": "63d7a2ef-3d38-440f-a622-ef7ad1b32446"
      },
      "source": [
        "!pip install pandarallel==1.4.8"
      ],
      "execution_count": null,
      "outputs": [
        {
          "output_type": "stream",
          "name": "stdout",
          "text": [
            "Requirement already satisfied: pandarallel==1.4.8 in /usr/local/lib/python3.7/dist-packages (1.4.8)\n",
            "Requirement already satisfied: dill in /usr/local/lib/python3.7/dist-packages (from pandarallel==1.4.8) (0.3.4)\n"
          ]
        }
      ]
    },
    {
      "cell_type": "code",
      "metadata": {
        "id": "nUPIrjOB_-BR",
        "colab": {
          "base_uri": "https://localhost:8080/"
        },
        "outputId": "5ab864bf-0d0a-442e-8b7e-068f3942bdf2"
      },
      "source": [
        "!python -m spacy download en_core_web_md"
      ],
      "execution_count": null,
      "outputs": [
        {
          "output_type": "stream",
          "name": "stdout",
          "text": [
            "Collecting en_core_web_md==2.2.5\n",
            "  Downloading https://github.com/explosion/spacy-models/releases/download/en_core_web_md-2.2.5/en_core_web_md-2.2.5.tar.gz (96.4 MB)\n",
            "\u001b[K     |████████████████████████████████| 96.4 MB 1.3 MB/s \n",
            "\u001b[?25hRequirement already satisfied: spacy>=2.2.2 in /usr/local/lib/python3.7/dist-packages (from en_core_web_md==2.2.5) (2.2.4)\n",
            "Requirement already satisfied: murmurhash<1.1.0,>=0.28.0 in /usr/local/lib/python3.7/dist-packages (from spacy>=2.2.2->en_core_web_md==2.2.5) (1.0.6)\n",
            "Requirement already satisfied: wasabi<1.1.0,>=0.4.0 in /usr/local/lib/python3.7/dist-packages (from spacy>=2.2.2->en_core_web_md==2.2.5) (0.9.1)\n",
            "Requirement already satisfied: requests<3.0.0,>=2.13.0 in /usr/local/lib/python3.7/dist-packages (from spacy>=2.2.2->en_core_web_md==2.2.5) (2.23.0)\n",
            "Requirement already satisfied: srsly<1.1.0,>=1.0.2 in /usr/local/lib/python3.7/dist-packages (from spacy>=2.2.2->en_core_web_md==2.2.5) (1.0.5)\n",
            "Requirement already satisfied: setuptools in /usr/local/lib/python3.7/dist-packages (from spacy>=2.2.2->en_core_web_md==2.2.5) (57.4.0)\n",
            "Requirement already satisfied: cymem<2.1.0,>=2.0.2 in /usr/local/lib/python3.7/dist-packages (from spacy>=2.2.2->en_core_web_md==2.2.5) (2.0.6)\n",
            "Requirement already satisfied: plac<1.2.0,>=0.9.6 in /usr/local/lib/python3.7/dist-packages (from spacy>=2.2.2->en_core_web_md==2.2.5) (1.1.3)\n",
            "Requirement already satisfied: numpy>=1.15.0 in /usr/local/lib/python3.7/dist-packages (from spacy>=2.2.2->en_core_web_md==2.2.5) (1.21.5)\n",
            "Requirement already satisfied: tqdm<5.0.0,>=4.38.0 in /usr/local/lib/python3.7/dist-packages (from spacy>=2.2.2->en_core_web_md==2.2.5) (4.64.0)\n",
            "Requirement already satisfied: blis<0.5.0,>=0.4.0 in /usr/local/lib/python3.7/dist-packages (from spacy>=2.2.2->en_core_web_md==2.2.5) (0.4.1)\n",
            "Requirement already satisfied: thinc==7.4.0 in /usr/local/lib/python3.7/dist-packages (from spacy>=2.2.2->en_core_web_md==2.2.5) (7.4.0)\n",
            "Requirement already satisfied: preshed<3.1.0,>=3.0.2 in /usr/local/lib/python3.7/dist-packages (from spacy>=2.2.2->en_core_web_md==2.2.5) (3.0.6)\n",
            "Requirement already satisfied: catalogue<1.1.0,>=0.0.7 in /usr/local/lib/python3.7/dist-packages (from spacy>=2.2.2->en_core_web_md==2.2.5) (1.0.0)\n",
            "Requirement already satisfied: importlib-metadata>=0.20 in /usr/local/lib/python3.7/dist-packages (from catalogue<1.1.0,>=0.0.7->spacy>=2.2.2->en_core_web_md==2.2.5) (4.11.3)\n",
            "Requirement already satisfied: zipp>=0.5 in /usr/local/lib/python3.7/dist-packages (from importlib-metadata>=0.20->catalogue<1.1.0,>=0.0.7->spacy>=2.2.2->en_core_web_md==2.2.5) (3.8.0)\n",
            "Requirement already satisfied: typing-extensions>=3.6.4 in /usr/local/lib/python3.7/dist-packages (from importlib-metadata>=0.20->catalogue<1.1.0,>=0.0.7->spacy>=2.2.2->en_core_web_md==2.2.5) (4.1.1)\n",
            "Requirement already satisfied: certifi>=2017.4.17 in /usr/local/lib/python3.7/dist-packages (from requests<3.0.0,>=2.13.0->spacy>=2.2.2->en_core_web_md==2.2.5) (2021.10.8)\n",
            "Requirement already satisfied: idna<3,>=2.5 in /usr/local/lib/python3.7/dist-packages (from requests<3.0.0,>=2.13.0->spacy>=2.2.2->en_core_web_md==2.2.5) (2.10)\n",
            "Requirement already satisfied: chardet<4,>=3.0.2 in /usr/local/lib/python3.7/dist-packages (from requests<3.0.0,>=2.13.0->spacy>=2.2.2->en_core_web_md==2.2.5) (3.0.4)\n",
            "Requirement already satisfied: urllib3!=1.25.0,!=1.25.1,<1.26,>=1.21.1 in /usr/local/lib/python3.7/dist-packages (from requests<3.0.0,>=2.13.0->spacy>=2.2.2->en_core_web_md==2.2.5) (1.24.3)\n",
            "\u001b[38;5;2m✔ Download and installation successful\u001b[0m\n",
            "You can now load the model via spacy.load('en_core_web_md')\n"
          ]
        }
      ]
    },
    {
      "cell_type": "code",
      "source": [
        "!wget https://raw.githubusercontent.com/LambdaSchool/DS-Unit-4-Sprint-1-NLP/main/requirements.txt\n",
        "!pip install -r requirements.txt"
      ],
      "metadata": {
        "colab": {
          "base_uri": "https://localhost:8080/",
          "height": 1000
        },
        "id": "3p4JTaoS5BB3",
        "outputId": "7c05e182-0d30-4ff2-90b0-672addeebb27"
      },
      "execution_count": null,
      "outputs": [
        {
          "output_type": "stream",
          "name": "stdout",
          "text": [
            "--2022-04-14 21:04:16--  https://raw.githubusercontent.com/LambdaSchool/DS-Unit-4-Sprint-1-NLP/main/requirements.txt\n",
            "Resolving raw.githubusercontent.com (raw.githubusercontent.com)... 185.199.109.133, 185.199.110.133, 185.199.108.133, ...\n",
            "Connecting to raw.githubusercontent.com (raw.githubusercontent.com)|185.199.109.133|:443... connected.\n",
            "HTTP request sent, awaiting response... 200 OK\n",
            "Length: 149 [text/plain]\n",
            "Saving to: ‘requirements.txt’\n",
            "\n",
            "\rrequirements.txt      0%[                    ]       0  --.-KB/s               \rrequirements.txt    100%[===================>]     149  --.-KB/s    in 0s      \n",
            "\n",
            "2022-04-14 21:04:16 (6.37 MB/s) - ‘requirements.txt’ saved [149/149]\n",
            "\n",
            "Collecting gensim==3.8.1\n",
            "  Downloading gensim-3.8.1-cp37-cp37m-manylinux1_x86_64.whl (24.2 MB)\n",
            "\u001b[K     |████████████████████████████████| 24.2 MB 1.3 MB/s \n",
            "\u001b[?25hCollecting pyLDAvis==2.1.2\n",
            "  Downloading pyLDAvis-2.1.2.tar.gz (1.6 MB)\n",
            "\u001b[K     |████████████████████████████████| 1.6 MB 38.6 MB/s \n",
            "\u001b[?25hCollecting spacy==2.2.3\n",
            "  Downloading spacy-2.2.3-cp37-cp37m-manylinux1_x86_64.whl (10.4 MB)\n",
            "\u001b[K     |████████████████████████████████| 10.4 MB 35.6 MB/s \n",
            "\u001b[?25hCollecting scikit-learn==0.22.2\n",
            "  Downloading scikit_learn-0.22.2-cp37-cp37m-manylinux1_x86_64.whl (7.1 MB)\n",
            "\u001b[K     |████████████████████████████████| 7.1 MB 37.1 MB/s \n",
            "\u001b[?25hCollecting seaborn==0.9.0\n",
            "  Downloading seaborn-0.9.0-py3-none-any.whl (208 kB)\n",
            "\u001b[K     |████████████████████████████████| 208 kB 49.4 MB/s \n",
            "\u001b[?25hCollecting squarify==0.4.3\n",
            "  Downloading squarify-0.4.3-py3-none-any.whl (4.3 kB)\n",
            "Requirement already satisfied: ipykernel in /usr/local/lib/python3.7/dist-packages (from -r requirements.txt (line 7)) (4.10.1)\n",
            "Requirement already satisfied: nltk in /usr/local/lib/python3.7/dist-packages (from -r requirements.txt (line 8)) (3.2.5)\n",
            "Requirement already satisfied: pandas in /usr/local/lib/python3.7/dist-packages (from -r requirements.txt (line 9)) (1.3.5)\n",
            "Requirement already satisfied: scipy in /usr/local/lib/python3.7/dist-packages (from -r requirements.txt (line 10)) (1.4.1)\n",
            "Requirement already satisfied: beautifulsoup4 in /usr/local/lib/python3.7/dist-packages (from -r requirements.txt (line 11)) (4.6.3)\n",
            "Requirement already satisfied: pandarallel in /usr/local/lib/python3.7/dist-packages (from -r requirements.txt (line 12)) (1.4.8)\n",
            "Requirement already satisfied: numpy>=1.11.3 in /usr/local/lib/python3.7/dist-packages (from gensim==3.8.1->-r requirements.txt (line 1)) (1.21.5)\n",
            "Requirement already satisfied: six>=1.5.0 in /usr/local/lib/python3.7/dist-packages (from gensim==3.8.1->-r requirements.txt (line 1)) (1.15.0)\n",
            "Requirement already satisfied: smart-open>=1.8.1 in /usr/local/lib/python3.7/dist-packages (from gensim==3.8.1->-r requirements.txt (line 1)) (5.2.1)\n",
            "Requirement already satisfied: wheel>=0.23.0 in /usr/local/lib/python3.7/dist-packages (from pyLDAvis==2.1.2->-r requirements.txt (line 2)) (0.37.1)\n",
            "Requirement already satisfied: joblib>=0.8.4 in /usr/local/lib/python3.7/dist-packages (from pyLDAvis==2.1.2->-r requirements.txt (line 2)) (1.1.0)\n",
            "Requirement already satisfied: jinja2>=2.7.2 in /usr/local/lib/python3.7/dist-packages (from pyLDAvis==2.1.2->-r requirements.txt (line 2)) (2.11.3)\n",
            "Requirement already satisfied: numexpr in /usr/local/lib/python3.7/dist-packages (from pyLDAvis==2.1.2->-r requirements.txt (line 2)) (2.8.1)\n",
            "Requirement already satisfied: pytest in /usr/local/lib/python3.7/dist-packages (from pyLDAvis==2.1.2->-r requirements.txt (line 2)) (3.6.4)\n",
            "Requirement already satisfied: future in /usr/local/lib/python3.7/dist-packages (from pyLDAvis==2.1.2->-r requirements.txt (line 2)) (0.16.0)\n",
            "Requirement already satisfied: funcy in /usr/local/lib/python3.7/dist-packages (from pyLDAvis==2.1.2->-r requirements.txt (line 2)) (1.17)\n",
            "Requirement already satisfied: requests<3.0.0,>=2.13.0 in /usr/local/lib/python3.7/dist-packages (from spacy==2.2.3->-r requirements.txt (line 3)) (2.23.0)\n",
            "Requirement already satisfied: wasabi<1.1.0,>=0.4.0 in /usr/local/lib/python3.7/dist-packages (from spacy==2.2.3->-r requirements.txt (line 3)) (0.9.1)\n",
            "Requirement already satisfied: cymem<2.1.0,>=2.0.2 in /usr/local/lib/python3.7/dist-packages (from spacy==2.2.3->-r requirements.txt (line 3)) (2.0.6)\n",
            "Requirement already satisfied: murmurhash<1.1.0,>=0.28.0 in /usr/local/lib/python3.7/dist-packages (from spacy==2.2.3->-r requirements.txt (line 3)) (1.0.6)\n",
            "Requirement already satisfied: setuptools in /usr/local/lib/python3.7/dist-packages (from spacy==2.2.3->-r requirements.txt (line 3)) (57.4.0)\n",
            "Requirement already satisfied: plac<1.2.0,>=0.9.6 in /usr/local/lib/python3.7/dist-packages (from spacy==2.2.3->-r requirements.txt (line 3)) (1.1.3)\n",
            "Requirement already satisfied: preshed<3.1.0,>=3.0.2 in /usr/local/lib/python3.7/dist-packages (from spacy==2.2.3->-r requirements.txt (line 3)) (3.0.6)\n",
            "Requirement already satisfied: blis<0.5.0,>=0.4.0 in /usr/local/lib/python3.7/dist-packages (from spacy==2.2.3->-r requirements.txt (line 3)) (0.4.1)\n",
            "Collecting thinc<7.4.0,>=7.3.0\n",
            "  Downloading thinc-7.3.1-cp37-cp37m-manylinux1_x86_64.whl (2.2 MB)\n",
            "\u001b[K     |████████████████████████████████| 2.2 MB 39.2 MB/s \n",
            "\u001b[?25hRequirement already satisfied: catalogue<1.1.0,>=0.0.7 in /usr/local/lib/python3.7/dist-packages (from spacy==2.2.3->-r requirements.txt (line 3)) (1.0.0)\n",
            "Requirement already satisfied: srsly<1.1.0,>=0.1.0 in /usr/local/lib/python3.7/dist-packages (from spacy==2.2.3->-r requirements.txt (line 3)) (1.0.5)\n",
            "Requirement already satisfied: matplotlib>=1.4.3 in /usr/local/lib/python3.7/dist-packages (from seaborn==0.9.0->-r requirements.txt (line 5)) (3.2.2)\n",
            "Requirement already satisfied: pytz>=2017.3 in /usr/local/lib/python3.7/dist-packages (from pandas->-r requirements.txt (line 9)) (2018.9)\n",
            "Requirement already satisfied: python-dateutil>=2.7.3 in /usr/local/lib/python3.7/dist-packages (from pandas->-r requirements.txt (line 9)) (2.8.2)\n",
            "Requirement already satisfied: importlib-metadata>=0.20 in /usr/local/lib/python3.7/dist-packages (from catalogue<1.1.0,>=0.0.7->spacy==2.2.3->-r requirements.txt (line 3)) (4.11.3)\n",
            "Requirement already satisfied: zipp>=0.5 in /usr/local/lib/python3.7/dist-packages (from importlib-metadata>=0.20->catalogue<1.1.0,>=0.0.7->spacy==2.2.3->-r requirements.txt (line 3)) (3.8.0)\n",
            "Requirement already satisfied: typing-extensions>=3.6.4 in /usr/local/lib/python3.7/dist-packages (from importlib-metadata>=0.20->catalogue<1.1.0,>=0.0.7->spacy==2.2.3->-r requirements.txt (line 3)) (4.1.1)\n",
            "Requirement already satisfied: MarkupSafe>=0.23 in /usr/local/lib/python3.7/dist-packages (from jinja2>=2.7.2->pyLDAvis==2.1.2->-r requirements.txt (line 2)) (2.0.1)\n",
            "Requirement already satisfied: pyparsing!=2.0.4,!=2.1.2,!=2.1.6,>=2.0.1 in /usr/local/lib/python3.7/dist-packages (from matplotlib>=1.4.3->seaborn==0.9.0->-r requirements.txt (line 5)) (3.0.8)\n",
            "Requirement already satisfied: kiwisolver>=1.0.1 in /usr/local/lib/python3.7/dist-packages (from matplotlib>=1.4.3->seaborn==0.9.0->-r requirements.txt (line 5)) (1.4.2)\n",
            "Requirement already satisfied: cycler>=0.10 in /usr/local/lib/python3.7/dist-packages (from matplotlib>=1.4.3->seaborn==0.9.0->-r requirements.txt (line 5)) (0.11.0)\n",
            "Requirement already satisfied: idna<3,>=2.5 in /usr/local/lib/python3.7/dist-packages (from requests<3.0.0,>=2.13.0->spacy==2.2.3->-r requirements.txt (line 3)) (2.10)\n",
            "Requirement already satisfied: urllib3!=1.25.0,!=1.25.1,<1.26,>=1.21.1 in /usr/local/lib/python3.7/dist-packages (from requests<3.0.0,>=2.13.0->spacy==2.2.3->-r requirements.txt (line 3)) (1.24.3)\n",
            "Requirement already satisfied: chardet<4,>=3.0.2 in /usr/local/lib/python3.7/dist-packages (from requests<3.0.0,>=2.13.0->spacy==2.2.3->-r requirements.txt (line 3)) (3.0.4)\n",
            "Requirement already satisfied: certifi>=2017.4.17 in /usr/local/lib/python3.7/dist-packages (from requests<3.0.0,>=2.13.0->spacy==2.2.3->-r requirements.txt (line 3)) (2021.10.8)\n",
            "Requirement already satisfied: tqdm<5.0.0,>=4.10.0 in /usr/local/lib/python3.7/dist-packages (from thinc<7.4.0,>=7.3.0->spacy==2.2.3->-r requirements.txt (line 3)) (4.64.0)\n",
            "Requirement already satisfied: ipython>=4.0.0 in /usr/local/lib/python3.7/dist-packages (from ipykernel->-r requirements.txt (line 7)) (5.5.0)\n",
            "Requirement already satisfied: tornado>=4.0 in /usr/local/lib/python3.7/dist-packages (from ipykernel->-r requirements.txt (line 7)) (5.1.1)\n",
            "Requirement already satisfied: jupyter-client in /usr/local/lib/python3.7/dist-packages (from ipykernel->-r requirements.txt (line 7)) (5.3.5)\n",
            "Requirement already satisfied: traitlets>=4.1.0 in /usr/local/lib/python3.7/dist-packages (from ipykernel->-r requirements.txt (line 7)) (5.1.1)\n",
            "Requirement already satisfied: pygments in /usr/local/lib/python3.7/dist-packages (from ipython>=4.0.0->ipykernel->-r requirements.txt (line 7)) (2.6.1)\n",
            "Requirement already satisfied: simplegeneric>0.8 in /usr/local/lib/python3.7/dist-packages (from ipython>=4.0.0->ipykernel->-r requirements.txt (line 7)) (0.8.1)\n",
            "Requirement already satisfied: pickleshare in /usr/local/lib/python3.7/dist-packages (from ipython>=4.0.0->ipykernel->-r requirements.txt (line 7)) (0.7.5)\n",
            "Requirement already satisfied: decorator in /usr/local/lib/python3.7/dist-packages (from ipython>=4.0.0->ipykernel->-r requirements.txt (line 7)) (4.4.2)\n",
            "Requirement already satisfied: prompt-toolkit<2.0.0,>=1.0.4 in /usr/local/lib/python3.7/dist-packages (from ipython>=4.0.0->ipykernel->-r requirements.txt (line 7)) (1.0.18)\n",
            "Requirement already satisfied: pexpect in /usr/local/lib/python3.7/dist-packages (from ipython>=4.0.0->ipykernel->-r requirements.txt (line 7)) (4.8.0)\n",
            "Requirement already satisfied: wcwidth in /usr/local/lib/python3.7/dist-packages (from prompt-toolkit<2.0.0,>=1.0.4->ipython>=4.0.0->ipykernel->-r requirements.txt (line 7)) (0.2.5)\n",
            "Requirement already satisfied: dill in /usr/local/lib/python3.7/dist-packages (from pandarallel->-r requirements.txt (line 12)) (0.3.4)\n",
            "Requirement already satisfied: jupyter-core>=4.6.0 in /usr/local/lib/python3.7/dist-packages (from jupyter-client->ipykernel->-r requirements.txt (line 7)) (4.9.2)\n",
            "Requirement already satisfied: pyzmq>=13 in /usr/local/lib/python3.7/dist-packages (from jupyter-client->ipykernel->-r requirements.txt (line 7)) (22.3.0)\n",
            "Requirement already satisfied: packaging in /usr/local/lib/python3.7/dist-packages (from numexpr->pyLDAvis==2.1.2->-r requirements.txt (line 2)) (21.3)\n",
            "Requirement already satisfied: ptyprocess>=0.5 in /usr/local/lib/python3.7/dist-packages (from pexpect->ipython>=4.0.0->ipykernel->-r requirements.txt (line 7)) (0.7.0)\n",
            "Requirement already satisfied: pluggy<0.8,>=0.5 in /usr/local/lib/python3.7/dist-packages (from pytest->pyLDAvis==2.1.2->-r requirements.txt (line 2)) (0.7.1)\n",
            "Requirement already satisfied: attrs>=17.4.0 in /usr/local/lib/python3.7/dist-packages (from pytest->pyLDAvis==2.1.2->-r requirements.txt (line 2)) (21.4.0)\n",
            "Requirement already satisfied: py>=1.5.0 in /usr/local/lib/python3.7/dist-packages (from pytest->pyLDAvis==2.1.2->-r requirements.txt (line 2)) (1.11.0)\n",
            "Requirement already satisfied: atomicwrites>=1.0 in /usr/local/lib/python3.7/dist-packages (from pytest->pyLDAvis==2.1.2->-r requirements.txt (line 2)) (1.4.0)\n",
            "Requirement already satisfied: more-itertools>=4.0.0 in /usr/local/lib/python3.7/dist-packages (from pytest->pyLDAvis==2.1.2->-r requirements.txt (line 2)) (8.12.0)\n",
            "Building wheels for collected packages: pyLDAvis\n",
            "  Building wheel for pyLDAvis (setup.py) ... \u001b[?25l\u001b[?25hdone\n",
            "  Created wheel for pyLDAvis: filename=pyLDAvis-2.1.2-py2.py3-none-any.whl size=97738 sha256=c84d598b71c0d0730d5629726bbc80cb8816a5fa301d918b188073fe6c0e7226\n",
            "  Stored in directory: /root/.cache/pip/wheels/3b/fb/41/e32e5312da9f440d34c4eff0d2207b46dc9332a7b931ef1e89\n",
            "Successfully built pyLDAvis\n",
            "Installing collected packages: thinc, squarify, spacy, seaborn, scikit-learn, pyLDAvis, gensim\n",
            "  Attempting uninstall: thinc\n",
            "    Found existing installation: thinc 7.4.0\n",
            "    Uninstalling thinc-7.4.0:\n",
            "      Successfully uninstalled thinc-7.4.0\n",
            "  Attempting uninstall: spacy\n",
            "    Found existing installation: spacy 2.2.4\n",
            "    Uninstalling spacy-2.2.4:\n",
            "      Successfully uninstalled spacy-2.2.4\n",
            "  Attempting uninstall: seaborn\n",
            "    Found existing installation: seaborn 0.11.2\n",
            "    Uninstalling seaborn-0.11.2:\n",
            "      Successfully uninstalled seaborn-0.11.2\n",
            "  Attempting uninstall: scikit-learn\n",
            "    Found existing installation: scikit-learn 1.0.2\n",
            "    Uninstalling scikit-learn-1.0.2:\n",
            "      Successfully uninstalled scikit-learn-1.0.2\n",
            "  Attempting uninstall: pyLDAvis\n",
            "    Found existing installation: pyLDAvis 3.3.1\n",
            "    Uninstalling pyLDAvis-3.3.1:\n",
            "      Successfully uninstalled pyLDAvis-3.3.1\n",
            "  Attempting uninstall: gensim\n",
            "    Found existing installation: gensim 3.6.0\n",
            "    Uninstalling gensim-3.6.0:\n",
            "      Successfully uninstalled gensim-3.6.0\n",
            "\u001b[31mERROR: pip's dependency resolver does not currently take into account all the packages that are installed. This behaviour is the source of the following dependency conflicts.\n",
            "yellowbrick 1.4 requires scikit-learn>=1.0.0, but you have scikit-learn 0.22.2 which is incompatible.\n",
            "imbalanced-learn 0.8.1 requires scikit-learn>=0.24, but you have scikit-learn 0.22.2 which is incompatible.\u001b[0m\n",
            "Successfully installed gensim-3.8.1 pyLDAvis-2.1.2 scikit-learn-0.22.2 seaborn-0.9.0 spacy-2.2.3 squarify-0.4.3 thinc-7.3.1\n"
          ]
        },
        {
          "output_type": "display_data",
          "data": {
            "application/vnd.colab-display-data+json": {
              "pip_warning": {
                "packages": [
                  "gensim",
                  "pyLDAvis",
                  "sklearn",
                  "spacy",
                  "thinc"
                ]
              }
            }
          },
          "metadata": {}
        }
      ]
    },
    {
      "cell_type": "markdown",
      "metadata": {
        "id": "isyLmOAZqYR0"
      },
      "source": [
        "## Restart runtime!"
      ]
    },
    {
      "cell_type": "code",
      "metadata": {
        "id": "rXrXC0mrzGd5",
        "colab": {
          "base_uri": "https://localhost:8080/"
        },
        "outputId": "650ebfbd-dc2e-491d-ade4-44e066b16c86"
      },
      "source": [
        "import re\n",
        "import pandas as pd\n",
        "import numpy as np\n",
        "import matplotlib.pyplot as plt\n",
        "from sklearn.feature_extraction.text import CountVectorizer, TfidfVectorizer\n",
        "\n",
        "import spacy\n",
        "spacy.util.fix_random_seed(0)\n",
        "\n",
        "import pyLDAvis\n",
        "import pyLDAvis.gensim_models \n",
        "\n",
        "import gensim\n",
        "import gensim.corpora as corpora\n",
        "from gensim.utils import simple_preprocess\n",
        "from gensim.models import CoherenceModel\n",
        "from gensim.parsing.preprocessing import STOPWORDS\n",
        "\n",
        "from pandarallel import pandarallel\n",
        "\n",
        "%matplotlib inline\n",
        "\n",
        "import warnings\n",
        "warnings.filterwarnings(\"ignore\")"
      ],
      "execution_count": null,
      "outputs": [
        {
          "output_type": "stream",
          "name": "stderr",
          "text": [
            "/usr/local/lib/python3.7/dist-packages/past/types/oldstr.py:5: DeprecationWarning: Using or importing the ABCs from 'collections' instead of from 'collections.abc' is deprecated since Python 3.3,and in 3.9 it will stop working\n",
            "  from collections import Iterable\n",
            "/usr/local/lib/python3.7/dist-packages/past/builtins/misc.py:4: DeprecationWarning: Using or importing the ABCs from 'collections' instead of from 'collections.abc' is deprecated since Python 3.3,and in 3.9 it will stop working\n",
            "  from collections import Mapping\n",
            "/usr/local/lib/python3.7/dist-packages/scipy/sparse/sparsetools.py:21: DeprecationWarning: `scipy.sparse.sparsetools` is deprecated!\n",
            "scipy.sparse.sparsetools is a private module for scipy.sparse, and should not be used.\n",
            "  _deprecated()\n"
          ]
        }
      ]
    },
    {
      "cell_type": "markdown",
      "metadata": {
        "id": "x9ph4ZzpzGd6"
      },
      "source": [
        "----\n",
        "### Load the Amazon Review corpus \n",
        "This dataset is located in the Sprint 1 Module 1 `/data` directory. \n",
        "\n",
        "If the provided relative path doesn't work for you, then you'll have to provide the file path so pandas can read in the file."
      ]
    },
    {
      "cell_type": "code",
      "metadata": {
        "colab": {
          "base_uri": "https://localhost:8080/"
        },
        "id": "c_L4bKk_4E84",
        "outputId": "b738bf82-e46b-4c85-fe60-a4fc40b14367"
      },
      "source": [
        "# A \"brute force\" way to get the Amazon reviews dataset; just clone the Sprint 1 repo!\n",
        "# Overkill, but it does the job!\n",
        "!git clone https://github.com/LambdaSchool/DS-Unit-4-Sprint-1-NLP.git"
      ],
      "execution_count": null,
      "outputs": [
        {
          "output_type": "stream",
          "name": "stdout",
          "text": [
            "fatal: destination path 'DS-Unit-4-Sprint-1-NLP' already exists and is not an empty directory.\n"
          ]
        }
      ]
    },
    {
      "cell_type": "code",
      "metadata": {
        "colab": {
          "base_uri": "https://localhost:8080/"
        },
        "id": "7__zXIF_504B",
        "outputId": "5b875160-21e5-4f83-d345-fa0bf7177780"
      },
      "source": [
        "!unzip '/content/DS-Unit-4-Sprint-1-NLP/module1-text-data/data/Datafiniti_Amazon_Consumer_Reviews_of_Amazon_Products_May19.csv.zip'"
      ],
      "execution_count": null,
      "outputs": [
        {
          "output_type": "stream",
          "name": "stdout",
          "text": [
            "Archive:  /content/DS-Unit-4-Sprint-1-NLP/module1-text-data/data/Datafiniti_Amazon_Consumer_Reviews_of_Amazon_Products_May19.csv.zip\n",
            "replace Datafiniti_Amazon_Consumer_Reviews_of_Amazon_Products_May19.csv? [y]es, [n]o, [A]ll, [N]one, [r]ename: "
          ]
        }
      ]
    },
    {
      "cell_type": "code",
      "metadata": {
        "id": "Ov482n4pzGd6"
      },
      "source": [
        "data_path = \"/content/Datafiniti_Amazon_Consumer_Reviews_of_Amazon_Products_May19.csv\"\n",
        "df = pd.read_csv(data_path)"
      ],
      "execution_count": null,
      "outputs": []
    },
    {
      "cell_type": "code",
      "metadata": {
        "id": "-yZZEwZNzGd7",
        "colab": {
          "base_uri": "https://localhost:8080/",
          "height": 345
        },
        "outputId": "6da2dd5f-265e-43aa-ad5c-383f976377e2"
      },
      "source": [
        "df.head(2)"
      ],
      "execution_count": null,
      "outputs": [
        {
          "output_type": "execute_result",
          "data": {
            "text/plain": [
              "                     id             dateAdded           dateUpdated  \\\n",
              "0  AVpgNzjwLJeJML43Kpxn  2015-10-30T08:59:32Z  2019-04-25T09:08:16Z   \n",
              "1  AVpgNzjwLJeJML43Kpxn  2015-10-30T08:59:32Z  2019-04-25T09:08:16Z   \n",
              "\n",
              "                                                name                  asins  \\\n",
              "0  AmazonBasics AAA Performance Alkaline Batterie...  B00QWO9P0O,B00LH3DMUO   \n",
              "1  AmazonBasics AAA Performance Alkaline Batterie...  B00QWO9P0O,B00LH3DMUO   \n",
              "\n",
              "          brand                                         categories  \\\n",
              "0  Amazonbasics  AA,AAA,Health,Electronics,Health & Household,C...   \n",
              "1  Amazonbasics  AA,AAA,Health,Electronics,Health & Household,C...   \n",
              "\n",
              "  primaryCategories                                          imageURLs  \\\n",
              "0   Health & Beauty  https://images-na.ssl-images-amazon.com/images...   \n",
              "1   Health & Beauty  https://images-na.ssl-images-amazon.com/images...   \n",
              "\n",
              "                                                keys  ... reviews.didPurchase  \\\n",
              "0  amazonbasics/hl002619,amazonbasicsaaaperforman...  ...                 NaN   \n",
              "1  amazonbasics/hl002619,amazonbasicsaaaperforman...  ...                 NaN   \n",
              "\n",
              "  reviews.doRecommend reviews.id reviews.numHelpful reviews.rating  \\\n",
              "0                 NaN        NaN                NaN              3   \n",
              "1                 NaN        NaN                NaN              4   \n",
              "\n",
              "                                  reviews.sourceURLs  \\\n",
              "0  https://www.amazon.com/product-reviews/B00QWO9...   \n",
              "1  https://www.amazon.com/product-reviews/B00QWO9...   \n",
              "\n",
              "                                        reviews.text  \\\n",
              "0  I order 3 of them and one of the item is bad q...   \n",
              "1  Bulk is always the less expensive way to go fo...   \n",
              "\n",
              "                                       reviews.title  reviews.username  \\\n",
              "0  ... 3 of them and one of the item is bad quali...        Byger yang   \n",
              "1  ... always the less expensive way to go for pr...              ByMG   \n",
              "\n",
              "                                          sourceURLs  \n",
              "0  https://www.barcodable.com/upc/841710106442,ht...  \n",
              "1  https://www.barcodable.com/upc/841710106442,ht...  \n",
              "\n",
              "[2 rows x 24 columns]"
            ],
            "text/html": [
              "\n",
              "  <div id=\"df-d3101879-1b23-4224-8eca-8b5d746b385e\">\n",
              "    <div class=\"colab-df-container\">\n",
              "      <div>\n",
              "<style scoped>\n",
              "    .dataframe tbody tr th:only-of-type {\n",
              "        vertical-align: middle;\n",
              "    }\n",
              "\n",
              "    .dataframe tbody tr th {\n",
              "        vertical-align: top;\n",
              "    }\n",
              "\n",
              "    .dataframe thead th {\n",
              "        text-align: right;\n",
              "    }\n",
              "</style>\n",
              "<table border=\"1\" class=\"dataframe\">\n",
              "  <thead>\n",
              "    <tr style=\"text-align: right;\">\n",
              "      <th></th>\n",
              "      <th>id</th>\n",
              "      <th>dateAdded</th>\n",
              "      <th>dateUpdated</th>\n",
              "      <th>name</th>\n",
              "      <th>asins</th>\n",
              "      <th>brand</th>\n",
              "      <th>categories</th>\n",
              "      <th>primaryCategories</th>\n",
              "      <th>imageURLs</th>\n",
              "      <th>keys</th>\n",
              "      <th>...</th>\n",
              "      <th>reviews.didPurchase</th>\n",
              "      <th>reviews.doRecommend</th>\n",
              "      <th>reviews.id</th>\n",
              "      <th>reviews.numHelpful</th>\n",
              "      <th>reviews.rating</th>\n",
              "      <th>reviews.sourceURLs</th>\n",
              "      <th>reviews.text</th>\n",
              "      <th>reviews.title</th>\n",
              "      <th>reviews.username</th>\n",
              "      <th>sourceURLs</th>\n",
              "    </tr>\n",
              "  </thead>\n",
              "  <tbody>\n",
              "    <tr>\n",
              "      <th>0</th>\n",
              "      <td>AVpgNzjwLJeJML43Kpxn</td>\n",
              "      <td>2015-10-30T08:59:32Z</td>\n",
              "      <td>2019-04-25T09:08:16Z</td>\n",
              "      <td>AmazonBasics AAA Performance Alkaline Batterie...</td>\n",
              "      <td>B00QWO9P0O,B00LH3DMUO</td>\n",
              "      <td>Amazonbasics</td>\n",
              "      <td>AA,AAA,Health,Electronics,Health &amp; Household,C...</td>\n",
              "      <td>Health &amp; Beauty</td>\n",
              "      <td>https://images-na.ssl-images-amazon.com/images...</td>\n",
              "      <td>amazonbasics/hl002619,amazonbasicsaaaperforman...</td>\n",
              "      <td>...</td>\n",
              "      <td>NaN</td>\n",
              "      <td>NaN</td>\n",
              "      <td>NaN</td>\n",
              "      <td>NaN</td>\n",
              "      <td>3</td>\n",
              "      <td>https://www.amazon.com/product-reviews/B00QWO9...</td>\n",
              "      <td>I order 3 of them and one of the item is bad q...</td>\n",
              "      <td>... 3 of them and one of the item is bad quali...</td>\n",
              "      <td>Byger yang</td>\n",
              "      <td>https://www.barcodable.com/upc/841710106442,ht...</td>\n",
              "    </tr>\n",
              "    <tr>\n",
              "      <th>1</th>\n",
              "      <td>AVpgNzjwLJeJML43Kpxn</td>\n",
              "      <td>2015-10-30T08:59:32Z</td>\n",
              "      <td>2019-04-25T09:08:16Z</td>\n",
              "      <td>AmazonBasics AAA Performance Alkaline Batterie...</td>\n",
              "      <td>B00QWO9P0O,B00LH3DMUO</td>\n",
              "      <td>Amazonbasics</td>\n",
              "      <td>AA,AAA,Health,Electronics,Health &amp; Household,C...</td>\n",
              "      <td>Health &amp; Beauty</td>\n",
              "      <td>https://images-na.ssl-images-amazon.com/images...</td>\n",
              "      <td>amazonbasics/hl002619,amazonbasicsaaaperforman...</td>\n",
              "      <td>...</td>\n",
              "      <td>NaN</td>\n",
              "      <td>NaN</td>\n",
              "      <td>NaN</td>\n",
              "      <td>NaN</td>\n",
              "      <td>4</td>\n",
              "      <td>https://www.amazon.com/product-reviews/B00QWO9...</td>\n",
              "      <td>Bulk is always the less expensive way to go fo...</td>\n",
              "      <td>... always the less expensive way to go for pr...</td>\n",
              "      <td>ByMG</td>\n",
              "      <td>https://www.barcodable.com/upc/841710106442,ht...</td>\n",
              "    </tr>\n",
              "  </tbody>\n",
              "</table>\n",
              "<p>2 rows × 24 columns</p>\n",
              "</div>\n",
              "      <button class=\"colab-df-convert\" onclick=\"convertToInteractive('df-d3101879-1b23-4224-8eca-8b5d746b385e')\"\n",
              "              title=\"Convert this dataframe to an interactive table.\"\n",
              "              style=\"display:none;\">\n",
              "        \n",
              "  <svg xmlns=\"http://www.w3.org/2000/svg\" height=\"24px\"viewBox=\"0 0 24 24\"\n",
              "       width=\"24px\">\n",
              "    <path d=\"M0 0h24v24H0V0z\" fill=\"none\"/>\n",
              "    <path d=\"M18.56 5.44l.94 2.06.94-2.06 2.06-.94-2.06-.94-.94-2.06-.94 2.06-2.06.94zm-11 1L8.5 8.5l.94-2.06 2.06-.94-2.06-.94L8.5 2.5l-.94 2.06-2.06.94zm10 10l.94 2.06.94-2.06 2.06-.94-2.06-.94-.94-2.06-.94 2.06-2.06.94z\"/><path d=\"M17.41 7.96l-1.37-1.37c-.4-.4-.92-.59-1.43-.59-.52 0-1.04.2-1.43.59L10.3 9.45l-7.72 7.72c-.78.78-.78 2.05 0 2.83L4 21.41c.39.39.9.59 1.41.59.51 0 1.02-.2 1.41-.59l7.78-7.78 2.81-2.81c.8-.78.8-2.07 0-2.86zM5.41 20L4 18.59l7.72-7.72 1.47 1.35L5.41 20z\"/>\n",
              "  </svg>\n",
              "      </button>\n",
              "      \n",
              "  <style>\n",
              "    .colab-df-container {\n",
              "      display:flex;\n",
              "      flex-wrap:wrap;\n",
              "      gap: 12px;\n",
              "    }\n",
              "\n",
              "    .colab-df-convert {\n",
              "      background-color: #E8F0FE;\n",
              "      border: none;\n",
              "      border-radius: 50%;\n",
              "      cursor: pointer;\n",
              "      display: none;\n",
              "      fill: #1967D2;\n",
              "      height: 32px;\n",
              "      padding: 0 0 0 0;\n",
              "      width: 32px;\n",
              "    }\n",
              "\n",
              "    .colab-df-convert:hover {\n",
              "      background-color: #E2EBFA;\n",
              "      box-shadow: 0px 1px 2px rgba(60, 64, 67, 0.3), 0px 1px 3px 1px rgba(60, 64, 67, 0.15);\n",
              "      fill: #174EA6;\n",
              "    }\n",
              "\n",
              "    [theme=dark] .colab-df-convert {\n",
              "      background-color: #3B4455;\n",
              "      fill: #D2E3FC;\n",
              "    }\n",
              "\n",
              "    [theme=dark] .colab-df-convert:hover {\n",
              "      background-color: #434B5C;\n",
              "      box-shadow: 0px 1px 3px 1px rgba(0, 0, 0, 0.15);\n",
              "      filter: drop-shadow(0px 1px 2px rgba(0, 0, 0, 0.3));\n",
              "      fill: #FFFFFF;\n",
              "    }\n",
              "  </style>\n",
              "\n",
              "      <script>\n",
              "        const buttonEl =\n",
              "          document.querySelector('#df-d3101879-1b23-4224-8eca-8b5d746b385e button.colab-df-convert');\n",
              "        buttonEl.style.display =\n",
              "          google.colab.kernel.accessAllowed ? 'block' : 'none';\n",
              "\n",
              "        async function convertToInteractive(key) {\n",
              "          const element = document.querySelector('#df-d3101879-1b23-4224-8eca-8b5d746b385e');\n",
              "          const dataTable =\n",
              "            await google.colab.kernel.invokeFunction('convertToInteractive',\n",
              "                                                     [key], {});\n",
              "          if (!dataTable) return;\n",
              "\n",
              "          const docLinkHtml = 'Like what you see? Visit the ' +\n",
              "            '<a target=\"_blank\" href=https://colab.research.google.com/notebooks/data_table.ipynb>data table notebook</a>'\n",
              "            + ' to learn more about interactive tables.';\n",
              "          element.innerHTML = '';\n",
              "          dataTable['output_type'] = 'display_data';\n",
              "          await google.colab.output.renderOutput(dataTable, element);\n",
              "          const docLink = document.createElement('div');\n",
              "          docLink.innerHTML = docLinkHtml;\n",
              "          element.appendChild(docLink);\n",
              "        }\n",
              "      </script>\n",
              "    </div>\n",
              "  </div>\n",
              "  "
            ]
          },
          "metadata": {},
          "execution_count": 8
        }
      ]
    },
    {
      "cell_type": "markdown",
      "metadata": {
        "id": "kdwr6x8PzGd7"
      },
      "source": [
        "----\n",
        "\n",
        "### Clean data\n",
        "\n",
        "- Create a function called `clean_data` that uses regex expressions to clean your data in preparation for the vectorizer. \n",
        "\n",
        "- Save the clean text data to a column in your dataframe named `clean_text`\n",
        "\n",
        "- Feel free to re-use old code that you have written in previous modules  "
      ]
    },
    {
      "cell_type": "code",
      "metadata": {
        "colab": {
          "base_uri": "https://localhost:8080/"
        },
        "id": "g5cL1Amq8iT_",
        "outputId": "147c15bb-5317-422d-e026-dc8d87197216"
      },
      "source": [
        "df.shape"
      ],
      "execution_count": null,
      "outputs": [
        {
          "output_type": "execute_result",
          "data": {
            "text/plain": [
              "(28332, 24)"
            ]
          },
          "metadata": {},
          "execution_count": 9
        }
      ]
    },
    {
      "cell_type": "code",
      "metadata": {
        "colab": {
          "base_uri": "https://localhost:8080/"
        },
        "id": "dgW6kglx8T_l",
        "outputId": "e53385eb-f7f0-48e1-ba4f-614298e563df"
      },
      "source": [
        "df['reviews.text'][8505:8510]"
      ],
      "execution_count": null,
      "outputs": [
        {
          "output_type": "execute_result",
          "data": {
            "text/plain": [
              "8505    Have had zero issues with longevity or voltage...\n",
              "8506    People kept saying, They're as good as Duracel...\n",
              "8507    As a Mom of 3 young kids, we go through batter...\n",
              "8508    I have used these batteries for several years....\n",
              "8509    Price per battery is great. I checked the volt...\n",
              "Name: reviews.text, dtype: object"
            ]
          },
          "metadata": {},
          "execution_count": 10
        }
      ]
    },
    {
      "cell_type": "code",
      "metadata": {
        "deletable": false,
        "nbgrader": {
          "cell_type": "code",
          "checksum": "a2513c0ebd04cf8645fe0a1feb1e1a36",
          "grade": false,
          "grade_id": "cell-fa0950cfe5ef7725",
          "locked": false,
          "schema_version": 3,
          "solution": true,
          "task": false
        },
        "id": "4xo_hkHKzGd7"
      },
      "source": [
        "def clean_data(text):\n",
        "  \"\"\"\n",
        "  Cleans data to remove unwanted characters and punctuation.\n",
        "  \"\"\"\n",
        "  text = re.sub(\"[^a-zA-Z 0-9]+\",\"\",text)\n",
        "  return text.lower()\n"
      ],
      "execution_count": null,
      "outputs": []
    },
    {
      "cell_type": "code",
      "metadata": {
        "deletable": false,
        "nbgrader": {
          "cell_type": "code",
          "checksum": "a6ceefe5476e71efcb3d36c3e203616f",
          "grade": false,
          "grade_id": "cell-5b8e2bc0f9a745f3",
          "locked": false,
          "schema_version": 3,
          "solution": true,
          "task": false
        },
        "id": "H693L3fJzGd8"
      },
      "source": [
        "# create a clean_text column by applying  clean_data to your text\n",
        "df['clean_text'] = df['reviews.text'].apply(lambda text: clean_data(text))"
      ],
      "execution_count": null,
      "outputs": []
    },
    {
      "cell_type": "code",
      "metadata": {
        "id": "5FMvAhkBzGd8"
      },
      "source": [
        "alphebetical_chars = [\"ABCDEFGHIJKLMNOP\"]\n",
        "# check if any of these alphabetical chars exist in your clean chars\n",
        "assert df.clean_text.isin(alphebetical_chars).sum() == 0, \"Did you case normalize your text inside of your clean_data function?\""
      ],
      "execution_count": null,
      "outputs": []
    },
    {
      "cell_type": "markdown",
      "metadata": {
        "id": "kzqt1ainzGd8"
      },
      "source": [
        "------\n",
        "\n",
        "## Determine number of topics\n",
        "\n",
        "We are going to run an experiment to determine how many topics exists within the `primaryCategories` of `Electronics`. This is the largest primary category containing nearly 14K documents, so we should have plenty of data. \n",
        "\n",
        "Just as we did in the guided project, we'll be running a gridseach over the number of topics and scoring each model using the Coherence metric to determine which number of topics we should use. \n"
      ]
    },
    {
      "cell_type": "code",
      "metadata": {
        "id": "3jrHewGbzGd9"
      },
      "source": [
        "# create a mask for docs that are in the Electronics primaryCategories - save result to `electronics_mask`\n",
        "electronics_mask = df.primaryCategories.isin([\"Electronics\"])\n",
        "\n",
        "# use mask to select all the documents in the Electronics primaryCategories - save result to `df_electronics`\n",
        "df_electronics = df[electronics_mask]"
      ],
      "execution_count": null,
      "outputs": []
    },
    {
      "cell_type": "code",
      "metadata": {
        "colab": {
          "base_uri": "https://localhost:8080/",
          "height": 480
        },
        "id": "peb18zW3zGd9",
        "outputId": "f8f19a11-cfc1-4eab-eda0-87fcef608058"
      },
      "source": [
        "df_electronics.head(3)"
      ],
      "execution_count": null,
      "outputs": [
        {
          "output_type": "execute_result",
          "data": {
            "text/plain": [
              "                        id             dateAdded           dateUpdated  \\\n",
              "8343  AVpe7nGV1cnluZ0-aG2o  2014-10-28T11:14:38Z  2019-04-25T09:05:28Z   \n",
              "8344  AVpe7nGV1cnluZ0-aG2o  2014-10-28T11:14:38Z  2019-04-25T09:05:28Z   \n",
              "8345  AVpe7nGV1cnluZ0-aG2o  2014-10-28T11:14:38Z  2019-04-25T09:05:28Z   \n",
              "\n",
              "                                                 name                  asins  \\\n",
              "8343  AmazonBasics Nylon CD/DVD Binder (400 Capacity)  B00DIHVMEA,B00EZ1ZTV0   \n",
              "8344  AmazonBasics Nylon CD/DVD Binder (400 Capacity)  B00DIHVMEA,B00EZ1ZTV0   \n",
              "8345  AmazonBasics Nylon CD/DVD Binder (400 Capacity)  B00DIHVMEA,B00EZ1ZTV0   \n",
              "\n",
              "             brand                                         categories  \\\n",
              "8343  Amazonbasics  Audio & Video Accessories,TV, Video & Home Aud...   \n",
              "8344  Amazonbasics  Audio & Video Accessories,TV, Video & Home Aud...   \n",
              "8345  Amazonbasics  Audio & Video Accessories,TV, Video & Home Aud...   \n",
              "\n",
              "     primaryCategories                                          imageURLs  \\\n",
              "8343       Electronics  http://ecx.images-amazon.com/images/I/41jQha7Z...   \n",
              "8344       Electronics  http://ecx.images-amazon.com/images/I/41jQha7Z...   \n",
              "8345       Electronics  http://ecx.images-amazon.com/images/I/41jQha7Z...   \n",
              "\n",
              "                                                   keys  ...  \\\n",
              "8343  amazonbasicsnyloncddvdbinder400capacity/b00ez1...  ...   \n",
              "8344  amazonbasicsnyloncddvdbinder400capacity/b00ez1...  ...   \n",
              "8345  amazonbasicsnyloncddvdbinder400capacity/b00ez1...  ...   \n",
              "\n",
              "     reviews.doRecommend reviews.id reviews.numHelpful reviews.rating  \\\n",
              "8343                 NaN        NaN                NaN              5   \n",
              "8344                 NaN        NaN                NaN              5   \n",
              "8345                 NaN        NaN                NaN              5   \n",
              "\n",
              "                                     reviews.sourceURLs  \\\n",
              "8343  https://www.ebay.com/itm/Amazonbasics-Nylon-Cd...   \n",
              "8344  http://www.amazon.co.uk/gp/product-reviews/B00...   \n",
              "8345  https://www.ebay.com/itm/Amazonbasics-Nylon-Cd...   \n",
              "\n",
              "                                           reviews.text  \\\n",
              "8343  Great case to keep everything in its place! My...   \n",
              "8344  After discarding and getting rid of broken cd ...   \n",
              "8345     A few dollars more, but I am boycotting amazon   \n",
              "\n",
              "                     reviews.title  reviews.username  \\\n",
              "8343             Excellent product           qs341_5   \n",
              "8344  It was a much needed storage          Diablita   \n",
              "8345               it was worth it  coldbloodblazing   \n",
              "\n",
              "                                             sourceURLs  \\\n",
              "8343  https://www.ebay.com/itm/AmazonBasics-Nylon-CD...   \n",
              "8344  https://www.ebay.com/itm/AmazonBasics-Nylon-CD...   \n",
              "8345  https://www.ebay.com/itm/AmazonBasics-Nylon-CD...   \n",
              "\n",
              "                                             clean_text  \n",
              "8343  great case to keep everything in its place my ...  \n",
              "8344  after discarding and getting rid of broken cd ...  \n",
              "8345      a few dollars more but i am boycotting amazon  \n",
              "\n",
              "[3 rows x 25 columns]"
            ],
            "text/html": [
              "\n",
              "  <div id=\"df-7f54301c-8411-4df4-b5bd-7ed59d76fceb\">\n",
              "    <div class=\"colab-df-container\">\n",
              "      <div>\n",
              "<style scoped>\n",
              "    .dataframe tbody tr th:only-of-type {\n",
              "        vertical-align: middle;\n",
              "    }\n",
              "\n",
              "    .dataframe tbody tr th {\n",
              "        vertical-align: top;\n",
              "    }\n",
              "\n",
              "    .dataframe thead th {\n",
              "        text-align: right;\n",
              "    }\n",
              "</style>\n",
              "<table border=\"1\" class=\"dataframe\">\n",
              "  <thead>\n",
              "    <tr style=\"text-align: right;\">\n",
              "      <th></th>\n",
              "      <th>id</th>\n",
              "      <th>dateAdded</th>\n",
              "      <th>dateUpdated</th>\n",
              "      <th>name</th>\n",
              "      <th>asins</th>\n",
              "      <th>brand</th>\n",
              "      <th>categories</th>\n",
              "      <th>primaryCategories</th>\n",
              "      <th>imageURLs</th>\n",
              "      <th>keys</th>\n",
              "      <th>...</th>\n",
              "      <th>reviews.doRecommend</th>\n",
              "      <th>reviews.id</th>\n",
              "      <th>reviews.numHelpful</th>\n",
              "      <th>reviews.rating</th>\n",
              "      <th>reviews.sourceURLs</th>\n",
              "      <th>reviews.text</th>\n",
              "      <th>reviews.title</th>\n",
              "      <th>reviews.username</th>\n",
              "      <th>sourceURLs</th>\n",
              "      <th>clean_text</th>\n",
              "    </tr>\n",
              "  </thead>\n",
              "  <tbody>\n",
              "    <tr>\n",
              "      <th>8343</th>\n",
              "      <td>AVpe7nGV1cnluZ0-aG2o</td>\n",
              "      <td>2014-10-28T11:14:38Z</td>\n",
              "      <td>2019-04-25T09:05:28Z</td>\n",
              "      <td>AmazonBasics Nylon CD/DVD Binder (400 Capacity)</td>\n",
              "      <td>B00DIHVMEA,B00EZ1ZTV0</td>\n",
              "      <td>Amazonbasics</td>\n",
              "      <td>Audio &amp; Video Accessories,TV, Video &amp; Home Aud...</td>\n",
              "      <td>Electronics</td>\n",
              "      <td>http://ecx.images-amazon.com/images/I/41jQha7Z...</td>\n",
              "      <td>amazonbasicsnyloncddvdbinder400capacity/b00ez1...</td>\n",
              "      <td>...</td>\n",
              "      <td>NaN</td>\n",
              "      <td>NaN</td>\n",
              "      <td>NaN</td>\n",
              "      <td>5</td>\n",
              "      <td>https://www.ebay.com/itm/Amazonbasics-Nylon-Cd...</td>\n",
              "      <td>Great case to keep everything in its place! My...</td>\n",
              "      <td>Excellent product</td>\n",
              "      <td>qs341_5</td>\n",
              "      <td>https://www.ebay.com/itm/AmazonBasics-Nylon-CD...</td>\n",
              "      <td>great case to keep everything in its place my ...</td>\n",
              "    </tr>\n",
              "    <tr>\n",
              "      <th>8344</th>\n",
              "      <td>AVpe7nGV1cnluZ0-aG2o</td>\n",
              "      <td>2014-10-28T11:14:38Z</td>\n",
              "      <td>2019-04-25T09:05:28Z</td>\n",
              "      <td>AmazonBasics Nylon CD/DVD Binder (400 Capacity)</td>\n",
              "      <td>B00DIHVMEA,B00EZ1ZTV0</td>\n",
              "      <td>Amazonbasics</td>\n",
              "      <td>Audio &amp; Video Accessories,TV, Video &amp; Home Aud...</td>\n",
              "      <td>Electronics</td>\n",
              "      <td>http://ecx.images-amazon.com/images/I/41jQha7Z...</td>\n",
              "      <td>amazonbasicsnyloncddvdbinder400capacity/b00ez1...</td>\n",
              "      <td>...</td>\n",
              "      <td>NaN</td>\n",
              "      <td>NaN</td>\n",
              "      <td>NaN</td>\n",
              "      <td>5</td>\n",
              "      <td>http://www.amazon.co.uk/gp/product-reviews/B00...</td>\n",
              "      <td>After discarding and getting rid of broken cd ...</td>\n",
              "      <td>It was a much needed storage</td>\n",
              "      <td>Diablita</td>\n",
              "      <td>https://www.ebay.com/itm/AmazonBasics-Nylon-CD...</td>\n",
              "      <td>after discarding and getting rid of broken cd ...</td>\n",
              "    </tr>\n",
              "    <tr>\n",
              "      <th>8345</th>\n",
              "      <td>AVpe7nGV1cnluZ0-aG2o</td>\n",
              "      <td>2014-10-28T11:14:38Z</td>\n",
              "      <td>2019-04-25T09:05:28Z</td>\n",
              "      <td>AmazonBasics Nylon CD/DVD Binder (400 Capacity)</td>\n",
              "      <td>B00DIHVMEA,B00EZ1ZTV0</td>\n",
              "      <td>Amazonbasics</td>\n",
              "      <td>Audio &amp; Video Accessories,TV, Video &amp; Home Aud...</td>\n",
              "      <td>Electronics</td>\n",
              "      <td>http://ecx.images-amazon.com/images/I/41jQha7Z...</td>\n",
              "      <td>amazonbasicsnyloncddvdbinder400capacity/b00ez1...</td>\n",
              "      <td>...</td>\n",
              "      <td>NaN</td>\n",
              "      <td>NaN</td>\n",
              "      <td>NaN</td>\n",
              "      <td>5</td>\n",
              "      <td>https://www.ebay.com/itm/Amazonbasics-Nylon-Cd...</td>\n",
              "      <td>A few dollars more, but I am boycotting amazon</td>\n",
              "      <td>it was worth it</td>\n",
              "      <td>coldbloodblazing</td>\n",
              "      <td>https://www.ebay.com/itm/AmazonBasics-Nylon-CD...</td>\n",
              "      <td>a few dollars more but i am boycotting amazon</td>\n",
              "    </tr>\n",
              "  </tbody>\n",
              "</table>\n",
              "<p>3 rows × 25 columns</p>\n",
              "</div>\n",
              "      <button class=\"colab-df-convert\" onclick=\"convertToInteractive('df-7f54301c-8411-4df4-b5bd-7ed59d76fceb')\"\n",
              "              title=\"Convert this dataframe to an interactive table.\"\n",
              "              style=\"display:none;\">\n",
              "        \n",
              "  <svg xmlns=\"http://www.w3.org/2000/svg\" height=\"24px\"viewBox=\"0 0 24 24\"\n",
              "       width=\"24px\">\n",
              "    <path d=\"M0 0h24v24H0V0z\" fill=\"none\"/>\n",
              "    <path d=\"M18.56 5.44l.94 2.06.94-2.06 2.06-.94-2.06-.94-.94-2.06-.94 2.06-2.06.94zm-11 1L8.5 8.5l.94-2.06 2.06-.94-2.06-.94L8.5 2.5l-.94 2.06-2.06.94zm10 10l.94 2.06.94-2.06 2.06-.94-2.06-.94-.94-2.06-.94 2.06-2.06.94z\"/><path d=\"M17.41 7.96l-1.37-1.37c-.4-.4-.92-.59-1.43-.59-.52 0-1.04.2-1.43.59L10.3 9.45l-7.72 7.72c-.78.78-.78 2.05 0 2.83L4 21.41c.39.39.9.59 1.41.59.51 0 1.02-.2 1.41-.59l7.78-7.78 2.81-2.81c.8-.78.8-2.07 0-2.86zM5.41 20L4 18.59l7.72-7.72 1.47 1.35L5.41 20z\"/>\n",
              "  </svg>\n",
              "      </button>\n",
              "      \n",
              "  <style>\n",
              "    .colab-df-container {\n",
              "      display:flex;\n",
              "      flex-wrap:wrap;\n",
              "      gap: 12px;\n",
              "    }\n",
              "\n",
              "    .colab-df-convert {\n",
              "      background-color: #E8F0FE;\n",
              "      border: none;\n",
              "      border-radius: 50%;\n",
              "      cursor: pointer;\n",
              "      display: none;\n",
              "      fill: #1967D2;\n",
              "      height: 32px;\n",
              "      padding: 0 0 0 0;\n",
              "      width: 32px;\n",
              "    }\n",
              "\n",
              "    .colab-df-convert:hover {\n",
              "      background-color: #E2EBFA;\n",
              "      box-shadow: 0px 1px 2px rgba(60, 64, 67, 0.3), 0px 1px 3px 1px rgba(60, 64, 67, 0.15);\n",
              "      fill: #174EA6;\n",
              "    }\n",
              "\n",
              "    [theme=dark] .colab-df-convert {\n",
              "      background-color: #3B4455;\n",
              "      fill: #D2E3FC;\n",
              "    }\n",
              "\n",
              "    [theme=dark] .colab-df-convert:hover {\n",
              "      background-color: #434B5C;\n",
              "      box-shadow: 0px 1px 3px 1px rgba(0, 0, 0, 0.15);\n",
              "      filter: drop-shadow(0px 1px 2px rgba(0, 0, 0, 0.3));\n",
              "      fill: #FFFFFF;\n",
              "    }\n",
              "  </style>\n",
              "\n",
              "      <script>\n",
              "        const buttonEl =\n",
              "          document.querySelector('#df-7f54301c-8411-4df4-b5bd-7ed59d76fceb button.colab-df-convert');\n",
              "        buttonEl.style.display =\n",
              "          google.colab.kernel.accessAllowed ? 'block' : 'none';\n",
              "\n",
              "        async function convertToInteractive(key) {\n",
              "          const element = document.querySelector('#df-7f54301c-8411-4df4-b5bd-7ed59d76fceb');\n",
              "          const dataTable =\n",
              "            await google.colab.kernel.invokeFunction('convertToInteractive',\n",
              "                                                     [key], {});\n",
              "          if (!dataTable) return;\n",
              "\n",
              "          const docLinkHtml = 'Like what you see? Visit the ' +\n",
              "            '<a target=\"_blank\" href=https://colab.research.google.com/notebooks/data_table.ipynb>data table notebook</a>'\n",
              "            + ' to learn more about interactive tables.';\n",
              "          element.innerHTML = '';\n",
              "          dataTable['output_type'] = 'display_data';\n",
              "          await google.colab.output.renderOutput(dataTable, element);\n",
              "          const docLink = document.createElement('div');\n",
              "          docLink.innerHTML = docLinkHtml;\n",
              "          element.appendChild(docLink);\n",
              "        }\n",
              "      </script>\n",
              "    </div>\n",
              "  </div>\n",
              "  "
            ]
          },
          "metadata": {},
          "execution_count": 15
        }
      ]
    },
    {
      "cell_type": "markdown",
      "metadata": {
        "id": "FfZWF0I9zGd-"
      },
      "source": [
        "------\n",
        "### Tokenize your documents \n",
        "\n",
        "Remember that you'll need to use the [**corpora**](https://radimrehurek.com/gensim/corpora/dictionary.html) class from the Gensim library. So definitely check out the docs to learn more about this tool. There is an example on how to do this in the guided project.\n",
        "\n",
        "But before we can use the [**corpora**](https://radimrehurek.com/gensim/corpora/dictionary.html) class, we must first tokenize our articles. \n",
        "\n"
      ]
    },
    {
      "cell_type": "code",
      "metadata": {
        "id": "2rAMfVfB1PS-"
      },
      "source": [
        "# identify how many processors your machine has - save the result to `n_processors`\n",
        "stopwords = set(STOPWORDS).union(set(['said', 'Mr', 'Mrs']))\n",
        "def tokenize(text):\n",
        "  return [token for token in simple_preprocess(text) if token not in stopwords]\n",
        "# subtract 1 from n_processors - save the result to `nb_workers`\n",
        "text_tokens = [tokenize(chunk) for chunk in df_electronics]\n",
        "# initialize just like we did in the guided project\n",
        "dictionary = corpora.Dictionary(text_tokens)"
      ],
      "execution_count": null,
      "outputs": []
    },
    {
      "cell_type": "code",
      "metadata": {
        "id": "t6pNnk3vzGd-"
      },
      "source": [
        "# load in the spaCy language model\n",
        "nlp = spacy.load(\"en_core_web_md\")"
      ],
      "execution_count": null,
      "outputs": []
    },
    {
      "cell_type": "code",
      "metadata": {
        "id": "05x-KJPIBQa2",
        "colab": {
          "base_uri": "https://localhost:8080/"
        },
        "outputId": "f0b04491-7709-4f0f-858b-d29dfb081964"
      },
      "source": [
        "%%time\n",
        "# create our tokens in the form of lemmas \n",
        "df_electronics['lemmas'] = df_electronics['clean_text'].apply(lambda x: [token.lemma_ for token in nlp(x) if (token.is_stop != True) and (token.is_punct != True)])"
      ],
      "execution_count": null,
      "outputs": [
        {
          "output_type": "stream",
          "name": "stdout",
          "text": [
            "CPU times: user 2min 44s, sys: 840 ms, total: 2min 44s\n",
            "Wall time: 2min 48s\n"
          ]
        }
      ]
    },
    {
      "cell_type": "markdown",
      "metadata": {
        "id": "WS7vTVqnzGd_"
      },
      "source": [
        "### Use the corpora class to prep your data for LDA\n",
        "\n",
        "You'll need to create the same `id2word` and `corpus` objects that we created in the guided projects. So be sure to reference the guided project notebook if you need to. "
      ]
    },
    {
      "cell_type": "code",
      "metadata": {
        "deletable": false,
        "nbgrader": {
          "cell_type": "code",
          "checksum": "53bf811aebb39e7ed6fc592851f82f8b",
          "grade": false,
          "grade_id": "cell-9d92f28649aa999e",
          "locked": false,
          "schema_version": 3,
          "solution": true,
          "task": false
        },
        "id": "7paL9zS7zGd_"
      },
      "source": [
        "# Create lemma dictionary using Dictionary - save result to `id2word`\n",
        "id2word = corpora.Dictionary(df_electronics['lemmas'] )\n",
        "\n",
        "# Create Term Document Frequency list - save result to `corpus`\n",
        "corpus = [id2word.doc2bow(doc_lemmas) for doc_lemmas in df_electronics['lemmas']]\n",
        "\n",
        "# YOUR CODE HERE\n"
      ],
      "execution_count": null,
      "outputs": []
    },
    {
      "cell_type": "markdown",
      "metadata": {
        "id": "vtmHceiazGd_"
      },
      "source": [
        "## Gridsearch the number of topics \n",
        "\n",
        "Just as we did in the guided project, we're going to run a `for` loop over a range of possible number of topics and then plot the `coherence_values` to determine which number of topics leads to the most sensible grouping of documents. "
      ]
    },
    {
      "cell_type": "code",
      "metadata": {
        "id": "FBICFYD4zGeA"
      },
      "source": [
        "def compute_coherence_values(dictionary, corpus, texts, limit, start=2, step=3):\n",
        "    \"\"\"\n",
        "    Compute c_v coherence for various number of topics\n",
        "\n",
        "    Parameters:\n",
        "    ----------\n",
        "    dictionary : Gensim dictionary\n",
        "    corpus : Gensim corpus\n",
        "    texts : List of input texts\n",
        "    limit : Max num of topics\n",
        "\n",
        "    Returns:\n",
        "    -------\n",
        "    model_list : List of LDA topic models\n",
        "    coherence_values : Coherence values corresponding to the LDA model with respective number of topics\n",
        "    \"\"\"\n",
        "    coherence_values = []\n",
        "    model_list = []\n",
        "    for num_topics in range(start, limit, step):\n",
        "        model = gensim.models.ldamulticore.LdaMulticore(corpus=corpus,\n",
        "                                                        id2word=id2word,\n",
        "                                                        num_topics=num_topics, \n",
        "                                                        chunksize=100,\n",
        "                                                        passes=10,\n",
        "                                                        random_state=1234,\n",
        "                                                        per_word_topics=True,\n",
        "                                                        workers=2)\n",
        "        model_list.append(model)\n",
        "        coherencemodel = CoherenceModel(model=model, texts=texts, dictionary=dictionary, coherence='c_v')\n",
        "        coherence_values.append(coherencemodel.get_coherence())\n",
        "\n",
        "    return model_list, coherence_values"
      ],
      "execution_count": null,
      "outputs": []
    },
    {
      "cell_type": "code",
      "metadata": {
        "id": "Nn20KdDl2HUR",
        "colab": {
          "base_uri": "https://localhost:8080/"
        },
        "outputId": "bf7be6a4-2dfb-4bea-b093-c6a6fad907d5"
      },
      "source": [
        "%%time\n",
        "model_list, coherence_values = compute_coherence_values(dictionary=id2word, corpus=corpus, texts=df_electronics['lemmas'], start=2, limit=16, step=2)"
      ],
      "execution_count": null,
      "outputs": [
        {
          "output_type": "stream",
          "name": "stdout",
          "text": [
            "CPU times: user 4min 55s, sys: 21.4 s, total: 5min 16s\n",
            "Wall time: 7min 33s\n"
          ]
        }
      ]
    },
    {
      "cell_type": "code",
      "metadata": {
        "id": "k2kJsVLt2P5-",
        "colab": {
          "base_uri": "https://localhost:8080/",
          "height": 370
        },
        "outputId": "dc98a7b4-e58a-45f3-f8c1-99ff7b38214e"
      },
      "source": [
        "start=2; limit=16;  step=2;\n",
        "x = range(start, limit, step)\n",
        "\n",
        "plt.figure(figsize=(20,5))\n",
        "plt.grid()\n",
        "plt.title(\"Coherence Score vs. Number of Topics\")\n",
        "plt.xticks(x)\n",
        "plt.plot(x, coherence_values, \"-o\")\n",
        "\n",
        "plt.xlabel(\"Num Topics\")\n",
        "plt.ylabel(\"Coherence score\")\n",
        "\n",
        "plt.show();"
      ],
      "execution_count": null,
      "outputs": [
        {
          "output_type": "display_data",
          "data": {
            "text/plain": [
              "<Figure size 1440x360 with 1 Axes>"
            ],
            "image/png": "[encoded data removed]"
          },
          "metadata": {
            "needs_background": "light"
          }
        }
      ]
    },
    {
      "cell_type": "code",
      "metadata": {
        "deletable": false,
        "nbgrader": {
          "cell_type": "code",
          "checksum": "45f72ff929ab8b765d0f0b5f35137f0d",
          "grade": false,
          "grade_id": "cell-e97661faebf1ac3c",
          "locked": false,
          "schema_version": 3,
          "solution": true,
          "task": false
        },
        "id": "1Qx7OVX-zGeB"
      },
      "source": [
        "# use np.argmax() to get index of largest coherence value from coherence_values - save result to `max_cohereance_val_index`\n",
        "\n",
        "# use `max_coherence_val_index` to index model_list for the corresponding model - save result to `lda_trained_model`\n",
        "\n",
        "max_coherence_val_index = np.argmax(coherence_values)\n",
        "\n",
        "lda_trained_model = model_list[max_coherence_val_index]\n",
        "\n",
        "# YOUR CODE HERE\n"
      ],
      "execution_count": null,
      "outputs": []
    },
    {
      "cell_type": "code",
      "metadata": {
        "colab": {
          "base_uri": "https://localhost:8080/"
        },
        "id": "7y-wokYcIg9_",
        "outputId": "5bf3192a-1acb-46b8-bd84-ca2f3ab74154"
      },
      "source": [
        "lda_trained_model"
      ],
      "execution_count": null,
      "outputs": [
        {
          "output_type": "execute_result",
          "data": {
            "text/plain": [
              "<gensim.models.ldamulticore.LdaMulticore at 0x7f7cbd3d8710>"
            ]
          },
          "metadata": {},
          "execution_count": 28
        }
      ]
    },
    {
      "cell_type": "markdown",
      "metadata": {
        "id": "LwGY4o8fzGeB"
      },
      "source": [
        "## Use pyLDAvis to visualize your topics \n",
        "\n",
        "Take a look at the topic bubbles and bar chart for the terms on the right hand side.  \n",
        "\n",
        "- Describe the topic bubbles. \n",
        "- Do they overlap or not? \n",
        "- What does it mean when they overlap? \n",
        "- What does it mean when they don't overlap?\n",
        "- Are the terms in each topic distinct from the topics in the other topic bubbles?\n"
      ]
    },
    {
      "cell_type": "code",
      "metadata": {
        "id": "9poWZ8WgItYS",
        "colab": {
          "base_uri": "https://localhost:8080/"
        },
        "outputId": "ace49f8e-b7ce-436d-d900-5d1ae7d65c80"
      },
      "source": [
        "!pip install ipywidgets"
      ],
      "execution_count": null,
      "outputs": [
        {
          "output_type": "stream",
          "name": "stdout",
          "text": [
            "Requirement already satisfied: ipywidgets in /usr/local/lib/python3.7/dist-packages (7.7.0)\n",
            "Requirement already satisfied: nbformat>=4.2.0 in /usr/local/lib/python3.7/dist-packages (from ipywidgets) (5.3.0)\n",
            "Requirement already satisfied: ipykernel>=4.5.1 in /usr/local/lib/python3.7/dist-packages (from ipywidgets) (4.10.1)\n",
            "Requirement already satisfied: ipython-genutils~=0.2.0 in /usr/local/lib/python3.7/dist-packages (from ipywidgets) (0.2.0)\n",
            "Requirement already satisfied: jupyterlab-widgets>=1.0.0 in /usr/local/lib/python3.7/dist-packages (from ipywidgets) (1.1.0)\n",
            "Requirement already satisfied: widgetsnbextension~=3.6.0 in /usr/local/lib/python3.7/dist-packages (from ipywidgets) (3.6.0)\n",
            "Requirement already satisfied: traitlets>=4.3.1 in /usr/local/lib/python3.7/dist-packages (from ipywidgets) (5.1.1)\n",
            "Requirement already satisfied: ipython>=4.0.0 in /usr/local/lib/python3.7/dist-packages (from ipywidgets) (5.5.0)\n",
            "Requirement already satisfied: jupyter-client in /usr/local/lib/python3.7/dist-packages (from ipykernel>=4.5.1->ipywidgets) (5.3.5)\n",
            "Requirement already satisfied: tornado>=4.0 in /usr/local/lib/python3.7/dist-packages (from ipykernel>=4.5.1->ipywidgets) (5.1.1)\n",
            "Requirement already satisfied: prompt-toolkit<2.0.0,>=1.0.4 in /usr/local/lib/python3.7/dist-packages (from ipython>=4.0.0->ipywidgets) (1.0.18)\n",
            "Requirement already satisfied: pickleshare in /usr/local/lib/python3.7/dist-packages (from ipython>=4.0.0->ipywidgets) (0.7.5)\n",
            "Requirement already satisfied: decorator in /usr/local/lib/python3.7/dist-packages (from ipython>=4.0.0->ipywidgets) (4.4.2)\n",
            "Requirement already satisfied: simplegeneric>0.8 in /usr/local/lib/python3.7/dist-packages (from ipython>=4.0.0->ipywidgets) (0.8.1)\n",
            "Requirement already satisfied: pygments in /usr/local/lib/python3.7/dist-packages (from ipython>=4.0.0->ipywidgets) (2.6.1)\n",
            "Requirement already satisfied: setuptools>=18.5 in /usr/local/lib/python3.7/dist-packages (from ipython>=4.0.0->ipywidgets) (57.4.0)\n",
            "Requirement already satisfied: pexpect in /usr/local/lib/python3.7/dist-packages (from ipython>=4.0.0->ipywidgets) (4.8.0)\n",
            "Requirement already satisfied: jupyter-core in /usr/local/lib/python3.7/dist-packages (from nbformat>=4.2.0->ipywidgets) (4.9.2)\n",
            "Requirement already satisfied: jsonschema>=2.6 in /usr/local/lib/python3.7/dist-packages (from nbformat>=4.2.0->ipywidgets) (4.3.3)\n",
            "Requirement already satisfied: fastjsonschema in /usr/local/lib/python3.7/dist-packages (from nbformat>=4.2.0->ipywidgets) (2.15.3)\n",
            "Requirement already satisfied: attrs>=17.4.0 in /usr/local/lib/python3.7/dist-packages (from jsonschema>=2.6->nbformat>=4.2.0->ipywidgets) (21.4.0)\n",
            "Requirement already satisfied: typing-extensions in /usr/local/lib/python3.7/dist-packages (from jsonschema>=2.6->nbformat>=4.2.0->ipywidgets) (4.1.1)\n",
            "Requirement already satisfied: importlib-metadata in /usr/local/lib/python3.7/dist-packages (from jsonschema>=2.6->nbformat>=4.2.0->ipywidgets) (4.11.3)\n",
            "Requirement already satisfied: importlib-resources>=1.4.0 in /usr/local/lib/python3.7/dist-packages (from jsonschema>=2.6->nbformat>=4.2.0->ipywidgets) (5.6.0)\n",
            "Requirement already satisfied: pyrsistent!=0.17.0,!=0.17.1,!=0.17.2,>=0.14.0 in /usr/local/lib/python3.7/dist-packages (from jsonschema>=2.6->nbformat>=4.2.0->ipywidgets) (0.18.1)\n",
            "Requirement already satisfied: zipp>=3.1.0 in /usr/local/lib/python3.7/dist-packages (from importlib-resources>=1.4.0->jsonschema>=2.6->nbformat>=4.2.0->ipywidgets) (3.8.0)\n",
            "Requirement already satisfied: wcwidth in /usr/local/lib/python3.7/dist-packages (from prompt-toolkit<2.0.0,>=1.0.4->ipython>=4.0.0->ipywidgets) (0.2.5)\n",
            "Requirement already satisfied: six>=1.9.0 in /usr/local/lib/python3.7/dist-packages (from prompt-toolkit<2.0.0,>=1.0.4->ipython>=4.0.0->ipywidgets) (1.15.0)\n",
            "Requirement already satisfied: notebook>=4.4.1 in /usr/local/lib/python3.7/dist-packages (from widgetsnbextension~=3.6.0->ipywidgets) (5.3.1)\n",
            "Requirement already satisfied: nbconvert in /usr/local/lib/python3.7/dist-packages (from notebook>=4.4.1->widgetsnbextension~=3.6.0->ipywidgets) (5.6.1)\n",
            "Requirement already satisfied: terminado>=0.8.1 in /usr/local/lib/python3.7/dist-packages (from notebook>=4.4.1->widgetsnbextension~=3.6.0->ipywidgets) (0.13.3)\n",
            "Requirement already satisfied: jinja2 in /usr/local/lib/python3.7/dist-packages (from notebook>=4.4.1->widgetsnbextension~=3.6.0->ipywidgets) (2.11.3)\n",
            "Requirement already satisfied: Send2Trash in /usr/local/lib/python3.7/dist-packages (from notebook>=4.4.1->widgetsnbextension~=3.6.0->ipywidgets) (1.8.0)\n",
            "Requirement already satisfied: python-dateutil>=2.1 in /usr/local/lib/python3.7/dist-packages (from jupyter-client->ipykernel>=4.5.1->ipywidgets) (2.8.2)\n",
            "Requirement already satisfied: pyzmq>=13 in /usr/local/lib/python3.7/dist-packages (from jupyter-client->ipykernel>=4.5.1->ipywidgets) (22.3.0)\n",
            "Requirement already satisfied: ptyprocess in /usr/local/lib/python3.7/dist-packages (from terminado>=0.8.1->notebook>=4.4.1->widgetsnbextension~=3.6.0->ipywidgets) (0.7.0)\n",
            "Requirement already satisfied: MarkupSafe>=0.23 in /usr/local/lib/python3.7/dist-packages (from jinja2->notebook>=4.4.1->widgetsnbextension~=3.6.0->ipywidgets) (2.0.1)\n",
            "Requirement already satisfied: bleach in /usr/local/lib/python3.7/dist-packages (from nbconvert->notebook>=4.4.1->widgetsnbextension~=3.6.0->ipywidgets) (5.0.0)\n",
            "Requirement already satisfied: mistune<2,>=0.8.1 in /usr/local/lib/python3.7/dist-packages (from nbconvert->notebook>=4.4.1->widgetsnbextension~=3.6.0->ipywidgets) (0.8.4)\n",
            "Requirement already satisfied: pandocfilters>=1.4.1 in /usr/local/lib/python3.7/dist-packages (from nbconvert->notebook>=4.4.1->widgetsnbextension~=3.6.0->ipywidgets) (1.5.0)\n",
            "Requirement already satisfied: entrypoints>=0.2.2 in /usr/local/lib/python3.7/dist-packages (from nbconvert->notebook>=4.4.1->widgetsnbextension~=3.6.0->ipywidgets) (0.4)\n",
            "Requirement already satisfied: defusedxml in /usr/local/lib/python3.7/dist-packages (from nbconvert->notebook>=4.4.1->widgetsnbextension~=3.6.0->ipywidgets) (0.7.1)\n",
            "Requirement already satisfied: testpath in /usr/local/lib/python3.7/dist-packages (from nbconvert->notebook>=4.4.1->widgetsnbextension~=3.6.0->ipywidgets) (0.6.0)\n",
            "Requirement already satisfied: webencodings in /usr/local/lib/python3.7/dist-packages (from bleach->nbconvert->notebook>=4.4.1->widgetsnbextension~=3.6.0->ipywidgets) (0.5.1)\n"
          ]
        }
      ]
    },
    {
      "cell_type": "code",
      "metadata": {
        "id": "YBqK345s2oYC",
        "colab": {
          "base_uri": "https://localhost:8080/",
          "height": 881
        },
        "outputId": "5891d645-4d04-43c4-e458-9e6dd560262f"
      },
      "source": [
        "# plot your topics here -- using pyLDAvis\n",
        "# YOUR CODE HERE\n",
        "\n",
        "import pyLDAvis.gensim \n",
        "pyLDAvis.enable_notebook()\n",
        "vis = pyLDAvis.gensim.prepare(lda_trained_model, corpus, id2word)\n",
        "vis"
      ],
      "execution_count": null,
      "outputs": [
        {
          "output_type": "execute_result",
          "data": {
            "text/plain": [
              "PreparedData(topic_coordinates=              x         y  topics  cluster       Freq\n",
              "topic                                                \n",
              "2     -0.117128 -0.008757       1        1  23.702292\n",
              "0      0.030769 -0.284291       2        1  19.455448\n",
              "5     -0.208399  0.057499       3        1  16.808031\n",
              "3     -0.079138  0.003522       4        1  16.211638\n",
              "1      0.059921  0.208097       5        1  12.736883\n",
              "4      0.313975  0.023931       6        1  11.085708, topic_info=        Term         Freq        Total Category  logprob  loglift\n",
              "6       love  4430.000000  4430.000000  Default  30.0000  30.0000\n",
              "118    price  2055.000000  2055.000000  Default  29.0000  29.0000\n",
              "1030  kindle  2493.000000  2493.000000  Default  28.0000  28.0000\n",
              "152      old  2132.000000  2132.000000  Default  27.0000  27.0000\n",
              "1069    year  1658.000000  1658.000000  Default  26.0000  26.0000\n",
              "...      ...          ...          ...      ...      ...      ...\n",
              "723   tablet   299.121739  6716.044551   Topic6  -4.2907  -0.9119\n",
              "1612    slow   119.482858   268.138348   Topic6  -5.2084   1.3912\n",
              "24       get   163.445467  1324.586853   Topic6  -4.8951   0.1071\n",
              "190   little   114.155386   598.490445   Topic6  -5.2540   0.5427\n",
              "28      like   115.243179  1725.461072   Topic6  -5.2445  -0.5067\n",
              "\n",
              "[385 rows x 6 columns], token_table=      Topic      Freq     Term\n",
              "term                          \n",
              "56        1  0.507691         \n",
              "56        2  0.240741         \n",
              "56        3  0.106780         \n",
              "56        4  0.144639         \n",
              "59        2  0.208342        2\n",
              "...     ...       ...      ...\n",
              "1069      2  0.068125     year\n",
              "1069      3  0.931444     year\n",
              "1420      3  0.992475    young\n",
              "1583      5  0.994485  youtube\n",
              "1560      3  0.998192       yr\n",
              "\n",
              "[527 rows x 3 columns], R=30, lambda_step=0.01, plot_opts={'xlab': 'PC1', 'ylab': 'PC2'}, topic_order=[3, 1, 6, 4, 2, 5])"
            ],
            "text/html": [
              "\n",
              "<link rel=\"stylesheet\" type=\"text/css\" href=\"https://cdn.jsdelivr.net/gh/bmabey/pyLDAvis@3.3.1/pyLDAvis/js/ldavis.v1.0.0.css\">\n",
              "\n",
              "\n",
              "<div id=\"ldavis_el7201401733474108968444218515\"></div>\n",
              "<script type=\"text/javascript\">\n",
              "\n",
              "var ldavis_el7201401733474108968444218515_data = {\"mdsDat\": {\"x\": [-0.1171284863877041, 0.030769035357396547, -0.20839854292952845, -0.07913765462057447, 0.059920934543838796, 0.3139747140365716], \"y\": [-0.008757148153196007, -0.28429116510926844, 0.05749864534419293, 0.003521901228387784, 0.20809707883348177, 0.02393068785640173], \"topics\": [1, 2, 3, 4, 5, 6], \"cluster\": [1, 1, 1, 1, 1, 1], \"Freq\": [23.70229234347295, 19.45544830710628, 16.808030924400953, 16.211637637751696, 12.736882816834177, 11.085707970433942]}, \"tinfo\": {\"Term\": [\"love\", \"price\", \"kindle\", \"old\", \"year\", \"great\", \"buy\", \"use\", \"screen\", \"not\", \"easy\", \"tablet\", \"good\", \"app\", \"fire\", \"play\", \"kid\", \"read\", \"gift\", \"product\", \"book\", \"daughter\", \"game\", \"amazon\", \"battery\", \"child\", \"son\", \"7\", \"store\", \"google\", \"hd\", \"video\", \"prime\", \"user\", \"card\", \"android\", \"memory\", \"beat\", \"hd8\", \"surf\", \"navigate\", \"sd\", \"husband\", \"cost\", \"library\", \"ebook\", \"listen\", \"samsung\", \"browse\", \"ease\", \"stream\", \"limited\", \"learning\", \"medium\", \"own\", \"budget\", \"ton\", \"micro\", \"powerful\", \"mainly\", \"music\", \"book\", \"reading\", \"internet\", \"read\", \"web\", \"easy\", \"storage\", \"use\", \"email\", \"travel\", \"movie\", \"picture\", \"amazon\", \"fire\", \"great\", \"tablet\", \" \", \"feature\", \"size\", \"kindle\", \"ipad\", \"good\", \"want\", \"love\", \"work\", \"purchase\", \"perfect\", \"price\", \"like\", \"game\", \"app\", \"need\", \"battery\", \"life\", \"7\", \"camera\", \"upgrade\", \"inch\", \"turn\", \"weight\", \"original\", \"cover\", \"faster\", \"last\", \"keyboard\", \"figure\", \"longer\", \"power\", \"strong\", \"bright\", \"ago\", \"protective\", \"difference\", \"port\", \"believe\", \"prefer\", \"generation\", \"charge\", \"boy\", \"site\", \"blue\", \"past\", \"replace\", \"screen\", \"long\", \"kindle\", \"previous\", \"clear\", \"new\", \"model\", \"fire\", \"second\", \"version\", \"light\", \"well\", \"go\", \"big\", \"fast\", \"8\", \"like\", \"old\", \"break\", \"size\", \"case\", \"buy\", \"nice\", \"have\", \"not\", \"time\", \"read\", \"love\", \" \", \"daughter\", \"granddaughter\", \"age\", \"mom\", \"yr\", \"warranty\", \"present\", \"young\", \"9\", \"grandkid\", \"school\", \"grand\", \"sister\", \"dad\", \"bring\", \"everyday\", \"appropriate\", \"savvy\", \"grandchild\", \"instruction\", \"lag\", \"safe\", \"geek\", \"road\", \"squad\", \"iphone\", \"busy\", \"preloade\", \"bluetooth\", \"benefit\", \"learn\", \"year\", \"son\", \"old\", \"3\", \"2\", \"4\", \"absolutely\", \"love\", \"game\", \"play\", \"buy\", \"fun\", \"watch\", \"kid\", \"enjoy\", \"5\", \"use\", \"christmas\", \"easy\", \"time\", \"tablet\", \"get\", \"perfect\", \"great\", \"purchase\", \"app\", \"set\", \"gift\", \"black\", \"value\", \"friday\", \"deal\", \"worth\", \"definitely\", \"educational\", \"thank\", \"tv\", \"adult\", \"friend\", \"birthday\", \"niece\", \"affordable\", \"nephew\", \"entertain\", \"receive\", \"beginner\", \"hope\", \"exactly\", \"provide\", \"brand\", \"2nd\", \"variety\", \"reasonable\", \"trouble\", \"idea\", \"pink\", \"toy\", \"money\", \"annoying\", \"price\", \"product\", \"sale\", \"good\", \"happy\", \"recommend\", \"great\", \"choice\", \"buy\", \"tablet\", \"purchase\", \"christmas\", \"get\", \"work\", \"love\", \"wife\", \"kid\", \"nice\", \"not\", \"watch\", \"quality\", \"item\", \"far\", \"look\", \"child\", \"google\", \"grandson\", \"durable\", \"check\", \"content\", \"youtube\", \"inexpensive\", \"parent\", \"stuff\", \"toddler\", \"profile\", \"lock\", \"wrong\", \"job\", \"install\", \"capability\", \"responsive\", \"functionality\", \"freetime\", \"impressed\", \"mode\", \"disappoint\", \"protect\", \"support\", \"news\", \"subscription\", \"certain\", \"activity\", \"kids\", \"app\", \"run\", \"available\", \"store\", \"play\", \"control\", \"fast\", \"apple\", \"case\", \"parental\", \"kid\", \"tablet\", \"access\", \"pretty\", \"amazon\", \"not\", \"netflix\", \"like\", \"download\", \"great\", \"time\", \"game\", \"need\", \"good\", \"thing\", \"ipad\", \"use\", \"return\", \"expensive\", \"tech\", \"tab\", \"freeze\", \"close\", \"meet\", \"customer\", \"lack\", \"reliable\", \"line\", \"fix\", \"consider\", \"excited\", \"type\", \"solid\", \"magazine\", \"exchange\", \"silk\", \"pass\", \"bumper\", \"functional\", \"crisp\", \"main\", \"nexus\", \"durability\", \"suppose\", \"fan\", \"okay\", \"class\", \"button\", \"probably\", \"ad\", \"issue\", \"not\", \"fine\", \"charger\", \"star\", \"know\", \"performance\", \"find\", \"load\", \"device\", \"try\", \"store\", \"think\", \"ok\", \"pay\", \"work\", \"be\", \"need\", \"take\", \"amazon\", \"problem\", \"want\", \"ipad\", \"tablet\", \"slow\", \"get\", \"little\", \"like\"], \"Freq\": [4430.0, 2055.0, 2493.0, 2132.0, 1658.0, 4644.0, 3339.0, 3277.0, 1663.0, 2581.0, 2416.0, 6716.0, 3156.0, 1909.0, 2441.0, 1371.0, 1959.0, 1640.0, 859.0, 1116.0, 1352.0, 739.0, 1503.0, 2087.0, 719.0, 557.0, 770.0, 543.0, 605.0, 414.0, 576.3605580482237, 522.7795155274553, 400.03057317651263, 319.5944659222936, 312.0039316758489, 278.51313246969283, 270.5864632962976, 249.73737749763677, 245.00067379616002, 223.99242570660505, 207.9063133248739, 204.62196824611289, 170.6636637892884, 154.7163807647192, 153.1022394035, 125.89111999197718, 140.92136595877062, 126.2398896082308, 122.05973201000701, 117.24274040335453, 101.72008949699062, 98.328621389818, 95.42608966293209, 94.45870956602259, 88.67575138191792, 76.57970541446763, 76.00962758071748, 75.67423203317541, 73.78384004047635, 70.68507375662145, 266.30015038682916, 1216.3700270645581, 193.81043633904824, 418.1502398889028, 1343.4533419865181, 296.9687818838612, 1773.0633103127057, 246.39929693304444, 2077.681537584702, 273.36744322308067, 217.43656595646482, 458.2599635594487, 284.1694501836483, 1128.608735785713, 1203.7728286467418, 1788.4406622920837, 2049.55189148336, 522.9086459664948, 378.98748726894803, 413.9690493341525, 656.8626222949665, 393.88472105480776, 660.8205202683667, 404.8626785681318, 669.1714192505832, 440.4748007900198, 437.9838315629723, 348.3662195469628, 432.46601700938095, 389.36733033374736, 349.61644488728183, 351.56858049719926, 330.37061635001885, 718.4052105070461, 486.32577382366543, 542.2706366097, 344.59941166063277, 321.37903722063476, 186.17035140747936, 162.22974548312294, 143.0104319584315, 141.56075836625618, 129.03449788810914, 125.24631661498597, 122.40865026273032, 119.39970379924115, 118.79286472868203, 110.74646586029962, 108.36128031046783, 100.62113467208212, 96.69344636864832, 87.93094830143205, 87.32308285325885, 83.56621055987654, 81.67012518073453, 77.87755279642762, 73.84439303686845, 73.15798738866113, 509.4707139715398, 69.57828572151489, 67.93426083434603, 66.6988190252979, 63.87664651250352, 390.5497483915975, 1531.5167646217865, 370.91709028915835, 1835.7713607281626, 161.23462329864512, 234.22515494831305, 536.597749361417, 190.17929311785753, 1236.6440096100318, 165.22417985965126, 219.10882609851794, 287.39797707423406, 349.89480614747896, 289.4077672429709, 267.8499103372407, 314.79133514240885, 344.6437511735611, 515.6055246962961, 547.7979388871925, 183.6816266689435, 309.3121565874828, 239.851400027803, 512.9178433510375, 289.88677321295177, 243.23746440177422, 385.6956070285794, 281.4665676175206, 296.3859390656847, 296.91349715932296, 248.29718473838167, 738.912869839369, 293.0006708983612, 242.21695714972856, 239.09779603271366, 198.50535284244071, 194.69881229620972, 184.51829023388277, 178.49095928065643, 135.25202664036956, 127.48990847486813, 118.68885641234785, 107.2990822830829, 94.69808218803891, 95.04648304402143, 89.79933560770854, 81.33152547491511, 74.18483966798303, 69.66859767243922, 67.84500043340287, 64.79631367344628, 66.80361458391747, 61.82996393995, 61.04272527678835, 55.41597627488283, 54.634273781126865, 54.076466160793316, 52.24346977063509, 47.51298264541705, 47.821994195816146, 48.31602406512038, 410.26559061318295, 1544.9104189523152, 673.9757925048225, 1583.92206217154, 296.22623749977487, 432.57974595668816, 275.5966814484034, 189.2923342128232, 2630.7859744155003, 874.7345050851354, 706.8627360420534, 1402.3579120273457, 135.14745626504956, 476.0053045639596, 863.9441253863565, 384.36590970930234, 196.71266716767647, 1001.6289360850301, 353.0240663320498, 639.127903837715, 404.7669561276563, 939.1945157435428, 389.7246132723023, 262.6081186527927, 397.91795893968566, 277.87237091691463, 278.11654837198273, 210.35096652476156, 858.8964376849557, 309.762227425497, 282.44737379638605, 254.57816976815414, 235.85768093292825, 207.7450654670356, 192.54686581924847, 160.51543776129765, 141.42799484244648, 141.37126577289328, 139.00668689711492, 136.20079929201216, 134.0741880050596, 128.41245135158476, 120.83456915163394, 111.91075482285943, 96.95264229520676, 91.8073052749995, 89.8090632158337, 81.96223108519048, 70.60307528273532, 68.51406522489403, 68.30543641155164, 62.494142654155134, 53.832603591688645, 42.736046562951785, 40.128446689490616, 39.357565715569415, 39.06413705749968, 36.714796496287974, 302.77051090515334, 63.968176280495044, 1620.5040977200026, 866.6453251582817, 196.47909467264304, 1902.029140734272, 400.19562275839814, 472.73562243138656, 1935.4287894660715, 111.25639973072825, 1328.464870511104, 2184.0395489812786, 691.1408148383206, 358.1856197859989, 527.4342256125686, 493.44286323499955, 833.6885022940064, 231.97997981130663, 487.8789522476106, 302.13834024071974, 435.5267966533276, 236.8375142276021, 200.03473115267178, 168.76941326395962, 189.42535397295046, 186.59633744725116, 556.295562925992, 413.56568776585846, 338.99664685821216, 201.57891339183544, 201.68696099224832, 170.02241155189603, 160.01583183193833, 147.7533757409554, 119.25519593775073, 110.4482414036012, 103.67335536213956, 97.92264862190915, 95.93023030315602, 90.49099887564509, 88.60015418254505, 78.19656438767646, 78.63524044996267, 76.99370805742592, 76.46274864012561, 73.13791269480166, 68.87438546693784, 66.25640472967932, 66.02244766888917, 63.70509190939628, 59.93079968208237, 57.77999685627801, 56.216344977796155, 53.082012167009346, 51.76957738671864, 48.92884342134312, 1229.1617490936883, 195.6839503674501, 185.07284864695623, 359.83665207087387, 664.1131385750031, 245.32846891102818, 328.9841423996205, 108.40919644352779, 257.47123827008073, 196.00106995780308, 606.8733388202268, 1243.9469051399738, 202.00491027972754, 171.82410470448667, 520.4640057424839, 580.294470501665, 155.065636745102, 363.8806659794693, 232.38414201276748, 522.4110594944186, 264.3863781835037, 278.7115781890958, 231.00936893219531, 303.19416413174787, 185.8132423163222, 181.3105578132854, 197.5265557684774, 255.66354838077285, 194.11022039791095, 161.54726297719523, 133.28885500014076, 109.49591106612414, 90.28960787301355, 89.09394150812416, 87.7989558168387, 80.70458599476865, 70.89003120321667, 66.80601338214458, 65.36031455429617, 64.09879128839145, 62.394506228664476, 62.25933430364615, 60.90016991808937, 60.58537901671109, 60.02167445686979, 58.138955336453634, 57.81221865434292, 56.22208216605919, 55.88012465732771, 55.628108859125746, 51.508731730504664, 50.00626374543353, 48.2670262161561, 47.65602165350834, 46.784193249990004, 47.21530930610377, 44.95644302865298, 92.1734203705508, 86.88539092014408, 172.52286730543494, 226.251012198481, 1160.9724408870106, 151.80662556450486, 89.9663343993655, 112.4434015108711, 188.14184593347855, 108.50570806145261, 240.10826024140232, 157.3273256662825, 308.6758211315698, 164.5010085561699, 244.66401180726842, 185.25276725437345, 101.3495598893027, 142.2163961598785, 350.62897588397465, 200.56604781030634, 270.56352221397856, 167.30901459311391, 307.7905213048245, 149.86813403996243, 214.13374924965945, 202.98801544137595, 299.12173928311466, 119.48285837408682, 163.4454673689312, 114.15538597972063, 115.24317924929441], \"Total\": [4430.0, 2055.0, 2493.0, 2132.0, 1658.0, 4644.0, 3339.0, 3277.0, 1663.0, 2581.0, 2416.0, 6716.0, 3156.0, 1909.0, 2441.0, 1371.0, 1959.0, 1640.0, 859.0, 1116.0, 1352.0, 739.0, 1503.0, 2087.0, 719.0, 557.0, 770.0, 543.0, 605.0, 414.0, 577.2345315466167, 523.6545657080254, 400.90144927652676, 320.46526666370306, 312.8745200232087, 279.389229743648, 271.45718210148783, 250.61433754908225, 245.87950052698886, 224.86292266091826, 208.77877042024124, 205.49308906888774, 171.54102190540632, 155.59120510656595, 153.97220225461285, 126.7600844382184, 141.89895676623541, 127.11794632322878, 122.92781605038209, 118.11201872551375, 102.59040927374765, 99.20326360871687, 96.29979160446153, 95.32978008093647, 89.55087575325015, 77.45564496592627, 76.88035390566648, 76.54847735033611, 74.66444343133442, 71.5560937397821, 275.57035584037726, 1352.6324517119658, 202.78031790803942, 452.7119596855269, 1640.5217573163093, 335.59183633614055, 2416.484767477426, 278.34239726215594, 3277.3762499408554, 322.33791205982783, 248.8285395041313, 629.0331843351768, 355.03158714254755, 2087.7024545549825, 2441.100679389053, 4644.583699143044, 6716.044551245084, 1030.1542218821085, 684.7547132455772, 825.7432944597, 2493.316948033001, 905.2319225491558, 3156.966106457414, 1001.0975031606669, 4430.916659618528, 1585.4030351805163, 1600.2268210718546, 827.1722437129431, 2055.4258378413265, 1725.4610717671294, 1503.6006412730744, 1909.2869255876212, 1058.914591243933, 719.2455513556628, 487.16696648373136, 543.2628391458138, 345.44295387589705, 322.2193749696907, 187.01205892502057, 163.07095766785835, 143.85187277694476, 142.40026067930557, 129.87594266068086, 126.08744785993835, 123.25007733521768, 120.2537552658784, 119.64451888736939, 111.5865146567186, 109.20657754846124, 101.46897964228926, 97.53447483841302, 88.77510584393937, 88.16419716864176, 84.40968546182486, 82.50883998566955, 78.72231199519047, 74.68724240341993, 73.99612390759982, 515.3529143679922, 70.42114040753226, 68.78229616872706, 67.53939273458693, 64.72091303390664, 400.59826699522785, 1663.6453982235191, 428.26603471691334, 2493.316948033001, 176.66148919834114, 274.1248620777287, 767.7934965822235, 225.36511985968906, 2441.100679389053, 197.71300930433958, 284.06120744040857, 428.7528987864857, 606.9180980250532, 461.28005074742896, 468.83223685861583, 644.4607916777744, 758.8188844685383, 1725.4610717671294, 2132.3891341964945, 263.7692987413493, 825.7432944597, 498.0036025590594, 3339.005972748691, 848.9040156917044, 571.1931531932587, 2581.710288828348, 1086.7269431520435, 1640.5217573163093, 4430.916659618528, 1030.1542218821085, 739.7684307043579, 293.8549778391458, 243.07261520913602, 239.95846442001644, 199.3603998931298, 195.5574207074545, 185.3833972635365, 179.34962522279946, 136.11041588211134, 128.34503501608327, 119.54576206522863, 108.15339903612596, 95.55431945511805, 95.91064571519246, 90.6603123897007, 82.19273586182587, 75.03966894101362, 70.53825578591147, 68.69853058721642, 65.6615858664654, 67.6988233236523, 62.68675435091677, 61.90627783205817, 56.27705663058342, 55.49966186751807, 54.95672730384965, 53.097198922788095, 48.38522954798859, 48.71444124983377, 49.22745953471927, 420.018707093276, 1658.7143515847872, 770.665560534697, 2132.3891341964945, 346.9241416545322, 547.177726992661, 333.678170277408, 220.60634776693837, 4430.916659618528, 1503.6006412730744, 1371.6742672094808, 3339.005972748691, 166.4448950358074, 860.4788366361576, 1959.239795346536, 693.6089138618282, 283.4964447076132, 3277.3762499408554, 711.9128379243193, 2416.484767477426, 1086.7269431520435, 6716.044551245084, 1324.5868533462676, 827.1722437129431, 4644.583699143044, 1600.2268210718546, 1909.2869255876212, 606.3650833710595, 859.7710029997114, 310.6405779261595, 283.32522603216665, 255.4539697960845, 236.73394777543754, 208.6211370396325, 193.42229886918216, 161.39517067335598, 142.30544456383845, 142.25304831011138, 139.88409824690677, 137.07662006899787, 134.95056276874675, 129.2863395378891, 121.70924065942928, 112.78445797400464, 97.83067606073823, 92.69570167225247, 90.68432229537201, 82.84635319675557, 71.47779645170485, 69.39201911935322, 69.18350039085207, 63.37577503279108, 54.716685545105996, 43.61102495740078, 41.015323649683545, 40.2371694841255, 39.94570629582964, 37.601397972675635, 320.4972675056362, 66.08708587246909, 2055.4258378413265, 1116.0986636580262, 241.99101913830495, 3156.966106457414, 553.4838252537157, 714.0070854812492, 4644.583699143044, 129.54228464527907, 3339.005972748691, 6716.044551245084, 1600.2268210718546, 711.9128379243193, 1324.5868533462676, 1585.4030351805163, 4430.916659618528, 440.3121101654016, 1959.239795346536, 848.9040156917044, 2581.710288828348, 860.4788366361576, 492.4464575732765, 282.5508152020758, 535.0504004265023, 596.091005791749, 557.1626477629185, 414.46104731139224, 339.8650293429384, 202.44578457569403, 202.56181534301928, 170.89007963605917, 160.88729713884084, 148.6269473882673, 120.1336359262188, 111.31867549775531, 104.54108586166895, 98.7915287168453, 96.79765283990017, 91.36703397028488, 89.47492186857484, 79.0638554489176, 79.51002990564912, 77.86993446272582, 77.33560159738236, 74.00628683674358, 69.74698533761793, 67.12388126479756, 66.894212413717, 64.57114069999409, 60.804644255999975, 58.66528965443699, 57.08505884844838, 53.95341606191726, 52.646215194371, 49.798126813848356, 1909.2869255876212, 239.20688754730224, 243.71722525853093, 605.1737465102854, 1371.6742672094808, 391.8638854244611, 644.4607916777744, 137.35322533670987, 498.0036025590594, 335.1715998486505, 1959.239795346536, 6716.044551245084, 380.9510197314076, 295.92313853779757, 2087.7024545549825, 2581.710288828348, 282.4007616319578, 1725.4610717671294, 686.808677882253, 4644.583699143044, 1086.7269431520435, 1503.6006412730744, 1058.914591243933, 3156.966106457414, 663.3444753136422, 905.2319225491558, 3277.3762499408554, 256.49444722156716, 194.94560410528143, 162.38189518844158, 134.1226803697298, 110.33283396986478, 91.12142585634125, 89.92565695340683, 88.630788238745, 81.54004895138911, 71.72371874843904, 67.63963051755348, 66.19119666471674, 64.93130979810495, 63.22694655411103, 63.09008234334402, 61.73218522114052, 61.41598063666773, 60.85325668624448, 58.97947383032337, 58.6500490460681, 57.057127939914594, 56.71311393967529, 56.465265087841345, 52.34272411413249, 50.84187359474744, 49.10399033957348, 48.487823516424555, 47.61532542480248, 48.05496668590898, 45.78894085545827, 94.07775167197488, 95.64784021403887, 224.0568063698755, 332.7911104997328, 2581.710288828348, 210.080656885153, 107.79749817106789, 147.42773046939539, 318.65939746539533, 145.45545736894871, 477.62932664253447, 260.0140586187484, 800.1308790868777, 302.96514079574354, 605.1737465102854, 389.80583379699544, 143.70898463178543, 276.60240082751176, 1585.4030351805163, 558.5894597318352, 1058.914591243933, 404.26700532414486, 2087.7024545549825, 372.7245942838538, 1001.0975031606669, 905.2319225491558, 6716.044551245084, 268.1383477093952, 1324.5868533462676, 598.4904445244053, 1725.4610717671294], \"Category\": [\"Default\", \"Default\", \"Default\", \"Default\", \"Default\", \"Default\", \"Default\", \"Default\", \"Default\", \"Default\", \"Default\", \"Default\", \"Default\", \"Default\", \"Default\", \"Default\", \"Default\", \"Default\", \"Default\", \"Default\", \"Default\", \"Default\", \"Default\", \"Default\", \"Default\", \"Default\", \"Default\", \"Default\", \"Default\", \"Default\", \"Topic1\", \"Topic1\", \"Topic1\", \"Topic1\", \"Topic1\", \"Topic1\", \"Topic1\", \"Topic1\", \"Topic1\", \"Topic1\", \"Topic1\", \"Topic1\", \"Topic1\", \"Topic1\", \"Topic1\", \"Topic1\", \"Topic1\", \"Topic1\", \"Topic1\", \"Topic1\", \"Topic1\", \"Topic1\", \"Topic1\", \"Topic1\", \"Topic1\", \"Topic1\", \"Topic1\", \"Topic1\", \"Topic1\", \"Topic1\", \"Topic1\", \"Topic1\", \"Topic1\", \"Topic1\", \"Topic1\", \"Topic1\", \"Topic1\", \"Topic1\", \"Topic1\", \"Topic1\", \"Topic1\", \"Topic1\", \"Topic1\", \"Topic1\", \"Topic1\", \"Topic1\", \"Topic1\", \"Topic1\", \"Topic1\", \"Topic1\", \"Topic1\", \"Topic1\", \"Topic1\", \"Topic1\", \"Topic1\", \"Topic1\", \"Topic1\", \"Topic1\", \"Topic1\", \"Topic1\", \"Topic1\", \"Topic1\", \"Topic1\", \"Topic2\", \"Topic2\", \"Topic2\", \"Topic2\", \"Topic2\", \"Topic2\", \"Topic2\", \"Topic2\", \"Topic2\", \"Topic2\", \"Topic2\", \"Topic2\", \"Topic2\", \"Topic2\", \"Topic2\", \"Topic2\", \"Topic2\", \"Topic2\", \"Topic2\", \"Topic2\", \"Topic2\", \"Topic2\", \"Topic2\", \"Topic2\", \"Topic2\", \"Topic2\", \"Topic2\", \"Topic2\", \"Topic2\", \"Topic2\", \"Topic2\", \"Topic2\", \"Topic2\", \"Topic2\", \"Topic2\", \"Topic2\", \"Topic2\", \"Topic2\", \"Topic2\", \"Topic2\", \"Topic2\", \"Topic2\", \"Topic2\", \"Topic2\", \"Topic2\", \"Topic2\", \"Topic2\", \"Topic2\", \"Topic2\", \"Topic2\", \"Topic2\", \"Topic2\", \"Topic2\", \"Topic2\", \"Topic2\", \"Topic2\", \"Topic2\", \"Topic2\", \"Topic2\", \"Topic2\", \"Topic3\", \"Topic3\", \"Topic3\", \"Topic3\", \"Topic3\", \"Topic3\", \"Topic3\", \"Topic3\", \"Topic3\", \"Topic3\", \"Topic3\", \"Topic3\", \"Topic3\", \"Topic3\", \"Topic3\", \"Topic3\", \"Topic3\", \"Topic3\", \"Topic3\", \"Topic3\", \"Topic3\", \"Topic3\", \"Topic3\", \"Topic3\", \"Topic3\", \"Topic3\", \"Topic3\", \"Topic3\", \"Topic3\", \"Topic3\", \"Topic3\", \"Topic3\", \"Topic3\", \"Topic3\", \"Topic3\", \"Topic3\", \"Topic3\", \"Topic3\", \"Topic3\", \"Topic3\", \"Topic3\", \"Topic3\", \"Topic3\", \"Topic3\", \"Topic3\", \"Topic3\", \"Topic3\", \"Topic3\", \"Topic3\", \"Topic3\", \"Topic3\", \"Topic3\", \"Topic3\", \"Topic3\", \"Topic3\", \"Topic3\", \"Topic3\", \"Topic3\", \"Topic4\", \"Topic4\", \"Topic4\", \"Topic4\", \"Topic4\", \"Topic4\", \"Topic4\", \"Topic4\", \"Topic4\", \"Topic4\", \"Topic4\", \"Topic4\", \"Topic4\", \"Topic4\", \"Topic4\", \"Topic4\", \"Topic4\", \"Topic4\", \"Topic4\", \"Topic4\", \"Topic4\", \"Topic4\", \"Topic4\", \"Topic4\", \"Topic4\", \"Topic4\", \"Topic4\", \"Topic4\", \"Topic4\", \"Topic4\", \"Topic4\", \"Topic4\", \"Topic4\", \"Topic4\", \"Topic4\", \"Topic4\", \"Topic4\", \"Topic4\", \"Topic4\", \"Topic4\", \"Topic4\", \"Topic4\", \"Topic4\", \"Topic4\", \"Topic4\", \"Topic4\", \"Topic4\", \"Topic4\", \"Topic4\", \"Topic4\", \"Topic4\", \"Topic4\", \"Topic4\", \"Topic4\", \"Topic4\", \"Topic4\", \"Topic5\", \"Topic5\", \"Topic5\", \"Topic5\", \"Topic5\", \"Topic5\", \"Topic5\", \"Topic5\", \"Topic5\", \"Topic5\", \"Topic5\", \"Topic5\", \"Topic5\", \"Topic5\", \"Topic5\", \"Topic5\", \"Topic5\", \"Topic5\", \"Topic5\", \"Topic5\", \"Topic5\", \"Topic5\", \"Topic5\", \"Topic5\", \"Topic5\", \"Topic5\", \"Topic5\", \"Topic5\", \"Topic5\", \"Topic5\", \"Topic5\", \"Topic5\", \"Topic5\", \"Topic5\", \"Topic5\", \"Topic5\", \"Topic5\", \"Topic5\", \"Topic5\", \"Topic5\", \"Topic5\", \"Topic5\", \"Topic5\", \"Topic5\", \"Topic5\", \"Topic5\", \"Topic5\", \"Topic5\", \"Topic5\", \"Topic5\", \"Topic5\", \"Topic5\", \"Topic5\", \"Topic5\", \"Topic5\", \"Topic5\", \"Topic5\", \"Topic6\", \"Topic6\", \"Topic6\", \"Topic6\", \"Topic6\", \"Topic6\", \"Topic6\", \"Topic6\", \"Topic6\", \"Topic6\", \"Topic6\", \"Topic6\", \"Topic6\", \"Topic6\", \"Topic6\", \"Topic6\", \"Topic6\", \"Topic6\", \"Topic6\", \"Topic6\", \"Topic6\", \"Topic6\", \"Topic6\", \"Topic6\", \"Topic6\", \"Topic6\", \"Topic6\", \"Topic6\", \"Topic6\", \"Topic6\", \"Topic6\", \"Topic6\", \"Topic6\", \"Topic6\", \"Topic6\", \"Topic6\", \"Topic6\", \"Topic6\", \"Topic6\", \"Topic6\", \"Topic6\", \"Topic6\", \"Topic6\", \"Topic6\", \"Topic6\", \"Topic6\", \"Topic6\", \"Topic6\", \"Topic6\", \"Topic6\", \"Topic6\", \"Topic6\", \"Topic6\", \"Topic6\", \"Topic6\", \"Topic6\", \"Topic6\", \"Topic6\", \"Topic6\", \"Topic6\", \"Topic6\"], \"logprob\": [30.0, 29.0, 28.0, 27.0, 26.0, 25.0, 24.0, 23.0, 22.0, 21.0, 20.0, 19.0, 18.0, 17.0, 16.0, 15.0, 14.0, 13.0, 12.0, 11.0, 10.0, 9.0, 8.0, 7.0, 6.0, 5.0, 4.0, 3.0, 2.0, 1.0, -4.3948, -4.4923, -4.76, -4.9844, -5.0085, -5.122, -5.1509, -5.2311, -5.2502, -5.3399, -5.4144, -5.4303, -5.6118, -5.7099, -5.7204, -5.9161, -5.8033, -5.9133, -5.947, -5.9873, -6.1293, -6.1632, -6.1932, -6.2033, -6.2665, -6.4132, -6.4206, -6.4251, -6.4504, -6.4933, -5.1669, -3.6479, -5.4846, -4.7157, -3.5485, -5.0579, -3.271, -5.2445, -3.1125, -5.1407, -5.3696, -4.6241, -5.1019, -3.7228, -3.6583, -3.2624, -3.1261, -4.4921, -4.814, -4.7257, -4.264, -4.7754, -4.258, -4.748, -4.2455, -4.6636, -4.6693, -4.8982, -4.682, -4.787, -4.8947, -4.8891, -4.9513, -3.977, -4.3672, -4.2583, -4.7117, -4.7814, -5.3274, -5.465, -5.5911, -5.6013, -5.694, -5.7238, -5.7467, -5.7716, -5.7767, -5.8468, -5.8686, -5.9427, -5.9825, -6.0775, -6.0844, -6.1284, -6.1514, -6.1989, -6.2521, -6.2614, -4.3207, -6.3116, -6.3355, -6.3539, -6.3971, -4.5865, -3.22, -4.6381, -3.0388, -5.4712, -5.0978, -4.2688, -5.3061, -3.4339, -5.4468, -5.1645, -4.8932, -4.6964, -4.8862, -4.9636, -4.8021, -4.7115, -4.3087, -4.2482, -5.3409, -4.8197, -5.074, -4.3139, -4.8846, -5.06, -4.599, -4.914, -4.8624, -4.8606, -5.0394, -3.8026, -4.7276, -4.918, -4.9309, -5.117, -5.1363, -5.19, -5.2232, -5.5006, -5.5598, -5.6313, -5.7322, -5.8571, -5.8534, -5.9102, -6.0093, -6.1012, -6.164, -6.1906, -6.2365, -6.206, -6.2834, -6.2962, -6.3929, -6.4071, -6.4174, -6.4519, -6.5468, -6.5403, -6.53, -4.391, -3.0651, -3.8946, -3.0401, -4.7167, -4.338, -4.7888, -5.1645, -2.5327, -3.6339, -3.847, -3.1619, -5.5014, -4.2424, -3.6463, -4.4562, -5.126, -3.4984, -4.5413, -3.9477, -4.4045, -3.5628, -4.4423, -4.8371, -4.4215, -4.7806, -4.7797, -5.059, -3.616, -4.6359, -4.7282, -4.8321, -4.9084, -5.0353, -5.1113, -5.2933, -5.4199, -5.4203, -5.4371, -5.4575, -5.4733, -5.5164, -5.5772, -5.654, -5.7974, -5.852, -5.874, -5.9654, -6.1146, -6.1446, -6.1477, -6.2366, -6.3858, -6.6166, -6.6796, -6.699, -6.7065, -6.7685, -4.6587, -6.2133, -2.9812, -3.607, -5.0911, -2.821, -4.3797, -4.2131, -2.8036, -5.6598, -3.1799, -2.6827, -3.8333, -4.4906, -4.1036, -4.1703, -3.6458, -4.925, -4.1816, -4.6608, -4.2951, -4.9043, -5.0732, -5.2431, -5.1277, -5.1427, -3.8091, -4.1056, -4.3044, -4.8243, -4.8237, -4.9945, -5.0552, -5.1349, -5.3492, -5.4259, -5.4892, -5.5463, -5.5668, -5.6252, -5.6463, -5.7712, -5.7656, -5.7867, -5.7936, -5.8381, -5.8981, -5.9369, -5.9404, -5.9762, -6.0372, -6.0738, -6.1012, -6.1586, -6.1836, -6.2401, -3.0163, -4.8539, -4.9097, -4.2448, -3.632, -4.6278, -4.3344, -5.4445, -4.5795, -4.8523, -3.7221, -3.0044, -4.8221, -4.984, -3.8757, -3.7669, -5.0866, -4.2336, -4.682, -3.872, -4.553, -4.5003, -4.688, -4.4161, -4.9057, -4.9302, -4.8446, -4.4477, -4.7232, -4.9068, -5.0991, -5.2957, -5.4886, -5.5019, -5.5165, -5.6008, -5.7305, -5.7898, -5.8117, -5.8312, -5.8581, -5.8603, -5.8824, -5.8875, -5.8969, -5.9288, -5.9344, -5.9623, -5.9684, -5.9729, -6.0498, -6.0794, -6.1148, -6.1276, -6.146, -6.1369, -6.1859, -5.4679, -5.527, -4.8411, -4.5699, -2.9346, -4.969, -5.4922, -5.2691, -4.7544, -5.3048, -4.5105, -4.9333, -4.2593, -4.8887, -4.4917, -4.7699, -5.373, -5.0342, -4.1319, -4.6904, -4.3911, -4.8717, -4.2622, -4.9818, -4.625, -4.6784, -4.2907, -5.2084, -4.8951, -5.254, -5.2445], \"loglift\": [30.0, 29.0, 28.0, 27.0, 26.0, 25.0, 24.0, 23.0, 22.0, 21.0, 20.0, 19.0, 18.0, 17.0, 16.0, 15.0, 14.0, 13.0, 12.0, 11.0, 10.0, 9.0, 8.0, 7.0, 6.0, 5.0, 4.0, 3.0, 2.0, 1.0, 1.4381, 1.4379, 1.4374, 1.4369, 1.4368, 1.4365, 1.4364, 1.4361, 1.436, 1.4357, 1.4354, 1.4354, 1.4345, 1.434, 1.4339, 1.4327, 1.4327, 1.4327, 1.4325, 1.4322, 1.4311, 1.4307, 1.4305, 1.4304, 1.4298, 1.4282, 1.4282, 1.4281, 1.4277, 1.4274, 1.4054, 1.3334, 1.3944, 1.3602, 1.2398, 1.3173, 1.13, 1.3177, 0.9838, 1.2748, 1.3047, 1.1229, 1.217, 0.8245, 0.7326, 0.4852, 0.2527, 0.7615, 0.848, 0.7491, 0.1057, 0.6075, -0.1243, 0.5343, -0.4507, 0.1589, 0.1439, 0.5748, -0.1191, -0.0491, -0.0192, -0.2525, 0.2748, 1.6359, 1.6353, 1.6352, 1.6346, 1.6344, 1.6325, 1.6319, 1.6312, 1.6311, 1.6305, 1.6303, 1.6302, 1.6299, 1.6299, 1.6295, 1.6293, 1.6287, 1.6284, 1.6275, 1.6275, 1.627, 1.6268, 1.6263, 1.6257, 1.6257, 1.6256, 1.625, 1.6246, 1.6245, 1.6239, 1.6116, 1.5543, 1.4933, 1.3309, 1.5457, 1.4797, 1.2788, 1.4673, 0.957, 1.4575, 1.3774, 1.237, 1.0863, 1.1709, 1.0772, 0.9205, 0.8478, 0.4291, 0.278, 1.2752, 0.6551, 0.9065, -0.2363, 0.5626, 0.7834, -0.2641, 0.2861, -0.0741, -1.0659, 0.2142, 1.7822, 1.7804, 1.7798, 1.7797, 1.779, 1.7789, 1.7786, 1.7785, 1.777, 1.7766, 1.7761, 1.7754, 1.7743, 1.7743, 1.7738, 1.7728, 1.7719, 1.7709, 1.7708, 1.77, 1.77, 1.7696, 1.7693, 1.7679, 1.7676, 1.7672, 1.7671, 1.7651, 1.7648, 1.7646, 1.7598, 1.7122, 1.6493, 1.486, 1.6253, 1.5483, 1.5921, 1.6302, 1.262, 1.2416, 1.1204, 0.9158, 1.575, 1.1913, 0.9645, 1.193, 1.4179, 0.5979, 1.0819, 0.4533, 0.7957, -0.1839, 0.5599, 0.636, -0.6739, 0.0326, -0.1431, 0.7246, 1.8184, 1.8166, 1.8163, 1.816, 1.8157, 1.8152, 1.8149, 1.814, 1.8133, 1.8132, 1.8131, 1.813, 1.8129, 1.8127, 1.8122, 1.8117, 1.8104, 1.8098, 1.8097, 1.8087, 1.8071, 1.8067, 1.8067, 1.8054, 1.8032, 1.7992, 1.7976, 1.7973, 1.7971, 1.7956, 1.7625, 1.7869, 1.5817, 1.5665, 1.6111, 1.3128, 1.4952, 1.4071, 0.9441, 1.6673, 0.8978, 0.6961, 0.9799, 1.1325, 0.8986, 0.6523, 0.1489, 1.1786, 0.4292, 0.7864, 0.0398, 0.5293, 0.9185, 1.3041, 0.7811, 0.658, 2.0591, 2.0585, 2.0581, 2.0564, 2.0563, 2.0556, 2.0552, 2.0548, 2.0533, 2.0528, 2.0523, 2.0518, 2.0517, 2.051, 2.0508, 2.0496, 2.0496, 2.0494, 2.0493, 2.0489, 2.0481, 2.0477, 2.0476, 2.0472, 2.0462, 2.0455, 2.0453, 2.0444, 2.0439, 2.0431, 1.6203, 1.8598, 1.7854, 1.5408, 1.3353, 1.5924, 1.3883, 1.824, 1.401, 1.5241, 0.8887, 0.3745, 1.4263, 1.517, 0.6716, 0.568, 1.4612, 0.5042, 0.977, -0.1243, 0.6472, 0.3752, 0.5381, -0.2823, 0.7881, 0.4527, -0.7483, 2.1963, 2.1952, 2.1944, 2.1933, 2.1919, 2.1903, 2.1902, 2.1901, 2.1892, 2.1878, 2.1871, 2.1869, 2.1866, 2.1863, 2.1863, 2.1859, 2.1859, 2.1858, 2.1852, 2.1851, 2.1848, 2.1847, 2.1846, 2.1835, 2.1829, 2.1823, 2.1822, 2.1819, 2.1819, 2.1812, 2.1791, 2.1034, 1.9381, 1.8136, 1.4003, 1.8746, 2.0187, 1.9286, 1.6726, 1.9064, 1.5118, 1.6971, 1.247, 1.5888, 1.2939, 1.4556, 1.8503, 1.5343, 0.6906, 1.1752, 0.835, 1.3173, 0.2851, 1.2884, 0.6573, 0.7045, -0.9119, 1.3912, 0.1071, 0.5427, -0.5067]}, \"token.table\": {\"Topic\": [1, 2, 3, 4, 2, 3, 4, 2, 3, 2, 3, 6, 2, 3, 6, 2, 1, 2, 3, 3, 2, 3, 1, 5, 5, 5, 6, 4, 4, 3, 2, 1, 4, 5, 6, 1, 4, 6, 1, 3, 5, 6, 1, 5, 3, 1, 5, 2, 2, 4, 5, 6, 1, 4, 2, 3, 1, 2, 4, 4, 4, 2, 3, 1, 2, 3, 2, 4, 2, 4, 5, 2, 3, 1, 1, 6, 3, 2, 6, 1, 2, 3, 4, 5, 2, 5, 1, 2, 5, 5, 2, 6, 2, 6, 5, 5, 1, 2, 4, 3, 4, 6, 2, 6, 6, 6, 5, 3, 5, 1, 2, 6, 6, 3, 3, 4, 4, 1, 2, 3, 5, 6, 2, 5, 1, 3, 5, 6, 5, 1, 1, 2, 3, 1, 4, 1, 5, 2, 3, 4, 4, 3, 4, 6, 6, 6, 6, 1, 2, 4, 5, 2, 5, 2, 1, 2, 3, 5, 6, 2, 1, 2, 3, 6, 5, 6, 1, 2, 6, 5, 6, 4, 4, 3, 4, 6, 5, 1, 3, 5, 3, 2, 1, 2, 3, 4, 6, 4, 2, 3, 4, 1, 2, 4, 5, 6, 5, 3, 3, 3, 3, 5, 1, 3, 4, 5, 2, 4, 1, 2, 3, 4, 6, 1, 1, 4, 1, 4, 5, 2, 5, 5, 3, 1, 5, 1, 2, 5, 6, 3, 2, 4, 6, 3, 4, 6, 5, 2, 3, 4, 5, 5, 1, 2, 2, 3, 4, 6, 6, 3, 2, 1, 3, 1, 1, 2, 1, 2, 1, 2, 3, 4, 5, 6, 1, 6, 1, 1, 2, 4, 5, 6, 1, 6, 5, 2, 5, 2, 1, 2, 4, 5, 6, 1, 2, 3, 4, 6, 6, 1, 1, 6, 1, 1, 5, 2, 6, 3, 4, 6, 1, 3, 1, 3, 1, 1, 2, 4, 5, 6, 4, 1, 3, 5, 1, 2, 3, 5, 6, 1, 2, 4, 4, 1, 2, 3, 4, 5, 6, 2, 5, 6, 6, 2, 3, 2, 1, 5, 3, 5, 6, 2, 4, 5, 6, 1, 2, 3, 4, 1, 6, 1, 2, 4, 3, 5, 2, 2, 1, 2, 3, 3, 2, 4, 5, 1, 2, 1, 4, 6, 1, 5, 6, 2, 3, 4, 6, 1, 4, 5, 5, 2, 4, 1, 2, 3, 4, 5, 6, 1, 2, 4, 1, 2, 1, 2, 4, 4, 1, 4, 6, 2, 6, 5, 6, 3, 2, 5, 6, 3, 4, 6, 1, 3, 3, 2, 5, 1, 2, 4, 1, 3, 5, 6, 3, 2, 1, 2, 4, 5, 6, 6, 3, 4, 3, 2, 6, 1, 2, 5, 6, 1, 2, 5, 5, 5, 6, 1, 6, 1, 3, 4, 5, 6, 1, 2, 6, 6, 4, 1, 2, 3, 4, 5, 2, 3, 4, 6, 1, 2, 3, 4, 5, 6, 5, 1, 4, 1, 2, 4, 4, 2, 6, 2, 4, 6, 2, 1, 3, 5, 1, 4, 4, 1, 2, 1, 1, 2, 3, 4, 5, 6, 3, 2, 3, 4, 1, 5, 2, 1, 2, 4, 1, 4, 1, 2, 3, 4, 5, 6, 4, 5, 2, 3, 3, 5, 3], \"Freq\": [0.5076909737305842, 0.24074065293534397, 0.10678012831809612, 0.14463853744905747, 0.20834181359419446, 0.791333379704265, 0.9782917836968582, 0.14412372618850522, 0.8532124590359509, 0.12586978634257887, 0.8271443102512326, 0.047950394797172904, 0.08818452741368235, 0.694894076019817, 0.21517024688938494, 0.9976754545777521, 0.3821728820087421, 0.4546539458379863, 0.16209401547267338, 0.9918418008282841, 0.14052179510605126, 0.8567296540336673, 0.46725166958602776, 0.5302518946987506, 0.9877253247553474, 0.22762084681243125, 0.7721256176186394, 0.9936797802038494, 0.9941726638373014, 0.9955872642904954, 0.9912688829084366, 0.5407858756580612, 0.062269409951769675, 0.2490776398070787, 0.14753060203957738, 0.998606854874094, 0.9684191571633735, 0.01513154933067771, 0.1843620229534987, 0.14560409767350183, 0.6436958130961645, 0.02618778735134925, 0.20385396798189745, 0.7862938765016044, 0.9861450755888747, 0.23798071694963138, 0.7590764247531345, 0.9982682529585131, 0.28643576639776197, 0.24168017789811166, 0.11278408301911877, 0.3598349315371885, 0.9975486735711522, 0.9924537971057106, 0.9908245581604032, 0.9750655519029259, 0.2730187686274665, 0.5716330468137579, 0.15570601648285198, 0.9929562148593952, 0.9979378807159194, 0.9920136573228219, 0.98533409741539, 0.8989877467903152, 0.07097271685186698, 0.02957196535494458, 0.9940196877657037, 0.9828933143861486, 0.6975792894700356, 0.09477979476495049, 0.20472435669229305, 0.9945201443971632, 0.992716632313571, 0.992452350654291, 0.9941173433372518, 0.9814724649122222, 0.9793360300534196, 0.01062950572508094, 0.9779145267074465, 0.02725362001227216, 0.15363853919006173, 0.4198854423868744, 0.39772315798129043, 0.0011979613192207544, 0.9987177220698032, 0.9935853387773298, 0.9972048857697207, 0.481924224577347, 0.5160605238182424, 0.9823289027552378, 0.9876726914879619, 0.009702089307347367, 0.15770310339690874, 0.8348987826895169, 0.9972264499008962, 0.9979132704469931, 0.0926338456424415, 0.04631692282122075, 0.8568630721925838, 0.49584721779876945, 0.5028705494956358, 0.982770056683584, 0.8536256004887611, 0.14227093341479352, 0.9876930607066087, 0.9856569996662514, 0.9947915078630968, 0.3725783503673858, 0.6252170947945858, 0.996200266550021, 0.9932555433844328, 0.9917601540147284, 0.9928829670673148, 0.9905052696871979, 0.9989612550732582, 0.9968996935913317, 0.9978167001858055, 0.3136986792541306, 0.11623098474356233, 0.05999018567409669, 0.12497955348770143, 0.3861868202769974, 0.9951464638260008, 0.9866324397664388, 0.42661080070137397, 0.2344175389519495, 0.33779421762020057, 0.9775172988602566, 0.9977980051467688, 0.9905850502132385, 0.733710397790274, 0.0016552970057310185, 0.26443369666553024, 0.9940037556649873, 0.9975515334708759, 0.8469372971223118, 0.1489120522412856, 0.24221142007045598, 0.5536261030181852, 0.20184285005871333, 0.9915090430304039, 0.9854885489657994, 0.9933154563315661, 0.9859784548484593, 0.9805945625879469, 0.9951493950857658, 0.9870771559510972, 0.16260150432678883, 0.3308099570786393, 0.35323775077888603, 0.15138760747666546, 0.48878070484309255, 0.5105042917250078, 0.9913754471329587, 0.5534828642560613, 0.28039237450438986, 0.004381130851631092, 0.1095282712907773, 0.0525735702195731, 0.9946130512842287, 0.207273704686256, 0.2030863571168367, 0.08584062517309593, 0.5024817083303176, 0.2760844375677456, 0.723531629487885, 0.4932201322812017, 0.5067386242789422, 0.9820036995138401, 0.9864026844237783, 0.9879198791338142, 0.9982228900320207, 0.9921458519442925, 0.8110792462031194, 0.1862478269059015, 0.9874259427822317, 0.9827297962413786, 0.2327745748390082, 0.5819364370975205, 0.18555458965738084, 0.9853604858215388, 0.9865381609874093, 0.0037747619096238473, 0.18043361928001989, 0.2944314289506601, 0.3978599052743535, 0.12305723825373742, 0.9991032461003903, 0.6265174475499704, 0.13657646780501084, 0.23413108766573287, 0.20937823774793085, 0.07000391912601017, 0.6024771682247572, 0.09597822396009538, 0.02217318705348738, 0.9988875979675701, 0.9893355267018404, 0.989831942819656, 0.9970904769235734, 0.9895201632387671, 0.9974547856700328, 0.38496453413680487, 0.08569121061881899, 0.4166143028829516, 0.11238897473121486, 0.2764308422741444, 0.7226950124814233, 0.15406347136347046, 0.42542526751503773, 0.14530986503600055, 0.1785735690803862, 0.09628966960216903, 0.997861299906454, 0.9964230424858361, 0.989784062133121, 0.9968461077158287, 0.9692530687424822, 0.989290069900483, 0.9945882691691752, 0.9957817381081676, 0.9865443514880837, 0.9899243087455906, 0.9233244032041051, 0.07510294188741524, 0.4352475759918918, 0.14029553845423923, 0.1999487595292701, 0.22425192367094932, 0.982591261328936, 0.19531771717818225, 0.12320040622008419, 0.6791046781887567, 0.09909721895502177, 0.5981225001213815, 0.3008308432563161, 0.9946921231261601, 0.9895740863717197, 0.44098736767807534, 0.24907619841076478, 0.3098140418756849, 0.9839727542999388, 0.2635044054540731, 0.7363684755154919, 0.09100626007161532, 0.11297328836476384, 0.20711769533540036, 0.5899716170159889, 0.9933768870839031, 0.989677467209269, 0.9898573910682612, 0.021427617027546624, 0.9761469979215686, 0.9865026540264983, 0.9936858586135879, 0.9976045861808852, 0.32886075032746653, 0.6693832293899497, 0.22544698710681776, 0.29905050217768114, 0.09620616930522301, 0.10200172167300753, 0.21095810618735647, 0.06664885222952197, 0.9878707255694444, 0.9905435539393213, 0.9936648106038133, 0.043442631771107194, 0.2623266610793781, 0.28906058832313636, 0.2122005474973313, 0.1904792316117777, 0.39228648074587325, 0.6038135046774716, 0.9917595849021313, 0.866283968200358, 0.13309484147552672, 0.9947438571898859, 0.3640383731537318, 0.04361750093086187, 0.31371048746427577, 0.100655771378912, 0.17782519610274455, 0.150984559492391, 0.06702901968496282, 0.5937823258960848, 0.18822290376181477, 0.9932268339224503, 0.99345230650615, 0.9922285620871876, 0.9860507379770784, 0.9897064198943085, 0.9983158224146123, 0.9928349018906553, 0.9832566108571114, 0.8430763381586859, 0.15530353597660004, 0.9960057069779428, 0.9454058761816792, 0.05304257391118332, 0.7281014919492026, 0.27025601229555557, 0.9652707352676176, 0.03265953615567128, 0.9962698773506823, 0.31163986475277566, 0.0632723361770787, 0.15109811624377, 0.21814790532694295, 0.2559224343878855, 0.9930446269982922, 0.32931922514147954, 0.11685520892117016, 0.5488653752357993, 0.20838936603686836, 0.6994068097612394, 0.09247278117886033, 0.988659569255418, 0.9834413341754893, 0.30156530687560235, 0.3416169491950183, 0.35575282295481214, 0.9900504605321268, 0.001936700652135968, 0.14951329034489674, 0.005422761825980711, 0.1688802968662564, 0.2246572756477723, 0.4497018914259718, 0.09741910038451063, 0.19483820076902125, 0.702809224202541, 0.9780466670010548, 0.2569887415068319, 0.7428287710708426, 0.9971891857683675, 0.9938484604576281, 0.9905635426957773, 0.4117293949198412, 0.5847750826397744, 0.9889164790713559, 0.9888612042056798, 0.3362226781899643, 0.14822720221277996, 0.5133722613223111, 0.420710441682528, 0.03868601762597959, 0.3179507073635197, 0.22244460134938263, 0.24749844833037626, 0.7493703018891947, 0.7999288240400202, 0.19716555522113172, 0.9763252078001592, 0.5154284926831157, 0.48407994220875367, 0.9938329034106173, 0.9889514205504168, 0.9911009390708782, 0.9907983963351088, 0.9920382821041178, 0.9979318683916906, 0.14530800197804644, 0.2703404687963655, 0.5812320079121858, 0.08490814873160737, 0.9113474630525858, 0.21017542547470364, 0.7886443627187375, 0.000973034377197702, 0.997751444206167, 0.08364015310850466, 0.9095866650549882, 0.22000158094625685, 0.21463568872805547, 0.1609767665460416, 0.402441916365104, 0.22309855580679547, 0.7768130437128179, 0.9919878887681355, 0.9911548612305351, 0.9867951253906972, 0.994350659855005, 0.27371119783295556, 0.09186197735489605, 0.17372537214055173, 0.43181378470906917, 0.0181224309067482, 0.01062349397981791, 0.4731478852507115, 0.1198099795270042, 0.40613552382035323, 0.81864199240916, 0.18043040190105092, 0.956700344497826, 0.039451560597848497, 0.9859892089672823, 0.9924947795884616, 0.33753166446179333, 0.6624584119934782, 0.9899096315546969, 0.9760401684529949, 0.022466397739327248, 0.9888283652897867, 0.9980722887886144, 0.977307686168338, 0.050165779602090455, 0.8193744001674774, 0.12959493063873367, 0.9890446656869111, 0.8099474133293363, 0.1859573142847966, 0.9912054406512664, 0.9923693068404594, 0.9954347016924712, 0.9208693160428939, 0.07874274177651377, 0.9976004591146009, 0.8345429599223567, 0.1618507558637298, 0.4089945262369909, 0.3463260101200326, 0.2440773785607849, 0.9833929710335972, 0.9941989074038834, 0.9886264894849099, 0.5013664691892997, 0.37420830671375266, 0.12352507211910282, 0.5519538747974999, 0.44380075068177355, 0.9881393276697132, 0.8745687293102481, 0.12456765283944186, 0.9909970286177454, 0.2306214705452451, 0.7596942559137485, 0.8838035542544589, 0.1113736186255619, 0.5948704848416314, 0.40484241329499915, 0.9942449856869932, 0.9953780983711223, 0.9881540496968821, 0.980992244374679, 0.9867667303074374, 0.9899392573011797, 0.9961624502131927, 0.9916294517330331, 0.30523919017481077, 0.13981443881665723, 0.32519141041062766, 0.18522807442803152, 0.0445202526157407, 0.28446546090941055, 0.2993071371307711, 0.4130933214945353, 0.9976481664535422, 0.9908264608719674, 0.04974790810520727, 0.30753252283219035, 0.21708178082272261, 0.14622869958197288, 0.28039730022935005, 0.17701120408560658, 0.010261519077426468, 0.33863012955507343, 0.4745952573309742, 0.002760583069099697, 0.25857461413900495, 0.37267871432845906, 0.06625399365839273, 0.24293131008077332, 0.057052050094727066, 0.9948241798216548, 0.9885490393716619, 0.9840059677272461, 0.872086459344416, 0.056263642538349416, 0.06832013736799572, 0.9752452605675982, 0.45549794817166245, 0.544617111944379, 0.9934325665147581, 0.9911914132948508, 0.9827218113710542, 0.9962156994134651, 0.6340437720684344, 0.3057323674747696, 0.06041418039920597, 0.9985481526015382, 0.9953225978119711, 0.9869018830733964, 0.22530355544386033, 0.7709606037844595, 0.9987500047724392, 0.4045559985129653, 0.03695943690118448, 0.12486296250400163, 0.1388476143044498, 0.07991229600256104, 0.21376539180685078, 0.9971495803869883, 0.1708351138241382, 0.5531803685733999, 0.27542804065524323, 0.8850036497983056, 0.11323279020988421, 0.994078125223537, 0.24385497891989152, 0.5766840717700138, 0.17959589663694714, 0.4723921854474218, 0.5268989760759705, 0.27753195259267366, 0.04289130176432229, 0.06496770708419407, 0.31096193779133663, 0.08136732246467024, 0.22139480763642833, 0.9970226552858137, 0.9850379955342593, 0.06812505112289906, 0.931444283052027, 0.9924748924279999, 0.9944849770328659, 0.9981922192505482], \"Term\": [\" \", \" \", \" \", \" \", \"2\", \"2\", \"2nd\", \"3\", \"3\", \"4\", \"4\", \"4\", \"5\", \"5\", \"5\", \"7\", \"8\", \"8\", \"8\", \"9\", \"absolutely\", \"absolutely\", \"access\", \"access\", \"activity\", \"ad\", \"ad\", \"adult\", \"affordable\", \"age\", \"ago\", \"amazon\", \"amazon\", \"amazon\", \"amazon\", \"android\", \"annoying\", \"annoying\", \"app\", \"app\", \"app\", \"app\", \"apple\", \"apple\", \"appropriate\", \"available\", \"available\", \"battery\", \"be\", \"be\", \"be\", \"be\", \"beat\", \"beginner\", \"believe\", \"benefit\", \"big\", \"big\", \"big\", \"birthday\", \"black\", \"blue\", \"bluetooth\", \"book\", \"book\", \"book\", \"boy\", \"brand\", \"break\", \"break\", \"break\", \"bright\", \"bring\", \"browse\", \"budget\", \"bumper\", \"busy\", \"button\", \"button\", \"buy\", \"buy\", \"buy\", \"buy\", \"buy\", \"camera\", \"capability\", \"card\", \"case\", \"case\", \"certain\", \"charge\", \"charge\", \"charger\", \"charger\", \"check\", \"child\", \"choice\", \"choice\", \"choice\", \"christmas\", \"christmas\", \"class\", \"clear\", \"clear\", \"close\", \"consider\", \"content\", \"control\", \"control\", \"cost\", \"cover\", \"crisp\", \"customer\", \"dad\", \"daughter\", \"deal\", \"definitely\", \"device\", \"device\", \"device\", \"device\", \"device\", \"difference\", \"disappoint\", \"download\", \"download\", \"download\", \"durability\", \"durable\", \"ease\", \"easy\", \"easy\", \"easy\", \"ebook\", \"educational\", \"email\", \"email\", \"enjoy\", \"enjoy\", \"enjoy\", \"entertain\", \"everyday\", \"exactly\", \"exchange\", \"excited\", \"expensive\", \"fan\", \"far\", \"far\", \"far\", \"far\", \"fast\", \"fast\", \"faster\", \"feature\", \"feature\", \"feature\", \"feature\", \"feature\", \"figure\", \"find\", \"find\", \"find\", \"find\", \"fine\", \"fine\", \"fire\", \"fire\", \"fix\", \"freetime\", \"freeze\", \"friday\", \"friend\", \"fun\", \"fun\", \"functional\", \"functionality\", \"game\", \"game\", \"game\", \"geek\", \"generation\", \"get\", \"get\", \"get\", \"get\", \"get\", \"gift\", \"go\", \"go\", \"go\", \"good\", \"good\", \"good\", \"good\", \"good\", \"google\", \"grand\", \"grandchild\", \"granddaughter\", \"grandkid\", \"grandson\", \"great\", \"great\", \"great\", \"great\", \"happy\", \"happy\", \"have\", \"have\", \"have\", \"have\", \"have\", \"hd\", \"hd8\", \"hope\", \"husband\", \"idea\", \"impressed\", \"inch\", \"inexpensive\", \"install\", \"instruction\", \"internet\", \"internet\", \"ipad\", \"ipad\", \"ipad\", \"ipad\", \"iphone\", \"issue\", \"issue\", \"issue\", \"item\", \"item\", \"item\", \"job\", \"keyboard\", \"kid\", \"kid\", \"kid\", \"kids\", \"kindle\", \"kindle\", \"know\", \"know\", \"know\", \"know\", \"lack\", \"lag\", \"last\", \"learn\", \"learn\", \"learning\", \"library\", \"life\", \"light\", \"light\", \"like\", \"like\", \"like\", \"like\", \"like\", \"like\", \"limited\", \"line\", \"listen\", \"little\", \"little\", \"little\", \"little\", \"little\", \"load\", \"load\", \"lock\", \"long\", \"long\", \"longer\", \"look\", \"look\", \"look\", \"look\", \"look\", \"love\", \"love\", \"love\", \"love\", \"magazine\", \"main\", \"mainly\", \"medium\", \"meet\", \"memory\", \"micro\", \"mode\", \"model\", \"model\", \"mom\", \"money\", \"money\", \"movie\", \"movie\", \"music\", \"music\", \"navigate\", \"need\", \"need\", \"need\", \"need\", \"need\", \"nephew\", \"netflix\", \"netflix\", \"netflix\", \"new\", \"new\", \"new\", \"news\", \"nexus\", \"nice\", \"nice\", \"nice\", \"niece\", \"not\", \"not\", \"not\", \"not\", \"not\", \"not\", \"ok\", \"ok\", \"ok\", \"okay\", \"old\", \"old\", \"original\", \"own\", \"parent\", \"parental\", \"parental\", \"pass\", \"past\", \"pay\", \"pay\", \"pay\", \"perfect\", \"perfect\", \"perfect\", \"perfect\", \"performance\", \"performance\", \"picture\", \"picture\", \"pink\", \"play\", \"play\", \"port\", \"power\", \"powerful\", \"prefer\", \"preloade\", \"present\", \"pretty\", \"pretty\", \"pretty\", \"previous\", \"previous\", \"price\", \"price\", \"price\", \"prime\", \"probably\", \"probably\", \"problem\", \"problem\", \"problem\", \"problem\", \"product\", \"product\", \"profile\", \"protect\", \"protective\", \"provide\", \"purchase\", \"purchase\", \"purchase\", \"purchase\", \"purchase\", \"purchase\", \"quality\", \"quality\", \"quality\", \"read\", \"read\", \"reading\", \"reading\", \"reasonable\", \"receive\", \"recommend\", \"recommend\", \"reliable\", \"replace\", \"replace\", \"responsive\", \"return\", \"road\", \"run\", \"run\", \"run\", \"safe\", \"sale\", \"sale\", \"samsung\", \"savvy\", \"school\", \"screen\", \"screen\", \"sd\", \"second\", \"second\", \"set\", \"set\", \"set\", \"silk\", \"sister\", \"site\", \"size\", \"size\", \"size\", \"slow\", \"slow\", \"solid\", \"son\", \"son\", \"squad\", \"star\", \"star\", \"storage\", \"storage\", \"store\", \"store\", \"stream\", \"strong\", \"stuff\", \"subscription\", \"support\", \"suppose\", \"surf\", \"tab\", \"tablet\", \"tablet\", \"tablet\", \"tablet\", \"tablet\", \"take\", \"take\", \"take\", \"tech\", \"thank\", \"thing\", \"thing\", \"thing\", \"thing\", \"thing\", \"think\", \"think\", \"think\", \"think\", \"time\", \"time\", \"time\", \"time\", \"time\", \"time\", \"toddler\", \"ton\", \"toy\", \"travel\", \"travel\", \"travel\", \"trouble\", \"try\", \"try\", \"turn\", \"tv\", \"type\", \"upgrade\", \"use\", \"use\", \"use\", \"user\", \"value\", \"variety\", \"version\", \"version\", \"video\", \"want\", \"want\", \"want\", \"want\", \"want\", \"want\", \"warranty\", \"watch\", \"watch\", \"watch\", \"web\", \"web\", \"weight\", \"well\", \"well\", \"well\", \"wife\", \"wife\", \"work\", \"work\", \"work\", \"work\", \"work\", \"work\", \"worth\", \"wrong\", \"year\", \"year\", \"young\", \"youtube\", \"yr\"]}, \"R\": 30, \"lambda.step\": 0.01, \"plot.opts\": {\"xlab\": \"PC1\", \"ylab\": \"PC2\"}, \"topic.order\": [3, 1, 6, 4, 2, 5]};\n",
              "\n",
              "function LDAvis_load_lib(url, callback){\n",
              "  var s = document.createElement('script');\n",
              "  s.src = url;\n",
              "  s.async = true;\n",
              "  s.onreadystatechange = s.onload = callback;\n",
              "  s.onerror = function(){console.warn(\"failed to load library \" + url);};\n",
              "  document.getElementsByTagName(\"head\")[0].appendChild(s);\n",
              "}\n",
              "\n",
              "if(typeof(LDAvis) !== \"undefined\"){\n",
              "   // already loaded: just create the visualization\n",
              "   !function(LDAvis){\n",
              "       new LDAvis(\"#\" + \"ldavis_el7201401733474108968444218515\", ldavis_el7201401733474108968444218515_data);\n",
              "   }(LDAvis);\n",
              "}else if(typeof define === \"function\" && define.amd){\n",
              "   // require.js is available: use it to load d3/LDAvis\n",
              "   require.config({paths: {d3: \"https://d3js.org/d3.v5\"}});\n",
              "   require([\"d3\"], function(d3){\n",
              "      window.d3 = d3;\n",
              "      LDAvis_load_lib(\"https://cdn.jsdelivr.net/gh/bmabey/pyLDAvis@3.3.1/pyLDAvis/js/ldavis.v3.0.0.js\", function(){\n",
              "        new LDAvis(\"#\" + \"ldavis_el7201401733474108968444218515\", ldavis_el7201401733474108968444218515_data);\n",
              "      });\n",
              "    });\n",
              "}else{\n",
              "    // require.js not available: dynamically load d3 & LDAvis\n",
              "    LDAvis_load_lib(\"https://d3js.org/d3.v5.js\", function(){\n",
              "         LDAvis_load_lib(\"https://cdn.jsdelivr.net/gh/bmabey/pyLDAvis@3.3.1/pyLDAvis/js/ldavis.v3.0.0.js\", function(){\n",
              "                 new LDAvis(\"#\" + \"ldavis_el7201401733474108968444218515\", ldavis_el7201401733474108968444218515_data);\n",
              "            })\n",
              "         });\n",
              "}\n",
              "</script>"
            ]
          },
          "metadata": {},
          "execution_count": 34
        }
      ]
    },
    {
      "cell_type": "markdown",
      "metadata": {
        "id": "9gie-6YrzGeB"
      },
      "source": [
        "## Create a Topic id/name dictionary \n",
        "\n",
        "When populating your topic id/name dictionary, use the index ordering as shown in the viz tool. \n",
        "\n",
        "We'll use a function to map the the viz tool index ordering with the train LDA model ordering. "
      ]
    },
    {
      "cell_type": "code",
      "metadata": {
        "deletable": false,
        "nbgrader": {
          "cell_type": "code",
          "checksum": "fc10e9728e5dcf06baf0800c3cdb88ce",
          "grade": false,
          "grade_id": "cell-4905c0c1050f0d03",
          "locked": false,
          "schema_version": 3,
          "solution": true,
          "task": false
        },
        "id": "88vMiVwQzGeC"
      },
      "source": [
        "# create a dictionary \n",
        "# keys - use topic ids from pyLDAvis visualization \n",
        "# values - topic names that you create \n",
        "# save dictionary to `vis_topic_name_dict`\n",
        "\n",
        "vis_topic_name_dict = {1:\"amazon prime\", \n",
        "                       2:\"kindle\", \n",
        "                       3:\"tablet\", \n",
        "                       4:\"different tablet\", \n",
        "                       5:\"google tablet\",\n",
        "                       6: \"amazon tablet\"}\n"
      ],
      "execution_count": null,
      "outputs": []
    },
    {
      "cell_type": "code",
      "metadata": {
        "id": "iWLsK27ZzGeC"
      },
      "source": [
        "def get_topic_id_lookup_dict(vis, vis_topic_name_dict):\n",
        "    \"\"\"\n",
        "    Both the starting index and the ordering of topic ids bewteen the trained LDA model \n",
        "    and the viz tool are different. So we need to create a look up dictionary that maps \n",
        "    the correct association between topic ids from both sources. \n",
        "    \"\"\"\n",
        "    # value is order of topic ids accoridng to pyLDAvis tool \n",
        "    # key is order of topic ids according to lda model\n",
        "    model_vis_tool_topic_id_lookup = vis.topic_coordinates.topics.to_dict()\n",
        "\n",
        "    # invert dictionary so that \n",
        "    # key is order of topic ids accoridng to pyLDAvis tool \n",
        "    # value is order of topic ids according to lda model\n",
        "    topic_id_lookup =  {v:k for k, v in model_vis_tool_topic_id_lookup.items()}\n",
        "    \n",
        "    return {v:vis_topic_name_dict[k]  for k, v in topic_id_lookup.items()}"
      ],
      "execution_count": null,
      "outputs": []
    },
    {
      "cell_type": "markdown",
      "metadata": {
        "id": "tR8xm8IG4M0M"
      },
      "source": [
        "Create a topic id/name look up dict \n",
        "that is aligned with the index ordering of the trained LDA model"
      ]
    },
    {
      "cell_type": "code",
      "metadata": {
        "deletable": false,
        "nbgrader": {
          "cell_type": "code",
          "checksum": "55f23aa9324a225091037f0c5daf2192",
          "grade": false,
          "grade_id": "cell-d38acb7b250b4079",
          "locked": false,
          "schema_version": 3,
          "solution": true,
          "task": false
        },
        "id": "dcsa0f_tzGeC"
      },
      "source": [
        "topic_name_dict = get_topic_id_lookup_dict(vis, vis_topic_name_dict)"
      ],
      "execution_count": null,
      "outputs": []
    },
    {
      "cell_type": "code",
      "metadata": {
        "id": "tbeEkAlC4WNi",
        "colab": {
          "base_uri": "https://localhost:8080/"
        },
        "outputId": "53a15853-129c-4de3-a3a4-d2393d158d97"
      },
      "source": [
        "topic_name_dict"
      ],
      "execution_count": null,
      "outputs": [
        {
          "output_type": "execute_result",
          "data": {
            "text/plain": [
              "{0: 'kindle',\n",
              " 1: 'google tablet',\n",
              " 2: 'amazon prime',\n",
              " 3: 'different tablet',\n",
              " 4: 'amazon tablet',\n",
              " 5: 'tablet'}"
            ]
          },
          "metadata": {},
          "execution_count": 42
        }
      ]
    },
    {
      "cell_type": "markdown",
      "metadata": {
        "id": "t4NLAlB9zGeC"
      },
      "source": [
        "## Use the LDA Model to Assign Each Document a Topic Name\n",
        "\n",
        "Now that we have a topic id/name look up dict that is aligned with the index ordering of the trained LDA model, we can move forward to giving each topic a topic name. \n",
        "\n",
        "The function below has been given to you. However, you highly encouraged to read through it and make sure that you understand what it is doing each step of the way. In fact, a good way to do this is to copy and paste the code inside of the function into a new cell, comment out all the lines of code and line by line, uncomment the code and see the output. "
      ]
    },
    {
      "cell_type": "code",
      "metadata": {
        "id": "23No1SMKzGeC"
      },
      "source": [
        "def get_topic_ids_for_docs(lda_model, corpus):\n",
        "    \n",
        "    \"\"\"\n",
        "    Passes a Bag-of-Words vector into a trained LDA model in order to get the topic id of that document. \n",
        "    \n",
        "    Parameters\n",
        "    ----------\n",
        "    lda_model: Gensim object\n",
        "        Must be a trained model \n",
        "        \n",
        "    corpus: nested lists of tuples, \n",
        "        i.e. [[(),(), ..., ()], [(),(), ..., ()], ..., [(),(), ..., ()]]\n",
        "        \n",
        "    Returns\n",
        "    -------\n",
        "    topic_id_list: list\n",
        "        Contains topic ids for all document vectors in corpus \n",
        "    \"\"\"\n",
        "    \n",
        "    # store topic ids for each document\n",
        "    doc_topic_ids = []\n",
        "\n",
        "    # iterature through the bow vectors for each doc\n",
        "    for doc_bow in corpus:\n",
        "        \n",
        "        # store the topic ids for the doc\n",
        "        topic_ids = []\n",
        "        # store the topic probabilities for the doc\n",
        "        topic_probs = []\n",
        "\n",
        "        # list of tuples\n",
        "        # each tuple has a topic id and the prob that the doc belongs to that topic \n",
        "        topic_id_prob_tuples = lda_trained_model.get_document_topics(doc_bow)\n",
        "        \n",
        "        # iterate through the topic id/prob pairs \n",
        "        for topic_id_prob in topic_id_prob_tuples:\n",
        "            \n",
        "            # index for topic id\n",
        "            topic_id = topic_id_prob[0]\n",
        "            # index for prob that doc belongs that the corresponding topic\n",
        "            topic_prob = topic_id_prob[1]\n",
        "\n",
        "            # store all topic ids for doc\n",
        "            topic_ids.append(topic_id)\n",
        "            # store all topic probs for doc\n",
        "            topic_probs.append(topic_prob)\n",
        "\n",
        "        # get the index for the topic that had the highest probability, for the current document \n",
        "        max_topic_prob_ind = np.argmax(topic_probs)\n",
        "        # get the corresponding topic id\n",
        "        max_prob_topic_id = topic_ids[max_topic_prob_ind]\n",
        "        # store the most probable topic id for the current document\n",
        "        doc_topic_ids.append(max_prob_topic_id)\n",
        "        \n",
        "    return doc_topic_ids"
      ],
      "execution_count": null,
      "outputs": []
    },
    {
      "cell_type": "code",
      "metadata": {
        "deletable": false,
        "nbgrader": {
          "cell_type": "code",
          "checksum": "09f2b8ebaf696dc05187cecce8c9e251",
          "grade": false,
          "grade_id": "cell-e28e8774a79ac647",
          "locked": false,
          "schema_version": 3,
          "solution": true,
          "task": false
        },
        "id": "gI94W2MvzGeD"
      },
      "source": [
        "# use get_topic_ids_for_docs to get the topic id for each doc in the corpus - save result to `doc_topic_ids`\n",
        "doc_topic_ids = get_topic_ids_for_docs(lda_trained_model, corpus)\n",
        "\n",
        "# create a new feature in df_electronics called topic_id using `doc_topic_ids`\n",
        "df_electronics['topic_id'] = doc_topic_ids\n",
        "\n",
        "# iterate through topic_id and use the lookup dict `topic_name_dict` to assign each document a topic name\n",
        "# save results to a new feature in df_electronics called `new_topic_name`\n",
        "df_electronics['new_topic_name'] = df_electronics['topic_id'].apply(lambda topic_id: topic_name_dict[topic_id])\n",
        "\n",
        "# YOUR CODE HERE\n"
      ],
      "execution_count": null,
      "outputs": []
    },
    {
      "cell_type": "markdown",
      "metadata": {
        "id": "NZa4oKuIzGeD"
      },
      "source": [
        "## Congratulations! You have created new topic names for your documents. "
      ]
    },
    {
      "cell_type": "code",
      "metadata": {
        "id": "kDVAZTa23xkF",
        "colab": {
          "base_uri": "https://localhost:8080/",
          "height": 519
        },
        "outputId": "ebff2c9b-b429-4fbe-a24d-5ac58ad3c313"
      },
      "source": [
        "cols = [\"reviews.text\", \"new_topic_name\", \"topic_id\"]\n",
        "df_electronics[cols].head(15)"
      ],
      "execution_count": null,
      "outputs": [
        {
          "output_type": "execute_result",
          "data": {
            "text/plain": [
              "                                           reviews.text    new_topic_name  \\\n",
              "8343  Great case to keep everything in its place! My...      amazon prime   \n",
              "8344  After discarding and getting rid of broken cd ...            kindle   \n",
              "8345     A few dollars more, but I am boycotting amazon     google tablet   \n",
              "8346  My initial impression of this was very good. T...     amazon tablet   \n",
              "8347  Pros: Standard Echo. Cons: Older generation Ec...            kindle   \n",
              "8348  Pros: Got it for under 50, much impressive sou...  different tablet   \n",
              "8349  Pros: I love the Alexa series so when this one...            kindle   \n",
              "8350  ASIDE FROM THE FACT THAT THE SCREEN IS SMALL, ...            kindle   \n",
              "8351  I wasn't sure I even wanted this item, but cau...     amazon tablet   \n",
              "8352  Pros: Works good like Alexia Cons: setting it ...            kindle   \n",
              "8353  Pros: Relatively easy to setup and works quite...      amazon prime   \n",
              "8354  Pros: I WOULD recommend anyone who was going t...  different tablet   \n",
              "8355  Pros: Allows you to cut your cable. With many ...     google tablet   \n",
              "8356  Pros: I'm a subscriber to DirectTV Now! So i p...            kindle   \n",
              "8357  Pros: Very satisfied I am about buy online thi...  different tablet   \n",
              "\n",
              "      topic_id  \n",
              "8343         2  \n",
              "8344         0  \n",
              "8345         1  \n",
              "8346         4  \n",
              "8347         0  \n",
              "8348         3  \n",
              "8349         0  \n",
              "8350         0  \n",
              "8351         4  \n",
              "8352         0  \n",
              "8353         2  \n",
              "8354         3  \n",
              "8355         1  \n",
              "8356         0  \n",
              "8357         3  "
            ],
            "text/html": [
              "\n",
              "  <div id=\"df-f73ca860-d486-4a30-8966-ec3252e3a275\">\n",
              "    <div class=\"colab-df-container\">\n",
              "      <div>\n",
              "<style scoped>\n",
              "    .dataframe tbody tr th:only-of-type {\n",
              "        vertical-align: middle;\n",
              "    }\n",
              "\n",
              "    .dataframe tbody tr th {\n",
              "        vertical-align: top;\n",
              "    }\n",
              "\n",
              "    .dataframe thead th {\n",
              "        text-align: right;\n",
              "    }\n",
              "</style>\n",
              "<table border=\"1\" class=\"dataframe\">\n",
              "  <thead>\n",
              "    <tr style=\"text-align: right;\">\n",
              "      <th></th>\n",
              "      <th>reviews.text</th>\n",
              "      <th>new_topic_name</th>\n",
              "      <th>topic_id</th>\n",
              "    </tr>\n",
              "  </thead>\n",
              "  <tbody>\n",
              "    <tr>\n",
              "      <th>8343</th>\n",
              "      <td>Great case to keep everything in its place! My...</td>\n",
              "      <td>amazon prime</td>\n",
              "      <td>2</td>\n",
              "    </tr>\n",
              "    <tr>\n",
              "      <th>8344</th>\n",
              "      <td>After discarding and getting rid of broken cd ...</td>\n",
              "      <td>kindle</td>\n",
              "      <td>0</td>\n",
              "    </tr>\n",
              "    <tr>\n",
              "      <th>8345</th>\n",
              "      <td>A few dollars more, but I am boycotting amazon</td>\n",
              "      <td>google tablet</td>\n",
              "      <td>1</td>\n",
              "    </tr>\n",
              "    <tr>\n",
              "      <th>8346</th>\n",
              "      <td>My initial impression of this was very good. T...</td>\n",
              "      <td>amazon tablet</td>\n",
              "      <td>4</td>\n",
              "    </tr>\n",
              "    <tr>\n",
              "      <th>8347</th>\n",
              "      <td>Pros: Standard Echo. Cons: Older generation Ec...</td>\n",
              "      <td>kindle</td>\n",
              "      <td>0</td>\n",
              "    </tr>\n",
              "    <tr>\n",
              "      <th>8348</th>\n",
              "      <td>Pros: Got it for under 50, much impressive sou...</td>\n",
              "      <td>different tablet</td>\n",
              "      <td>3</td>\n",
              "    </tr>\n",
              "    <tr>\n",
              "      <th>8349</th>\n",
              "      <td>Pros: I love the Alexa series so when this one...</td>\n",
              "      <td>kindle</td>\n",
              "      <td>0</td>\n",
              "    </tr>\n",
              "    <tr>\n",
              "      <th>8350</th>\n",
              "      <td>ASIDE FROM THE FACT THAT THE SCREEN IS SMALL, ...</td>\n",
              "      <td>kindle</td>\n",
              "      <td>0</td>\n",
              "    </tr>\n",
              "    <tr>\n",
              "      <th>8351</th>\n",
              "      <td>I wasn't sure I even wanted this item, but cau...</td>\n",
              "      <td>amazon tablet</td>\n",
              "      <td>4</td>\n",
              "    </tr>\n",
              "    <tr>\n",
              "      <th>8352</th>\n",
              "      <td>Pros: Works good like Alexia Cons: setting it ...</td>\n",
              "      <td>kindle</td>\n",
              "      <td>0</td>\n",
              "    </tr>\n",
              "    <tr>\n",
              "      <th>8353</th>\n",
              "      <td>Pros: Relatively easy to setup and works quite...</td>\n",
              "      <td>amazon prime</td>\n",
              "      <td>2</td>\n",
              "    </tr>\n",
              "    <tr>\n",
              "      <th>8354</th>\n",
              "      <td>Pros: I WOULD recommend anyone who was going t...</td>\n",
              "      <td>different tablet</td>\n",
              "      <td>3</td>\n",
              "    </tr>\n",
              "    <tr>\n",
              "      <th>8355</th>\n",
              "      <td>Pros: Allows you to cut your cable. With many ...</td>\n",
              "      <td>google tablet</td>\n",
              "      <td>1</td>\n",
              "    </tr>\n",
              "    <tr>\n",
              "      <th>8356</th>\n",
              "      <td>Pros: I'm a subscriber to DirectTV Now! So i p...</td>\n",
              "      <td>kindle</td>\n",
              "      <td>0</td>\n",
              "    </tr>\n",
              "    <tr>\n",
              "      <th>8357</th>\n",
              "      <td>Pros: Very satisfied I am about buy online thi...</td>\n",
              "      <td>different tablet</td>\n",
              "      <td>3</td>\n",
              "    </tr>\n",
              "  </tbody>\n",
              "</table>\n",
              "</div>\n",
              "      <button class=\"colab-df-convert\" onclick=\"convertToInteractive('df-f73ca860-d486-4a30-8966-ec3252e3a275')\"\n",
              "              title=\"Convert this dataframe to an interactive table.\"\n",
              "              style=\"display:none;\">\n",
              "        \n",
              "  <svg xmlns=\"http://www.w3.org/2000/svg\" height=\"24px\"viewBox=\"0 0 24 24\"\n",
              "       width=\"24px\">\n",
              "    <path d=\"M0 0h24v24H0V0z\" fill=\"none\"/>\n",
              "    <path d=\"M18.56 5.44l.94 2.06.94-2.06 2.06-.94-2.06-.94-.94-2.06-.94 2.06-2.06.94zm-11 1L8.5 8.5l.94-2.06 2.06-.94-2.06-.94L8.5 2.5l-.94 2.06-2.06.94zm10 10l.94 2.06.94-2.06 2.06-.94-2.06-.94-.94-2.06-.94 2.06-2.06.94z\"/><path d=\"M17.41 7.96l-1.37-1.37c-.4-.4-.92-.59-1.43-.59-.52 0-1.04.2-1.43.59L10.3 9.45l-7.72 7.72c-.78.78-.78 2.05 0 2.83L4 21.41c.39.39.9.59 1.41.59.51 0 1.02-.2 1.41-.59l7.78-7.78 2.81-2.81c.8-.78.8-2.07 0-2.86zM5.41 20L4 18.59l7.72-7.72 1.47 1.35L5.41 20z\"/>\n",
              "  </svg>\n",
              "      </button>\n",
              "      \n",
              "  <style>\n",
              "    .colab-df-container {\n",
              "      display:flex;\n",
              "      flex-wrap:wrap;\n",
              "      gap: 12px;\n",
              "    }\n",
              "\n",
              "    .colab-df-convert {\n",
              "      background-color: #E8F0FE;\n",
              "      border: none;\n",
              "      border-radius: 50%;\n",
              "      cursor: pointer;\n",
              "      display: none;\n",
              "      fill: #1967D2;\n",
              "      height: 32px;\n",
              "      padding: 0 0 0 0;\n",
              "      width: 32px;\n",
              "    }\n",
              "\n",
              "    .colab-df-convert:hover {\n",
              "      background-color: #E2EBFA;\n",
              "      box-shadow: 0px 1px 2px rgba(60, 64, 67, 0.3), 0px 1px 3px 1px rgba(60, 64, 67, 0.15);\n",
              "      fill: #174EA6;\n",
              "    }\n",
              "\n",
              "    [theme=dark] .colab-df-convert {\n",
              "      background-color: #3B4455;\n",
              "      fill: #D2E3FC;\n",
              "    }\n",
              "\n",
              "    [theme=dark] .colab-df-convert:hover {\n",
              "      background-color: #434B5C;\n",
              "      box-shadow: 0px 1px 3px 1px rgba(0, 0, 0, 0.15);\n",
              "      filter: drop-shadow(0px 1px 2px rgba(0, 0, 0, 0.3));\n",
              "      fill: #FFFFFF;\n",
              "    }\n",
              "  </style>\n",
              "\n",
              "      <script>\n",
              "        const buttonEl =\n",
              "          document.querySelector('#df-f73ca860-d486-4a30-8966-ec3252e3a275 button.colab-df-convert');\n",
              "        buttonEl.style.display =\n",
              "          google.colab.kernel.accessAllowed ? 'block' : 'none';\n",
              "\n",
              "        async function convertToInteractive(key) {\n",
              "          const element = document.querySelector('#df-f73ca860-d486-4a30-8966-ec3252e3a275');\n",
              "          const dataTable =\n",
              "            await google.colab.kernel.invokeFunction('convertToInteractive',\n",
              "                                                     [key], {});\n",
              "          if (!dataTable) return;\n",
              "\n",
              "          const docLinkHtml = 'Like what you see? Visit the ' +\n",
              "            '<a target=\"_blank\" href=https://colab.research.google.com/notebooks/data_table.ipynb>data table notebook</a>'\n",
              "            + ' to learn more about interactive tables.';\n",
              "          element.innerHTML = '';\n",
              "          dataTable['output_type'] = 'display_data';\n",
              "          await google.colab.output.renderOutput(dataTable, element);\n",
              "          const docLink = document.createElement('div');\n",
              "          docLink.innerHTML = docLinkHtml;\n",
              "          element.appendChild(docLink);\n",
              "        }\n",
              "      </script>\n",
              "    </div>\n",
              "  </div>\n",
              "  "
            ]
          },
          "metadata": {},
          "execution_count": 45
        }
      ]
    },
    {
      "cell_type": "markdown",
      "metadata": {
        "id": "gkYnBihNzGeE"
      },
      "source": [
        "-----\n",
        "# Stretch Goals -- see if you can create a model to classify the reviews into the latent topics you've discovered!\n",
        "\n",
        "\n",
        "- Treat `topic_id` as the `y` (target) vector and train a supervised learning model to predict the topic of each document\n",
        "- Report your results on the Slack channel!"
      ]
    },
    {
      "cell_type": "markdown",
      "metadata": {
        "id": "eqY0KKxKQxbm"
      },
      "source": [
        "## Topic Modeling References\n"
      ]
    },
    {
      "cell_type": "markdown",
      "metadata": {
        "id": "iKhe7u4IXr0y"
      },
      "source": [
        "\n",
        "- [Topic Modeling with Gensim](https://www.tutorialspoint.com/gensim/gensim_topic_modeling.htm) -- Brief Tutorial\n",
        "\n",
        "- [Gensim documentation](https://radimrehurek.com/gensim/index.html) -- look up gensim commands\n",
        "\n",
        "- [`pyLDAvis` documentation](https://pyldavis.readthedocs.io/en/latest/readme.html) -- package for visualizing LDA models\n",
        "\n",
        "- [Visualizing Topic Models](https://speakerdeck.com/bmabey/visualizing-topic-models) -- slides from Ben Mabey\n",
        "\n",
        "- [Exploring the Space of Topic Coherence Measures](https://dl.acm.org/doi/10.1145/2684822.2685324) -- Study of Topic Coherence measures\n",
        "\n",
        "- [Exploring Topic Coherence over many models and many topics](https://www.researchgate.net/publication/232242203_Exploring_Topic_Coherence_over_many_models_and_many_topics) -- Study of automated topic coherence measures"
      ]
    }
  ]
}