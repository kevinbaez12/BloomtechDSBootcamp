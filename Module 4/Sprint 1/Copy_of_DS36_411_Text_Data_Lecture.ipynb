{
  "nbformat": 4,
  "nbformat_minor": 0,
  "metadata": {
    "celltoolbar": "Create Assignment",
    "colab": {
      "name": "Copy of DS36_411_Text_Data_Lecture.ipynb",
      "provenance": []
    },
    "kernelspec": {
      "display_name": "py37  (Python3)",
      "language": "python",
      "name": "py37"
    },
    "language_info": {
      "codemirror_mode": {
        "name": "ipython",
        "version": 3
      },
      "file_extension": ".py",
      "mimetype": "text/x-python",
      "name": "python",
      "nbconvert_exporter": "python",
      "pygments_lexer": "ipython3",
      "version": "3.7.0"
    },
    "toc-autonumbering": false,
    "toc-showcode": false,
    "toc-showmarkdowntxt": false
  },
  "cells": [
    {
      "cell_type": "markdown",
      "metadata": {
        "id": "BlwQRqffGEqb",
        "toc-hr-collapsed": false
      },
      "source": [
        "\n",
        "*Unit 4, Sprint 1, Module 1*\n",
        "\n",
        "---\n",
        "<h1 id=\"moduleTitle\"> Natural Language Processing Introduction (Prepare)</h1>\n",
        "\n",
        "\"Natural\" meaning - not computer languages but spoken/written human languages. The hard thing about NLP is that human languages are far less structured or consistent than computer languages. This is perhaps the largest source of difficulty when trying to get computers to \"understand\" human languages. How do you get a machine to understand sarcasm, and irony, and synonyms, connotation, denotation, nuance, and tone of voice --all without it having lived a lifetime of experience for context? If you think about it, our human brains have been exposed to quite a lot of training data to help us interpret languages, and even then we misunderstand each other pretty frequently. \n",
        "    \n",
        "\n",
        "<h2 id='moduleObjectives'>Learning Objectives</h2>\n",
        "\n",
        "By the end of end of this module, a student should be able to:\n",
        "* <a href=\"#p1\">Objective 1</a>: Tokenize text\n",
        "* <a href=\"#p1\">Objective 2</a>: Remove stop words from text\n",
        "* <a href=\"#p3\">Objective 3</a>: Perform stemming and lemmatization on tokens\n",
        "\n",
        "## Conda Environments (OMIT)\n",
        "\n",
        "You will be completing each module this sprint on your machine. We will be using conda environments to manage the packages and their dependencies for this sprint's content. In a classroom setting, instructors typically abstract away environment for you. However, environment management is an important professional data science skill. We showed you how to manage environments using pipvirtual env during Unit 3, but in this sprint, we will introduce an environment management tool common in the data science community: \n",
        "\n",
        "> __conda__: Package, dependency and environment management for any language—Python, R, Ruby, Lua, Scala, Java, JavaScript, C/ C++, FORTRAN, and more.\n",
        "\n",
        "The easiest way to install conda on your machine is via the [Anaconda Distribution](https://www.anaconda.com/distribution/) of Python & R. Once you have conda installed, read [\"A Guide to Conda Environments\"](https://towardsdatascience.com/a-guide-to-conda-environments-bc6180fc533). This article will provide an introduce into some of the conda basics. If you need some additional help getting started, the official [\"Setting started with conda\"](https://conda.io/projects/conda/en/latest/user-guide/getting-started.html) guide will point you in the right direction. \n",
        "\n",
        ":snake: \n",
        "\n",
        "To get the sprint environment setup: \n",
        "\n",
        "1. Open your command line tool (Terminal for MacOS, Anaconda Prompt for Windows)\n",
        "2. Navigate to the folder with this sprint's content. There should be a `requirements.txt`\n",
        "3. Run `conda create -n U4-S1-NLP python==3.7` => You can also rename the environment if you would like. Once the command completes, your conda environment should be ready.\n",
        "4. Now, we are going to add in the require python packages for this sprint. You will need to 'activate' the conda environment: `source activate U4-S1-NLP` on Terminal or `conda activate U4-S1-NLP` on Anaconda Prompt. Once your environment is activate, run `pip install -r requirements.txt` which will install the required packages into your environment.\n",
        "5. We are going to also add an Ipython Kernel reference to your conda environment, so we can use it from JupyterLab. \n",
        "6. Next run `python -m ipykernel install --user --name U4-S1-NLP --display-name \"U4-S1-NLP (Python3)\"` => This will add a json object to an ipython file, so JupterLab will know that it can use this isolated instance of Python. :) \n",
        "7. Last step, we need to install the models for Spacy. Run these commands `python -m spacy download en_core_web_md` and `python -m spacy download en_core_web_lg`\n",
        "8. Deactivate your conda environment and launch JupyterLab. You should know see \"U4-S1-NLP (Python3)\" in the list of available kernels on launch screen. "
      ]
    },
    {
      "cell_type": "markdown",
      "metadata": {
        "id": "sHZ4U1lF-M-c"
      },
      "source": [
        "# 0. Colab notebook setup\n",
        "Start running the notebook here."
      ]
    },
    {
      "cell_type": "markdown",
      "metadata": {
        "id": "VH_AoWHJ7NGQ"
      },
      "source": [
        "## 0.1 Download the required spacy module that we'll use later\n",
        "*Note -- you need to restart the runtime right after running this cell!*"
      ]
    },
    {
      "cell_type": "code",
      "metadata": {
        "collapsed": true,
        "jupyter": {
          "outputs_hidden": true
        },
        "id": "JF7hVeqIooWq",
        "colab": {
          "base_uri": "https://localhost:8080/"
        },
        "outputId": "9dd62cb2-3949-4f3a-a4ad-04f2aef72cdd"
      },
      "source": [
        "%%time\n",
        "# You'll use en_core_web_sm for the sprint challenge due memory constraints on Codegrader\n",
        "#!python -m spacy download en_core_web_sm \n",
        "\n",
        "# Locally (or on colab) let's use en_core_web_lg \n",
        "!python -m spacy download en_core_web_md # Can do lg, takes awhile\n",
        "# Also on Colab, need to restart runtime after this step!\n",
        "#      or else Colab won't find spacy"
      ],
      "execution_count": null,
      "outputs": [
        {
          "output_type": "stream",
          "name": "stdout",
          "text": [
            "Collecting en_core_web_md==2.2.5\n",
            "  Downloading https://github.com/explosion/spacy-models/releases/download/en_core_web_md-2.2.5/en_core_web_md-2.2.5.tar.gz (96.4 MB)\n",
            "\u001b[K     |████████████████████████████████| 96.4 MB 1.5 MB/s \n",
            "\u001b[?25hRequirement already satisfied: spacy>=2.2.2 in /usr/local/lib/python3.7/dist-packages (from en_core_web_md==2.2.5) (2.2.4)\n",
            "Requirement already satisfied: setuptools in /usr/local/lib/python3.7/dist-packages (from spacy>=2.2.2->en_core_web_md==2.2.5) (57.4.0)\n",
            "Requirement already satisfied: plac<1.2.0,>=0.9.6 in /usr/local/lib/python3.7/dist-packages (from spacy>=2.2.2->en_core_web_md==2.2.5) (1.1.3)\n",
            "Requirement already satisfied: catalogue<1.1.0,>=0.0.7 in /usr/local/lib/python3.7/dist-packages (from spacy>=2.2.2->en_core_web_md==2.2.5) (1.0.0)\n",
            "Requirement already satisfied: srsly<1.1.0,>=1.0.2 in /usr/local/lib/python3.7/dist-packages (from spacy>=2.2.2->en_core_web_md==2.2.5) (1.0.5)\n",
            "Requirement already satisfied: preshed<3.1.0,>=3.0.2 in /usr/local/lib/python3.7/dist-packages (from spacy>=2.2.2->en_core_web_md==2.2.5) (3.0.6)\n",
            "Requirement already satisfied: murmurhash<1.1.0,>=0.28.0 in /usr/local/lib/python3.7/dist-packages (from spacy>=2.2.2->en_core_web_md==2.2.5) (1.0.6)\n",
            "Requirement already satisfied: thinc==7.4.0 in /usr/local/lib/python3.7/dist-packages (from spacy>=2.2.2->en_core_web_md==2.2.5) (7.4.0)\n",
            "Requirement already satisfied: numpy>=1.15.0 in /usr/local/lib/python3.7/dist-packages (from spacy>=2.2.2->en_core_web_md==2.2.5) (1.21.5)\n",
            "Requirement already satisfied: cymem<2.1.0,>=2.0.2 in /usr/local/lib/python3.7/dist-packages (from spacy>=2.2.2->en_core_web_md==2.2.5) (2.0.6)\n",
            "Requirement already satisfied: tqdm<5.0.0,>=4.38.0 in /usr/local/lib/python3.7/dist-packages (from spacy>=2.2.2->en_core_web_md==2.2.5) (4.63.0)\n",
            "Requirement already satisfied: requests<3.0.0,>=2.13.0 in /usr/local/lib/python3.7/dist-packages (from spacy>=2.2.2->en_core_web_md==2.2.5) (2.23.0)\n",
            "Requirement already satisfied: blis<0.5.0,>=0.4.0 in /usr/local/lib/python3.7/dist-packages (from spacy>=2.2.2->en_core_web_md==2.2.5) (0.4.1)\n",
            "Requirement already satisfied: wasabi<1.1.0,>=0.4.0 in /usr/local/lib/python3.7/dist-packages (from spacy>=2.2.2->en_core_web_md==2.2.5) (0.9.0)\n",
            "Requirement already satisfied: importlib-metadata>=0.20 in /usr/local/lib/python3.7/dist-packages (from catalogue<1.1.0,>=0.0.7->spacy>=2.2.2->en_core_web_md==2.2.5) (4.11.3)\n",
            "Requirement already satisfied: zipp>=0.5 in /usr/local/lib/python3.7/dist-packages (from importlib-metadata>=0.20->catalogue<1.1.0,>=0.0.7->spacy>=2.2.2->en_core_web_md==2.2.5) (3.7.0)\n",
            "Requirement already satisfied: typing-extensions>=3.6.4 in /usr/local/lib/python3.7/dist-packages (from importlib-metadata>=0.20->catalogue<1.1.0,>=0.0.7->spacy>=2.2.2->en_core_web_md==2.2.5) (3.10.0.2)\n",
            "Requirement already satisfied: certifi>=2017.4.17 in /usr/local/lib/python3.7/dist-packages (from requests<3.0.0,>=2.13.0->spacy>=2.2.2->en_core_web_md==2.2.5) (2021.10.8)\n",
            "Requirement already satisfied: idna<3,>=2.5 in /usr/local/lib/python3.7/dist-packages (from requests<3.0.0,>=2.13.0->spacy>=2.2.2->en_core_web_md==2.2.5) (2.10)\n",
            "Requirement already satisfied: urllib3!=1.25.0,!=1.25.1,<1.26,>=1.21.1 in /usr/local/lib/python3.7/dist-packages (from requests<3.0.0,>=2.13.0->spacy>=2.2.2->en_core_web_md==2.2.5) (1.24.3)\n",
            "Requirement already satisfied: chardet<4,>=3.0.2 in /usr/local/lib/python3.7/dist-packages (from requests<3.0.0,>=2.13.0->spacy>=2.2.2->en_core_web_md==2.2.5) (3.0.4)\n",
            "Building wheels for collected packages: en-core-web-md\n",
            "  Building wheel for en-core-web-md (setup.py) ... \u001b[?25l\u001b[?25hdone\n",
            "  Created wheel for en-core-web-md: filename=en_core_web_md-2.2.5-py3-none-any.whl size=98051301 sha256=c68bf0c8f5157dcb3082b2b553758046e7d6b55d55325c607006325450f1e272\n",
            "  Stored in directory: /tmp/pip-ephem-wheel-cache-k_vd7pre/wheels/69/c5/b8/4f1c029d89238734311b3269762ab2ee325a42da2ce8edb997\n",
            "Successfully built en-core-web-md\n",
            "Installing collected packages: en-core-web-md\n",
            "Successfully installed en-core-web-md-2.2.5\n",
            "\u001b[38;5;2m✔ Download and installation successful\u001b[0m\n",
            "You can now load the model via spacy.load('en_core_web_md')\n",
            "CPU times: user 530 ms, sys: 97.8 ms, total: 628 ms\n",
            "Wall time: 43.3 s\n"
          ]
        }
      ]
    },
    {
      "cell_type": "markdown",
      "metadata": {
        "id": "qthwLIBYVlYz"
      },
      "source": [
        "## 0.2 Restart the runtime!\n",
        "Click on \"Runtime\" in the menu bar, and select \"Restart runtime\" from the dropdown menu."
      ]
    },
    {
      "cell_type": "markdown",
      "metadata": {
        "id": "PvLHLWZQWAFx"
      },
      "source": [
        "## 0.3 Install dependencies"
      ]
    },
    {
      "cell_type": "code",
      "metadata": {
        "id": "M9ujLvkrooWo",
        "colab": {
          "base_uri": "https://localhost:8080/"
        },
        "outputId": "f35a6ea1-f2b0-485e-834f-43b1c86a6e29"
      },
      "source": [
        "# Dependencies for the week (instead of conda)\n",
        "# Run if you're using colab, otherwise you should have a local copy of the data\n",
        "!wget https://raw.githubusercontent.com/LambdaSchool/DS-Unit-4-Sprint-1-NLP/main/requirements.txt\n",
        "!pip install -r requirements.txt"
      ],
      "execution_count": null,
      "outputs": [
        {
          "output_type": "stream",
          "name": "stdout",
          "text": [
            "--2022-04-12 00:35:48--  https://raw.githubusercontent.com/LambdaSchool/DS-Unit-4-Sprint-1-NLP/main/requirements.txt\n",
            "Resolving raw.githubusercontent.com (raw.githubusercontent.com)... 185.199.108.133, 185.199.109.133, 185.199.110.133, ...\n",
            "Connecting to raw.githubusercontent.com (raw.githubusercontent.com)|185.199.108.133|:443... connected.\n",
            "HTTP request sent, awaiting response... 200 OK\n",
            "Length: 149 [text/plain]\n",
            "Saving to: ‘requirements.txt’\n",
            "\n",
            "requirements.txt    100%[===================>]     149  --.-KB/s    in 0s      \n",
            "\n",
            "2022-04-12 00:35:48 (1.04 MB/s) - ‘requirements.txt’ saved [149/149]\n",
            "\n",
            "Collecting gensim==3.8.1\n",
            "  Downloading gensim-3.8.1-cp37-cp37m-manylinux1_x86_64.whl (24.2 MB)\n",
            "\u001b[K     |████████████████████████████████| 24.2 MB 61.3 MB/s \n",
            "\u001b[?25hCollecting pyLDAvis==2.1.2\n",
            "  Downloading pyLDAvis-2.1.2.tar.gz (1.6 MB)\n",
            "\u001b[K     |████████████████████████████████| 1.6 MB 23.4 MB/s \n",
            "\u001b[?25hCollecting spacy==2.2.3\n",
            "  Downloading spacy-2.2.3-cp37-cp37m-manylinux1_x86_64.whl (10.4 MB)\n",
            "\u001b[K     |████████████████████████████████| 10.4 MB 34.8 MB/s \n",
            "\u001b[?25hCollecting scikit-learn==0.22.2\n",
            "  Downloading scikit_learn-0.22.2-cp37-cp37m-manylinux1_x86_64.whl (7.1 MB)\n",
            "\u001b[K     |████████████████████████████████| 7.1 MB 39.2 MB/s \n",
            "\u001b[?25hCollecting seaborn==0.9.0\n",
            "  Downloading seaborn-0.9.0-py3-none-any.whl (208 kB)\n",
            "\u001b[K     |████████████████████████████████| 208 kB 48.0 MB/s \n",
            "\u001b[?25hCollecting squarify==0.4.3\n",
            "  Downloading squarify-0.4.3-py3-none-any.whl (4.3 kB)\n",
            "Requirement already satisfied: ipykernel in /usr/local/lib/python3.7/dist-packages (from -r requirements.txt (line 7)) (4.10.1)\n",
            "Requirement already satisfied: nltk in /usr/local/lib/python3.7/dist-packages (from -r requirements.txt (line 8)) (3.2.5)\n",
            "Requirement already satisfied: pandas in /usr/local/lib/python3.7/dist-packages (from -r requirements.txt (line 9)) (1.3.5)\n",
            "Requirement already satisfied: scipy in /usr/local/lib/python3.7/dist-packages (from -r requirements.txt (line 10)) (1.4.1)\n",
            "Requirement already satisfied: beautifulsoup4 in /usr/local/lib/python3.7/dist-packages (from -r requirements.txt (line 11)) (4.6.3)\n",
            "Collecting pandarallel\n",
            "  Downloading pandarallel-1.6.1.tar.gz (12 kB)\n",
            "Requirement already satisfied: six>=1.5.0 in /usr/local/lib/python3.7/dist-packages (from gensim==3.8.1->-r requirements.txt (line 1)) (1.15.0)\n",
            "Requirement already satisfied: numpy>=1.11.3 in /usr/local/lib/python3.7/dist-packages (from gensim==3.8.1->-r requirements.txt (line 1)) (1.21.5)\n",
            "Requirement already satisfied: smart-open>=1.8.1 in /usr/local/lib/python3.7/dist-packages (from gensim==3.8.1->-r requirements.txt (line 1)) (5.2.1)\n",
            "Requirement already satisfied: wheel>=0.23.0 in /usr/local/lib/python3.7/dist-packages (from pyLDAvis==2.1.2->-r requirements.txt (line 2)) (0.37.1)\n",
            "Requirement already satisfied: joblib>=0.8.4 in /usr/local/lib/python3.7/dist-packages (from pyLDAvis==2.1.2->-r requirements.txt (line 2)) (1.1.0)\n",
            "Requirement already satisfied: jinja2>=2.7.2 in /usr/local/lib/python3.7/dist-packages (from pyLDAvis==2.1.2->-r requirements.txt (line 2)) (2.11.3)\n",
            "Requirement already satisfied: numexpr in /usr/local/lib/python3.7/dist-packages (from pyLDAvis==2.1.2->-r requirements.txt (line 2)) (2.8.1)\n",
            "Requirement already satisfied: pytest in /usr/local/lib/python3.7/dist-packages (from pyLDAvis==2.1.2->-r requirements.txt (line 2)) (3.6.4)\n",
            "Requirement already satisfied: future in /usr/local/lib/python3.7/dist-packages (from pyLDAvis==2.1.2->-r requirements.txt (line 2)) (0.16.0)\n",
            "Collecting funcy\n",
            "  Downloading funcy-1.17-py2.py3-none-any.whl (33 kB)\n",
            "Requirement already satisfied: plac<1.2.0,>=0.9.6 in /usr/local/lib/python3.7/dist-packages (from spacy==2.2.3->-r requirements.txt (line 3)) (1.1.3)\n",
            "Requirement already satisfied: preshed<3.1.0,>=3.0.2 in /usr/local/lib/python3.7/dist-packages (from spacy==2.2.3->-r requirements.txt (line 3)) (3.0.6)\n",
            "Requirement already satisfied: catalogue<1.1.0,>=0.0.7 in /usr/local/lib/python3.7/dist-packages (from spacy==2.2.3->-r requirements.txt (line 3)) (1.0.0)\n",
            "Requirement already satisfied: murmurhash<1.1.0,>=0.28.0 in /usr/local/lib/python3.7/dist-packages (from spacy==2.2.3->-r requirements.txt (line 3)) (1.0.6)\n",
            "Requirement already satisfied: srsly<1.1.0,>=0.1.0 in /usr/local/lib/python3.7/dist-packages (from spacy==2.2.3->-r requirements.txt (line 3)) (1.0.5)\n",
            "Requirement already satisfied: setuptools in /usr/local/lib/python3.7/dist-packages (from spacy==2.2.3->-r requirements.txt (line 3)) (57.4.0)\n",
            "Requirement already satisfied: requests<3.0.0,>=2.13.0 in /usr/local/lib/python3.7/dist-packages (from spacy==2.2.3->-r requirements.txt (line 3)) (2.23.0)\n",
            "Requirement already satisfied: wasabi<1.1.0,>=0.4.0 in /usr/local/lib/python3.7/dist-packages (from spacy==2.2.3->-r requirements.txt (line 3)) (0.9.0)\n",
            "Requirement already satisfied: cymem<2.1.0,>=2.0.2 in /usr/local/lib/python3.7/dist-packages (from spacy==2.2.3->-r requirements.txt (line 3)) (2.0.6)\n",
            "Requirement already satisfied: blis<0.5.0,>=0.4.0 in /usr/local/lib/python3.7/dist-packages (from spacy==2.2.3->-r requirements.txt (line 3)) (0.4.1)\n",
            "Collecting thinc<7.4.0,>=7.3.0\n",
            "  Downloading thinc-7.3.1-cp37-cp37m-manylinux1_x86_64.whl (2.2 MB)\n",
            "\u001b[K     |████████████████████████████████| 2.2 MB 26.5 MB/s \n",
            "\u001b[?25hRequirement already satisfied: matplotlib>=1.4.3 in /usr/local/lib/python3.7/dist-packages (from seaborn==0.9.0->-r requirements.txt (line 5)) (3.2.2)\n",
            "Requirement already satisfied: python-dateutil>=2.7.3 in /usr/local/lib/python3.7/dist-packages (from pandas->-r requirements.txt (line 9)) (2.8.2)\n",
            "Requirement already satisfied: pytz>=2017.3 in /usr/local/lib/python3.7/dist-packages (from pandas->-r requirements.txt (line 9)) (2018.9)\n",
            "Requirement already satisfied: importlib-metadata>=0.20 in /usr/local/lib/python3.7/dist-packages (from catalogue<1.1.0,>=0.0.7->spacy==2.2.3->-r requirements.txt (line 3)) (4.11.3)\n",
            "Requirement already satisfied: zipp>=0.5 in /usr/local/lib/python3.7/dist-packages (from importlib-metadata>=0.20->catalogue<1.1.0,>=0.0.7->spacy==2.2.3->-r requirements.txt (line 3)) (3.7.0)\n",
            "Requirement already satisfied: typing-extensions>=3.6.4 in /usr/local/lib/python3.7/dist-packages (from importlib-metadata>=0.20->catalogue<1.1.0,>=0.0.7->spacy==2.2.3->-r requirements.txt (line 3)) (3.10.0.2)\n",
            "Requirement already satisfied: MarkupSafe>=0.23 in /usr/local/lib/python3.7/dist-packages (from jinja2>=2.7.2->pyLDAvis==2.1.2->-r requirements.txt (line 2)) (2.0.1)\n",
            "Requirement already satisfied: pyparsing!=2.0.4,!=2.1.2,!=2.1.6,>=2.0.1 in /usr/local/lib/python3.7/dist-packages (from matplotlib>=1.4.3->seaborn==0.9.0->-r requirements.txt (line 5)) (3.0.7)\n",
            "Requirement already satisfied: kiwisolver>=1.0.1 in /usr/local/lib/python3.7/dist-packages (from matplotlib>=1.4.3->seaborn==0.9.0->-r requirements.txt (line 5)) (1.4.0)\n",
            "Requirement already satisfied: cycler>=0.10 in /usr/local/lib/python3.7/dist-packages (from matplotlib>=1.4.3->seaborn==0.9.0->-r requirements.txt (line 5)) (0.11.0)\n",
            "Requirement already satisfied: certifi>=2017.4.17 in /usr/local/lib/python3.7/dist-packages (from requests<3.0.0,>=2.13.0->spacy==2.2.3->-r requirements.txt (line 3)) (2021.10.8)\n",
            "Requirement already satisfied: idna<3,>=2.5 in /usr/local/lib/python3.7/dist-packages (from requests<3.0.0,>=2.13.0->spacy==2.2.3->-r requirements.txt (line 3)) (2.10)\n",
            "Requirement already satisfied: chardet<4,>=3.0.2 in /usr/local/lib/python3.7/dist-packages (from requests<3.0.0,>=2.13.0->spacy==2.2.3->-r requirements.txt (line 3)) (3.0.4)\n",
            "Requirement already satisfied: urllib3!=1.25.0,!=1.25.1,<1.26,>=1.21.1 in /usr/local/lib/python3.7/dist-packages (from requests<3.0.0,>=2.13.0->spacy==2.2.3->-r requirements.txt (line 3)) (1.24.3)\n",
            "Requirement already satisfied: tqdm<5.0.0,>=4.10.0 in /usr/local/lib/python3.7/dist-packages (from thinc<7.4.0,>=7.3.0->spacy==2.2.3->-r requirements.txt (line 3)) (4.63.0)\n",
            "Requirement already satisfied: jupyter-client in /usr/local/lib/python3.7/dist-packages (from ipykernel->-r requirements.txt (line 7)) (5.3.5)\n",
            "Requirement already satisfied: ipython>=4.0.0 in /usr/local/lib/python3.7/dist-packages (from ipykernel->-r requirements.txt (line 7)) (5.5.0)\n",
            "Requirement already satisfied: tornado>=4.0 in /usr/local/lib/python3.7/dist-packages (from ipykernel->-r requirements.txt (line 7)) (5.1.1)\n",
            "Requirement already satisfied: traitlets>=4.1.0 in /usr/local/lib/python3.7/dist-packages (from ipykernel->-r requirements.txt (line 7)) (5.1.1)\n",
            "Requirement already satisfied: prompt-toolkit<2.0.0,>=1.0.4 in /usr/local/lib/python3.7/dist-packages (from ipython>=4.0.0->ipykernel->-r requirements.txt (line 7)) (1.0.18)\n",
            "Requirement already satisfied: pexpect in /usr/local/lib/python3.7/dist-packages (from ipython>=4.0.0->ipykernel->-r requirements.txt (line 7)) (4.8.0)\n",
            "Requirement already satisfied: pygments in /usr/local/lib/python3.7/dist-packages (from ipython>=4.0.0->ipykernel->-r requirements.txt (line 7)) (2.6.1)\n",
            "Requirement already satisfied: pickleshare in /usr/local/lib/python3.7/dist-packages (from ipython>=4.0.0->ipykernel->-r requirements.txt (line 7)) (0.7.5)\n",
            "Requirement already satisfied: simplegeneric>0.8 in /usr/local/lib/python3.7/dist-packages (from ipython>=4.0.0->ipykernel->-r requirements.txt (line 7)) (0.8.1)\n",
            "Requirement already satisfied: decorator in /usr/local/lib/python3.7/dist-packages (from ipython>=4.0.0->ipykernel->-r requirements.txt (line 7)) (4.4.2)\n",
            "Requirement already satisfied: wcwidth in /usr/local/lib/python3.7/dist-packages (from prompt-toolkit<2.0.0,>=1.0.4->ipython>=4.0.0->ipykernel->-r requirements.txt (line 7)) (0.2.5)\n",
            "Requirement already satisfied: dill>=0.3.1 in /usr/local/lib/python3.7/dist-packages (from pandarallel->-r requirements.txt (line 12)) (0.3.4)\n",
            "Requirement already satisfied: psutil in /usr/local/lib/python3.7/dist-packages (from pandarallel->-r requirements.txt (line 12)) (5.4.8)\n",
            "Requirement already satisfied: pyzmq>=13 in /usr/local/lib/python3.7/dist-packages (from jupyter-client->ipykernel->-r requirements.txt (line 7)) (22.3.0)\n",
            "Requirement already satisfied: jupyter-core>=4.6.0 in /usr/local/lib/python3.7/dist-packages (from jupyter-client->ipykernel->-r requirements.txt (line 7)) (4.9.2)\n",
            "Requirement already satisfied: packaging in /usr/local/lib/python3.7/dist-packages (from numexpr->pyLDAvis==2.1.2->-r requirements.txt (line 2)) (21.3)\n",
            "Requirement already satisfied: ptyprocess>=0.5 in /usr/local/lib/python3.7/dist-packages (from pexpect->ipython>=4.0.0->ipykernel->-r requirements.txt (line 7)) (0.7.0)\n",
            "Requirement already satisfied: pluggy<0.8,>=0.5 in /usr/local/lib/python3.7/dist-packages (from pytest->pyLDAvis==2.1.2->-r requirements.txt (line 2)) (0.7.1)\n",
            "Requirement already satisfied: more-itertools>=4.0.0 in /usr/local/lib/python3.7/dist-packages (from pytest->pyLDAvis==2.1.2->-r requirements.txt (line 2)) (8.12.0)\n",
            "Requirement already satisfied: py>=1.5.0 in /usr/local/lib/python3.7/dist-packages (from pytest->pyLDAvis==2.1.2->-r requirements.txt (line 2)) (1.11.0)\n",
            "Requirement already satisfied: attrs>=17.4.0 in /usr/local/lib/python3.7/dist-packages (from pytest->pyLDAvis==2.1.2->-r requirements.txt (line 2)) (21.4.0)\n",
            "Requirement already satisfied: atomicwrites>=1.0 in /usr/local/lib/python3.7/dist-packages (from pytest->pyLDAvis==2.1.2->-r requirements.txt (line 2)) (1.4.0)\n",
            "Building wheels for collected packages: pyLDAvis, pandarallel\n",
            "  Building wheel for pyLDAvis (setup.py) ... \u001b[?25l\u001b[?25hdone\n",
            "  Created wheel for pyLDAvis: filename=pyLDAvis-2.1.2-py2.py3-none-any.whl size=97738 sha256=7104c62723498a9ce2ff9d0057eb8e3acaff0d4c6221e98a3fa91cd8c5af5393\n",
            "  Stored in directory: /root/.cache/pip/wheels/3b/fb/41/e32e5312da9f440d34c4eff0d2207b46dc9332a7b931ef1e89\n",
            "  Building wheel for pandarallel (setup.py) ... \u001b[?25l\u001b[?25hdone\n",
            "  Created wheel for pandarallel: filename=pandarallel-1.6.1-py3-none-any.whl size=16265 sha256=710d343620877c73355cbcade916fad2b03356abd7ad65c2438d110fc1c6a3dc\n",
            "  Stored in directory: /root/.cache/pip/wheels/e8/81/8f/29aafd7d671a4e9db4e976d71728870173f0b3f48ccba0bc32\n",
            "Successfully built pyLDAvis pandarallel\n",
            "Installing collected packages: thinc, funcy, squarify, spacy, seaborn, scikit-learn, pyLDAvis, pandarallel, gensim\n",
            "  Attempting uninstall: thinc\n",
            "    Found existing installation: thinc 7.4.0\n",
            "    Uninstalling thinc-7.4.0:\n",
            "      Successfully uninstalled thinc-7.4.0\n",
            "  Attempting uninstall: spacy\n",
            "    Found existing installation: spacy 2.2.4\n",
            "    Uninstalling spacy-2.2.4:\n",
            "      Successfully uninstalled spacy-2.2.4\n",
            "  Attempting uninstall: seaborn\n",
            "    Found existing installation: seaborn 0.11.2\n",
            "    Uninstalling seaborn-0.11.2:\n",
            "      Successfully uninstalled seaborn-0.11.2\n",
            "  Attempting uninstall: scikit-learn\n",
            "    Found existing installation: scikit-learn 1.0.2\n",
            "    Uninstalling scikit-learn-1.0.2:\n",
            "      Successfully uninstalled scikit-learn-1.0.2\n",
            "  Attempting uninstall: gensim\n",
            "    Found existing installation: gensim 3.6.0\n",
            "    Uninstalling gensim-3.6.0:\n",
            "      Successfully uninstalled gensim-3.6.0\n",
            "\u001b[31mERROR: pip's dependency resolver does not currently take into account all the packages that are installed. This behaviour is the source of the following dependency conflicts.\n",
            "yellowbrick 1.4 requires scikit-learn>=1.0.0, but you have scikit-learn 0.22.2 which is incompatible.\n",
            "imbalanced-learn 0.8.1 requires scikit-learn>=0.24, but you have scikit-learn 0.22.2 which is incompatible.\u001b[0m\n",
            "Successfully installed funcy-1.17 gensim-3.8.1 pandarallel-1.6.1 pyLDAvis-2.1.2 scikit-learn-0.22.2 seaborn-0.9.0 spacy-2.2.3 squarify-0.4.3 thinc-7.3.1\n"
          ]
        }
      ]
    },
    {
      "cell_type": "markdown",
      "metadata": {
        "id": "VGa7EsgFOsJj"
      },
      "source": [
        "##0.4 Import libraries and load packages"
      ]
    },
    {
      "cell_type": "code",
      "metadata": {
        "id": "8Ap1zL81GErA",
        "colab": {
          "base_uri": "https://localhost:8080/"
        },
        "outputId": "2b01f7ca-e4c2-4ec9-e369-913e1549fc01"
      },
      "source": [
        "%%time\n",
        "\"\"\"\n",
        "Import Statements\n",
        "\"\"\"\n",
        "\n",
        "# Base\n",
        "from collections import Counter\n",
        "import re\n",
        "import pandas as pd\n",
        "import numpy as np\n",
        "\n",
        "# Plotting\n",
        "import squarify\n",
        "import matplotlib.pyplot as plt\n",
        "import seaborn as sns\n",
        "\n",
        "# NLP Libraries\n",
        "import spacy\n",
        "from spacy.tokenizer import Tokenizer\n",
        "from nltk.stem import PorterStemmer"
      ],
      "execution_count": null,
      "outputs": [
        {
          "output_type": "stream",
          "name": "stderr",
          "text": [
            "/usr/local/lib/python3.7/dist-packages/statsmodels/tools/_testing.py:19: FutureWarning: pandas.util.testing is deprecated. Use the functions in the public API at pandas.testing instead.\n",
            "  import pandas.util.testing as tm\n"
          ]
        },
        {
          "output_type": "stream",
          "name": "stdout",
          "text": [
            "CPU times: user 1.54 s, sys: 260 ms, total: 1.8 s\n",
            "Wall time: 2.28 s\n"
          ]
        }
      ]
    },
    {
      "cell_type": "markdown",
      "metadata": {
        "id": "tqPsjNAs8VDl"
      },
      "source": [
        "## 0.5 Get the Amazon reviews data and `unzip` it\n",
        "We can access the Amazon reviews data in this Colab notebook by cloning the `Unit-4-Sprint-1` repo!"
      ]
    },
    {
      "cell_type": "code",
      "metadata": {
        "id": "_v6sJTH569Oa",
        "colab": {
          "base_uri": "https://localhost:8080/"
        },
        "outputId": "9503ddb3-8ccb-4262-888e-b524e4a80223"
      },
      "source": [
        "# clone the Unit-4-Sprint-1 repo\n",
        "!git clone https://github.com/LambdaSchool/DS-Unit-4-Sprint-1-NLP.git"
      ],
      "execution_count": null,
      "outputs": [
        {
          "output_type": "stream",
          "name": "stdout",
          "text": [
            "Cloning into 'DS-Unit-4-Sprint-1-NLP'...\n",
            "remote: Enumerating objects: 1689, done.\u001b[K\n",
            "remote: Counting objects: 100% (158/158), done.\u001b[K\n",
            "remote: Compressing objects: 100% (123/123), done.\u001b[K\n",
            "remote: Total 1689 (delta 90), reused 83 (delta 35), pack-reused 1531\u001b[K\n",
            "Receiving objects: 100% (1689/1689), 59.25 MiB | 14.50 MiB/s, done.\n",
            "Resolving deltas: 100% (259/259), done.\n"
          ]
        }
      ]
    },
    {
      "cell_type": "code",
      "source": [
        "# Find the path to the reviews data zip file, using the file icon on the left sidebar\n",
        "!unzip /content/DS-Unit-4-Sprint-1-NLP/module1-text-data/data/Datafiniti_Amazon_Consumer_Reviews_of_Amazon_Products_May19.csv.zip"
      ],
      "metadata": {
        "colab": {
          "base_uri": "https://localhost:8080/"
        },
        "id": "PCNS3pQmcJIM",
        "outputId": "b9f05fd7-c694-4817-a5f4-208c5a4feb4c"
      },
      "execution_count": null,
      "outputs": [
        {
          "output_type": "stream",
          "name": "stdout",
          "text": [
            "Archive:  /content/DS-Unit-4-Sprint-1-NLP/module1-text-data/data/Datafiniti_Amazon_Consumer_Reviews_of_Amazon_Products_May19.csv.zip\n",
            "  inflating: Datafiniti_Amazon_Consumer_Reviews_of_Amazon_Products_May19.csv  \n",
            "   creating: __MACOSX/\n",
            "  inflating: __MACOSX/._Datafiniti_Amazon_Consumer_Reviews_of_Amazon_Products_May19.csv  \n"
          ]
        }
      ]
    },
    {
      "cell_type": "code",
      "metadata": {
        "id": "kQTSYuADiNQw"
      },
      "source": [
        "df = pd.read_csv('Datafiniti_Amazon_Consumer_Reviews_of_Amazon_Products_May19.csv')"
      ],
      "execution_count": null,
      "outputs": []
    },
    {
      "cell_type": "code",
      "metadata": {
        "id": "mGuryffO6Oya",
        "colab": {
          "base_uri": "https://localhost:8080/",
          "height": 345
        },
        "outputId": "cfd6f948-6fda-43bd-a4dc-f2665a80e1e1"
      },
      "source": [
        "# check\n",
        "df.head(2)"
      ],
      "execution_count": null,
      "outputs": [
        {
          "output_type": "execute_result",
          "data": {
            "text/plain": [
              "                     id             dateAdded           dateUpdated  \\\n",
              "0  AVpgNzjwLJeJML43Kpxn  2015-10-30T08:59:32Z  2019-04-25T09:08:16Z   \n",
              "1  AVpgNzjwLJeJML43Kpxn  2015-10-30T08:59:32Z  2019-04-25T09:08:16Z   \n",
              "\n",
              "                                                name                  asins  \\\n",
              "0  AmazonBasics AAA Performance Alkaline Batterie...  B00QWO9P0O,B00LH3DMUO   \n",
              "1  AmazonBasics AAA Performance Alkaline Batterie...  B00QWO9P0O,B00LH3DMUO   \n",
              "\n",
              "          brand                                         categories  \\\n",
              "0  Amazonbasics  AA,AAA,Health,Electronics,Health & Household,C...   \n",
              "1  Amazonbasics  AA,AAA,Health,Electronics,Health & Household,C...   \n",
              "\n",
              "  primaryCategories                                          imageURLs  \\\n",
              "0   Health & Beauty  https://images-na.ssl-images-amazon.com/images...   \n",
              "1   Health & Beauty  https://images-na.ssl-images-amazon.com/images...   \n",
              "\n",
              "                                                keys  ... reviews.didPurchase  \\\n",
              "0  amazonbasics/hl002619,amazonbasicsaaaperforman...  ...                 NaN   \n",
              "1  amazonbasics/hl002619,amazonbasicsaaaperforman...  ...                 NaN   \n",
              "\n",
              "  reviews.doRecommend reviews.id reviews.numHelpful reviews.rating  \\\n",
              "0                 NaN        NaN                NaN              3   \n",
              "1                 NaN        NaN                NaN              4   \n",
              "\n",
              "                                  reviews.sourceURLs  \\\n",
              "0  https://www.amazon.com/product-reviews/B00QWO9...   \n",
              "1  https://www.amazon.com/product-reviews/B00QWO9...   \n",
              "\n",
              "                                        reviews.text  \\\n",
              "0  I order 3 of them and one of the item is bad q...   \n",
              "1  Bulk is always the less expensive way to go fo...   \n",
              "\n",
              "                                       reviews.title  reviews.username  \\\n",
              "0  ... 3 of them and one of the item is bad quali...        Byger yang   \n",
              "1  ... always the less expensive way to go for pr...              ByMG   \n",
              "\n",
              "                                          sourceURLs  \n",
              "0  https://www.barcodable.com/upc/841710106442,ht...  \n",
              "1  https://www.barcodable.com/upc/841710106442,ht...  \n",
              "\n",
              "[2 rows x 24 columns]"
            ],
            "text/html": [
              "\n",
              "  <div id=\"df-93c68cc4-8181-412c-b43c-1539aaf6d5a0\">\n",
              "    <div class=\"colab-df-container\">\n",
              "      <div>\n",
              "<style scoped>\n",
              "    .dataframe tbody tr th:only-of-type {\n",
              "        vertical-align: middle;\n",
              "    }\n",
              "\n",
              "    .dataframe tbody tr th {\n",
              "        vertical-align: top;\n",
              "    }\n",
              "\n",
              "    .dataframe thead th {\n",
              "        text-align: right;\n",
              "    }\n",
              "</style>\n",
              "<table border=\"1\" class=\"dataframe\">\n",
              "  <thead>\n",
              "    <tr style=\"text-align: right;\">\n",
              "      <th></th>\n",
              "      <th>id</th>\n",
              "      <th>dateAdded</th>\n",
              "      <th>dateUpdated</th>\n",
              "      <th>name</th>\n",
              "      <th>asins</th>\n",
              "      <th>brand</th>\n",
              "      <th>categories</th>\n",
              "      <th>primaryCategories</th>\n",
              "      <th>imageURLs</th>\n",
              "      <th>keys</th>\n",
              "      <th>...</th>\n",
              "      <th>reviews.didPurchase</th>\n",
              "      <th>reviews.doRecommend</th>\n",
              "      <th>reviews.id</th>\n",
              "      <th>reviews.numHelpful</th>\n",
              "      <th>reviews.rating</th>\n",
              "      <th>reviews.sourceURLs</th>\n",
              "      <th>reviews.text</th>\n",
              "      <th>reviews.title</th>\n",
              "      <th>reviews.username</th>\n",
              "      <th>sourceURLs</th>\n",
              "    </tr>\n",
              "  </thead>\n",
              "  <tbody>\n",
              "    <tr>\n",
              "      <th>0</th>\n",
              "      <td>AVpgNzjwLJeJML43Kpxn</td>\n",
              "      <td>2015-10-30T08:59:32Z</td>\n",
              "      <td>2019-04-25T09:08:16Z</td>\n",
              "      <td>AmazonBasics AAA Performance Alkaline Batterie...</td>\n",
              "      <td>B00QWO9P0O,B00LH3DMUO</td>\n",
              "      <td>Amazonbasics</td>\n",
              "      <td>AA,AAA,Health,Electronics,Health &amp; Household,C...</td>\n",
              "      <td>Health &amp; Beauty</td>\n",
              "      <td>https://images-na.ssl-images-amazon.com/images...</td>\n",
              "      <td>amazonbasics/hl002619,amazonbasicsaaaperforman...</td>\n",
              "      <td>...</td>\n",
              "      <td>NaN</td>\n",
              "      <td>NaN</td>\n",
              "      <td>NaN</td>\n",
              "      <td>NaN</td>\n",
              "      <td>3</td>\n",
              "      <td>https://www.amazon.com/product-reviews/B00QWO9...</td>\n",
              "      <td>I order 3 of them and one of the item is bad q...</td>\n",
              "      <td>... 3 of them and one of the item is bad quali...</td>\n",
              "      <td>Byger yang</td>\n",
              "      <td>https://www.barcodable.com/upc/841710106442,ht...</td>\n",
              "    </tr>\n",
              "    <tr>\n",
              "      <th>1</th>\n",
              "      <td>AVpgNzjwLJeJML43Kpxn</td>\n",
              "      <td>2015-10-30T08:59:32Z</td>\n",
              "      <td>2019-04-25T09:08:16Z</td>\n",
              "      <td>AmazonBasics AAA Performance Alkaline Batterie...</td>\n",
              "      <td>B00QWO9P0O,B00LH3DMUO</td>\n",
              "      <td>Amazonbasics</td>\n",
              "      <td>AA,AAA,Health,Electronics,Health &amp; Household,C...</td>\n",
              "      <td>Health &amp; Beauty</td>\n",
              "      <td>https://images-na.ssl-images-amazon.com/images...</td>\n",
              "      <td>amazonbasics/hl002619,amazonbasicsaaaperforman...</td>\n",
              "      <td>...</td>\n",
              "      <td>NaN</td>\n",
              "      <td>NaN</td>\n",
              "      <td>NaN</td>\n",
              "      <td>NaN</td>\n",
              "      <td>4</td>\n",
              "      <td>https://www.amazon.com/product-reviews/B00QWO9...</td>\n",
              "      <td>Bulk is always the less expensive way to go fo...</td>\n",
              "      <td>... always the less expensive way to go for pr...</td>\n",
              "      <td>ByMG</td>\n",
              "      <td>https://www.barcodable.com/upc/841710106442,ht...</td>\n",
              "    </tr>\n",
              "  </tbody>\n",
              "</table>\n",
              "<p>2 rows × 24 columns</p>\n",
              "</div>\n",
              "      <button class=\"colab-df-convert\" onclick=\"convertToInteractive('df-93c68cc4-8181-412c-b43c-1539aaf6d5a0')\"\n",
              "              title=\"Convert this dataframe to an interactive table.\"\n",
              "              style=\"display:none;\">\n",
              "        \n",
              "  <svg xmlns=\"http://www.w3.org/2000/svg\" height=\"24px\"viewBox=\"0 0 24 24\"\n",
              "       width=\"24px\">\n",
              "    <path d=\"M0 0h24v24H0V0z\" fill=\"none\"/>\n",
              "    <path d=\"M18.56 5.44l.94 2.06.94-2.06 2.06-.94-2.06-.94-.94-2.06-.94 2.06-2.06.94zm-11 1L8.5 8.5l.94-2.06 2.06-.94-2.06-.94L8.5 2.5l-.94 2.06-2.06.94zm10 10l.94 2.06.94-2.06 2.06-.94-2.06-.94-.94-2.06-.94 2.06-2.06.94z\"/><path d=\"M17.41 7.96l-1.37-1.37c-.4-.4-.92-.59-1.43-.59-.52 0-1.04.2-1.43.59L10.3 9.45l-7.72 7.72c-.78.78-.78 2.05 0 2.83L4 21.41c.39.39.9.59 1.41.59.51 0 1.02-.2 1.41-.59l7.78-7.78 2.81-2.81c.8-.78.8-2.07 0-2.86zM5.41 20L4 18.59l7.72-7.72 1.47 1.35L5.41 20z\"/>\n",
              "  </svg>\n",
              "      </button>\n",
              "      \n",
              "  <style>\n",
              "    .colab-df-container {\n",
              "      display:flex;\n",
              "      flex-wrap:wrap;\n",
              "      gap: 12px;\n",
              "    }\n",
              "\n",
              "    .colab-df-convert {\n",
              "      background-color: #E8F0FE;\n",
              "      border: none;\n",
              "      border-radius: 50%;\n",
              "      cursor: pointer;\n",
              "      display: none;\n",
              "      fill: #1967D2;\n",
              "      height: 32px;\n",
              "      padding: 0 0 0 0;\n",
              "      width: 32px;\n",
              "    }\n",
              "\n",
              "    .colab-df-convert:hover {\n",
              "      background-color: #E2EBFA;\n",
              "      box-shadow: 0px 1px 2px rgba(60, 64, 67, 0.3), 0px 1px 3px 1px rgba(60, 64, 67, 0.15);\n",
              "      fill: #174EA6;\n",
              "    }\n",
              "\n",
              "    [theme=dark] .colab-df-convert {\n",
              "      background-color: #3B4455;\n",
              "      fill: #D2E3FC;\n",
              "    }\n",
              "\n",
              "    [theme=dark] .colab-df-convert:hover {\n",
              "      background-color: #434B5C;\n",
              "      box-shadow: 0px 1px 3px 1px rgba(0, 0, 0, 0.15);\n",
              "      filter: drop-shadow(0px 1px 2px rgba(0, 0, 0, 0.3));\n",
              "      fill: #FFFFFF;\n",
              "    }\n",
              "  </style>\n",
              "\n",
              "      <script>\n",
              "        const buttonEl =\n",
              "          document.querySelector('#df-93c68cc4-8181-412c-b43c-1539aaf6d5a0 button.colab-df-convert');\n",
              "        buttonEl.style.display =\n",
              "          google.colab.kernel.accessAllowed ? 'block' : 'none';\n",
              "\n",
              "        async function convertToInteractive(key) {\n",
              "          const element = document.querySelector('#df-93c68cc4-8181-412c-b43c-1539aaf6d5a0');\n",
              "          const dataTable =\n",
              "            await google.colab.kernel.invokeFunction('convertToInteractive',\n",
              "                                                     [key], {});\n",
              "          if (!dataTable) return;\n",
              "\n",
              "          const docLinkHtml = 'Like what you see? Visit the ' +\n",
              "            '<a target=\"_blank\" href=https://colab.research.google.com/notebooks/data_table.ipynb>data table notebook</a>'\n",
              "            + ' to learn more about interactive tables.';\n",
              "          element.innerHTML = '';\n",
              "          dataTable['output_type'] = 'display_data';\n",
              "          await google.colab.output.renderOutput(dataTable, element);\n",
              "          const docLink = document.createElement('div');\n",
              "          docLink.innerHTML = docLinkHtml;\n",
              "          element.appendChild(docLink);\n",
              "        }\n",
              "      </script>\n",
              "    </div>\n",
              "  </div>\n",
              "  "
            ]
          },
          "metadata": {},
          "execution_count": 7
        }
      ]
    },
    {
      "cell_type": "code",
      "metadata": {
        "id": "IEQ5iITjc8GK",
        "colab": {
          "base_uri": "https://localhost:8080/",
          "height": 35
        },
        "outputId": "cd2c5859-e041-4fd9-815d-28e6f9423df4"
      },
      "source": [
        "df['reviews.text'][100]"
      ],
      "execution_count": null,
      "outputs": [
        {
          "output_type": "execute_result",
          "data": {
            "text/plain": [
              "\"As a teacher, I need tons of batteries, but I refused to spend excessive amounts on them, so I figured this was the best option! They are long-lasting, worth the money, cute (if that even matters, lol)! You won't find a deal like this in stores!I highly recommend!\""
            ],
            "application/vnd.google.colaboratory.intrinsic+json": {
              "type": "string"
            }
          },
          "metadata": {},
          "execution_count": 8
        }
      ]
    },
    {
      "cell_type": "code",
      "metadata": {
        "id": "inO9OM3r3ZUp",
        "colab": {
          "base_uri": "https://localhost:8080/",
          "height": 35
        },
        "outputId": "25feccd6-9aa5-4a8c-ccf3-73e4113a191f"
      },
      "source": [
        "df['primaryCategories'][100]"
      ],
      "execution_count": null,
      "outputs": [
        {
          "output_type": "execute_result",
          "data": {
            "text/plain": [
              "'Health & Beauty'"
            ],
            "application/vnd.google.colaboratory.intrinsic+json": {
              "type": "string"
            }
          },
          "metadata": {},
          "execution_count": 9
        }
      ]
    },
    {
      "cell_type": "code",
      "metadata": {
        "id": "xmr2o4kX9Er4",
        "colab": {
          "base_uri": "https://localhost:8080/"
        },
        "outputId": "7a42c0ba-fd27-4e86-ae53-a3b163ac2b1d"
      },
      "source": [
        "type(df['reviews.text'][100])"
      ],
      "execution_count": null,
      "outputs": [
        {
          "output_type": "execute_result",
          "data": {
            "text/plain": [
              "str"
            ]
          },
          "metadata": {},
          "execution_count": 10
        }
      ]
    },
    {
      "cell_type": "code",
      "metadata": {
        "id": "2fHmoSGRF4Xg",
        "colab": {
          "base_uri": "https://localhost:8080/"
        },
        "outputId": "02923989-376d-4bbd-de40-1123ecc8ed08"
      },
      "source": [
        "df['primaryCategories'].value_counts()"
      ],
      "execution_count": null,
      "outputs": [
        {
          "output_type": "execute_result",
          "data": {
            "text/plain": [
              "Electronics                    13995\n",
              "Health & Beauty                12071\n",
              "Toys & Games,Electronics        1676\n",
              "Office Supplies,Electronics      386\n",
              "Electronics,Media                185\n",
              "Office Supplies                    9\n",
              "Animals & Pet Supplies             6\n",
              "Home & Garden                      2\n",
              "Electronics,Furniture              2\n",
              "Name: primaryCategories, dtype: int64"
            ]
          },
          "metadata": {},
          "execution_count": 11
        }
      ]
    },
    {
      "cell_type": "code",
      "source": [
        "df.info()"
      ],
      "metadata": {
        "colab": {
          "base_uri": "https://localhost:8080/"
        },
        "id": "Wbdv7u5rdyA1",
        "outputId": "78b02dfd-b283-4e3e-c542-9d4a3c77ccfc"
      },
      "execution_count": null,
      "outputs": [
        {
          "output_type": "stream",
          "name": "stdout",
          "text": [
            "<class 'pandas.core.frame.DataFrame'>\n",
            "RangeIndex: 28332 entries, 0 to 28331\n",
            "Data columns (total 24 columns):\n",
            " #   Column               Non-Null Count  Dtype  \n",
            "---  ------               --------------  -----  \n",
            " 0   id                   28332 non-null  object \n",
            " 1   dateAdded            28332 non-null  object \n",
            " 2   dateUpdated          28332 non-null  object \n",
            " 3   name                 28332 non-null  object \n",
            " 4   asins                28332 non-null  object \n",
            " 5   brand                28332 non-null  object \n",
            " 6   categories           28332 non-null  object \n",
            " 7   primaryCategories    28332 non-null  object \n",
            " 8   imageURLs            28332 non-null  object \n",
            " 9   keys                 28332 non-null  object \n",
            " 10  manufacturer         28332 non-null  object \n",
            " 11  manufacturerNumber   28332 non-null  object \n",
            " 12  reviews.date         28332 non-null  object \n",
            " 13  reviews.dateSeen     28332 non-null  object \n",
            " 14  reviews.didPurchase  9 non-null      object \n",
            " 15  reviews.doRecommend  16086 non-null  object \n",
            " 16  reviews.id           41 non-null     float64\n",
            " 17  reviews.numHelpful   16115 non-null  float64\n",
            " 18  reviews.rating       28332 non-null  int64  \n",
            " 19  reviews.sourceURLs   28332 non-null  object \n",
            " 20  reviews.text         28332 non-null  object \n",
            " 21  reviews.title        28332 non-null  object \n",
            " 22  reviews.username     28332 non-null  object \n",
            " 23  sourceURLs           28332 non-null  object \n",
            "dtypes: float64(2), int64(1), object(21)\n",
            "memory usage: 5.2+ MB\n"
          ]
        }
      ]
    },
    {
      "cell_type": "markdown",
      "metadata": {
        "id": "I0ssyXeiGEqc",
        "toc-hr-collapsed": false
      },
      "source": [
        "# 1. Tokenization and Text Preprocessing, Part 1\n",
        "<a id=\"p1\"></a>"
      ]
    },
    {
      "cell_type": "markdown",
      "metadata": {
        "id": "sd6cxaNTGEqc",
        "toc-hr-collapsed": true
      },
      "source": [
        "## Overview\n",
        "\n",
        "> **token**: an instance of a sequence of characters in some particular document that are grouped together as a useful semantic unit for processing\n",
        "\n",
        "> [_*Introduction to Information Retrival*_](https://nlp.stanford.edu/IR-book/)\n",
        "\n",
        "\n",
        "### The attributes of good tokens\n",
        "\n",
        "* Should be stored in an iterable data structure\n",
        "  - Allows analysis of the \"semantic unit\"\n",
        "* Should be all the same case\n",
        "  - Reduces the complexity of our data\n",
        "* Should be free of non-alphanumeric characters (ie punctuation, whitespace)\n",
        "  - Removes information that is probably not relevant to the analysis"
      ]
    },
    {
      "cell_type": "markdown",
      "metadata": {
        "id": "dK-EKGVNGEqd"
      },
      "source": [
        "Let's pretend we are trying analyze the random sequence here. Question: what is the most common character in this sequence?"
      ]
    },
    {
      "cell_type": "code",
      "metadata": {
        "id": "NODbGehhGEqe"
      },
      "source": [
        "random_seq = \"AABAAFBBBBCGCDDEEEFCFFDFFAFFZFGGGGHEAFJAAZBBFCZ\""
      ],
      "execution_count": null,
      "outputs": []
    },
    {
      "cell_type": "markdown",
      "source": [],
      "metadata": {
        "id": "BZvPmJkOed8N"
      }
    },
    {
      "cell_type": "markdown",
      "metadata": {
        "id": "Uj0FHiJEGEqh"
      },
      "source": [
        "A useful unit of analysis for us is going to be a letter or character"
      ]
    },
    {
      "cell_type": "code",
      "metadata": {
        "id": "OFWePC6XGEqh",
        "colab": {
          "base_uri": "https://localhost:8080/"
        },
        "outputId": "d590f89b-3634-4ae2-f3f4-e2e95d3571c8"
      },
      "source": [
        "list(random_seq)"
      ],
      "execution_count": null,
      "outputs": [
        {
          "output_type": "execute_result",
          "data": {
            "text/plain": [
              "['A',\n",
              " 'A',\n",
              " 'B',\n",
              " 'A',\n",
              " 'A',\n",
              " 'F',\n",
              " 'B',\n",
              " 'B',\n",
              " 'B',\n",
              " 'B',\n",
              " 'C',\n",
              " 'G',\n",
              " 'C',\n",
              " 'D',\n",
              " 'D',\n",
              " 'E',\n",
              " 'E',\n",
              " 'E',\n",
              " 'F',\n",
              " 'C',\n",
              " 'F',\n",
              " 'F',\n",
              " 'D',\n",
              " 'F',\n",
              " 'F',\n",
              " 'A',\n",
              " 'F',\n",
              " 'F',\n",
              " 'Z',\n",
              " 'F',\n",
              " 'G',\n",
              " 'G',\n",
              " 'G',\n",
              " 'G',\n",
              " 'H',\n",
              " 'E',\n",
              " 'A',\n",
              " 'F',\n",
              " 'J',\n",
              " 'A',\n",
              " 'A',\n",
              " 'Z',\n",
              " 'B',\n",
              " 'B',\n",
              " 'F',\n",
              " 'C',\n",
              " 'Z']"
            ]
          },
          "metadata": {},
          "execution_count": 14
        }
      ]
    },
    {
      "cell_type": "markdown",
      "metadata": {
        "id": "8tbp-hyDGEql"
      },
      "source": [
        "Our tokens are already \"good\": in an iterable datastructure, all the same case, and free of noise characters (punctuation, whitespace), so we can jump straight into analysis."
      ]
    },
    {
      "cell_type": "code",
      "metadata": {
        "id": "mFQcACruGEql",
        "colab": {
          "base_uri": "https://localhost:8080/",
          "height": 284
        },
        "outputId": "3ad0c010-e784-46fa-fd78-86e95f79e146"
      },
      "source": [
        "sns.countplot(list(random_seq))"
      ],
      "execution_count": null,
      "outputs": [
        {
          "output_type": "execute_result",
          "data": {
            "text/plain": [
              "<matplotlib.axes._subplots.AxesSubplot at 0x7ff619eda250>"
            ]
          },
          "metadata": {},
          "execution_count": 15
        },
        {
          "output_type": "display_data",
          "data": {
            "text/plain": [
              "<Figure size 432x288 with 1 Axes>"
            ],
            "image/png": "[encoded data removed]"
          },
          "metadata": {
            "needs_background": "light"
          }
        }
      ]
    },
    {
      "cell_type": "markdown",
      "metadata": {
        "id": "o3TbbxfHGEqo"
      },
      "source": [
        "The most common character in our sequence is  \"F\". We can't just glance at the the sequence to know which character is the most common. We (humans) struggle to subitize complex data (like random text sequences).\n",
        "\n",
        "> __Subitize__ is the ability to tell the number of objects in a set, quickly, without counting.  \n",
        "\n",
        "We need to chunk the data into countable pieces \"tokens\" for us to analyze them. This inability subitize text data is the motivation for our discussion today."
      ]
    },
    {
      "cell_type": "markdown",
      "metadata": {
        "id": "UMa8NJjlGEqo",
        "toc-hr-collapsed": true
      },
      "source": [
        "### 1.1 Tokenizing with Pure Python"
      ]
    },
    {
      "cell_type": "code",
      "metadata": {
        "id": "im96HX4XGEqp"
      },
      "source": [
        "sample = \"Friends, Romans, countrymen, lend me your ears;\""
      ],
      "execution_count": null,
      "outputs": []
    },
    {
      "cell_type": "code",
      "metadata": {
        "id": "OiXCqqU-Ku2A",
        "colab": {
          "base_uri": "https://localhost:8080/"
        },
        "outputId": "c40c26d8-a7c0-4099-86ec-97e9a9ba23a6"
      },
      "source": [
        "sample.split()"
      ],
      "execution_count": null,
      "outputs": [
        {
          "output_type": "execute_result",
          "data": {
            "text/plain": [
              "['Friends,', 'Romans,', 'countrymen,', 'lend', 'me', 'your', 'ears;']"
            ]
          },
          "metadata": {},
          "execution_count": 17
        }
      ]
    },
    {
      "cell_type": "code",
      "source": [
        "sample2 = sample + '..., 911'\n",
        "\n",
        "sample2"
      ],
      "metadata": {
        "colab": {
          "base_uri": "https://localhost:8080/",
          "height": 35
        },
        "id": "URF22z_7fSV5",
        "outputId": "31c4e82a-d9b6-4f9e-d07a-f1529f320756"
      },
      "execution_count": null,
      "outputs": [
        {
          "output_type": "execute_result",
          "data": {
            "text/plain": [
              "'Friends, Romans, countrymen, lend me your ears;..., 911'"
            ],
            "application/vnd.google.colaboratory.intrinsic+json": {
              "type": "string"
            }
          },
          "metadata": {},
          "execution_count": 18
        }
      ]
    },
    {
      "cell_type": "markdown",
      "metadata": {
        "id": "ff51vp2U4O7k"
      },
      "source": [
        "Use `regex` library"
      ]
    },
    {
      "cell_type": "code",
      "metadata": {
        "id": "bPvrDFUM4Je1",
        "colab": {
          "base_uri": "https://localhost:8080/",
          "height": 35
        },
        "outputId": "4adc2490-658a-4a98-ec92-8c890738e058"
      },
      "source": [
        "# replacing with an empty string is the same as removing\n",
        "re.sub('[^a-zA-Z\\s]', '', sample2)"
      ],
      "execution_count": null,
      "outputs": [
        {
          "output_type": "execute_result",
          "data": {
            "text/plain": [
              "'Friends Romans countrymen lend me your ears '"
            ],
            "application/vnd.google.colaboratory.intrinsic+json": {
              "type": "string"
            }
          },
          "metadata": {},
          "execution_count": 19
        }
      ]
    },
    {
      "cell_type": "code",
      "source": [
        "# tokenization\n",
        "re.sub('[^a-zA-Z\\s]', '', sample2).lower().split()"
      ],
      "metadata": {
        "colab": {
          "base_uri": "https://localhost:8080/"
        },
        "id": "55xPZktWhkd8",
        "outputId": "3b7b03b1-2ced-45d3-f5de-b0bc79bb2437"
      },
      "execution_count": null,
      "outputs": [
        {
          "output_type": "execute_result",
          "data": {
            "text/plain": [
              "['friends', 'romans', 'countrymen', 'lend', 'me', 'your', 'ears']"
            ]
          },
          "metadata": {},
          "execution_count": 20
        }
      ]
    },
    {
      "cell_type": "markdown",
      "metadata": {
        "id": "Q8ACUekrGEqr"
      },
      "source": [
        "##### Iterable Tokens\n",
        "\n",
        "A string object in Python is already iterable. However, the item you iterate over is a character not a token:\n",
        "\n",
        "```\n",
        "from time import sleep\n",
        "for num, character in enumerate(sample):\n",
        "    sleep(.5)\n",
        "    print(f\"Char {num} - {character}\", end=\"\\r\")\n",
        "```\n",
        "\n",
        "If we instead care about the words in our sample (our semantic unit), we can use the string method `.split()` to separate the whitespace and create iterable units. :)"
      ]
    },
    {
      "cell_type": "code",
      "metadata": {
        "id": "Q5Vh69V5GEqr",
        "colab": {
          "base_uri": "https://localhost:8080/"
        },
        "outputId": "46c5efcb-5319-4d04-cb8b-5e54e58d528e"
      },
      "source": [
        "sample.split()"
      ],
      "execution_count": null,
      "outputs": [
        {
          "output_type": "execute_result",
          "data": {
            "text/plain": [
              "['Friends,', 'Romans,', 'countrymen,', 'lend', 'me', 'your', 'ears;']"
            ]
          },
          "metadata": {},
          "execution_count": 21
        }
      ]
    },
    {
      "cell_type": "code",
      "metadata": {
        "id": "9WCEoYU1Gg9m",
        "colab": {
          "base_uri": "https://localhost:8080/"
        },
        "outputId": "37ff6dbe-dba7-4ac4-c4b0-36c2733a1f16"
      },
      "source": [
        "sample.split(',')"
      ],
      "execution_count": null,
      "outputs": [
        {
          "output_type": "execute_result",
          "data": {
            "text/plain": [
              "['Friends', ' Romans', ' countrymen', ' lend me your ears;']"
            ]
          },
          "metadata": {},
          "execution_count": 22
        }
      ]
    },
    {
      "cell_type": "markdown",
      "metadata": {
        "id": "3h3fMFY0GEqu"
      },
      "source": [
        "###1.2 Case Normalization\n",
        "A common data cleaning data cleaning task with token is to standardize or normalize the case. Normalizing case reduces the chance that you have duplicate records for things which have practically the same semantic meaning. You can use either the `.lower()` or `.upper()` string methods to normalize case.\n",
        "\n",
        "Consider the following example: "
      ]
    },
    {
      "cell_type": "code",
      "metadata": {
        "id": "ohejQb1d-1Je",
        "colab": {
          "base_uri": "https://localhost:8080/"
        },
        "outputId": "3d8a9964-9420-4368-e015-b8bddaf59c60"
      },
      "source": [
        "# Get the count of how many times each unique brand occurs \n",
        "# Notice anything odd here? \n",
        "df['brand'].value_counts()"
      ],
      "execution_count": null,
      "outputs": [
        {
          "output_type": "execute_result",
          "data": {
            "text/plain": [
              "Amazon          16153\n",
              "Amazonbasics    12169\n",
              "AmazonBasics       10\n",
              "Name: brand, dtype: int64"
            ]
          },
          "metadata": {},
          "execution_count": 23
        }
      ]
    },
    {
      "cell_type": "markdown",
      "metadata": {
        "id": "F0CCsjw_cd2M"
      },
      "source": [
        "#### Let's use `pandas` to fix the problem!\n",
        "We `apply` the `.lower()` method"
      ]
    },
    {
      "cell_type": "code",
      "metadata": {
        "id": "vbsvd0VvGEqx",
        "nbgrader": {
          "grade": false,
          "grade_id": "cell-a170e7dda094d54e",
          "locked": false,
          "schema_version": 3,
          "solution": true,
          "task": false
        },
        "colab": {
          "base_uri": "https://localhost:8080/"
        },
        "outputId": "1615e16c-0037-4293-9677-7a4d610c0de8"
      },
      "source": [
        "%%time\n",
        "### BEGIN SOLUTION\n",
        "\n",
        "brand_list = []\n",
        "for string in df['brand']:\n",
        "  brand_list.append(string.lower())\n",
        "\n",
        "df['brand1'] = pd.Series(brand_list)\n",
        "\n",
        "df.head()\n",
        "\n",
        "### END SOLUTION\n",
        "\n",
        "# Much cleaner"
      ],
      "execution_count": null,
      "outputs": [
        {
          "output_type": "stream",
          "name": "stdout",
          "text": [
            "CPU times: user 21.5 ms, sys: 540 µs, total: 22.1 ms\n",
            "Wall time: 27.7 ms\n"
          ]
        }
      ]
    },
    {
      "cell_type": "code",
      "source": [
        "%%time\n",
        "### BEGIN SOLUTION\n",
        "\n",
        "brand_list = [string.lower() for string in df['brand']]\n",
        "\n",
        "df['brand1'] = pd.Series(brand_list)\n",
        "\n",
        "df.head()\n",
        "\n",
        "### END SOLUTION"
      ],
      "metadata": {
        "colab": {
          "base_uri": "https://localhost:8080/"
        },
        "id": "OZBHC0p4jLNF",
        "outputId": "4efd61ce-ac34-4ed0-d679-9dbedc49e7d9"
      },
      "execution_count": null,
      "outputs": [
        {
          "output_type": "stream",
          "name": "stdout",
          "text": [
            "CPU times: user 14.9 ms, sys: 3.13 ms, total: 18 ms\n",
            "Wall time: 19.9 ms\n"
          ]
        }
      ]
    },
    {
      "cell_type": "code",
      "source": [
        "def to_lowercase(cell_contents):\n",
        "  return cell_contents.lower()"
      ],
      "metadata": {
        "id": "wLNKVZnrjgdx"
      },
      "execution_count": null,
      "outputs": []
    },
    {
      "cell_type": "code",
      "source": [
        "%%time\n",
        "### BEGIN SOLUTION\n",
        "# lambda is a single-line nameless function\n",
        "\n",
        "df['brand1'] = df['brand'].apply(to_lowercase)\n",
        "\n",
        "# df.head()\n",
        "\n",
        "### END SOLUTION"
      ],
      "metadata": {
        "colab": {
          "base_uri": "https://localhost:8080/"
        },
        "id": "GwPFqCkMjaku",
        "outputId": "99ab58f2-bafe-45ca-b649-e6b21bda9fac"
      },
      "execution_count": null,
      "outputs": [
        {
          "output_type": "stream",
          "name": "stdout",
          "text": [
            "CPU times: user 14.8 ms, sys: 1.55 ms, total: 16.4 ms\n",
            "Wall time: 42.9 ms\n"
          ]
        }
      ]
    },
    {
      "cell_type": "code",
      "source": [
        "%%time\n",
        "### BEGIN SOLUTION\n",
        "# lambda is a single-line nameless function\n",
        "\n",
        "df['brand1'] = df['brand'].apply(lambda cell_contents: cell_contents.lower())\n",
        "\n",
        "# df.head()\n",
        "\n",
        "### END SOLUTION"
      ],
      "metadata": {
        "colab": {
          "base_uri": "https://localhost:8080/"
        },
        "id": "OcVkyE_Mj4KJ",
        "outputId": "b8b0316a-7ed1-4e11-d0f1-d85249093b25"
      },
      "execution_count": null,
      "outputs": [
        {
          "output_type": "stream",
          "name": "stdout",
          "text": [
            "CPU times: user 13.1 ms, sys: 820 µs, total: 13.9 ms\n",
            "Wall time: 23 ms\n"
          ]
        }
      ]
    },
    {
      "cell_type": "code",
      "source": [
        "df['brand1'].value_counts()"
      ],
      "metadata": {
        "colab": {
          "base_uri": "https://localhost:8080/"
        },
        "id": "5ovvbjb-jBEq",
        "outputId": "3613064a-a654-4b71-edef-f2ce0b0cadc4"
      },
      "execution_count": null,
      "outputs": [
        {
          "output_type": "execute_result",
          "data": {
            "text/plain": [
              "amazon          16153\n",
              "amazonbasics    12179\n",
              "Name: brand1, dtype: int64"
            ]
          },
          "metadata": {},
          "execution_count": 29
        }
      ]
    },
    {
      "cell_type": "markdown",
      "metadata": {
        "id": "-azmlchGb2Xm"
      },
      "source": [
        "###1.4 Using `regex` to remove punctuation\n",
        "`regex` is a powerful mini- language that allows you to search and match patterns in strings. If you haven't used it before, no worries, now is your chance to learn a bit about it! As a software engineer you will find yourself using `regex` surprisingly often!\n",
        "\n",
        "\n",
        "Read this excellent article [Easiest way to remember Regular Expressions (Regex)](https://towardsdatascience.com/easiest-way-to-remember-regular-expressions-regex-178ba518bebd) as a quick introduction! <br>\n",
        "\n",
        "Also useful is the [regular expressions cheat sheet](https://www.dataquest.io/blog/regex-cheatsheet/)) from dataquest.io\n",
        "\n",
        "Finally [regex101](https://regex101.com/) offers an interactive `regex` checker, where you can test whether your `regex` code does what you intended it to do!"
      ]
    },
    {
      "cell_type": "markdown",
      "metadata": {
        "id": "YkhFYsNXGEq1"
      },
      "source": [
        "#### First `regex` example \n",
        "Suppose we want to keep only alphanumeric characters and spaces.\n",
        "Everything else is probably noise: just punctuation, and other special characters. This one is little bit more complicated than our previous example. Here we will have to import the `regex` package `re` (regular expressions). <br>\n",
        "\n",
        "The `regex` expression pattern for this task is `'[^a-zA-Z 0-9]'` which matches character which are **not** in the set {lower case letters, upper case letters, spaces, and numbers}"
      ]
    },
    {
      "cell_type": "code",
      "metadata": {
        "id": "YRY7kKSAGEq4",
        "colab": {
          "base_uri": "https://localhost:8080/",
          "height": 35
        },
        "outputId": "bef5164e-0f22-4535-dd4a-f662c3ea0e5f"
      },
      "source": [
        "sample2"
      ],
      "execution_count": null,
      "outputs": [
        {
          "output_type": "execute_result",
          "data": {
            "text/plain": [
              "'Friends, Romans, countrymen, lend me your ears;..., 911'"
            ],
            "application/vnd.google.colaboratory.intrinsic+json": {
              "type": "string"
            }
          },
          "metadata": {},
          "execution_count": 30
        }
      ]
    },
    {
      "cell_type": "markdown",
      "metadata": {
        "id": "rgwRE0zMKZQj"
      },
      "source": [
        "We'll use the `re.sub()` method to replace the characters matching that pattern with `''`, an empty string, effectively getting rid of them."
      ]
    },
    {
      "cell_type": "code",
      "metadata": {
        "id": "0iBUGUpFooW0",
        "colab": {
          "base_uri": "https://localhost:8080/",
          "height": 35
        },
        "outputId": "e12dc9b9-2fd3-478e-b452-d9c3c424aee3"
      },
      "source": [
        "# replace (sub) \"everything that is NOT lower-case or upper-case or numerical or space\" with empty string \"\"\n",
        "import re\n",
        "re.sub('[^a-zA-Z 0-9]', '', sample2)"
      ],
      "execution_count": null,
      "outputs": [
        {
          "output_type": "execute_result",
          "data": {
            "text/plain": [
              "'Friends Romans countrymen lend me your ears 911'"
            ],
            "application/vnd.google.colaboratory.intrinsic+json": {
              "type": "string"
            }
          },
          "metadata": {},
          "execution_count": 31
        }
      ]
    },
    {
      "cell_type": "code",
      "metadata": {
        "id": "-gVwa_OwTsrH",
        "colab": {
          "base_uri": "https://localhost:8080/"
        },
        "outputId": "01426c9e-8d3b-4b74-8e9b-c917a5b004d0"
      },
      "source": [
        "re.sub('[^a-zA-Z 0-9]', '', sample2).split()"
      ],
      "execution_count": null,
      "outputs": [
        {
          "output_type": "execute_result",
          "data": {
            "text/plain": [
              "['Friends', 'Romans', 'countrymen', 'lend', 'me', 'your', 'ears', '911']"
            ]
          },
          "metadata": {},
          "execution_count": 32
        }
      ]
    },
    {
      "cell_type": "markdown",
      "metadata": {
        "id": "RSg_9zAXK7l1"
      },
      "source": [
        "Next we can use `python`'s  `lower()` and `split()` methods <br>\n",
        "to convert upper case characters to lower case, then split the string on whitespace, producing a list of tokens."
      ]
    },
    {
      "cell_type": "code",
      "metadata": {
        "id": "KwPG1EWSKZeK",
        "colab": {
          "base_uri": "https://localhost:8080/"
        },
        "outputId": "354d9081-47fb-4598-9720-989f67e33f20"
      },
      "source": [
        "#split into words and lower case\n",
        "re.sub('[^a-zA-Z 0-9]', '', sample2).lower().split()"
      ],
      "execution_count": null,
      "outputs": [
        {
          "output_type": "execute_result",
          "data": {
            "text/plain": [
              "['friends', 'romans', 'countrymen', 'lend', 'me', 'your', 'ears', '911']"
            ]
          },
          "metadata": {},
          "execution_count": 33
        }
      ]
    },
    {
      "cell_type": "markdown",
      "metadata": {
        "id": "fKqg9zeOLfZf"
      },
      "source": [
        "Congratulations, you have just learned all the steps to clean and tokenize a text string!"
      ]
    },
    {
      "cell_type": "markdown",
      "metadata": {
        "id": "obloLh7rGEq7"
      },
      "source": [
        "### 1.5 Five Minute Challenge: build your own tokenizer\n",
        "- Complete the function `tokenize` below\n",
        "- Combine the methods which we discussed above to clean and tokenize a text string.\n",
        "- Your function should remove punctuation and special characters, split the text string into words, and lower case all capital letters\n",
        "- You can put the methods in any order you want"
      ]
    },
    {
      "cell_type": "code",
      "metadata": {
        "id": "0zgbOnoIGEq7",
        "nbgrader": {
          "grade": false,
          "grade_id": "cell-42630c1891924a1a",
          "locked": false,
          "schema_version": 3,
          "solution": true,
          "task": false
        }
      },
      "source": [
        "def tokenize(text):\n",
        "    \"\"\"Parses a string into a list of semantic units (words)\n",
        "\n",
        "    Args:\n",
        "        text (str): The string that the function will tokenize.\n",
        "\n",
        "    Returns:\n",
        "        list: tokens parsed out by the mechanics of your choice\n",
        "    \"\"\"\n",
        "    tokens = re.sub('[^a-zA-Z 0-9]', '', text).lower().split()\n",
        "    ### BEGIN SOLUTION\n",
        "    ### END SOLUTIONdf.\n",
        "    return np.array(tokens)"
      ],
      "execution_count": null,
      "outputs": []
    },
    {
      "cell_type": "code",
      "metadata": {
        "colab": {
          "base_uri": "https://localhost:8080/"
        },
        "id": "qWsYy-LqGEq9",
        "outputId": "d45c0a2b-74ec-4cd4-83c3-9afedfc15290"
      },
      "source": [
        "# this should be your output\n",
        "tokenize(sample2)"
      ],
      "execution_count": null,
      "outputs": [
        {
          "output_type": "execute_result",
          "data": {
            "text/plain": [
              "array(['friends', 'romans', 'countrymen', 'lend', 'me', 'your', 'ears',\n",
              "       '911'], dtype='<U10')"
            ]
          },
          "metadata": {},
          "execution_count": 35
        }
      ]
    },
    {
      "cell_type": "code",
      "source": [
        "# tokenize the reviews using our function\n",
        "df['reviews.text'].apply(tokenize)"
      ],
      "metadata": {
        "colab": {
          "base_uri": "https://localhost:8080/"
        },
        "id": "WMZU5WTDlLhp",
        "outputId": "0f395577-0c44-4c45-f282-656df5c8d07c"
      },
      "execution_count": null,
      "outputs": [
        {
          "output_type": "execute_result",
          "data": {
            "text/plain": [
              "0        [i, order, 3, of, them, and, one, of, the, ite...\n",
              "1        [bulk, is, always, the, less, expensive, way, ...\n",
              "2        [well, they, are, not, duracell, but, for, the...\n",
              "3        [seem, to, work, as, well, as, name, brand, ba...\n",
              "4        [these, batteries, are, very, long, lasting, t...\n",
              "                               ...                        \n",
              "28327    [i, got, 2, of, these, for, my, 8, yr, old, tw...\n",
              "28328    [i, bought, this, for, my, niece, for, a, chri...\n",
              "28329    [very, nice, for, light, internet, browsing, k...\n",
              "28330    [this, tablet, does, absolutely, everything, i...\n",
              "28331    [at, ninety, dollars, the, expectionations, ar...\n",
              "Name: reviews.text, Length: 28332, dtype: object"
            ]
          },
          "metadata": {},
          "execution_count": 36
        }
      ]
    },
    {
      "cell_type": "markdown",
      "metadata": {
        "id": "erSMd4diGEq_",
        "toc-hr-collapsed": true
      },
      "source": [
        "# 2. Tokenization and text preprocessing, part 2\n",
        "\n",
        "Our inability to analyze text data becomes quickly amplified in a business context. Consider the following: \n",
        "\n",
        "A business which sells widgets also collects customer reviews of those widgets. When the business first started out, they had a human read the reviews to look for patterns. Now, the business sells thousands of widgets a month. The human readers can't keep up with the pace of reviews to synthesize an accurate analysis. They need some science to help them analyze their data.\n",
        "\n",
        "Now, let's pretend that business is Amazon, and the widgets are Amazon products such as the Alexa, Echo, or other AmazonBasics products. Let's analyze their reviews with some counts. This dataset is available on [Kaggle](https://www.kaggle.com/datafiniti/consumer-reviews-of-amazon-products/)."
      ]
    },
    {
      "cell_type": "code",
      "metadata": {
        "colab": {
          "base_uri": "https://localhost:8080/",
          "height": 345
        },
        "id": "ydhFysF-GErC",
        "outputId": "ca2979a8-60b2-472a-ed2a-8086d27f92fd"
      },
      "source": [
        "df.head(2)"
      ],
      "execution_count": null,
      "outputs": [
        {
          "output_type": "execute_result",
          "data": {
            "text/plain": [
              "                     id             dateAdded           dateUpdated  \\\n",
              "0  AVpgNzjwLJeJML43Kpxn  2015-10-30T08:59:32Z  2019-04-25T09:08:16Z   \n",
              "1  AVpgNzjwLJeJML43Kpxn  2015-10-30T08:59:32Z  2019-04-25T09:08:16Z   \n",
              "\n",
              "                                                name                  asins  \\\n",
              "0  AmazonBasics AAA Performance Alkaline Batterie...  B00QWO9P0O,B00LH3DMUO   \n",
              "1  AmazonBasics AAA Performance Alkaline Batterie...  B00QWO9P0O,B00LH3DMUO   \n",
              "\n",
              "          brand                                         categories  \\\n",
              "0  Amazonbasics  AA,AAA,Health,Electronics,Health & Household,C...   \n",
              "1  Amazonbasics  AA,AAA,Health,Electronics,Health & Household,C...   \n",
              "\n",
              "  primaryCategories                                          imageURLs  \\\n",
              "0   Health & Beauty  https://images-na.ssl-images-amazon.com/images...   \n",
              "1   Health & Beauty  https://images-na.ssl-images-amazon.com/images...   \n",
              "\n",
              "                                                keys  ... reviews.doRecommend  \\\n",
              "0  amazonbasics/hl002619,amazonbasicsaaaperforman...  ...                 NaN   \n",
              "1  amazonbasics/hl002619,amazonbasicsaaaperforman...  ...                 NaN   \n",
              "\n",
              "  reviews.id reviews.numHelpful reviews.rating  \\\n",
              "0        NaN                NaN              3   \n",
              "1        NaN                NaN              4   \n",
              "\n",
              "                                  reviews.sourceURLs  \\\n",
              "0  https://www.amazon.com/product-reviews/B00QWO9...   \n",
              "1  https://www.amazon.com/product-reviews/B00QWO9...   \n",
              "\n",
              "                                        reviews.text  \\\n",
              "0  I order 3 of them and one of the item is bad q...   \n",
              "1  Bulk is always the less expensive way to go fo...   \n",
              "\n",
              "                                       reviews.title  reviews.username  \\\n",
              "0  ... 3 of them and one of the item is bad quali...        Byger yang   \n",
              "1  ... always the less expensive way to go for pr...              ByMG   \n",
              "\n",
              "                                          sourceURLs        brand1  \n",
              "0  https://www.barcodable.com/upc/841710106442,ht...  amazonbasics  \n",
              "1  https://www.barcodable.com/upc/841710106442,ht...  amazonbasics  \n",
              "\n",
              "[2 rows x 25 columns]"
            ],
            "text/html": [
              "\n",
              "  <div id=\"df-8520e16a-a77a-4e67-8441-e3a40e4c7177\">\n",
              "    <div class=\"colab-df-container\">\n",
              "      <div>\n",
              "<style scoped>\n",
              "    .dataframe tbody tr th:only-of-type {\n",
              "        vertical-align: middle;\n",
              "    }\n",
              "\n",
              "    .dataframe tbody tr th {\n",
              "        vertical-align: top;\n",
              "    }\n",
              "\n",
              "    .dataframe thead th {\n",
              "        text-align: right;\n",
              "    }\n",
              "</style>\n",
              "<table border=\"1\" class=\"dataframe\">\n",
              "  <thead>\n",
              "    <tr style=\"text-align: right;\">\n",
              "      <th></th>\n",
              "      <th>id</th>\n",
              "      <th>dateAdded</th>\n",
              "      <th>dateUpdated</th>\n",
              "      <th>name</th>\n",
              "      <th>asins</th>\n",
              "      <th>brand</th>\n",
              "      <th>categories</th>\n",
              "      <th>primaryCategories</th>\n",
              "      <th>imageURLs</th>\n",
              "      <th>keys</th>\n",
              "      <th>...</th>\n",
              "      <th>reviews.doRecommend</th>\n",
              "      <th>reviews.id</th>\n",
              "      <th>reviews.numHelpful</th>\n",
              "      <th>reviews.rating</th>\n",
              "      <th>reviews.sourceURLs</th>\n",
              "      <th>reviews.text</th>\n",
              "      <th>reviews.title</th>\n",
              "      <th>reviews.username</th>\n",
              "      <th>sourceURLs</th>\n",
              "      <th>brand1</th>\n",
              "    </tr>\n",
              "  </thead>\n",
              "  <tbody>\n",
              "    <tr>\n",
              "      <th>0</th>\n",
              "      <td>AVpgNzjwLJeJML43Kpxn</td>\n",
              "      <td>2015-10-30T08:59:32Z</td>\n",
              "      <td>2019-04-25T09:08:16Z</td>\n",
              "      <td>AmazonBasics AAA Performance Alkaline Batterie...</td>\n",
              "      <td>B00QWO9P0O,B00LH3DMUO</td>\n",
              "      <td>Amazonbasics</td>\n",
              "      <td>AA,AAA,Health,Electronics,Health &amp; Household,C...</td>\n",
              "      <td>Health &amp; Beauty</td>\n",
              "      <td>https://images-na.ssl-images-amazon.com/images...</td>\n",
              "      <td>amazonbasics/hl002619,amazonbasicsaaaperforman...</td>\n",
              "      <td>...</td>\n",
              "      <td>NaN</td>\n",
              "      <td>NaN</td>\n",
              "      <td>NaN</td>\n",
              "      <td>3</td>\n",
              "      <td>https://www.amazon.com/product-reviews/B00QWO9...</td>\n",
              "      <td>I order 3 of them and one of the item is bad q...</td>\n",
              "      <td>... 3 of them and one of the item is bad quali...</td>\n",
              "      <td>Byger yang</td>\n",
              "      <td>https://www.barcodable.com/upc/841710106442,ht...</td>\n",
              "      <td>amazonbasics</td>\n",
              "    </tr>\n",
              "    <tr>\n",
              "      <th>1</th>\n",
              "      <td>AVpgNzjwLJeJML43Kpxn</td>\n",
              "      <td>2015-10-30T08:59:32Z</td>\n",
              "      <td>2019-04-25T09:08:16Z</td>\n",
              "      <td>AmazonBasics AAA Performance Alkaline Batterie...</td>\n",
              "      <td>B00QWO9P0O,B00LH3DMUO</td>\n",
              "      <td>Amazonbasics</td>\n",
              "      <td>AA,AAA,Health,Electronics,Health &amp; Household,C...</td>\n",
              "      <td>Health &amp; Beauty</td>\n",
              "      <td>https://images-na.ssl-images-amazon.com/images...</td>\n",
              "      <td>amazonbasics/hl002619,amazonbasicsaaaperforman...</td>\n",
              "      <td>...</td>\n",
              "      <td>NaN</td>\n",
              "      <td>NaN</td>\n",
              "      <td>NaN</td>\n",
              "      <td>4</td>\n",
              "      <td>https://www.amazon.com/product-reviews/B00QWO9...</td>\n",
              "      <td>Bulk is always the less expensive way to go fo...</td>\n",
              "      <td>... always the less expensive way to go for pr...</td>\n",
              "      <td>ByMG</td>\n",
              "      <td>https://www.barcodable.com/upc/841710106442,ht...</td>\n",
              "      <td>amazonbasics</td>\n",
              "    </tr>\n",
              "  </tbody>\n",
              "</table>\n",
              "<p>2 rows × 25 columns</p>\n",
              "</div>\n",
              "      <button class=\"colab-df-convert\" onclick=\"convertToInteractive('df-8520e16a-a77a-4e67-8441-e3a40e4c7177')\"\n",
              "              title=\"Convert this dataframe to an interactive table.\"\n",
              "              style=\"display:none;\">\n",
              "        \n",
              "  <svg xmlns=\"http://www.w3.org/2000/svg\" height=\"24px\"viewBox=\"0 0 24 24\"\n",
              "       width=\"24px\">\n",
              "    <path d=\"M0 0h24v24H0V0z\" fill=\"none\"/>\n",
              "    <path d=\"M18.56 5.44l.94 2.06.94-2.06 2.06-.94-2.06-.94-.94-2.06-.94 2.06-2.06.94zm-11 1L8.5 8.5l.94-2.06 2.06-.94-2.06-.94L8.5 2.5l-.94 2.06-2.06.94zm10 10l.94 2.06.94-2.06 2.06-.94-2.06-.94-.94-2.06-.94 2.06-2.06.94z\"/><path d=\"M17.41 7.96l-1.37-1.37c-.4-.4-.92-.59-1.43-.59-.52 0-1.04.2-1.43.59L10.3 9.45l-7.72 7.72c-.78.78-.78 2.05 0 2.83L4 21.41c.39.39.9.59 1.41.59.51 0 1.02-.2 1.41-.59l7.78-7.78 2.81-2.81c.8-.78.8-2.07 0-2.86zM5.41 20L4 18.59l7.72-7.72 1.47 1.35L5.41 20z\"/>\n",
              "  </svg>\n",
              "      </button>\n",
              "      \n",
              "  <style>\n",
              "    .colab-df-container {\n",
              "      display:flex;\n",
              "      flex-wrap:wrap;\n",
              "      gap: 12px;\n",
              "    }\n",
              "\n",
              "    .colab-df-convert {\n",
              "      background-color: #E8F0FE;\n",
              "      border: none;\n",
              "      border-radius: 50%;\n",
              "      cursor: pointer;\n",
              "      display: none;\n",
              "      fill: #1967D2;\n",
              "      height: 32px;\n",
              "      padding: 0 0 0 0;\n",
              "      width: 32px;\n",
              "    }\n",
              "\n",
              "    .colab-df-convert:hover {\n",
              "      background-color: #E2EBFA;\n",
              "      box-shadow: 0px 1px 2px rgba(60, 64, 67, 0.3), 0px 1px 3px 1px rgba(60, 64, 67, 0.15);\n",
              "      fill: #174EA6;\n",
              "    }\n",
              "\n",
              "    [theme=dark] .colab-df-convert {\n",
              "      background-color: #3B4455;\n",
              "      fill: #D2E3FC;\n",
              "    }\n",
              "\n",
              "    [theme=dark] .colab-df-convert:hover {\n",
              "      background-color: #434B5C;\n",
              "      box-shadow: 0px 1px 3px 1px rgba(0, 0, 0, 0.15);\n",
              "      filter: drop-shadow(0px 1px 2px rgba(0, 0, 0, 0.3));\n",
              "      fill: #FFFFFF;\n",
              "    }\n",
              "  </style>\n",
              "\n",
              "      <script>\n",
              "        const buttonEl =\n",
              "          document.querySelector('#df-8520e16a-a77a-4e67-8441-e3a40e4c7177 button.colab-df-convert');\n",
              "        buttonEl.style.display =\n",
              "          google.colab.kernel.accessAllowed ? 'block' : 'none';\n",
              "\n",
              "        async function convertToInteractive(key) {\n",
              "          const element = document.querySelector('#df-8520e16a-a77a-4e67-8441-e3a40e4c7177');\n",
              "          const dataTable =\n",
              "            await google.colab.kernel.invokeFunction('convertToInteractive',\n",
              "                                                     [key], {});\n",
              "          if (!dataTable) return;\n",
              "\n",
              "          const docLinkHtml = 'Like what you see? Visit the ' +\n",
              "            '<a target=\"_blank\" href=https://colab.research.google.com/notebooks/data_table.ipynb>data table notebook</a>'\n",
              "            + ' to learn more about interactive tables.';\n",
              "          element.innerHTML = '';\n",
              "          dataTable['output_type'] = 'display_data';\n",
              "          await google.colab.output.renderOutput(dataTable, element);\n",
              "          const docLink = document.createElement('div');\n",
              "          docLink.innerHTML = docLinkHtml;\n",
              "          element.appendChild(docLink);\n",
              "        }\n",
              "      </script>\n",
              "    </div>\n",
              "  </div>\n",
              "  "
            ]
          },
          "metadata": {},
          "execution_count": 37
        }
      ]
    },
    {
      "cell_type": "code",
      "metadata": {
        "colab": {
          "base_uri": "https://localhost:8080/"
        },
        "id": "bPnKeNGgKZNe",
        "outputId": "bac7c31d-f3f5-428e-e4a9-885851781a36"
      },
      "source": [
        "len(df)"
      ],
      "execution_count": null,
      "outputs": [
        {
          "output_type": "execute_result",
          "data": {
            "text/plain": [
              "28332"
            ]
          },
          "metadata": {},
          "execution_count": 38
        }
      ]
    },
    {
      "cell_type": "markdown",
      "metadata": {
        "id": "PXUB40TOjxkn"
      },
      "source": [
        "###  2.1 Counting word occurrences"
      ]
    },
    {
      "cell_type": "code",
      "metadata": {
        "colab": {
          "base_uri": "https://localhost:8080/"
        },
        "id": "q--SeRsygBzO",
        "outputId": "615fd735-e115-472c-f2e7-cefe9c0f717c"
      },
      "source": [
        "# Counting occurrences of words in the raw text\n",
        "df['reviews.text'].value_counts()[:10]"
      ],
      "execution_count": null,
      "outputs": [
        {
          "output_type": "execute_result",
          "data": {
            "text/plain": [
              "good           60\n",
              "great          49\n",
              "Good           42\n",
              "Great          38\n",
              "ok             33\n",
              "Great price    30\n",
              "great price    28\n",
              "Excellent      28\n",
              "Great value    27\n",
              "good price     23\n",
              "Name: reviews.text, dtype: int64"
            ]
          },
          "metadata": {},
          "execution_count": 39
        }
      ]
    },
    {
      "cell_type": "code",
      "metadata": {
        "colab": {
          "base_uri": "https://localhost:8080/"
        },
        "id": "TTZEyAsMfzgC",
        "outputId": "359b522b-c79b-42a8-bc4d-eaa6bcb56fea"
      },
      "source": [
        "# Counting fractional word occurrences (divide by total number of words)\n",
        "# Look at the first 10 reviews\n",
        "df['reviews.text'].value_counts(normalize=True)[:10]"
      ],
      "execution_count": null,
      "outputs": [
        {
          "output_type": "execute_result",
          "data": {
            "text/plain": [
              "good           0.002118\n",
              "great          0.001729\n",
              "Good           0.001482\n",
              "Great          0.001341\n",
              "ok             0.001165\n",
              "Great price    0.001059\n",
              "great price    0.000988\n",
              "Excellent      0.000988\n",
              "Great value    0.000953\n",
              "good price     0.000812\n",
              "Name: reviews.text, dtype: float64"
            ]
          },
          "metadata": {},
          "execution_count": 40
        }
      ]
    },
    {
      "cell_type": "markdown",
      "metadata": {
        "id": "NWwDOZZ8j_JW"
      },
      "source": [
        "### 2.2 Use your tokenizer to tokenize the reviews"
      ]
    },
    {
      "cell_type": "code",
      "metadata": {
        "id": "Lkl_l_3KGErH",
        "nbgrader": {
          "grade": false,
          "grade_id": "cell-afe39f461a4852ac",
          "locked": false,
          "schema_version": 3,
          "solution": true,
          "task": false
        },
        "colab": {
          "base_uri": "https://localhost:8080/",
          "height": 345
        },
        "outputId": "e1db8cb3-5f6e-4b94-c378-24d792d80f83"
      },
      "source": [
        "### BEGIN SOLUTION\n",
        "\n",
        "# tokenize reviews.text \n",
        "df['tokens'] = df['reviews.text'].apply(tokenize)\n",
        "\n",
        "### END SOLUTION\n",
        "\n",
        "df.head(2)"
      ],
      "execution_count": null,
      "outputs": [
        {
          "output_type": "execute_result",
          "data": {
            "text/plain": [
              "                     id             dateAdded           dateUpdated  \\\n",
              "0  AVpgNzjwLJeJML43Kpxn  2015-10-30T08:59:32Z  2019-04-25T09:08:16Z   \n",
              "1  AVpgNzjwLJeJML43Kpxn  2015-10-30T08:59:32Z  2019-04-25T09:08:16Z   \n",
              "\n",
              "                                                name                  asins  \\\n",
              "0  AmazonBasics AAA Performance Alkaline Batterie...  B00QWO9P0O,B00LH3DMUO   \n",
              "1  AmazonBasics AAA Performance Alkaline Batterie...  B00QWO9P0O,B00LH3DMUO   \n",
              "\n",
              "          brand                                         categories  \\\n",
              "0  Amazonbasics  AA,AAA,Health,Electronics,Health & Household,C...   \n",
              "1  Amazonbasics  AA,AAA,Health,Electronics,Health & Household,C...   \n",
              "\n",
              "  primaryCategories                                          imageURLs  \\\n",
              "0   Health & Beauty  https://images-na.ssl-images-amazon.com/images...   \n",
              "1   Health & Beauty  https://images-na.ssl-images-amazon.com/images...   \n",
              "\n",
              "                                                keys  ... reviews.id  \\\n",
              "0  amazonbasics/hl002619,amazonbasicsaaaperforman...  ...        NaN   \n",
              "1  amazonbasics/hl002619,amazonbasicsaaaperforman...  ...        NaN   \n",
              "\n",
              "  reviews.numHelpful reviews.rating  \\\n",
              "0                NaN              3   \n",
              "1                NaN              4   \n",
              "\n",
              "                                  reviews.sourceURLs  \\\n",
              "0  https://www.amazon.com/product-reviews/B00QWO9...   \n",
              "1  https://www.amazon.com/product-reviews/B00QWO9...   \n",
              "\n",
              "                                        reviews.text  \\\n",
              "0  I order 3 of them and one of the item is bad q...   \n",
              "1  Bulk is always the less expensive way to go fo...   \n",
              "\n",
              "                                       reviews.title  reviews.username  \\\n",
              "0  ... 3 of them and one of the item is bad quali...        Byger yang   \n",
              "1  ... always the less expensive way to go for pr...              ByMG   \n",
              "\n",
              "                                          sourceURLs        brand1  \\\n",
              "0  https://www.barcodable.com/upc/841710106442,ht...  amazonbasics   \n",
              "1  https://www.barcodable.com/upc/841710106442,ht...  amazonbasics   \n",
              "\n",
              "                                              tokens  \n",
              "0  [i, order, 3, of, them, and, one, of, the, ite...  \n",
              "1  [bulk, is, always, the, less, expensive, way, ...  \n",
              "\n",
              "[2 rows x 26 columns]"
            ],
            "text/html": [
              "\n",
              "  <div id=\"df-97b362c4-b8f7-4420-8802-54991359d427\">\n",
              "    <div class=\"colab-df-container\">\n",
              "      <div>\n",
              "<style scoped>\n",
              "    .dataframe tbody tr th:only-of-type {\n",
              "        vertical-align: middle;\n",
              "    }\n",
              "\n",
              "    .dataframe tbody tr th {\n",
              "        vertical-align: top;\n",
              "    }\n",
              "\n",
              "    .dataframe thead th {\n",
              "        text-align: right;\n",
              "    }\n",
              "</style>\n",
              "<table border=\"1\" class=\"dataframe\">\n",
              "  <thead>\n",
              "    <tr style=\"text-align: right;\">\n",
              "      <th></th>\n",
              "      <th>id</th>\n",
              "      <th>dateAdded</th>\n",
              "      <th>dateUpdated</th>\n",
              "      <th>name</th>\n",
              "      <th>asins</th>\n",
              "      <th>brand</th>\n",
              "      <th>categories</th>\n",
              "      <th>primaryCategories</th>\n",
              "      <th>imageURLs</th>\n",
              "      <th>keys</th>\n",
              "      <th>...</th>\n",
              "      <th>reviews.id</th>\n",
              "      <th>reviews.numHelpful</th>\n",
              "      <th>reviews.rating</th>\n",
              "      <th>reviews.sourceURLs</th>\n",
              "      <th>reviews.text</th>\n",
              "      <th>reviews.title</th>\n",
              "      <th>reviews.username</th>\n",
              "      <th>sourceURLs</th>\n",
              "      <th>brand1</th>\n",
              "      <th>tokens</th>\n",
              "    </tr>\n",
              "  </thead>\n",
              "  <tbody>\n",
              "    <tr>\n",
              "      <th>0</th>\n",
              "      <td>AVpgNzjwLJeJML43Kpxn</td>\n",
              "      <td>2015-10-30T08:59:32Z</td>\n",
              "      <td>2019-04-25T09:08:16Z</td>\n",
              "      <td>AmazonBasics AAA Performance Alkaline Batterie...</td>\n",
              "      <td>B00QWO9P0O,B00LH3DMUO</td>\n",
              "      <td>Amazonbasics</td>\n",
              "      <td>AA,AAA,Health,Electronics,Health &amp; Household,C...</td>\n",
              "      <td>Health &amp; Beauty</td>\n",
              "      <td>https://images-na.ssl-images-amazon.com/images...</td>\n",
              "      <td>amazonbasics/hl002619,amazonbasicsaaaperforman...</td>\n",
              "      <td>...</td>\n",
              "      <td>NaN</td>\n",
              "      <td>NaN</td>\n",
              "      <td>3</td>\n",
              "      <td>https://www.amazon.com/product-reviews/B00QWO9...</td>\n",
              "      <td>I order 3 of them and one of the item is bad q...</td>\n",
              "      <td>... 3 of them and one of the item is bad quali...</td>\n",
              "      <td>Byger yang</td>\n",
              "      <td>https://www.barcodable.com/upc/841710106442,ht...</td>\n",
              "      <td>amazonbasics</td>\n",
              "      <td>[i, order, 3, of, them, and, one, of, the, ite...</td>\n",
              "    </tr>\n",
              "    <tr>\n",
              "      <th>1</th>\n",
              "      <td>AVpgNzjwLJeJML43Kpxn</td>\n",
              "      <td>2015-10-30T08:59:32Z</td>\n",
              "      <td>2019-04-25T09:08:16Z</td>\n",
              "      <td>AmazonBasics AAA Performance Alkaline Batterie...</td>\n",
              "      <td>B00QWO9P0O,B00LH3DMUO</td>\n",
              "      <td>Amazonbasics</td>\n",
              "      <td>AA,AAA,Health,Electronics,Health &amp; Household,C...</td>\n",
              "      <td>Health &amp; Beauty</td>\n",
              "      <td>https://images-na.ssl-images-amazon.com/images...</td>\n",
              "      <td>amazonbasics/hl002619,amazonbasicsaaaperforman...</td>\n",
              "      <td>...</td>\n",
              "      <td>NaN</td>\n",
              "      <td>NaN</td>\n",
              "      <td>4</td>\n",
              "      <td>https://www.amazon.com/product-reviews/B00QWO9...</td>\n",
              "      <td>Bulk is always the less expensive way to go fo...</td>\n",
              "      <td>... always the less expensive way to go for pr...</td>\n",
              "      <td>ByMG</td>\n",
              "      <td>https://www.barcodable.com/upc/841710106442,ht...</td>\n",
              "      <td>amazonbasics</td>\n",
              "      <td>[bulk, is, always, the, less, expensive, way, ...</td>\n",
              "    </tr>\n",
              "  </tbody>\n",
              "</table>\n",
              "<p>2 rows × 26 columns</p>\n",
              "</div>\n",
              "      <button class=\"colab-df-convert\" onclick=\"convertToInteractive('df-97b362c4-b8f7-4420-8802-54991359d427')\"\n",
              "              title=\"Convert this dataframe to an interactive table.\"\n",
              "              style=\"display:none;\">\n",
              "        \n",
              "  <svg xmlns=\"http://www.w3.org/2000/svg\" height=\"24px\"viewBox=\"0 0 24 24\"\n",
              "       width=\"24px\">\n",
              "    <path d=\"M0 0h24v24H0V0z\" fill=\"none\"/>\n",
              "    <path d=\"M18.56 5.44l.94 2.06.94-2.06 2.06-.94-2.06-.94-.94-2.06-.94 2.06-2.06.94zm-11 1L8.5 8.5l.94-2.06 2.06-.94-2.06-.94L8.5 2.5l-.94 2.06-2.06.94zm10 10l.94 2.06.94-2.06 2.06-.94-2.06-.94-.94-2.06-.94 2.06-2.06.94z\"/><path d=\"M17.41 7.96l-1.37-1.37c-.4-.4-.92-.59-1.43-.59-.52 0-1.04.2-1.43.59L10.3 9.45l-7.72 7.72c-.78.78-.78 2.05 0 2.83L4 21.41c.39.39.9.59 1.41.59.51 0 1.02-.2 1.41-.59l7.78-7.78 2.81-2.81c.8-.78.8-2.07 0-2.86zM5.41 20L4 18.59l7.72-7.72 1.47 1.35L5.41 20z\"/>\n",
              "  </svg>\n",
              "      </button>\n",
              "      \n",
              "  <style>\n",
              "    .colab-df-container {\n",
              "      display:flex;\n",
              "      flex-wrap:wrap;\n",
              "      gap: 12px;\n",
              "    }\n",
              "\n",
              "    .colab-df-convert {\n",
              "      background-color: #E8F0FE;\n",
              "      border: none;\n",
              "      border-radius: 50%;\n",
              "      cursor: pointer;\n",
              "      display: none;\n",
              "      fill: #1967D2;\n",
              "      height: 32px;\n",
              "      padding: 0 0 0 0;\n",
              "      width: 32px;\n",
              "    }\n",
              "\n",
              "    .colab-df-convert:hover {\n",
              "      background-color: #E2EBFA;\n",
              "      box-shadow: 0px 1px 2px rgba(60, 64, 67, 0.3), 0px 1px 3px 1px rgba(60, 64, 67, 0.15);\n",
              "      fill: #174EA6;\n",
              "    }\n",
              "\n",
              "    [theme=dark] .colab-df-convert {\n",
              "      background-color: #3B4455;\n",
              "      fill: #D2E3FC;\n",
              "    }\n",
              "\n",
              "    [theme=dark] .colab-df-convert:hover {\n",
              "      background-color: #434B5C;\n",
              "      box-shadow: 0px 1px 3px 1px rgba(0, 0, 0, 0.15);\n",
              "      filter: drop-shadow(0px 1px 2px rgba(0, 0, 0, 0.3));\n",
              "      fill: #FFFFFF;\n",
              "    }\n",
              "  </style>\n",
              "\n",
              "      <script>\n",
              "        const buttonEl =\n",
              "          document.querySelector('#df-97b362c4-b8f7-4420-8802-54991359d427 button.colab-df-convert');\n",
              "        buttonEl.style.display =\n",
              "          google.colab.kernel.accessAllowed ? 'block' : 'none';\n",
              "\n",
              "        async function convertToInteractive(key) {\n",
              "          const element = document.querySelector('#df-97b362c4-b8f7-4420-8802-54991359d427');\n",
              "          const dataTable =\n",
              "            await google.colab.kernel.invokeFunction('convertToInteractive',\n",
              "                                                     [key], {});\n",
              "          if (!dataTable) return;\n",
              "\n",
              "          const docLinkHtml = 'Like what you see? Visit the ' +\n",
              "            '<a target=\"_blank\" href=https://colab.research.google.com/notebooks/data_table.ipynb>data table notebook</a>'\n",
              "            + ' to learn more about interactive tables.';\n",
              "          element.innerHTML = '';\n",
              "          dataTable['output_type'] = 'display_data';\n",
              "          await google.colab.output.renderOutput(dataTable, element);\n",
              "          const docLink = document.createElement('div');\n",
              "          docLink.innerHTML = docLinkHtml;\n",
              "          element.appendChild(docLink);\n",
              "        }\n",
              "      </script>\n",
              "    </div>\n",
              "  </div>\n",
              "  "
            ]
          },
          "metadata": {},
          "execution_count": 41
        }
      ]
    },
    {
      "cell_type": "markdown",
      "metadata": {
        "id": "RZiSzhEs8bFN"
      },
      "source": [
        "Document is a text string"
      ]
    },
    {
      "cell_type": "code",
      "source": [
        "# corpus (group of documents)\n",
        "df['reviews.text']"
      ],
      "metadata": {
        "colab": {
          "base_uri": "https://localhost:8080/"
        },
        "id": "dPAzj6NUotL7",
        "outputId": "e443272d-4f39-46c9-b7fd-852283c51db7"
      },
      "execution_count": null,
      "outputs": [
        {
          "output_type": "execute_result",
          "data": {
            "text/plain": [
              "0        I order 3 of them and one of the item is bad q...\n",
              "1        Bulk is always the less expensive way to go fo...\n",
              "2        Well they are not Duracell but for the price i...\n",
              "3        Seem to work as well as name brand batteries a...\n",
              "4        These batteries are very long lasting the pric...\n",
              "                               ...                        \n",
              "28327    I got 2 of these for my 8 yr old twins. My 11 ...\n",
              "28328    I bought this for my niece for a Christmas gif...\n",
              "28329    Very nice for light internet browsing, keeping...\n",
              "28330    This Tablet does absolutely everything I want!...\n",
              "28331    At ninety dollars, the expectionations are low...\n",
              "Name: reviews.text, Length: 28332, dtype: object"
            ]
          },
          "metadata": {},
          "execution_count": 42
        }
      ]
    },
    {
      "cell_type": "code",
      "metadata": {
        "colab": {
          "base_uri": "https://localhost:8080/",
          "height": 35
        },
        "id": "3McQiFmk8LfQ",
        "outputId": "50582fed-3906-4e03-bd84-442debd4e455"
      },
      "source": [
        "# \"document\"\n",
        "df['reviews.text'][0]"
      ],
      "execution_count": null,
      "outputs": [
        {
          "output_type": "execute_result",
          "data": {
            "text/plain": [
              "'I order 3 of them and one of the item is bad quality. Is missing backup spring so I have to put a pcs of aluminum to make the battery work.'"
            ],
            "application/vnd.google.colaboratory.intrinsic+json": {
              "type": "string"
            }
          },
          "metadata": {},
          "execution_count": 43
        }
      ]
    },
    {
      "cell_type": "markdown",
      "metadata": {
        "id": "dCsLbZfJ8ikF"
      },
      "source": [
        "Tokenized document is a list of tokens"
      ]
    },
    {
      "cell_type": "code",
      "metadata": {
        "colab": {
          "base_uri": "https://localhost:8080/"
        },
        "id": "XoSpJbrHVYXO",
        "outputId": "efddf654-c039-4ea7-e303-0e6860c59ee9"
      },
      "source": [
        "# \"tokenized document\"\n",
        "tokenize(df['reviews.text'][0])"
      ],
      "execution_count": null,
      "outputs": [
        {
          "output_type": "execute_result",
          "data": {
            "text/plain": [
              "array(['i', 'order', '3', 'of', 'them', 'and', 'one', 'of', 'the', 'item',\n",
              "       'is', 'bad', 'quality', 'is', 'missing', 'backup', 'spring', 'so',\n",
              "       'i', 'have', 'to', 'put', 'a', 'pcs', 'of', 'aluminum', 'to',\n",
              "       'make', 'the', 'battery', 'work'], dtype='<U8')"
            ]
          },
          "metadata": {},
          "execution_count": 44
        }
      ]
    },
    {
      "cell_type": "markdown",
      "metadata": {
        "id": "y-ti1ovWb7PF"
      },
      "source": [
        "Let's take a smaller subset of the data so that our demonstration codes will run faster."
      ]
    },
    {
      "cell_type": "code",
      "metadata": {
        "colab": {
          "base_uri": "https://localhost:8080/"
        },
        "id": "KWfRWgx_hDIW",
        "outputId": "5d796fe7-bc0f-447e-af13-f75f3412b844"
      },
      "source": [
        "# view count of primaryCategories\n",
        "df['primaryCategories'].value_counts()"
      ],
      "execution_count": null,
      "outputs": [
        {
          "output_type": "execute_result",
          "data": {
            "text/plain": [
              "Electronics                    13995\n",
              "Health & Beauty                12071\n",
              "Toys & Games,Electronics        1676\n",
              "Office Supplies,Electronics      386\n",
              "Electronics,Media                185\n",
              "Office Supplies                    9\n",
              "Animals & Pet Supplies             6\n",
              "Home & Garden                      2\n",
              "Electronics,Furniture              2\n",
              "Name: primaryCategories, dtype: int64"
            ]
          },
          "metadata": {},
          "execution_count": 45
        }
      ]
    },
    {
      "cell_type": "code",
      "metadata": {
        "id": "b9XyEJ-CPVpY"
      },
      "source": [
        "# Take a subset of the df where the only primaryCategories is Electronics\n",
        "df = df[df['primaryCategories'] == 'Electronics'].copy()"
      ],
      "execution_count": null,
      "outputs": []
    },
    {
      "cell_type": "code",
      "source": [
        "df.shape"
      ],
      "metadata": {
        "colab": {
          "base_uri": "https://localhost:8080/"
        },
        "id": "dNjj0V-TpBRD",
        "outputId": "2e0457b9-65a0-4dd3-de64-6e795ff2f499"
      },
      "execution_count": null,
      "outputs": [
        {
          "output_type": "execute_result",
          "data": {
            "text/plain": [
              "(13995, 26)"
            ]
          },
          "metadata": {},
          "execution_count": 47
        }
      ]
    },
    {
      "cell_type": "code",
      "metadata": {
        "id": "64GctLMxEGF4",
        "colab": {
          "base_uri": "https://localhost:8080/",
          "height": 362
        },
        "outputId": "5efab90c-bd29-4113-f537-076b96202b7e"
      },
      "source": [
        "df.head(2)"
      ],
      "execution_count": null,
      "outputs": [
        {
          "output_type": "execute_result",
          "data": {
            "text/plain": [
              "                        id             dateAdded           dateUpdated  \\\n",
              "8343  AVpe7nGV1cnluZ0-aG2o  2014-10-28T11:14:38Z  2019-04-25T09:05:28Z   \n",
              "8344  AVpe7nGV1cnluZ0-aG2o  2014-10-28T11:14:38Z  2019-04-25T09:05:28Z   \n",
              "\n",
              "                                                 name                  asins  \\\n",
              "8343  AmazonBasics Nylon CD/DVD Binder (400 Capacity)  B00DIHVMEA,B00EZ1ZTV0   \n",
              "8344  AmazonBasics Nylon CD/DVD Binder (400 Capacity)  B00DIHVMEA,B00EZ1ZTV0   \n",
              "\n",
              "             brand                                         categories  \\\n",
              "8343  Amazonbasics  Audio & Video Accessories,TV, Video & Home Aud...   \n",
              "8344  Amazonbasics  Audio & Video Accessories,TV, Video & Home Aud...   \n",
              "\n",
              "     primaryCategories                                          imageURLs  \\\n",
              "8343       Electronics  http://ecx.images-amazon.com/images/I/41jQha7Z...   \n",
              "8344       Electronics  http://ecx.images-amazon.com/images/I/41jQha7Z...   \n",
              "\n",
              "                                                   keys  ... reviews.id  \\\n",
              "8343  amazonbasicsnyloncddvdbinder400capacity/b00ez1...  ...        NaN   \n",
              "8344  amazonbasicsnyloncddvdbinder400capacity/b00ez1...  ...        NaN   \n",
              "\n",
              "     reviews.numHelpful reviews.rating  \\\n",
              "8343                NaN              5   \n",
              "8344                NaN              5   \n",
              "\n",
              "                                     reviews.sourceURLs  \\\n",
              "8343  https://www.ebay.com/itm/Amazonbasics-Nylon-Cd...   \n",
              "8344  http://www.amazon.co.uk/gp/product-reviews/B00...   \n",
              "\n",
              "                                           reviews.text  \\\n",
              "8343  Great case to keep everything in its place! My...   \n",
              "8344  After discarding and getting rid of broken cd ...   \n",
              "\n",
              "                     reviews.title  reviews.username  \\\n",
              "8343             Excellent product           qs341_5   \n",
              "8344  It was a much needed storage          Diablita   \n",
              "\n",
              "                                             sourceURLs        brand1  \\\n",
              "8343  https://www.ebay.com/itm/AmazonBasics-Nylon-CD...  amazonbasics   \n",
              "8344  https://www.ebay.com/itm/AmazonBasics-Nylon-CD...  amazonbasics   \n",
              "\n",
              "                                                 tokens  \n",
              "8343  [great, case, to, keep, everything, in, its, p...  \n",
              "8344  [after, discarding, and, getting, rid, of, bro...  \n",
              "\n",
              "[2 rows x 26 columns]"
            ],
            "text/html": [
              "\n",
              "  <div id=\"df-c8b5790c-17fa-4701-bae2-dad5b15891fe\">\n",
              "    <div class=\"colab-df-container\">\n",
              "      <div>\n",
              "<style scoped>\n",
              "    .dataframe tbody tr th:only-of-type {\n",
              "        vertical-align: middle;\n",
              "    }\n",
              "\n",
              "    .dataframe tbody tr th {\n",
              "        vertical-align: top;\n",
              "    }\n",
              "\n",
              "    .dataframe thead th {\n",
              "        text-align: right;\n",
              "    }\n",
              "</style>\n",
              "<table border=\"1\" class=\"dataframe\">\n",
              "  <thead>\n",
              "    <tr style=\"text-align: right;\">\n",
              "      <th></th>\n",
              "      <th>id</th>\n",
              "      <th>dateAdded</th>\n",
              "      <th>dateUpdated</th>\n",
              "      <th>name</th>\n",
              "      <th>asins</th>\n",
              "      <th>brand</th>\n",
              "      <th>categories</th>\n",
              "      <th>primaryCategories</th>\n",
              "      <th>imageURLs</th>\n",
              "      <th>keys</th>\n",
              "      <th>...</th>\n",
              "      <th>reviews.id</th>\n",
              "      <th>reviews.numHelpful</th>\n",
              "      <th>reviews.rating</th>\n",
              "      <th>reviews.sourceURLs</th>\n",
              "      <th>reviews.text</th>\n",
              "      <th>reviews.title</th>\n",
              "      <th>reviews.username</th>\n",
              "      <th>sourceURLs</th>\n",
              "      <th>brand1</th>\n",
              "      <th>tokens</th>\n",
              "    </tr>\n",
              "  </thead>\n",
              "  <tbody>\n",
              "    <tr>\n",
              "      <th>8343</th>\n",
              "      <td>AVpe7nGV1cnluZ0-aG2o</td>\n",
              "      <td>2014-10-28T11:14:38Z</td>\n",
              "      <td>2019-04-25T09:05:28Z</td>\n",
              "      <td>AmazonBasics Nylon CD/DVD Binder (400 Capacity)</td>\n",
              "      <td>B00DIHVMEA,B00EZ1ZTV0</td>\n",
              "      <td>Amazonbasics</td>\n",
              "      <td>Audio &amp; Video Accessories,TV, Video &amp; Home Aud...</td>\n",
              "      <td>Electronics</td>\n",
              "      <td>http://ecx.images-amazon.com/images/I/41jQha7Z...</td>\n",
              "      <td>amazonbasicsnyloncddvdbinder400capacity/b00ez1...</td>\n",
              "      <td>...</td>\n",
              "      <td>NaN</td>\n",
              "      <td>NaN</td>\n",
              "      <td>5</td>\n",
              "      <td>https://www.ebay.com/itm/Amazonbasics-Nylon-Cd...</td>\n",
              "      <td>Great case to keep everything in its place! My...</td>\n",
              "      <td>Excellent product</td>\n",
              "      <td>qs341_5</td>\n",
              "      <td>https://www.ebay.com/itm/AmazonBasics-Nylon-CD...</td>\n",
              "      <td>amazonbasics</td>\n",
              "      <td>[great, case, to, keep, everything, in, its, p...</td>\n",
              "    </tr>\n",
              "    <tr>\n",
              "      <th>8344</th>\n",
              "      <td>AVpe7nGV1cnluZ0-aG2o</td>\n",
              "      <td>2014-10-28T11:14:38Z</td>\n",
              "      <td>2019-04-25T09:05:28Z</td>\n",
              "      <td>AmazonBasics Nylon CD/DVD Binder (400 Capacity)</td>\n",
              "      <td>B00DIHVMEA,B00EZ1ZTV0</td>\n",
              "      <td>Amazonbasics</td>\n",
              "      <td>Audio &amp; Video Accessories,TV, Video &amp; Home Aud...</td>\n",
              "      <td>Electronics</td>\n",
              "      <td>http://ecx.images-amazon.com/images/I/41jQha7Z...</td>\n",
              "      <td>amazonbasicsnyloncddvdbinder400capacity/b00ez1...</td>\n",
              "      <td>...</td>\n",
              "      <td>NaN</td>\n",
              "      <td>NaN</td>\n",
              "      <td>5</td>\n",
              "      <td>http://www.amazon.co.uk/gp/product-reviews/B00...</td>\n",
              "      <td>After discarding and getting rid of broken cd ...</td>\n",
              "      <td>It was a much needed storage</td>\n",
              "      <td>Diablita</td>\n",
              "      <td>https://www.ebay.com/itm/AmazonBasics-Nylon-CD...</td>\n",
              "      <td>amazonbasics</td>\n",
              "      <td>[after, discarding, and, getting, rid, of, bro...</td>\n",
              "    </tr>\n",
              "  </tbody>\n",
              "</table>\n",
              "<p>2 rows × 26 columns</p>\n",
              "</div>\n",
              "      <button class=\"colab-df-convert\" onclick=\"convertToInteractive('df-c8b5790c-17fa-4701-bae2-dad5b15891fe')\"\n",
              "              title=\"Convert this dataframe to an interactive table.\"\n",
              "              style=\"display:none;\">\n",
              "        \n",
              "  <svg xmlns=\"http://www.w3.org/2000/svg\" height=\"24px\"viewBox=\"0 0 24 24\"\n",
              "       width=\"24px\">\n",
              "    <path d=\"M0 0h24v24H0V0z\" fill=\"none\"/>\n",
              "    <path d=\"M18.56 5.44l.94 2.06.94-2.06 2.06-.94-2.06-.94-.94-2.06-.94 2.06-2.06.94zm-11 1L8.5 8.5l.94-2.06 2.06-.94-2.06-.94L8.5 2.5l-.94 2.06-2.06.94zm10 10l.94 2.06.94-2.06 2.06-.94-2.06-.94-.94-2.06-.94 2.06-2.06.94z\"/><path d=\"M17.41 7.96l-1.37-1.37c-.4-.4-.92-.59-1.43-.59-.52 0-1.04.2-1.43.59L10.3 9.45l-7.72 7.72c-.78.78-.78 2.05 0 2.83L4 21.41c.39.39.9.59 1.41.59.51 0 1.02-.2 1.41-.59l7.78-7.78 2.81-2.81c.8-.78.8-2.07 0-2.86zM5.41 20L4 18.59l7.72-7.72 1.47 1.35L5.41 20z\"/>\n",
              "  </svg>\n",
              "      </button>\n",
              "      \n",
              "  <style>\n",
              "    .colab-df-container {\n",
              "      display:flex;\n",
              "      flex-wrap:wrap;\n",
              "      gap: 12px;\n",
              "    }\n",
              "\n",
              "    .colab-df-convert {\n",
              "      background-color: #E8F0FE;\n",
              "      border: none;\n",
              "      border-radius: 50%;\n",
              "      cursor: pointer;\n",
              "      display: none;\n",
              "      fill: #1967D2;\n",
              "      height: 32px;\n",
              "      padding: 0 0 0 0;\n",
              "      width: 32px;\n",
              "    }\n",
              "\n",
              "    .colab-df-convert:hover {\n",
              "      background-color: #E2EBFA;\n",
              "      box-shadow: 0px 1px 2px rgba(60, 64, 67, 0.3), 0px 1px 3px 1px rgba(60, 64, 67, 0.15);\n",
              "      fill: #174EA6;\n",
              "    }\n",
              "\n",
              "    [theme=dark] .colab-df-convert {\n",
              "      background-color: #3B4455;\n",
              "      fill: #D2E3FC;\n",
              "    }\n",
              "\n",
              "    [theme=dark] .colab-df-convert:hover {\n",
              "      background-color: #434B5C;\n",
              "      box-shadow: 0px 1px 3px 1px rgba(0, 0, 0, 0.15);\n",
              "      filter: drop-shadow(0px 1px 2px rgba(0, 0, 0, 0.3));\n",
              "      fill: #FFFFFF;\n",
              "    }\n",
              "  </style>\n",
              "\n",
              "      <script>\n",
              "        const buttonEl =\n",
              "          document.querySelector('#df-c8b5790c-17fa-4701-bae2-dad5b15891fe button.colab-df-convert');\n",
              "        buttonEl.style.display =\n",
              "          google.colab.kernel.accessAllowed ? 'block' : 'none';\n",
              "\n",
              "        async function convertToInteractive(key) {\n",
              "          const element = document.querySelector('#df-c8b5790c-17fa-4701-bae2-dad5b15891fe');\n",
              "          const dataTable =\n",
              "            await google.colab.kernel.invokeFunction('convertToInteractive',\n",
              "                                                     [key], {});\n",
              "          if (!dataTable) return;\n",
              "\n",
              "          const docLinkHtml = 'Like what you see? Visit the ' +\n",
              "            '<a target=\"_blank\" href=https://colab.research.google.com/notebooks/data_table.ipynb>data table notebook</a>'\n",
              "            + ' to learn more about interactive tables.';\n",
              "          element.innerHTML = '';\n",
              "          dataTable['output_type'] = 'display_data';\n",
              "          await google.colab.output.renderOutput(dataTable, element);\n",
              "          const docLink = document.createElement('div');\n",
              "          docLink.innerHTML = docLinkHtml;\n",
              "          element.appendChild(docLink);\n",
              "        }\n",
              "      </script>\n",
              "    </div>\n",
              "  </div>\n",
              "  "
            ]
          },
          "metadata": {},
          "execution_count": 48
        }
      ]
    },
    {
      "cell_type": "code",
      "metadata": {
        "colab": {
          "base_uri": "https://localhost:8080/"
        },
        "id": "YHwIEoMDc6-3",
        "outputId": "1db71411-cacc-4ca7-f648-497caa998453"
      },
      "source": [
        "type(df['tokens'].values)"
      ],
      "execution_count": null,
      "outputs": [
        {
          "output_type": "execute_result",
          "data": {
            "text/plain": [
              "numpy.ndarray"
            ]
          },
          "metadata": {},
          "execution_count": 49
        }
      ]
    },
    {
      "cell_type": "code",
      "metadata": {
        "id": "w6g45K_tEO-i",
        "colab": {
          "base_uri": "https://localhost:8080/"
        },
        "outputId": "4493ffe7-1fd1-4ad4-92dd-fbb43dbaabec"
      },
      "source": [
        "type(df['tokens'].values[0])"
      ],
      "execution_count": null,
      "outputs": [
        {
          "output_type": "execute_result",
          "data": {
            "text/plain": [
              "numpy.ndarray"
            ]
          },
          "metadata": {},
          "execution_count": 50
        }
      ]
    },
    {
      "cell_type": "code",
      "source": [
        "a = [1,2,3,4,5]\n",
        "\n",
        "a + 5"
      ],
      "metadata": {
        "colab": {
          "base_uri": "https://localhost:8080/",
          "height": 208
        },
        "id": "gIZIWJ5EqFKs",
        "outputId": "6d1a4b39-ba30-4003-e676-8ac3592a8d56"
      },
      "execution_count": null,
      "outputs": [
        {
          "output_type": "error",
          "ename": "TypeError",
          "evalue": "ignored",
          "traceback": [
            "\u001b[0;31m---------------------------------------------------------------------------\u001b[0m",
            "\u001b[0;31mTypeError\u001b[0m                                 Traceback (most recent call last)",
            "\u001b[0;32m<ipython-input-52-dbe38c5cb3b9>\u001b[0m in \u001b[0;36m<module>\u001b[0;34m()\u001b[0m\n\u001b[1;32m      1\u001b[0m \u001b[0ma\u001b[0m \u001b[0;34m=\u001b[0m \u001b[0;34m[\u001b[0m\u001b[0;36m1\u001b[0m\u001b[0;34m,\u001b[0m\u001b[0;36m2\u001b[0m\u001b[0;34m,\u001b[0m\u001b[0;36m3\u001b[0m\u001b[0;34m,\u001b[0m\u001b[0;36m4\u001b[0m\u001b[0;34m,\u001b[0m\u001b[0;36m5\u001b[0m\u001b[0;34m]\u001b[0m\u001b[0;34m\u001b[0m\u001b[0;34m\u001b[0m\u001b[0m\n\u001b[1;32m      2\u001b[0m \u001b[0;34m\u001b[0m\u001b[0m\n\u001b[0;32m----> 3\u001b[0;31m \u001b[0ma\u001b[0m \u001b[0;34m+\u001b[0m \u001b[0;36m5\u001b[0m\u001b[0;34m\u001b[0m\u001b[0;34m\u001b[0m\u001b[0m\n\u001b[0m",
            "\u001b[0;31mTypeError\u001b[0m: can only concatenate list (not \"int\") to list"
          ]
        }
      ]
    },
    {
      "cell_type": "code",
      "source": [
        "# vectorized operation\n",
        "b = np.array([1,2,3,4,5])\n",
        "\n",
        "b + 5"
      ],
      "metadata": {
        "colab": {
          "base_uri": "https://localhost:8080/"
        },
        "id": "WGHffUaZqJZD",
        "outputId": "96a390ad-3865-4054-9bf4-231820a81045"
      },
      "execution_count": null,
      "outputs": [
        {
          "output_type": "execute_result",
          "data": {
            "text/plain": [
              "array([ 6,  7,  8,  9, 10])"
            ]
          },
          "metadata": {},
          "execution_count": 67
        }
      ]
    },
    {
      "cell_type": "markdown",
      "metadata": {
        "id": "8hOBAw2yGErU"
      },
      "source": [
        "###2.3 Analyzing Tokens"
      ]
    },
    {
      "cell_type": "code",
      "metadata": {
        "colab": {
          "base_uri": "https://localhost:8080/"
        },
        "id": "6jVvZAvJGErU",
        "nbgrader": {
          "grade": false,
          "grade_id": "cell-1df54ac52c426166",
          "locked": false,
          "schema_version": 3,
          "solution": true,
          "task": false
        },
        "outputId": "152f3394-f847-4f35-c586-ca843db113b9"
      },
      "source": [
        "# Object from Base Python\n",
        "from collections import Counter\n",
        "\n",
        "### BEGIN SOLUTION\n",
        "# The object `Counter` takes an iterable, but you can instantiate an empty one and update it. \n",
        "word_counts = Counter()\n",
        "\n",
        "# Update it based on a split of each of our documents\n",
        "word_counts.update(np.array(['the', 'sky', 'is', 'blue']))\n",
        "word_counts.update(np.array(['blue', 'sky', 'today']))\n",
        "\n",
        "# Print out the 10 most common words\n",
        "\n",
        "word_counts.most_common()\n",
        "\n",
        "### END SOLUTION"
      ],
      "execution_count": null,
      "outputs": [
        {
          "output_type": "execute_result",
          "data": {
            "text/plain": [
              "[('sky', 2), ('blue', 2), ('the', 1), ('is', 1), ('today', 1)]"
            ]
          },
          "metadata": {},
          "execution_count": 68
        }
      ]
    },
    {
      "cell_type": "code",
      "source": [
        "word_counts = Counter()\n",
        "\n",
        "df['tokens'].apply(lambda x: word_counts.update(x))\n",
        "\n",
        "word_counts.most_common(10)"
      ],
      "metadata": {
        "colab": {
          "base_uri": "https://localhost:8080/"
        },
        "id": "VidufJWOraRh",
        "outputId": "fc6d2944-aca5-446f-c3d3-cfe664f47590"
      },
      "execution_count": null,
      "outputs": [
        {
          "output_type": "execute_result",
          "data": {
            "text/plain": [
              "[('the', 17723),\n",
              " ('and', 14005),\n",
              " ('it', 13113),\n",
              " ('to', 12750),\n",
              " ('for', 12224),\n",
              " ('i', 12037),\n",
              " ('a', 10494),\n",
              " ('is', 8508),\n",
              " ('this', 8109),\n",
              " ('my', 7914)]"
            ]
          },
          "metadata": {},
          "execution_count": 69
        }
      ]
    },
    {
      "cell_type": "markdown",
      "metadata": {
        "id": "mTb7l_UAQawq"
      },
      "source": [
        "Each entry in the `df['tokens']` column represents a document (in this case a review) as a list of tokens.<br><br>"
      ]
    },
    {
      "cell_type": "code",
      "metadata": {
        "id": "rSXnM1ARTZVn",
        "colab": {
          "base_uri": "https://localhost:8080/"
        },
        "outputId": "fe3c04db-6047-49ed-9643-c26b45395608"
      },
      "source": [
        "df['tokens'][8343]"
      ],
      "execution_count": null,
      "outputs": [
        {
          "output_type": "execute_result",
          "data": {
            "text/plain": [
              "array(['great', 'case', 'to', 'keep', 'everything', 'in', 'its', 'place',\n",
              "       'my', 'husband', 'love', 'it', 'holds', 'a', 'lot', 'of', 'cds'],\n",
              "      dtype='<U10')"
            ]
          },
          "metadata": {},
          "execution_count": 70
        }
      ]
    },
    {
      "cell_type": "markdown",
      "metadata": {
        "id": "TiVHbw6xGErW"
      },
      "source": [
        "\n",
        "\n",
        "Below we have create a function `count()` which takes a corpus of tokenized documents <br>`df['tokens']` as its input and returns a dataframe of word counts and associated descriptive statistics.<br><br>\n",
        "\n",
        "To understand this `count()` function, let's use a \"top-down\" approach: <br>\n",
        "so first, we'll scroll down to and read \"Summary of the descriptive token statistics\",<br> then read the code cell below \"Make our count object\" and have a look at the dataframe that is produced.<br><br>\n",
        "Keeping the structure of that dataframe in mind will make it easier to see what the `count()` function is doing.<br>\n",
        "Let's go through the code below and understand it line by line:"
      ]
    },
    {
      "cell_type": "code",
      "metadata": {
        "id": "ypyH-_x1GErX"
      },
      "source": [
        "def count(token_lists):\n",
        "    \"\"\"\n",
        "    Calculates some basic statistics about tokens in our corpus (i.e. corpus means collections text data)\n",
        "    \"\"\"\n",
        "    # stores the count of each token\n",
        "    word_counts = Counter()\n",
        "    \n",
        "    # stores the number of docs that each token appears in \n",
        "    appears_in_docs = Counter()\n",
        "\n",
        "    total_docs = len(token_lists)\n",
        "\n",
        "    for token_list in token_lists:\n",
        "        # stores count of every appearance of a token \n",
        "        word_counts.update(token_list)\n",
        "        \n",
        "        # use set() in order to not count duplicates, thereby count the num of docs that each token appears in\n",
        "        appears_in_docs.update(set(token_list))\n",
        "\n",
        "    # build word count dataframe\n",
        "    word_count_dict = zip(word_counts.keys(), word_counts.values())\n",
        "    wc = pd.DataFrame(word_count_dict, columns = ['word', 'count'])\n",
        "\n",
        "    # rank the the word counts\n",
        "    wc['rank'] = wc['count'].rank(method='first', ascending=False)\n",
        "    total = wc['count'].sum()\n",
        "\n",
        "    # calculate the percent total of each token\n",
        "    wc['fraction_of_total'] = wc['count'].apply(lambda token_count: token_count / total)\n",
        "\n",
        "    # calculate the cumulative percent total of word counts \n",
        "    wc = wc.sort_values(by='rank')\n",
        "    wc['cumulative_fraction_of_total'] = wc['fraction_of_total'].cumsum()\n",
        "\n",
        "    # create dataframe for document stats\n",
        "    t2 = zip(appears_in_docs.keys(), appears_in_docs.values())\n",
        "    ac = pd.DataFrame(t2, columns=['word', 'appears_in_docs'])\n",
        "    \n",
        "    # merge word count stats with doc stats\n",
        "    wc = ac.merge(wc, on='word')\n",
        "\n",
        "    wc['appears_in_fraction_of_docs'] = wc['appears_in_docs'].apply(lambda x: x / total_docs)\n",
        "\n",
        "    return wc.sort_values(by='rank')"
      ],
      "execution_count": null,
      "outputs": []
    },
    {
      "cell_type": "markdown",
      "metadata": {
        "id": "bb9_MW_T__OJ"
      },
      "source": [
        "Note that we use `set(token_list)` to update the count in `appears_in_docs` <br>\n",
        "In `python`, `{}` denotes a `set`, which is a list of **unique** values.<br>\n",
        "Thus the Counter for a given word in `appears_in_docs` gets updated once each time that word is used in a document.<br>\n",
        "So the `appears_in_docs` Counter registers the total number of documents each word appears in."
      ]
    },
    {
      "cell_type": "code",
      "metadata": {
        "id": "OADxxZUlZyRk"
      },
      "source": [],
      "execution_count": null,
      "outputs": []
    },
    {
      "cell_type": "markdown",
      "metadata": {
        "id": "6HzFcfdkNZv3"
      },
      "source": [
        "#### Summary of the descriptive token statistics \n",
        "\n",
        "`word` The specific token that is being analyzed\n",
        "\n",
        "`appears_in_docs` Number of documents that the word/token appears in\n",
        "\n",
        "`count` The total number of appearances of that token within the corpus \n",
        "\n",
        "`rank` Ranking of tokens by count \n",
        "\n",
        "`fraction_of_total` Fraction of the total tokens that this token makes up\n",
        "\n",
        "`cumulative_fraction_of_total` Sum of fractional total of ranked tokens, down to and including this token. \n",
        "\n",
        "`appears_in_fraction_of_docs` Fraction of documents that token appears in "
      ]
    },
    {
      "cell_type": "markdown",
      "metadata": {
        "id": "8QkyHlPUB88I"
      },
      "source": [
        "Make our `count` object"
      ]
    },
    {
      "cell_type": "code",
      "metadata": {
        "id": "GqqwygrUGErZ",
        "colab": {
          "base_uri": "https://localhost:8080/",
          "height": 363
        },
        "outputId": "384f129f-faa0-4b2b-df58-4176b948bfe3"
      },
      "source": [
        "# Use the count function\n",
        "wc = count(df['tokens'])\n",
        "\n",
        "wc.head(10)"
      ],
      "execution_count": null,
      "outputs": [
        {
          "output_type": "execute_result",
          "data": {
            "text/plain": [
              "    word  appears_in_docs  count  rank  fraction_of_total  \\\n",
              "49   the             7809  17723   1.0           0.041211   \n",
              "89   and             8543  14005   2.0           0.032565   \n",
              "16    it             7490  13113   3.0           0.030491   \n",
              "14    to             7137  12750   4.0           0.029647   \n",
              "19   for             7990  12224   5.0           0.028424   \n",
              "98     i             6072  12037   6.0           0.027989   \n",
              "8      a             6292  10494   7.0           0.024401   \n",
              "33    is             5538   8508   8.0           0.019783   \n",
              "65  this             6236   8109   9.0           0.018856   \n",
              "7     my             6210   7914  10.0           0.018402   \n",
              "\n",
              "    cumulative_fraction_of_total  appears_in_fraction_of_docs  \n",
              "49                      0.041211                     0.557985  \n",
              "89                      0.073776                     0.610432  \n",
              "16                      0.104267                     0.535191  \n",
              "14                      0.133914                     0.509968  \n",
              "19                      0.162339                     0.570918  \n",
              "98                      0.190328                     0.433869  \n",
              "8                       0.214729                     0.449589  \n",
              "33                      0.234513                     0.395713  \n",
              "65                      0.253368                     0.445588  \n",
              "7                       0.271770                     0.443730  "
            ],
            "text/html": [
              "\n",
              "  <div id=\"df-3bd17d73-c73f-494f-bf8a-fa04f7cb4046\">\n",
              "    <div class=\"colab-df-container\">\n",
              "      <div>\n",
              "<style scoped>\n",
              "    .dataframe tbody tr th:only-of-type {\n",
              "        vertical-align: middle;\n",
              "    }\n",
              "\n",
              "    .dataframe tbody tr th {\n",
              "        vertical-align: top;\n",
              "    }\n",
              "\n",
              "    .dataframe thead th {\n",
              "        text-align: right;\n",
              "    }\n",
              "</style>\n",
              "<table border=\"1\" class=\"dataframe\">\n",
              "  <thead>\n",
              "    <tr style=\"text-align: right;\">\n",
              "      <th></th>\n",
              "      <th>word</th>\n",
              "      <th>appears_in_docs</th>\n",
              "      <th>count</th>\n",
              "      <th>rank</th>\n",
              "      <th>fraction_of_total</th>\n",
              "      <th>cumulative_fraction_of_total</th>\n",
              "      <th>appears_in_fraction_of_docs</th>\n",
              "    </tr>\n",
              "  </thead>\n",
              "  <tbody>\n",
              "    <tr>\n",
              "      <th>49</th>\n",
              "      <td>the</td>\n",
              "      <td>7809</td>\n",
              "      <td>17723</td>\n",
              "      <td>1.0</td>\n",
              "      <td>0.041211</td>\n",
              "      <td>0.041211</td>\n",
              "      <td>0.557985</td>\n",
              "    </tr>\n",
              "    <tr>\n",
              "      <th>89</th>\n",
              "      <td>and</td>\n",
              "      <td>8543</td>\n",
              "      <td>14005</td>\n",
              "      <td>2.0</td>\n",
              "      <td>0.032565</td>\n",
              "      <td>0.073776</td>\n",
              "      <td>0.610432</td>\n",
              "    </tr>\n",
              "    <tr>\n",
              "      <th>16</th>\n",
              "      <td>it</td>\n",
              "      <td>7490</td>\n",
              "      <td>13113</td>\n",
              "      <td>3.0</td>\n",
              "      <td>0.030491</td>\n",
              "      <td>0.104267</td>\n",
              "      <td>0.535191</td>\n",
              "    </tr>\n",
              "    <tr>\n",
              "      <th>14</th>\n",
              "      <td>to</td>\n",
              "      <td>7137</td>\n",
              "      <td>12750</td>\n",
              "      <td>4.0</td>\n",
              "      <td>0.029647</td>\n",
              "      <td>0.133914</td>\n",
              "      <td>0.509968</td>\n",
              "    </tr>\n",
              "    <tr>\n",
              "      <th>19</th>\n",
              "      <td>for</td>\n",
              "      <td>7990</td>\n",
              "      <td>12224</td>\n",
              "      <td>5.0</td>\n",
              "      <td>0.028424</td>\n",
              "      <td>0.162339</td>\n",
              "      <td>0.570918</td>\n",
              "    </tr>\n",
              "    <tr>\n",
              "      <th>98</th>\n",
              "      <td>i</td>\n",
              "      <td>6072</td>\n",
              "      <td>12037</td>\n",
              "      <td>6.0</td>\n",
              "      <td>0.027989</td>\n",
              "      <td>0.190328</td>\n",
              "      <td>0.433869</td>\n",
              "    </tr>\n",
              "    <tr>\n",
              "      <th>8</th>\n",
              "      <td>a</td>\n",
              "      <td>6292</td>\n",
              "      <td>10494</td>\n",
              "      <td>7.0</td>\n",
              "      <td>0.024401</td>\n",
              "      <td>0.214729</td>\n",
              "      <td>0.449589</td>\n",
              "    </tr>\n",
              "    <tr>\n",
              "      <th>33</th>\n",
              "      <td>is</td>\n",
              "      <td>5538</td>\n",
              "      <td>8508</td>\n",
              "      <td>8.0</td>\n",
              "      <td>0.019783</td>\n",
              "      <td>0.234513</td>\n",
              "      <td>0.395713</td>\n",
              "    </tr>\n",
              "    <tr>\n",
              "      <th>65</th>\n",
              "      <td>this</td>\n",
              "      <td>6236</td>\n",
              "      <td>8109</td>\n",
              "      <td>9.0</td>\n",
              "      <td>0.018856</td>\n",
              "      <td>0.253368</td>\n",
              "      <td>0.445588</td>\n",
              "    </tr>\n",
              "    <tr>\n",
              "      <th>7</th>\n",
              "      <td>my</td>\n",
              "      <td>6210</td>\n",
              "      <td>7914</td>\n",
              "      <td>10.0</td>\n",
              "      <td>0.018402</td>\n",
              "      <td>0.271770</td>\n",
              "      <td>0.443730</td>\n",
              "    </tr>\n",
              "  </tbody>\n",
              "</table>\n",
              "</div>\n",
              "      <button class=\"colab-df-convert\" onclick=\"convertToInteractive('df-3bd17d73-c73f-494f-bf8a-fa04f7cb4046')\"\n",
              "              title=\"Convert this dataframe to an interactive table.\"\n",
              "              style=\"display:none;\">\n",
              "        \n",
              "  <svg xmlns=\"http://www.w3.org/2000/svg\" height=\"24px\"viewBox=\"0 0 24 24\"\n",
              "       width=\"24px\">\n",
              "    <path d=\"M0 0h24v24H0V0z\" fill=\"none\"/>\n",
              "    <path d=\"M18.56 5.44l.94 2.06.94-2.06 2.06-.94-2.06-.94-.94-2.06-.94 2.06-2.06.94zm-11 1L8.5 8.5l.94-2.06 2.06-.94-2.06-.94L8.5 2.5l-.94 2.06-2.06.94zm10 10l.94 2.06.94-2.06 2.06-.94-2.06-.94-.94-2.06-.94 2.06-2.06.94z\"/><path d=\"M17.41 7.96l-1.37-1.37c-.4-.4-.92-.59-1.43-.59-.52 0-1.04.2-1.43.59L10.3 9.45l-7.72 7.72c-.78.78-.78 2.05 0 2.83L4 21.41c.39.39.9.59 1.41.59.51 0 1.02-.2 1.41-.59l7.78-7.78 2.81-2.81c.8-.78.8-2.07 0-2.86zM5.41 20L4 18.59l7.72-7.72 1.47 1.35L5.41 20z\"/>\n",
              "  </svg>\n",
              "      </button>\n",
              "      \n",
              "  <style>\n",
              "    .colab-df-container {\n",
              "      display:flex;\n",
              "      flex-wrap:wrap;\n",
              "      gap: 12px;\n",
              "    }\n",
              "\n",
              "    .colab-df-convert {\n",
              "      background-color: #E8F0FE;\n",
              "      border: none;\n",
              "      border-radius: 50%;\n",
              "      cursor: pointer;\n",
              "      display: none;\n",
              "      fill: #1967D2;\n",
              "      height: 32px;\n",
              "      padding: 0 0 0 0;\n",
              "      width: 32px;\n",
              "    }\n",
              "\n",
              "    .colab-df-convert:hover {\n",
              "      background-color: #E2EBFA;\n",
              "      box-shadow: 0px 1px 2px rgba(60, 64, 67, 0.3), 0px 1px 3px 1px rgba(60, 64, 67, 0.15);\n",
              "      fill: #174EA6;\n",
              "    }\n",
              "\n",
              "    [theme=dark] .colab-df-convert {\n",
              "      background-color: #3B4455;\n",
              "      fill: #D2E3FC;\n",
              "    }\n",
              "\n",
              "    [theme=dark] .colab-df-convert:hover {\n",
              "      background-color: #434B5C;\n",
              "      box-shadow: 0px 1px 3px 1px rgba(0, 0, 0, 0.15);\n",
              "      filter: drop-shadow(0px 1px 2px rgba(0, 0, 0, 0.3));\n",
              "      fill: #FFFFFF;\n",
              "    }\n",
              "  </style>\n",
              "\n",
              "      <script>\n",
              "        const buttonEl =\n",
              "          document.querySelector('#df-3bd17d73-c73f-494f-bf8a-fa04f7cb4046 button.colab-df-convert');\n",
              "        buttonEl.style.display =\n",
              "          google.colab.kernel.accessAllowed ? 'block' : 'none';\n",
              "\n",
              "        async function convertToInteractive(key) {\n",
              "          const element = document.querySelector('#df-3bd17d73-c73f-494f-bf8a-fa04f7cb4046');\n",
              "          const dataTable =\n",
              "            await google.colab.kernel.invokeFunction('convertToInteractive',\n",
              "                                                     [key], {});\n",
              "          if (!dataTable) return;\n",
              "\n",
              "          const docLinkHtml = 'Like what you see? Visit the ' +\n",
              "            '<a target=\"_blank\" href=https://colab.research.google.com/notebooks/data_table.ipynb>data table notebook</a>'\n",
              "            + ' to learn more about interactive tables.';\n",
              "          element.innerHTML = '';\n",
              "          dataTable['output_type'] = 'display_data';\n",
              "          await google.colab.output.renderOutput(dataTable, element);\n",
              "          const docLink = document.createElement('div');\n",
              "          docLink.innerHTML = docLinkHtml;\n",
              "          element.appendChild(docLink);\n",
              "        }\n",
              "      </script>\n",
              "    </div>\n",
              "  </div>\n",
              "  "
            ]
          },
          "metadata": {},
          "execution_count": 72
        }
      ]
    },
    {
      "cell_type": "code",
      "metadata": {
        "colab": {
          "base_uri": "https://localhost:8080/"
        },
        "id": "ZpqVYm-YMEEP",
        "outputId": "09b6ebcf-f7c9-48b6-d042-fc0a91b8b265"
      },
      "source": [
        "type(wc)"
      ],
      "execution_count": null,
      "outputs": [
        {
          "output_type": "execute_result",
          "data": {
            "text/plain": [
              "pandas.core.frame.DataFrame"
            ]
          },
          "metadata": {},
          "execution_count": 73
        }
      ]
    },
    {
      "cell_type": "code",
      "metadata": {
        "colab": {
          "base_uri": "https://localhost:8080/"
        },
        "id": "tCImc-KEXrV4",
        "outputId": "46b391f3-08ca-4473-ce0b-71ea96018db4"
      },
      "source": [
        "wc.shape"
      ],
      "execution_count": null,
      "outputs": [
        {
          "output_type": "execute_result",
          "data": {
            "text/plain": [
              "(8986, 7)"
            ]
          },
          "metadata": {},
          "execution_count": 74
        }
      ]
    },
    {
      "cell_type": "code",
      "metadata": {
        "colab": {
          "base_uri": "https://localhost:8080/",
          "height": 295
        },
        "id": "u9kI5BjnGErc",
        "outputId": "96caa8d7-c789-428b-9ab0-f6520a6ac14b"
      },
      "source": [
        "# Cumulative Distribution Plot\n",
        "sns.lineplot(x='rank', y='cumulative_fraction_of_total', data=wc)\n",
        "plt.title('a picture in statistical trimming')\n",
        "plt.grid()\n",
        "plt.show()"
      ],
      "execution_count": null,
      "outputs": [
        {
          "output_type": "display_data",
          "data": {
            "text/plain": [
              "<Figure size 432x288 with 1 Axes>"
            ],
            "image/png": "[encoded data removed]"
          },
          "metadata": {
            "needs_background": "light"
          }
        }
      ]
    },
    {
      "cell_type": "code",
      "metadata": {
        "colab": {
          "base_uri": "https://localhost:8080/"
        },
        "id": "GKpixh5DGEre",
        "outputId": "b3b3632a-23c9-4690-81e6-1825941ecf9b"
      },
      "source": [
        "wc[wc['rank'] <= 250]['cumulative_fraction_of_total']"
      ],
      "execution_count": null,
      "outputs": [
        {
          "output_type": "execute_result",
          "data": {
            "text/plain": [
              "49      0.041211\n",
              "89      0.073776\n",
              "16      0.104267\n",
              "14      0.133914\n",
              "19      0.162339\n",
              "          ...   \n",
              "664     0.747799\n",
              "418     0.748392\n",
              "2661    0.748980\n",
              "171     0.749562\n",
              "942     0.750143\n",
              "Name: cumulative_fraction_of_total, Length: 250, dtype: float64"
            ]
          },
          "metadata": {},
          "execution_count": 76
        }
      ]
    },
    {
      "cell_type": "code",
      "source": [
        "wc[wc['rank'] <= 100]['cumulative_fraction_of_total']"
      ],
      "metadata": {
        "colab": {
          "base_uri": "https://localhost:8080/"
        },
        "id": "HaTDHwx9ul4x",
        "outputId": "4a3378b7-d864-45ef-943c-b8eb9e2e0457"
      },
      "execution_count": null,
      "outputs": [
        {
          "output_type": "execute_result",
          "data": {
            "text/plain": [
              "49      0.041211\n",
              "89      0.073776\n",
              "16      0.104267\n",
              "14      0.133914\n",
              "19      0.162339\n",
              "          ...   \n",
              "207     0.606402\n",
              "353     0.608097\n",
              "1429    0.609774\n",
              "2115    0.611429\n",
              "699     0.613041\n",
              "Name: cumulative_fraction_of_total, Length: 100, dtype: float64"
            ]
          },
          "metadata": {},
          "execution_count": 77
        }
      ]
    },
    {
      "cell_type": "code",
      "source": [
        "wc[wc['rank'] <= 50]['cumulative_fraction_of_total']"
      ],
      "metadata": {
        "colab": {
          "base_uri": "https://localhost:8080/"
        },
        "id": "VNP2RdAeunuw",
        "outputId": "804137b1-ad94-45ce-b6d7-908f050092f8"
      },
      "execution_count": null,
      "outputs": [
        {
          "output_type": "execute_result",
          "data": {
            "text/plain": [
              "49      0.041211\n",
              "89      0.073776\n",
              "16      0.104267\n",
              "14      0.133914\n",
              "19      0.162339\n",
              "98      0.190328\n",
              "8       0.214729\n",
              "33      0.234513\n",
              "65      0.253368\n",
              "7       0.271770\n",
              "985     0.285289\n",
              "11      0.296513\n",
              "12      0.306663\n",
              "198     0.315557\n",
              "111     0.324038\n",
              "23      0.331695\n",
              "401     0.338826\n",
              "246     0.345749\n",
              "50      0.352597\n",
              "99      0.359172\n",
              "229     0.365539\n",
              "58      0.371796\n",
              "303     0.377684\n",
              "6       0.383520\n",
              "241     0.389036\n",
              "152     0.394528\n",
              "1173    0.399997\n",
              "1408    0.405459\n",
              "155     0.410889\n",
              "167     0.416309\n",
              "5       0.421711\n",
              "2       0.426817\n",
              "73      0.431644\n",
              "285     0.436416\n",
              "102     0.441175\n",
              "1420    0.445926\n",
              "1409    0.450602\n",
              "108     0.455108\n",
              "206     0.459554\n",
              "1456    0.463647\n",
              "1925    0.467702\n",
              "112     0.471657\n",
              "1103    0.475354\n",
              "70      0.478947\n",
              "55      0.482461\n",
              "407     0.485944\n",
              "71      0.489250\n",
              "92      0.492543\n",
              "253     0.495768\n",
              "2056    0.498944\n",
              "Name: cumulative_fraction_of_total, dtype: float64"
            ]
          },
          "metadata": {},
          "execution_count": 78
        }
      ]
    },
    {
      "cell_type": "markdown",
      "metadata": {
        "id": "eemk9I8_QWs-"
      },
      "source": [
        "### `squarify` shows the most frequent words"
      ]
    },
    {
      "cell_type": "code",
      "metadata": {
        "colab": {
          "base_uri": "https://localhost:8080/",
          "height": 248
        },
        "id": "-yuCq8nuGErg",
        "outputId": "bdcceb66-981c-4e6b-bd69-abb9393099e6"
      },
      "source": [
        "import squarify\n",
        "import matplotlib.pyplot as plt\n",
        "\n",
        "wc_top20 = wc[wc['rank'] <= 20]\n",
        "\n",
        "squarify.plot(sizes=wc_top20['fraction_of_total'], label=wc_top20['word'], alpha=.8)\n",
        "plt.axis('off')\n",
        "plt.show()"
      ],
      "execution_count": null,
      "outputs": [
        {
          "output_type": "display_data",
          "data": {
            "text/plain": [
              "<Figure size 432x288 with 1 Axes>"
            ],
            "image/png": "[encoded data removed]"
          },
          "metadata": {
            "needs_background": "light"
          }
        }
      ]
    },
    {
      "cell_type": "markdown",
      "metadata": {
        "id": "XIXSsYI_GEri"
      },
      "source": [
        "### 2.4 Processing Raw Text with Spacy\n",
        "\n",
        "Spacy's datamodel for documents is unique among NLP libraries. Instead of storing the documents components in various data structures, Spacy indexes components and simply stores the lookup information. \n",
        "\n",
        "This is often why Spacy is considered to be more production grade than a library like NLTK."
      ]
    },
    {
      "cell_type": "code",
      "metadata": {
        "id": "Y0l_8Q_-GEri"
      },
      "source": [
        "import spacy\n",
        "nlp = spacy.load(\"en_core_web_sm\")"
      ],
      "execution_count": null,
      "outputs": []
    },
    {
      "cell_type": "code",
      "metadata": {
        "id": "4qlRt5SIGErk"
      },
      "source": [
        "sample = \"\"\"\n",
        "Natural Language Processing Summary\n",
        "The field of study that focuses on the interactions between human language and computers is called Natural Language Processing, or NLP for short. It sits at the intersection of computer science, artificial intelligence, and computational linguistics (Wikipedia).\n",
        "\n",
        "“Nat­ur­al Lan­guage Pro­cessing is a field that cov­ers com­puter un­der­stand­ing and ma­nip­u­la­tion of hu­man lan­guage, and it’s ripe with pos­sib­il­it­ies for news­gath­er­ing,” Anthony Pesce said in Natural Language Processing in the kitchen. “You usu­ally hear about it in the con­text of ana­lyz­ing large pools of legis­la­tion or other doc­u­ment sets, at­tempt­ing to dis­cov­er pat­terns or root out cor­rup­tion.”\n",
        "\"\"\""
      ],
      "execution_count": null,
      "outputs": []
    },
    {
      "cell_type": "code",
      "metadata": {
        "colab": {
          "base_uri": "https://localhost:8080/",
          "height": 72
        },
        "id": "rSgncInMcgP2",
        "outputId": "050bc6ea-e61a-4e86-c854-4271eb32cc60"
      },
      "source": [
        "sample"
      ],
      "execution_count": null,
      "outputs": [
        {
          "output_type": "execute_result",
          "data": {
            "text/plain": [
              "'\\nNatural Language Processing Summary\\nThe field of study that focuses on the interactions between human language and computers is called Natural Language Processing, or NLP for short. It sits at the intersection of computer science, artificial intelligence, and computational linguistics (Wikipedia).\\n\\n“Nat\\xadur\\xadal Lan\\xadguage Pro\\xadcessing is a field that cov\\xaders com\\xadputer un\\xadder\\xadstand\\xading and ma\\xadnip\\xadu\\xadla\\xadtion of hu\\xadman lan\\xadguage, and it’s ripe with pos\\xadsib\\xadil\\xadit\\xadies for news\\xadgath\\xader\\xading,” Anthony Pesce said in Natural Language Processing in the kitchen. “You usu\\xadally hear about it in the con\\xadtext of ana\\xadlyz\\xading large pools of legis\\xadla\\xadtion or other doc\\xadu\\xadment sets, at\\xadtempt\\xading to dis\\xadcov\\xader pat\\xadterns or root out cor\\xadrup\\xadtion.”\\n'"
            ],
            "application/vnd.google.colaboratory.intrinsic+json": {
              "type": "string"
            }
          },
          "metadata": {},
          "execution_count": 84
        }
      ]
    },
    {
      "cell_type": "code",
      "metadata": {
        "id": "FjA1TF9vGErl",
        "colab": {
          "base_uri": "https://localhost:8080/"
        },
        "outputId": "6b3d89ef-1a33-4e84-9ee5-354dec1caa9b"
      },
      "source": [
        "# the document object has a whole bunch of cool methods that we can use\n",
        "doc = nlp(sample)\n",
        "\n",
        "doc"
      ],
      "execution_count": null,
      "outputs": [
        {
          "output_type": "execute_result",
          "data": {
            "text/plain": [
              "\n",
              "Natural Language Processing Summary\n",
              "The field of study that focuses on the interactions between human language and computers is called Natural Language Processing, or NLP for short. It sits at the intersection of computer science, artificial intelligence, and computational linguistics (Wikipedia).\n",
              "\n",
              "“Nat­ur­al Lan­guage Pro­cessing is a field that cov­ers com­puter un­der­stand­ing and ma­nip­u­la­tion of hu­man lan­guage, and it’s ripe with pos­sib­il­it­ies for news­gath­er­ing,” Anthony Pesce said in Natural Language Processing in the kitchen. “You usu­ally hear about it in the con­text of ana­lyz­ing large pools of legis­la­tion or other doc­u­ment sets, at­tempt­ing to dis­cov­er pat­terns or root out cor­rup­tion.”"
            ]
          },
          "metadata": {},
          "execution_count": 85
        }
      ]
    },
    {
      "cell_type": "code",
      "metadata": {
        "colab": {
          "base_uri": "https://localhost:8080/"
        },
        "id": "yeG3VSUzcq8H",
        "outputId": "bce71ef0-8299-40cb-cd42-cc82534282ea"
      },
      "source": [
        "type(doc)"
      ],
      "execution_count": null,
      "outputs": [
        {
          "output_type": "execute_result",
          "data": {
            "text/plain": [
              "spacy.tokens.doc.Doc"
            ]
          },
          "metadata": {},
          "execution_count": 86
        }
      ]
    },
    {
      "cell_type": "code",
      "source": [
        "for token in doc:\n",
        "  print(token)"
      ],
      "metadata": {
        "colab": {
          "base_uri": "https://localhost:8080/"
        },
        "id": "7Kv7EVdiwv8V",
        "outputId": "2a9172a0-c52b-4d54-c466-bc8153292398"
      },
      "execution_count": null,
      "outputs": [
        {
          "output_type": "stream",
          "name": "stdout",
          "text": [
            "\n",
            "\n",
            "Natural\n",
            "Language\n",
            "Processing\n",
            "Summary\n",
            "\n",
            "\n",
            "The\n",
            "field\n",
            "of\n",
            "study\n",
            "that\n",
            "focuses\n",
            "on\n",
            "the\n",
            "interactions\n",
            "between\n",
            "human\n",
            "language\n",
            "and\n",
            "computers\n",
            "is\n",
            "called\n",
            "Natural\n",
            "Language\n",
            "Processing\n",
            ",\n",
            "or\n",
            "NLP\n",
            "for\n",
            "short\n",
            ".\n",
            "It\n",
            "sits\n",
            "at\n",
            "the\n",
            "intersection\n",
            "of\n",
            "computer\n",
            "science\n",
            ",\n",
            "artificial\n",
            "intelligence\n",
            ",\n",
            "and\n",
            "computational\n",
            "linguistics\n",
            "(\n",
            "Wikipedia\n",
            ")\n",
            ".\n",
            "\n",
            "\n",
            "\n",
            "“\n",
            "Nat­ur­al\n",
            "Lan­guage\n",
            "Pro­cessing\n",
            "is\n",
            "a\n",
            "field\n",
            "that\n",
            "cov­ers\n",
            "com­puter\n",
            "un­der­stand­ing\n",
            "and\n",
            "ma­nip­u­la­tion\n",
            "of\n",
            "hu­man\n",
            "lan­guage\n",
            ",\n",
            "and\n",
            "it\n",
            "’s\n",
            "ripe\n",
            "with\n",
            "pos­sib­il­it­ies\n",
            "for\n",
            "news­gath­er­ing\n",
            ",\n",
            "”\n",
            "Anthony\n",
            "Pesce\n",
            "said\n",
            "in\n",
            "Natural\n",
            "Language\n",
            "Processing\n",
            "in\n",
            "the\n",
            "kitchen\n",
            ".\n",
            "“\n",
            "You\n",
            "usu­ally\n",
            "hear\n",
            "about\n",
            "it\n",
            "in\n",
            "the\n",
            "con­text\n",
            "of\n",
            "ana­lyz­ing\n",
            "large\n",
            "pools\n",
            "of\n",
            "legis­la­tion\n",
            "or\n",
            "other\n",
            "doc­u­ment\n",
            "sets\n",
            ",\n",
            "at­tempt­ing\n",
            "to\n",
            "dis­cov­er\n",
            "pat­terns\n",
            "or\n",
            "root\n",
            "out\n",
            "cor­rup­tion\n",
            ".\n",
            "”\n",
            "\n",
            "\n"
          ]
        }
      ]
    },
    {
      "cell_type": "markdown",
      "metadata": {
        "id": "UM6Kz0UJdyJQ"
      },
      "source": [
        "Let's create a tokenizer using `spacy`"
      ]
    },
    {
      "cell_type": "code",
      "metadata": {
        "id": "ZBa99HsYGErn",
        "nbgrader": {
          "grade": false,
          "grade_id": "cell-fc63dad59954bbff",
          "locked": false,
          "schema_version": 3,
          "solution": true,
          "task": false
        },
        "colab": {
          "base_uri": "https://localhost:8080/"
        },
        "outputId": "6dd9327b-0845-4e2f-ec02-eea0a9d3fede"
      },
      "source": [
        "%%time\n",
        "# create a tokenizer using spacy\n",
        "\n",
        "### BEGIN SOLUTION\n",
        "tokens = []\n",
        "\n",
        "for doc in nlp.pipe(df['reviews.text']):\n",
        "  doc_tokens = []\n",
        "\n",
        "  for token in doc:\n",
        "    doc_tokens.append(token.text)\n",
        "\n",
        "  tokens.append(doc_tokens)\n",
        "\n",
        "# save tokens to df\n",
        "df['spacy_tokens'] = tokens\n",
        "### END SOLUTION"
      ],
      "execution_count": null,
      "outputs": [
        {
          "output_type": "stream",
          "name": "stdout",
          "text": [
            "CPU times: user 59.3 s, sys: 1.79 s, total: 1min 1s\n",
            "Wall time: 1min 1s\n"
          ]
        }
      ]
    },
    {
      "cell_type": "code",
      "source": [
        "df['spacy_tokens'].head(5)"
      ],
      "metadata": {
        "colab": {
          "base_uri": "https://localhost:8080/"
        },
        "id": "hCAbaQP3xePF",
        "outputId": "2d942479-8bb6-45d6-e994-8378ce1efb61"
      },
      "execution_count": null,
      "outputs": [
        {
          "output_type": "execute_result",
          "data": {
            "text/plain": [
              "8343    [Great, case, to, keep, everything, in, its, p...\n",
              "8344    [After, discarding, and, getting, rid, of, bro...\n",
              "8345    [A, few, dollars, more, ,, but, I, am, boycott...\n",
              "8346    [My, initial, impression, of, this, was, very,...\n",
              "8347    [Pros, :, Standard, Echo, ., Cons, :, Older, g...\n",
              "Name: spacy_tokens, dtype: object"
            ]
          },
          "metadata": {},
          "execution_count": 89
        }
      ]
    },
    {
      "cell_type": "markdown",
      "metadata": {
        "id": "ptLebi17d-N_"
      },
      "source": [
        "Using `squarify` we can graphically display occurrence rates for the most common tokens "
      ]
    },
    {
      "cell_type": "code",
      "metadata": {
        "colab": {
          "base_uri": "https://localhost:8080/",
          "height": 248
        },
        "id": "8kTTxym9duNz",
        "outputId": "19458d38-6a0b-41e2-ac91-67076aa2704c"
      },
      "source": [
        "# pass df through count for stats\n",
        "wc = count(df['spacy_tokens'])\n",
        "\n",
        "# sort and keep top 20 tokens for plotting\n",
        "wc_top20 = wc[wc['rank'] <= 20]\n",
        "#wc_next20 = wc[(wc['rank'] > 20) and (wc['rank'] <= 20)]\n",
        "# plot stats\n",
        "squarify.plot(sizes=wc_top20['fraction_of_total'], label=wc_top20['word'], alpha=.8 )\n",
        "plt.axis('off')\n",
        "plt.show()"
      ],
      "execution_count": null,
      "outputs": [
        {
          "output_type": "display_data",
          "data": {
            "text/plain": [
              "<Figure size 432x288 with 1 Axes>"
            ],
            "image/png": "[encoded data removed]"
          },
          "metadata": {
            "needs_background": "light"
          }
        }
      ]
    },
    {
      "cell_type": "code",
      "metadata": {
        "colab": {
          "base_uri": "https://localhost:8080/",
          "height": 248
        },
        "id": "yYGG_BXwDCUB",
        "outputId": "206ec88d-913c-45e0-c480-584eb99433d6"
      },
      "source": [
        "wc_next20 = wc[ (wc['rank'] > 20) & (wc['rank'] <= 40) ]\n",
        "# plot stats\n",
        "squarify.plot(sizes=wc_next20['fraction_of_total'], label=wc_next20['word'], alpha=.8 )\n",
        "plt.axis('off')\n",
        "plt.show()# plot stats"
      ],
      "execution_count": null,
      "outputs": [
        {
          "output_type": "display_data",
          "data": {
            "text/plain": [
              "<Figure size 432x288 with 1 Axes>"
            ],
            "image/png": "[encoded data removed]"
          },
          "metadata": {
            "needs_background": "light"
          }
        }
      ]
    },
    {
      "cell_type": "code",
      "metadata": {
        "colab": {
          "base_uri": "https://localhost:8080/",
          "height": 248
        },
        "id": "czg5HOjKDYet",
        "outputId": "a8a5b459-4299-4450-d75c-9de53923ff14"
      },
      "source": [
        "wc_next20 = wc[ (wc['rank'] > 40) & (wc['rank'] <= 60) ]\n",
        "# plot stats\n",
        "squarify.plot(sizes=wc_next20['fraction_of_total'], label=wc_next20['word'], alpha=.8 )\n",
        "plt.axis('off')\n",
        "plt.show()"
      ],
      "execution_count": null,
      "outputs": [
        {
          "output_type": "display_data",
          "data": {
            "text/plain": [
              "<Figure size 432x288 with 1 Axes>"
            ],
            "image/png": "[encoded data removed]"
          },
          "metadata": {
            "needs_background": "light"
          }
        }
      ]
    },
    {
      "cell_type": "markdown",
      "metadata": {
        "id": "FS-IuYRdGEr3",
        "toc-hr-collapsed": true
      },
      "source": [
        "## Challenge\n",
        "\n",
        "In the module project, you will apply tokenization to another set of review data and produce visualizations of those tokens!"
      ]
    },
    {
      "cell_type": "markdown",
      "metadata": {
        "id": "qy-JQ3VUGEr6",
        "toc-hr-collapsed": true
      },
      "source": [
        "# 3. Stop Words (Learn)\n",
        "<a id=\"p2\"></a>"
      ]
    },
    {
      "cell_type": "markdown",
      "metadata": {
        "id": "APfLF769GEr6"
      },
      "source": [
        "## Overview\n",
        "Section Agenda\n",
        "- What are they?\n",
        "- How do we get rid of them using Spacy?\n",
        "- Visualization\n",
        "- Libraries of Stop Words\n",
        "- Extending Stop Words\n",
        "- Statistical trimming\n",
        "\n",
        "If the visualizations above, you began to notice a pattern. Most of the words don't really add much to our understanding of product reviews. Words such as \"I\", \"and\", \"of\", etc. have almost no semantic meaning to us. We call these useless words \"stop words,\" because we should 'stop' ourselves from including them in the analysis. \n",
        "\n",
        "Most NLP libraries have built in lists of stop words that common english words: conjunctions, articles, adverbs, pronouns, and common verbs. The best practice, however, is to extend/customize these standard english stopwords for your problem's domain. If I am studying political science, I may want to exclude the word \"politics\" from my analysis; it's so common it does not add to my understanding. "
      ]
    },
    {
      "cell_type": "markdown",
      "metadata": {
        "id": "7b5yWU9hGEr7",
        "toc-hr-collapsed": true
      },
      "source": [
        "## Follow Along \n",
        "\n",
        "### Default Stop Words\n",
        "Let's take a look at the standard stop words that came with our Spacy model:"
      ]
    },
    {
      "cell_type": "code",
      "metadata": {
        "colab": {
          "base_uri": "https://localhost:8080/"
        },
        "collapsed": true,
        "id": "zeOqLNAhGEr7",
        "jupyter": {
          "outputs_hidden": true
        },
        "outputId": "8cf44fdc-84e1-4310-abd7-183735638d56"
      },
      "source": [
        "# Spacy's Default Stop Words\n",
        "print(nlp.Defaults.stop_words)\n",
        "print(len(nlp.Defaults.stop_words))"
      ],
      "execution_count": null,
      "outputs": [
        {
          "output_type": "stream",
          "name": "stdout",
          "text": [
            "{'’d', '‘m', 'often', 'whether', 'fifteen', 'amount', 'them', 'onto', 'ten', 'seeming', 'there', 'made', 'enough', 'nevertheless', \"'re\", 'anywhere', 'such', 'over', 'between', 'cannot', 'always', 'am', 'latter', 'along', 'up', 'hers', 'others', 'out', 'less', 'after', 'the', 'never', 'whereas', 'both', 'toward', 'at', 'all', 'neither', 'thru', 'rather', 'bottom', 'under', 'in', 'my', 'really', 'this', 'mine', 'hereupon', 'throughout', 'me', 'her', 'n’t', 'by', 'front', 'go', 'beforehand', '‘s', 'somewhere', 'its', \"'ll\", 'do', 'get', 'how', 'then', 'two', 'three', 'could', 'four', 'twenty', 'none', '’ve', 'across', 'many', 'afterwards', 'no', 'latterly', 'not', 'became', 'he', 'except', 'your', 'hence', 'behind', 'more', \"'s\", 'whatever', 'besides', 'formerly', 'amongst', 'whence', 'herself', 'below', 'here', 'who', 'on', 'are', 'perhaps', 'us', 'via', 'were', 'now', 'their', 'something', 'without', 'a', 'almost', 'when', 'another', 'whereby', 'next', 'also', 'least', 'sometime', 'hundred', 'among', 'either', 'yourself', 'against', 'down', 'very', 'is', 'used', 'however', 'someone', '’m', 'beside', 'our', 'within', 'thereupon', 'five', 'own', 'although', 'indeed', 'side', 'meanwhile', 'becoming', 'much', 'whereupon', 'until', 'seemed', 'further', 'ours', '’s', 'alone', 'nine', 'will', 'some', \"'d\", \"'m\", 'about', 'ca', 'why', 'every', 'from', 'whenever', 'whither', 'any', 'move', 'one', 'around', 'off', 'put', 'anyhow', 'whose', 'same', 'thereafter', 'anyway', 'nobody', 'while', 'ever', 'anyone', 'wherein', 'back', 'please', 'did', 'various', 'those', 'into', 'for', 'otherwise', 'else', 'make', 'just', 'where', 'hereafter', 'say', 'using', 'name', 'that', 'n‘t', 'former', 'well', 'themselves', 'been', 'him', 'yet', 'regarding', '’ll', 'sometimes', 'already', 'even', 'towards', 'fifty', 'have', 'being', 'which', 'hereby', 'should', 'you', 'eleven', 'again', 'whom', 'see', '‘ll', 'somehow', 'these', 'eight', 'because', 'few', 'everything', '‘d', 'of', 'does', 'seem', 'during', 'first', 'what', 'twelve', 'thereby', 'elsewhere', 'only', 'serious', 'take', 'since', 'yours', 'last', 'be', 'itself', 'whole', 'myself', 'must', 'six', 'whoever', 'wherever', 'ourselves', 'therefore', 'but', 'namely', 'once', 'anything', 'nowhere', 'she', 'other', '’re', 'sixty', 'or', 'top', 'before', 'himself', 'beyond', 'whereafter', 'everyone', 'it', 'call', 'thus', 'nothing', 'we', 'through', 'third', '‘ve', 'his', 'thence', 'had', \"n't\", 'too', 'therein', 'would', 'noone', 'seems', 'several', 'mostly', 'empty', 'might', 'done', \"'ve\", 'everywhere', 'show', 'than', 'quite', 'full', 'upon', 'with', 'if', 'an', 'together', 'has', 'can', 'herein', 'doing', 'keep', '‘re', 'give', 'per', 'may', 'still', 'become', 'to', 'most', 'though', 'becomes', 'as', 'moreover', 'yourselves', 'and', 'due', 'i', 'each', 'part', 'so', 'forty', 'was', 'they', 'unless', 're', 'nor', 'above'}\n",
            "326\n"
          ]
        }
      ]
    },
    {
      "cell_type": "markdown",
      "metadata": {
        "id": "iEKL1ydgonr9"
      },
      "source": [
        "Let's improve our `spacy` tokenizer by removing stop words and punctuation and lower-casing the tokens"
      ]
    },
    {
      "cell_type": "code",
      "metadata": {
        "id": "gYnQfN9TGEr9",
        "nbgrader": {
          "grade": false,
          "grade_id": "cell-6786f165c68a0aa6",
          "locked": false,
          "schema_version": 3,
          "solution": true,
          "task": false
        },
        "colab": {
          "base_uri": "https://localhost:8080/"
        },
        "outputId": "7bb2a416-f726-45d9-e2d7-189d67abfcad"
      },
      "source": [
        "%%time\n",
        "# Use spacy to create a tokenizer that removes stop words\n",
        "\n",
        "### BEGIN SOLUTION\n",
        "tokens = []\n",
        "\n",
        "\"\"\" Update those tokens w/o stopwords\"\"\"\n",
        "for doc in nlp.pipe(df['reviews.text']):\n",
        "    \n",
        "    doc_tokens = []\n",
        "    \n",
        "    for token in doc:\n",
        "        if (not token.is_stop) & (not token.is_punct):\n",
        "            doc_tokens.append(token.text.lower())\n",
        "\n",
        "    tokens.append(doc_tokens)\n",
        "\n",
        "df['tokens'] = tokens"
      ],
      "execution_count": null,
      "outputs": [
        {
          "output_type": "stream",
          "name": "stdout",
          "text": [
            "CPU times: user 56.7 s, sys: 1.33 s, total: 58.1 s\n",
            "Wall time: 59 s\n"
          ]
        }
      ]
    },
    {
      "cell_type": "code",
      "metadata": {
        "colab": {
          "base_uri": "https://localhost:8080/"
        },
        "id": "goa2wUjkqRyO",
        "outputId": "78038e78-6b8f-4747-8dea-449590ec766f"
      },
      "source": [
        "df['tokens']"
      ],
      "execution_count": null,
      "outputs": [
        {
          "output_type": "execute_result",
          "data": {
            "text/plain": [
              "8343     [great, case, place, husband, love, holds, lot...\n",
              "8344     [discarding, getting, rid, broken, cd, cases, ...\n",
              "8345                         [dollars, boycotting, amazon]\n",
              "8346     [initial, impression, good, material, nicer, s...\n",
              "8347     [pros, standard, echo, cons, older, generation...\n",
              "                               ...                        \n",
              "28327    [got, 2, 8, yr, old, twins, 11, yr, old, bette...\n",
              "28328    [bought, niece, christmas, gift.she, 9, years,...\n",
              "28329    [nice, light, internet, browsing, keeping, ema...\n",
              "28330    [tablet, absolutely, want, watch, tv, shows, m...\n",
              "28331    [ninety, dollars, expectionations, low, good, ...\n",
              "Name: tokens, Length: 13995, dtype: object"
            ]
          },
          "metadata": {},
          "execution_count": 95
        }
      ]
    },
    {
      "cell_type": "code",
      "metadata": {
        "colab": {
          "base_uri": "https://localhost:8080/",
          "height": 248
        },
        "id": "1jOR-1J9TG7K",
        "outputId": "7c283fc5-f5e2-4fc2-aeb9-a1b840c9975d"
      },
      "source": [
        "# pass df through count for stats\n",
        "wc = count(df['tokens'])\n",
        "\n",
        "# sort and keep top 20 tokens for plotting\n",
        "wc_top20 = wc[wc['rank'] <= 20]\n",
        "\n",
        "# plot stats\n",
        "squarify.plot(sizes=wc_top20['fraction_of_total'], label=wc_top20['word'], alpha=.8 )\n",
        "plt.axis('off')\n",
        "plt.show()"
      ],
      "execution_count": null,
      "outputs": [
        {
          "output_type": "display_data",
          "data": {
            "text/plain": [
              "<Figure size 432x288 with 1 Axes>"
            ],
            "image/png": "[encoded data removed]"
          },
          "metadata": {
            "needs_background": "light"
          }
        }
      ]
    },
    {
      "cell_type": "markdown",
      "metadata": {
        "id": "wW7qoSu_GEsD"
      },
      "source": [
        "### Extending Stop Words"
      ]
    },
    {
      "cell_type": "code",
      "metadata": {
        "id": "MxLUxpRvGEsD"
      },
      "source": [
        "STOP_WORDS = nlp.Defaults.stop_words.union({'kindle', 'amazon', 'I', 'batteries'})"
      ],
      "execution_count": null,
      "outputs": []
    },
    {
      "cell_type": "code",
      "metadata": {
        "id": "0JOoLRyUGEsJ",
        "nbgrader": {
          "grade": false,
          "grade_id": "cell-37cd0e460b63ff43",
          "locked": false,
          "schema_version": 3,
          "solution": true,
          "task": false
        }
      },
      "source": [
        "# use spacy to create a tokenizer that removes stopwords using STOP_WORDS\n",
        "\n",
        "### BEGIN SOLUTION\n",
        "tokens = []\n",
        "\n",
        "for doc in nlp.pipe(df['reviews.text'], batch_size=500):\n",
        "    \n",
        "    doc_tokens = []\n",
        "    \n",
        "    for token in doc: \n",
        "        if (not token.is_punct) & (token.text.lower() not in STOP_WORDS):\n",
        "            doc_tokens.append(token.text.lower())\n",
        "   \n",
        "    tokens.append(doc_tokens)\n",
        "    \n",
        "df['tokens'] = tokens"
      ],
      "execution_count": null,
      "outputs": []
    },
    {
      "cell_type": "code",
      "source": [
        "wc = count(df['tokens'])\n",
        "\n",
        "wc_top20 = wc[wc['rank'] <= 20]\n",
        "\n",
        "squarify.plot(sizes=wc_top20['fraction_of_total'], label=wc_top20['word'], alpha=.8 )\n",
        "plt.axis('off')\n",
        "plt.show()\n",
        "\n",
        "### END SOLUTION"
      ],
      "metadata": {
        "colab": {
          "base_uri": "https://localhost:8080/",
          "height": 248
        },
        "id": "XgobtU520U3f",
        "outputId": "ba944218-0697-43ce-d6d6-ed975999bd22"
      },
      "execution_count": null,
      "outputs": [
        {
          "output_type": "display_data",
          "data": {
            "text/plain": [
              "<Figure size 432x288 with 1 Axes>"
            ],
            "image/png": "[encoded data removed]"
          },
          "metadata": {
            "needs_background": "light"
          }
        }
      ]
    },
    {
      "cell_type": "markdown",
      "metadata": {
        "id": "55BKEXW6GEsQ"
      },
      "source": [
        "### Statistical Trimming\n",
        "\n",
        "So far, we have talked about stop word in relation to either broad english words or domain specific stop words. Another common approach to stop word removal is via statistical trimming. The basic idea: preserve the words that give the most about of variation in your data. \n",
        "\n",
        "Do you remember this graph?"
      ]
    },
    {
      "cell_type": "code",
      "metadata": {
        "colab": {
          "base_uri": "https://localhost:8080/",
          "height": 295
        },
        "id": "m7M5bXwUGEsQ",
        "outputId": "479ea3ea-142e-44b2-e566-36bffdf471d8"
      },
      "source": [
        "# Cumulative Distribution Plot\n",
        "sns.lineplot(x='rank', y='cumulative_fraction_of_total', data=wc)\n",
        "plt.title('a picture in statistical trimming')\n",
        "plt.grid()\n",
        "plt.show()"
      ],
      "execution_count": null,
      "outputs": [
        {
          "output_type": "display_data",
          "data": {
            "text/plain": [
              "<Figure size 432x288 with 1 Axes>"
            ],
            "image/png": "[encoded data removed]"
          },
          "metadata": {
            "needs_background": "light"
          }
        }
      ]
    },
    {
      "cell_type": "markdown",
      "metadata": {
        "id": "NSY5DHLKGEsS"
      },
      "source": [
        "This graph tells us that only a *handful* of words represented 80% of words in the overall corpus. We can interpret this in two ways: \n",
        "1. The words that appear most frequently may not provide any insight into the mean on the documents since they are so prevalent. \n",
        "2. Words that appear infrequency (at the end of the graph) also probably do not add much value, because the are mentioned so rarely. \n",
        "\n",
        "Let's take a look at the words at the bottom and the top and make a decision for ourselves:"
      ]
    },
    {
      "cell_type": "code",
      "metadata": {
        "id": "fksCTrc_T89-",
        "colab": {
          "base_uri": "https://localhost:8080/",
          "height": 280
        },
        "outputId": "6bac5341-f377-499f-a111-b9a6b781695e"
      },
      "source": [
        "# Frequency of appears in documents\n",
        "sns.distplot(wc['appears_in_fraction_of_docs']);"
      ],
      "execution_count": null,
      "outputs": [
        {
          "output_type": "display_data",
          "data": {
            "text/plain": [
              "<Figure size 432x288 with 1 Axes>"
            ],
            "image/png": "[encoded data removed]"
          },
          "metadata": {
            "needs_background": "light"
          }
        }
      ]
    },
    {
      "cell_type": "code",
      "metadata": {
        "colab": {
          "base_uri": "https://localhost:8080/",
          "height": 280
        },
        "id": "dJkyvXn0GEsX",
        "outputId": "41f43d22-92af-4eb7-c4f6-53c3cc061e79"
      },
      "source": [
        "# Tree-Map w/ Words that appear in at least 2.5% of documents. \n",
        "# Tree-Map w/ Words that appear in at least 2.5% of documents. \n",
        "wc = wc[wc['appears_in_fraction_of_docs'] >= 0.025]\n",
        "sns.distplot(wc['appears_in_fraction_of_docs']);"
      ],
      "execution_count": null,
      "outputs": [
        {
          "output_type": "display_data",
          "data": {
            "text/plain": [
              "<Figure size 432x288 with 1 Axes>"
            ],
            "image/png": "[encoded data removed]"
          },
          "metadata": {
            "needs_background": "light"
          }
        }
      ]
    },
    {
      "cell_type": "markdown",
      "metadata": {
        "id": "riFOSWTuGEsa"
      },
      "source": [
        "## Challenge\n",
        "\n",
        "In the module project, you will apply stop word removal to a new corpus. You will focus on applying dictionary based stop word removal, but as a stretch goal, you should consider applying statistical stopword trimming. "
      ]
    },
    {
      "cell_type": "markdown",
      "metadata": {
        "id": "xh6NpgGhGEsa",
        "toc-hr-collapsed": true
      },
      "source": [
        "# 4. Stemming & Lemmatization (Learn)\n",
        "<a id=\"p3\"></a>"
      ]
    },
    {
      "cell_type": "markdown",
      "metadata": {
        "id": "82BICah4GEsa",
        "toc-hr-collapsed": false
      },
      "source": [
        "## Overview\n",
        "\n",
        "You can see from our example above there is still some normalization to do to get a clean analysis. You notice that there many words (*i.e.* 'batteries', 'battery') which share the same root word. We can use either the process of stemming or lemmatization to trim our words down to the 'root' word. \n",
        "\n",
        "__Section Agenda__:\n",
        "\n",
        "- Which is which\n",
        "- why use one v. other\n",
        "- show side by side visualizations \n",
        "- how to do it in spacy & nltk\n",
        "- introduce PoS in here as well"
      ]
    },
    {
      "cell_type": "markdown",
      "metadata": {
        "id": "Unc5QrF4GEsb",
        "toc-hr-collapsed": true
      },
      "source": [
        "## Follow Along"
      ]
    },
    {
      "cell_type": "markdown",
      "metadata": {
        "id": "-2qObh4HGEsb",
        "toc-hr-collapsed": true
      },
      "source": [
        "### 4.1 Stemming\n",
        "\n",
        "> *a process for removing the commoner morphological and inflexional endings from words in English. Its main use is as part of a term normalisation process that is usually done when setting up Information Retrieval systems.* - [Martin Porter](https://tartarus.org/martin/PorterStemmer/)\n",
        "\n",
        "Some examples include:\n",
        "- 'ing'\n",
        "- 'ed'\n",
        "- 's'\n",
        "\n",
        "These rules are by no means comprehensive, but they are somewhere to start. Most stemming is done by well documented algorithms such as Porter, Snowball, and Dawson. Porter and its newer version Snowball are the most popular stemming algorithms today. For more information on various stemming algorithms check out [*\"A Comparative Study of Stemming Algorithms\"*](https://pdfs.semanticscholar.org/1c0c/0fa35d4ff8a2f925eb955e48d655494bd167.pdf) \n",
        "\n",
        "\n",
        "Spacy does not do stemming out of the box, but instead uses a different technique called *lemmatization* which we will discuss in the next section. Let's turn to an antique python package `nltk` for stemming. "
      ]
    },
    {
      "cell_type": "code",
      "metadata": {
        "colab": {
          "base_uri": "https://localhost:8080/"
        },
        "id": "o7z49DWNGEsb",
        "outputId": "39c2e0b7-3fb7-450a-c709-55c0fd43c2dd"
      },
      "source": [
        "from nltk.stem import PorterStemmer\n",
        "\n",
        "ps = PorterStemmer()\n",
        "\n",
        "words = [\"is\", \"was\", \"be\", \"are\", \"messed\", \"mess\", \"feed\", \"mixed\", \"tied\", \"learned\", \"wanted\", \"tried\", \"finds\", \"learning\", 'go', 'going', 'went']\n",
        "\n",
        "for word in words:\n",
        "    print(ps.stem(word))"
      ],
      "execution_count": null,
      "outputs": [
        {
          "output_type": "stream",
          "name": "stdout",
          "text": [
            "is\n",
            "wa\n",
            "be\n",
            "are\n",
            "mess\n",
            "mess\n",
            "feed\n",
            "mix\n",
            "tie\n",
            "learn\n",
            "want\n",
            "tri\n",
            "find\n",
            "learn\n",
            "go\n",
            "go\n",
            "went\n"
          ]
        }
      ]
    },
    {
      "cell_type": "markdown",
      "metadata": {
        "id": "xkPTDh-dGEsd"
      },
      "source": [
        "### 4.1.1 Five Minute Challenge\n",
        "\n",
        "Apply the Porter stemming algorithm to the tokens in the `df` dataframe. Visualize the results in the tree graph we have been using for this session."
      ]
    },
    {
      "cell_type": "code",
      "metadata": {
        "id": "sCrtEa_uGEsd",
        "nbgrader": {
          "grade": false,
          "grade_id": "cell-5944a38ffd47803f",
          "locked": false,
          "schema_version": 3,
          "solution": true,
          "task": false
        },
        "colab": {
          "base_uri": "https://localhost:8080/",
          "height": 285
        },
        "outputId": "a4435800-b94f-4fa3-d30e-5095d7288f57"
      },
      "source": [
        "%%time\n",
        "### BEGIN SOLUTION\n",
        "\n",
        "# Put in a new column `stems`\n",
        "def get_stems(text):\n",
        "\n",
        "    return [ps.stem(word) for word in text.split() if word not in STOP_WORDS]\n",
        "\n",
        "df['stems'] = df['reviews.text'].apply(get_stems)\n",
        "\n",
        "wc = count(df['stems'])\n",
        "\n",
        "wc_top20 = wc[wc['rank'] <= 20]\n",
        "\n",
        "squarify.plot(sizes=wc_top20['fraction_of_total'], label=wc_top20['word'], alpha=.8 )\n",
        "plt.axis('off')\n",
        "plt.show()\n",
        "\n",
        "### END SOLUTION"
      ],
      "execution_count": null,
      "outputs": [
        {
          "output_type": "display_data",
          "data": {
            "text/plain": [
              "<Figure size 432x288 with 1 Axes>"
            ],
            "image/png": "[encoded data removed]"
          },
          "metadata": {
            "needs_background": "light"
          }
        },
        {
          "output_type": "stream",
          "name": "stdout",
          "text": [
            "CPU times: user 5.6 s, sys: 39.5 ms, total: 5.64 s\n",
            "Wall time: 5.64 s\n"
          ]
        }
      ]
    },
    {
      "cell_type": "markdown",
      "metadata": {
        "id": "HU96W_PnGEsg",
        "toc-hr-collapsed": false
      },
      "source": [
        "### 4.2 Lemmatization\n",
        "\n",
        "You notice immediately that results are kinda funky - words just oddly chopped off. The Porter algorithm did exactly what it knows to do: chop off endings. Stemming works well in applications where humans don't have to worry about reading the results. Search engines and more broadly information retrieval algorithms use stemming. Why? Because it's fast. \n",
        "\n",
        "Lemmatization on the other hand is more methodical. The goal is to transform a word into its base form called a lemma. Plural nouns with funky spellings get transformed to singular tense. Verbs are all transformed to the transitive. Nice tidy data for a visualization. :) However, this tidy data can come at computational cost. Spacy does a pretty freaking good job of it though. Let's take a look:"
      ]
    },
    {
      "cell_type": "code",
      "metadata": {
        "colab": {
          "base_uri": "https://localhost:8080/"
        },
        "id": "c1uvFqG9GEsg",
        "outputId": "c58d0bc2-38df-4fec-c849-50c463a1491c"
      },
      "source": [
        "sent = \"men man women woman wolf wolves run runs running go going went gone\"\n",
        "doc = nlp(sent)\n",
        "\n",
        "#words = str([\"is\", \"was\", \"be\", \"are\", \"messed\", \"mess\", \"feed\", \"mixed\", \"tied\", \"learned\", \"wanted\", \"tried\", \"finds\", \"learning\"])\n",
        "#doc = nlp(words)\n",
        "\n",
        "# Lemma Attributes\n",
        "for token in doc:\n",
        "  print(token.text, ' ', token.lemma_)\n",
        "\n",
        "# {'go': ['went', 'going', 'goes']}"
      ],
      "execution_count": null,
      "outputs": [
        {
          "output_type": "stream",
          "name": "stdout",
          "text": [
            "men   man\n",
            "man   man\n",
            "women   woman\n",
            "woman   woman\n",
            "wolf   wolf\n",
            "wolves   wolve\n",
            "run   run\n",
            "runs   run\n",
            "running   run\n",
            "go   go\n",
            "going   go\n",
            "went   go\n",
            "gone   go\n"
          ]
        }
      ]
    },
    {
      "cell_type": "code",
      "metadata": {
        "id": "HWHbmVl_ZW-F"
      },
      "source": [
        "# spacy document object\n"
      ],
      "execution_count": null,
      "outputs": []
    },
    {
      "cell_type": "code",
      "metadata": {
        "id": "w3-Y4bFRaL-J"
      },
      "source": [
        "# spacy token object\n"
      ],
      "execution_count": null,
      "outputs": []
    },
    {
      "cell_type": "markdown",
      "metadata": {
        "id": "gYBERl3pvt-a"
      },
      "source": [
        "Let's write a function to create tokens using the `spacy` lemmatizer"
      ]
    },
    {
      "cell_type": "code",
      "metadata": {
        "id": "sjt7J4RsGEsh",
        "nbgrader": {
          "grade": false,
          "grade_id": "cell-792ac177c78518bc",
          "locked": false,
          "schema_version": 3,
          "solution": true,
          "task": false
        }
      },
      "source": [
        "# Wrap it all in a function\n",
        "def get_lemmas(text):\n",
        "\n",
        "    lemmas = []\n",
        "    \n",
        "    doc = nlp(text)\n",
        "    \n",
        "    ### BEGIN SOLUTION\n",
        "    for token in doc: \n",
        "        if ((not token.is_stop) and (not token.is_punct) and (token.pos_ != 'PRON')):\n",
        "            lemmas.append(token.lemma_)\n",
        "    ### END SOLUTION\n",
        "    \n",
        "    return lemmas"
      ],
      "execution_count": null,
      "outputs": []
    },
    {
      "cell_type": "code",
      "metadata": {
        "id": "P0RL6T5OGEsi",
        "colab": {
          "base_uri": "https://localhost:8080/"
        },
        "outputId": "4cd1a78b-b4a7-4cdb-b03c-ef3472f1de7d"
      },
      "source": [
        "%%time\n",
        "df['lemmas'] = df['reviews.text'].apply(get_lemmas)  # Might take a few minutes!"
      ],
      "execution_count": null,
      "outputs": [
        {
          "output_type": "stream",
          "name": "stdout",
          "text": [
            "CPU times: user 3min 5s, sys: 844 ms, total: 3min 6s\n",
            "Wall time: 3min 6s\n"
          ]
        }
      ]
    },
    {
      "cell_type": "code",
      "metadata": {
        "colab": {
          "base_uri": "https://localhost:8080/",
          "height": 248
        },
        "id": "V50IDI9_GEsj",
        "outputId": "341def32-dde3-455d-d475-d30939e8d1e4"
      },
      "source": [
        "wc = count(df['lemmas'])\n",
        "wc_top20 = wc[wc['rank'] <= 20]\n",
        "\n",
        "squarify.plot(sizes=wc_top20['fraction_of_total'], label=wc_top20['word'], alpha=.8 )\n",
        "plt.axis('off')\n",
        "plt.show()"
      ],
      "execution_count": null,
      "outputs": [
        {
          "output_type": "display_data",
          "data": {
            "text/plain": [
              "<Figure size 432x288 with 1 Axes>"
            ],
            "image/png": "[encoded data removed]"
          },
          "metadata": {
            "needs_background": "light"
          }
        }
      ]
    },
    {
      "cell_type": "code",
      "metadata": {
        "id": "D4FNmpcNGEsl"
      },
      "source": [],
      "execution_count": null,
      "outputs": []
    },
    {
      "cell_type": "markdown",
      "metadata": {
        "id": "G_0hfUbGGEsn"
      },
      "source": [
        "## Challenge\n",
        "\n",
        "You should know how to apply lemmatization with Spacy to a corpus of text. "
      ]
    },
    {
      "cell_type": "markdown",
      "metadata": {
        "id": "TV0MV3qqGEso"
      },
      "source": [
        "# Review\n",
        "\n",
        "In this module project, you've seen us apply Natural Language Processing techniques (tokenization, stopword removal, and lemmatization) to a corpus of Amazon text reviews. We analyzed those reviews using these techniques and discovered that Amazon customers are generally satisfied with the battery life of Amazon products and generally appear satisfied. \n",
        "\n",
        "You will apply similar techniques to today's [module project assignment](https://colab.research.google.com/drive/1tAShxk2KAL0iMp5kC7JGk7UujOEuIuSI?usp=sharing) to analyze coffee shop reviews from yelp. Remember that the techniques of processing the text are just the beginning. There are many ways to slice and dice the data. "
      ]
    },
    {
      "cell_type": "markdown",
      "metadata": {
        "id": "sf2wyGutGEso"
      },
      "source": [
        "# Sources\n",
        "\n",
        "* Spacy 101 - https://course.spacy.io\n",
        "* NLTK Book - https://www.nltk.org/book/\n",
        "* An Introduction to Information Retrieval - https://nlp.stanford.edu/IR-book/pdf/irbookonlinereading.pdf"
      ]
    },
    {
      "cell_type": "markdown",
      "metadata": {
        "id": "TIXFuZCEGEso",
        "toc-hr-collapsed": true
      },
      "source": [
        "## Advanced Resources & Techniques\n",
        "- Named Entity Recognition (NER)\n",
        "- Dependency Trees \n",
        "- Generators\n",
        "- Major libraries (NLTK, Spacy, Gensim)"
      ]
    }
  ]
}