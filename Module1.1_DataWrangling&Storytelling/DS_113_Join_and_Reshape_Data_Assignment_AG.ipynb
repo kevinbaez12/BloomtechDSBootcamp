{
  "cells": [
    {
      "cell_type": "markdown",
      "metadata": {
        "id": "u6YJVfGw3LDA"
      },
      "source": [
        "# Data Science - Unit 1 Sprint 1 Module 3\n",
        "\n",
        "## Join and Reshape Data \n",
        "\n",
        "### Module Learning Objectives\n",
        "\n",
        "* Concatenate data using the pandas concat method\n",
        "* Merge data using pandas merge\n",
        "* Define the concept of tidy data and describe the format\n",
        "* Tidy data\n",
        "\n",
        "### Helpful Resources\n",
        "\n",
        "* [Pandas Cheat Sheet](https://github.com/pandas-dev/pandas/blob/master/doc/cheatsheet/Pandas_Cheat_Sheet.pdf)\n",
        "* Python Data Science Handbook\n",
        "    * [Chapter 3.6](https://jakevdp.github.io/PythonDataScienceHandbook/03.06-concat-and-append.html), Combining Datasets: Concat and Append\n",
        "    * [Chapter 3.7](https://jakevdp.github.io/PythonDataScienceHandbook/03.07-merge-and-join.html), Combining Datasets: Merge and Join\n",
        "    * [Chapter 3.8](https://jakevdp.github.io/PythonDataScienceHandbook/03.08-aggregation-and-grouping.html), Aggregation and Grouping\n",
        "    * [Chapter 3.9](https://jakevdp.github.io/PythonDataScienceHandbook/03.09-pivot-tables.html), Pivot Tables\n",
        "    \n",
        "### Notebook points: 8"
      ]
    },
    {
      "cell_type": "markdown",
      "metadata": {
        "id": "B55P21u83LDC"
      },
      "source": [
        "## Introduction\n",
        "\n",
        "In this Module Project, we're going to focus on manipulating data: loading multiple datasets from different locations, concatenating, merging, and even the fancy pandas `groupby` method.\n",
        "\n",
        "## Dataset Description\n",
        "\n",
        "You can view the CSV files [here](https://github.com/LambdaSchool/data-science-practice-datasets/tree/main/unit_1/Instacart_small), before you load them into your notebook."
      ]
    },
    {
      "cell_type": "markdown",
      "metadata": {
        "id": "o8zTNU0y3LDD"
      },
      "source": [
        "**Task 1** - Load CSV files\n",
        "\n",
        "We're going to look at the Instacart data and load the files as we need them. The Pandas and numpy import statements have been provided for you as well as the URL for the dataset.\n",
        "\n",
        "* Using the provided URL (`data_url1`) load the product CSV file into a DataFrame called `product_names`.\n",
        "* Print the top five records (or rows) of `product_names`."
      ]
    },
    {
      "cell_type": "code",
      "execution_count": null,
      "metadata": {
        "deletable": false,
        "nbgrader": {
          "cell_type": "code",
          "checksum": "0df9e574dae5253e3ce8f5cd52cf1eb0",
          "grade": false,
          "grade_id": "cell-ef51cab74649e553",
          "locked": false,
          "schema_version": 3,
          "solution": true,
          "task": false
        },
        "id": "8qZr-lS_3LDE",
        "colab": {
          "base_uri": "https://localhost:8080/",
          "height": 206
        },
        "outputId": "b3e54d15-4565-482d-c853-29f76e8e73c8"
      },
      "outputs": [
        {
          "output_type": "execute_result",
          "data": {
            "text/html": [
              "\n",
              "  <div id=\"df-01d7a489-d1a8-4082-8e49-0081fe3d8ca0\">\n",
              "    <div class=\"colab-df-container\">\n",
              "      <div>\n",
              "<style scoped>\n",
              "    .dataframe tbody tr th:only-of-type {\n",
              "        vertical-align: middle;\n",
              "    }\n",
              "\n",
              "    .dataframe tbody tr th {\n",
              "        vertical-align: top;\n",
              "    }\n",
              "\n",
              "    .dataframe thead th {\n",
              "        text-align: right;\n",
              "    }\n",
              "</style>\n",
              "<table border=\"1\" class=\"dataframe\">\n",
              "  <thead>\n",
              "    <tr style=\"text-align: right;\">\n",
              "      <th></th>\n",
              "      <th>product_id</th>\n",
              "      <th>product_name</th>\n",
              "      <th>aisle_id</th>\n",
              "      <th>department_id</th>\n",
              "    </tr>\n",
              "  </thead>\n",
              "  <tbody>\n",
              "    <tr>\n",
              "      <th>0</th>\n",
              "      <td>45676</td>\n",
              "      <td>Oil Free Acne Stress Control Power Clear Scrub</td>\n",
              "      <td>73</td>\n",
              "      <td>11</td>\n",
              "    </tr>\n",
              "    <tr>\n",
              "      <th>1</th>\n",
              "      <td>35408</td>\n",
              "      <td>Soymilk Vanilla Value Size</td>\n",
              "      <td>91</td>\n",
              "      <td>16</td>\n",
              "    </tr>\n",
              "    <tr>\n",
              "      <th>2</th>\n",
              "      <td>37442</td>\n",
              "      <td>Vegan Egg</td>\n",
              "      <td>86</td>\n",
              "      <td>16</td>\n",
              "    </tr>\n",
              "    <tr>\n",
              "      <th>3</th>\n",
              "      <td>41599</td>\n",
              "      <td>Organic Echinacea Herb Capsules</td>\n",
              "      <td>47</td>\n",
              "      <td>11</td>\n",
              "    </tr>\n",
              "    <tr>\n",
              "      <th>4</th>\n",
              "      <td>21994</td>\n",
              "      <td>Premium Saline Nasal Spray</td>\n",
              "      <td>11</td>\n",
              "      <td>11</td>\n",
              "    </tr>\n",
              "  </tbody>\n",
              "</table>\n",
              "</div>\n",
              "      <button class=\"colab-df-convert\" onclick=\"convertToInteractive('df-01d7a489-d1a8-4082-8e49-0081fe3d8ca0')\"\n",
              "              title=\"Convert this dataframe to an interactive table.\"\n",
              "              style=\"display:none;\">\n",
              "        \n",
              "  <svg xmlns=\"http://www.w3.org/2000/svg\" height=\"24px\"viewBox=\"0 0 24 24\"\n",
              "       width=\"24px\">\n",
              "    <path d=\"M0 0h24v24H0V0z\" fill=\"none\"/>\n",
              "    <path d=\"M18.56 5.44l.94 2.06.94-2.06 2.06-.94-2.06-.94-.94-2.06-.94 2.06-2.06.94zm-11 1L8.5 8.5l.94-2.06 2.06-.94-2.06-.94L8.5 2.5l-.94 2.06-2.06.94zm10 10l.94 2.06.94-2.06 2.06-.94-2.06-.94-.94-2.06-.94 2.06-2.06.94z\"/><path d=\"M17.41 7.96l-1.37-1.37c-.4-.4-.92-.59-1.43-.59-.52 0-1.04.2-1.43.59L10.3 9.45l-7.72 7.72c-.78.78-.78 2.05 0 2.83L4 21.41c.39.39.9.59 1.41.59.51 0 1.02-.2 1.41-.59l7.78-7.78 2.81-2.81c.8-.78.8-2.07 0-2.86zM5.41 20L4 18.59l7.72-7.72 1.47 1.35L5.41 20z\"/>\n",
              "  </svg>\n",
              "      </button>\n",
              "      \n",
              "  <style>\n",
              "    .colab-df-container {\n",
              "      display:flex;\n",
              "      flex-wrap:wrap;\n",
              "      gap: 12px;\n",
              "    }\n",
              "\n",
              "    .colab-df-convert {\n",
              "      background-color: #E8F0FE;\n",
              "      border: none;\n",
              "      border-radius: 50%;\n",
              "      cursor: pointer;\n",
              "      display: none;\n",
              "      fill: #1967D2;\n",
              "      height: 32px;\n",
              "      padding: 0 0 0 0;\n",
              "      width: 32px;\n",
              "    }\n",
              "\n",
              "    .colab-df-convert:hover {\n",
              "      background-color: #E2EBFA;\n",
              "      box-shadow: 0px 1px 2px rgba(60, 64, 67, 0.3), 0px 1px 3px 1px rgba(60, 64, 67, 0.15);\n",
              "      fill: #174EA6;\n",
              "    }\n",
              "\n",
              "    [theme=dark] .colab-df-convert {\n",
              "      background-color: #3B4455;\n",
              "      fill: #D2E3FC;\n",
              "    }\n",
              "\n",
              "    [theme=dark] .colab-df-convert:hover {\n",
              "      background-color: #434B5C;\n",
              "      box-shadow: 0px 1px 3px 1px rgba(0, 0, 0, 0.15);\n",
              "      filter: drop-shadow(0px 1px 2px rgba(0, 0, 0, 0.3));\n",
              "      fill: #FFFFFF;\n",
              "    }\n",
              "  </style>\n",
              "\n",
              "      <script>\n",
              "        const buttonEl =\n",
              "          document.querySelector('#df-01d7a489-d1a8-4082-8e49-0081fe3d8ca0 button.colab-df-convert');\n",
              "        buttonEl.style.display =\n",
              "          google.colab.kernel.accessAllowed ? 'block' : 'none';\n",
              "\n",
              "        async function convertToInteractive(key) {\n",
              "          const element = document.querySelector('#df-01d7a489-d1a8-4082-8e49-0081fe3d8ca0');\n",
              "          const dataTable =\n",
              "            await google.colab.kernel.invokeFunction('convertToInteractive',\n",
              "                                                     [key], {});\n",
              "          if (!dataTable) return;\n",
              "\n",
              "          const docLinkHtml = 'Like what you see? Visit the ' +\n",
              "            '<a target=\"_blank\" href=https://colab.research.google.com/notebooks/data_table.ipynb>data table notebook</a>'\n",
              "            + ' to learn more about interactive tables.';\n",
              "          element.innerHTML = '';\n",
              "          dataTable['output_type'] = 'display_data';\n",
              "          await google.colab.output.renderOutput(dataTable, element);\n",
              "          const docLink = document.createElement('div');\n",
              "          docLink.innerHTML = docLinkHtml;\n",
              "          element.appendChild(docLink);\n",
              "        }\n",
              "      </script>\n",
              "    </div>\n",
              "  </div>\n",
              "  "
            ],
            "text/plain": [
              "   product_id  ... department_id\n",
              "0       45676  ...            11\n",
              "1       35408  ...            16\n",
              "2       37442  ...            16\n",
              "3       41599  ...            11\n",
              "4       21994  ...            11\n",
              "\n",
              "[5 rows x 4 columns]"
            ]
          },
          "metadata": {},
          "execution_count": 1
        }
      ],
      "source": [
        "# Task 1\n",
        "\n",
        "# Imports \n",
        "import pandas as pd\n",
        "import numpy as np\n",
        "\n",
        "# Dataset URL\n",
        "data_url1 = 'https://raw.githubusercontent.com/LambdaSchool/data-science-practice-datasets/main/unit_1/Instacart_small/product_names_sm.csv'\n",
        "# YOUR CODE HERE\n",
        "\n",
        "product_names= pd.read_csv(data_url1)\n",
        "\n",
        "# View the DataFrame\n",
        "product_names.head()"
      ]
    },
    {
      "cell_type": "code",
      "execution_count": null,
      "metadata": {
        "deletable": false,
        "editable": false,
        "nbgrader": {
          "cell_type": "code",
          "checksum": "bea14a7668c2db125da981949f9ca157",
          "grade": true,
          "grade_id": "cell-cf00b9647815499e",
          "locked": true,
          "points": 1,
          "schema_version": 3,
          "solution": false,
          "task": false
        },
        "id": "hQVj9PYc3LDF"
      },
      "outputs": [],
      "source": [
        "# Task 1 - Test\n",
        "\n",
        "assert isinstance(product_names, pd.DataFrame), 'Have you created a DataFrame named `product_names`?'\n",
        "assert len(product_names) == 25000\n"
      ]
    },
    {
      "cell_type": "markdown",
      "metadata": {
        "id": "sVJ9i-UU3LDF"
      },
      "source": [
        "**Task 2** - DataFrame concatenation\n",
        "\n",
        "Next, we're going to load two additional CSV files. The URLs have been provided so your task is to load the files into the appropriately named DataFrames and then to concatenate them into one DataFrame.\n",
        "\n",
        "* Load the CSV file at `data_url2` into a DataFrame called `order_products_prior`.\n",
        "* Load the CSV file at `data_url3` into a DataFrame called `order_products_train`.\n",
        "* Concatenate `order_products_prior` and `order_products_train` into one DataFrame called `order_products`."
      ]
    },
    {
      "cell_type": "code",
      "execution_count": null,
      "metadata": {
        "deletable": false,
        "nbgrader": {
          "cell_type": "code",
          "checksum": "0e2a4229faf4b498e687f1c24477d172",
          "grade": false,
          "grade_id": "cell-0f442142d6bc8c39",
          "locked": false,
          "schema_version": 3,
          "solution": true,
          "task": false
        },
        "id": "0RghSpns3LDG",
        "colab": {
          "base_uri": "https://localhost:8080/",
          "height": 206
        },
        "outputId": "2830e516-4558-4514-e0b9-574f08f75497"
      },
      "outputs": [
        {
          "output_type": "execute_result",
          "data": {
            "text/html": [
              "\n",
              "  <div id=\"df-14b19327-336f-4f5f-b778-303a4c9498ec\">\n",
              "    <div class=\"colab-df-container\">\n",
              "      <div>\n",
              "<style scoped>\n",
              "    .dataframe tbody tr th:only-of-type {\n",
              "        vertical-align: middle;\n",
              "    }\n",
              "\n",
              "    .dataframe tbody tr th {\n",
              "        vertical-align: top;\n",
              "    }\n",
              "\n",
              "    .dataframe thead th {\n",
              "        text-align: right;\n",
              "    }\n",
              "</style>\n",
              "<table border=\"1\" class=\"dataframe\">\n",
              "  <thead>\n",
              "    <tr style=\"text-align: right;\">\n",
              "      <th></th>\n",
              "      <th>order_id</th>\n",
              "      <th>product_id</th>\n",
              "      <th>add_to_cart_order</th>\n",
              "      <th>reordered</th>\n",
              "    </tr>\n",
              "  </thead>\n",
              "  <tbody>\n",
              "    <tr>\n",
              "      <th>0</th>\n",
              "      <td>1696715</td>\n",
              "      <td>34969</td>\n",
              "      <td>11</td>\n",
              "      <td>0</td>\n",
              "    </tr>\n",
              "    <tr>\n",
              "      <th>1</th>\n",
              "      <td>2077308</td>\n",
              "      <td>16641</td>\n",
              "      <td>16</td>\n",
              "      <td>0</td>\n",
              "    </tr>\n",
              "    <tr>\n",
              "      <th>2</th>\n",
              "      <td>303457</td>\n",
              "      <td>46881</td>\n",
              "      <td>6</td>\n",
              "      <td>0</td>\n",
              "    </tr>\n",
              "    <tr>\n",
              "      <th>3</th>\n",
              "      <td>514151</td>\n",
              "      <td>31766</td>\n",
              "      <td>9</td>\n",
              "      <td>0</td>\n",
              "    </tr>\n",
              "    <tr>\n",
              "      <th>4</th>\n",
              "      <td>2099209</td>\n",
              "      <td>7908</td>\n",
              "      <td>10</td>\n",
              "      <td>1</td>\n",
              "    </tr>\n",
              "  </tbody>\n",
              "</table>\n",
              "</div>\n",
              "      <button class=\"colab-df-convert\" onclick=\"convertToInteractive('df-14b19327-336f-4f5f-b778-303a4c9498ec')\"\n",
              "              title=\"Convert this dataframe to an interactive table.\"\n",
              "              style=\"display:none;\">\n",
              "        \n",
              "  <svg xmlns=\"http://www.w3.org/2000/svg\" height=\"24px\"viewBox=\"0 0 24 24\"\n",
              "       width=\"24px\">\n",
              "    <path d=\"M0 0h24v24H0V0z\" fill=\"none\"/>\n",
              "    <path d=\"M18.56 5.44l.94 2.06.94-2.06 2.06-.94-2.06-.94-.94-2.06-.94 2.06-2.06.94zm-11 1L8.5 8.5l.94-2.06 2.06-.94-2.06-.94L8.5 2.5l-.94 2.06-2.06.94zm10 10l.94 2.06.94-2.06 2.06-.94-2.06-.94-.94-2.06-.94 2.06-2.06.94z\"/><path d=\"M17.41 7.96l-1.37-1.37c-.4-.4-.92-.59-1.43-.59-.52 0-1.04.2-1.43.59L10.3 9.45l-7.72 7.72c-.78.78-.78 2.05 0 2.83L4 21.41c.39.39.9.59 1.41.59.51 0 1.02-.2 1.41-.59l7.78-7.78 2.81-2.81c.8-.78.8-2.07 0-2.86zM5.41 20L4 18.59l7.72-7.72 1.47 1.35L5.41 20z\"/>\n",
              "  </svg>\n",
              "      </button>\n",
              "      \n",
              "  <style>\n",
              "    .colab-df-container {\n",
              "      display:flex;\n",
              "      flex-wrap:wrap;\n",
              "      gap: 12px;\n",
              "    }\n",
              "\n",
              "    .colab-df-convert {\n",
              "      background-color: #E8F0FE;\n",
              "      border: none;\n",
              "      border-radius: 50%;\n",
              "      cursor: pointer;\n",
              "      display: none;\n",
              "      fill: #1967D2;\n",
              "      height: 32px;\n",
              "      padding: 0 0 0 0;\n",
              "      width: 32px;\n",
              "    }\n",
              "\n",
              "    .colab-df-convert:hover {\n",
              "      background-color: #E2EBFA;\n",
              "      box-shadow: 0px 1px 2px rgba(60, 64, 67, 0.3), 0px 1px 3px 1px rgba(60, 64, 67, 0.15);\n",
              "      fill: #174EA6;\n",
              "    }\n",
              "\n",
              "    [theme=dark] .colab-df-convert {\n",
              "      background-color: #3B4455;\n",
              "      fill: #D2E3FC;\n",
              "    }\n",
              "\n",
              "    [theme=dark] .colab-df-convert:hover {\n",
              "      background-color: #434B5C;\n",
              "      box-shadow: 0px 1px 3px 1px rgba(0, 0, 0, 0.15);\n",
              "      filter: drop-shadow(0px 1px 2px rgba(0, 0, 0, 0.3));\n",
              "      fill: #FFFFFF;\n",
              "    }\n",
              "  </style>\n",
              "\n",
              "      <script>\n",
              "        const buttonEl =\n",
              "          document.querySelector('#df-14b19327-336f-4f5f-b778-303a4c9498ec button.colab-df-convert');\n",
              "        buttonEl.style.display =\n",
              "          google.colab.kernel.accessAllowed ? 'block' : 'none';\n",
              "\n",
              "        async function convertToInteractive(key) {\n",
              "          const element = document.querySelector('#df-14b19327-336f-4f5f-b778-303a4c9498ec');\n",
              "          const dataTable =\n",
              "            await google.colab.kernel.invokeFunction('convertToInteractive',\n",
              "                                                     [key], {});\n",
              "          if (!dataTable) return;\n",
              "\n",
              "          const docLinkHtml = 'Like what you see? Visit the ' +\n",
              "            '<a target=\"_blank\" href=https://colab.research.google.com/notebooks/data_table.ipynb>data table notebook</a>'\n",
              "            + ' to learn more about interactive tables.';\n",
              "          element.innerHTML = '';\n",
              "          dataTable['output_type'] = 'display_data';\n",
              "          await google.colab.output.renderOutput(dataTable, element);\n",
              "          const docLink = document.createElement('div');\n",
              "          docLink.innerHTML = docLinkHtml;\n",
              "          element.appendChild(docLink);\n",
              "        }\n",
              "      </script>\n",
              "    </div>\n",
              "  </div>\n",
              "  "
            ],
            "text/plain": [
              "   order_id  product_id  add_to_cart_order  reordered\n",
              "0   1696715       34969                 11          0\n",
              "1   2077308       16641                 16          0\n",
              "2    303457       46881                  6          0\n",
              "3    514151       31766                  9          0\n",
              "4   2099209        7908                 10          1"
            ]
          },
          "metadata": {},
          "execution_count": 3
        }
      ],
      "source": [
        "# Task 2\n",
        "\n",
        "# Dataset URLs\n",
        "data_url2 = 'https://raw.githubusercontent.com/LambdaSchool/data-science-practice-datasets/main/unit_1/Instacart_small/order_products_prior_sm.csv'\n",
        "data_url3 = 'https://raw.githubusercontent.com/LambdaSchool/data-science-practice-datasets/main/unit_1/Instacart_small/order_products_train_sm.csv'\n",
        "\n",
        "# YOUR CODE HERE\n",
        "order_products_prior= pd.read_csv(data_url2)\n",
        "order_products_train= pd.read_csv(data_url3)\n",
        "order_products= pd.concat([order_products_prior, order_products_train])\n",
        "# Print the head to view your results\n",
        "order_products.head()"
      ]
    },
    {
      "cell_type": "code",
      "execution_count": null,
      "metadata": {
        "deletable": false,
        "editable": false,
        "nbgrader": {
          "cell_type": "code",
          "checksum": "f90e3884b129f04c1f9f5ff1402ba9eb",
          "grade": true,
          "grade_id": "cell-3637e4ba19b79349",
          "locked": true,
          "points": 1,
          "schema_version": 3,
          "solution": false,
          "task": false
        },
        "id": "a2A41Y3N3LDG"
      },
      "outputs": [],
      "source": [
        "# Task 2 - Test\n",
        "\n",
        "assert isinstance(order_products, pd.DataFrame), 'Have you created a DataFrame named `order_products`?'\n",
        "assert len(order_products) == 50000\n"
      ]
    },
    {
      "cell_type": "code",
      "execution_count": null,
      "metadata": {
        "id": "WJRFeGRT3LDH"
      },
      "outputs": [],
      "source": []
    },
    {
      "cell_type": "markdown",
      "metadata": {
        "id": "lGWV__F73LDH"
      },
      "source": [
        "**Task 3** - Top five (5) products\n",
        "\n",
        "We're going to create a list of the top five products - we've already determined what the top five are so now it's your turn to put these items in a list.\n",
        "\n",
        "* Create a list called `five_products` with the following items: \"Bag of Organic Bananas\", \"Organic Baby Spinach\", \"Organic Avocado\", \"Large Lemon\", \"Limes\"\n",
        "\n",
        "*Note: Make sure to create the list with exact spelling as shown above!*"
      ]
    },
    {
      "cell_type": "code",
      "execution_count": null,
      "metadata": {
        "deletable": false,
        "nbgrader": {
          "cell_type": "code",
          "checksum": "a74a9f3e51ccd3e67edee7c3ba313176",
          "grade": false,
          "grade_id": "cell-ad8e4664b33be149",
          "locked": false,
          "schema_version": 3,
          "solution": true,
          "task": false
        },
        "id": "jtrjxqj23LDI"
      },
      "outputs": [],
      "source": [
        "# Task 3\n",
        "\n",
        "# Top 5 products: five_products\n",
        "\n",
        "# YOUR CODE HERE\n",
        "five_products= [\"Bag of Organic Bananas\", \"Organic Baby Spinach\", \"Organic Avocado\", \"Large Lemon\", \"Limes\"]"
      ]
    },
    {
      "cell_type": "code",
      "execution_count": null,
      "metadata": {
        "deletable": false,
        "editable": false,
        "nbgrader": {
          "cell_type": "code",
          "checksum": "478aa2cdb0f03f5201d8745472e07641",
          "grade": true,
          "grade_id": "cell-0e8a931d7088b469",
          "locked": true,
          "points": 1,
          "schema_version": 3,
          "solution": false,
          "task": false
        },
        "id": "KTQ6OL__3LDI"
      },
      "outputs": [],
      "source": [
        "# Task 3 - Test\n",
        "\n",
        "assert isinstance(five_products, list), 'Have you created the five_products list?'\n",
        "assert len(five_products) == 5, \"Make sure you created the list correctly\"\n",
        "\n",
        "# No hidden tests for this task"
      ]
    },
    {
      "cell_type": "markdown",
      "metadata": {
        "id": "n_kV-3r23LDJ"
      },
      "source": [
        "**Task 4** - DataFrame subset using merge\n",
        "\n",
        "Create a subset of the `product_names` dataset that includes just the top **five** most ordered products. The `five_products` list has been converted to a DataFrame with the name `five`. Your task is to merge these DataFrames.\n",
        "\n",
        "* Merge `product_names` and `five` so the resulting DataFrame only includes the 5 most ordered products.  Name that DataFrame `top_products`."
      ]
    },
    {
      "cell_type": "code",
      "execution_count": null,
      "metadata": {
        "deletable": false,
        "nbgrader": {
          "cell_type": "code",
          "checksum": "551c13f284fb68df646af13907dd84e4",
          "grade": false,
          "grade_id": "cell-7818f18ec6921fb0",
          "locked": false,
          "schema_version": 3,
          "solution": true,
          "task": false
        },
        "id": "sLXvJyWj3LDJ",
        "colab": {
          "base_uri": "https://localhost:8080/",
          "height": 206
        },
        "outputId": "a5e7ce6e-8e97-45cd-e3a8-742c06800723"
      },
      "outputs": [
        {
          "output_type": "execute_result",
          "data": {
            "text/html": [
              "\n",
              "  <div id=\"df-3c6cc99b-a931-4c8b-9394-8e61f8a3c51b\">\n",
              "    <div class=\"colab-df-container\">\n",
              "      <div>\n",
              "<style scoped>\n",
              "    .dataframe tbody tr th:only-of-type {\n",
              "        vertical-align: middle;\n",
              "    }\n",
              "\n",
              "    .dataframe tbody tr th {\n",
              "        vertical-align: top;\n",
              "    }\n",
              "\n",
              "    .dataframe thead th {\n",
              "        text-align: right;\n",
              "    }\n",
              "</style>\n",
              "<table border=\"1\" class=\"dataframe\">\n",
              "  <thead>\n",
              "    <tr style=\"text-align: right;\">\n",
              "      <th></th>\n",
              "      <th>product_name</th>\n",
              "      <th>product_id</th>\n",
              "      <th>aisle_id</th>\n",
              "      <th>department_id</th>\n",
              "    </tr>\n",
              "  </thead>\n",
              "  <tbody>\n",
              "    <tr>\n",
              "      <th>0</th>\n",
              "      <td>Bag of Organic Bananas</td>\n",
              "      <td>13176</td>\n",
              "      <td>24</td>\n",
              "      <td>4</td>\n",
              "    </tr>\n",
              "    <tr>\n",
              "      <th>1</th>\n",
              "      <td>Organic Baby Spinach</td>\n",
              "      <td>21903</td>\n",
              "      <td>123</td>\n",
              "      <td>4</td>\n",
              "    </tr>\n",
              "    <tr>\n",
              "      <th>2</th>\n",
              "      <td>Organic Avocado</td>\n",
              "      <td>47766</td>\n",
              "      <td>24</td>\n",
              "      <td>4</td>\n",
              "    </tr>\n",
              "    <tr>\n",
              "      <th>3</th>\n",
              "      <td>Large Lemon</td>\n",
              "      <td>47626</td>\n",
              "      <td>24</td>\n",
              "      <td>4</td>\n",
              "    </tr>\n",
              "    <tr>\n",
              "      <th>4</th>\n",
              "      <td>Limes</td>\n",
              "      <td>26209</td>\n",
              "      <td>24</td>\n",
              "      <td>4</td>\n",
              "    </tr>\n",
              "  </tbody>\n",
              "</table>\n",
              "</div>\n",
              "      <button class=\"colab-df-convert\" onclick=\"convertToInteractive('df-3c6cc99b-a931-4c8b-9394-8e61f8a3c51b')\"\n",
              "              title=\"Convert this dataframe to an interactive table.\"\n",
              "              style=\"display:none;\">\n",
              "        \n",
              "  <svg xmlns=\"http://www.w3.org/2000/svg\" height=\"24px\"viewBox=\"0 0 24 24\"\n",
              "       width=\"24px\">\n",
              "    <path d=\"M0 0h24v24H0V0z\" fill=\"none\"/>\n",
              "    <path d=\"M18.56 5.44l.94 2.06.94-2.06 2.06-.94-2.06-.94-.94-2.06-.94 2.06-2.06.94zm-11 1L8.5 8.5l.94-2.06 2.06-.94-2.06-.94L8.5 2.5l-.94 2.06-2.06.94zm10 10l.94 2.06.94-2.06 2.06-.94-2.06-.94-.94-2.06-.94 2.06-2.06.94z\"/><path d=\"M17.41 7.96l-1.37-1.37c-.4-.4-.92-.59-1.43-.59-.52 0-1.04.2-1.43.59L10.3 9.45l-7.72 7.72c-.78.78-.78 2.05 0 2.83L4 21.41c.39.39.9.59 1.41.59.51 0 1.02-.2 1.41-.59l7.78-7.78 2.81-2.81c.8-.78.8-2.07 0-2.86zM5.41 20L4 18.59l7.72-7.72 1.47 1.35L5.41 20z\"/>\n",
              "  </svg>\n",
              "      </button>\n",
              "      \n",
              "  <style>\n",
              "    .colab-df-container {\n",
              "      display:flex;\n",
              "      flex-wrap:wrap;\n",
              "      gap: 12px;\n",
              "    }\n",
              "\n",
              "    .colab-df-convert {\n",
              "      background-color: #E8F0FE;\n",
              "      border: none;\n",
              "      border-radius: 50%;\n",
              "      cursor: pointer;\n",
              "      display: none;\n",
              "      fill: #1967D2;\n",
              "      height: 32px;\n",
              "      padding: 0 0 0 0;\n",
              "      width: 32px;\n",
              "    }\n",
              "\n",
              "    .colab-df-convert:hover {\n",
              "      background-color: #E2EBFA;\n",
              "      box-shadow: 0px 1px 2px rgba(60, 64, 67, 0.3), 0px 1px 3px 1px rgba(60, 64, 67, 0.15);\n",
              "      fill: #174EA6;\n",
              "    }\n",
              "\n",
              "    [theme=dark] .colab-df-convert {\n",
              "      background-color: #3B4455;\n",
              "      fill: #D2E3FC;\n",
              "    }\n",
              "\n",
              "    [theme=dark] .colab-df-convert:hover {\n",
              "      background-color: #434B5C;\n",
              "      box-shadow: 0px 1px 3px 1px rgba(0, 0, 0, 0.15);\n",
              "      filter: drop-shadow(0px 1px 2px rgba(0, 0, 0, 0.3));\n",
              "      fill: #FFFFFF;\n",
              "    }\n",
              "  </style>\n",
              "\n",
              "      <script>\n",
              "        const buttonEl =\n",
              "          document.querySelector('#df-3c6cc99b-a931-4c8b-9394-8e61f8a3c51b button.colab-df-convert');\n",
              "        buttonEl.style.display =\n",
              "          google.colab.kernel.accessAllowed ? 'block' : 'none';\n",
              "\n",
              "        async function convertToInteractive(key) {\n",
              "          const element = document.querySelector('#df-3c6cc99b-a931-4c8b-9394-8e61f8a3c51b');\n",
              "          const dataTable =\n",
              "            await google.colab.kernel.invokeFunction('convertToInteractive',\n",
              "                                                     [key], {});\n",
              "          if (!dataTable) return;\n",
              "\n",
              "          const docLinkHtml = 'Like what you see? Visit the ' +\n",
              "            '<a target=\"_blank\" href=https://colab.research.google.com/notebooks/data_table.ipynb>data table notebook</a>'\n",
              "            + ' to learn more about interactive tables.';\n",
              "          element.innerHTML = '';\n",
              "          dataTable['output_type'] = 'display_data';\n",
              "          await google.colab.output.renderOutput(dataTable, element);\n",
              "          const docLink = document.createElement('div');\n",
              "          docLink.innerHTML = docLinkHtml;\n",
              "          element.appendChild(docLink);\n",
              "        }\n",
              "      </script>\n",
              "    </div>\n",
              "  </div>\n",
              "  "
            ],
            "text/plain": [
              "             product_name  product_id  aisle_id  department_id\n",
              "0  Bag of Organic Bananas       13176        24              4\n",
              "1    Organic Baby Spinach       21903       123              4\n",
              "2         Organic Avocado       47766        24              4\n",
              "3             Large Lemon       47626        24              4\n",
              "4                   Limes       26209        24              4"
            ]
          },
          "metadata": {},
          "execution_count": 7
        }
      ],
      "source": [
        "# Task 4\n",
        "\n",
        "# Convert five_products to a DataFrame called five\n",
        "five = pd.DataFrame(five_products, columns =['product_name']) \n",
        "\n",
        "# Create a subset of product_names with only the top 5 products.  \n",
        "# Use your merge statement to include only the top 5 products\n",
        "\n",
        "# YOUR CODE HERE\n",
        "top_products= five.merge(product_names)\n",
        "\n",
        "# Print your DataFrame to view the merge results\n",
        "top_products.head()"
      ]
    },
    {
      "cell_type": "code",
      "execution_count": null,
      "metadata": {
        "deletable": false,
        "editable": false,
        "nbgrader": {
          "cell_type": "code",
          "checksum": "9769c64dd865fbdbc362cbcc974844fd",
          "grade": true,
          "grade_id": "cell-e329e3cdc129ba49",
          "locked": true,
          "points": 1,
          "schema_version": 3,
          "solution": false,
          "task": false
        },
        "id": "zKowfTEm3LDK"
      },
      "outputs": [],
      "source": [
        "# Task 4 - Test\n",
        "assert isinstance(top_products, pd.DataFrame), 'Have you created a DataFrame named `top_products`?'\n"
      ]
    },
    {
      "cell_type": "markdown",
      "metadata": {
        "id": "cit2U1XG3LDK"
      },
      "source": [
        "**Task 5** - More DataFrame merging\n",
        "\n",
        "Now we're going to merge the first DataFrame we created (`order_products`) with the one we just made above (`top_products`). This will result in a DataFrame with only the top five most ordered products.\n",
        "\n",
        "* Merge `order_products` and `top_products` and name the resulting DataFrame `final`.\n",
        "* Print the top 20 rows of `final` to view your result."
      ]
    },
    {
      "cell_type": "code",
      "source": [
        "order_products.columns"
      ],
      "metadata": {
        "colab": {
          "base_uri": "https://localhost:8080/"
        },
        "id": "N3VW2W0VF4IQ",
        "outputId": "192dfe91-3965-4d48-8adb-8f7a6f6f6465"
      },
      "execution_count": null,
      "outputs": [
        {
          "output_type": "execute_result",
          "data": {
            "text/plain": [
              "Index(['order_id', 'product_id', 'add_to_cart_order', 'reordered'], dtype='object')"
            ]
          },
          "metadata": {},
          "execution_count": 30
        }
      ]
    },
    {
      "cell_type": "code",
      "execution_count": null,
      "metadata": {
        "deletable": false,
        "nbgrader": {
          "cell_type": "code",
          "checksum": "114fe0fcbaf51fedcc9596086c31fbd4",
          "grade": false,
          "grade_id": "cell-977f302dd89af1df",
          "locked": false,
          "schema_version": 3,
          "solution": true,
          "task": false
        },
        "id": "2vKB-rjw3LDK",
        "colab": {
          "base_uri": "https://localhost:8080/",
          "height": 424
        },
        "outputId": "402dab0b-8bb9-4a32-9a4a-f0819ea0e39c"
      },
      "outputs": [
        {
          "output_type": "execute_result",
          "data": {
            "text/html": [
              "\n",
              "  <div id=\"df-b5985603-694a-4a9f-ae1c-983f912266a6\">\n",
              "    <div class=\"colab-df-container\">\n",
              "      <div>\n",
              "<style scoped>\n",
              "    .dataframe tbody tr th:only-of-type {\n",
              "        vertical-align: middle;\n",
              "    }\n",
              "\n",
              "    .dataframe tbody tr th {\n",
              "        vertical-align: top;\n",
              "    }\n",
              "\n",
              "    .dataframe thead th {\n",
              "        text-align: right;\n",
              "    }\n",
              "</style>\n",
              "<table border=\"1\" class=\"dataframe\">\n",
              "  <thead>\n",
              "    <tr style=\"text-align: right;\">\n",
              "      <th></th>\n",
              "      <th>product_name</th>\n",
              "      <th>product_id</th>\n",
              "      <th>aisle_id</th>\n",
              "      <th>department_id</th>\n",
              "      <th>order_id</th>\n",
              "      <th>add_to_cart_order</th>\n",
              "      <th>reordered</th>\n",
              "    </tr>\n",
              "  </thead>\n",
              "  <tbody>\n",
              "    <tr>\n",
              "      <th>0</th>\n",
              "      <td>Bag of Organic Bananas</td>\n",
              "      <td>13176</td>\n",
              "      <td>24</td>\n",
              "      <td>4</td>\n",
              "      <td>3313641</td>\n",
              "      <td>1</td>\n",
              "      <td>1</td>\n",
              "    </tr>\n",
              "    <tr>\n",
              "      <th>1</th>\n",
              "      <td>Bag of Organic Bananas</td>\n",
              "      <td>13176</td>\n",
              "      <td>24</td>\n",
              "      <td>4</td>\n",
              "      <td>2658883</td>\n",
              "      <td>1</td>\n",
              "      <td>1</td>\n",
              "    </tr>\n",
              "    <tr>\n",
              "      <th>2</th>\n",
              "      <td>Bag of Organic Bananas</td>\n",
              "      <td>13176</td>\n",
              "      <td>24</td>\n",
              "      <td>4</td>\n",
              "      <td>2840135</td>\n",
              "      <td>3</td>\n",
              "      <td>1</td>\n",
              "    </tr>\n",
              "    <tr>\n",
              "      <th>3</th>\n",
              "      <td>Bag of Organic Bananas</td>\n",
              "      <td>13176</td>\n",
              "      <td>24</td>\n",
              "      <td>4</td>\n",
              "      <td>749245</td>\n",
              "      <td>3</td>\n",
              "      <td>1</td>\n",
              "    </tr>\n",
              "    <tr>\n",
              "      <th>4</th>\n",
              "      <td>Bag of Organic Bananas</td>\n",
              "      <td>13176</td>\n",
              "      <td>24</td>\n",
              "      <td>4</td>\n",
              "      <td>1168631</td>\n",
              "      <td>6</td>\n",
              "      <td>0</td>\n",
              "    </tr>\n",
              "    <tr>\n",
              "      <th>...</th>\n",
              "      <td>...</td>\n",
              "      <td>...</td>\n",
              "      <td>...</td>\n",
              "      <td>...</td>\n",
              "      <td>...</td>\n",
              "      <td>...</td>\n",
              "      <td>...</td>\n",
              "    </tr>\n",
              "    <tr>\n",
              "      <th>1665</th>\n",
              "      <td>Limes</td>\n",
              "      <td>26209</td>\n",
              "      <td>24</td>\n",
              "      <td>4</td>\n",
              "      <td>1101809</td>\n",
              "      <td>6</td>\n",
              "      <td>1</td>\n",
              "    </tr>\n",
              "    <tr>\n",
              "      <th>1666</th>\n",
              "      <td>Limes</td>\n",
              "      <td>26209</td>\n",
              "      <td>24</td>\n",
              "      <td>4</td>\n",
              "      <td>2075061</td>\n",
              "      <td>7</td>\n",
              "      <td>1</td>\n",
              "    </tr>\n",
              "    <tr>\n",
              "      <th>1667</th>\n",
              "      <td>Limes</td>\n",
              "      <td>26209</td>\n",
              "      <td>24</td>\n",
              "      <td>4</td>\n",
              "      <td>1361089</td>\n",
              "      <td>2</td>\n",
              "      <td>1</td>\n",
              "    </tr>\n",
              "    <tr>\n",
              "      <th>1668</th>\n",
              "      <td>Limes</td>\n",
              "      <td>26209</td>\n",
              "      <td>24</td>\n",
              "      <td>4</td>\n",
              "      <td>1573721</td>\n",
              "      <td>6</td>\n",
              "      <td>0</td>\n",
              "    </tr>\n",
              "    <tr>\n",
              "      <th>1669</th>\n",
              "      <td>Limes</td>\n",
              "      <td>26209</td>\n",
              "      <td>24</td>\n",
              "      <td>4</td>\n",
              "      <td>891325</td>\n",
              "      <td>5</td>\n",
              "      <td>1</td>\n",
              "    </tr>\n",
              "  </tbody>\n",
              "</table>\n",
              "<p>1670 rows × 7 columns</p>\n",
              "</div>\n",
              "      <button class=\"colab-df-convert\" onclick=\"convertToInteractive('df-b5985603-694a-4a9f-ae1c-983f912266a6')\"\n",
              "              title=\"Convert this dataframe to an interactive table.\"\n",
              "              style=\"display:none;\">\n",
              "        \n",
              "  <svg xmlns=\"http://www.w3.org/2000/svg\" height=\"24px\"viewBox=\"0 0 24 24\"\n",
              "       width=\"24px\">\n",
              "    <path d=\"M0 0h24v24H0V0z\" fill=\"none\"/>\n",
              "    <path d=\"M18.56 5.44l.94 2.06.94-2.06 2.06-.94-2.06-.94-.94-2.06-.94 2.06-2.06.94zm-11 1L8.5 8.5l.94-2.06 2.06-.94-2.06-.94L8.5 2.5l-.94 2.06-2.06.94zm10 10l.94 2.06.94-2.06 2.06-.94-2.06-.94-.94-2.06-.94 2.06-2.06.94z\"/><path d=\"M17.41 7.96l-1.37-1.37c-.4-.4-.92-.59-1.43-.59-.52 0-1.04.2-1.43.59L10.3 9.45l-7.72 7.72c-.78.78-.78 2.05 0 2.83L4 21.41c.39.39.9.59 1.41.59.51 0 1.02-.2 1.41-.59l7.78-7.78 2.81-2.81c.8-.78.8-2.07 0-2.86zM5.41 20L4 18.59l7.72-7.72 1.47 1.35L5.41 20z\"/>\n",
              "  </svg>\n",
              "      </button>\n",
              "      \n",
              "  <style>\n",
              "    .colab-df-container {\n",
              "      display:flex;\n",
              "      flex-wrap:wrap;\n",
              "      gap: 12px;\n",
              "    }\n",
              "\n",
              "    .colab-df-convert {\n",
              "      background-color: #E8F0FE;\n",
              "      border: none;\n",
              "      border-radius: 50%;\n",
              "      cursor: pointer;\n",
              "      display: none;\n",
              "      fill: #1967D2;\n",
              "      height: 32px;\n",
              "      padding: 0 0 0 0;\n",
              "      width: 32px;\n",
              "    }\n",
              "\n",
              "    .colab-df-convert:hover {\n",
              "      background-color: #E2EBFA;\n",
              "      box-shadow: 0px 1px 2px rgba(60, 64, 67, 0.3), 0px 1px 3px 1px rgba(60, 64, 67, 0.15);\n",
              "      fill: #174EA6;\n",
              "    }\n",
              "\n",
              "    [theme=dark] .colab-df-convert {\n",
              "      background-color: #3B4455;\n",
              "      fill: #D2E3FC;\n",
              "    }\n",
              "\n",
              "    [theme=dark] .colab-df-convert:hover {\n",
              "      background-color: #434B5C;\n",
              "      box-shadow: 0px 1px 3px 1px rgba(0, 0, 0, 0.15);\n",
              "      filter: drop-shadow(0px 1px 2px rgba(0, 0, 0, 0.3));\n",
              "      fill: #FFFFFF;\n",
              "    }\n",
              "  </style>\n",
              "\n",
              "      <script>\n",
              "        const buttonEl =\n",
              "          document.querySelector('#df-b5985603-694a-4a9f-ae1c-983f912266a6 button.colab-df-convert');\n",
              "        buttonEl.style.display =\n",
              "          google.colab.kernel.accessAllowed ? 'block' : 'none';\n",
              "\n",
              "        async function convertToInteractive(key) {\n",
              "          const element = document.querySelector('#df-b5985603-694a-4a9f-ae1c-983f912266a6');\n",
              "          const dataTable =\n",
              "            await google.colab.kernel.invokeFunction('convertToInteractive',\n",
              "                                                     [key], {});\n",
              "          if (!dataTable) return;\n",
              "\n",
              "          const docLinkHtml = 'Like what you see? Visit the ' +\n",
              "            '<a target=\"_blank\" href=https://colab.research.google.com/notebooks/data_table.ipynb>data table notebook</a>'\n",
              "            + ' to learn more about interactive tables.';\n",
              "          element.innerHTML = '';\n",
              "          dataTable['output_type'] = 'display_data';\n",
              "          await google.colab.output.renderOutput(dataTable, element);\n",
              "          const docLink = document.createElement('div');\n",
              "          docLink.innerHTML = docLinkHtml;\n",
              "          element.appendChild(docLink);\n",
              "        }\n",
              "      </script>\n",
              "    </div>\n",
              "  </div>\n",
              "  "
            ],
            "text/plain": [
              "                product_name  product_id  ...  add_to_cart_order  reordered\n",
              "0     Bag of Organic Bananas       13176  ...                  1          1\n",
              "1     Bag of Organic Bananas       13176  ...                  1          1\n",
              "2     Bag of Organic Bananas       13176  ...                  3          1\n",
              "3     Bag of Organic Bananas       13176  ...                  3          1\n",
              "4     Bag of Organic Bananas       13176  ...                  6          0\n",
              "...                      ...         ...  ...                ...        ...\n",
              "1665                   Limes       26209  ...                  6          1\n",
              "1666                   Limes       26209  ...                  7          1\n",
              "1667                   Limes       26209  ...                  2          1\n",
              "1668                   Limes       26209  ...                  6          0\n",
              "1669                   Limes       26209  ...                  5          1\n",
              "\n",
              "[1670 rows x 7 columns]"
            ]
          },
          "metadata": {},
          "execution_count": 9
        }
      ],
      "source": [
        "# Task 5\n",
        "\n",
        "# Merge order_products and top_products \n",
        "\n",
        "# YOUR CODE HERE\n",
        "final= top_products.merge(order_products)\n",
        "# Print your final DataFrame\n",
        "final"
      ]
    },
    {
      "cell_type": "code",
      "execution_count": null,
      "metadata": {
        "deletable": false,
        "editable": false,
        "nbgrader": {
          "cell_type": "code",
          "checksum": "8c351ac1f8aa2048ca5465393f9f00b0",
          "grade": true,
          "grade_id": "cell-0c48a0352b6596f5",
          "locked": true,
          "points": 1,
          "schema_version": 3,
          "solution": false,
          "task": false
        },
        "id": "JXU8cUj23LDL"
      },
      "outputs": [],
      "source": [
        "# Task 5 - Test\n",
        "\n",
        "assert isinstance(final, pd.DataFrame), 'Have you created a DataFrame named `final`?'\n"
      ]
    },
    {
      "cell_type": "markdown",
      "metadata": {
        "id": "ZMmQKLgv3LDL"
      },
      "source": [
        "**Task 6** - Top five products - value counts\n",
        "\n",
        "Note that every record in `final` is a single instance in which someone ordered one of the top five products.  Your task is to calcluate the number of times each product was ordered.\n",
        "\n",
        "* Calculate the **number of times** each product was ordered using `value_counts()`. Name the result `food_frequency`.\n",
        "* Assign the most frequently ordered food to the variable `top_item` (your variable should be a string; make sure to use the exact formatting returned above)."
      ]
    },
    {
      "cell_type": "code",
      "source": [
        "final['product_name'].value_counts()"
      ],
      "metadata": {
        "colab": {
          "base_uri": "https://localhost:8080/"
        },
        "id": "BYjIZDe4GUt2",
        "outputId": "fb2547c4-c54c-430d-bda2-8c747f73964e"
      },
      "execution_count": null,
      "outputs": [
        {
          "output_type": "execute_result",
          "data": {
            "text/plain": [
              "Bag of Organic Bananas    561\n",
              "Organic Baby Spinach      360\n",
              "Large Lemon               283\n",
              "Organic Avocado           269\n",
              "Limes                     197\n",
              "Name: product_name, dtype: int64"
            ]
          },
          "metadata": {},
          "execution_count": 39
        }
      ]
    },
    {
      "cell_type": "code",
      "execution_count": null,
      "metadata": {
        "deletable": false,
        "nbgrader": {
          "cell_type": "code",
          "checksum": "8f29e56a39d33ba9ee78531bbebda218",
          "grade": false,
          "grade_id": "cell-9a3735ded06b8419",
          "locked": false,
          "schema_version": 3,
          "solution": true,
          "task": false
        },
        "id": "mv1zrFTE3LDL",
        "colab": {
          "base_uri": "https://localhost:8080/"
        },
        "outputId": "d6496b30-2835-41ef-f026-dd5c5b1bac08"
      },
      "outputs": [
        {
          "output_type": "execute_result",
          "data": {
            "text/plain": [
              "Bag of Organic Bananas    561\n",
              "Organic Baby Spinach      360\n",
              "Large Lemon               283\n",
              "Organic Avocado           269\n",
              "Limes                     197\n",
              "Name: product_name, dtype: int64"
            ]
          },
          "metadata": {},
          "execution_count": 11
        }
      ],
      "source": [
        "# Task 6\n",
        "\n",
        "# Determine the number of times each product was ordered\n",
        "\n",
        "# YOUR CODE HERE\n",
        "food_frequency= final['product_name'].value_counts()\n",
        "top_item= 'Bag of Organic Bananas'\n",
        "\n",
        "# View your results\n",
        "food_frequency.head()\n"
      ]
    },
    {
      "cell_type": "code",
      "source": [
        "food_frequency.shape"
      ],
      "metadata": {
        "colab": {
          "base_uri": "https://localhost:8080/"
        },
        "id": "7HhQr6Ce9obC",
        "outputId": "d82ce1ce-3965-402d-cd3f-7267f507e47a"
      },
      "execution_count": null,
      "outputs": [
        {
          "output_type": "execute_result",
          "data": {
            "text/plain": [
              "(5,)"
            ]
          },
          "metadata": {},
          "execution_count": 42
        }
      ]
    },
    {
      "cell_type": "code",
      "execution_count": null,
      "metadata": {
        "id": "bsxvMZMp3LDL",
        "colab": {
          "base_uri": "https://localhost:8080/"
        },
        "outputId": "073b2142-9a4a-418c-e058-752cd5967282"
      },
      "outputs": [
        {
          "output_type": "execute_result",
          "data": {
            "text/plain": [
              "Index(['Bag of Organic Bananas', 'Organic Baby Spinach', 'Large Lemon',\n",
              "       'Organic Avocado', 'Limes'],\n",
              "      dtype='object')"
            ]
          },
          "metadata": {},
          "execution_count": 43
        }
      ],
      "source": [
        "food_frequency.index"
      ]
    },
    {
      "cell_type": "code",
      "execution_count": null,
      "metadata": {
        "deletable": false,
        "editable": false,
        "nbgrader": {
          "cell_type": "code",
          "checksum": "1cb6f43a74e4166ee50b1e07c085a8ec",
          "grade": true,
          "grade_id": "cell-e7858bb55bf086fb",
          "locked": true,
          "points": 1,
          "schema_version": 3,
          "solution": false,
          "task": false
        },
        "id": "YsFFk_if3LDM"
      },
      "outputs": [],
      "source": [
        "# Task 6 - Test\n",
        "assert food_frequency.shape == (5,), 'Check to make sure you merged correctly'\n"
      ]
    },
    {
      "cell_type": "markdown",
      "metadata": {
        "id": "X41OE6-13LDM"
      },
      "source": [
        "**Task 7** - Using `groupby()` and `mean()`\n",
        "\n",
        "In this next step, we're going to import one last CSV file and look at the time of day an order was made. Some of the code has been provided for you - your task is to complete the merging and look at the mean time of the top five orders.\n",
        "\n",
        "**Completed for you**\n",
        "* Imported `orders_sm.csv` as the DataFrame `orders`.\n",
        "* Merged `orders` and `final` into a DataFrame called `final_times` that only includes the top five foods.\n",
        "\n",
        "**Your tasks**\n",
        "* Use the `groupby()` and `mean()` functions to calculate the mean time each product was ordered (`order_hour_of_day`).\n",
        "* Name the results of your calculation `mean_hours`."
      ]
    },
    {
      "cell_type": "code",
      "source": [
        "final_time.columns"
      ],
      "metadata": {
        "colab": {
          "base_uri": "https://localhost:8080/"
        },
        "id": "MRvFgcJaL8VO",
        "outputId": "eb142bcc-bfae-48ec-d9da-2b24dd4804a4"
      },
      "execution_count": null,
      "outputs": [
        {
          "output_type": "execute_result",
          "data": {
            "text/plain": [
              "Index(['order_id', 'user_id', 'eval_set', 'order_number', 'order_dow',\n",
              "       'order_hour_of_day', 'days_since_prior_order', 'product_id',\n",
              "       'add_to_cart_order', 'reordered', 'product_name', 'aisle_id',\n",
              "       'department_id'],\n",
              "      dtype='object')"
            ]
          },
          "metadata": {},
          "execution_count": 55
        }
      ]
    },
    {
      "cell_type": "code",
      "source": [
        "final_time.head()"
      ],
      "metadata": {
        "colab": {
          "base_uri": "https://localhost:8080/",
          "height": 206
        },
        "id": "TaM_ZKhhM9_3",
        "outputId": "ba68a40f-9926-48b4-d2b0-fc5f3d6ab747"
      },
      "execution_count": null,
      "outputs": [
        {
          "output_type": "execute_result",
          "data": {
            "text/html": [
              "\n",
              "  <div id=\"df-eff74a86-f6ec-4594-b08b-dac51aeae0a8\">\n",
              "    <div class=\"colab-df-container\">\n",
              "      <div>\n",
              "<style scoped>\n",
              "    .dataframe tbody tr th:only-of-type {\n",
              "        vertical-align: middle;\n",
              "    }\n",
              "\n",
              "    .dataframe tbody tr th {\n",
              "        vertical-align: top;\n",
              "    }\n",
              "\n",
              "    .dataframe thead th {\n",
              "        text-align: right;\n",
              "    }\n",
              "</style>\n",
              "<table border=\"1\" class=\"dataframe\">\n",
              "  <thead>\n",
              "    <tr style=\"text-align: right;\">\n",
              "      <th></th>\n",
              "      <th>order_id</th>\n",
              "      <th>user_id</th>\n",
              "      <th>eval_set</th>\n",
              "      <th>order_number</th>\n",
              "      <th>order_dow</th>\n",
              "      <th>order_hour_of_day</th>\n",
              "      <th>days_since_prior_order</th>\n",
              "      <th>product_id</th>\n",
              "      <th>add_to_cart_order</th>\n",
              "      <th>reordered</th>\n",
              "      <th>product_name</th>\n",
              "      <th>aisle_id</th>\n",
              "      <th>department_id</th>\n",
              "    </tr>\n",
              "  </thead>\n",
              "  <tbody>\n",
              "    <tr>\n",
              "      <th>0</th>\n",
              "      <td>2469765</td>\n",
              "      <td>NaN</td>\n",
              "      <td>NaN</td>\n",
              "      <td>NaN</td>\n",
              "      <td>NaN</td>\n",
              "      <td>NaN</td>\n",
              "      <td>NaN</td>\n",
              "      <td>26209</td>\n",
              "      <td>11</td>\n",
              "      <td>0</td>\n",
              "      <td>Limes</td>\n",
              "      <td>24</td>\n",
              "      <td>4</td>\n",
              "    </tr>\n",
              "    <tr>\n",
              "      <th>1</th>\n",
              "      <td>2322104</td>\n",
              "      <td>NaN</td>\n",
              "      <td>NaN</td>\n",
              "      <td>NaN</td>\n",
              "      <td>NaN</td>\n",
              "      <td>NaN</td>\n",
              "      <td>NaN</td>\n",
              "      <td>26209</td>\n",
              "      <td>6</td>\n",
              "      <td>1</td>\n",
              "      <td>Limes</td>\n",
              "      <td>24</td>\n",
              "      <td>4</td>\n",
              "    </tr>\n",
              "    <tr>\n",
              "      <th>2</th>\n",
              "      <td>1297655</td>\n",
              "      <td>NaN</td>\n",
              "      <td>NaN</td>\n",
              "      <td>NaN</td>\n",
              "      <td>NaN</td>\n",
              "      <td>NaN</td>\n",
              "      <td>NaN</td>\n",
              "      <td>26209</td>\n",
              "      <td>15</td>\n",
              "      <td>1</td>\n",
              "      <td>Limes</td>\n",
              "      <td>24</td>\n",
              "      <td>4</td>\n",
              "    </tr>\n",
              "    <tr>\n",
              "      <th>3</th>\n",
              "      <td>1397335</td>\n",
              "      <td>NaN</td>\n",
              "      <td>NaN</td>\n",
              "      <td>NaN</td>\n",
              "      <td>NaN</td>\n",
              "      <td>NaN</td>\n",
              "      <td>NaN</td>\n",
              "      <td>26209</td>\n",
              "      <td>8</td>\n",
              "      <td>1</td>\n",
              "      <td>Limes</td>\n",
              "      <td>24</td>\n",
              "      <td>4</td>\n",
              "    </tr>\n",
              "    <tr>\n",
              "      <th>4</th>\n",
              "      <td>651387</td>\n",
              "      <td>NaN</td>\n",
              "      <td>NaN</td>\n",
              "      <td>NaN</td>\n",
              "      <td>NaN</td>\n",
              "      <td>NaN</td>\n",
              "      <td>NaN</td>\n",
              "      <td>26209</td>\n",
              "      <td>2</td>\n",
              "      <td>1</td>\n",
              "      <td>Limes</td>\n",
              "      <td>24</td>\n",
              "      <td>4</td>\n",
              "    </tr>\n",
              "  </tbody>\n",
              "</table>\n",
              "</div>\n",
              "      <button class=\"colab-df-convert\" onclick=\"convertToInteractive('df-eff74a86-f6ec-4594-b08b-dac51aeae0a8')\"\n",
              "              title=\"Convert this dataframe to an interactive table.\"\n",
              "              style=\"display:none;\">\n",
              "        \n",
              "  <svg xmlns=\"http://www.w3.org/2000/svg\" height=\"24px\"viewBox=\"0 0 24 24\"\n",
              "       width=\"24px\">\n",
              "    <path d=\"M0 0h24v24H0V0z\" fill=\"none\"/>\n",
              "    <path d=\"M18.56 5.44l.94 2.06.94-2.06 2.06-.94-2.06-.94-.94-2.06-.94 2.06-2.06.94zm-11 1L8.5 8.5l.94-2.06 2.06-.94-2.06-.94L8.5 2.5l-.94 2.06-2.06.94zm10 10l.94 2.06.94-2.06 2.06-.94-2.06-.94-.94-2.06-.94 2.06-2.06.94z\"/><path d=\"M17.41 7.96l-1.37-1.37c-.4-.4-.92-.59-1.43-.59-.52 0-1.04.2-1.43.59L10.3 9.45l-7.72 7.72c-.78.78-.78 2.05 0 2.83L4 21.41c.39.39.9.59 1.41.59.51 0 1.02-.2 1.41-.59l7.78-7.78 2.81-2.81c.8-.78.8-2.07 0-2.86zM5.41 20L4 18.59l7.72-7.72 1.47 1.35L5.41 20z\"/>\n",
              "  </svg>\n",
              "      </button>\n",
              "      \n",
              "  <style>\n",
              "    .colab-df-container {\n",
              "      display:flex;\n",
              "      flex-wrap:wrap;\n",
              "      gap: 12px;\n",
              "    }\n",
              "\n",
              "    .colab-df-convert {\n",
              "      background-color: #E8F0FE;\n",
              "      border: none;\n",
              "      border-radius: 50%;\n",
              "      cursor: pointer;\n",
              "      display: none;\n",
              "      fill: #1967D2;\n",
              "      height: 32px;\n",
              "      padding: 0 0 0 0;\n",
              "      width: 32px;\n",
              "    }\n",
              "\n",
              "    .colab-df-convert:hover {\n",
              "      background-color: #E2EBFA;\n",
              "      box-shadow: 0px 1px 2px rgba(60, 64, 67, 0.3), 0px 1px 3px 1px rgba(60, 64, 67, 0.15);\n",
              "      fill: #174EA6;\n",
              "    }\n",
              "\n",
              "    [theme=dark] .colab-df-convert {\n",
              "      background-color: #3B4455;\n",
              "      fill: #D2E3FC;\n",
              "    }\n",
              "\n",
              "    [theme=dark] .colab-df-convert:hover {\n",
              "      background-color: #434B5C;\n",
              "      box-shadow: 0px 1px 3px 1px rgba(0, 0, 0, 0.15);\n",
              "      filter: drop-shadow(0px 1px 2px rgba(0, 0, 0, 0.3));\n",
              "      fill: #FFFFFF;\n",
              "    }\n",
              "  </style>\n",
              "\n",
              "      <script>\n",
              "        const buttonEl =\n",
              "          document.querySelector('#df-eff74a86-f6ec-4594-b08b-dac51aeae0a8 button.colab-df-convert');\n",
              "        buttonEl.style.display =\n",
              "          google.colab.kernel.accessAllowed ? 'block' : 'none';\n",
              "\n",
              "        async function convertToInteractive(key) {\n",
              "          const element = document.querySelector('#df-eff74a86-f6ec-4594-b08b-dac51aeae0a8');\n",
              "          const dataTable =\n",
              "            await google.colab.kernel.invokeFunction('convertToInteractive',\n",
              "                                                     [key], {});\n",
              "          if (!dataTable) return;\n",
              "\n",
              "          const docLinkHtml = 'Like what you see? Visit the ' +\n",
              "            '<a target=\"_blank\" href=https://colab.research.google.com/notebooks/data_table.ipynb>data table notebook</a>'\n",
              "            + ' to learn more about interactive tables.';\n",
              "          element.innerHTML = '';\n",
              "          dataTable['output_type'] = 'display_data';\n",
              "          await google.colab.output.renderOutput(dataTable, element);\n",
              "          const docLink = document.createElement('div');\n",
              "          docLink.innerHTML = docLinkHtml;\n",
              "          element.appendChild(docLink);\n",
              "        }\n",
              "      </script>\n",
              "    </div>\n",
              "  </div>\n",
              "  "
            ],
            "text/plain": [
              "   order_id  user_id eval_set  ...  product_name  aisle_id  department_id\n",
              "0   2469765      NaN      NaN  ...         Limes        24              4\n",
              "1   2322104      NaN      NaN  ...         Limes        24              4\n",
              "2   1297655      NaN      NaN  ...         Limes        24              4\n",
              "3   1397335      NaN      NaN  ...         Limes        24              4\n",
              "4    651387      NaN      NaN  ...         Limes        24              4\n",
              "\n",
              "[5 rows x 13 columns]"
            ]
          },
          "metadata": {},
          "execution_count": 68
        }
      ]
    },
    {
      "cell_type": "code",
      "execution_count": null,
      "metadata": {
        "deletable": false,
        "nbgrader": {
          "cell_type": "code",
          "checksum": "e565b0d1cb4827ce5d2d262839135392",
          "grade": false,
          "grade_id": "cell-8932129638b4d019",
          "locked": false,
          "schema_version": 3,
          "solution": true,
          "task": false
        },
        "id": "Zyi1CEDc3LDM",
        "colab": {
          "base_uri": "https://localhost:8080/"
        },
        "outputId": "4be23373-0f47-4015-b3d7-508ef3ccc376"
      },
      "outputs": [
        {
          "output_type": "execute_result",
          "data": {
            "text/plain": [
              "product_name\n",
              "Bag of Organic Bananas    13.200000\n",
              "Large Lemon               16.000000\n",
              "Limes                     10.333333\n",
              "Organic Avocado           17.500000\n",
              "Organic Baby Spinach      14.500000\n",
              "Name: order_hour_of_day, dtype: float64"
            ]
          },
          "metadata": {},
          "execution_count": 13
        }
      ],
      "source": [
        "# Task 7\n",
        "\n",
        "# COMPLETED FOR YOU\n",
        "# Import orders.csv and name the DataFrame orders\n",
        "data_url4 = 'https://raw.githubusercontent.com/LambdaSchool/data-science-practice-datasets/main/unit_1/Instacart_small/orders_sm.csv'\n",
        "orders = pd.read_csv(data_url4)\n",
        "# Merge orders and final into the DataFrame final_time\n",
        "final_time = pd.merge(orders, final, on='order_id', how='right')\n",
        "\n",
        "# Use groupby() and mean() to calculate the mean time each product was ordered\n",
        "\n",
        "# YOUR CODE HERE\n",
        "mean_hours= final_time.groupby(by= 'product_name')['order_hour_of_day'].mean()\n",
        "\n",
        "# View your results\n",
        "mean_hours.head()\n"
      ]
    },
    {
      "cell_type": "code",
      "source": [
        "mean_hours.shape"
      ],
      "metadata": {
        "colab": {
          "base_uri": "https://localhost:8080/"
        },
        "id": "hMbd4-veMZk7",
        "outputId": "b3c1b792-b749-4362-f735-d67314598336"
      },
      "execution_count": null,
      "outputs": [
        {
          "output_type": "execute_result",
          "data": {
            "text/plain": [
              "(1668,)"
            ]
          },
          "metadata": {},
          "execution_count": 72
        }
      ]
    },
    {
      "cell_type": "code",
      "execution_count": null,
      "metadata": {
        "deletable": false,
        "editable": false,
        "nbgrader": {
          "cell_type": "code",
          "checksum": "aa171a08346bc03c81694b5514f1ab2a",
          "grade": true,
          "grade_id": "cell-22190fff81957bb7",
          "locked": true,
          "points": 1,
          "schema_version": 3,
          "solution": false,
          "task": false
        },
        "id": "vTse8dU_3LDM"
      },
      "outputs": [],
      "source": [
        "# Task 7 - Test\n",
        "assert mean_hours.shape == (5,), 'Check to make sure you merged correctly'\n"
      ]
    },
    {
      "cell_type": "markdown",
      "metadata": {
        "id": "tZv0XGC_3LDM"
      },
      "source": [
        "**Task 8** - Mean order time\n",
        "\n",
        "Using the results from above, determine the mean order time for two of the top five items: \"Limes\" and \"Organic Baby Spinach\"\n",
        "\n",
        "* Find the mean order time for \"Limes\" and assign it to the variable `time_limes`. Your answer should be a float defined to one decimal place.\n",
        "* Find the mean order time for \"Organic Baby Spinach\" and assign it to the variable `time_spinach`. You answer should be a float defined to one decimal place."
      ]
    },
    {
      "cell_type": "code",
      "execution_count": null,
      "metadata": {
        "deletable": false,
        "nbgrader": {
          "cell_type": "code",
          "checksum": "710e71f05c3f22a2dda049a7f398d590",
          "grade": false,
          "grade_id": "cell-b160e1511b2388db",
          "locked": false,
          "schema_version": 3,
          "solution": true,
          "task": false
        },
        "id": "By44h1KF3LDN"
      },
      "outputs": [],
      "source": [
        "# Task 8\n",
        "\n",
        "# YOUR CODE HERE\n",
        "time_limes= round(final_time.groupby(by= 'product_name')['order_hour_of_day'].mean()[2], 1) \n",
        "time_spinach= round(final_time.groupby(by= 'product_name')['order_hour_of_day'].mean()[4], 1)"
      ]
    },
    {
      "cell_type": "markdown",
      "metadata": {
        "id": "KgUoZCR_3LDN"
      },
      "source": [
        "**Task 8 Test**"
      ]
    },
    {
      "cell_type": "code",
      "execution_count": null,
      "metadata": {
        "deletable": false,
        "editable": false,
        "nbgrader": {
          "cell_type": "code",
          "checksum": "03f2008f561ced4f894cd38f52633ab2",
          "grade": true,
          "grade_id": "cell-c138ab110b2bcf90",
          "locked": true,
          "points": 1,
          "schema_version": 3,
          "solution": false,
          "task": false
        },
        "id": "ACYH_Adh3LDN"
      },
      "outputs": [],
      "source": [
        "# Task 8 - Test\n"
      ]
    },
    {
      "cell_type": "code",
      "execution_count": null,
      "metadata": {
        "id": "AtHG3keO3LDN"
      },
      "outputs": [],
      "source": []
    }
  ],
  "metadata": {
    "kernelspec": {
      "display_name": "Python 3",
      "language": "python",
      "name": "python3"
    },
    "language_info": {
      "codemirror_mode": {
        "name": "ipython",
        "version": 3
      },
      "file_extension": ".py",
      "mimetype": "text/x-python",
      "name": "python",
      "nbconvert_exporter": "python",
      "pygments_lexer": "ipython3",
      "version": "3.8.8"
    },
    "colab": {
      "provenance": []
    }
  },
  "nbformat": 4,
  "nbformat_minor": 0
}