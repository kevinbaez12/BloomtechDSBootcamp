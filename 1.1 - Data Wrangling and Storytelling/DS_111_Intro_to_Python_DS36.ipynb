{
  "cells": [
    {
      "cell_type": "markdown",
      "id": "1adef5c8",
      "metadata": {
        "id": "1adef5c8"
      },
      "source": [
        "\n",
        "# Introduction to Python"
      ]
    },
    {
      "cell_type": "markdown",
      "id": "8c9755c2",
      "metadata": {
        "id": "8c9755c2"
      },
      "source": [
        "> - Objective 01 - Submit Assignments and Save Work via Canvas\n",
        "> - Objective 02 - Working with Canvas, Colab, and Class Tools\n",
        "> - Objective 03 - Determine and describe Python datatypes\n",
        "> - Objective 04 - Understand Python Syntax, Loops and Conditionals\n",
        "\n"
      ]
    },
    {
      "cell_type": "markdown",
      "id": "40f820a3",
      "metadata": {
        "id": "40f820a3"
      },
      "source": [
        "# Working with Canvas and Colab"
      ]
    },
    {
      "cell_type": "markdown",
      "id": "4904bfd2",
      "metadata": {
        "id": "4904bfd2"
      },
      "source": [
        "## Overview\n",
        "\n",
        "We will use Canvas, Colab and CodeGrade to work on, submit and evaluate projects.\n",
        "\n",
        "**Canvas** is a learning management system you that provides extra information you can use to help prepare for Guided Projects and as a resource when you are working on your individual sproject each afternoon.  \n",
        "\n",
        "**GitHub** is where the notebook for your Module Project is located. \n",
        "\n",
        "**Colab** (where you are right now) is the web-based notebook we will use for working on guided and module projects and sprint challenges.\n",
        "\n",
        "**CodeGrade** is the system that will evaluate your module projects and all your Sprint Challenges.\n",
        "\n",
        "**You will  access to and submit your module projects and sprint challenges in Canvas.**"
      ]
    },
    {
      "cell_type": "markdown",
      "id": "2719bccc",
      "metadata": {
        "id": "2719bccc"
      },
      "source": [
        "### 1) Open Canvas and navigate to the course for the sprint we are currently in.\n",
        "\n",
        "In this case, it is **Introduction to Python DS1.1 DSXX** where XX is your cohort number.\n",
        "\n",
        "\n",
        "The course will automatically open to the Overview page were you can take a look at all of the concepts we'll be covering throughout the Sprint.  Click on the links to see what will be covered in each module.\n",
        "\n",
        "When you click on Modules on the left hand side, you'll see content for each module divided into three sections:\n",
        "* Warmup is an intro to what will be covered during Guided Project\n",
        "* Engage is where you'll see the module project, the check for understanding, and pulse check.\n",
        "* Review is where you can find links to previous class recordings."
      ]
    },
    {
      "cell_type": "markdown",
      "id": "37eb5477",
      "metadata": {
        "id": "37eb5477"
      },
      "source": [
        "### 2) How to access the Guided and Module Project from Canvas:\n",
        "\n",
        "Under **Engage** in Canvas, click on the **Module # Project** link. This will direct you to Github. \n",
        "\n",
        "The files that we will be working with primarily during the course have the file extension: .ipynb for \"IPython Notebook\" any of these are notebooks that we can open in Google Colab or Jupyter Notebook.\n",
        "\n",
        "You will find all lecture materials and your daily assignments in the Github repositories. "
      ]
    },
    {
      "cell_type": "markdown",
      "id": "f04cf99d",
      "metadata": {
        "id": "f04cf99d"
      },
      "source": [
        "### 3) Install the following Google Chrome extension. This will open any .ipynb file from GitHub directly in Google Colab: \n",
        "\n",
        "[Google Chrome Extension to Open .ipynb files easily in Google Colab](https://chrome.google.com/webstore/detail/open-in-colab/iogfkhleblhcpcekbiedikdehleodpjo?hl=en)\n",
        "\n",
        "When open in in Google Colab, go to **File** --> **\"Save a Copy in Drive\"**"
      ]
    },
    {
      "cell_type": "markdown",
      "id": "78ff3be5",
      "metadata": {
        "id": "78ff3be5"
      },
      "source": [
        "### 4) Upload your daily project to CodeGrade\n",
        "Under **Module Project**, click **Load Module Project in a new window** to submit your work. "
      ]
    },
    {
      "cell_type": "markdown",
      "id": "21164afa",
      "metadata": {
        "id": "21164afa"
      },
      "source": [
        "# What is Python?"
      ]
    },
    {
      "cell_type": "markdown",
      "id": "ed02dbf4",
      "metadata": {
        "id": "ed02dbf4"
      },
      "source": [
        "From the [source](https://www.python.org/doc/essays/blurb/):\n",
        "\n",
        "\"Python is an interpreted, object-oriented, high-level programming language with dynamic semantics. Its high-level built-in data structures, combined with dynamic typing and dynamic binding, make it very attractive for Rapid Application Development, as well as for use as a scripting or glue language to connect existing components together. Python's simple, easy to learn syntax emphasizes readability and therefore reduces the cost of program maintenance. Python supports modules and packages, which encourages program modularity and code reuse. The Python interpreter and the extensive standard library are available in source or binary form without charge for all major platforms, and can be freely distributed.\"\n"
      ]
    },
    {
      "cell_type": "markdown",
      "id": "db87a2de",
      "metadata": {
        "id": "db87a2de"
      },
      "source": [
        "# Python and Notebooks (Colab or Jupyter) \n",
        "\n",
        "We will be using Colab for Unit 1. Colab is a Jupyter Notebook environment that runs on the cloud and stores files in your Google Drive. "
      ]
    },
    {
      "cell_type": "code",
      "execution_count": null,
      "id": "5b65aca3",
      "metadata": {
        "id": "5b65aca3",
        "colab": {
          "base_uri": "https://localhost:8080/",
          "height": 35
        },
        "outputId": "90752282-953a-4e77-ad4c-822d43e28174"
      },
      "outputs": [
        {
          "output_type": "execute_result",
          "data": {
            "application/vnd.google.colaboratory.intrinsic+json": {
              "type": "string"
            },
            "text/plain": [
              "'Hello'"
            ]
          },
          "metadata": {},
          "execution_count": 2
        }
      ],
      "source": [
        "#run the following cell by clicking on the play button next to this text\n",
        "\"Hello\""
      ]
    },
    {
      "cell_type": "code",
      "execution_count": null,
      "id": "6997ad18",
      "metadata": {
        "id": "6997ad18",
        "colab": {
          "base_uri": "https://localhost:8080/"
        },
        "outputId": "53e1018c-55bb-4df1-e7b6-69db79903c1c"
      },
      "outputs": [
        {
          "output_type": "execute_result",
          "data": {
            "text/plain": [
              "4"
            ]
          },
          "metadata": {},
          "execution_count": 3
        }
      ],
      "source": [
        "#run the following cell by clicking Shift + Return\n",
        "2+2"
      ]
    },
    {
      "cell_type": "markdown",
      "id": "495fe2fe",
      "metadata": {
        "id": "495fe2fe"
      },
      "source": [
        "## Embrace the keyboard shortcuts: \n",
        "- Press 'esc' to enter navigation mode. \n",
        "- The keys 'a' and 'b' create code cells above and below your current cell when in navigation mode. \n",
        "- Click on the 'Tools' tab above to see additional short-cuts.\n",
        "- It's okay to use your mouse. You'll learn to code like a speedster with practice!"
      ]
    },
    {
      "cell_type": "markdown",
      "id": "95419091",
      "metadata": {
        "id": "95419091"
      },
      "source": [
        "## What is a Python Object? "
      ]
    },
    {
      "cell_type": "code",
      "execution_count": null,
      "id": "38d0c5e2",
      "metadata": {
        "id": "38d0c5e2",
        "colab": {
          "base_uri": "https://localhost:8080/"
        },
        "outputId": "03a6491c-6cd9-4d47-952f-8f773895b2a7"
      },
      "outputs": [
        {
          "output_type": "execute_result",
          "data": {
            "text/plain": [
              "2"
            ]
          },
          "metadata": {},
          "execution_count": 6
        }
      ],
      "source": [
        "x = 2\n",
        "x"
      ]
    },
    {
      "cell_type": "markdown",
      "source": [],
      "metadata": {
        "id": "1hmGkMvpVm8Z"
      },
      "id": "1hmGkMvpVm8Z"
    },
    {
      "cell_type": "code",
      "execution_count": null,
      "id": "29138b15",
      "metadata": {
        "id": "29138b15"
      },
      "outputs": [],
      "source": [
        "y = 7"
      ]
    },
    {
      "cell_type": "code",
      "execution_count": null,
      "id": "895a1d1a",
      "metadata": {
        "id": "895a1d1a",
        "colab": {
          "base_uri": "https://localhost:8080/"
        },
        "outputId": "324b4ff8-f744-4ef3-b2ac-fbf1c633f4e8"
      },
      "outputs": [
        {
          "output_type": "execute_result",
          "data": {
            "text/plain": [
              "9"
            ]
          },
          "metadata": {},
          "execution_count": 8
        }
      ],
      "source": [
        "x + y\n"
      ]
    },
    {
      "cell_type": "code",
      "execution_count": null,
      "id": "5f26f117",
      "metadata": {
        "id": "5f26f117",
        "colab": {
          "base_uri": "https://localhost:8080/"
        },
        "outputId": "76f05e77-dc3b-4986-85c4-3ce9b1440c37"
      },
      "outputs": [
        {
          "output_type": "execute_result",
          "data": {
            "text/plain": [
              "int"
            ]
          },
          "metadata": {},
          "execution_count": 10
        }
      ],
      "source": [
        "#What are built-in functions? \n",
        "type(x)"
      ]
    },
    {
      "cell_type": "code",
      "execution_count": null,
      "id": "a35187dd",
      "metadata": {
        "id": "a35187dd",
        "colab": {
          "base_uri": "https://localhost:8080/"
        },
        "outputId": "d2f4fd5c-a530-446e-e2b6-60581c33b7a6"
      },
      "outputs": [
        {
          "output_type": "stream",
          "name": "stdout",
          "text": [
            "Hello World\n"
          ]
        },
        {
          "output_type": "execute_result",
          "data": {
            "text/plain": [
              "2"
            ]
          },
          "metadata": {},
          "execution_count": 15
        }
      ],
      "source": [
        "#The print statement?\n",
        "print(\"Hello World\")\n",
        "\n",
        "#Difference between output and print statement.\n",
        "y\n",
        "x\n",
        "#What happens when you include a print statement next to the y object? "
      ]
    },
    {
      "cell_type": "code",
      "execution_count": null,
      "id": "18c4971c",
      "metadata": {
        "id": "18c4971c"
      },
      "outputs": [],
      "source": []
    },
    {
      "cell_type": "markdown",
      "id": "1004e67f",
      "metadata": {
        "id": "1004e67f"
      },
      "source": [
        "## Operators"
      ]
    },
    {
      "cell_type": "code",
      "execution_count": null,
      "id": "07abe276",
      "metadata": {
        "id": "07abe276",
        "colab": {
          "base_uri": "https://localhost:8080/"
        },
        "outputId": "f33cf3b7-ce79-498d-a55b-de43997d971c"
      },
      "outputs": [
        {
          "output_type": "execute_result",
          "data": {
            "text/plain": [
              "9"
            ]
          },
          "metadata": {},
          "execution_count": 16
        }
      ],
      "source": [
        "#+ \n",
        "x + y"
      ]
    },
    {
      "cell_type": "code",
      "execution_count": null,
      "id": "06bd8490",
      "metadata": {
        "id": "06bd8490",
        "colab": {
          "base_uri": "https://localhost:8080/"
        },
        "outputId": "edaa91b5-c1dd-4df6-ef58-adf9db4e9c05"
      },
      "outputs": [
        {
          "output_type": "execute_result",
          "data": {
            "text/plain": [
              "-5"
            ]
          },
          "metadata": {},
          "execution_count": 17
        }
      ],
      "source": [
        "#- \n",
        "x - y"
      ]
    },
    {
      "cell_type": "code",
      "execution_count": null,
      "id": "340c0445",
      "metadata": {
        "id": "340c0445",
        "colab": {
          "base_uri": "https://localhost:8080/"
        },
        "outputId": "affb9a9b-1552-4031-f77d-d9ba4019091c"
      },
      "outputs": [
        {
          "output_type": "execute_result",
          "data": {
            "text/plain": [
              "14"
            ]
          },
          "metadata": {},
          "execution_count": 18
        }
      ],
      "source": [
        "\n",
        "#* \n",
        "x * y"
      ]
    },
    {
      "cell_type": "code",
      "execution_count": null,
      "id": "048c8c4f",
      "metadata": {
        "id": "048c8c4f",
        "colab": {
          "base_uri": "https://localhost:8080/"
        },
        "outputId": "b94d5f89-473c-41a7-f853-d386703281c7"
      },
      "outputs": [
        {
          "output_type": "execute_result",
          "data": {
            "text/plain": [
              "0.2857142857142857"
            ]
          },
          "metadata": {},
          "execution_count": 21
        }
      ],
      "source": [
        "\n",
        "#/ \n",
        "x / y"
      ]
    },
    {
      "cell_type": "code",
      "execution_count": null,
      "id": "4c0b8762",
      "metadata": {
        "id": "4c0b8762",
        "colab": {
          "base_uri": "https://localhost:8080/"
        },
        "outputId": "76ccefbb-452e-4f17-867a-9b5a43042104"
      },
      "outputs": [
        {
          "output_type": "execute_result",
          "data": {
            "text/plain": [
              "49"
            ]
          },
          "metadata": {},
          "execution_count": 23
        }
      ],
      "source": [
        "\n",
        "# **\n",
        "y**2"
      ]
    },
    {
      "cell_type": "code",
      "execution_count": null,
      "id": "c75db545",
      "metadata": {
        "id": "c75db545",
        "colab": {
          "base_uri": "https://localhost:8080/"
        },
        "outputId": "612513ce-6e8c-46ed-c12e-2e69dc72e945"
      },
      "outputs": [
        {
          "output_type": "execute_result",
          "data": {
            "text/plain": [
              "2"
            ]
          },
          "metadata": {},
          "execution_count": 25
        }
      ],
      "source": [
        "#// \n",
        "y//3 "
      ]
    },
    {
      "cell_type": "code",
      "execution_count": null,
      "id": "72272e4f",
      "metadata": {
        "id": "72272e4f",
        "colab": {
          "base_uri": "https://localhost:8080/"
        },
        "outputId": "33f56cb4-2cf7-41ce-9ca0-02aa1239d23e"
      },
      "outputs": [
        {
          "output_type": "execute_result",
          "data": {
            "text/plain": [
              "1"
            ]
          },
          "metadata": {},
          "execution_count": 26
        }
      ],
      "source": [
        "\n",
        "#%\n",
        "\n",
        "y % 2"
      ]
    },
    {
      "cell_type": "markdown",
      "id": "a716ff76",
      "metadata": {
        "id": "a716ff76"
      },
      "source": [
        "## Booleans"
      ]
    },
    {
      "cell_type": "code",
      "execution_count": null,
      "id": "f0072660",
      "metadata": {
        "id": "f0072660",
        "colab": {
          "base_uri": "https://localhost:8080/"
        },
        "outputId": "315d2df4-bae0-4e54-b0b3-394030b5e3a1"
      },
      "outputs": [
        {
          "output_type": "stream",
          "name": "stdout",
          "text": [
            "False\n",
            "True\n",
            "True\n",
            "True\n",
            "False\n"
          ]
        }
      ],
      "source": [
        "print(y == 2)\n",
        "print(x == 2)\n",
        "\n",
        "print(y >= 6 and y < 8)\n",
        "print(y > 6 or y > 8)\n",
        "print(y > 6 and y > 8)"
      ]
    },
    {
      "cell_type": "markdown",
      "id": "c86409be",
      "metadata": {
        "id": "c86409be"
      },
      "source": [
        "## Error Codes\n",
        "(...or How I learned to love my mistakes)"
      ]
    },
    {
      "cell_type": "code",
      "execution_count": null,
      "id": "85c73a82",
      "metadata": {
        "id": "85c73a82",
        "colab": {
          "base_uri": "https://localhost:8080/",
          "height": 35
        },
        "outputId": "bdaa2bcd-6b5f-4f98-cf19-eb258907843b"
      },
      "outputs": [
        {
          "output_type": "execute_result",
          "data": {
            "application/vnd.google.colaboratory.intrinsic+json": {
              "type": "string"
            },
            "text/plain": [
              "'the number three'"
            ]
          },
          "metadata": {},
          "execution_count": 37
        }
      ],
      "source": [
        "z = 'the number three'\n",
        "z"
      ]
    },
    {
      "cell_type": "code",
      "execution_count": null,
      "id": "a04ac3b8",
      "metadata": {
        "id": "a04ac3b8",
        "colab": {
          "base_uri": "https://localhost:8080/"
        },
        "outputId": "70b187a8-3dbd-41f5-a416-1c35dbdcc906"
      },
      "outputs": [
        {
          "output_type": "execute_result",
          "data": {
            "text/plain": [
              "str"
            ]
          },
          "metadata": {},
          "execution_count": 38
        }
      ],
      "source": [
        "type(z)"
      ]
    },
    {
      "cell_type": "code",
      "execution_count": null,
      "id": "565b2c8b",
      "metadata": {
        "id": "565b2c8b",
        "colab": {
          "base_uri": "https://localhost:8080/",
          "height": 201
        },
        "outputId": "dbfb0b5a-c4f4-4853-be8b-4b6390752bd9"
      },
      "outputs": [
        {
          "output_type": "error",
          "ename": "TypeError",
          "evalue": "ignored",
          "traceback": [
            "\u001b[0;31m---------------------------------------------------------------------------\u001b[0m",
            "\u001b[0;31mTypeError\u001b[0m                                 Traceback (most recent call last)",
            "\u001b[0;32m<ipython-input-40-1f9c6ba9476f>\u001b[0m in \u001b[0;36m<module>\u001b[0;34m()\u001b[0m\n\u001b[1;32m      1\u001b[0m \u001b[0;31m#You're gonna get a lot of errors while you're learning to code, and that's okay!\u001b[0m\u001b[0;34m\u001b[0m\u001b[0;34m\u001b[0m\u001b[0;34m\u001b[0m\u001b[0m\n\u001b[0;32m----> 2\u001b[0;31m \u001b[0mx\u001b[0m \u001b[0;34m+\u001b[0m \u001b[0mz\u001b[0m\u001b[0;34m\u001b[0m\u001b[0;34m\u001b[0m\u001b[0m\n\u001b[0m\u001b[1;32m      3\u001b[0m \u001b[0;32mpass\u001b[0m\u001b[0;34m\u001b[0m\u001b[0;34m\u001b[0m\u001b[0m\n",
            "\u001b[0;31mTypeError\u001b[0m: unsupported operand type(s) for +: 'int' and 'str'"
          ]
        }
      ],
      "source": [
        "#You're gonna get a lot of errors while you're learning to code, and that's okay!\n",
        "x + z\n"
      ]
    },
    {
      "cell_type": "code",
      "execution_count": null,
      "id": "3db0dd1b",
      "metadata": {
        "id": "3db0dd1b",
        "colab": {
          "base_uri": "https://localhost:8080/",
          "height": 131
        },
        "outputId": "89dc46bd-fddd-4d52-bb76-47722517084a"
      },
      "outputs": [
        {
          "output_type": "error",
          "ename": "SyntaxError",
          "evalue": "ignored",
          "traceback": [
            "\u001b[0;36m  File \u001b[0;32m\"<ipython-input-41-6e05c8d4d8c7>\"\u001b[0;36m, line \u001b[0;32m1\u001b[0m\n\u001b[0;31m    ((x + y)\u001b[0m\n\u001b[0m            ^\u001b[0m\n\u001b[0;31mSyntaxError\u001b[0m\u001b[0;31m:\u001b[0m unexpected EOF while parsing\n"
          ]
        }
      ],
      "source": [
        "((x + y)"
      ]
    },
    {
      "cell_type": "code",
      "execution_count": null,
      "id": "81a376f6",
      "metadata": {
        "id": "81a376f6",
        "colab": {
          "base_uri": "https://localhost:8080/",
          "height": 165
        },
        "outputId": "ad4abcea-ce02-4103-dc97-bf7d202cc3a0"
      },
      "outputs": [
        {
          "output_type": "error",
          "ename": "NameError",
          "evalue": "ignored",
          "traceback": [
            "\u001b[0;31m---------------------------------------------------------------------------\u001b[0m",
            "\u001b[0;31mNameError\u001b[0m                                 Traceback (most recent call last)",
            "\u001b[0;32m<ipython-input-42-00cf07b74dcd>\u001b[0m in \u001b[0;36m<module>\u001b[0;34m()\u001b[0m\n\u001b[0;32m----> 1\u001b[0;31m \u001b[0mdf\u001b[0m\u001b[0;34m\u001b[0m\u001b[0;34m\u001b[0m\u001b[0m\n\u001b[0m",
            "\u001b[0;31mNameError\u001b[0m: name 'df' is not defined"
          ]
        }
      ],
      "source": [
        "df"
      ]
    },
    {
      "cell_type": "markdown",
      "id": "6b4466bd",
      "metadata": {
        "id": "6b4466bd"
      },
      "source": [
        "## Data Types"
      ]
    },
    {
      "cell_type": "code",
      "execution_count": null,
      "id": "b5c6826e",
      "metadata": {
        "id": "b5c6826e",
        "colab": {
          "base_uri": "https://localhost:8080/",
          "height": 35
        },
        "outputId": "75887604-6a4f-4aed-ac5e-41aaa23565e5"
      },
      "outputs": [
        {
          "output_type": "execute_result",
          "data": {
            "application/vnd.google.colaboratory.intrinsic+json": {
              "type": "string"
            },
            "text/plain": [
              "'Hello World'"
            ]
          },
          "metadata": {},
          "execution_count": 44
        }
      ],
      "source": [
        "#integers\n",
        "12\n",
        "#floats\n",
        "12.42\n",
        "#strings\n",
        "\"Hello World\""
      ]
    },
    {
      "cell_type": "markdown",
      "id": "4c9a120c",
      "metadata": {
        "id": "4c9a120c"
      },
      "source": [
        "#### Lists\n",
        "Used to store multiple items in a single variable. List items are ordered (indexed), changeable, and allow duplicate values. "
      ]
    },
    {
      "cell_type": "code",
      "execution_count": null,
      "id": "616b951a",
      "metadata": {
        "id": "616b951a",
        "colab": {
          "base_uri": "https://localhost:8080/"
        },
        "outputId": "f69cf71f-f55d-4700-d6e4-271acf5e2be4"
      },
      "outputs": [
        {
          "output_type": "execute_result",
          "data": {
            "text/plain": [
              "['fall', 'winter', 'summer', 'spring']"
            ]
          },
          "metadata": {},
          "execution_count": 73
        }
      ],
      "source": [
        "season_list = ['fall', 'winter', 'summer', 'spring']\n",
        "season_list"
      ]
    },
    {
      "cell_type": "code",
      "execution_count": null,
      "id": "b4c68f7d",
      "metadata": {
        "id": "b4c68f7d",
        "colab": {
          "base_uri": "https://localhost:8080/"
        },
        "outputId": "ab6d89ff-1a3b-46f2-d0b6-f5a5242379a4"
      },
      "outputs": [
        {
          "output_type": "execute_result",
          "data": {
            "text/plain": [
              "['fall', 'winter', 'summer', 'spring', 'spring']"
            ]
          },
          "metadata": {},
          "execution_count": 74
        }
      ],
      "source": [
        "season_list = ['fall', 'winter', 'summer', 'spring', 'spring']\n",
        "season_list"
      ]
    },
    {
      "cell_type": "markdown",
      "id": "1ab4a2f1",
      "metadata": {
        "id": "1ab4a2f1"
      },
      "source": [
        "#### Sets\n",
        "Sets are unordered, unchangeable and unindexed. "
      ]
    },
    {
      "cell_type": "code",
      "execution_count": null,
      "id": "f52fc965",
      "metadata": {
        "id": "f52fc965",
        "colab": {
          "base_uri": "https://localhost:8080/"
        },
        "outputId": "4ffecbf6-1709-4bf5-f936-b8e69f91bbf7"
      },
      "outputs": [
        {
          "output_type": "execute_result",
          "data": {
            "text/plain": [
              "{'fall', 'spring', 'summer', 'winter'}"
            ]
          },
          "metadata": {},
          "execution_count": 49
        }
      ],
      "source": [
        "season_set = {'fall', 'winter', 'summer', 'spring'}\n",
        "season_set"
      ]
    },
    {
      "cell_type": "code",
      "execution_count": null,
      "id": "11e5c146",
      "metadata": {
        "id": "11e5c146",
        "colab": {
          "base_uri": "https://localhost:8080/"
        },
        "outputId": "76a7f263-5b1e-44bc-d832-d076f915f1ae"
      },
      "outputs": [
        {
          "output_type": "execute_result",
          "data": {
            "text/plain": [
              "{'fall', 'spring', 'summer', 'winter'}"
            ]
          },
          "metadata": {},
          "execution_count": 50
        }
      ],
      "source": [
        "season_set = {'summer', 'fall', 'winter',  'spring', 'spring'}\n",
        "\n",
        "season_set"
      ]
    },
    {
      "cell_type": "markdown",
      "id": "147b257b",
      "metadata": {
        "id": "147b257b"
      },
      "source": [
        "#### Tuples\n",
        "Tuple items are ordered, unchangeable, and allow duplicate values."
      ]
    },
    {
      "cell_type": "code",
      "execution_count": null,
      "id": "5c5b06a3",
      "metadata": {
        "id": "5c5b06a3",
        "colab": {
          "base_uri": "https://localhost:8080/"
        },
        "outputId": "5d16b620-9843-4cc5-db85-4949957b5245"
      },
      "outputs": [
        {
          "output_type": "execute_result",
          "data": {
            "text/plain": [
              "('fall', 'winter', 'summer', 'spring', 'spring')"
            ]
          },
          "metadata": {},
          "execution_count": 51
        }
      ],
      "source": [
        "season_tuple = ('fall', 'winter', 'summer', 'spring', 'spring')\n",
        "season_tuple"
      ]
    },
    {
      "cell_type": "code",
      "execution_count": null,
      "id": "bb93a8fa",
      "metadata": {
        "id": "bb93a8fa",
        "colab": {
          "base_uri": "https://localhost:8080/"
        },
        "outputId": "9a3fe1ea-f0e6-4148-ed7b-8159cbc848d5"
      },
      "outputs": [
        {
          "output_type": "execute_result",
          "data": {
            "text/plain": [
              "2"
            ]
          },
          "metadata": {},
          "execution_count": 54
        }
      ],
      "source": [
        "season_tuple.count('spring')"
      ]
    },
    {
      "cell_type": "markdown",
      "id": "fc042d03",
      "metadata": {
        "id": "fc042d03"
      },
      "source": [
        "**Tuple Unpacking**"
      ]
    },
    {
      "cell_type": "code",
      "execution_count": null,
      "id": "626ac6d1",
      "metadata": {
        "id": "626ac6d1",
        "colab": {
          "base_uri": "https://localhost:8080/",
          "height": 35
        },
        "outputId": "75fc6908-1f48-4cb5-b83d-41a06b7dd89d"
      },
      "outputs": [
        {
          "output_type": "execute_result",
          "data": {
            "application/vnd.google.colaboratory.intrinsic+json": {
              "type": "string"
            },
            "text/plain": [
              "'summer'"
            ]
          },
          "metadata": {},
          "execution_count": 56
        }
      ],
      "source": [
        "season1, season2, season3, season4, season5 = season_tuple\n",
        "season3"
      ]
    },
    {
      "cell_type": "markdown",
      "id": "a15eddf3",
      "metadata": {
        "id": "a15eddf3"
      },
      "source": [
        "#### Dictionaries\n",
        "\n",
        "Dictionaries store values in key:value pairs. The are ordered, changeable and do not allow duplicates."
      ]
    },
    {
      "cell_type": "code",
      "execution_count": null,
      "id": "ef36c64f",
      "metadata": {
        "id": "ef36c64f",
        "colab": {
          "base_uri": "https://localhost:8080/"
        },
        "outputId": "3093a1c7-d65a-49ae-d623-33d1227f6cde"
      },
      "outputs": [
        {
          "output_type": "execute_result",
          "data": {
            "text/plain": [
              "{'fall': 'colorful', 'summer': 'hot', 'winter': 'cold'}"
            ]
          },
          "metadata": {},
          "execution_count": 57
        }
      ],
      "source": [
        "\n",
        "season_dict = {\"winter\" : 'cold', 'summer' : 'hot', 'fall' : 'colorful'}\n",
        "season_dict"
      ]
    },
    {
      "cell_type": "code",
      "execution_count": null,
      "id": "fa951fa6",
      "metadata": {
        "id": "fa951fa6",
        "colab": {
          "base_uri": "https://localhost:8080/"
        },
        "outputId": "fc10801c-66fd-4704-aa40-0e02cb27f874"
      },
      "outputs": [
        {
          "output_type": "execute_result",
          "data": {
            "text/plain": [
              "{'fall': 'colorful', 'summer': 'humid', 'winter': 'cold'}"
            ]
          },
          "metadata": {},
          "execution_count": 58
        }
      ],
      "source": [
        "season_dict = {\"winter\" : 'cold', 'summer' : 'hot', 'fall' : 'colorful', 'summer': 'humid'}\n",
        "season_dict"
      ]
    },
    {
      "cell_type": "code",
      "execution_count": null,
      "id": "623c8cad",
      "metadata": {
        "id": "623c8cad"
      },
      "outputs": [],
      "source": [
        "season_dict['spring'] = 'flowery'"
      ]
    },
    {
      "cell_type": "code",
      "source": [
        "\n",
        "season_dict"
      ],
      "metadata": {
        "colab": {
          "base_uri": "https://localhost:8080/"
        },
        "id": "mchPrhxIfKvU",
        "outputId": "8c5ea427-0a7a-497b-b17f-c109b224ba87"
      },
      "id": "mchPrhxIfKvU",
      "execution_count": null,
      "outputs": [
        {
          "output_type": "execute_result",
          "data": {
            "text/plain": [
              "{'fall': 'colorful', 'spring': 'flowery', 'summer': 'humid', 'winter': 'cold'}"
            ]
          },
          "metadata": {},
          "execution_count": 60
        }
      ]
    },
    {
      "cell_type": "markdown",
      "id": "fd236ec6",
      "metadata": {
        "id": "fd236ec6"
      },
      "source": [
        "## Object Methods and How To Use Them\n",
        "Use those keyboard shortcuts! <br>\n",
        "Jupyter Notebook -> Tab after period<br>\n",
        "Colab -> Cursor hover after period"
      ]
    },
    {
      "cell_type": "code",
      "execution_count": null,
      "id": "b482c3cc",
      "metadata": {
        "id": "b482c3cc",
        "colab": {
          "base_uri": "https://localhost:8080/",
          "height": 35
        },
        "outputId": "ebbd7c4c-ce2c-4083-c413-4852a9964490"
      },
      "outputs": [
        {
          "output_type": "execute_result",
          "data": {
            "application/vnd.google.colaboratory.intrinsic+json": {
              "type": "string"
            },
            "text/plain": [
              "'summer'"
            ]
          },
          "metadata": {},
          "execution_count": 75
        }
      ],
      "source": [
        "#some changes happen in place\n",
        "#pop\n",
        "season_list.pop(2)"
      ]
    },
    {
      "cell_type": "code",
      "source": [
        "season_list"
      ],
      "metadata": {
        "colab": {
          "base_uri": "https://localhost:8080/"
        },
        "id": "tNG6_nOngLEh",
        "outputId": "18ced279-7e36-4a0c-a573-ec4b22c41d5c"
      },
      "id": "tNG6_nOngLEh",
      "execution_count": null,
      "outputs": [
        {
          "output_type": "execute_result",
          "data": {
            "text/plain": [
              "['fall', 'winter', 'spring', 'spring']"
            ]
          },
          "metadata": {},
          "execution_count": 76
        }
      ]
    },
    {
      "cell_type": "code",
      "execution_count": null,
      "id": "66879b10",
      "metadata": {
        "id": "66879b10",
        "colab": {
          "base_uri": "https://localhost:8080/",
          "height": 201
        },
        "outputId": "d1dcbcd9-c655-48b6-d02a-0063d15af72e"
      },
      "outputs": [
        {
          "output_type": "error",
          "ename": "KeyError",
          "evalue": "ignored",
          "traceback": [
            "\u001b[0;31m---------------------------------------------------------------------------\u001b[0m",
            "\u001b[0;31mKeyError\u001b[0m                                  Traceback (most recent call last)",
            "\u001b[0;32m<ipython-input-81-04ebf4248798>\u001b[0m in \u001b[0;36m<module>\u001b[0;34m()\u001b[0m\n\u001b[1;32m      4\u001b[0m \u001b[0;34m\u001b[0m\u001b[0m\n\u001b[1;32m      5\u001b[0m \u001b[0mseason_dict\u001b[0m\u001b[0;34m.\u001b[0m\u001b[0mupdate\u001b[0m\u001b[0;34m(\u001b[0m\u001b[0;34m{\u001b[0m\u001b[0;34m'super_winter'\u001b[0m\u001b[0;34m:\u001b[0m\u001b[0;34m\"super_cold\"\u001b[0m\u001b[0;34m}\u001b[0m\u001b[0;34m)\u001b[0m\u001b[0;34m\u001b[0m\u001b[0;34m\u001b[0m\u001b[0m\n\u001b[0;32m----> 6\u001b[0;31m \u001b[0mseason_dict\u001b[0m\u001b[0;34m.\u001b[0m\u001b[0mpop\u001b[0m\u001b[0;34m(\u001b[0m\u001b[0;34m'fall'\u001b[0m\u001b[0;34m)\u001b[0m\u001b[0;34m\u001b[0m\u001b[0;34m\u001b[0m\u001b[0m\n\u001b[0m",
            "\u001b[0;31mKeyError\u001b[0m: 'fall'"
          ]
        }
      ],
      "source": [
        "#keys\n",
        "season_dict.keys()\n",
        "season_dict.values()\n",
        "\n",
        "season_dict.update({'super_winter':\"super_cold\"})\n"
      ]
    },
    {
      "cell_type": "code",
      "execution_count": null,
      "id": "cbb7f5d6",
      "metadata": {
        "id": "cbb7f5d6"
      },
      "outputs": [],
      "source": [
        "#pop\n",
        "\n",
        "#season_dict.pop('super_winter')\n",
        "season_dict.update({'cold':'hot'})"
      ]
    },
    {
      "cell_type": "code",
      "source": [
        "\n",
        "season_dict['warm'] = 'chilly'"
      ],
      "metadata": {
        "id": "TsSidKjshZxo"
      },
      "id": "TsSidKjshZxo",
      "execution_count": null,
      "outputs": []
    },
    {
      "cell_type": "code",
      "source": [
        "\n",
        "season_dict"
      ],
      "metadata": {
        "colab": {
          "base_uri": "https://localhost:8080/"
        },
        "id": "fRA0dFGhhhIk",
        "outputId": "d2022b29-128c-464d-99ef-96701bed2618"
      },
      "id": "fRA0dFGhhhIk",
      "execution_count": null,
      "outputs": [
        {
          "output_type": "execute_result",
          "data": {
            "text/plain": [
              "{'cold': 'hot', 'warm': 'chilly'}"
            ]
          },
          "metadata": {},
          "execution_count": 88
        }
      ]
    },
    {
      "cell_type": "code",
      "execution_count": null,
      "id": "78715f59",
      "metadata": {
        "id": "78715f59"
      },
      "outputs": [],
      "source": [
        "\n",
        "#clear\n",
        "season_dict.clear()"
      ]
    },
    {
      "cell_type": "code",
      "source": [
        "season_dict"
      ],
      "metadata": {
        "colab": {
          "base_uri": "https://localhost:8080/"
        },
        "id": "NnfT2ijUgo8B",
        "outputId": "928276bc-905b-4165-f434-fb399bbf9f04"
      },
      "id": "NnfT2ijUgo8B",
      "execution_count": null,
      "outputs": [
        {
          "output_type": "execute_result",
          "data": {
            "text/plain": [
              "{}"
            ]
          },
          "metadata": {},
          "execution_count": 78
        }
      ]
    },
    {
      "cell_type": "markdown",
      "id": "22b240e0",
      "metadata": {
        "id": "22b240e0"
      },
      "source": [
        "## Indexing"
      ]
    },
    {
      "cell_type": "code",
      "execution_count": null,
      "id": "080082e3",
      "metadata": {
        "id": "080082e3",
        "colab": {
          "base_uri": "https://localhost:8080/"
        },
        "outputId": "dca334e9-9bf6-4541-fc02-8a93b393d7c5"
      },
      "outputs": [
        {
          "output_type": "execute_result",
          "data": {
            "text/plain": [
              "['fall', 'winter', 'spring', 'spring']"
            ]
          },
          "metadata": {},
          "execution_count": 79
        }
      ],
      "source": [
        "season_list"
      ]
    },
    {
      "cell_type": "code",
      "execution_count": null,
      "id": "7e875866",
      "metadata": {
        "id": "7e875866",
        "colab": {
          "base_uri": "https://localhost:8080/",
          "height": 35
        },
        "outputId": "c450d666-2480-41bf-afd8-26796fd0c5f8"
      },
      "outputs": [
        {
          "output_type": "execute_result",
          "data": {
            "application/vnd.google.colaboratory.intrinsic+json": {
              "type": "string"
            },
            "text/plain": [
              "'spring'"
            ]
          },
          "metadata": {},
          "execution_count": 80
        }
      ],
      "source": [
        "season_list.pop(-1)"
      ]
    },
    {
      "cell_type": "code",
      "execution_count": null,
      "id": "f2c41baf",
      "metadata": {
        "id": "f2c41baf",
        "colab": {
          "base_uri": "https://localhost:8080/"
        },
        "outputId": "4cba3c3d-6977-43ec-c819-1499bd14cc7c"
      },
      "outputs": [
        {
          "output_type": "stream",
          "name": "stdout",
          "text": [
            "<class 'str'>\n"
          ]
        },
        {
          "output_type": "execute_result",
          "data": {
            "text/plain": [
              "['winter', 'spring']"
            ]
          },
          "metadata": {},
          "execution_count": 101
        }
      ],
      "source": [
        "print(type(season_list[0]))\n",
        "season_list[0]\n",
        "season_list[1:]\n"
      ]
    },
    {
      "cell_type": "markdown",
      "id": "b2fa83ab",
      "metadata": {
        "id": "b2fa83ab"
      },
      "source": [
        "## Loops"
      ]
    },
    {
      "cell_type": "code",
      "execution_count": null,
      "id": "acfcd571",
      "metadata": {
        "id": "acfcd571",
        "colab": {
          "base_uri": "https://localhost:8080/"
        },
        "outputId": "b6f268cc-8494-4f5d-b249-adf1622655f9"
      },
      "outputs": [
        {
          "output_type": "stream",
          "name": "stdout",
          "text": [
            "Fall\n",
            "Winter\n",
            "Spring\n"
          ]
        }
      ],
      "source": [
        "for i in season_list:\n",
        "  print(i.capitalize())"
      ]
    },
    {
      "cell_type": "code",
      "execution_count": null,
      "id": "43676f14",
      "metadata": {
        "id": "43676f14",
        "colab": {
          "base_uri": "https://localhost:8080/"
        },
        "outputId": "d1b3583b-d4ef-474b-f68a-f4fb02b1d374"
      },
      "outputs": [
        {
          "output_type": "execute_result",
          "data": {
            "text/plain": [
              "['fall', 'winter', 'spring']"
            ]
          },
          "metadata": {},
          "execution_count": 107
        }
      ],
      "source": [
        "season_list"
      ]
    },
    {
      "cell_type": "markdown",
      "id": "d4bf496b",
      "metadata": {
        "id": "d4bf496b"
      },
      "source": [
        "## Conditionals"
      ]
    },
    {
      "cell_type": "code",
      "execution_count": null,
      "id": "55f747e6",
      "metadata": {
        "id": "55f747e6",
        "colab": {
          "base_uri": "https://localhost:8080/"
        },
        "outputId": "8ceb2f7a-9829-4918-e9f2-0a396435c2bd"
      },
      "outputs": [
        {
          "output_type": "execute_result",
          "data": {
            "text/plain": [
              "7"
            ]
          },
          "metadata": {},
          "execution_count": 108
        }
      ],
      "source": [
        "y"
      ]
    },
    {
      "cell_type": "code",
      "execution_count": null,
      "id": "7a35dd0c",
      "metadata": {
        "id": "7a35dd0c",
        "colab": {
          "base_uri": "https://localhost:8080/"
        },
        "outputId": "e19cd8dd-f6d6-40e5-ea9e-29cee7d7ae87"
      },
      "outputs": [
        {
          "output_type": "stream",
          "name": "stdout",
          "text": [
            "Y is greater than 7\n"
          ]
        }
      ],
      "source": [
        "if y >= 7: \n",
        "  print(\"Y is greater than 7\")"
      ]
    },
    {
      "cell_type": "code",
      "execution_count": null,
      "id": "ca05f1b2",
      "metadata": {
        "id": "ca05f1b2",
        "colab": {
          "base_uri": "https://localhost:8080/"
        },
        "outputId": "43e4d84e-b374-4e02-e375-90f1945a9669"
      },
      "outputs": [
        {
          "output_type": "stream",
          "name": "stdout",
          "text": [
            "Y is not greater than 7\n"
          ]
        }
      ],
      "source": [
        "if y > 7: \n",
        "  print(\"Y is greater than 7\")\n",
        "else:\n",
        "  print(\"Y is not greater than 7\")"
      ]
    },
    {
      "cell_type": "code",
      "execution_count": null,
      "id": "216654a2",
      "metadata": {
        "id": "216654a2"
      },
      "outputs": [],
      "source": []
    },
    {
      "cell_type": "code",
      "source": [
        "even_numbers"
      ],
      "metadata": {
        "colab": {
          "base_uri": "https://localhost:8080/"
        },
        "id": "d1-spsPkHfju",
        "outputId": "fb8dd9af-5bb2-4120-f6a0-1b021f8122e8"
      },
      "id": "d1-spsPkHfju",
      "execution_count": null,
      "outputs": [
        {
          "output_type": "execute_result",
          "data": {
            "text/plain": [
              "[]"
            ]
          },
          "metadata": {},
          "execution_count": 149
        }
      ]
    },
    {
      "cell_type": "code",
      "execution_count": null,
      "id": "5dcdb611",
      "metadata": {
        "id": "5dcdb611",
        "colab": {
          "base_uri": "https://localhost:8080/"
        },
        "outputId": "81563ca1-5063-4eee-c116-c2c668d4a35d"
      },
      "outputs": [
        {
          "output_type": "execute_result",
          "data": {
            "text/plain": [
              "[0, 2, 4, 6, 8]"
            ]
          },
          "metadata": {},
          "execution_count": 160
        }
      ],
      "source": [
        "#create empty lists \n",
        "even_numbers = []\n",
        "odd_numbers = [\n",
        "]\n",
        "for i in range(10):\n",
        "  if i % 2 == 0:\n",
        "    even_numbers.append(i)\n",
        "  else:\n",
        "    odd_numbers.append(i)\n",
        "even_numbers"
      ]
    },
    {
      "cell_type": "code",
      "source": [
        "[print(i, \"is even\") if i % 2 == 0 else print(i, \"is odd\") for i in range(10)]"
      ],
      "metadata": {
        "colab": {
          "base_uri": "https://localhost:8080/"
        },
        "id": "9vUpvnZFlU7o",
        "outputId": "cdf5533b-46fd-4421-f573-45bdeee91a30"
      },
      "id": "9vUpvnZFlU7o",
      "execution_count": null,
      "outputs": [
        {
          "output_type": "stream",
          "name": "stdout",
          "text": [
            "0 is even\n",
            "1 is odd\n",
            "2 is even\n",
            "3 is odd\n",
            "4 is even\n",
            "5 is odd\n",
            "6 is even\n",
            "7 is odd\n",
            "8 is even\n",
            "9 is odd\n"
          ]
        },
        {
          "output_type": "execute_result",
          "data": {
            "text/plain": [
              "[None, None, None, None, None, None, None, None, None, None]"
            ]
          },
          "metadata": {},
          "execution_count": 120
        }
      ]
    },
    {
      "cell_type": "markdown",
      "id": "3767aa2d",
      "metadata": {
        "id": "3767aa2d"
      },
      "source": [
        "## Imports"
      ]
    },
    {
      "cell_type": "code",
      "source": [],
      "metadata": {
        "id": "E0ZqbLVv_2iA"
      },
      "id": "E0ZqbLVv_2iA",
      "execution_count": null,
      "outputs": []
    },
    {
      "cell_type": "code",
      "execution_count": null,
      "id": "81be78ca",
      "metadata": {
        "id": "81be78ca"
      },
      "outputs": [],
      "source": [
        "import pandas as pd\n"
      ]
    },
    {
      "cell_type": "code",
      "source": [],
      "metadata": {
        "id": "Ak7QTdkgltyi"
      },
      "id": "Ak7QTdkgltyi",
      "execution_count": null,
      "outputs": []
    },
    {
      "cell_type": "markdown",
      "id": "bcc9d485",
      "metadata": {
        "id": "bcc9d485"
      },
      "source": [
        "The most popular data science libraries are numpy, pandas and matplotlib (for visualizations)"
      ]
    },
    {
      "cell_type": "code",
      "execution_count": null,
      "id": "5a21459d",
      "metadata": {
        "id": "5a21459d"
      },
      "outputs": [],
      "source": [
        "#import pandas as pd\n",
        "import pandas as pd"
      ]
    },
    {
      "cell_type": "code",
      "execution_count": null,
      "id": "e004ea6b",
      "metadata": {
        "id": "e004ea6b",
        "colab": {
          "base_uri": "https://localhost:8080/"
        },
        "outputId": "6de5d5c3-f489-43a1-ecd0-76e4fd192493"
      },
      "outputs": [
        {
          "output_type": "stream",
          "name": "stdout",
          "text": [
            "The Zen of Python, by Tim Peters\n",
            "\n",
            "Beautiful is better than ugly.\n",
            "Explicit is better than implicit.\n",
            "Simple is better than complex.\n",
            "Complex is better than complicated.\n",
            "Flat is better than nested.\n",
            "Sparse is better than dense.\n",
            "Readability counts.\n",
            "Special cases aren't special enough to break the rules.\n",
            "Although practicality beats purity.\n",
            "Errors should never pass silently.\n",
            "Unless explicitly silenced.\n",
            "In the face of ambiguity, refuse the temptation to guess.\n",
            "There should be one-- and preferably only one --obvious way to do it.\n",
            "Although that way may not be obvious at first unless you're Dutch.\n",
            "Now is better than never.\n",
            "Although never is often better than *right* now.\n",
            "If the implementation is hard to explain, it's a bad idea.\n",
            "If the implementation is easy to explain, it may be a good idea.\n",
            "Namespaces are one honking great idea -- let's do more of those!\n"
          ]
        }
      ],
      "source": [
        "import this "
      ]
    },
    {
      "cell_type": "code",
      "execution_count": null,
      "id": "196fc5bb",
      "metadata": {
        "id": "196fc5bb"
      },
      "outputs": [],
      "source": [
        "import seaborn as sns"
      ]
    },
    {
      "cell_type": "code",
      "execution_count": null,
      "id": "1580756e",
      "metadata": {
        "id": "1580756e"
      },
      "outputs": [],
      "source": [
        "diamonds = sns.load_dataset('diamonds')"
      ]
    },
    {
      "cell_type": "code",
      "execution_count": null,
      "id": "59b1874c",
      "metadata": {
        "id": "59b1874c",
        "colab": {
          "base_uri": "https://localhost:8080/"
        },
        "outputId": "bdfdf32e-1018-491a-c40d-46fb24fcd19f"
      },
      "outputs": [
        {
          "output_type": "execute_result",
          "data": {
            "text/plain": [
              "pandas.core.frame.DataFrame"
            ]
          },
          "metadata": {},
          "execution_count": 127
        }
      ],
      "source": [
        "type(diamonds)"
      ]
    },
    {
      "cell_type": "code",
      "execution_count": null,
      "id": "d2c6693e",
      "metadata": {
        "id": "d2c6693e"
      },
      "outputs": [],
      "source": []
    },
    {
      "cell_type": "code",
      "execution_count": null,
      "id": "4813e8e5",
      "metadata": {
        "id": "4813e8e5"
      },
      "outputs": [],
      "source": []
    },
    {
      "cell_type": "markdown",
      "source": [
        "### Office Hours"
      ],
      "metadata": {
        "id": "sfhZnbXp_3o0"
      },
      "id": "sfhZnbXp_3o0"
    },
    {
      "cell_type": "code",
      "source": [
        "random_list = ['fall', 'winter', 'summer', ['spring', 'spring'], (1,2,3), \"not a season\", \"not fall\"]"
      ],
      "metadata": {
        "id": "31Q9qDtN_4y_"
      },
      "id": "31Q9qDtN_4y_",
      "execution_count": null,
      "outputs": []
    },
    {
      "cell_type": "code",
      "source": [
        "len(random_list)"
      ],
      "metadata": {
        "colab": {
          "base_uri": "https://localhost:8080/"
        },
        "id": "QzgrmpcTGieL",
        "outputId": "955f8e53-494c-4c2d-c623-0cabc2a4f916"
      },
      "id": "QzgrmpcTGieL",
      "execution_count": null,
      "outputs": [
        {
          "output_type": "execute_result",
          "data": {
            "text/plain": [
              "7"
            ]
          },
          "metadata": {},
          "execution_count": 129
        }
      ]
    },
    {
      "cell_type": "code",
      "source": [
        "random_list[3][0]"
      ],
      "metadata": {
        "colab": {
          "base_uri": "https://localhost:8080/",
          "height": 35
        },
        "id": "Jm6hxIQuGu-4",
        "outputId": "b8bb9a04-f056-4cb1-d011-b094f863322f"
      },
      "id": "Jm6hxIQuGu-4",
      "execution_count": null,
      "outputs": [
        {
          "output_type": "execute_result",
          "data": {
            "application/vnd.google.colaboratory.intrinsic+json": {
              "type": "string"
            },
            "text/plain": [
              "'spring'"
            ]
          },
          "metadata": {},
          "execution_count": 134
        }
      ]
    },
    {
      "cell_type": "code",
      "source": [],
      "metadata": {
        "id": "bM6T-OMlGzCf"
      },
      "id": "bM6T-OMlGzCf",
      "execution_count": null,
      "outputs": []
    }
  ],
  "metadata": {
    "kernelspec": {
      "display_name": "Python 3",
      "language": "python",
      "name": "python3"
    },
    "language_info": {
      "codemirror_mode": {
        "name": "ipython",
        "version": 3
      },
      "file_extension": ".py",
      "mimetype": "text/x-python",
      "name": "python",
      "nbconvert_exporter": "python",
      "pygments_lexer": "ipython3",
      "version": "3.8.8"
    },
    "colab": {
      "provenance": []
    }
  },
  "nbformat": 4,
  "nbformat_minor": 5
}